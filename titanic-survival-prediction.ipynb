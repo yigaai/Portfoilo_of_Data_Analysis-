{
 "cells": [
  {
   "cell_type": "markdown",
   "id": "07217cce",
   "metadata": {
    "papermill": {
     "duration": 0.00722,
     "end_time": "2025-04-09T12:11:32.314366",
     "exception": false,
     "start_time": "2025-04-09T12:11:32.307146",
     "status": "completed"
    },
    "tags": []
   },
   "source": [
    "# 🛳️ **Titanic Survival Prediction**  "
   ]
  },
  {
   "cell_type": "markdown",
   "id": "0eaa5e15",
   "metadata": {
    "papermill": {
     "duration": 0.006527,
     "end_time": "2025-04-09T12:11:32.328189",
     "exception": false,
     "start_time": "2025-04-09T12:11:32.321662",
     "status": "completed"
    },
    "tags": []
   },
   "source": [
    "# ***🎯 Goals & Tasks:*** \n",
    "\n",
    "* 1. Provide insight by means of data. "
   ]
  },
  {
   "cell_type": "markdown",
   "id": "09aef4fe",
   "metadata": {
    "papermill": {
     "duration": 0.006176,
     "end_time": "2025-04-09T12:11:32.341014",
     "exception": false,
     "start_time": "2025-04-09T12:11:32.334838",
     "status": "completed"
    },
    "tags": []
   },
   "source": [
    "# ***🗂️ Import Libraries*** "
   ]
  },
  {
   "cell_type": "code",
   "execution_count": 1,
   "id": "956a36a1",
   "metadata": {
    "execution": {
     "iopub.execute_input": "2025-04-09T12:11:32.356180Z",
     "iopub.status.busy": "2025-04-09T12:11:32.355624Z",
     "iopub.status.idle": "2025-04-09T12:11:37.919484Z",
     "shell.execute_reply": "2025-04-09T12:11:37.918278Z"
    },
    "papermill": {
     "duration": 5.573871,
     "end_time": "2025-04-09T12:11:37.921482",
     "exception": false,
     "start_time": "2025-04-09T12:11:32.347611",
     "status": "completed"
    },
    "tags": []
   },
   "outputs": [],
   "source": [
    "import os\n",
    "\n",
    "import pandas as pd\n",
    "import numpy as np\n",
    "\n",
    "# to visualize the dataset\n",
    "import matplotlib.pyplot as plt\n",
    "import seaborn as sns\n",
    "import plotly.express as px\n",
    "\n",
    "# To preprocess the data\n",
    "from sklearn.preprocessing import StandardScaler, LabelEncoder, MinMaxScaler\n",
    "\n",
    "# machine learning\n",
    "from sklearn.model_selection import train_test_split, GridSearchCV, cross_val_score\n",
    "#for classification tasks\n",
    "from sklearn.linear_model import LogisticRegression\n",
    "from sklearn.neighbors import KNeighborsClassifier\n",
    "from sklearn.svm import SVC\n",
    "from sklearn.tree import DecisionTreeClassifier\n",
    "from sklearn.ensemble import RandomForestClassifier, AdaBoostClassifier, GradientBoostingClassifier, RandomForestRegressor\n",
    "from xgboost import XGBClassifier\n",
    "#metrics\n",
    "from sklearn.metrics import accuracy_score, f1_score, precision_score, recall_score\n",
    "\n",
    "# ignore warnings   \n",
    "import warnings\n",
    "warnings.filterwarnings('ignore') "
   ]
  },
  {
   "cell_type": "markdown",
   "id": "5ac70a30",
   "metadata": {
    "papermill": {
     "duration": 0.00691,
     "end_time": "2025-04-09T12:11:37.935528",
     "exception": false,
     "start_time": "2025-04-09T12:11:37.928618",
     "status": "completed"
    },
    "tags": []
   },
   "source": [
    "# ***⏳ Data Loading*** "
   ]
  },
  {
   "cell_type": "code",
   "execution_count": 2,
   "id": "30e68079",
   "metadata": {
    "execution": {
     "iopub.execute_input": "2025-04-09T12:11:37.950898Z",
     "iopub.status.busy": "2025-04-09T12:11:37.950237Z",
     "iopub.status.idle": "2025-04-09T12:11:37.978742Z",
     "shell.execute_reply": "2025-04-09T12:11:37.977593Z"
    },
    "papermill": {
     "duration": 0.038119,
     "end_time": "2025-04-09T12:11:37.980737",
     "exception": false,
     "start_time": "2025-04-09T12:11:37.942618",
     "status": "completed"
    },
    "tags": []
   },
   "outputs": [],
   "source": [
    "os.listdir('/kaggle/input/titanic-data')  \n",
    "df = pd.read_csv('/kaggle/input/titanic-data/train.csv') "
   ]
  },
  {
   "cell_type": "markdown",
   "id": "cdb50754",
   "metadata": {
    "papermill": {
     "duration": 0.006522,
     "end_time": "2025-04-09T12:11:37.994163",
     "exception": false,
     "start_time": "2025-04-09T12:11:37.987641",
     "status": "completed"
    },
    "tags": []
   },
   "source": [
    "# ***🔭 Data Exploration***  "
   ]
  },
  {
   "cell_type": "markdown",
   "id": "8802397e",
   "metadata": {
    "papermill": {
     "duration": 0.006255,
     "end_time": "2025-04-09T12:11:38.006962",
     "exception": false,
     "start_time": "2025-04-09T12:11:38.000707",
     "status": "completed"
    },
    "tags": []
   },
   "source": [
    "### 1. 🔍 **Take a Glimpse of Data**"
   ]
  },
  {
   "cell_type": "code",
   "execution_count": 3,
   "id": "1342f0de",
   "metadata": {
    "execution": {
     "iopub.execute_input": "2025-04-09T12:11:38.021258Z",
     "iopub.status.busy": "2025-04-09T12:11:38.020913Z",
     "iopub.status.idle": "2025-04-09T12:11:38.052570Z",
     "shell.execute_reply": "2025-04-09T12:11:38.051350Z"
    },
    "papermill": {
     "duration": 0.040905,
     "end_time": "2025-04-09T12:11:38.054378",
     "exception": false,
     "start_time": "2025-04-09T12:11:38.013473",
     "status": "completed"
    },
    "tags": []
   },
   "outputs": [
    {
     "data": {
      "text/html": [
       "<div>\n",
       "<style scoped>\n",
       "    .dataframe tbody tr th:only-of-type {\n",
       "        vertical-align: middle;\n",
       "    }\n",
       "\n",
       "    .dataframe tbody tr th {\n",
       "        vertical-align: top;\n",
       "    }\n",
       "\n",
       "    .dataframe thead th {\n",
       "        text-align: right;\n",
       "    }\n",
       "</style>\n",
       "<table border=\"1\" class=\"dataframe\">\n",
       "  <thead>\n",
       "    <tr style=\"text-align: right;\">\n",
       "      <th></th>\n",
       "      <th>PassengerId</th>\n",
       "      <th>Survived</th>\n",
       "      <th>Pclass</th>\n",
       "      <th>Name</th>\n",
       "      <th>Sex</th>\n",
       "      <th>Age</th>\n",
       "      <th>SibSp</th>\n",
       "      <th>Parch</th>\n",
       "      <th>Ticket</th>\n",
       "      <th>Fare</th>\n",
       "      <th>Cabin</th>\n",
       "      <th>Embarked</th>\n",
       "    </tr>\n",
       "  </thead>\n",
       "  <tbody>\n",
       "    <tr>\n",
       "      <th>0</th>\n",
       "      <td>1</td>\n",
       "      <td>0</td>\n",
       "      <td>3</td>\n",
       "      <td>Braund, Mr. Owen Harris</td>\n",
       "      <td>male</td>\n",
       "      <td>22.0</td>\n",
       "      <td>1</td>\n",
       "      <td>0</td>\n",
       "      <td>A/5 21171</td>\n",
       "      <td>7.2500</td>\n",
       "      <td>NaN</td>\n",
       "      <td>S</td>\n",
       "    </tr>\n",
       "    <tr>\n",
       "      <th>1</th>\n",
       "      <td>2</td>\n",
       "      <td>1</td>\n",
       "      <td>1</td>\n",
       "      <td>Cumings, Mrs. John Bradley (Florence Briggs Th...</td>\n",
       "      <td>female</td>\n",
       "      <td>38.0</td>\n",
       "      <td>1</td>\n",
       "      <td>0</td>\n",
       "      <td>PC 17599</td>\n",
       "      <td>71.2833</td>\n",
       "      <td>C85</td>\n",
       "      <td>C</td>\n",
       "    </tr>\n",
       "    <tr>\n",
       "      <th>2</th>\n",
       "      <td>3</td>\n",
       "      <td>1</td>\n",
       "      <td>3</td>\n",
       "      <td>Heikkinen, Miss. Laina</td>\n",
       "      <td>female</td>\n",
       "      <td>26.0</td>\n",
       "      <td>0</td>\n",
       "      <td>0</td>\n",
       "      <td>STON/O2. 3101282</td>\n",
       "      <td>7.9250</td>\n",
       "      <td>NaN</td>\n",
       "      <td>S</td>\n",
       "    </tr>\n",
       "    <tr>\n",
       "      <th>3</th>\n",
       "      <td>4</td>\n",
       "      <td>1</td>\n",
       "      <td>1</td>\n",
       "      <td>Futrelle, Mrs. Jacques Heath (Lily May Peel)</td>\n",
       "      <td>female</td>\n",
       "      <td>35.0</td>\n",
       "      <td>1</td>\n",
       "      <td>0</td>\n",
       "      <td>113803</td>\n",
       "      <td>53.1000</td>\n",
       "      <td>C123</td>\n",
       "      <td>S</td>\n",
       "    </tr>\n",
       "    <tr>\n",
       "      <th>4</th>\n",
       "      <td>5</td>\n",
       "      <td>0</td>\n",
       "      <td>3</td>\n",
       "      <td>Allen, Mr. William Henry</td>\n",
       "      <td>male</td>\n",
       "      <td>35.0</td>\n",
       "      <td>0</td>\n",
       "      <td>0</td>\n",
       "      <td>373450</td>\n",
       "      <td>8.0500</td>\n",
       "      <td>NaN</td>\n",
       "      <td>S</td>\n",
       "    </tr>\n",
       "  </tbody>\n",
       "</table>\n",
       "</div>"
      ],
      "text/plain": [
       "   PassengerId  Survived  Pclass  \\\n",
       "0            1         0       3   \n",
       "1            2         1       1   \n",
       "2            3         1       3   \n",
       "3            4         1       1   \n",
       "4            5         0       3   \n",
       "\n",
       "                                                Name     Sex   Age  SibSp  \\\n",
       "0                            Braund, Mr. Owen Harris    male  22.0      1   \n",
       "1  Cumings, Mrs. John Bradley (Florence Briggs Th...  female  38.0      1   \n",
       "2                             Heikkinen, Miss. Laina  female  26.0      0   \n",
       "3       Futrelle, Mrs. Jacques Heath (Lily May Peel)  female  35.0      1   \n",
       "4                           Allen, Mr. William Henry    male  35.0      0   \n",
       "\n",
       "   Parch            Ticket     Fare Cabin Embarked  \n",
       "0      0         A/5 21171   7.2500   NaN        S  \n",
       "1      0          PC 17599  71.2833   C85        C  \n",
       "2      0  STON/O2. 3101282   7.9250   NaN        S  \n",
       "3      0            113803  53.1000  C123        S  \n",
       "4      0            373450   8.0500   NaN        S  "
      ]
     },
     "execution_count": 3,
     "metadata": {},
     "output_type": "execute_result"
    }
   ],
   "source": [
    "df.head(5) "
   ]
  },
  {
   "cell_type": "code",
   "execution_count": 4,
   "id": "9a50b20c",
   "metadata": {
    "execution": {
     "iopub.execute_input": "2025-04-09T12:11:38.069786Z",
     "iopub.status.busy": "2025-04-09T12:11:38.069337Z",
     "iopub.status.idle": "2025-04-09T12:11:38.083859Z",
     "shell.execute_reply": "2025-04-09T12:11:38.082599Z"
    },
    "papermill": {
     "duration": 0.024217,
     "end_time": "2025-04-09T12:11:38.085690",
     "exception": false,
     "start_time": "2025-04-09T12:11:38.061473",
     "status": "completed"
    },
    "tags": []
   },
   "outputs": [
    {
     "data": {
      "text/html": [
       "<div>\n",
       "<style scoped>\n",
       "    .dataframe tbody tr th:only-of-type {\n",
       "        vertical-align: middle;\n",
       "    }\n",
       "\n",
       "    .dataframe tbody tr th {\n",
       "        vertical-align: top;\n",
       "    }\n",
       "\n",
       "    .dataframe thead th {\n",
       "        text-align: right;\n",
       "    }\n",
       "</style>\n",
       "<table border=\"1\" class=\"dataframe\">\n",
       "  <thead>\n",
       "    <tr style=\"text-align: right;\">\n",
       "      <th></th>\n",
       "      <th>PassengerId</th>\n",
       "      <th>Survived</th>\n",
       "      <th>Pclass</th>\n",
       "      <th>Name</th>\n",
       "      <th>Sex</th>\n",
       "      <th>Age</th>\n",
       "      <th>SibSp</th>\n",
       "      <th>Parch</th>\n",
       "      <th>Ticket</th>\n",
       "      <th>Fare</th>\n",
       "      <th>Cabin</th>\n",
       "      <th>Embarked</th>\n",
       "    </tr>\n",
       "  </thead>\n",
       "  <tbody>\n",
       "    <tr>\n",
       "      <th>886</th>\n",
       "      <td>887</td>\n",
       "      <td>0</td>\n",
       "      <td>2</td>\n",
       "      <td>Montvila, Rev. Juozas</td>\n",
       "      <td>male</td>\n",
       "      <td>27.0</td>\n",
       "      <td>0</td>\n",
       "      <td>0</td>\n",
       "      <td>211536</td>\n",
       "      <td>13.00</td>\n",
       "      <td>NaN</td>\n",
       "      <td>S</td>\n",
       "    </tr>\n",
       "    <tr>\n",
       "      <th>887</th>\n",
       "      <td>888</td>\n",
       "      <td>1</td>\n",
       "      <td>1</td>\n",
       "      <td>Graham, Miss. Margaret Edith</td>\n",
       "      <td>female</td>\n",
       "      <td>19.0</td>\n",
       "      <td>0</td>\n",
       "      <td>0</td>\n",
       "      <td>112053</td>\n",
       "      <td>30.00</td>\n",
       "      <td>B42</td>\n",
       "      <td>S</td>\n",
       "    </tr>\n",
       "    <tr>\n",
       "      <th>888</th>\n",
       "      <td>889</td>\n",
       "      <td>0</td>\n",
       "      <td>3</td>\n",
       "      <td>Johnston, Miss. Catherine Helen \"Carrie\"</td>\n",
       "      <td>female</td>\n",
       "      <td>NaN</td>\n",
       "      <td>1</td>\n",
       "      <td>2</td>\n",
       "      <td>W./C. 6607</td>\n",
       "      <td>23.45</td>\n",
       "      <td>NaN</td>\n",
       "      <td>S</td>\n",
       "    </tr>\n",
       "    <tr>\n",
       "      <th>889</th>\n",
       "      <td>890</td>\n",
       "      <td>1</td>\n",
       "      <td>1</td>\n",
       "      <td>Behr, Mr. Karl Howell</td>\n",
       "      <td>male</td>\n",
       "      <td>26.0</td>\n",
       "      <td>0</td>\n",
       "      <td>0</td>\n",
       "      <td>111369</td>\n",
       "      <td>30.00</td>\n",
       "      <td>C148</td>\n",
       "      <td>C</td>\n",
       "    </tr>\n",
       "    <tr>\n",
       "      <th>890</th>\n",
       "      <td>891</td>\n",
       "      <td>0</td>\n",
       "      <td>3</td>\n",
       "      <td>Dooley, Mr. Patrick</td>\n",
       "      <td>male</td>\n",
       "      <td>32.0</td>\n",
       "      <td>0</td>\n",
       "      <td>0</td>\n",
       "      <td>370376</td>\n",
       "      <td>7.75</td>\n",
       "      <td>NaN</td>\n",
       "      <td>Q</td>\n",
       "    </tr>\n",
       "  </tbody>\n",
       "</table>\n",
       "</div>"
      ],
      "text/plain": [
       "     PassengerId  Survived  Pclass                                      Name  \\\n",
       "886          887         0       2                     Montvila, Rev. Juozas   \n",
       "887          888         1       1              Graham, Miss. Margaret Edith   \n",
       "888          889         0       3  Johnston, Miss. Catherine Helen \"Carrie\"   \n",
       "889          890         1       1                     Behr, Mr. Karl Howell   \n",
       "890          891         0       3                       Dooley, Mr. Patrick   \n",
       "\n",
       "        Sex   Age  SibSp  Parch      Ticket   Fare Cabin Embarked  \n",
       "886    male  27.0      0      0      211536  13.00   NaN        S  \n",
       "887  female  19.0      0      0      112053  30.00   B42        S  \n",
       "888  female   NaN      1      2  W./C. 6607  23.45   NaN        S  \n",
       "889    male  26.0      0      0      111369  30.00  C148        C  \n",
       "890    male  32.0      0      0      370376   7.75   NaN        Q  "
      ]
     },
     "execution_count": 4,
     "metadata": {},
     "output_type": "execute_result"
    }
   ],
   "source": [
    "df.tail() "
   ]
  },
  {
   "cell_type": "markdown",
   "id": "1c802977",
   "metadata": {
    "papermill": {
     "duration": 0.006579,
     "end_time": "2025-04-09T12:11:38.099592",
     "exception": false,
     "start_time": "2025-04-09T12:11:38.093013",
     "status": "completed"
    },
    "tags": []
   },
   "source": [
    "### 2. 🔍 **DataType of Each Column**"
   ]
  },
  {
   "cell_type": "code",
   "execution_count": 5,
   "id": "5ed9cd3b",
   "metadata": {
    "execution": {
     "iopub.execute_input": "2025-04-09T12:11:38.114645Z",
     "iopub.status.busy": "2025-04-09T12:11:38.114145Z",
     "iopub.status.idle": "2025-04-09T12:11:38.145987Z",
     "shell.execute_reply": "2025-04-09T12:11:38.144734Z"
    },
    "papermill": {
     "duration": 0.041397,
     "end_time": "2025-04-09T12:11:38.147840",
     "exception": false,
     "start_time": "2025-04-09T12:11:38.106443",
     "status": "completed"
    },
    "tags": []
   },
   "outputs": [
    {
     "name": "stdout",
     "output_type": "stream",
     "text": [
      "<class 'pandas.core.frame.DataFrame'>\n",
      "RangeIndex: 891 entries, 0 to 890\n",
      "Data columns (total 12 columns):\n",
      " #   Column       Non-Null Count  Dtype  \n",
      "---  ------       --------------  -----  \n",
      " 0   PassengerId  891 non-null    int64  \n",
      " 1   Survived     891 non-null    int64  \n",
      " 2   Pclass       891 non-null    int64  \n",
      " 3   Name         891 non-null    object \n",
      " 4   Sex          891 non-null    object \n",
      " 5   Age          714 non-null    float64\n",
      " 6   SibSp        891 non-null    int64  \n",
      " 7   Parch        891 non-null    int64  \n",
      " 8   Ticket       891 non-null    object \n",
      " 9   Fare         891 non-null    float64\n",
      " 10  Cabin        204 non-null    object \n",
      " 11  Embarked     889 non-null    object \n",
      "dtypes: float64(2), int64(5), object(5)\n",
      "memory usage: 83.7+ KB\n"
     ]
    }
   ],
   "source": [
    "df.info() "
   ]
  },
  {
   "cell_type": "markdown",
   "id": "a83b4b02",
   "metadata": {
    "papermill": {
     "duration": 0.007022,
     "end_time": "2025-04-09T12:11:38.162237",
     "exception": false,
     "start_time": "2025-04-09T12:11:38.155215",
     "status": "completed"
    },
    "tags": []
   },
   "source": [
    "### 3. 🔍 **Dimensions of the DataFrame**"
   ]
  },
  {
   "cell_type": "code",
   "execution_count": 6,
   "id": "fd5bdbf5",
   "metadata": {
    "execution": {
     "iopub.execute_input": "2025-04-09T12:11:38.177512Z",
     "iopub.status.busy": "2025-04-09T12:11:38.177044Z",
     "iopub.status.idle": "2025-04-09T12:11:38.182981Z",
     "shell.execute_reply": "2025-04-09T12:11:38.181864Z"
    },
    "papermill": {
     "duration": 0.015451,
     "end_time": "2025-04-09T12:11:38.184620",
     "exception": false,
     "start_time": "2025-04-09T12:11:38.169169",
     "status": "completed"
    },
    "tags": []
   },
   "outputs": [
    {
     "name": "stdout",
     "output_type": "stream",
     "text": [
      "Rows: 891\n",
      "Columns: 12\n"
     ]
    }
   ],
   "source": [
    "print(f'Rows: {df.shape[0]}')\n",
    "print(f'Columns: {df.shape[1]}')  "
   ]
  },
  {
   "cell_type": "markdown",
   "id": "02c53338",
   "metadata": {
    "papermill": {
     "duration": 0.007071,
     "end_time": "2025-04-09T12:11:38.198976",
     "exception": false,
     "start_time": "2025-04-09T12:11:38.191905",
     "status": "completed"
    },
    "tags": []
   },
   "source": [
    "### 4. 🔍 **Descriptive Statistics for numerical & categorical variables**"
   ]
  },
  {
   "cell_type": "code",
   "execution_count": 7,
   "id": "08210903",
   "metadata": {
    "execution": {
     "iopub.execute_input": "2025-04-09T12:11:38.214288Z",
     "iopub.status.busy": "2025-04-09T12:11:38.213954Z",
     "iopub.status.idle": "2025-04-09T12:11:38.243271Z",
     "shell.execute_reply": "2025-04-09T12:11:38.242120Z"
    },
    "papermill": {
     "duration": 0.039349,
     "end_time": "2025-04-09T12:11:38.245316",
     "exception": false,
     "start_time": "2025-04-09T12:11:38.205967",
     "status": "completed"
    },
    "tags": []
   },
   "outputs": [
    {
     "data": {
      "text/html": [
       "<div>\n",
       "<style scoped>\n",
       "    .dataframe tbody tr th:only-of-type {\n",
       "        vertical-align: middle;\n",
       "    }\n",
       "\n",
       "    .dataframe tbody tr th {\n",
       "        vertical-align: top;\n",
       "    }\n",
       "\n",
       "    .dataframe thead th {\n",
       "        text-align: right;\n",
       "    }\n",
       "</style>\n",
       "<table border=\"1\" class=\"dataframe\">\n",
       "  <thead>\n",
       "    <tr style=\"text-align: right;\">\n",
       "      <th></th>\n",
       "      <th>PassengerId</th>\n",
       "      <th>Survived</th>\n",
       "      <th>Pclass</th>\n",
       "      <th>Age</th>\n",
       "      <th>SibSp</th>\n",
       "      <th>Parch</th>\n",
       "      <th>Fare</th>\n",
       "    </tr>\n",
       "  </thead>\n",
       "  <tbody>\n",
       "    <tr>\n",
       "      <th>count</th>\n",
       "      <td>891.000000</td>\n",
       "      <td>891.000000</td>\n",
       "      <td>891.000000</td>\n",
       "      <td>714.000000</td>\n",
       "      <td>891.000000</td>\n",
       "      <td>891.000000</td>\n",
       "      <td>891.000000</td>\n",
       "    </tr>\n",
       "    <tr>\n",
       "      <th>mean</th>\n",
       "      <td>446.000000</td>\n",
       "      <td>0.383838</td>\n",
       "      <td>2.308642</td>\n",
       "      <td>29.699118</td>\n",
       "      <td>0.523008</td>\n",
       "      <td>0.381594</td>\n",
       "      <td>32.204208</td>\n",
       "    </tr>\n",
       "    <tr>\n",
       "      <th>std</th>\n",
       "      <td>257.353842</td>\n",
       "      <td>0.486592</td>\n",
       "      <td>0.836071</td>\n",
       "      <td>14.526497</td>\n",
       "      <td>1.102743</td>\n",
       "      <td>0.806057</td>\n",
       "      <td>49.693429</td>\n",
       "    </tr>\n",
       "    <tr>\n",
       "      <th>min</th>\n",
       "      <td>1.000000</td>\n",
       "      <td>0.000000</td>\n",
       "      <td>1.000000</td>\n",
       "      <td>0.420000</td>\n",
       "      <td>0.000000</td>\n",
       "      <td>0.000000</td>\n",
       "      <td>0.000000</td>\n",
       "    </tr>\n",
       "    <tr>\n",
       "      <th>25%</th>\n",
       "      <td>223.500000</td>\n",
       "      <td>0.000000</td>\n",
       "      <td>2.000000</td>\n",
       "      <td>20.125000</td>\n",
       "      <td>0.000000</td>\n",
       "      <td>0.000000</td>\n",
       "      <td>7.910400</td>\n",
       "    </tr>\n",
       "    <tr>\n",
       "      <th>50%</th>\n",
       "      <td>446.000000</td>\n",
       "      <td>0.000000</td>\n",
       "      <td>3.000000</td>\n",
       "      <td>28.000000</td>\n",
       "      <td>0.000000</td>\n",
       "      <td>0.000000</td>\n",
       "      <td>14.454200</td>\n",
       "    </tr>\n",
       "    <tr>\n",
       "      <th>75%</th>\n",
       "      <td>668.500000</td>\n",
       "      <td>1.000000</td>\n",
       "      <td>3.000000</td>\n",
       "      <td>38.000000</td>\n",
       "      <td>1.000000</td>\n",
       "      <td>0.000000</td>\n",
       "      <td>31.000000</td>\n",
       "    </tr>\n",
       "    <tr>\n",
       "      <th>max</th>\n",
       "      <td>891.000000</td>\n",
       "      <td>1.000000</td>\n",
       "      <td>3.000000</td>\n",
       "      <td>80.000000</td>\n",
       "      <td>8.000000</td>\n",
       "      <td>6.000000</td>\n",
       "      <td>512.329200</td>\n",
       "    </tr>\n",
       "  </tbody>\n",
       "</table>\n",
       "</div>"
      ],
      "text/plain": [
       "       PassengerId    Survived      Pclass         Age       SibSp  \\\n",
       "count   891.000000  891.000000  891.000000  714.000000  891.000000   \n",
       "mean    446.000000    0.383838    2.308642   29.699118    0.523008   \n",
       "std     257.353842    0.486592    0.836071   14.526497    1.102743   \n",
       "min       1.000000    0.000000    1.000000    0.420000    0.000000   \n",
       "25%     223.500000    0.000000    2.000000   20.125000    0.000000   \n",
       "50%     446.000000    0.000000    3.000000   28.000000    0.000000   \n",
       "75%     668.500000    1.000000    3.000000   38.000000    1.000000   \n",
       "max     891.000000    1.000000    3.000000   80.000000    8.000000   \n",
       "\n",
       "            Parch        Fare  \n",
       "count  891.000000  891.000000  \n",
       "mean     0.381594   32.204208  \n",
       "std      0.806057   49.693429  \n",
       "min      0.000000    0.000000  \n",
       "25%      0.000000    7.910400  \n",
       "50%      0.000000   14.454200  \n",
       "75%      0.000000   31.000000  \n",
       "max      6.000000  512.329200  "
      ]
     },
     "execution_count": 7,
     "metadata": {},
     "output_type": "execute_result"
    }
   ],
   "source": [
    "df.describe() "
   ]
  },
  {
   "cell_type": "code",
   "execution_count": 8,
   "id": "956662b2",
   "metadata": {
    "execution": {
     "iopub.execute_input": "2025-04-09T12:11:38.261651Z",
     "iopub.status.busy": "2025-04-09T12:11:38.261198Z",
     "iopub.status.idle": "2025-04-09T12:11:38.282352Z",
     "shell.execute_reply": "2025-04-09T12:11:38.281242Z"
    },
    "papermill": {
     "duration": 0.031307,
     "end_time": "2025-04-09T12:11:38.284185",
     "exception": false,
     "start_time": "2025-04-09T12:11:38.252878",
     "status": "completed"
    },
    "tags": []
   },
   "outputs": [
    {
     "data": {
      "text/html": [
       "<div>\n",
       "<style scoped>\n",
       "    .dataframe tbody tr th:only-of-type {\n",
       "        vertical-align: middle;\n",
       "    }\n",
       "\n",
       "    .dataframe tbody tr th {\n",
       "        vertical-align: top;\n",
       "    }\n",
       "\n",
       "    .dataframe thead th {\n",
       "        text-align: right;\n",
       "    }\n",
       "</style>\n",
       "<table border=\"1\" class=\"dataframe\">\n",
       "  <thead>\n",
       "    <tr style=\"text-align: right;\">\n",
       "      <th></th>\n",
       "      <th>Name</th>\n",
       "      <th>Sex</th>\n",
       "      <th>Ticket</th>\n",
       "      <th>Cabin</th>\n",
       "      <th>Embarked</th>\n",
       "    </tr>\n",
       "  </thead>\n",
       "  <tbody>\n",
       "    <tr>\n",
       "      <th>count</th>\n",
       "      <td>891</td>\n",
       "      <td>891</td>\n",
       "      <td>891</td>\n",
       "      <td>204</td>\n",
       "      <td>889</td>\n",
       "    </tr>\n",
       "    <tr>\n",
       "      <th>unique</th>\n",
       "      <td>891</td>\n",
       "      <td>2</td>\n",
       "      <td>681</td>\n",
       "      <td>147</td>\n",
       "      <td>3</td>\n",
       "    </tr>\n",
       "    <tr>\n",
       "      <th>top</th>\n",
       "      <td>Braund, Mr. Owen Harris</td>\n",
       "      <td>male</td>\n",
       "      <td>347082</td>\n",
       "      <td>B96 B98</td>\n",
       "      <td>S</td>\n",
       "    </tr>\n",
       "    <tr>\n",
       "      <th>freq</th>\n",
       "      <td>1</td>\n",
       "      <td>577</td>\n",
       "      <td>7</td>\n",
       "      <td>4</td>\n",
       "      <td>644</td>\n",
       "    </tr>\n",
       "  </tbody>\n",
       "</table>\n",
       "</div>"
      ],
      "text/plain": [
       "                           Name   Sex  Ticket    Cabin Embarked\n",
       "count                       891   891     891      204      889\n",
       "unique                      891     2     681      147        3\n",
       "top     Braund, Mr. Owen Harris  male  347082  B96 B98        S\n",
       "freq                          1   577       7        4      644"
      ]
     },
     "execution_count": 8,
     "metadata": {},
     "output_type": "execute_result"
    }
   ],
   "source": [
    "categorical = df.dtypes[df.dtypes == 'object'].index\n",
    "df[categorical].describe() "
   ]
  },
  {
   "cell_type": "markdown",
   "id": "aa4b8bb4",
   "metadata": {
    "papermill": {
     "duration": 0.007344,
     "end_time": "2025-04-09T12:11:38.299280",
     "exception": false,
     "start_time": "2025-04-09T12:11:38.291936",
     "status": "completed"
    },
    "tags": []
   },
   "source": [
    "### 5. 🔍 **Missing Values**"
   ]
  },
  {
   "cell_type": "code",
   "execution_count": 9,
   "id": "b9c5da2f",
   "metadata": {
    "execution": {
     "iopub.execute_input": "2025-04-09T12:11:38.315878Z",
     "iopub.status.busy": "2025-04-09T12:11:38.315519Z",
     "iopub.status.idle": "2025-04-09T12:11:38.323962Z",
     "shell.execute_reply": "2025-04-09T12:11:38.322961Z"
    },
    "papermill": {
     "duration": 0.018705,
     "end_time": "2025-04-09T12:11:38.325603",
     "exception": false,
     "start_time": "2025-04-09T12:11:38.306898",
     "status": "completed"
    },
    "tags": []
   },
   "outputs": [
    {
     "data": {
      "text/plain": [
       "Cabin          687\n",
       "Age            177\n",
       "Embarked         2\n",
       "PassengerId      0\n",
       "Survived         0\n",
       "Pclass           0\n",
       "Name             0\n",
       "Sex              0\n",
       "SibSp            0\n",
       "Parch            0\n",
       "Ticket           0\n",
       "Fare             0\n",
       "dtype: int64"
      ]
     },
     "execution_count": 9,
     "metadata": {},
     "output_type": "execute_result"
    }
   ],
   "source": [
    "df.isnull().sum().sort_values(ascending = False) "
   ]
  },
  {
   "cell_type": "code",
   "execution_count": 10,
   "id": "27d9f736",
   "metadata": {
    "execution": {
     "iopub.execute_input": "2025-04-09T12:11:38.342783Z",
     "iopub.status.busy": "2025-04-09T12:11:38.342399Z",
     "iopub.status.idle": "2025-04-09T12:11:38.351622Z",
     "shell.execute_reply": "2025-04-09T12:11:38.350452Z"
    },
    "papermill": {
     "duration": 0.020165,
     "end_time": "2025-04-09T12:11:38.353491",
     "exception": false,
     "start_time": "2025-04-09T12:11:38.333326",
     "status": "completed"
    },
    "tags": []
   },
   "outputs": [
    {
     "data": {
      "text/plain": [
       "Cabin          0.771044\n",
       "Age            0.198653\n",
       "Embarked       0.002245\n",
       "PassengerId    0.000000\n",
       "Survived       0.000000\n",
       "Pclass         0.000000\n",
       "Name           0.000000\n",
       "Sex            0.000000\n",
       "SibSp          0.000000\n",
       "Parch          0.000000\n",
       "Ticket         0.000000\n",
       "Fare           0.000000\n",
       "dtype: float64"
      ]
     },
     "execution_count": 10,
     "metadata": {},
     "output_type": "execute_result"
    }
   ],
   "source": [
    "(df.isnull().sum() / len(df)).sort_values(ascending = False) "
   ]
  },
  {
   "cell_type": "code",
   "execution_count": 11,
   "id": "4f16d351",
   "metadata": {
    "execution": {
     "iopub.execute_input": "2025-04-09T12:11:38.371576Z",
     "iopub.status.busy": "2025-04-09T12:11:38.371149Z",
     "iopub.status.idle": "2025-04-09T12:11:38.784520Z",
     "shell.execute_reply": "2025-04-09T12:11:38.783392Z"
    },
    "papermill": {
     "duration": 0.424495,
     "end_time": "2025-04-09T12:11:38.786496",
     "exception": false,
     "start_time": "2025-04-09T12:11:38.362001",
     "status": "completed"
    },
    "tags": []
   },
   "outputs": [
    {
     "data": {
      "image/png": "[encoded data removed]",
      "text/plain": [
       "<Figure size 640x480 with 1 Axes>"
      ]
     },
     "metadata": {},
     "output_type": "display_data"
    }
   ],
   "source": [
    "sns.heatmap(df.isnull(), cbar = False)\n",
    "plt.show() "
   ]
  },
  {
   "cell_type": "markdown",
   "id": "7344ff46",
   "metadata": {
    "papermill": {
     "duration": 0.008123,
     "end_time": "2025-04-09T12:11:38.803640",
     "exception": false,
     "start_time": "2025-04-09T12:11:38.795517",
     "status": "completed"
    },
    "tags": []
   },
   "source": [
    "#  📰 ***Conclusion Set 1 from Data Exploration***"
   ]
  },
  {
   "cell_type": "markdown",
   "id": "80a85397",
   "metadata": {
    "papermill": {
     "duration": 0.008164,
     "end_time": "2025-04-09T12:11:38.820099",
     "exception": false,
     "start_time": "2025-04-09T12:11:38.811935",
     "status": "completed"
    },
    "tags": []
   },
   "source": [
    "1. The columns have float datatypes are 2, integer datatype 5, object datatype are 5\n",
    "\n",
    "2. There are 891 rows and 12 columns in the dataset."
   ]
  },
  {
   "cell_type": "markdown",
   "id": "fe0aa675",
   "metadata": {
    "papermill": {
     "duration": 0.008162,
     "end_time": "2025-04-09T12:11:38.836657",
     "exception": false,
     "start_time": "2025-04-09T12:11:38.828495",
     "status": "completed"
    },
    "tags": []
   },
   "source": [
    "# 🔨  ***Data Cleaning***  "
   ]
  },
  {
   "cell_type": "markdown",
   "id": "728f05be",
   "metadata": {
    "papermill": {
     "duration": 0.00809,
     "end_time": "2025-04-09T12:11:38.853095",
     "exception": false,
     "start_time": "2025-04-09T12:11:38.845005",
     "status": "completed"
    },
    "tags": []
   },
   "source": [
    "### 1. 🔍 **Col: PassengerId**\n",
    "\n",
    "*  \"PassengerId\" is just a number assigned to each passenger.\n",
    "*   It is nothing more than an arbitrary identifier. "
   ]
  },
  {
   "cell_type": "code",
   "execution_count": 12,
   "id": "389008b8",
   "metadata": {
    "execution": {
     "iopub.execute_input": "2025-04-09T12:11:38.871653Z",
     "iopub.status.busy": "2025-04-09T12:11:38.871210Z",
     "iopub.status.idle": "2025-04-09T12:11:38.876321Z",
     "shell.execute_reply": "2025-04-09T12:11:38.875244Z"
    },
    "papermill": {
     "duration": 0.016805,
     "end_time": "2025-04-09T12:11:38.878265",
     "exception": false,
     "start_time": "2025-04-09T12:11:38.861460",
     "status": "completed"
    },
    "tags": []
   },
   "outputs": [],
   "source": [
    "del df['PassengerId']"
   ]
  },
  {
   "cell_type": "markdown",
   "id": "3a72bfac",
   "metadata": {
    "papermill": {
     "duration": 0.008458,
     "end_time": "2025-04-09T12:11:38.895804",
     "exception": false,
     "start_time": "2025-04-09T12:11:38.887346",
     "status": "completed"
    },
    "tags": []
   },
   "source": [
    "### 2. 🔍 **Col: Ticket**\n"
   ]
  },
  {
   "cell_type": "code",
   "execution_count": 13,
   "id": "f12817db",
   "metadata": {
    "execution": {
     "iopub.execute_input": "2025-04-09T12:11:38.914467Z",
     "iopub.status.busy": "2025-04-09T12:11:38.914065Z",
     "iopub.status.idle": "2025-04-09T12:11:38.923248Z",
     "shell.execute_reply": "2025-04-09T12:11:38.922131Z"
    },
    "papermill": {
     "duration": 0.020775,
     "end_time": "2025-04-09T12:11:38.924943",
     "exception": false,
     "start_time": "2025-04-09T12:11:38.904168",
     "status": "completed"
    },
    "tags": []
   },
   "outputs": [
    {
     "data": {
      "text/plain": [
       "count        891\n",
       "unique       681\n",
       "top       347082\n",
       "freq           7\n",
       "Name: Ticket, dtype: object"
      ]
     },
     "execution_count": 13,
     "metadata": {},
     "output_type": "execute_result"
    }
   ],
   "source": [
    "df['Ticket'].describe() "
   ]
  },
  {
   "cell_type": "markdown",
   "id": "90ee9092",
   "metadata": {
    "papermill": {
     "duration": 0.008939,
     "end_time": "2025-04-09T12:11:38.942734",
     "exception": false,
     "start_time": "2025-04-09T12:11:38.933795",
     "status": "completed"
    },
    "tags": []
   },
   "source": []
  },
  {
   "cell_type": "markdown",
   "id": "28a84759",
   "metadata": {
    "papermill": {
     "duration": 0.00832,
     "end_time": "2025-04-09T12:11:38.959608",
     "exception": false,
     "start_time": "2025-04-09T12:11:38.951288",
     "status": "completed"
    },
    "tags": []
   },
   "source": [
    "# ***📽️ Data Visualization*** "
   ]
  },
  {
   "cell_type": "markdown",
   "id": "41923305",
   "metadata": {
    "papermill": {
     "duration": 0.008285,
     "end_time": "2025-04-09T12:11:38.976404",
     "exception": false,
     "start_time": "2025-04-09T12:11:38.968119",
     "status": "completed"
    },
    "tags": []
   },
   "source": [
    "### 1. 🔍 **Survivial Rate Distribution**"
   ]
  },
  {
   "cell_type": "code",
   "execution_count": 14,
   "id": "d4dfb2f9",
   "metadata": {
    "execution": {
     "iopub.execute_input": "2025-04-09T12:11:38.995132Z",
     "iopub.status.busy": "2025-04-09T12:11:38.994792Z",
     "iopub.status.idle": "2025-04-09T12:11:39.164269Z",
     "shell.execute_reply": "2025-04-09T12:11:39.163042Z"
    },
    "papermill": {
     "duration": 0.181092,
     "end_time": "2025-04-09T12:11:39.166268",
     "exception": false,
     "start_time": "2025-04-09T12:11:38.985176",
     "status": "completed"
    },
    "tags": []
   },
   "outputs": [
    {
     "data": {
      "image/png": "[encoded data removed]",
      "text/plain": [
       "<Figure size 640x480 with 1 Axes>"
      ]
     },
     "metadata": {},
     "output_type": "display_data"
    }
   ],
   "source": [
    "df['Survived'].value_counts().plot(kind='pie',\n",
    "                                   startangle= 90, \n",
    "                                   autopct = '%1.1f%%') \n",
    "\n",
    "plt.ylabel('')\n",
    "plt.title('Distribution of Survival Rates')\n",
    "plt.show() "
   ]
  },
  {
   "cell_type": "markdown",
   "id": "b8e2dda0",
   "metadata": {
    "papermill": {
     "duration": 0.008838,
     "end_time": "2025-04-09T12:11:39.185073",
     "exception": false,
     "start_time": "2025-04-09T12:11:39.176235",
     "status": "completed"
    },
    "tags": []
   },
   "source": [
    "### 2. 🔍 **Create a subplot that displays the count of survivors categorized by gender & port of embarkation & Pclass**"
   ]
  },
  {
   "cell_type": "code",
   "execution_count": 15,
   "id": "683ef01d",
   "metadata": {
    "execution": {
     "iopub.execute_input": "2025-04-09T12:11:39.204572Z",
     "iopub.status.busy": "2025-04-09T12:11:39.204155Z",
     "iopub.status.idle": "2025-04-09T12:11:39.208662Z",
     "shell.execute_reply": "2025-04-09T12:11:39.207426Z"
    },
    "papermill": {
     "duration": 0.016283,
     "end_time": "2025-04-09T12:11:39.210379",
     "exception": false,
     "start_time": "2025-04-09T12:11:39.194096",
     "status": "completed"
    },
    "tags": []
   },
   "outputs": [],
   "source": [
    "cate_cols = ['Sex', 'Embarked', 'Pclass'] \n",
    "target = 'Survived' "
   ]
  },
  {
   "cell_type": "code",
   "execution_count": 16,
   "id": "550d9edd",
   "metadata": {
    "execution": {
     "iopub.execute_input": "2025-04-09T12:11:39.230021Z",
     "iopub.status.busy": "2025-04-09T12:11:39.229678Z",
     "iopub.status.idle": "2025-04-09T12:11:39.259723Z",
     "shell.execute_reply": "2025-04-09T12:11:39.258555Z"
    },
    "papermill": {
     "duration": 0.042137,
     "end_time": "2025-04-09T12:11:39.261763",
     "exception": false,
     "start_time": "2025-04-09T12:11:39.219626",
     "status": "completed"
    },
    "tags": []
   },
   "outputs": [
    {
     "data": {
      "text/plain": [
       "<Figure size 2500x1800 with 0 Axes>"
      ]
     },
     "metadata": {},
     "output_type": "display_data"
    }
   ],
   "source": [
    "fig = plt.figure(figsize = (25, len(cate_cols)*6))  "
   ]
  },
  {
   "cell_type": "code",
   "execution_count": 17,
   "id": "76574d1c",
   "metadata": {
    "execution": {
     "iopub.execute_input": "2025-04-09T12:11:39.281900Z",
     "iopub.status.busy": "2025-04-09T12:11:39.281536Z",
     "iopub.status.idle": "2025-04-09T12:11:39.930950Z",
     "shell.execute_reply": "2025-04-09T12:11:39.929477Z"
    },
    "papermill": {
     "duration": 0.662123,
     "end_time": "2025-04-09T12:11:39.933290",
     "exception": false,
     "start_time": "2025-04-09T12:11:39.271167",
     "status": "completed"
    },
    "tags": []
   },
   "outputs": [
    {
     "data": {
      "image/png": "[encoded data removed]",
      "text/plain": [
       "<Figure size 640x480 with 3 Axes>"
      ]
     },
     "metadata": {},
     "output_type": "display_data"
    }
   ],
   "source": [
    "for i, col in enumerate(cate_cols):\n",
    "    plt.subplot(len(cate_cols)//2 + len(cate_cols)%2, 2, i+1) \n",
    "    sns.countplot(x=col, hue=target, data=df) \n",
    "    plt.title(f'Count of Victims & Survivors Categorized by {col}', fontsize=8) \n",
    "    plt.ylim(0, df[col].value_counts().max()+10) \n",
    "    plt.ylabel('')\n",
    "\n",
    "\n",
    "plt.tight_layout() \n",
    "plt.show() \n"
   ]
  },
  {
   "cell_type": "markdown",
   "id": "2e579404",
   "metadata": {
    "papermill": {
     "duration": 0.010999,
     "end_time": "2025-04-09T12:11:39.957045",
     "exception": false,
     "start_time": "2025-04-09T12:11:39.946046",
     "status": "completed"
    },
    "tags": []
   },
   "source": [
    "### 3. 🔍 **Create a histplot that displays the count of survivors categorized by Age**"
   ]
  },
  {
   "cell_type": "code",
   "execution_count": 18,
   "id": "d6f93bd6",
   "metadata": {
    "execution": {
     "iopub.execute_input": "2025-04-09T12:11:39.982466Z",
     "iopub.status.busy": "2025-04-09T12:11:39.982007Z",
     "iopub.status.idle": "2025-04-09T12:11:40.438184Z",
     "shell.execute_reply": "2025-04-09T12:11:40.436896Z"
    },
    "papermill": {
     "duration": 0.471963,
     "end_time": "2025-04-09T12:11:40.440492",
     "exception": false,
     "start_time": "2025-04-09T12:11:39.968529",
     "status": "completed"
    },
    "tags": []
   },
   "outputs": [
    {
     "data": {
      "image/png": "[encoded data removed]",
      "text/plain": [
       "<Figure size 640x480 with 1 Axes>"
      ]
     },
     "metadata": {},
     "output_type": "display_data"
    }
   ],
   "source": [
    "sns.histplot(data=df,\n",
    "             x='Age', \n",
    "             hue='Survived', \n",
    "             bins=30,\n",
    "             kde=True) \n",
    "\n",
    "plt.title('Age Distribution of Titanic Victims & Survivors')\n",
    "plt.show()"
   ]
  },
  {
   "cell_type": "code",
   "execution_count": null,
   "id": "254e8dae",
   "metadata": {
    "papermill": {
     "duration": 0.010814,
     "end_time": "2025-04-09T12:11:40.466072",
     "exception": false,
     "start_time": "2025-04-09T12:11:40.455258",
     "status": "completed"
    },
    "tags": []
   },
   "outputs": [],
   "source": []
  }
 ],
 "metadata": {
  "kaggle": {
   "accelerator": "none",
   "dataSources": [
    {
     "datasetId": 7093056,
     "sourceId": 11338283,
     "sourceType": "datasetVersion"
    }
   ],
   "dockerImageVersionId": 30918,
   "isGpuEnabled": false,
   "isInternetEnabled": true,
   "language": "python",
   "sourceType": "notebook"
  },
  "kernelspec": {
   "display_name": "Python 3",
   "language": "python",
   "name": "python3"
  },
  "language_info": {
   "codemirror_mode": {
    "name": "ipython",
    "version": 3
   },
   "file_extension": ".py",
   "mimetype": "text/x-python",
   "name": "python",
   "nbconvert_exporter": "python",
   "pygments_lexer": "ipython3",
   "version": "3.10.12"
  },
  "papermill": {
   "default_parameters": {},
   "duration": 12.10501,
   "end_time": "2025-04-09T12:11:41.399645",
   "environment_variables": {},
   "exception": null,
   "input_path": "__notebook__.ipynb",
   "output_path": "__notebook__.ipynb",
   "parameters": {},
   "start_time": "2025-04-09T12:11:29.294635",
   "version": "2.6.0"
  }
 },
 "nbformat": 4,
 "nbformat_minor": 5
}
