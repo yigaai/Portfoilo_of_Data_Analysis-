{
 "cells": [
  {
   "cell_type": "markdown",
   "id": "6a9050bc",
   "metadata": {
    "papermill": {
     "duration": 0.009538,
     "end_time": "2025-04-10T15:36:38.035947",
     "exception": false,
     "start_time": "2025-04-10T15:36:38.026409",
     "status": "completed"
    },
    "tags": []
   },
   "source": [
    "   # 🛳️ **Titanic Survival Prediction**  "
   ]
  },
  {
   "cell_type": "markdown",
   "id": "bf04917f",
   "metadata": {
    "papermill": {
     "duration": 0.00839,
     "end_time": "2025-04-10T15:36:38.053288",
     "exception": false,
     "start_time": "2025-04-10T15:36:38.044898",
     "status": "completed"
    },
    "tags": []
   },
   "source": [
    "# ***🎯 Goals & Tasks:*** \n",
    "\n",
    "* 1. Provide insight by means of data. "
   ]
  },
  {
   "cell_type": "markdown",
   "id": "f57cc63b",
   "metadata": {
    "papermill": {
     "duration": 0.008478,
     "end_time": "2025-04-10T15:36:38.070500",
     "exception": false,
     "start_time": "2025-04-10T15:36:38.062022",
     "status": "completed"
    },
    "tags": []
   },
   "source": [
    "# ***🗂️ Import Libraries*** "
   ]
  },
  {
   "cell_type": "code",
   "execution_count": 1,
   "id": "9058a6f9",
   "metadata": {
    "execution": {
     "iopub.execute_input": "2025-04-10T15:36:38.089516Z",
     "iopub.status.busy": "2025-04-10T15:36:38.089008Z",
     "iopub.status.idle": "2025-04-10T15:36:42.568982Z",
     "shell.execute_reply": "2025-04-10T15:36:42.567642Z"
    },
    "papermill": {
     "duration": 4.491824,
     "end_time": "2025-04-10T15:36:42.571000",
     "exception": false,
     "start_time": "2025-04-10T15:36:38.079176",
     "status": "completed"
    },
    "tags": []
   },
   "outputs": [],
   "source": [
    "import os\n",
    "\n",
    "import pandas as pd\n",
    "import numpy as np\n",
    "\n",
    "# to visualize the dataset\n",
    "import matplotlib.pyplot as plt\n",
    "import seaborn as sns\n",
    "import plotly.express as px\n",
    "\n",
    "# To preprocess the data\n",
    "from sklearn.preprocessing import StandardScaler, LabelEncoder, MinMaxScaler\n",
    "\n",
    "# machine learning\n",
    "from sklearn.model_selection import train_test_split, GridSearchCV, cross_val_score\n",
    "#for classification tasks\n",
    "from sklearn.linear_model import LogisticRegression\n",
    "from sklearn.neighbors import KNeighborsClassifier\n",
    "from sklearn.svm import SVC\n",
    "from sklearn.tree import DecisionTreeClassifier\n",
    "from sklearn.ensemble import RandomForestClassifier, AdaBoostClassifier, GradientBoostingClassifier, RandomForestRegressor\n",
    "from xgboost import XGBClassifier\n",
    "#metrics\n",
    "from sklearn.metrics import accuracy_score, f1_score, precision_score, recall_score\n",
    "\n",
    "# ignore warnings   \n",
    "import warnings\n",
    "warnings.filterwarnings('ignore') "
   ]
  },
  {
   "cell_type": "markdown",
   "id": "c1c1b5cd",
   "metadata": {
    "papermill": {
     "duration": 0.008782,
     "end_time": "2025-04-10T15:36:42.588797",
     "exception": false,
     "start_time": "2025-04-10T15:36:42.580015",
     "status": "completed"
    },
    "tags": []
   },
   "source": [
    "# ***⏳ Data Loading*** "
   ]
  },
  {
   "cell_type": "code",
   "execution_count": 2,
   "id": "84e7ec05",
   "metadata": {
    "execution": {
     "iopub.execute_input": "2025-04-10T15:36:42.607830Z",
     "iopub.status.busy": "2025-04-10T15:36:42.607205Z",
     "iopub.status.idle": "2025-04-10T15:36:42.642745Z",
     "shell.execute_reply": "2025-04-10T15:36:42.641695Z"
    },
    "papermill": {
     "duration": 0.048023,
     "end_time": "2025-04-10T15:36:42.645588",
     "exception": false,
     "start_time": "2025-04-10T15:36:42.597565",
     "status": "completed"
    },
    "tags": []
   },
   "outputs": [],
   "source": [
    "os.listdir('/kaggle/input/titanic-data')  \n",
    "df = pd.read_csv('/kaggle/input/titanic-data/train.csv') "
   ]
  },
  {
   "cell_type": "markdown",
   "id": "bb396c21",
   "metadata": {
    "papermill": {
     "duration": 0.008621,
     "end_time": "2025-04-10T15:36:42.663586",
     "exception": false,
     "start_time": "2025-04-10T15:36:42.654965",
     "status": "completed"
    },
    "tags": []
   },
   "source": [
    "# ***🔭 Data Exploration***  "
   ]
  },
  {
   "cell_type": "markdown",
   "id": "1306f2cd",
   "metadata": {
    "papermill": {
     "duration": 0.008498,
     "end_time": "2025-04-10T15:36:42.680715",
     "exception": false,
     "start_time": "2025-04-10T15:36:42.672217",
     "status": "completed"
    },
    "tags": []
   },
   "source": [
    "### 1. 🔍 **Take a Glimpse of Data**"
   ]
  },
  {
   "cell_type": "code",
   "execution_count": 3,
   "id": "8583cf04",
   "metadata": {
    "execution": {
     "iopub.execute_input": "2025-04-10T15:36:42.699460Z",
     "iopub.status.busy": "2025-04-10T15:36:42.699059Z",
     "iopub.status.idle": "2025-04-10T15:36:42.728292Z",
     "shell.execute_reply": "2025-04-10T15:36:42.727431Z"
    },
    "papermill": {
     "duration": 0.040776,
     "end_time": "2025-04-10T15:36:42.730230",
     "exception": false,
     "start_time": "2025-04-10T15:36:42.689454",
     "status": "completed"
    },
    "tags": []
   },
   "outputs": [
    {
     "data": {
      "text/html": [
       "<div>\n",
       "<style scoped>\n",
       "    .dataframe tbody tr th:only-of-type {\n",
       "        vertical-align: middle;\n",
       "    }\n",
       "\n",
       "    .dataframe tbody tr th {\n",
       "        vertical-align: top;\n",
       "    }\n",
       "\n",
       "    .dataframe thead th {\n",
       "        text-align: right;\n",
       "    }\n",
       "</style>\n",
       "<table border=\"1\" class=\"dataframe\">\n",
       "  <thead>\n",
       "    <tr style=\"text-align: right;\">\n",
       "      <th></th>\n",
       "      <th>PassengerId</th>\n",
       "      <th>Survived</th>\n",
       "      <th>Pclass</th>\n",
       "      <th>Name</th>\n",
       "      <th>Sex</th>\n",
       "      <th>Age</th>\n",
       "      <th>SibSp</th>\n",
       "      <th>Parch</th>\n",
       "      <th>Ticket</th>\n",
       "      <th>Fare</th>\n",
       "      <th>Cabin</th>\n",
       "      <th>Embarked</th>\n",
       "    </tr>\n",
       "  </thead>\n",
       "  <tbody>\n",
       "    <tr>\n",
       "      <th>0</th>\n",
       "      <td>1</td>\n",
       "      <td>0</td>\n",
       "      <td>3</td>\n",
       "      <td>Braund, Mr. Owen Harris</td>\n",
       "      <td>male</td>\n",
       "      <td>22.0</td>\n",
       "      <td>1</td>\n",
       "      <td>0</td>\n",
       "      <td>A/5 21171</td>\n",
       "      <td>7.2500</td>\n",
       "      <td>NaN</td>\n",
       "      <td>S</td>\n",
       "    </tr>\n",
       "    <tr>\n",
       "      <th>1</th>\n",
       "      <td>2</td>\n",
       "      <td>1</td>\n",
       "      <td>1</td>\n",
       "      <td>Cumings, Mrs. John Bradley (Florence Briggs Th...</td>\n",
       "      <td>female</td>\n",
       "      <td>38.0</td>\n",
       "      <td>1</td>\n",
       "      <td>0</td>\n",
       "      <td>PC 17599</td>\n",
       "      <td>71.2833</td>\n",
       "      <td>C85</td>\n",
       "      <td>C</td>\n",
       "    </tr>\n",
       "    <tr>\n",
       "      <th>2</th>\n",
       "      <td>3</td>\n",
       "      <td>1</td>\n",
       "      <td>3</td>\n",
       "      <td>Heikkinen, Miss. Laina</td>\n",
       "      <td>female</td>\n",
       "      <td>26.0</td>\n",
       "      <td>0</td>\n",
       "      <td>0</td>\n",
       "      <td>STON/O2. 3101282</td>\n",
       "      <td>7.9250</td>\n",
       "      <td>NaN</td>\n",
       "      <td>S</td>\n",
       "    </tr>\n",
       "    <tr>\n",
       "      <th>3</th>\n",
       "      <td>4</td>\n",
       "      <td>1</td>\n",
       "      <td>1</td>\n",
       "      <td>Futrelle, Mrs. Jacques Heath (Lily May Peel)</td>\n",
       "      <td>female</td>\n",
       "      <td>35.0</td>\n",
       "      <td>1</td>\n",
       "      <td>0</td>\n",
       "      <td>113803</td>\n",
       "      <td>53.1000</td>\n",
       "      <td>C123</td>\n",
       "      <td>S</td>\n",
       "    </tr>\n",
       "    <tr>\n",
       "      <th>4</th>\n",
       "      <td>5</td>\n",
       "      <td>0</td>\n",
       "      <td>3</td>\n",
       "      <td>Allen, Mr. William Henry</td>\n",
       "      <td>male</td>\n",
       "      <td>35.0</td>\n",
       "      <td>0</td>\n",
       "      <td>0</td>\n",
       "      <td>373450</td>\n",
       "      <td>8.0500</td>\n",
       "      <td>NaN</td>\n",
       "      <td>S</td>\n",
       "    </tr>\n",
       "  </tbody>\n",
       "</table>\n",
       "</div>"
      ],
      "text/plain": [
       "   PassengerId  Survived  Pclass  \\\n",
       "0            1         0       3   \n",
       "1            2         1       1   \n",
       "2            3         1       3   \n",
       "3            4         1       1   \n",
       "4            5         0       3   \n",
       "\n",
       "                                                Name     Sex   Age  SibSp  \\\n",
       "0                            Braund, Mr. Owen Harris    male  22.0      1   \n",
       "1  Cumings, Mrs. John Bradley (Florence Briggs Th...  female  38.0      1   \n",
       "2                             Heikkinen, Miss. Laina  female  26.0      0   \n",
       "3       Futrelle, Mrs. Jacques Heath (Lily May Peel)  female  35.0      1   \n",
       "4                           Allen, Mr. William Henry    male  35.0      0   \n",
       "\n",
       "   Parch            Ticket     Fare Cabin Embarked  \n",
       "0      0         A/5 21171   7.2500   NaN        S  \n",
       "1      0          PC 17599  71.2833   C85        C  \n",
       "2      0  STON/O2. 3101282   7.9250   NaN        S  \n",
       "3      0            113803  53.1000  C123        S  \n",
       "4      0            373450   8.0500   NaN        S  "
      ]
     },
     "execution_count": 3,
     "metadata": {},
     "output_type": "execute_result"
    }
   ],
   "source": [
    "df.head(5) "
   ]
  },
  {
   "cell_type": "code",
   "execution_count": 4,
   "id": "7d0a51c1",
   "metadata": {
    "execution": {
     "iopub.execute_input": "2025-04-10T15:36:42.750235Z",
     "iopub.status.busy": "2025-04-10T15:36:42.749909Z",
     "iopub.status.idle": "2025-04-10T15:36:42.763565Z",
     "shell.execute_reply": "2025-04-10T15:36:42.762614Z"
    },
    "papermill": {
     "duration": 0.024934,
     "end_time": "2025-04-10T15:36:42.765022",
     "exception": false,
     "start_time": "2025-04-10T15:36:42.740088",
     "status": "completed"
    },
    "tags": []
   },
   "outputs": [
    {
     "data": {
      "text/html": [
       "<div>\n",
       "<style scoped>\n",
       "    .dataframe tbody tr th:only-of-type {\n",
       "        vertical-align: middle;\n",
       "    }\n",
       "\n",
       "    .dataframe tbody tr th {\n",
       "        vertical-align: top;\n",
       "    }\n",
       "\n",
       "    .dataframe thead th {\n",
       "        text-align: right;\n",
       "    }\n",
       "</style>\n",
       "<table border=\"1\" class=\"dataframe\">\n",
       "  <thead>\n",
       "    <tr style=\"text-align: right;\">\n",
       "      <th></th>\n",
       "      <th>PassengerId</th>\n",
       "      <th>Survived</th>\n",
       "      <th>Pclass</th>\n",
       "      <th>Name</th>\n",
       "      <th>Sex</th>\n",
       "      <th>Age</th>\n",
       "      <th>SibSp</th>\n",
       "      <th>Parch</th>\n",
       "      <th>Ticket</th>\n",
       "      <th>Fare</th>\n",
       "      <th>Cabin</th>\n",
       "      <th>Embarked</th>\n",
       "    </tr>\n",
       "  </thead>\n",
       "  <tbody>\n",
       "    <tr>\n",
       "      <th>886</th>\n",
       "      <td>887</td>\n",
       "      <td>0</td>\n",
       "      <td>2</td>\n",
       "      <td>Montvila, Rev. Juozas</td>\n",
       "      <td>male</td>\n",
       "      <td>27.0</td>\n",
       "      <td>0</td>\n",
       "      <td>0</td>\n",
       "      <td>211536</td>\n",
       "      <td>13.00</td>\n",
       "      <td>NaN</td>\n",
       "      <td>S</td>\n",
       "    </tr>\n",
       "    <tr>\n",
       "      <th>887</th>\n",
       "      <td>888</td>\n",
       "      <td>1</td>\n",
       "      <td>1</td>\n",
       "      <td>Graham, Miss. Margaret Edith</td>\n",
       "      <td>female</td>\n",
       "      <td>19.0</td>\n",
       "      <td>0</td>\n",
       "      <td>0</td>\n",
       "      <td>112053</td>\n",
       "      <td>30.00</td>\n",
       "      <td>B42</td>\n",
       "      <td>S</td>\n",
       "    </tr>\n",
       "    <tr>\n",
       "      <th>888</th>\n",
       "      <td>889</td>\n",
       "      <td>0</td>\n",
       "      <td>3</td>\n",
       "      <td>Johnston, Miss. Catherine Helen \"Carrie\"</td>\n",
       "      <td>female</td>\n",
       "      <td>NaN</td>\n",
       "      <td>1</td>\n",
       "      <td>2</td>\n",
       "      <td>W./C. 6607</td>\n",
       "      <td>23.45</td>\n",
       "      <td>NaN</td>\n",
       "      <td>S</td>\n",
       "    </tr>\n",
       "    <tr>\n",
       "      <th>889</th>\n",
       "      <td>890</td>\n",
       "      <td>1</td>\n",
       "      <td>1</td>\n",
       "      <td>Behr, Mr. Karl Howell</td>\n",
       "      <td>male</td>\n",
       "      <td>26.0</td>\n",
       "      <td>0</td>\n",
       "      <td>0</td>\n",
       "      <td>111369</td>\n",
       "      <td>30.00</td>\n",
       "      <td>C148</td>\n",
       "      <td>C</td>\n",
       "    </tr>\n",
       "    <tr>\n",
       "      <th>890</th>\n",
       "      <td>891</td>\n",
       "      <td>0</td>\n",
       "      <td>3</td>\n",
       "      <td>Dooley, Mr. Patrick</td>\n",
       "      <td>male</td>\n",
       "      <td>32.0</td>\n",
       "      <td>0</td>\n",
       "      <td>0</td>\n",
       "      <td>370376</td>\n",
       "      <td>7.75</td>\n",
       "      <td>NaN</td>\n",
       "      <td>Q</td>\n",
       "    </tr>\n",
       "  </tbody>\n",
       "</table>\n",
       "</div>"
      ],
      "text/plain": [
       "     PassengerId  Survived  Pclass                                      Name  \\\n",
       "886          887         0       2                     Montvila, Rev. Juozas   \n",
       "887          888         1       1              Graham, Miss. Margaret Edith   \n",
       "888          889         0       3  Johnston, Miss. Catherine Helen \"Carrie\"   \n",
       "889          890         1       1                     Behr, Mr. Karl Howell   \n",
       "890          891         0       3                       Dooley, Mr. Patrick   \n",
       "\n",
       "        Sex   Age  SibSp  Parch      Ticket   Fare Cabin Embarked  \n",
       "886    male  27.0      0      0      211536  13.00   NaN        S  \n",
       "887  female  19.0      0      0      112053  30.00   B42        S  \n",
       "888  female   NaN      1      2  W./C. 6607  23.45   NaN        S  \n",
       "889    male  26.0      0      0      111369  30.00  C148        C  \n",
       "890    male  32.0      0      0      370376   7.75   NaN        Q  "
      ]
     },
     "execution_count": 4,
     "metadata": {},
     "output_type": "execute_result"
    }
   ],
   "source": [
    "df.tail() "
   ]
  },
  {
   "cell_type": "markdown",
   "id": "649c2024",
   "metadata": {
    "papermill": {
     "duration": 0.008653,
     "end_time": "2025-04-10T15:36:42.783218",
     "exception": false,
     "start_time": "2025-04-10T15:36:42.774565",
     "status": "completed"
    },
    "tags": []
   },
   "source": [
    "### 2. 🔍 **DataType of Each Column**"
   ]
  },
  {
   "cell_type": "code",
   "execution_count": 5,
   "id": "b214c23a",
   "metadata": {
    "execution": {
     "iopub.execute_input": "2025-04-10T15:36:42.802744Z",
     "iopub.status.busy": "2025-04-10T15:36:42.802390Z",
     "iopub.status.idle": "2025-04-10T15:36:42.828684Z",
     "shell.execute_reply": "2025-04-10T15:36:42.827355Z"
    },
    "papermill": {
     "duration": 0.038119,
     "end_time": "2025-04-10T15:36:42.830431",
     "exception": false,
     "start_time": "2025-04-10T15:36:42.792312",
     "status": "completed"
    },
    "tags": []
   },
   "outputs": [
    {
     "name": "stdout",
     "output_type": "stream",
     "text": [
      "<class 'pandas.core.frame.DataFrame'>\n",
      "RangeIndex: 891 entries, 0 to 890\n",
      "Data columns (total 12 columns):\n",
      " #   Column       Non-Null Count  Dtype  \n",
      "---  ------       --------------  -----  \n",
      " 0   PassengerId  891 non-null    int64  \n",
      " 1   Survived     891 non-null    int64  \n",
      " 2   Pclass       891 non-null    int64  \n",
      " 3   Name         891 non-null    object \n",
      " 4   Sex          891 non-null    object \n",
      " 5   Age          714 non-null    float64\n",
      " 6   SibSp        891 non-null    int64  \n",
      " 7   Parch        891 non-null    int64  \n",
      " 8   Ticket       891 non-null    object \n",
      " 9   Fare         891 non-null    float64\n",
      " 10  Cabin        204 non-null    object \n",
      " 11  Embarked     889 non-null    object \n",
      "dtypes: float64(2), int64(5), object(5)\n",
      "memory usage: 83.7+ KB\n"
     ]
    }
   ],
   "source": [
    "df.info() "
   ]
  },
  {
   "cell_type": "markdown",
   "id": "6409f25e",
   "metadata": {
    "papermill": {
     "duration": 0.009151,
     "end_time": "2025-04-10T15:36:42.849613",
     "exception": false,
     "start_time": "2025-04-10T15:36:42.840462",
     "status": "completed"
    },
    "tags": []
   },
   "source": [
    "### 3. 🔍 **Dimensions of the DataFrame**"
   ]
  },
  {
   "cell_type": "code",
   "execution_count": 6,
   "id": "435e477a",
   "metadata": {
    "execution": {
     "iopub.execute_input": "2025-04-10T15:36:42.869576Z",
     "iopub.status.busy": "2025-04-10T15:36:42.869138Z",
     "iopub.status.idle": "2025-04-10T15:36:42.875270Z",
     "shell.execute_reply": "2025-04-10T15:36:42.873617Z"
    },
    "papermill": {
     "duration": 0.018136,
     "end_time": "2025-04-10T15:36:42.877088",
     "exception": false,
     "start_time": "2025-04-10T15:36:42.858952",
     "status": "completed"
    },
    "tags": []
   },
   "outputs": [
    {
     "name": "stdout",
     "output_type": "stream",
     "text": [
      "Rows: 891\n",
      "Columns: 12\n"
     ]
    }
   ],
   "source": [
    "print(f'Rows: {df.shape[0]}')\n",
    "print(f'Columns: {df.shape[1]}')  "
   ]
  },
  {
   "cell_type": "markdown",
   "id": "11d36ad1",
   "metadata": {
    "papermill": {
     "duration": 0.009381,
     "end_time": "2025-04-10T15:36:42.896076",
     "exception": false,
     "start_time": "2025-04-10T15:36:42.886695",
     "status": "completed"
    },
    "tags": []
   },
   "source": [
    "### 4. 🔍 **Descriptive Statistics for numerical & categorical variables**"
   ]
  },
  {
   "cell_type": "code",
   "execution_count": 7,
   "id": "a8acf9f9",
   "metadata": {
    "execution": {
     "iopub.execute_input": "2025-04-10T15:36:42.917017Z",
     "iopub.status.busy": "2025-04-10T15:36:42.916673Z",
     "iopub.status.idle": "2025-04-10T15:36:42.945305Z",
     "shell.execute_reply": "2025-04-10T15:36:42.944153Z"
    },
    "papermill": {
     "duration": 0.04145,
     "end_time": "2025-04-10T15:36:42.947026",
     "exception": false,
     "start_time": "2025-04-10T15:36:42.905576",
     "status": "completed"
    },
    "tags": []
   },
   "outputs": [
    {
     "data": {
      "text/html": [
       "<div>\n",
       "<style scoped>\n",
       "    .dataframe tbody tr th:only-of-type {\n",
       "        vertical-align: middle;\n",
       "    }\n",
       "\n",
       "    .dataframe tbody tr th {\n",
       "        vertical-align: top;\n",
       "    }\n",
       "\n",
       "    .dataframe thead th {\n",
       "        text-align: right;\n",
       "    }\n",
       "</style>\n",
       "<table border=\"1\" class=\"dataframe\">\n",
       "  <thead>\n",
       "    <tr style=\"text-align: right;\">\n",
       "      <th></th>\n",
       "      <th>PassengerId</th>\n",
       "      <th>Survived</th>\n",
       "      <th>Pclass</th>\n",
       "      <th>Age</th>\n",
       "      <th>SibSp</th>\n",
       "      <th>Parch</th>\n",
       "      <th>Fare</th>\n",
       "    </tr>\n",
       "  </thead>\n",
       "  <tbody>\n",
       "    <tr>\n",
       "      <th>count</th>\n",
       "      <td>891.000000</td>\n",
       "      <td>891.000000</td>\n",
       "      <td>891.000000</td>\n",
       "      <td>714.000000</td>\n",
       "      <td>891.000000</td>\n",
       "      <td>891.000000</td>\n",
       "      <td>891.000000</td>\n",
       "    </tr>\n",
       "    <tr>\n",
       "      <th>mean</th>\n",
       "      <td>446.000000</td>\n",
       "      <td>0.383838</td>\n",
       "      <td>2.308642</td>\n",
       "      <td>29.699118</td>\n",
       "      <td>0.523008</td>\n",
       "      <td>0.381594</td>\n",
       "      <td>32.204208</td>\n",
       "    </tr>\n",
       "    <tr>\n",
       "      <th>std</th>\n",
       "      <td>257.353842</td>\n",
       "      <td>0.486592</td>\n",
       "      <td>0.836071</td>\n",
       "      <td>14.526497</td>\n",
       "      <td>1.102743</td>\n",
       "      <td>0.806057</td>\n",
       "      <td>49.693429</td>\n",
       "    </tr>\n",
       "    <tr>\n",
       "      <th>min</th>\n",
       "      <td>1.000000</td>\n",
       "      <td>0.000000</td>\n",
       "      <td>1.000000</td>\n",
       "      <td>0.420000</td>\n",
       "      <td>0.000000</td>\n",
       "      <td>0.000000</td>\n",
       "      <td>0.000000</td>\n",
       "    </tr>\n",
       "    <tr>\n",
       "      <th>25%</th>\n",
       "      <td>223.500000</td>\n",
       "      <td>0.000000</td>\n",
       "      <td>2.000000</td>\n",
       "      <td>20.125000</td>\n",
       "      <td>0.000000</td>\n",
       "      <td>0.000000</td>\n",
       "      <td>7.910400</td>\n",
       "    </tr>\n",
       "    <tr>\n",
       "      <th>50%</th>\n",
       "      <td>446.000000</td>\n",
       "      <td>0.000000</td>\n",
       "      <td>3.000000</td>\n",
       "      <td>28.000000</td>\n",
       "      <td>0.000000</td>\n",
       "      <td>0.000000</td>\n",
       "      <td>14.454200</td>\n",
       "    </tr>\n",
       "    <tr>\n",
       "      <th>75%</th>\n",
       "      <td>668.500000</td>\n",
       "      <td>1.000000</td>\n",
       "      <td>3.000000</td>\n",
       "      <td>38.000000</td>\n",
       "      <td>1.000000</td>\n",
       "      <td>0.000000</td>\n",
       "      <td>31.000000</td>\n",
       "    </tr>\n",
       "    <tr>\n",
       "      <th>max</th>\n",
       "      <td>891.000000</td>\n",
       "      <td>1.000000</td>\n",
       "      <td>3.000000</td>\n",
       "      <td>80.000000</td>\n",
       "      <td>8.000000</td>\n",
       "      <td>6.000000</td>\n",
       "      <td>512.329200</td>\n",
       "    </tr>\n",
       "  </tbody>\n",
       "</table>\n",
       "</div>"
      ],
      "text/plain": [
       "       PassengerId    Survived      Pclass         Age       SibSp  \\\n",
       "count   891.000000  891.000000  891.000000  714.000000  891.000000   \n",
       "mean    446.000000    0.383838    2.308642   29.699118    0.523008   \n",
       "std     257.353842    0.486592    0.836071   14.526497    1.102743   \n",
       "min       1.000000    0.000000    1.000000    0.420000    0.000000   \n",
       "25%     223.500000    0.000000    2.000000   20.125000    0.000000   \n",
       "50%     446.000000    0.000000    3.000000   28.000000    0.000000   \n",
       "75%     668.500000    1.000000    3.000000   38.000000    1.000000   \n",
       "max     891.000000    1.000000    3.000000   80.000000    8.000000   \n",
       "\n",
       "            Parch        Fare  \n",
       "count  891.000000  891.000000  \n",
       "mean     0.381594   32.204208  \n",
       "std      0.806057   49.693429  \n",
       "min      0.000000    0.000000  \n",
       "25%      0.000000    7.910400  \n",
       "50%      0.000000   14.454200  \n",
       "75%      0.000000   31.000000  \n",
       "max      6.000000  512.329200  "
      ]
     },
     "execution_count": 7,
     "metadata": {},
     "output_type": "execute_result"
    }
   ],
   "source": [
    "df.describe() "
   ]
  },
  {
   "cell_type": "code",
   "execution_count": 8,
   "id": "6109526d",
   "metadata": {
    "execution": {
     "iopub.execute_input": "2025-04-10T15:36:42.968450Z",
     "iopub.status.busy": "2025-04-10T15:36:42.968026Z",
     "iopub.status.idle": "2025-04-10T15:36:42.990423Z",
     "shell.execute_reply": "2025-04-10T15:36:42.989303Z"
    },
    "papermill": {
     "duration": 0.03536,
     "end_time": "2025-04-10T15:36:42.992243",
     "exception": false,
     "start_time": "2025-04-10T15:36:42.956883",
     "status": "completed"
    },
    "tags": []
   },
   "outputs": [
    {
     "data": {
      "text/html": [
       "<div>\n",
       "<style scoped>\n",
       "    .dataframe tbody tr th:only-of-type {\n",
       "        vertical-align: middle;\n",
       "    }\n",
       "\n",
       "    .dataframe tbody tr th {\n",
       "        vertical-align: top;\n",
       "    }\n",
       "\n",
       "    .dataframe thead th {\n",
       "        text-align: right;\n",
       "    }\n",
       "</style>\n",
       "<table border=\"1\" class=\"dataframe\">\n",
       "  <thead>\n",
       "    <tr style=\"text-align: right;\">\n",
       "      <th></th>\n",
       "      <th>Name</th>\n",
       "      <th>Sex</th>\n",
       "      <th>Ticket</th>\n",
       "      <th>Cabin</th>\n",
       "      <th>Embarked</th>\n",
       "    </tr>\n",
       "  </thead>\n",
       "  <tbody>\n",
       "    <tr>\n",
       "      <th>count</th>\n",
       "      <td>891</td>\n",
       "      <td>891</td>\n",
       "      <td>891</td>\n",
       "      <td>204</td>\n",
       "      <td>889</td>\n",
       "    </tr>\n",
       "    <tr>\n",
       "      <th>unique</th>\n",
       "      <td>891</td>\n",
       "      <td>2</td>\n",
       "      <td>681</td>\n",
       "      <td>147</td>\n",
       "      <td>3</td>\n",
       "    </tr>\n",
       "    <tr>\n",
       "      <th>top</th>\n",
       "      <td>Braund, Mr. Owen Harris</td>\n",
       "      <td>male</td>\n",
       "      <td>347082</td>\n",
       "      <td>B96 B98</td>\n",
       "      <td>S</td>\n",
       "    </tr>\n",
       "    <tr>\n",
       "      <th>freq</th>\n",
       "      <td>1</td>\n",
       "      <td>577</td>\n",
       "      <td>7</td>\n",
       "      <td>4</td>\n",
       "      <td>644</td>\n",
       "    </tr>\n",
       "  </tbody>\n",
       "</table>\n",
       "</div>"
      ],
      "text/plain": [
       "                           Name   Sex  Ticket    Cabin Embarked\n",
       "count                       891   891     891      204      889\n",
       "unique                      891     2     681      147        3\n",
       "top     Braund, Mr. Owen Harris  male  347082  B96 B98        S\n",
       "freq                          1   577       7        4      644"
      ]
     },
     "execution_count": 8,
     "metadata": {},
     "output_type": "execute_result"
    }
   ],
   "source": [
    "categorical_var = df.dtypes[df.dtypes == 'object'].index\n",
    "df[categorical_var].describe() "
   ]
  },
  {
   "cell_type": "markdown",
   "id": "eacbc00d",
   "metadata": {
    "papermill": {
     "duration": 0.009896,
     "end_time": "2025-04-10T15:36:43.012546",
     "exception": false,
     "start_time": "2025-04-10T15:36:43.002650",
     "status": "completed"
    },
    "tags": []
   },
   "source": [
    "### 5. 🔍 **Missing Values & Outliers**"
   ]
  },
  {
   "cell_type": "code",
   "execution_count": 9,
   "id": "8252a9e3",
   "metadata": {
    "execution": {
     "iopub.execute_input": "2025-04-10T15:36:43.034496Z",
     "iopub.status.busy": "2025-04-10T15:36:43.034067Z",
     "iopub.status.idle": "2025-04-10T15:36:43.043170Z",
     "shell.execute_reply": "2025-04-10T15:36:43.042016Z"
    },
    "papermill": {
     "duration": 0.021982,
     "end_time": "2025-04-10T15:36:43.044876",
     "exception": false,
     "start_time": "2025-04-10T15:36:43.022894",
     "status": "completed"
    },
    "tags": []
   },
   "outputs": [
    {
     "data": {
      "text/plain": [
       "Cabin          687\n",
       "Age            177\n",
       "Embarked         2\n",
       "PassengerId      0\n",
       "Survived         0\n",
       "Pclass           0\n",
       "Name             0\n",
       "Sex              0\n",
       "SibSp            0\n",
       "Parch            0\n",
       "Ticket           0\n",
       "Fare             0\n",
       "dtype: int64"
      ]
     },
     "execution_count": 9,
     "metadata": {},
     "output_type": "execute_result"
    }
   ],
   "source": [
    "df.isnull().sum().sort_values(ascending = False) "
   ]
  },
  {
   "cell_type": "code",
   "execution_count": 10,
   "id": "4e3605aa",
   "metadata": {
    "execution": {
     "iopub.execute_input": "2025-04-10T15:36:43.066200Z",
     "iopub.status.busy": "2025-04-10T15:36:43.065831Z",
     "iopub.status.idle": "2025-04-10T15:36:43.074742Z",
     "shell.execute_reply": "2025-04-10T15:36:43.073824Z"
    },
    "papermill": {
     "duration": 0.021725,
     "end_time": "2025-04-10T15:36:43.076547",
     "exception": false,
     "start_time": "2025-04-10T15:36:43.054822",
     "status": "completed"
    },
    "tags": []
   },
   "outputs": [
    {
     "data": {
      "text/plain": [
       "Cabin          0.771044\n",
       "Age            0.198653\n",
       "Embarked       0.002245\n",
       "PassengerId    0.000000\n",
       "Survived       0.000000\n",
       "Pclass         0.000000\n",
       "Name           0.000000\n",
       "Sex            0.000000\n",
       "SibSp          0.000000\n",
       "Parch          0.000000\n",
       "Ticket         0.000000\n",
       "Fare           0.000000\n",
       "dtype: float64"
      ]
     },
     "execution_count": 10,
     "metadata": {},
     "output_type": "execute_result"
    }
   ],
   "source": [
    "(df.isnull().sum() / len(df)).sort_values(ascending = False) "
   ]
  },
  {
   "cell_type": "code",
   "execution_count": 11,
   "id": "c979df8c",
   "metadata": {
    "execution": {
     "iopub.execute_input": "2025-04-10T15:36:43.098495Z",
     "iopub.status.busy": "2025-04-10T15:36:43.098098Z",
     "iopub.status.idle": "2025-04-10T15:36:43.488771Z",
     "shell.execute_reply": "2025-04-10T15:36:43.487768Z"
    },
    "papermill": {
     "duration": 0.403721,
     "end_time": "2025-04-10T15:36:43.490598",
     "exception": false,
     "start_time": "2025-04-10T15:36:43.086877",
     "status": "completed"
    },
    "tags": []
   },
   "outputs": [
    {
     "data": {
      "image/png": "[encoded data removed]",
      "text/plain": [
       "<Figure size 640x480 with 1 Axes>"
      ]
     },
     "metadata": {},
     "output_type": "display_data"
    }
   ],
   "source": [
    "sns.heatmap(df.isnull(), cbar = False)\n",
    "plt.show() "
   ]
  },
  {
   "cell_type": "code",
   "execution_count": 12,
   "id": "45c2b230",
   "metadata": {
    "execution": {
     "iopub.execute_input": "2025-04-10T15:36:43.513724Z",
     "iopub.status.busy": "2025-04-10T15:36:43.513309Z",
     "iopub.status.idle": "2025-04-10T15:36:43.523000Z",
     "shell.execute_reply": "2025-04-10T15:36:43.521885Z"
    },
    "papermill": {
     "duration": 0.023088,
     "end_time": "2025-04-10T15:36:43.524631",
     "exception": false,
     "start_time": "2025-04-10T15:36:43.501543",
     "status": "completed"
    },
    "tags": []
   },
   "outputs": [
    {
     "data": {
      "text/plain": [
       "count    714.000000\n",
       "mean      29.699118\n",
       "std       14.526497\n",
       "min        0.420000\n",
       "25%       20.125000\n",
       "50%       28.000000\n",
       "75%       38.000000\n",
       "max       80.000000\n",
       "Name: Age, dtype: float64"
      ]
     },
     "execution_count": 12,
     "metadata": {},
     "output_type": "execute_result"
    }
   ],
   "source": [
    "df['Age'].describe() "
   ]
  },
  {
   "cell_type": "code",
   "execution_count": 13,
   "id": "6f39bf59",
   "metadata": {
    "execution": {
     "iopub.execute_input": "2025-04-10T15:36:43.548808Z",
     "iopub.status.busy": "2025-04-10T15:36:43.548409Z",
     "iopub.status.idle": "2025-04-10T15:36:43.807442Z",
     "shell.execute_reply": "2025-04-10T15:36:43.806393Z"
    },
    "papermill": {
     "duration": 0.273265,
     "end_time": "2025-04-10T15:36:43.809024",
     "exception": false,
     "start_time": "2025-04-10T15:36:43.535759",
     "status": "completed"
    },
    "tags": []
   },
   "outputs": [
    {
     "data": {
      "image/png": "[encoded data removed]",
      "text/plain": [
       "<Figure size 640x480 with 1 Axes>"
      ]
     },
     "metadata": {},
     "output_type": "display_data"
    }
   ],
   "source": [
    "df['Age'].plot(kind='hist',\n",
    "              bins = 30)\n",
    "plt.show() "
   ]
  },
  {
   "cell_type": "code",
   "execution_count": 14,
   "id": "3447d61e",
   "metadata": {
    "execution": {
     "iopub.execute_input": "2025-04-10T15:36:43.833059Z",
     "iopub.status.busy": "2025-04-10T15:36:43.832724Z",
     "iopub.status.idle": "2025-04-10T15:36:43.837170Z",
     "shell.execute_reply": "2025-04-10T15:36:43.836258Z"
    },
    "papermill": {
     "duration": 0.01816,
     "end_time": "2025-04-10T15:36:43.838702",
     "exception": false,
     "start_time": "2025-04-10T15:36:43.820542",
     "status": "completed"
    },
    "tags": []
   },
   "outputs": [],
   "source": [
    "age_median = df['Age'].median() "
   ]
  },
  {
   "cell_type": "code",
   "execution_count": 15,
   "id": "0ed0af1d",
   "metadata": {
    "execution": {
     "iopub.execute_input": "2025-04-10T15:36:43.862454Z",
     "iopub.status.busy": "2025-04-10T15:36:43.862066Z",
     "iopub.status.idle": "2025-04-10T15:36:43.872363Z",
     "shell.execute_reply": "2025-04-10T15:36:43.871390Z"
    },
    "papermill": {
     "duration": 0.024093,
     "end_time": "2025-04-10T15:36:43.874037",
     "exception": false,
     "start_time": "2025-04-10T15:36:43.849944",
     "status": "completed"
    },
    "tags": []
   },
   "outputs": [
    {
     "data": {
      "text/plain": [
       "count    891.000000\n",
       "mean      29.361582\n",
       "std       13.019697\n",
       "min        0.420000\n",
       "25%       22.000000\n",
       "50%       28.000000\n",
       "75%       35.000000\n",
       "max       80.000000\n",
       "Name: Age, dtype: float64"
      ]
     },
     "execution_count": 15,
     "metadata": {},
     "output_type": "execute_result"
    }
   ],
   "source": [
    "new_age = np.where(df['Age'].isnull(),\n",
    "                   age_median,\n",
    "                   df['Age']) \n",
    "df['Age'] = new_age\n",
    "df['Age'].describe() "
   ]
  },
  {
   "cell_type": "code",
   "execution_count": 16,
   "id": "93c2bea2",
   "metadata": {
    "execution": {
     "iopub.execute_input": "2025-04-10T15:36:43.899191Z",
     "iopub.status.busy": "2025-04-10T15:36:43.898837Z",
     "iopub.status.idle": "2025-04-10T15:36:44.022297Z",
     "shell.execute_reply": "2025-04-10T15:36:44.020891Z"
    },
    "papermill": {
     "duration": 0.137893,
     "end_time": "2025-04-10T15:36:44.024073",
     "exception": false,
     "start_time": "2025-04-10T15:36:43.886180",
     "status": "completed"
    },
    "tags": []
   },
   "outputs": [
    {
     "data": {
      "image/png": "[encoded data removed]",
      "text/plain": [
       "<Figure size 500x400 with 1 Axes>"
      ]
     },
     "metadata": {},
     "output_type": "display_data"
    }
   ],
   "source": [
    "df['Age'].plot(kind = 'box', \n",
    "               figsize = (5, 4))\n",
    "plt.show() "
   ]
  },
  {
   "cell_type": "code",
   "execution_count": 17,
   "id": "2fb11617",
   "metadata": {
    "execution": {
     "iopub.execute_input": "2025-04-10T15:36:44.049254Z",
     "iopub.status.busy": "2025-04-10T15:36:44.048874Z",
     "iopub.status.idle": "2025-04-10T15:36:44.058750Z",
     "shell.execute_reply": "2025-04-10T15:36:44.057724Z"
    },
    "papermill": {
     "duration": 0.02424,
     "end_time": "2025-04-10T15:36:44.060457",
     "exception": false,
     "start_time": "2025-04-10T15:36:44.036217",
     "status": "completed"
    },
    "tags": []
   },
   "outputs": [
    {
     "data": {
      "text/plain": [
       "count    891.000000\n",
       "mean      32.204208\n",
       "std       49.693429\n",
       "min        0.000000\n",
       "25%        7.910400\n",
       "50%       14.454200\n",
       "75%       31.000000\n",
       "max      512.329200\n",
       "Name: Fare, dtype: float64"
      ]
     },
     "execution_count": 17,
     "metadata": {},
     "output_type": "execute_result"
    }
   ],
   "source": [
    "df['Fare'].describe() "
   ]
  },
  {
   "cell_type": "code",
   "execution_count": 18,
   "id": "b246071b",
   "metadata": {
    "execution": {
     "iopub.execute_input": "2025-04-10T15:36:44.085627Z",
     "iopub.status.busy": "2025-04-10T15:36:44.085224Z",
     "iopub.status.idle": "2025-04-10T15:36:44.212758Z",
     "shell.execute_reply": "2025-04-10T15:36:44.211617Z"
    },
    "papermill": {
     "duration": 0.142053,
     "end_time": "2025-04-10T15:36:44.214497",
     "exception": false,
     "start_time": "2025-04-10T15:36:44.072444",
     "status": "completed"
    },
    "tags": []
   },
   "outputs": [
    {
     "data": {
      "text/plain": [
       "<Axes: >"
      ]
     },
     "execution_count": 18,
     "metadata": {},
     "output_type": "execute_result"
    },
    {
     "data": {
      "image/png": "[encoded data removed]",
      "text/plain": [
       "<Figure size 500x400 with 1 Axes>"
      ]
     },
     "metadata": {},
     "output_type": "display_data"
    }
   ],
   "source": [
    "df['Fare'].plot(kind = 'box',\n",
    "                figsize = (5, 4)) "
   ]
  },
  {
   "cell_type": "markdown",
   "id": "fb89bd32",
   "metadata": {
    "papermill": {
     "duration": 0.012247,
     "end_time": "2025-04-10T15:36:44.239371",
     "exception": false,
     "start_time": "2025-04-10T15:36:44.227124",
     "status": "completed"
    },
    "tags": []
   },
   "source": [
    "#  📰 ***Conclusion Set 1 from Data Exploration***"
   ]
  },
  {
   "cell_type": "markdown",
   "id": "b30301d1",
   "metadata": {
    "papermill": {
     "duration": 0.012119,
     "end_time": "2025-04-10T15:36:44.264294",
     "exception": false,
     "start_time": "2025-04-10T15:36:44.252175",
     "status": "completed"
    },
    "tags": []
   },
   "source": [
    "1. The columns have float datatypes are 2, integer datatype 5, object datatype are 5\n",
    "\n",
    "2. There are 891 rows and 12 columns in the dataset."
   ]
  },
  {
   "cell_type": "markdown",
   "id": "bb8ceddc",
   "metadata": {
    "papermill": {
     "duration": 0.012386,
     "end_time": "2025-04-10T15:36:44.288821",
     "exception": false,
     "start_time": "2025-04-10T15:36:44.276435",
     "status": "completed"
    },
    "tags": []
   },
   "source": [
    "# 🔨  ***Data Cleaning***  "
   ]
  },
  {
   "cell_type": "markdown",
   "id": "7a722c73",
   "metadata": {
    "papermill": {
     "duration": 0.011975,
     "end_time": "2025-04-10T15:36:44.313016",
     "exception": false,
     "start_time": "2025-04-10T15:36:44.301041",
     "status": "completed"
    },
    "tags": []
   },
   "source": [
    "### 1. 🔍 **Col: PassengerId**\n",
    "\n",
    "*  \"PassengerId\" is just a number assigned to each passenger.\n",
    "*   It is nothing more than an arbitrary identifier. "
   ]
  },
  {
   "cell_type": "code",
   "execution_count": 19,
   "id": "06482ac1",
   "metadata": {
    "execution": {
     "iopub.execute_input": "2025-04-10T15:36:44.338692Z",
     "iopub.status.busy": "2025-04-10T15:36:44.338246Z",
     "iopub.status.idle": "2025-04-10T15:36:44.343241Z",
     "shell.execute_reply": "2025-04-10T15:36:44.342111Z"
    },
    "papermill": {
     "duration": 0.019777,
     "end_time": "2025-04-10T15:36:44.344874",
     "exception": false,
     "start_time": "2025-04-10T15:36:44.325097",
     "status": "completed"
    },
    "tags": []
   },
   "outputs": [],
   "source": [
    "del df['PassengerId']"
   ]
  },
  {
   "cell_type": "markdown",
   "id": "b4f72549",
   "metadata": {
    "papermill": {
     "duration": 0.011755,
     "end_time": "2025-04-10T15:36:44.368900",
     "exception": false,
     "start_time": "2025-04-10T15:36:44.357145",
     "status": "completed"
    },
    "tags": []
   },
   "source": [
    "### 2. 🔍 **Col: Ticket**\n"
   ]
  },
  {
   "cell_type": "code",
   "execution_count": 20,
   "id": "60b3642a",
   "metadata": {
    "execution": {
     "iopub.execute_input": "2025-04-10T15:36:44.394575Z",
     "iopub.status.busy": "2025-04-10T15:36:44.394178Z",
     "iopub.status.idle": "2025-04-10T15:36:44.401350Z",
     "shell.execute_reply": "2025-04-10T15:36:44.400459Z"
    },
    "papermill": {
     "duration": 0.021855,
     "end_time": "2025-04-10T15:36:44.402823",
     "exception": false,
     "start_time": "2025-04-10T15:36:44.380968",
     "status": "completed"
    },
    "tags": []
   },
   "outputs": [
    {
     "data": {
      "text/plain": [
       "0           A/5 21171\n",
       "1            PC 17599\n",
       "2    STON/O2. 3101282\n",
       "3              113803\n",
       "4              373450\n",
       "5              330877\n",
       "6               17463\n",
       "7              349909\n",
       "8              347742\n",
       "9              237736\n",
       "Name: Ticket, dtype: object"
      ]
     },
     "execution_count": 20,
     "metadata": {},
     "output_type": "execute_result"
    }
   ],
   "source": [
    "df['Ticket'][0:10] "
   ]
  },
  {
   "cell_type": "code",
   "execution_count": 21,
   "id": "12d3bbc7",
   "metadata": {
    "execution": {
     "iopub.execute_input": "2025-04-10T15:36:44.429922Z",
     "iopub.status.busy": "2025-04-10T15:36:44.429548Z",
     "iopub.status.idle": "2025-04-10T15:36:44.438113Z",
     "shell.execute_reply": "2025-04-10T15:36:44.437134Z"
    },
    "papermill": {
     "duration": 0.0239,
     "end_time": "2025-04-10T15:36:44.439866",
     "exception": false,
     "start_time": "2025-04-10T15:36:44.415966",
     "status": "completed"
    },
    "tags": []
   },
   "outputs": [
    {
     "data": {
      "text/plain": [
       "count        891\n",
       "unique       681\n",
       "top       347082\n",
       "freq           7\n",
       "Name: Ticket, dtype: object"
      ]
     },
     "execution_count": 21,
     "metadata": {},
     "output_type": "execute_result"
    }
   ],
   "source": [
    "df['Ticket'].describe() "
   ]
  },
  {
   "cell_type": "markdown",
   "id": "0c14da4f",
   "metadata": {
    "papermill": {
     "duration": 0.012934,
     "end_time": "2025-04-10T15:36:44.465502",
     "exception": false,
     "start_time": "2025-04-10T15:36:44.452568",
     "status": "completed"
    },
    "tags": []
   },
   "source": [
    "1. Ticket is a categorical variable which has **680 unique** values.\n",
    "   \n",
    "2. Categorical variables with almost as many as levels as there are records are often not practical for prediction.\n",
    "\n",
    "3. Feature Engineering Processing:\n",
    "\n",
    "           1. The Prefix of the Ticket (letter part)\n",
    "\n",
    "           2. Purely Numeric Tickets\n",
    "\n",
    "           3. The Number of Repetitions per Ticket(i.e., the number of people traveling   together)\n",
    "\n",
    "   "
   ]
  },
  {
   "cell_type": "code",
   "execution_count": 22,
   "id": "a09d123d",
   "metadata": {
    "execution": {
     "iopub.execute_input": "2025-04-10T15:36:44.492164Z",
     "iopub.status.busy": "2025-04-10T15:36:44.491790Z",
     "iopub.status.idle": "2025-04-10T15:36:44.514553Z",
     "shell.execute_reply": "2025-04-10T15:36:44.513460Z"
    },
    "papermill": {
     "duration": 0.037922,
     "end_time": "2025-04-10T15:36:44.516225",
     "exception": false,
     "start_time": "2025-04-10T15:36:44.478303",
     "status": "completed"
    },
    "tags": []
   },
   "outputs": [
    {
     "data": {
      "text/html": [
       "<div>\n",
       "<style scoped>\n",
       "    .dataframe tbody tr th:only-of-type {\n",
       "        vertical-align: middle;\n",
       "    }\n",
       "\n",
       "    .dataframe tbody tr th {\n",
       "        vertical-align: top;\n",
       "    }\n",
       "\n",
       "    .dataframe thead th {\n",
       "        text-align: right;\n",
       "    }\n",
       "</style>\n",
       "<table border=\"1\" class=\"dataframe\">\n",
       "  <thead>\n",
       "    <tr style=\"text-align: right;\">\n",
       "      <th></th>\n",
       "      <th>Ticket</th>\n",
       "      <th>Ticket_Prefix</th>\n",
       "      <th>Ticket_IsNumeric</th>\n",
       "      <th>Ticket_Freq</th>\n",
       "      <th>Pclass</th>\n",
       "    </tr>\n",
       "  </thead>\n",
       "  <tbody>\n",
       "    <tr>\n",
       "      <th>866</th>\n",
       "      <td>SC/PARIS 2149</td>\n",
       "      <td>SCPARIS</td>\n",
       "      <td>0</td>\n",
       "      <td>1</td>\n",
       "      <td>2</td>\n",
       "    </tr>\n",
       "    <tr>\n",
       "      <th>113</th>\n",
       "      <td>4136</td>\n",
       "      <td>None</td>\n",
       "      <td>1</td>\n",
       "      <td>1</td>\n",
       "      <td>3</td>\n",
       "    </tr>\n",
       "    <tr>\n",
       "      <th>585</th>\n",
       "      <td>110413</td>\n",
       "      <td>None</td>\n",
       "      <td>1</td>\n",
       "      <td>3</td>\n",
       "      <td>1</td>\n",
       "    </tr>\n",
       "    <tr>\n",
       "      <th>731</th>\n",
       "      <td>2699</td>\n",
       "      <td>None</td>\n",
       "      <td>1</td>\n",
       "      <td>2</td>\n",
       "      <td>3</td>\n",
       "    </tr>\n",
       "    <tr>\n",
       "      <th>818</th>\n",
       "      <td>C 7075</td>\n",
       "      <td>C</td>\n",
       "      <td>0</td>\n",
       "      <td>1</td>\n",
       "      <td>3</td>\n",
       "    </tr>\n",
       "    <tr>\n",
       "      <th>70</th>\n",
       "      <td>C.A. 33111</td>\n",
       "      <td>CA</td>\n",
       "      <td>0</td>\n",
       "      <td>1</td>\n",
       "      <td>2</td>\n",
       "    </tr>\n",
       "    <tr>\n",
       "      <th>427</th>\n",
       "      <td>250655</td>\n",
       "      <td>None</td>\n",
       "      <td>1</td>\n",
       "      <td>2</td>\n",
       "      <td>2</td>\n",
       "    </tr>\n",
       "    <tr>\n",
       "      <th>274</th>\n",
       "      <td>370375</td>\n",
       "      <td>None</td>\n",
       "      <td>1</td>\n",
       "      <td>1</td>\n",
       "      <td>3</td>\n",
       "    </tr>\n",
       "    <tr>\n",
       "      <th>668</th>\n",
       "      <td>A/5 3536</td>\n",
       "      <td>A5</td>\n",
       "      <td>0</td>\n",
       "      <td>1</td>\n",
       "      <td>3</td>\n",
       "    </tr>\n",
       "    <tr>\n",
       "      <th>292</th>\n",
       "      <td>SC/Paris 2163</td>\n",
       "      <td>SCParis</td>\n",
       "      <td>0</td>\n",
       "      <td>1</td>\n",
       "      <td>2</td>\n",
       "    </tr>\n",
       "    <tr>\n",
       "      <th>56</th>\n",
       "      <td>C.A. 31026</td>\n",
       "      <td>CA</td>\n",
       "      <td>0</td>\n",
       "      <td>1</td>\n",
       "      <td>2</td>\n",
       "    </tr>\n",
       "    <tr>\n",
       "      <th>301</th>\n",
       "      <td>367226</td>\n",
       "      <td>None</td>\n",
       "      <td>1</td>\n",
       "      <td>2</td>\n",
       "      <td>3</td>\n",
       "    </tr>\n",
       "    <tr>\n",
       "      <th>91</th>\n",
       "      <td>347466</td>\n",
       "      <td>None</td>\n",
       "      <td>1</td>\n",
       "      <td>1</td>\n",
       "      <td>3</td>\n",
       "    </tr>\n",
       "    <tr>\n",
       "      <th>310</th>\n",
       "      <td>11767</td>\n",
       "      <td>None</td>\n",
       "      <td>1</td>\n",
       "      <td>2</td>\n",
       "      <td>1</td>\n",
       "    </tr>\n",
       "    <tr>\n",
       "      <th>559</th>\n",
       "      <td>345572</td>\n",
       "      <td>None</td>\n",
       "      <td>1</td>\n",
       "      <td>1</td>\n",
       "      <td>3</td>\n",
       "    </tr>\n",
       "  </tbody>\n",
       "</table>\n",
       "</div>"
      ],
      "text/plain": [
       "            Ticket Ticket_Prefix  Ticket_IsNumeric  Ticket_Freq  Pclass\n",
       "866  SC/PARIS 2149       SCPARIS                 0            1       2\n",
       "113           4136          None                 1            1       3\n",
       "585         110413          None                 1            3       1\n",
       "731           2699          None                 1            2       3\n",
       "818         C 7075             C                 0            1       3\n",
       "70      C.A. 33111            CA                 0            1       2\n",
       "427         250655          None                 1            2       2\n",
       "274         370375          None                 1            1       3\n",
       "668       A/5 3536            A5                 0            1       3\n",
       "292  SC/Paris 2163       SCParis                 0            1       2\n",
       "56      C.A. 31026            CA                 0            1       2\n",
       "301         367226          None                 1            2       3\n",
       "91          347466          None                 1            1       3\n",
       "310          11767          None                 1            2       1\n",
       "559         345572          None                 1            1       3"
      ]
     },
     "execution_count": 22,
     "metadata": {},
     "output_type": "execute_result"
    }
   ],
   "source": [
    "def extract_prefix(ticket):\n",
    "    parts = ticket.replace('.', '').replace('/','').split() \n",
    "    prefix = [p for p in parts if not p.isdigit()] \n",
    "    return prefix[0] if prefix else 'None' \n",
    "\n",
    "df['Ticket_Prefix'] = df['Ticket'].apply(extract_prefix) \n",
    "\n",
    "df['Ticket_IsNumeric'] = df['Ticket'].apply(lambda x: x.isdigit()).astype(int) \n",
    "\n",
    "ticket_counts = df['Ticket'].value_counts() \n",
    "df['Ticket_Freq'] = df['Ticket'].map(ticket_counts) \n",
    "\n",
    "df[['Ticket', 'Ticket_Prefix', 'Ticket_IsNumeric', 'Ticket_Freq', 'Pclass']].sample(15) "
   ]
  },
  {
   "cell_type": "markdown",
   "id": "6495ca38",
   "metadata": {
    "papermill": {
     "duration": 0.012905,
     "end_time": "2025-04-10T15:36:44.542376",
     "exception": false,
     "start_time": "2025-04-10T15:36:44.529471",
     "status": "completed"
    },
    "tags": []
   },
   "source": [
    "### 3. 🔍 **Col: Cabin**  "
   ]
  },
  {
   "cell_type": "code",
   "execution_count": 23,
   "id": "622757fd",
   "metadata": {
    "execution": {
     "iopub.execute_input": "2025-04-10T15:36:44.569457Z",
     "iopub.status.busy": "2025-04-10T15:36:44.569055Z",
     "iopub.status.idle": "2025-04-10T15:36:44.576003Z",
     "shell.execute_reply": "2025-04-10T15:36:44.575116Z"
    },
    "papermill": {
     "duration": 0.022188,
     "end_time": "2025-04-10T15:36:44.577631",
     "exception": false,
     "start_time": "2025-04-10T15:36:44.555443",
     "status": "completed"
    },
    "tags": []
   },
   "outputs": [
    {
     "data": {
      "text/plain": [
       "0     NaN\n",
       "1     C85\n",
       "2     NaN\n",
       "3    C123\n",
       "4     NaN\n",
       "5     NaN\n",
       "6     E46\n",
       "7     NaN\n",
       "8     NaN\n",
       "9     NaN\n",
       "Name: Cabin, dtype: object"
      ]
     },
     "execution_count": 23,
     "metadata": {},
     "output_type": "execute_result"
    }
   ],
   "source": [
    "df['Cabin'][0:10]"
   ]
  },
  {
   "cell_type": "code",
   "execution_count": 24,
   "id": "b549f11c",
   "metadata": {
    "execution": {
     "iopub.execute_input": "2025-04-10T15:36:44.604781Z",
     "iopub.status.busy": "2025-04-10T15:36:44.604275Z",
     "iopub.status.idle": "2025-04-10T15:36:44.613470Z",
     "shell.execute_reply": "2025-04-10T15:36:44.612307Z"
    },
    "papermill": {
     "duration": 0.024778,
     "end_time": "2025-04-10T15:36:44.615247",
     "exception": false,
     "start_time": "2025-04-10T15:36:44.590469",
     "status": "completed"
    },
    "tags": []
   },
   "outputs": [
    {
     "data": {
      "text/plain": [
       "count         204\n",
       "unique        147\n",
       "top       B96 B98\n",
       "freq            4\n",
       "Name: Cabin, dtype: object"
      ]
     },
     "execution_count": 24,
     "metadata": {},
     "output_type": "execute_result"
    }
   ],
   "source": [
    "df['Cabin'].describe() "
   ]
  },
  {
   "cell_type": "markdown",
   "id": "039ccede",
   "metadata": {
    "papermill": {
     "duration": 0.012837,
     "end_time": "2025-04-10T15:36:44.641850",
     "exception": false,
     "start_time": "2025-04-10T15:36:44.629013",
     "status": "completed"
    },
    "tags": []
   },
   "source": [
    "1. The Cabin column has 147 unique values, which may not be particularly useful for prediction.\n",
    "\n",
    "2. On the other hand, the names for the cabin variable seem to have a regular structure: a capital letter followed by a number --> use this structure to reduce the number of levels to make categories large enough, which may be useful for prediction.  "
   ]
  },
  {
   "cell_type": "code",
   "execution_count": 25,
   "id": "4b8614e5",
   "metadata": {
    "execution": {
     "iopub.execute_input": "2025-04-10T15:36:44.671232Z",
     "iopub.status.busy": "2025-04-10T15:36:44.670852Z",
     "iopub.status.idle": "2025-04-10T15:36:44.687781Z",
     "shell.execute_reply": "2025-04-10T15:36:44.686270Z"
    },
    "papermill": {
     "duration": 0.032892,
     "end_time": "2025-04-10T15:36:44.689640",
     "exception": false,
     "start_time": "2025-04-10T15:36:44.656748",
     "status": "completed"
    },
    "tags": []
   },
   "outputs": [
    {
     "data": {
      "text/html": [
       "<div>\n",
       "<style scoped>\n",
       "    .dataframe tbody tr th:only-of-type {\n",
       "        vertical-align: middle;\n",
       "    }\n",
       "\n",
       "    .dataframe tbody tr th {\n",
       "        vertical-align: top;\n",
       "    }\n",
       "\n",
       "    .dataframe thead th {\n",
       "        text-align: right;\n",
       "    }\n",
       "</style>\n",
       "<table border=\"1\" class=\"dataframe\">\n",
       "  <thead>\n",
       "    <tr style=\"text-align: right;\">\n",
       "      <th></th>\n",
       "      <th>counts</th>\n",
       "      <th>freqs</th>\n",
       "    </tr>\n",
       "    <tr>\n",
       "      <th>categories</th>\n",
       "      <th></th>\n",
       "      <th></th>\n",
       "    </tr>\n",
       "  </thead>\n",
       "  <tbody>\n",
       "    <tr>\n",
       "      <th>A</th>\n",
       "      <td>15</td>\n",
       "      <td>0.016835</td>\n",
       "    </tr>\n",
       "    <tr>\n",
       "      <th>B</th>\n",
       "      <td>47</td>\n",
       "      <td>0.052750</td>\n",
       "    </tr>\n",
       "    <tr>\n",
       "      <th>C</th>\n",
       "      <td>59</td>\n",
       "      <td>0.066218</td>\n",
       "    </tr>\n",
       "    <tr>\n",
       "      <th>D</th>\n",
       "      <td>33</td>\n",
       "      <td>0.037037</td>\n",
       "    </tr>\n",
       "    <tr>\n",
       "      <th>E</th>\n",
       "      <td>32</td>\n",
       "      <td>0.035915</td>\n",
       "    </tr>\n",
       "    <tr>\n",
       "      <th>F</th>\n",
       "      <td>13</td>\n",
       "      <td>0.014590</td>\n",
       "    </tr>\n",
       "    <tr>\n",
       "      <th>G</th>\n",
       "      <td>4</td>\n",
       "      <td>0.004489</td>\n",
       "    </tr>\n",
       "    <tr>\n",
       "      <th>T</th>\n",
       "      <td>1</td>\n",
       "      <td>0.001122</td>\n",
       "    </tr>\n",
       "    <tr>\n",
       "      <th>n</th>\n",
       "      <td>687</td>\n",
       "      <td>0.771044</td>\n",
       "    </tr>\n",
       "  </tbody>\n",
       "</table>\n",
       "</div>"
      ],
      "text/plain": [
       "            counts     freqs\n",
       "categories                  \n",
       "A               15  0.016835\n",
       "B               47  0.052750\n",
       "C               59  0.066218\n",
       "D               33  0.037037\n",
       "E               32  0.035915\n",
       "F               13  0.014590\n",
       "G                4  0.004489\n",
       "T                1  0.001122\n",
       "n              687  0.771044"
      ]
     },
     "execution_count": 25,
     "metadata": {},
     "output_type": "execute_result"
    }
   ],
   "source": [
    "convert_cabin = df['Cabin'].astype(str) \n",
    "\n",
    "new_cabin = np.array([Cabin[0] for Cabin in convert_cabin])  \n",
    "new_cabin = pd.Categorical(new_cabin) \n",
    "\n",
    "new_cabin.describe() "
   ]
  },
  {
   "cell_type": "markdown",
   "id": "1ddad69d",
   "metadata": {
    "papermill": {
     "duration": 0.01245,
     "end_time": "2025-04-10T15:36:44.715485",
     "exception": false,
     "start_time": "2025-04-10T15:36:44.703035",
     "status": "completed"
    },
    "tags": []
   },
   "source": [
    "# 🎥   ***Data Visualization***   "
   ]
  },
  {
   "cell_type": "markdown",
   "id": "cfd9ac05",
   "metadata": {
    "papermill": {
     "duration": 0.012727,
     "end_time": "2025-04-10T15:36:44.741006",
     "exception": false,
     "start_time": "2025-04-10T15:36:44.728279",
     "status": "completed"
    },
    "tags": []
   },
   "source": [
    "### 1. 🔍 **Survivial Rate Distribution**"
   ]
  },
  {
   "cell_type": "code",
   "execution_count": 26,
   "id": "5db230aa",
   "metadata": {
    "execution": {
     "iopub.execute_input": "2025-04-10T15:36:44.768879Z",
     "iopub.status.busy": "2025-04-10T15:36:44.768514Z",
     "iopub.status.idle": "2025-04-10T15:36:44.874715Z",
     "shell.execute_reply": "2025-04-10T15:36:44.873449Z"
    },
    "papermill": {
     "duration": 0.12232,
     "end_time": "2025-04-10T15:36:44.876530",
     "exception": false,
     "start_time": "2025-04-10T15:36:44.754210",
     "status": "completed"
    },
    "tags": []
   },
   "outputs": [
    {
     "data": {
      "image/png": "[encoded data removed]",
      "text/plain": [
       "<Figure size 640x480 with 1 Axes>"
      ]
     },
     "metadata": {},
     "output_type": "display_data"
    }
   ],
   "source": [
    "df['Survived'].value_counts().plot(kind='pie',\n",
    "                                   startangle= 90, \n",
    "                                   autopct = '%1.1f%%') \n",
    "\n",
    "plt.ylabel('')\n",
    "plt.title('Distribution of Survival Rates')\n",
    "plt.show()  "
   ]
  },
  {
   "cell_type": "markdown",
   "id": "6b5bf910",
   "metadata": {
    "papermill": {
     "duration": 0.013272,
     "end_time": "2025-04-10T15:36:44.903455",
     "exception": false,
     "start_time": "2025-04-10T15:36:44.890183",
     "status": "completed"
    },
    "tags": []
   },
   "source": [
    "### 2. 🔍 **Create a subplot that displays the count of survivors categorized by gender & port of embarkation & Pclass**"
   ]
  },
  {
   "cell_type": "code",
   "execution_count": 27,
   "id": "e973383a",
   "metadata": {
    "execution": {
     "iopub.execute_input": "2025-04-10T15:36:44.932528Z",
     "iopub.status.busy": "2025-04-10T15:36:44.932111Z",
     "iopub.status.idle": "2025-04-10T15:36:44.936513Z",
     "shell.execute_reply": "2025-04-10T15:36:44.935422Z"
    },
    "papermill": {
     "duration": 0.02071,
     "end_time": "2025-04-10T15:36:44.938161",
     "exception": false,
     "start_time": "2025-04-10T15:36:44.917451",
     "status": "completed"
    },
    "tags": []
   },
   "outputs": [],
   "source": [
    "cate_cols = ['Sex', 'Embarked', 'Pclass'] \n",
    "target = 'Survived' "
   ]
  },
  {
   "cell_type": "code",
   "execution_count": 28,
   "id": "1faf193b",
   "metadata": {
    "execution": {
     "iopub.execute_input": "2025-04-10T15:36:44.966672Z",
     "iopub.status.busy": "2025-04-10T15:36:44.966282Z",
     "iopub.status.idle": "2025-04-10T15:36:44.996445Z",
     "shell.execute_reply": "2025-04-10T15:36:44.995532Z"
    },
    "papermill": {
     "duration": 0.046116,
     "end_time": "2025-04-10T15:36:44.998160",
     "exception": false,
     "start_time": "2025-04-10T15:36:44.952044",
     "status": "completed"
    },
    "tags": []
   },
   "outputs": [
    {
     "data": {
      "text/plain": [
       "<Figure size 2500x1800 with 0 Axes>"
      ]
     },
     "metadata": {},
     "output_type": "display_data"
    }
   ],
   "source": [
    "fig = plt.figure(figsize = (25, len(cate_cols)*6))  "
   ]
  },
  {
   "cell_type": "code",
   "execution_count": 29,
   "id": "e789a44d",
   "metadata": {
    "execution": {
     "iopub.execute_input": "2025-04-10T15:36:45.027132Z",
     "iopub.status.busy": "2025-04-10T15:36:45.026782Z",
     "iopub.status.idle": "2025-04-10T15:36:45.555989Z",
     "shell.execute_reply": "2025-04-10T15:36:45.554739Z"
    },
    "papermill": {
     "duration": 0.546175,
     "end_time": "2025-04-10T15:36:45.558202",
     "exception": false,
     "start_time": "2025-04-10T15:36:45.012027",
     "status": "completed"
    },
    "tags": []
   },
   "outputs": [
    {
     "data": {
      "image/png": "[encoded data removed]",
      "text/plain": [
       "<Figure size 640x480 with 3 Axes>"
      ]
     },
     "metadata": {},
     "output_type": "display_data"
    }
   ],
   "source": [
    "for i, col in enumerate(cate_cols):\n",
    "    plt.subplot(len(cate_cols)//2 + len(cate_cols)%2, 2, i+1) \n",
    "    sns.countplot(x=col, hue=target, data=df) \n",
    "    plt.title(f'Count of Victims & Survivors Categorized by {col}', fontsize=8) \n",
    "    plt.ylim(0, df[col].value_counts().max()+10) \n",
    "    plt.ylabel('')\n",
    "\n",
    "\n",
    "plt.tight_layout() \n",
    "plt.show() \n"
   ]
  },
  {
   "cell_type": "markdown",
   "id": "a088734f",
   "metadata": {
    "papermill": {
     "duration": 0.013841,
     "end_time": "2025-04-10T15:36:45.588798",
     "exception": false,
     "start_time": "2025-04-10T15:36:45.574957",
     "status": "completed"
    },
    "tags": []
   },
   "source": [
    "### 3. 🔍 **Create a histplot that displays the count of survivors categorized by Age**"
   ]
  },
  {
   "cell_type": "code",
   "execution_count": 30,
   "id": "771a625a",
   "metadata": {
    "execution": {
     "iopub.execute_input": "2025-04-10T15:36:45.619133Z",
     "iopub.status.busy": "2025-04-10T15:36:45.618760Z",
     "iopub.status.idle": "2025-04-10T15:36:45.993833Z",
     "shell.execute_reply": "2025-04-10T15:36:45.992812Z"
    },
    "papermill": {
     "duration": 0.392706,
     "end_time": "2025-04-10T15:36:45.995831",
     "exception": false,
     "start_time": "2025-04-10T15:36:45.603125",
     "status": "completed"
    },
    "tags": []
   },
   "outputs": [
    {
     "data": {
      "image/png": "[encoded data removed]",
      "text/plain": [
       "<Figure size 640x480 with 1 Axes>"
      ]
     },
     "metadata": {},
     "output_type": "display_data"
    }
   ],
   "source": [
    "sns.histplot(data=df,\n",
    "             x='Age', \n",
    "             hue='Survived', \n",
    "             bins=30,\n",
    "             kde=True) \n",
    "\n",
    "plt.title('Age Distribution of Titanic Victims & Survivors')\n",
    "plt.show()"
   ]
  },
  {
   "cell_type": "markdown",
   "id": "863db4d1",
   "metadata": {
    "papermill": {
     "duration": 0.015074,
     "end_time": "2025-04-10T15:36:46.026239",
     "exception": false,
     "start_time": "2025-04-10T15:36:46.011165",
     "status": "completed"
    },
    "tags": []
   },
   "source": []
  },
  {
   "cell_type": "code",
   "execution_count": 31,
   "id": "8a802f86",
   "metadata": {
    "execution": {
     "iopub.execute_input": "2025-04-10T15:36:46.058119Z",
     "iopub.status.busy": "2025-04-10T15:36:46.057787Z",
     "iopub.status.idle": "2025-04-10T15:36:46.386665Z",
     "shell.execute_reply": "2025-04-10T15:36:46.385456Z"
    },
    "papermill": {
     "duration": 0.346954,
     "end_time": "2025-04-10T15:36:46.388405",
     "exception": false,
     "start_time": "2025-04-10T15:36:46.041451",
     "status": "completed"
    },
    "tags": []
   },
   "outputs": [
    {
     "data": {
      "text/plain": [
       "<Axes: xlabel='Pclass', ylabel='Survived'>"
      ]
     },
     "execution_count": 31,
     "metadata": {},
     "output_type": "execute_result"
    },
    {
     "data": {
      "image/png": "[encoded data removed]",
      "text/plain": [
       "<Figure size 640x480 with 1 Axes>"
      ]
     },
     "metadata": {},
     "output_type": "display_data"
    }
   ],
   "source": [
    "sns.barplot(x='Pclass',\n",
    "            y = 'Survived', \n",
    "            hue = 'Sex', \n",
    "            data = df) "
   ]
  },
  {
   "cell_type": "code",
   "execution_count": null,
   "id": "0aa96d85",
   "metadata": {
    "papermill": {
     "duration": 0.077088,
     "end_time": "2025-04-10T15:36:46.481481",
     "exception": false,
     "start_time": "2025-04-10T15:36:46.404393",
     "status": "completed"
    },
    "tags": []
   },
   "outputs": [],
   "source": []
  }
 ],
 "metadata": {
  "kaggle": {
   "accelerator": "none",
   "dataSources": [
    {
     "datasetId": 7093056,
     "sourceId": 11338283,
     "sourceType": "datasetVersion"
    }
   ],
   "dockerImageVersionId": 30918,
   "isGpuEnabled": false,
   "isInternetEnabled": true,
   "language": "python",
   "sourceType": "notebook"
  },
  "kernelspec": {
   "display_name": "Python 3",
   "language": "python",
   "name": "python3"
  },
  "language_info": {
   "codemirror_mode": {
    "name": "ipython",
    "version": 3
   },
   "file_extension": ".py",
   "mimetype": "text/x-python",
   "name": "python",
   "nbconvert_exporter": "python",
   "pygments_lexer": "ipython3",
   "version": "3.10.12"
  },
  "papermill": {
   "default_parameters": {},
   "duration": 12.630918,
   "end_time": "2025-04-10T15:36:47.419249",
   "environment_variables": {},
   "exception": null,
   "input_path": "__notebook__.ipynb",
   "output_path": "__notebook__.ipynb",
   "parameters": {},
   "start_time": "2025-04-10T15:36:34.788331",
   "version": "2.6.0"
  }
 },
 "nbformat": 4,
 "nbformat_minor": 5
}
