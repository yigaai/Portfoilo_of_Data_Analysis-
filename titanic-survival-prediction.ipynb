{
 "cells": [
  {
   "cell_type": "markdown",
   "id": "00365877",
   "metadata": {
    "papermill": {
     "duration": 0.011084,
     "end_time": "2025-04-09T11:29:18.624433",
     "exception": false,
     "start_time": "2025-04-09T11:29:18.613349",
     "status": "completed"
    },
    "tags": []
   },
   "source": [
    "# 🛳️ **Titanic Survival Prediction**  "
   ]
  },
  {
   "cell_type": "markdown",
   "id": "c18784d4",
   "metadata": {
    "papermill": {
     "duration": 0.005369,
     "end_time": "2025-04-09T11:29:18.636042",
     "exception": false,
     "start_time": "2025-04-09T11:29:18.630673",
     "status": "completed"
    },
    "tags": []
   },
   "source": [
    "# ***🎯 Goals & Tasks:*** \n",
    "\n",
    "* 1. Provide insight by means of data. "
   ]
  },
  {
   "cell_type": "markdown",
   "id": "f613abc3",
   "metadata": {
    "papermill": {
     "duration": 0.005288,
     "end_time": "2025-04-09T11:29:18.646917",
     "exception": false,
     "start_time": "2025-04-09T11:29:18.641629",
     "status": "completed"
    },
    "tags": []
   },
   "source": [
    "# ***🗂️ Import Libraries*** "
   ]
  },
  {
   "cell_type": "code",
   "execution_count": 1,
   "id": "9e55129c",
   "metadata": {
    "execution": {
     "iopub.execute_input": "2025-04-09T11:29:18.660063Z",
     "iopub.status.busy": "2025-04-09T11:29:18.659590Z",
     "iopub.status.idle": "2025-04-09T11:29:23.452438Z",
     "shell.execute_reply": "2025-04-09T11:29:23.451242Z"
    },
    "papermill": {
     "duration": 4.801751,
     "end_time": "2025-04-09T11:29:23.454250",
     "exception": false,
     "start_time": "2025-04-09T11:29:18.652499",
     "status": "completed"
    },
    "tags": []
   },
   "outputs": [],
   "source": [
    "import os\n",
    "\n",
    "import pandas as pd\n",
    "import numpy as np\n",
    "\n",
    "# to visualize the dataset\n",
    "import matplotlib.pyplot as plt\n",
    "import seaborn as sns\n",
    "import plotly.express as px\n",
    "\n",
    "# To preprocess the data\n",
    "from sklearn.preprocessing import StandardScaler, LabelEncoder, MinMaxScaler\n",
    "\n",
    "# machine learning\n",
    "from sklearn.model_selection import train_test_split, GridSearchCV, cross_val_score\n",
    "#for classification tasks\n",
    "from sklearn.linear_model import LogisticRegression\n",
    "from sklearn.neighbors import KNeighborsClassifier\n",
    "from sklearn.svm import SVC\n",
    "from sklearn.tree import DecisionTreeClassifier\n",
    "from sklearn.ensemble import RandomForestClassifier, AdaBoostClassifier, GradientBoostingClassifier, RandomForestRegressor\n",
    "from xgboost import XGBClassifier\n",
    "#metrics\n",
    "from sklearn.metrics import accuracy_score, f1_score, precision_score, recall_score\n",
    "\n",
    "# ignore warnings   \n",
    "import warnings\n",
    "warnings.filterwarnings('ignore') "
   ]
  },
  {
   "cell_type": "markdown",
   "id": "aeb2be51",
   "metadata": {
    "papermill": {
     "duration": 0.005388,
     "end_time": "2025-04-09T11:29:23.465530",
     "exception": false,
     "start_time": "2025-04-09T11:29:23.460142",
     "status": "completed"
    },
    "tags": []
   },
   "source": [
    "# ***⏳ Data Loading*** "
   ]
  },
  {
   "cell_type": "code",
   "execution_count": 2,
   "id": "c56c8380",
   "metadata": {
    "execution": {
     "iopub.execute_input": "2025-04-09T11:29:23.478534Z",
     "iopub.status.busy": "2025-04-09T11:29:23.477996Z",
     "iopub.status.idle": "2025-04-09T11:29:23.499962Z",
     "shell.execute_reply": "2025-04-09T11:29:23.498922Z"
    },
    "papermill": {
     "duration": 0.030285,
     "end_time": "2025-04-09T11:29:23.501782",
     "exception": false,
     "start_time": "2025-04-09T11:29:23.471497",
     "status": "completed"
    },
    "tags": []
   },
   "outputs": [],
   "source": [
    "os.listdir('/kaggle/input/titanic-data')  \n",
    "df = pd.read_csv('/kaggle/input/titanic-data/train.csv') "
   ]
  },
  {
   "cell_type": "markdown",
   "id": "5febd591",
   "metadata": {
    "papermill": {
     "duration": 0.005441,
     "end_time": "2025-04-09T11:29:23.512993",
     "exception": false,
     "start_time": "2025-04-09T11:29:23.507552",
     "status": "completed"
    },
    "tags": []
   },
   "source": [
    "# ***🔭 Data Cleaning & Exploration***  "
   ]
  },
  {
   "cell_type": "markdown",
   "id": "06fcbc62",
   "metadata": {
    "papermill": {
     "duration": 0.005329,
     "end_time": "2025-04-09T11:29:23.524422",
     "exception": false,
     "start_time": "2025-04-09T11:29:23.519093",
     "status": "completed"
    },
    "tags": []
   },
   "source": [
    "### 1. 🔍 **Take a Glimpse of Data**"
   ]
  },
  {
   "cell_type": "code",
   "execution_count": 3,
   "id": "cd61e6a1",
   "metadata": {
    "execution": {
     "iopub.execute_input": "2025-04-09T11:29:23.536867Z",
     "iopub.status.busy": "2025-04-09T11:29:23.536489Z",
     "iopub.status.idle": "2025-04-09T11:29:23.566109Z",
     "shell.execute_reply": "2025-04-09T11:29:23.564873Z"
    },
    "papermill": {
     "duration": 0.037767,
     "end_time": "2025-04-09T11:29:23.567824",
     "exception": false,
     "start_time": "2025-04-09T11:29:23.530057",
     "status": "completed"
    },
    "tags": []
   },
   "outputs": [
    {
     "data": {
      "text/html": [
       "<div>\n",
       "<style scoped>\n",
       "    .dataframe tbody tr th:only-of-type {\n",
       "        vertical-align: middle;\n",
       "    }\n",
       "\n",
       "    .dataframe tbody tr th {\n",
       "        vertical-align: top;\n",
       "    }\n",
       "\n",
       "    .dataframe thead th {\n",
       "        text-align: right;\n",
       "    }\n",
       "</style>\n",
       "<table border=\"1\" class=\"dataframe\">\n",
       "  <thead>\n",
       "    <tr style=\"text-align: right;\">\n",
       "      <th></th>\n",
       "      <th>PassengerId</th>\n",
       "      <th>Survived</th>\n",
       "      <th>Pclass</th>\n",
       "      <th>Name</th>\n",
       "      <th>Sex</th>\n",
       "      <th>Age</th>\n",
       "      <th>SibSp</th>\n",
       "      <th>Parch</th>\n",
       "      <th>Ticket</th>\n",
       "      <th>Fare</th>\n",
       "      <th>Cabin</th>\n",
       "      <th>Embarked</th>\n",
       "    </tr>\n",
       "  </thead>\n",
       "  <tbody>\n",
       "    <tr>\n",
       "      <th>0</th>\n",
       "      <td>1</td>\n",
       "      <td>0</td>\n",
       "      <td>3</td>\n",
       "      <td>Braund, Mr. Owen Harris</td>\n",
       "      <td>male</td>\n",
       "      <td>22.0</td>\n",
       "      <td>1</td>\n",
       "      <td>0</td>\n",
       "      <td>A/5 21171</td>\n",
       "      <td>7.2500</td>\n",
       "      <td>NaN</td>\n",
       "      <td>S</td>\n",
       "    </tr>\n",
       "    <tr>\n",
       "      <th>1</th>\n",
       "      <td>2</td>\n",
       "      <td>1</td>\n",
       "      <td>1</td>\n",
       "      <td>Cumings, Mrs. John Bradley (Florence Briggs Th...</td>\n",
       "      <td>female</td>\n",
       "      <td>38.0</td>\n",
       "      <td>1</td>\n",
       "      <td>0</td>\n",
       "      <td>PC 17599</td>\n",
       "      <td>71.2833</td>\n",
       "      <td>C85</td>\n",
       "      <td>C</td>\n",
       "    </tr>\n",
       "    <tr>\n",
       "      <th>2</th>\n",
       "      <td>3</td>\n",
       "      <td>1</td>\n",
       "      <td>3</td>\n",
       "      <td>Heikkinen, Miss. Laina</td>\n",
       "      <td>female</td>\n",
       "      <td>26.0</td>\n",
       "      <td>0</td>\n",
       "      <td>0</td>\n",
       "      <td>STON/O2. 3101282</td>\n",
       "      <td>7.9250</td>\n",
       "      <td>NaN</td>\n",
       "      <td>S</td>\n",
       "    </tr>\n",
       "    <tr>\n",
       "      <th>3</th>\n",
       "      <td>4</td>\n",
       "      <td>1</td>\n",
       "      <td>1</td>\n",
       "      <td>Futrelle, Mrs. Jacques Heath (Lily May Peel)</td>\n",
       "      <td>female</td>\n",
       "      <td>35.0</td>\n",
       "      <td>1</td>\n",
       "      <td>0</td>\n",
       "      <td>113803</td>\n",
       "      <td>53.1000</td>\n",
       "      <td>C123</td>\n",
       "      <td>S</td>\n",
       "    </tr>\n",
       "    <tr>\n",
       "      <th>4</th>\n",
       "      <td>5</td>\n",
       "      <td>0</td>\n",
       "      <td>3</td>\n",
       "      <td>Allen, Mr. William Henry</td>\n",
       "      <td>male</td>\n",
       "      <td>35.0</td>\n",
       "      <td>0</td>\n",
       "      <td>0</td>\n",
       "      <td>373450</td>\n",
       "      <td>8.0500</td>\n",
       "      <td>NaN</td>\n",
       "      <td>S</td>\n",
       "    </tr>\n",
       "  </tbody>\n",
       "</table>\n",
       "</div>"
      ],
      "text/plain": [
       "   PassengerId  Survived  Pclass  \\\n",
       "0            1         0       3   \n",
       "1            2         1       1   \n",
       "2            3         1       3   \n",
       "3            4         1       1   \n",
       "4            5         0       3   \n",
       "\n",
       "                                                Name     Sex   Age  SibSp  \\\n",
       "0                            Braund, Mr. Owen Harris    male  22.0      1   \n",
       "1  Cumings, Mrs. John Bradley (Florence Briggs Th...  female  38.0      1   \n",
       "2                             Heikkinen, Miss. Laina  female  26.0      0   \n",
       "3       Futrelle, Mrs. Jacques Heath (Lily May Peel)  female  35.0      1   \n",
       "4                           Allen, Mr. William Henry    male  35.0      0   \n",
       "\n",
       "   Parch            Ticket     Fare Cabin Embarked  \n",
       "0      0         A/5 21171   7.2500   NaN        S  \n",
       "1      0          PC 17599  71.2833   C85        C  \n",
       "2      0  STON/O2. 3101282   7.9250   NaN        S  \n",
       "3      0            113803  53.1000  C123        S  \n",
       "4      0            373450   8.0500   NaN        S  "
      ]
     },
     "execution_count": 3,
     "metadata": {},
     "output_type": "execute_result"
    }
   ],
   "source": [
    "df.head(5) "
   ]
  },
  {
   "cell_type": "code",
   "execution_count": 4,
   "id": "5266ae32",
   "metadata": {
    "execution": {
     "iopub.execute_input": "2025-04-09T11:29:23.581998Z",
     "iopub.status.busy": "2025-04-09T11:29:23.581610Z",
     "iopub.status.idle": "2025-04-09T11:29:23.595445Z",
     "shell.execute_reply": "2025-04-09T11:29:23.594373Z"
    },
    "papermill": {
     "duration": 0.023213,
     "end_time": "2025-04-09T11:29:23.597183",
     "exception": false,
     "start_time": "2025-04-09T11:29:23.573970",
     "status": "completed"
    },
    "tags": []
   },
   "outputs": [
    {
     "data": {
      "text/html": [
       "<div>\n",
       "<style scoped>\n",
       "    .dataframe tbody tr th:only-of-type {\n",
       "        vertical-align: middle;\n",
       "    }\n",
       "\n",
       "    .dataframe tbody tr th {\n",
       "        vertical-align: top;\n",
       "    }\n",
       "\n",
       "    .dataframe thead th {\n",
       "        text-align: right;\n",
       "    }\n",
       "</style>\n",
       "<table border=\"1\" class=\"dataframe\">\n",
       "  <thead>\n",
       "    <tr style=\"text-align: right;\">\n",
       "      <th></th>\n",
       "      <th>PassengerId</th>\n",
       "      <th>Survived</th>\n",
       "      <th>Pclass</th>\n",
       "      <th>Name</th>\n",
       "      <th>Sex</th>\n",
       "      <th>Age</th>\n",
       "      <th>SibSp</th>\n",
       "      <th>Parch</th>\n",
       "      <th>Ticket</th>\n",
       "      <th>Fare</th>\n",
       "      <th>Cabin</th>\n",
       "      <th>Embarked</th>\n",
       "    </tr>\n",
       "  </thead>\n",
       "  <tbody>\n",
       "    <tr>\n",
       "      <th>886</th>\n",
       "      <td>887</td>\n",
       "      <td>0</td>\n",
       "      <td>2</td>\n",
       "      <td>Montvila, Rev. Juozas</td>\n",
       "      <td>male</td>\n",
       "      <td>27.0</td>\n",
       "      <td>0</td>\n",
       "      <td>0</td>\n",
       "      <td>211536</td>\n",
       "      <td>13.00</td>\n",
       "      <td>NaN</td>\n",
       "      <td>S</td>\n",
       "    </tr>\n",
       "    <tr>\n",
       "      <th>887</th>\n",
       "      <td>888</td>\n",
       "      <td>1</td>\n",
       "      <td>1</td>\n",
       "      <td>Graham, Miss. Margaret Edith</td>\n",
       "      <td>female</td>\n",
       "      <td>19.0</td>\n",
       "      <td>0</td>\n",
       "      <td>0</td>\n",
       "      <td>112053</td>\n",
       "      <td>30.00</td>\n",
       "      <td>B42</td>\n",
       "      <td>S</td>\n",
       "    </tr>\n",
       "    <tr>\n",
       "      <th>888</th>\n",
       "      <td>889</td>\n",
       "      <td>0</td>\n",
       "      <td>3</td>\n",
       "      <td>Johnston, Miss. Catherine Helen \"Carrie\"</td>\n",
       "      <td>female</td>\n",
       "      <td>NaN</td>\n",
       "      <td>1</td>\n",
       "      <td>2</td>\n",
       "      <td>W./C. 6607</td>\n",
       "      <td>23.45</td>\n",
       "      <td>NaN</td>\n",
       "      <td>S</td>\n",
       "    </tr>\n",
       "    <tr>\n",
       "      <th>889</th>\n",
       "      <td>890</td>\n",
       "      <td>1</td>\n",
       "      <td>1</td>\n",
       "      <td>Behr, Mr. Karl Howell</td>\n",
       "      <td>male</td>\n",
       "      <td>26.0</td>\n",
       "      <td>0</td>\n",
       "      <td>0</td>\n",
       "      <td>111369</td>\n",
       "      <td>30.00</td>\n",
       "      <td>C148</td>\n",
       "      <td>C</td>\n",
       "    </tr>\n",
       "    <tr>\n",
       "      <th>890</th>\n",
       "      <td>891</td>\n",
       "      <td>0</td>\n",
       "      <td>3</td>\n",
       "      <td>Dooley, Mr. Patrick</td>\n",
       "      <td>male</td>\n",
       "      <td>32.0</td>\n",
       "      <td>0</td>\n",
       "      <td>0</td>\n",
       "      <td>370376</td>\n",
       "      <td>7.75</td>\n",
       "      <td>NaN</td>\n",
       "      <td>Q</td>\n",
       "    </tr>\n",
       "  </tbody>\n",
       "</table>\n",
       "</div>"
      ],
      "text/plain": [
       "     PassengerId  Survived  Pclass                                      Name  \\\n",
       "886          887         0       2                     Montvila, Rev. Juozas   \n",
       "887          888         1       1              Graham, Miss. Margaret Edith   \n",
       "888          889         0       3  Johnston, Miss. Catherine Helen \"Carrie\"   \n",
       "889          890         1       1                     Behr, Mr. Karl Howell   \n",
       "890          891         0       3                       Dooley, Mr. Patrick   \n",
       "\n",
       "        Sex   Age  SibSp  Parch      Ticket   Fare Cabin Embarked  \n",
       "886    male  27.0      0      0      211536  13.00   NaN        S  \n",
       "887  female  19.0      0      0      112053  30.00   B42        S  \n",
       "888  female   NaN      1      2  W./C. 6607  23.45   NaN        S  \n",
       "889    male  26.0      0      0      111369  30.00  C148        C  \n",
       "890    male  32.0      0      0      370376   7.75   NaN        Q  "
      ]
     },
     "execution_count": 4,
     "metadata": {},
     "output_type": "execute_result"
    }
   ],
   "source": [
    "df.tail() "
   ]
  },
  {
   "cell_type": "markdown",
   "id": "84e07d6d",
   "metadata": {
    "papermill": {
     "duration": 0.005877,
     "end_time": "2025-04-09T11:29:23.609323",
     "exception": false,
     "start_time": "2025-04-09T11:29:23.603446",
     "status": "completed"
    },
    "tags": []
   },
   "source": [
    "### 2. 🔍 **DataType of Each Column**"
   ]
  },
  {
   "cell_type": "code",
   "execution_count": 5,
   "id": "24b29e63",
   "metadata": {
    "execution": {
     "iopub.execute_input": "2025-04-09T11:29:23.622541Z",
     "iopub.status.busy": "2025-04-09T11:29:23.622205Z",
     "iopub.status.idle": "2025-04-09T11:29:23.650540Z",
     "shell.execute_reply": "2025-04-09T11:29:23.649158Z"
    },
    "papermill": {
     "duration": 0.037125,
     "end_time": "2025-04-09T11:29:23.652435",
     "exception": false,
     "start_time": "2025-04-09T11:29:23.615310",
     "status": "completed"
    },
    "tags": []
   },
   "outputs": [
    {
     "name": "stdout",
     "output_type": "stream",
     "text": [
      "<class 'pandas.core.frame.DataFrame'>\n",
      "RangeIndex: 891 entries, 0 to 890\n",
      "Data columns (total 12 columns):\n",
      " #   Column       Non-Null Count  Dtype  \n",
      "---  ------       --------------  -----  \n",
      " 0   PassengerId  891 non-null    int64  \n",
      " 1   Survived     891 non-null    int64  \n",
      " 2   Pclass       891 non-null    int64  \n",
      " 3   Name         891 non-null    object \n",
      " 4   Sex          891 non-null    object \n",
      " 5   Age          714 non-null    float64\n",
      " 6   SibSp        891 non-null    int64  \n",
      " 7   Parch        891 non-null    int64  \n",
      " 8   Ticket       891 non-null    object \n",
      " 9   Fare         891 non-null    float64\n",
      " 10  Cabin        204 non-null    object \n",
      " 11  Embarked     889 non-null    object \n",
      "dtypes: float64(2), int64(5), object(5)\n",
      "memory usage: 83.7+ KB\n"
     ]
    }
   ],
   "source": [
    "df.info() "
   ]
  },
  {
   "cell_type": "markdown",
   "id": "dc20097b",
   "metadata": {
    "papermill": {
     "duration": 0.005929,
     "end_time": "2025-04-09T11:29:23.664902",
     "exception": false,
     "start_time": "2025-04-09T11:29:23.658973",
     "status": "completed"
    },
    "tags": []
   },
   "source": [
    "### 3. 🔍 **Shape of the DataFrame**"
   ]
  },
  {
   "cell_type": "code",
   "execution_count": 6,
   "id": "b386e455",
   "metadata": {
    "execution": {
     "iopub.execute_input": "2025-04-09T11:29:23.678383Z",
     "iopub.status.busy": "2025-04-09T11:29:23.678045Z",
     "iopub.status.idle": "2025-04-09T11:29:23.683575Z",
     "shell.execute_reply": "2025-04-09T11:29:23.682344Z"
    },
    "papermill": {
     "duration": 0.014161,
     "end_time": "2025-04-09T11:29:23.685236",
     "exception": false,
     "start_time": "2025-04-09T11:29:23.671075",
     "status": "completed"
    },
    "tags": []
   },
   "outputs": [
    {
     "name": "stdout",
     "output_type": "stream",
     "text": [
      "Rows: 891\n",
      "Columns: 12\n"
     ]
    }
   ],
   "source": [
    "print(f'Rows: {df.shape[0]}')\n",
    "print(f'Columns: {df.shape[1]}')  "
   ]
  },
  {
   "cell_type": "markdown",
   "id": "5651685d",
   "metadata": {
    "papermill": {
     "duration": 0.005769,
     "end_time": "2025-04-09T11:29:23.697619",
     "exception": false,
     "start_time": "2025-04-09T11:29:23.691850",
     "status": "completed"
    },
    "tags": []
   },
   "source": [
    "### 4. 🔍 **Descriptive Statistics**"
   ]
  },
  {
   "cell_type": "code",
   "execution_count": 7,
   "id": "13879af0",
   "metadata": {
    "execution": {
     "iopub.execute_input": "2025-04-09T11:29:23.711808Z",
     "iopub.status.busy": "2025-04-09T11:29:23.711459Z",
     "iopub.status.idle": "2025-04-09T11:29:23.740518Z",
     "shell.execute_reply": "2025-04-09T11:29:23.739488Z"
    },
    "papermill": {
     "duration": 0.038722,
     "end_time": "2025-04-09T11:29:23.742387",
     "exception": false,
     "start_time": "2025-04-09T11:29:23.703665",
     "status": "completed"
    },
    "tags": []
   },
   "outputs": [
    {
     "data": {
      "text/html": [
       "<div>\n",
       "<style scoped>\n",
       "    .dataframe tbody tr th:only-of-type {\n",
       "        vertical-align: middle;\n",
       "    }\n",
       "\n",
       "    .dataframe tbody tr th {\n",
       "        vertical-align: top;\n",
       "    }\n",
       "\n",
       "    .dataframe thead th {\n",
       "        text-align: right;\n",
       "    }\n",
       "</style>\n",
       "<table border=\"1\" class=\"dataframe\">\n",
       "  <thead>\n",
       "    <tr style=\"text-align: right;\">\n",
       "      <th></th>\n",
       "      <th>PassengerId</th>\n",
       "      <th>Survived</th>\n",
       "      <th>Pclass</th>\n",
       "      <th>Age</th>\n",
       "      <th>SibSp</th>\n",
       "      <th>Parch</th>\n",
       "      <th>Fare</th>\n",
       "    </tr>\n",
       "  </thead>\n",
       "  <tbody>\n",
       "    <tr>\n",
       "      <th>count</th>\n",
       "      <td>891.000000</td>\n",
       "      <td>891.000000</td>\n",
       "      <td>891.000000</td>\n",
       "      <td>714.000000</td>\n",
       "      <td>891.000000</td>\n",
       "      <td>891.000000</td>\n",
       "      <td>891.000000</td>\n",
       "    </tr>\n",
       "    <tr>\n",
       "      <th>mean</th>\n",
       "      <td>446.000000</td>\n",
       "      <td>0.383838</td>\n",
       "      <td>2.308642</td>\n",
       "      <td>29.699118</td>\n",
       "      <td>0.523008</td>\n",
       "      <td>0.381594</td>\n",
       "      <td>32.204208</td>\n",
       "    </tr>\n",
       "    <tr>\n",
       "      <th>std</th>\n",
       "      <td>257.353842</td>\n",
       "      <td>0.486592</td>\n",
       "      <td>0.836071</td>\n",
       "      <td>14.526497</td>\n",
       "      <td>1.102743</td>\n",
       "      <td>0.806057</td>\n",
       "      <td>49.693429</td>\n",
       "    </tr>\n",
       "    <tr>\n",
       "      <th>min</th>\n",
       "      <td>1.000000</td>\n",
       "      <td>0.000000</td>\n",
       "      <td>1.000000</td>\n",
       "      <td>0.420000</td>\n",
       "      <td>0.000000</td>\n",
       "      <td>0.000000</td>\n",
       "      <td>0.000000</td>\n",
       "    </tr>\n",
       "    <tr>\n",
       "      <th>25%</th>\n",
       "      <td>223.500000</td>\n",
       "      <td>0.000000</td>\n",
       "      <td>2.000000</td>\n",
       "      <td>20.125000</td>\n",
       "      <td>0.000000</td>\n",
       "      <td>0.000000</td>\n",
       "      <td>7.910400</td>\n",
       "    </tr>\n",
       "    <tr>\n",
       "      <th>50%</th>\n",
       "      <td>446.000000</td>\n",
       "      <td>0.000000</td>\n",
       "      <td>3.000000</td>\n",
       "      <td>28.000000</td>\n",
       "      <td>0.000000</td>\n",
       "      <td>0.000000</td>\n",
       "      <td>14.454200</td>\n",
       "    </tr>\n",
       "    <tr>\n",
       "      <th>75%</th>\n",
       "      <td>668.500000</td>\n",
       "      <td>1.000000</td>\n",
       "      <td>3.000000</td>\n",
       "      <td>38.000000</td>\n",
       "      <td>1.000000</td>\n",
       "      <td>0.000000</td>\n",
       "      <td>31.000000</td>\n",
       "    </tr>\n",
       "    <tr>\n",
       "      <th>max</th>\n",
       "      <td>891.000000</td>\n",
       "      <td>1.000000</td>\n",
       "      <td>3.000000</td>\n",
       "      <td>80.000000</td>\n",
       "      <td>8.000000</td>\n",
       "      <td>6.000000</td>\n",
       "      <td>512.329200</td>\n",
       "    </tr>\n",
       "  </tbody>\n",
       "</table>\n",
       "</div>"
      ],
      "text/plain": [
       "       PassengerId    Survived      Pclass         Age       SibSp  \\\n",
       "count   891.000000  891.000000  891.000000  714.000000  891.000000   \n",
       "mean    446.000000    0.383838    2.308642   29.699118    0.523008   \n",
       "std     257.353842    0.486592    0.836071   14.526497    1.102743   \n",
       "min       1.000000    0.000000    1.000000    0.420000    0.000000   \n",
       "25%     223.500000    0.000000    2.000000   20.125000    0.000000   \n",
       "50%     446.000000    0.000000    3.000000   28.000000    0.000000   \n",
       "75%     668.500000    1.000000    3.000000   38.000000    1.000000   \n",
       "max     891.000000    1.000000    3.000000   80.000000    8.000000   \n",
       "\n",
       "            Parch        Fare  \n",
       "count  891.000000  891.000000  \n",
       "mean     0.381594   32.204208  \n",
       "std      0.806057   49.693429  \n",
       "min      0.000000    0.000000  \n",
       "25%      0.000000    7.910400  \n",
       "50%      0.000000   14.454200  \n",
       "75%      0.000000   31.000000  \n",
       "max      6.000000  512.329200  "
      ]
     },
     "execution_count": 7,
     "metadata": {},
     "output_type": "execute_result"
    }
   ],
   "source": [
    "df.describe() "
   ]
  },
  {
   "cell_type": "markdown",
   "id": "e1f24c6a",
   "metadata": {
    "papermill": {
     "duration": 0.006206,
     "end_time": "2025-04-09T11:29:23.755213",
     "exception": false,
     "start_time": "2025-04-09T11:29:23.749007",
     "status": "completed"
    },
    "tags": []
   },
   "source": [
    "### 5. 🔍 **Missing Values**"
   ]
  },
  {
   "cell_type": "code",
   "execution_count": 8,
   "id": "1d9caca8",
   "metadata": {
    "execution": {
     "iopub.execute_input": "2025-04-09T11:29:23.769911Z",
     "iopub.status.busy": "2025-04-09T11:29:23.769569Z",
     "iopub.status.idle": "2025-04-09T11:29:23.777652Z",
     "shell.execute_reply": "2025-04-09T11:29:23.776502Z"
    },
    "papermill": {
     "duration": 0.017708,
     "end_time": "2025-04-09T11:29:23.779416",
     "exception": false,
     "start_time": "2025-04-09T11:29:23.761708",
     "status": "completed"
    },
    "tags": []
   },
   "outputs": [
    {
     "data": {
      "text/plain": [
       "Cabin          687\n",
       "Age            177\n",
       "Embarked         2\n",
       "PassengerId      0\n",
       "Survived         0\n",
       "Pclass           0\n",
       "Name             0\n",
       "Sex              0\n",
       "SibSp            0\n",
       "Parch            0\n",
       "Ticket           0\n",
       "Fare             0\n",
       "dtype: int64"
      ]
     },
     "execution_count": 8,
     "metadata": {},
     "output_type": "execute_result"
    }
   ],
   "source": [
    "df.isnull().sum().sort_values(ascending = False) "
   ]
  },
  {
   "cell_type": "code",
   "execution_count": 9,
   "id": "135e64ae",
   "metadata": {
    "execution": {
     "iopub.execute_input": "2025-04-09T11:29:23.794899Z",
     "iopub.status.busy": "2025-04-09T11:29:23.794537Z",
     "iopub.status.idle": "2025-04-09T11:29:23.803485Z",
     "shell.execute_reply": "2025-04-09T11:29:23.802405Z"
    },
    "papermill": {
     "duration": 0.018807,
     "end_time": "2025-04-09T11:29:23.805223",
     "exception": false,
     "start_time": "2025-04-09T11:29:23.786416",
     "status": "completed"
    },
    "tags": []
   },
   "outputs": [
    {
     "data": {
      "text/plain": [
       "Cabin          0.771044\n",
       "Age            0.198653\n",
       "Embarked       0.002245\n",
       "PassengerId    0.000000\n",
       "Survived       0.000000\n",
       "Pclass         0.000000\n",
       "Name           0.000000\n",
       "Sex            0.000000\n",
       "SibSp          0.000000\n",
       "Parch          0.000000\n",
       "Ticket         0.000000\n",
       "Fare           0.000000\n",
       "dtype: float64"
      ]
     },
     "execution_count": 9,
     "metadata": {},
     "output_type": "execute_result"
    }
   ],
   "source": [
    "(df.isnull().sum() / len(df)).sort_values(ascending = False) "
   ]
  },
  {
   "cell_type": "code",
   "execution_count": 10,
   "id": "83cfe94c",
   "metadata": {
    "execution": {
     "iopub.execute_input": "2025-04-09T11:29:23.820281Z",
     "iopub.status.busy": "2025-04-09T11:29:23.819859Z",
     "iopub.status.idle": "2025-04-09T11:29:24.209154Z",
     "shell.execute_reply": "2025-04-09T11:29:24.207762Z"
    },
    "papermill": {
     "duration": 0.398666,
     "end_time": "2025-04-09T11:29:24.210815",
     "exception": false,
     "start_time": "2025-04-09T11:29:23.812149",
     "status": "completed"
    },
    "tags": []
   },
   "outputs": [
    {
     "data": {
      "image/png": "[encoded data removed]",
      "text/plain": [
       "<Figure size 640x480 with 1 Axes>"
      ]
     },
     "metadata": {},
     "output_type": "display_data"
    }
   ],
   "source": [
    "sns.heatmap(df.isnull(), cbar = False)\n",
    "plt.show() "
   ]
  },
  {
   "cell_type": "markdown",
   "id": "ee7e726e",
   "metadata": {
    "papermill": {
     "duration": 0.008245,
     "end_time": "2025-04-09T11:29:24.226879",
     "exception": false,
     "start_time": "2025-04-09T11:29:24.218634",
     "status": "completed"
    },
    "tags": []
   },
   "source": [
    "#  📰 ***Conclusion Set 1***"
   ]
  },
  {
   "cell_type": "markdown",
   "id": "8785d3a7",
   "metadata": {
    "papermill": {
     "duration": 0.007333,
     "end_time": "2025-04-09T11:29:24.242245",
     "exception": false,
     "start_time": "2025-04-09T11:29:24.234912",
     "status": "completed"
    },
    "tags": []
   },
   "source": [
    "1. The columns have float datatypes are 2, integer datatype 5, object datatype are 5\n",
    "\n",
    "2. There are 891 rows and 12 columns in the dataset."
   ]
  },
  {
   "cell_type": "markdown",
   "id": "9b7af605",
   "metadata": {
    "papermill": {
     "duration": 0.007379,
     "end_time": "2025-04-09T11:29:24.257063",
     "exception": false,
     "start_time": "2025-04-09T11:29:24.249684",
     "status": "completed"
    },
    "tags": []
   },
   "source": [
    "# ***📽️ Data Visualization*** "
   ]
  },
  {
   "cell_type": "markdown",
   "id": "0fc5eb62",
   "metadata": {
    "papermill": {
     "duration": 0.007147,
     "end_time": "2025-04-09T11:29:24.271739",
     "exception": false,
     "start_time": "2025-04-09T11:29:24.264592",
     "status": "completed"
    },
    "tags": []
   },
   "source": [
    "### 1. 🔍 **Survivial Rate Distribution**"
   ]
  },
  {
   "cell_type": "code",
   "execution_count": 11,
   "id": "ba29a093",
   "metadata": {
    "execution": {
     "iopub.execute_input": "2025-04-09T11:29:24.288591Z",
     "iopub.status.busy": "2025-04-09T11:29:24.288242Z",
     "iopub.status.idle": "2025-04-09T11:29:24.464124Z",
     "shell.execute_reply": "2025-04-09T11:29:24.463048Z"
    },
    "papermill": {
     "duration": 0.186618,
     "end_time": "2025-04-09T11:29:24.465832",
     "exception": false,
     "start_time": "2025-04-09T11:29:24.279214",
     "status": "completed"
    },
    "tags": []
   },
   "outputs": [
    {
     "data": {
      "text/plain": [
       "Text(0.5, 1.0, 'Distribution of Survival Rates')"
      ]
     },
     "execution_count": 11,
     "metadata": {},
     "output_type": "execute_result"
    },
    {
     "data": {
      "image/png": "[encoded data removed]",
      "text/plain": [
       "<Figure size 640x480 with 1 Axes>"
      ]
     },
     "metadata": {},
     "output_type": "display_data"
    }
   ],
   "source": [
    "df['Survived'].value_counts().plot(kind='pie',\n",
    "                                   startangle= 90, \n",
    "                                   autopct = '%1.1f%%') \n",
    "\n",
    "plt.ylabel('')\n",
    "plt.title('Distribution of Survival Rates')"
   ]
  },
  {
   "cell_type": "markdown",
   "id": "3dda46a8",
   "metadata": {
    "papermill": {
     "duration": 0.008548,
     "end_time": "2025-04-09T11:29:24.482716",
     "exception": false,
     "start_time": "2025-04-09T11:29:24.474168",
     "status": "completed"
    },
    "tags": []
   },
   "source": [
    "### 2. 🔍 **Create a subplot that displays the count of survivors categorized by gender & port of embarkation & Pclass**"
   ]
  },
  {
   "cell_type": "code",
   "execution_count": 12,
   "id": "fbd732f3",
   "metadata": {
    "execution": {
     "iopub.execute_input": "2025-04-09T11:29:24.500085Z",
     "iopub.status.busy": "2025-04-09T11:29:24.499679Z",
     "iopub.status.idle": "2025-04-09T11:29:24.503778Z",
     "shell.execute_reply": "2025-04-09T11:29:24.502782Z"
    },
    "papermill": {
     "duration": 0.014861,
     "end_time": "2025-04-09T11:29:24.505665",
     "exception": false,
     "start_time": "2025-04-09T11:29:24.490804",
     "status": "completed"
    },
    "tags": []
   },
   "outputs": [],
   "source": [
    "cate_cols = ['Sex', 'Embarked', 'Pclass'] \n",
    "target = 'Survived' "
   ]
  },
  {
   "cell_type": "code",
   "execution_count": 13,
   "id": "f11f72c2",
   "metadata": {
    "execution": {
     "iopub.execute_input": "2025-04-09T11:29:24.523430Z",
     "iopub.status.busy": "2025-04-09T11:29:24.523066Z",
     "iopub.status.idle": "2025-04-09T11:29:24.552044Z",
     "shell.execute_reply": "2025-04-09T11:29:24.550737Z"
    },
    "papermill": {
     "duration": 0.039987,
     "end_time": "2025-04-09T11:29:24.553813",
     "exception": false,
     "start_time": "2025-04-09T11:29:24.513826",
     "status": "completed"
    },
    "tags": []
   },
   "outputs": [
    {
     "data": {
      "text/plain": [
       "<Figure size 2500x1800 with 0 Axes>"
      ]
     },
     "metadata": {},
     "output_type": "display_data"
    }
   ],
   "source": [
    "fig = plt.figure(figsize = (25, len(cate_cols)*6))  "
   ]
  },
  {
   "cell_type": "code",
   "execution_count": 14,
   "id": "b5def771",
   "metadata": {
    "execution": {
     "iopub.execute_input": "2025-04-09T11:29:24.577506Z",
     "iopub.status.busy": "2025-04-09T11:29:24.577003Z",
     "iopub.status.idle": "2025-04-09T11:29:25.161530Z",
     "shell.execute_reply": "2025-04-09T11:29:25.160339Z"
    },
    "papermill": {
     "duration": 0.598411,
     "end_time": "2025-04-09T11:29:25.163458",
     "exception": false,
     "start_time": "2025-04-09T11:29:24.565047",
     "status": "completed"
    },
    "tags": []
   },
   "outputs": [
    {
     "data": {
      "image/png": "[encoded data removed]",
      "text/plain": [
       "<Figure size 640x480 with 3 Axes>"
      ]
     },
     "metadata": {},
     "output_type": "display_data"
    }
   ],
   "source": [
    "for i, col in enumerate(cate_cols):\n",
    "    plt.subplot(len(cate_cols)//2 + len(cate_cols)%2, 2, i+1) \n",
    "    sns.countplot(x=col, hue=target, data=df) \n",
    "    plt.title(f'Count of Survivors Categorized by {col}', fontsize=10) \n",
    "    plt.ylim(0, df[col].value_counts().max()+10)\n",
    "    plt.ylabel('')\n",
    "\n",
    "\n",
    "plt.tight_layout() \n",
    "plt.show() \n"
   ]
  },
  {
   "cell_type": "markdown",
   "id": "931b0bfb",
   "metadata": {
    "papermill": {
     "duration": 0.008758,
     "end_time": "2025-04-09T11:29:25.181840",
     "exception": false,
     "start_time": "2025-04-09T11:29:25.173082",
     "status": "completed"
    },
    "tags": []
   },
   "source": [
    "### 3. 🔍 **Create a histplot that displays the count of survivors categorized by Age**"
   ]
  },
  {
   "cell_type": "code",
   "execution_count": 15,
   "id": "1d395fe3",
   "metadata": {
    "execution": {
     "iopub.execute_input": "2025-04-09T11:29:25.201090Z",
     "iopub.status.busy": "2025-04-09T11:29:25.200637Z",
     "iopub.status.idle": "2025-04-09T11:29:25.624861Z",
     "shell.execute_reply": "2025-04-09T11:29:25.623602Z"
    },
    "papermill": {
     "duration": 0.436169,
     "end_time": "2025-04-09T11:29:25.626836",
     "exception": false,
     "start_time": "2025-04-09T11:29:25.190667",
     "status": "completed"
    },
    "tags": []
   },
   "outputs": [
    {
     "data": {
      "text/plain": [
       "<Axes: xlabel='Age', ylabel='Count'>"
      ]
     },
     "execution_count": 15,
     "metadata": {},
     "output_type": "execute_result"
    },
    {
     "data": {
      "image/png": "[encoded data removed]",
      "text/plain": [
       "<Figure size 640x480 with 1 Axes>"
      ]
     },
     "metadata": {},
     "output_type": "display_data"
    }
   ],
   "source": [
    "sns.histplot(data=df,\n",
    "             x='Age', \n",
    "             hue='Survived', \n",
    "             bins=30,\n",
    "             kde=True) "
   ]
  },
  {
   "cell_type": "code",
   "execution_count": null,
   "id": "a5a3fea1",
   "metadata": {
    "papermill": {
     "duration": 0.009761,
     "end_time": "2025-04-09T11:29:25.646685",
     "exception": false,
     "start_time": "2025-04-09T11:29:25.636924",
     "status": "completed"
    },
    "tags": []
   },
   "outputs": [],
   "source": []
  }
 ],
 "metadata": {
  "kaggle": {
   "accelerator": "none",
   "dataSources": [
    {
     "datasetId": 7093056,
     "sourceId": 11338283,
     "sourceType": "datasetVersion"
    }
   ],
   "dockerImageVersionId": 30918,
   "isGpuEnabled": false,
   "isInternetEnabled": true,
   "language": "python",
   "sourceType": "notebook"
  },
  "kernelspec": {
   "display_name": "Python 3",
   "language": "python",
   "name": "python3"
  },
  "language_info": {
   "codemirror_mode": {
    "name": "ipython",
    "version": 3
   },
   "file_extension": ".py",
   "mimetype": "text/x-python",
   "name": "python",
   "nbconvert_exporter": "python",
   "pygments_lexer": "ipython3",
   "version": "3.10.12"
  },
  "papermill": {
   "default_parameters": {},
   "duration": 10.764462,
   "end_time": "2025-04-09T11:29:26.478025",
   "environment_variables": {},
   "exception": null,
   "input_path": "__notebook__.ipynb",
   "output_path": "__notebook__.ipynb",
   "parameters": {},
   "start_time": "2025-04-09T11:29:15.713563",
   "version": "2.6.0"
  }
 },
 "nbformat": 4,
 "nbformat_minor": 5
}
