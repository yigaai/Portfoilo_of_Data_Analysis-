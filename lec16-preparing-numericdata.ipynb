{
 "cells": [
  {
   "cell_type": "markdown",
   "id": "19d82699",
   "metadata": {
    "papermill": {
     "duration": 0.006963,
     "end_time": "2025-02-25T14:46:51.168404",
     "exception": false,
     "start_time": "2025-02-25T14:46:51.161441",
     "status": "completed"
    },
    "tags": []
   },
   "source": [
    "# Centering and Scaling¶ "
   ]
  },
  {
   "cell_type": "markdown",
   "id": "d24fe839",
   "metadata": {
    "papermill": {
     "duration": 0.005472,
     "end_time": "2025-02-25T14:46:51.179800",
     "exception": false,
     "start_time": "2025-02-25T14:46:51.174328",
     "status": "completed"
    },
    "tags": []
   },
   "source": [
    "1. Numeric variables are often on different scales and cover different ranges, so they can't be easily compared.\n",
    "   \n",
    "2. What's more, variables with large values can dominate those with smaller values when using certain modeling techniques.\n",
    "\n",
    "3. Centering and scaling is a common preprocessing task that puts numeric variables on a common scale so no single variable will dominate the others.\n",
    "\n",
    "4. The simplest way to center data is to subtract the mean value from each data point.\n",
    "\n",
    "5. Subtracting the mean centers the data around zero and sets the new mean to zero.\n",
    "\n",
    "6. Let's try zero-centering the mtcars dataset, a small set of car-related data.  "
   ]
  },
  {
   "cell_type": "code",
   "execution_count": 1,
   "id": "ea7271db",
   "metadata": {
    "execution": {
     "iopub.execute_input": "2025-02-25T14:46:51.192584Z",
     "iopub.status.busy": "2025-02-25T14:46:51.192090Z",
     "iopub.status.idle": "2025-02-25T14:46:53.934693Z",
     "shell.execute_reply": "2025-02-25T14:46:53.933386Z"
    },
    "papermill": {
     "duration": 2.751571,
     "end_time": "2025-02-25T14:46:53.936924",
     "exception": false,
     "start_time": "2025-02-25T14:46:51.185353",
     "status": "completed"
    },
    "tags": []
   },
   "outputs": [],
   "source": [
    "import numpy as np \n",
    "import pandas as pd \n",
    "import os \n",
    "from sklearn import preprocessing\n",
    "\n",
    "\n",
    "\n",
    "%matplotlib inline  "
   ]
  },
  {
   "cell_type": "code",
   "execution_count": 2,
   "id": "1c964c16",
   "metadata": {
    "execution": {
     "iopub.execute_input": "2025-02-25T14:46:53.950544Z",
     "iopub.status.busy": "2025-02-25T14:46:53.949997Z",
     "iopub.status.idle": "2025-02-25T14:46:53.957211Z",
     "shell.execute_reply": "2025-02-25T14:46:53.955996Z"
    },
    "papermill": {
     "duration": 0.01576,
     "end_time": "2025-02-25T14:46:53.959028",
     "exception": false,
     "start_time": "2025-02-25T14:46:53.943268",
     "status": "completed"
    },
    "tags": []
   },
   "outputs": [
    {
     "data": {
      "text/plain": [
       "'/kaggle/working'"
      ]
     },
     "execution_count": 2,
     "metadata": {},
     "output_type": "execute_result"
    }
   ],
   "source": [
    "os.getcwd()"
   ]
  },
  {
   "cell_type": "code",
   "execution_count": 3,
   "id": "00973178",
   "metadata": {
    "execution": {
     "iopub.execute_input": "2025-02-25T14:46:53.971688Z",
     "iopub.status.busy": "2025-02-25T14:46:53.971303Z",
     "iopub.status.idle": "2025-02-25T14:46:53.975482Z",
     "shell.execute_reply": "2025-02-25T14:46:53.974492Z"
    },
    "papermill": {
     "duration": 0.01227,
     "end_time": "2025-02-25T14:46:53.977251",
     "exception": false,
     "start_time": "2025-02-25T14:46:53.964981",
     "status": "completed"
    },
    "tags": []
   },
   "outputs": [],
   "source": [
    "os.chdir('/kaggle/')"
   ]
  },
  {
   "cell_type": "code",
   "execution_count": 4,
   "id": "5bee6bf5",
   "metadata": {
    "execution": {
     "iopub.execute_input": "2025-02-25T14:46:53.990555Z",
     "iopub.status.busy": "2025-02-25T14:46:53.990213Z",
     "iopub.status.idle": "2025-02-25T14:46:53.996405Z",
     "shell.execute_reply": "2025-02-25T14:46:53.995470Z"
    },
    "papermill": {
     "duration": 0.014578,
     "end_time": "2025-02-25T14:46:53.998195",
     "exception": false,
     "start_time": "2025-02-25T14:46:53.983617",
     "status": "completed"
    },
    "tags": []
   },
   "outputs": [
    {
     "data": {
      "text/plain": [
       "'/kaggle'"
      ]
     },
     "execution_count": 4,
     "metadata": {},
     "output_type": "execute_result"
    }
   ],
   "source": [
    "os.getcwd()"
   ]
  },
  {
   "cell_type": "code",
   "execution_count": 5,
   "id": "27f7b3e6",
   "metadata": {
    "execution": {
     "iopub.execute_input": "2025-02-25T14:46:54.011122Z",
     "iopub.status.busy": "2025-02-25T14:46:54.010600Z",
     "iopub.status.idle": "2025-02-25T14:46:54.017030Z",
     "shell.execute_reply": "2025-02-25T14:46:54.015951Z"
    },
    "papermill": {
     "duration": 0.014702,
     "end_time": "2025-02-25T14:46:54.018797",
     "exception": false,
     "start_time": "2025-02-25T14:46:54.004095",
     "status": "completed"
    },
    "tags": []
   },
   "outputs": [
    {
     "data": {
      "text/plain": [
       "['src', 'lib', 'input', 'nbdev', 'working']"
      ]
     },
     "execution_count": 5,
     "metadata": {},
     "output_type": "execute_result"
    }
   ],
   "source": [
    "os.listdir('/kaggle/')"
   ]
  },
  {
   "cell_type": "code",
   "execution_count": 6,
   "id": "8f391f33",
   "metadata": {
    "execution": {
     "iopub.execute_input": "2025-02-25T14:46:54.031996Z",
     "iopub.status.busy": "2025-02-25T14:46:54.031588Z",
     "iopub.status.idle": "2025-02-25T14:46:54.038212Z",
     "shell.execute_reply": "2025-02-25T14:46:54.037159Z"
    },
    "papermill": {
     "duration": 0.015198,
     "end_time": "2025-02-25T14:46:54.040167",
     "exception": false,
     "start_time": "2025-02-25T14:46:54.024969",
     "status": "completed"
    },
    "tags": []
   },
   "outputs": [
    {
     "data": {
      "text/plain": [
       "['mtcars']"
      ]
     },
     "execution_count": 6,
     "metadata": {},
     "output_type": "execute_result"
    }
   ],
   "source": [
    "os.listdir('/kaggle/input/')"
   ]
  },
  {
   "cell_type": "code",
   "execution_count": 7,
   "id": "ac987d8a",
   "metadata": {
    "execution": {
     "iopub.execute_input": "2025-02-25T14:46:54.053579Z",
     "iopub.status.busy": "2025-02-25T14:46:54.053244Z",
     "iopub.status.idle": "2025-02-25T14:46:54.065663Z",
     "shell.execute_reply": "2025-02-25T14:46:54.064497Z"
    },
    "papermill": {
     "duration": 0.021466,
     "end_time": "2025-02-25T14:46:54.067726",
     "exception": false,
     "start_time": "2025-02-25T14:46:54.046260",
     "status": "completed"
    },
    "tags": []
   },
   "outputs": [
    {
     "data": {
      "text/plain": [
       "['mtcars.csv']"
      ]
     },
     "execution_count": 7,
     "metadata": {},
     "output_type": "execute_result"
    }
   ],
   "source": [
    "os.listdir('input/mtcars')  \n"
   ]
  },
  {
   "cell_type": "code",
   "execution_count": 8,
   "id": "568c0960",
   "metadata": {
    "execution": {
     "iopub.execute_input": "2025-02-25T14:46:54.081648Z",
     "iopub.status.busy": "2025-02-25T14:46:54.081268Z",
     "iopub.status.idle": "2025-02-25T14:46:54.098608Z",
     "shell.execute_reply": "2025-02-25T14:46:54.097346Z"
    },
    "papermill": {
     "duration": 0.026398,
     "end_time": "2025-02-25T14:46:54.100600",
     "exception": false,
     "start_time": "2025-02-25T14:46:54.074202",
     "status": "completed"
    },
    "tags": []
   },
   "outputs": [],
   "source": [
    "mtcars = pd.read_csv(\"/kaggle/input/mtcars/mtcars.csv\")   "
   ]
  },
  {
   "cell_type": "code",
   "execution_count": 9,
   "id": "a95bb970",
   "metadata": {
    "execution": {
     "iopub.execute_input": "2025-02-25T14:46:54.114884Z",
     "iopub.status.busy": "2025-02-25T14:46:54.114462Z",
     "iopub.status.idle": "2025-02-25T14:46:54.134187Z",
     "shell.execute_reply": "2025-02-25T14:46:54.132990Z"
    },
    "papermill": {
     "duration": 0.029064,
     "end_time": "2025-02-25T14:46:54.136262",
     "exception": false,
     "start_time": "2025-02-25T14:46:54.107198",
     "status": "completed"
    },
    "tags": []
   },
   "outputs": [
    {
     "name": "stdout",
     "output_type": "stream",
     "text": [
      "               model   mpg  cyl   disp   hp  drat     wt   qsec  vs  am  gear  \\\n",
      "0          Mazda RX4  21.0    6  160.0  110  3.90  2.620  16.46   0   1     4   \n",
      "1      Mazda RX4 Wag  21.0    6  160.0  110  3.90  2.875  17.02   0   1     4   \n",
      "2         Datsun 710  22.8    4  108.0   93  3.85  2.320  18.61   1   1     4   \n",
      "3     Hornet 4 Drive  21.4    6  258.0  110  3.08  3.215  19.44   1   0     3   \n",
      "4  Hornet Sportabout  18.7    8  360.0  175  3.15  3.440  17.02   0   0     3   \n",
      "\n",
      "   carb  \n",
      "0     4  \n",
      "1     4  \n",
      "2     1  \n",
      "3     1  \n",
      "4     2  \n"
     ]
    }
   ],
   "source": [
    "print(mtcars.head()) "
   ]
  },
  {
   "cell_type": "code",
   "execution_count": 10,
   "id": "0fcbb276",
   "metadata": {
    "execution": {
     "iopub.execute_input": "2025-02-25T14:46:54.149982Z",
     "iopub.status.busy": "2025-02-25T14:46:54.149582Z",
     "iopub.status.idle": "2025-02-25T14:46:54.159547Z",
     "shell.execute_reply": "2025-02-25T14:46:54.158015Z"
    },
    "papermill": {
     "duration": 0.019062,
     "end_time": "2025-02-25T14:46:54.161604",
     "exception": false,
     "start_time": "2025-02-25T14:46:54.142542",
     "status": "completed"
    },
    "tags": []
   },
   "outputs": [],
   "source": [
    "# Set row index to car model: \n",
    "\n",
    "mtcars.index = mtcars.model  \n",
    "\n",
    "\n",
    "# Drop car name column: \n",
    "\n",
    "\n",
    "del mtcars[\"model\"]  \n",
    " "
   ]
  },
  {
   "cell_type": "code",
   "execution_count": 11,
   "id": "39665425",
   "metadata": {
    "execution": {
     "iopub.execute_input": "2025-02-25T14:46:54.175939Z",
     "iopub.status.busy": "2025-02-25T14:46:54.175460Z",
     "iopub.status.idle": "2025-02-25T14:46:54.199555Z",
     "shell.execute_reply": "2025-02-25T14:46:54.198271Z"
    },
    "papermill": {
     "duration": 0.03384,
     "end_time": "2025-02-25T14:46:54.201809",
     "exception": false,
     "start_time": "2025-02-25T14:46:54.167969",
     "status": "completed"
    },
    "tags": []
   },
   "outputs": [
    {
     "data": {
      "text/html": [
       "<div>\n",
       "<style scoped>\n",
       "    .dataframe tbody tr th:only-of-type {\n",
       "        vertical-align: middle;\n",
       "    }\n",
       "\n",
       "    .dataframe tbody tr th {\n",
       "        vertical-align: top;\n",
       "    }\n",
       "\n",
       "    .dataframe thead th {\n",
       "        text-align: right;\n",
       "    }\n",
       "</style>\n",
       "<table border=\"1\" class=\"dataframe\">\n",
       "  <thead>\n",
       "    <tr style=\"text-align: right;\">\n",
       "      <th></th>\n",
       "      <th>mpg</th>\n",
       "      <th>cyl</th>\n",
       "      <th>disp</th>\n",
       "      <th>hp</th>\n",
       "      <th>drat</th>\n",
       "      <th>wt</th>\n",
       "      <th>qsec</th>\n",
       "      <th>vs</th>\n",
       "      <th>am</th>\n",
       "      <th>gear</th>\n",
       "      <th>carb</th>\n",
       "    </tr>\n",
       "    <tr>\n",
       "      <th>model</th>\n",
       "      <th></th>\n",
       "      <th></th>\n",
       "      <th></th>\n",
       "      <th></th>\n",
       "      <th></th>\n",
       "      <th></th>\n",
       "      <th></th>\n",
       "      <th></th>\n",
       "      <th></th>\n",
       "      <th></th>\n",
       "      <th></th>\n",
       "    </tr>\n",
       "  </thead>\n",
       "  <tbody>\n",
       "    <tr>\n",
       "      <th>Mazda RX4</th>\n",
       "      <td>21.0</td>\n",
       "      <td>6</td>\n",
       "      <td>160.0</td>\n",
       "      <td>110</td>\n",
       "      <td>3.90</td>\n",
       "      <td>2.620</td>\n",
       "      <td>16.46</td>\n",
       "      <td>0</td>\n",
       "      <td>1</td>\n",
       "      <td>4</td>\n",
       "      <td>4</td>\n",
       "    </tr>\n",
       "    <tr>\n",
       "      <th>Mazda RX4 Wag</th>\n",
       "      <td>21.0</td>\n",
       "      <td>6</td>\n",
       "      <td>160.0</td>\n",
       "      <td>110</td>\n",
       "      <td>3.90</td>\n",
       "      <td>2.875</td>\n",
       "      <td>17.02</td>\n",
       "      <td>0</td>\n",
       "      <td>1</td>\n",
       "      <td>4</td>\n",
       "      <td>4</td>\n",
       "    </tr>\n",
       "    <tr>\n",
       "      <th>Datsun 710</th>\n",
       "      <td>22.8</td>\n",
       "      <td>4</td>\n",
       "      <td>108.0</td>\n",
       "      <td>93</td>\n",
       "      <td>3.85</td>\n",
       "      <td>2.320</td>\n",
       "      <td>18.61</td>\n",
       "      <td>1</td>\n",
       "      <td>1</td>\n",
       "      <td>4</td>\n",
       "      <td>1</td>\n",
       "    </tr>\n",
       "    <tr>\n",
       "      <th>Hornet 4 Drive</th>\n",
       "      <td>21.4</td>\n",
       "      <td>6</td>\n",
       "      <td>258.0</td>\n",
       "      <td>110</td>\n",
       "      <td>3.08</td>\n",
       "      <td>3.215</td>\n",
       "      <td>19.44</td>\n",
       "      <td>1</td>\n",
       "      <td>0</td>\n",
       "      <td>3</td>\n",
       "      <td>1</td>\n",
       "    </tr>\n",
       "    <tr>\n",
       "      <th>Hornet Sportabout</th>\n",
       "      <td>18.7</td>\n",
       "      <td>8</td>\n",
       "      <td>360.0</td>\n",
       "      <td>175</td>\n",
       "      <td>3.15</td>\n",
       "      <td>3.440</td>\n",
       "      <td>17.02</td>\n",
       "      <td>0</td>\n",
       "      <td>0</td>\n",
       "      <td>3</td>\n",
       "      <td>2</td>\n",
       "    </tr>\n",
       "  </tbody>\n",
       "</table>\n",
       "</div>"
      ],
      "text/plain": [
       "                    mpg  cyl   disp   hp  drat     wt   qsec  vs  am  gear  \\\n",
       "model                                                                        \n",
       "Mazda RX4          21.0    6  160.0  110  3.90  2.620  16.46   0   1     4   \n",
       "Mazda RX4 Wag      21.0    6  160.0  110  3.90  2.875  17.02   0   1     4   \n",
       "Datsun 710         22.8    4  108.0   93  3.85  2.320  18.61   1   1     4   \n",
       "Hornet 4 Drive     21.4    6  258.0  110  3.08  3.215  19.44   1   0     3   \n",
       "Hornet Sportabout  18.7    8  360.0  175  3.15  3.440  17.02   0   0     3   \n",
       "\n",
       "                   carb  \n",
       "model                    \n",
       "Mazda RX4             4  \n",
       "Mazda RX4 Wag         4  \n",
       "Datsun 710            1  \n",
       "Hornet 4 Drive        1  \n",
       "Hornet Sportabout     2  "
      ]
     },
     "execution_count": 11,
     "metadata": {},
     "output_type": "execute_result"
    }
   ],
   "source": [
    "mtcars.head()"
   ]
  },
  {
   "cell_type": "code",
   "execution_count": 12,
   "id": "6127438c",
   "metadata": {
    "execution": {
     "iopub.execute_input": "2025-02-25T14:46:54.216521Z",
     "iopub.status.busy": "2025-02-25T14:46:54.216171Z",
     "iopub.status.idle": "2025-02-25T14:46:54.227736Z",
     "shell.execute_reply": "2025-02-25T14:46:54.226554Z"
    },
    "papermill": {
     "duration": 0.021355,
     "end_time": "2025-02-25T14:46:54.229676",
     "exception": false,
     "start_time": "2025-02-25T14:46:54.208321",
     "status": "completed"
    },
    "tags": []
   },
   "outputs": [
    {
     "data": {
      "text/plain": [
       "mpg      20.090625\n",
       "cyl       6.187500\n",
       "disp    230.721875\n",
       "hp      146.687500\n",
       "drat      3.596563\n",
       "wt        3.217250\n",
       "qsec     17.848750\n",
       "vs        0.437500\n",
       "am        0.406250\n",
       "gear      3.687500\n",
       "carb      2.812500\n",
       "dtype: float64"
      ]
     },
     "execution_count": 12,
     "metadata": {},
     "output_type": "execute_result"
    }
   ],
   "source": [
    "# Calculate column means: \n",
    "\n",
    "col_mean = mtcars.sum() / mtcars.shape[0] \n",
    "col_mean"
   ]
  },
  {
   "cell_type": "markdown",
   "id": "ed12aa52",
   "metadata": {
    "papermill": {
     "duration": 0.006053,
     "end_time": "2025-02-25T14:46:54.242905",
     "exception": false,
     "start_time": "2025-02-25T14:46:54.236852",
     "status": "completed"
    },
    "tags": []
   },
   "source": [
    "Conclusion: \n",
    "\n",
    "1. With the column means in hand, we just need to subtract the column means from each row in an element-wise fashion to zero center the data.\n",
    "   \n",
    "2. Pandas performs math operations involving DataFrames and columns on an element-wise row-by-row basis by default.\n",
    "\n",
    "3. So we can simply subtract our column means series from the data set to center it: \n"
   ]
  },
  {
   "cell_type": "code",
   "execution_count": 13,
   "id": "e6756351",
   "metadata": {
    "execution": {
     "iopub.execute_input": "2025-02-25T14:46:54.257573Z",
     "iopub.status.busy": "2025-02-25T14:46:54.257217Z",
     "iopub.status.idle": "2025-02-25T14:46:54.303273Z",
     "shell.execute_reply": "2025-02-25T14:46:54.301920Z"
    },
    "papermill": {
     "duration": 0.05607,
     "end_time": "2025-02-25T14:46:54.305413",
     "exception": false,
     "start_time": "2025-02-25T14:46:54.249343",
     "status": "completed"
    },
    "tags": []
   },
   "outputs": [
    {
     "data": {
      "text/html": [
       "<div>\n",
       "<style scoped>\n",
       "    .dataframe tbody tr th:only-of-type {\n",
       "        vertical-align: middle;\n",
       "    }\n",
       "\n",
       "    .dataframe tbody tr th {\n",
       "        vertical-align: top;\n",
       "    }\n",
       "\n",
       "    .dataframe thead th {\n",
       "        text-align: right;\n",
       "    }\n",
       "</style>\n",
       "<table border=\"1\" class=\"dataframe\">\n",
       "  <thead>\n",
       "    <tr style=\"text-align: right;\">\n",
       "      <th></th>\n",
       "      <th>mpg</th>\n",
       "      <th>cyl</th>\n",
       "      <th>disp</th>\n",
       "      <th>hp</th>\n",
       "      <th>drat</th>\n",
       "      <th>wt</th>\n",
       "      <th>qsec</th>\n",
       "      <th>vs</th>\n",
       "      <th>am</th>\n",
       "      <th>gear</th>\n",
       "      <th>carb</th>\n",
       "    </tr>\n",
       "  </thead>\n",
       "  <tbody>\n",
       "    <tr>\n",
       "      <th>count</th>\n",
       "      <td>3.200000e+01</td>\n",
       "      <td>32.000000</td>\n",
       "      <td>3.200000e+01</td>\n",
       "      <td>32.000000</td>\n",
       "      <td>3.200000e+01</td>\n",
       "      <td>3.200000e+01</td>\n",
       "      <td>3.200000e+01</td>\n",
       "      <td>32.000000</td>\n",
       "      <td>32.000000</td>\n",
       "      <td>32.000000</td>\n",
       "      <td>32.0000</td>\n",
       "    </tr>\n",
       "    <tr>\n",
       "      <th>mean</th>\n",
       "      <td>-3.108624e-15</td>\n",
       "      <td>0.000000</td>\n",
       "      <td>2.131628e-14</td>\n",
       "      <td>0.000000</td>\n",
       "      <td>-1.526557e-16</td>\n",
       "      <td>-4.440892e-16</td>\n",
       "      <td>-2.609024e-15</td>\n",
       "      <td>0.000000</td>\n",
       "      <td>0.000000</td>\n",
       "      <td>0.000000</td>\n",
       "      <td>0.0000</td>\n",
       "    </tr>\n",
       "    <tr>\n",
       "      <th>std</th>\n",
       "      <td>6.026948e+00</td>\n",
       "      <td>1.785922</td>\n",
       "      <td>1.239387e+02</td>\n",
       "      <td>68.562868</td>\n",
       "      <td>5.346787e-01</td>\n",
       "      <td>9.784574e-01</td>\n",
       "      <td>1.786943e+00</td>\n",
       "      <td>0.504016</td>\n",
       "      <td>0.498991</td>\n",
       "      <td>0.737804</td>\n",
       "      <td>1.6152</td>\n",
       "    </tr>\n",
       "    <tr>\n",
       "      <th>min</th>\n",
       "      <td>-9.690625e+00</td>\n",
       "      <td>-2.187500</td>\n",
       "      <td>-1.596219e+02</td>\n",
       "      <td>-94.687500</td>\n",
       "      <td>-8.365625e-01</td>\n",
       "      <td>-1.704250e+00</td>\n",
       "      <td>-3.348750e+00</td>\n",
       "      <td>-0.437500</td>\n",
       "      <td>-0.406250</td>\n",
       "      <td>-0.687500</td>\n",
       "      <td>-1.8125</td>\n",
       "    </tr>\n",
       "    <tr>\n",
       "      <th>25%</th>\n",
       "      <td>-4.665625e+00</td>\n",
       "      <td>-2.187500</td>\n",
       "      <td>-1.098969e+02</td>\n",
       "      <td>-50.187500</td>\n",
       "      <td>-5.165625e-01</td>\n",
       "      <td>-6.360000e-01</td>\n",
       "      <td>-9.562500e-01</td>\n",
       "      <td>-0.437500</td>\n",
       "      <td>-0.406250</td>\n",
       "      <td>-0.687500</td>\n",
       "      <td>-0.8125</td>\n",
       "    </tr>\n",
       "    <tr>\n",
       "      <th>50%</th>\n",
       "      <td>-8.906250e-01</td>\n",
       "      <td>-0.187500</td>\n",
       "      <td>-3.442187e+01</td>\n",
       "      <td>-23.687500</td>\n",
       "      <td>9.843750e-02</td>\n",
       "      <td>1.077500e-01</td>\n",
       "      <td>-1.387500e-01</td>\n",
       "      <td>-0.437500</td>\n",
       "      <td>-0.406250</td>\n",
       "      <td>0.312500</td>\n",
       "      <td>-0.8125</td>\n",
       "    </tr>\n",
       "    <tr>\n",
       "      <th>75%</th>\n",
       "      <td>2.709375e+00</td>\n",
       "      <td>1.812500</td>\n",
       "      <td>9.527813e+01</td>\n",
       "      <td>33.312500</td>\n",
       "      <td>3.234375e-01</td>\n",
       "      <td>3.927500e-01</td>\n",
       "      <td>1.051250e+00</td>\n",
       "      <td>0.562500</td>\n",
       "      <td>0.593750</td>\n",
       "      <td>0.312500</td>\n",
       "      <td>1.1875</td>\n",
       "    </tr>\n",
       "    <tr>\n",
       "      <th>max</th>\n",
       "      <td>1.380937e+01</td>\n",
       "      <td>1.812500</td>\n",
       "      <td>2.412781e+02</td>\n",
       "      <td>188.312500</td>\n",
       "      <td>1.333437e+00</td>\n",
       "      <td>2.206750e+00</td>\n",
       "      <td>5.051250e+00</td>\n",
       "      <td>0.562500</td>\n",
       "      <td>0.593750</td>\n",
       "      <td>1.312500</td>\n",
       "      <td>5.1875</td>\n",
       "    </tr>\n",
       "  </tbody>\n",
       "</table>\n",
       "</div>"
      ],
      "text/plain": [
       "                mpg        cyl          disp          hp          drat  \\\n",
       "count  3.200000e+01  32.000000  3.200000e+01   32.000000  3.200000e+01   \n",
       "mean  -3.108624e-15   0.000000  2.131628e-14    0.000000 -1.526557e-16   \n",
       "std    6.026948e+00   1.785922  1.239387e+02   68.562868  5.346787e-01   \n",
       "min   -9.690625e+00  -2.187500 -1.596219e+02  -94.687500 -8.365625e-01   \n",
       "25%   -4.665625e+00  -2.187500 -1.098969e+02  -50.187500 -5.165625e-01   \n",
       "50%   -8.906250e-01  -0.187500 -3.442187e+01  -23.687500  9.843750e-02   \n",
       "75%    2.709375e+00   1.812500  9.527813e+01   33.312500  3.234375e-01   \n",
       "max    1.380937e+01   1.812500  2.412781e+02  188.312500  1.333437e+00   \n",
       "\n",
       "                 wt          qsec         vs         am       gear     carb  \n",
       "count  3.200000e+01  3.200000e+01  32.000000  32.000000  32.000000  32.0000  \n",
       "mean  -4.440892e-16 -2.609024e-15   0.000000   0.000000   0.000000   0.0000  \n",
       "std    9.784574e-01  1.786943e+00   0.504016   0.498991   0.737804   1.6152  \n",
       "min   -1.704250e+00 -3.348750e+00  -0.437500  -0.406250  -0.687500  -1.8125  \n",
       "25%   -6.360000e-01 -9.562500e-01  -0.437500  -0.406250  -0.687500  -0.8125  \n",
       "50%    1.077500e-01 -1.387500e-01  -0.437500  -0.406250   0.312500  -0.8125  \n",
       "75%    3.927500e-01  1.051250e+00   0.562500   0.593750   0.312500   1.1875  \n",
       "max    2.206750e+00  5.051250e+00   0.562500   0.593750   1.312500   5.1875  "
      ]
     },
     "execution_count": 13,
     "metadata": {},
     "output_type": "execute_result"
    }
   ],
   "source": [
    "centered = mtcars - col_mean \n",
    "centered.describe()"
   ]
  },
  {
   "cell_type": "markdown",
   "id": "f3f086e8",
   "metadata": {
    "papermill": {
     "duration": 0.006504,
     "end_time": "2025-02-25T14:46:54.318882",
     "exception": false,
     "start_time": "2025-02-25T14:46:54.312378",
     "status": "completed"
    },
    "tags": []
   },
   "source": [
    "1. put it all on a common scale.\n",
    "   \n",
    "2. One way to put data on a common scale is to divide by the standard deviation.\n",
    "\n",
    "3. Standard deviation is a statistic that describes the spread of numeric data.\n",
    "\n",
    "4. The higher the standard deviation, the further the data points tend to be spread away from the mean value.\n",
    "\n",
    "5. You can get standard deviations with df.std() "
   ]
  },
  {
   "cell_type": "code",
   "execution_count": 14,
   "id": "9cc28e2d",
   "metadata": {
    "execution": {
     "iopub.execute_input": "2025-02-25T14:46:54.333670Z",
     "iopub.status.busy": "2025-02-25T14:46:54.333302Z",
     "iopub.status.idle": "2025-02-25T14:46:54.375170Z",
     "shell.execute_reply": "2025-02-25T14:46:54.373896Z"
    },
    "papermill": {
     "duration": 0.051524,
     "end_time": "2025-02-25T14:46:54.377042",
     "exception": false,
     "start_time": "2025-02-25T14:46:54.325518",
     "status": "completed"
    },
    "tags": []
   },
   "outputs": [
    {
     "data": {
      "text/html": [
       "<div>\n",
       "<style scoped>\n",
       "    .dataframe tbody tr th:only-of-type {\n",
       "        vertical-align: middle;\n",
       "    }\n",
       "\n",
       "    .dataframe tbody tr th {\n",
       "        vertical-align: top;\n",
       "    }\n",
       "\n",
       "    .dataframe thead th {\n",
       "        text-align: right;\n",
       "    }\n",
       "</style>\n",
       "<table border=\"1\" class=\"dataframe\">\n",
       "  <thead>\n",
       "    <tr style=\"text-align: right;\">\n",
       "      <th></th>\n",
       "      <th>mpg</th>\n",
       "      <th>cyl</th>\n",
       "      <th>disp</th>\n",
       "      <th>hp</th>\n",
       "      <th>drat</th>\n",
       "      <th>wt</th>\n",
       "      <th>qsec</th>\n",
       "      <th>vs</th>\n",
       "      <th>am</th>\n",
       "      <th>gear</th>\n",
       "      <th>carb</th>\n",
       "    </tr>\n",
       "  </thead>\n",
       "  <tbody>\n",
       "    <tr>\n",
       "      <th>count</th>\n",
       "      <td>3.200000e+01</td>\n",
       "      <td>3.200000e+01</td>\n",
       "      <td>3.200000e+01</td>\n",
       "      <td>3.200000e+01</td>\n",
       "      <td>3.200000e+01</td>\n",
       "      <td>3.200000e+01</td>\n",
       "      <td>3.200000e+01</td>\n",
       "      <td>32.000000</td>\n",
       "      <td>3.200000e+01</td>\n",
       "      <td>3.200000e+01</td>\n",
       "      <td>3.200000e+01</td>\n",
       "    </tr>\n",
       "    <tr>\n",
       "      <th>mean</th>\n",
       "      <td>-5.551115e-16</td>\n",
       "      <td>-2.775558e-17</td>\n",
       "      <td>1.110223e-16</td>\n",
       "      <td>2.775558e-17</td>\n",
       "      <td>-2.775558e-16</td>\n",
       "      <td>-3.608225e-16</td>\n",
       "      <td>-1.443290e-15</td>\n",
       "      <td>0.000000</td>\n",
       "      <td>5.551115e-17</td>\n",
       "      <td>-2.775558e-17</td>\n",
       "      <td>2.775558e-17</td>\n",
       "    </tr>\n",
       "    <tr>\n",
       "      <th>std</th>\n",
       "      <td>1.000000e+00</td>\n",
       "      <td>1.000000e+00</td>\n",
       "      <td>1.000000e+00</td>\n",
       "      <td>1.000000e+00</td>\n",
       "      <td>1.000000e+00</td>\n",
       "      <td>1.000000e+00</td>\n",
       "      <td>1.000000e+00</td>\n",
       "      <td>1.000000</td>\n",
       "      <td>1.000000e+00</td>\n",
       "      <td>1.000000e+00</td>\n",
       "      <td>1.000000e+00</td>\n",
       "    </tr>\n",
       "    <tr>\n",
       "      <th>min</th>\n",
       "      <td>-1.607883e+00</td>\n",
       "      <td>-1.224858e+00</td>\n",
       "      <td>-1.287910e+00</td>\n",
       "      <td>-1.381032e+00</td>\n",
       "      <td>-1.564608e+00</td>\n",
       "      <td>-1.741772e+00</td>\n",
       "      <td>-1.874010e+00</td>\n",
       "      <td>-0.868028</td>\n",
       "      <td>-8.141431e-01</td>\n",
       "      <td>-9.318192e-01</td>\n",
       "      <td>-1.122152e+00</td>\n",
       "    </tr>\n",
       "    <tr>\n",
       "      <th>25%</th>\n",
       "      <td>-7.741273e-01</td>\n",
       "      <td>-1.224858e+00</td>\n",
       "      <td>-8.867035e-01</td>\n",
       "      <td>-7.319924e-01</td>\n",
       "      <td>-9.661175e-01</td>\n",
       "      <td>-6.500027e-01</td>\n",
       "      <td>-5.351317e-01</td>\n",
       "      <td>-0.868028</td>\n",
       "      <td>-8.141431e-01</td>\n",
       "      <td>-9.318192e-01</td>\n",
       "      <td>-5.030337e-01</td>\n",
       "    </tr>\n",
       "    <tr>\n",
       "      <th>50%</th>\n",
       "      <td>-1.477738e-01</td>\n",
       "      <td>-1.049878e-01</td>\n",
       "      <td>-2.777331e-01</td>\n",
       "      <td>-3.454858e-01</td>\n",
       "      <td>1.841059e-01</td>\n",
       "      <td>1.101223e-01</td>\n",
       "      <td>-7.764656e-02</td>\n",
       "      <td>-0.868028</td>\n",
       "      <td>-8.141431e-01</td>\n",
       "      <td>4.235542e-01</td>\n",
       "      <td>-5.030337e-01</td>\n",
       "    </tr>\n",
       "    <tr>\n",
       "      <th>75%</th>\n",
       "      <td>4.495434e-01</td>\n",
       "      <td>1.014882e+00</td>\n",
       "      <td>7.687521e-01</td>\n",
       "      <td>4.858679e-01</td>\n",
       "      <td>6.049193e-01</td>\n",
       "      <td>4.013971e-01</td>\n",
       "      <td>5.882951e-01</td>\n",
       "      <td>1.116036</td>\n",
       "      <td>1.189901e+00</td>\n",
       "      <td>4.235542e-01</td>\n",
       "      <td>7.352031e-01</td>\n",
       "    </tr>\n",
       "    <tr>\n",
       "      <th>max</th>\n",
       "      <td>2.291272e+00</td>\n",
       "      <td>1.014882e+00</td>\n",
       "      <td>1.946754e+00</td>\n",
       "      <td>2.746567e+00</td>\n",
       "      <td>2.493904e+00</td>\n",
       "      <td>2.255336e+00</td>\n",
       "      <td>2.826755e+00</td>\n",
       "      <td>1.116036</td>\n",
       "      <td>1.189901e+00</td>\n",
       "      <td>1.778928e+00</td>\n",
       "      <td>3.211677e+00</td>\n",
       "    </tr>\n",
       "  </tbody>\n",
       "</table>\n",
       "</div>"
      ],
      "text/plain": [
       "                mpg           cyl          disp            hp          drat  \\\n",
       "count  3.200000e+01  3.200000e+01  3.200000e+01  3.200000e+01  3.200000e+01   \n",
       "mean  -5.551115e-16 -2.775558e-17  1.110223e-16  2.775558e-17 -2.775558e-16   \n",
       "std    1.000000e+00  1.000000e+00  1.000000e+00  1.000000e+00  1.000000e+00   \n",
       "min   -1.607883e+00 -1.224858e+00 -1.287910e+00 -1.381032e+00 -1.564608e+00   \n",
       "25%   -7.741273e-01 -1.224858e+00 -8.867035e-01 -7.319924e-01 -9.661175e-01   \n",
       "50%   -1.477738e-01 -1.049878e-01 -2.777331e-01 -3.454858e-01  1.841059e-01   \n",
       "75%    4.495434e-01  1.014882e+00  7.687521e-01  4.858679e-01  6.049193e-01   \n",
       "max    2.291272e+00  1.014882e+00  1.946754e+00  2.746567e+00  2.493904e+00   \n",
       "\n",
       "                 wt          qsec         vs            am          gear  \\\n",
       "count  3.200000e+01  3.200000e+01  32.000000  3.200000e+01  3.200000e+01   \n",
       "mean  -3.608225e-16 -1.443290e-15   0.000000  5.551115e-17 -2.775558e-17   \n",
       "std    1.000000e+00  1.000000e+00   1.000000  1.000000e+00  1.000000e+00   \n",
       "min   -1.741772e+00 -1.874010e+00  -0.868028 -8.141431e-01 -9.318192e-01   \n",
       "25%   -6.500027e-01 -5.351317e-01  -0.868028 -8.141431e-01 -9.318192e-01   \n",
       "50%    1.101223e-01 -7.764656e-02  -0.868028 -8.141431e-01  4.235542e-01   \n",
       "75%    4.013971e-01  5.882951e-01   1.116036  1.189901e+00  4.235542e-01   \n",
       "max    2.255336e+00  2.826755e+00   1.116036  1.189901e+00  1.778928e+00   \n",
       "\n",
       "               carb  \n",
       "count  3.200000e+01  \n",
       "mean   2.775558e-17  \n",
       "std    1.000000e+00  \n",
       "min   -1.122152e+00  \n",
       "25%   -5.030337e-01  \n",
       "50%   -5.030337e-01  \n",
       "75%    7.352031e-01  \n",
       "max    3.211677e+00  "
      ]
     },
     "execution_count": 14,
     "metadata": {},
     "output_type": "execute_result"
    }
   ],
   "source": [
    "column_deviation = mtcars.std(axis = 0) \n",
    "\n",
    "centered_and_scaled = centered / column_deviation \n",
    "\n",
    "centered_and_scaled.describe()"
   ]
  },
  {
   "cell_type": "markdown",
   "id": "e6b09c30",
   "metadata": {
    "papermill": {
     "duration": 0.006766,
     "end_time": "2025-02-25T14:46:54.390812",
     "exception": false,
     "start_time": "2025-02-25T14:46:54.384046",
     "status": "completed"
    },
    "tags": []
   },
   "source": [
    "1. After dividing by the standard deviation, every variable now has a standard deviation of 1.\n",
    "   \n",
    "2. At this point, all the columns have roughly the same mean and scale of spread about the mean.  \n",
    "\n",
    "3. Manually centering and scaling as we've done is a good exercise, but it is often possible to perform common data preprocessing automatically using functions built into Python libraries.\n",
    "\n",
    "4. The Python library scikit-learn, a popular package for predictive modeling and data analysis, has preprocessing tools including a scale() function for centering and scaling data:"
   ]
  },
  {
   "cell_type": "code",
   "execution_count": 15,
   "id": "288e5d1a",
   "metadata": {
    "execution": {
     "iopub.execute_input": "2025-02-25T14:46:54.406146Z",
     "iopub.status.busy": "2025-02-25T14:46:54.405718Z",
     "iopub.status.idle": "2025-02-25T14:46:54.410748Z",
     "shell.execute_reply": "2025-02-25T14:46:54.409468Z"
    },
    "papermill": {
     "duration": 0.014819,
     "end_time": "2025-02-25T14:46:54.412518",
     "exception": false,
     "start_time": "2025-02-25T14:46:54.397699",
     "status": "completed"
    },
    "tags": []
   },
   "outputs": [],
   "source": [
    "from sklearn import preprocessing"
   ]
  },
  {
   "cell_type": "code",
   "execution_count": 16,
   "id": "b6d0a6c9",
   "metadata": {
    "execution": {
     "iopub.execute_input": "2025-02-25T14:46:54.429060Z",
     "iopub.status.busy": "2025-02-25T14:46:54.428596Z",
     "iopub.status.idle": "2025-02-25T14:46:54.470028Z",
     "shell.execute_reply": "2025-02-25T14:46:54.468789Z"
    },
    "papermill": {
     "duration": 0.051631,
     "end_time": "2025-02-25T14:46:54.471911",
     "exception": false,
     "start_time": "2025-02-25T14:46:54.420280",
     "status": "completed"
    },
    "tags": []
   },
   "outputs": [
    {
     "data": {
      "text/html": [
       "<div>\n",
       "<style scoped>\n",
       "    .dataframe tbody tr th:only-of-type {\n",
       "        vertical-align: middle;\n",
       "    }\n",
       "\n",
       "    .dataframe tbody tr th {\n",
       "        vertical-align: top;\n",
       "    }\n",
       "\n",
       "    .dataframe thead th {\n",
       "        text-align: right;\n",
       "    }\n",
       "</style>\n",
       "<table border=\"1\" class=\"dataframe\">\n",
       "  <thead>\n",
       "    <tr style=\"text-align: right;\">\n",
       "      <th></th>\n",
       "      <th>0</th>\n",
       "      <th>1</th>\n",
       "      <th>2</th>\n",
       "      <th>3</th>\n",
       "      <th>4</th>\n",
       "      <th>5</th>\n",
       "      <th>6</th>\n",
       "      <th>7</th>\n",
       "      <th>8</th>\n",
       "      <th>9</th>\n",
       "      <th>10</th>\n",
       "    </tr>\n",
       "  </thead>\n",
       "  <tbody>\n",
       "    <tr>\n",
       "      <th>count</th>\n",
       "      <td>3.200000e+01</td>\n",
       "      <td>3.200000e+01</td>\n",
       "      <td>3.200000e+01</td>\n",
       "      <td>32.000000</td>\n",
       "      <td>3.200000e+01</td>\n",
       "      <td>3.200000e+01</td>\n",
       "      <td>3.200000e+01</td>\n",
       "      <td>32.000000</td>\n",
       "      <td>32.000000</td>\n",
       "      <td>3.200000e+01</td>\n",
       "      <td>3.200000e+01</td>\n",
       "    </tr>\n",
       "    <tr>\n",
       "      <th>mean</th>\n",
       "      <td>-4.996004e-16</td>\n",
       "      <td>2.775558e-17</td>\n",
       "      <td>1.665335e-16</td>\n",
       "      <td>0.000000</td>\n",
       "      <td>-3.053113e-16</td>\n",
       "      <td>-4.718448e-16</td>\n",
       "      <td>-1.471046e-15</td>\n",
       "      <td>0.000000</td>\n",
       "      <td>0.000000</td>\n",
       "      <td>-2.775558e-17</td>\n",
       "      <td>-2.775558e-17</td>\n",
       "    </tr>\n",
       "    <tr>\n",
       "      <th>std</th>\n",
       "      <td>1.016001e+00</td>\n",
       "      <td>1.016001e+00</td>\n",
       "      <td>1.016001e+00</td>\n",
       "      <td>1.016001</td>\n",
       "      <td>1.016001e+00</td>\n",
       "      <td>1.016001e+00</td>\n",
       "      <td>1.016001e+00</td>\n",
       "      <td>1.016001</td>\n",
       "      <td>1.016001</td>\n",
       "      <td>1.016001e+00</td>\n",
       "      <td>1.016001e+00</td>\n",
       "    </tr>\n",
       "    <tr>\n",
       "      <th>min</th>\n",
       "      <td>-1.633610e+00</td>\n",
       "      <td>-1.244457e+00</td>\n",
       "      <td>-1.308518e+00</td>\n",
       "      <td>-1.403130</td>\n",
       "      <td>-1.589643e+00</td>\n",
       "      <td>-1.769642e+00</td>\n",
       "      <td>-1.903996e+00</td>\n",
       "      <td>-0.881917</td>\n",
       "      <td>-0.827170</td>\n",
       "      <td>-9.467293e-01</td>\n",
       "      <td>-1.140108e+00</td>\n",
       "    </tr>\n",
       "    <tr>\n",
       "      <th>25%</th>\n",
       "      <td>-7.865141e-01</td>\n",
       "      <td>-1.244457e+00</td>\n",
       "      <td>-9.008917e-01</td>\n",
       "      <td>-0.743705</td>\n",
       "      <td>-9.815764e-01</td>\n",
       "      <td>-6.604034e-01</td>\n",
       "      <td>-5.436944e-01</td>\n",
       "      <td>-0.881917</td>\n",
       "      <td>-0.827170</td>\n",
       "      <td>-9.467293e-01</td>\n",
       "      <td>-5.110827e-01</td>\n",
       "    </tr>\n",
       "    <tr>\n",
       "      <th>50%</th>\n",
       "      <td>-1.501383e-01</td>\n",
       "      <td>-1.066677e-01</td>\n",
       "      <td>-2.821771e-01</td>\n",
       "      <td>-0.351014</td>\n",
       "      <td>1.870518e-01</td>\n",
       "      <td>1.118844e-01</td>\n",
       "      <td>-7.888899e-02</td>\n",
       "      <td>-0.881917</td>\n",
       "      <td>-0.827170</td>\n",
       "      <td>4.303315e-01</td>\n",
       "      <td>-5.110827e-01</td>\n",
       "    </tr>\n",
       "    <tr>\n",
       "      <th>75%</th>\n",
       "      <td>4.567366e-01</td>\n",
       "      <td>1.031121e+00</td>\n",
       "      <td>7.810529e-01</td>\n",
       "      <td>0.493642</td>\n",
       "      <td>6.145986e-01</td>\n",
       "      <td>4.078199e-01</td>\n",
       "      <td>5.977084e-01</td>\n",
       "      <td>1.133893</td>\n",
       "      <td>1.208941</td>\n",
       "      <td>4.303315e-01</td>\n",
       "      <td>7.469671e-01</td>\n",
       "    </tr>\n",
       "    <tr>\n",
       "      <th>max</th>\n",
       "      <td>2.327934e+00</td>\n",
       "      <td>1.031121e+00</td>\n",
       "      <td>1.977904e+00</td>\n",
       "      <td>2.790515</td>\n",
       "      <td>2.533809e+00</td>\n",
       "      <td>2.291423e+00</td>\n",
       "      <td>2.871986e+00</td>\n",
       "      <td>1.133893</td>\n",
       "      <td>1.208941</td>\n",
       "      <td>1.807392e+00</td>\n",
       "      <td>3.263067e+00</td>\n",
       "    </tr>\n",
       "  </tbody>\n",
       "</table>\n",
       "</div>"
      ],
      "text/plain": [
       "                 0             1             2          3             4   \\\n",
       "count  3.200000e+01  3.200000e+01  3.200000e+01  32.000000  3.200000e+01   \n",
       "mean  -4.996004e-16  2.775558e-17  1.665335e-16   0.000000 -3.053113e-16   \n",
       "std    1.016001e+00  1.016001e+00  1.016001e+00   1.016001  1.016001e+00   \n",
       "min   -1.633610e+00 -1.244457e+00 -1.308518e+00  -1.403130 -1.589643e+00   \n",
       "25%   -7.865141e-01 -1.244457e+00 -9.008917e-01  -0.743705 -9.815764e-01   \n",
       "50%   -1.501383e-01 -1.066677e-01 -2.821771e-01  -0.351014  1.870518e-01   \n",
       "75%    4.567366e-01  1.031121e+00  7.810529e-01   0.493642  6.145986e-01   \n",
       "max    2.327934e+00  1.031121e+00  1.977904e+00   2.790515  2.533809e+00   \n",
       "\n",
       "                 5             6          7          8             9   \\\n",
       "count  3.200000e+01  3.200000e+01  32.000000  32.000000  3.200000e+01   \n",
       "mean  -4.718448e-16 -1.471046e-15   0.000000   0.000000 -2.775558e-17   \n",
       "std    1.016001e+00  1.016001e+00   1.016001   1.016001  1.016001e+00   \n",
       "min   -1.769642e+00 -1.903996e+00  -0.881917  -0.827170 -9.467293e-01   \n",
       "25%   -6.604034e-01 -5.436944e-01  -0.881917  -0.827170 -9.467293e-01   \n",
       "50%    1.118844e-01 -7.888899e-02  -0.881917  -0.827170  4.303315e-01   \n",
       "75%    4.078199e-01  5.977084e-01   1.133893   1.208941  4.303315e-01   \n",
       "max    2.291423e+00  2.871986e+00   1.133893   1.208941  1.807392e+00   \n",
       "\n",
       "                 10  \n",
       "count  3.200000e+01  \n",
       "mean  -2.775558e-17  \n",
       "std    1.016001e+00  \n",
       "min   -1.140108e+00  \n",
       "25%   -5.110827e-01  \n",
       "50%   -5.110827e-01  \n",
       "75%    7.469671e-01  \n",
       "max    3.263067e+00  "
      ]
     },
     "execution_count": 16,
     "metadata": {},
     "output_type": "execute_result"
    }
   ],
   "source": [
    "# Scale the data: \n",
    "\n",
    "scaled_data = preprocessing.scale(mtcars) \n",
    "\n",
    "# Remake the DataFrame \n",
    "scaled_data = pd.DataFrame(scaled_data) \n",
    "scaled_data.describe() \n",
    " \n"
   ]
  },
  {
   "cell_type": "markdown",
   "id": "aab27c85",
   "metadata": {
    "papermill": {
     "duration": 0.006735,
     "end_time": "2025-02-25T14:46:54.485933",
     "exception": false,
     "start_time": "2025-02-25T14:46:54.479198",
     "status": "completed"
    },
    "tags": []
   },
   "source": [
    "Note: \n",
    "\n",
    "1. preprocessing.scale() returns arrays so we convert it back into a DataFrame.\n",
    "\n",
    "2. the values are almost the same as those we calculated manually but not exactly the same. These small differences are likely due to rounding and details of the scikit-learn implementation of centering and scaling."
   ]
  },
  {
   "cell_type": "markdown",
   "id": "99c8ea3b",
   "metadata": {
    "papermill": {
     "duration": 0.006853,
     "end_time": "2025-02-25T14:46:54.499811",
     "exception": false,
     "start_time": "2025-02-25T14:46:54.492958",
     "status": "completed"
    },
    "tags": []
   },
   "source": [
    "# Dealing With Skewed Data¶ "
   ]
  },
  {
   "cell_type": "markdown",
   "id": "57bf2c48",
   "metadata": {
    "papermill": {
     "duration": 0.006747,
     "end_time": "2025-02-25T14:46:54.513882",
     "exception": false,
     "start_time": "2025-02-25T14:46:54.507135",
     "status": "completed"
    },
    "tags": []
   },
   "source": [
    "1. The distribution of data--its overall shape and how it is spread out--can have a significant impact on analysis and modeling.\n",
    "   \n",
    "2. Data that is roughly evenly spread around the mean value--known as normally distributed data--tends to be well-behaved.\n",
    "\n",
    "3. On the other hand, some data sets exhibit significant skewness or asymmetry. To illustrate, let's generate a few distributions\n",
    "\n"
   ]
  },
  {
   "cell_type": "code",
   "execution_count": 17,
   "id": "41232c95",
   "metadata": {
    "execution": {
     "iopub.execute_input": "2025-02-25T14:46:54.529585Z",
     "iopub.status.busy": "2025-02-25T14:46:54.529213Z",
     "iopub.status.idle": "2025-02-25T14:46:55.008887Z",
     "shell.execute_reply": "2025-02-25T14:46:55.007675Z"
    },
    "papermill": {
     "duration": 0.489614,
     "end_time": "2025-02-25T14:46:55.010612",
     "exception": false,
     "start_time": "2025-02-25T14:46:54.520998",
     "status": "completed"
    },
    "tags": []
   },
   "outputs": [
    {
     "data": {
      "text/plain": [
       "array([[<Axes: title={'center': '0'}>]], dtype=object)"
      ]
     },
     "execution_count": 17,
     "metadata": {},
     "output_type": "execute_result"
    },
    {
     "data": {
      "image/png": "[encoded data removed]",
      "text/plain": [
       "<Figure size 800x800 with 1 Axes>"
      ]
     },
     "metadata": {},
     "output_type": "display_data"
    }
   ],
   "source": [
    "# 1. Generate normal data\n",
    "# 2. Convert to DF \n",
    "# 3. Plot histogram \n",
    "\n",
    "nor_dis = np.random.normal(size = 500) \n",
    "\n",
    "nor_dis = pd.DataFrame(nor_dis) \n",
    "\n",
    "nor_dis.hist(figsize = (8, 8),\n",
    "             bins = 20)  \n",
    "\n",
    "\n",
    "# The normally distributed data looks roughly symmetric with a bell-shaped curve. \n"
   ]
  },
  {
   "cell_type": "code",
   "execution_count": 18,
   "id": "fbb7b57e",
   "metadata": {
    "execution": {
     "iopub.execute_input": "2025-02-25T14:46:55.027166Z",
     "iopub.status.busy": "2025-02-25T14:46:55.026739Z",
     "iopub.status.idle": "2025-02-25T14:46:55.374433Z",
     "shell.execute_reply": "2025-02-25T14:46:55.373187Z"
    },
    "papermill": {
     "duration": 0.358167,
     "end_time": "2025-02-25T14:46:55.376545",
     "exception": false,
     "start_time": "2025-02-25T14:46:55.018378",
     "status": "completed"
    },
    "tags": []
   },
   "outputs": [
    {
     "data": {
      "text/plain": [
       "array([[<Axes: title={'center': '0'}>]], dtype=object)"
      ]
     },
     "execution_count": 18,
     "metadata": {},
     "output_type": "execute_result"
    },
    {
     "data": {
      "image/png": "[encoded data removed]",
      "text/plain": [
       "<Figure size 800x800 with 1 Axes>"
      ]
     },
     "metadata": {},
     "output_type": "display_data"
    }
   ],
   "source": [
    "# 1. Generate some skewed data\n",
    "# 2. Convert to df \n",
    "# 3. plot histogram \n",
    "\n",
    "skewed_data = np.random.exponential(scale = 2,\n",
    "                                   size = 10000) \n",
    "\n",
    "skewed_data = pd.DataFrame(skewed_data) \n",
    "\n",
    "skewed_data.hist(figsize = (8, 8),\n",
    "                 bins =50)  \n",
    " \n"
   ]
  },
  {
   "cell_type": "markdown",
   "id": "f8c32dbb",
   "metadata": {
    "papermill": {
     "duration": 0.007943,
     "end_time": "2025-02-25T14:46:55.392996",
     "exception": false,
     "start_time": "2025-02-25T14:46:55.385053",
     "status": "completed"
    },
    "tags": []
   },
   "source": [
    "1. Data with a long tail that goes off to the right is called positively skewed or right skewed.\n",
    "   \n",
    "2. When you have a skewed distribution like the one above, the extreme values in the long tail can have a disproportionately large influence on whatever test you perform or models you build.\n",
    "\n",
    "3. Reducing skew may improve your results.\n",
    "\n",
    "4. Taking the square root of each data point or taking the natural logarithm of each data point are two simple transformations that can reduce skew.\n",
    "\n",
    "5. Let's see their effects on the skewed data. \n",
    "\n"
   ]
  },
  {
   "cell_type": "code",
   "execution_count": 19,
   "id": "9d8ca4fc",
   "metadata": {
    "execution": {
     "iopub.execute_input": "2025-02-25T14:46:55.410853Z",
     "iopub.status.busy": "2025-02-25T14:46:55.410467Z",
     "iopub.status.idle": "2025-02-25T14:46:55.688265Z",
     "shell.execute_reply": "2025-02-25T14:46:55.686981Z"
    },
    "papermill": {
     "duration": 0.289032,
     "end_time": "2025-02-25T14:46:55.690131",
     "exception": false,
     "start_time": "2025-02-25T14:46:55.401099",
     "status": "completed"
    },
    "tags": []
   },
   "outputs": [
    {
     "data": {
      "text/plain": [
       "array([[<Axes: title={'center': '0'}>]], dtype=object)"
      ]
     },
     "execution_count": 19,
     "metadata": {},
     "output_type": "execute_result"
    },
    {
     "data": {
      "image/png": "[encoded data removed]",
      "text/plain": [
       "<Figure size 800x800 with 1 Axes>"
      ]
     },
     "metadata": {},
     "output_type": "display_data"
    }
   ],
   "source": [
    "#  Get the square root of data points: \n",
    "\n",
    "skewed_transformed = skewed_data.apply(np.sqrt) \n",
    "\n",
    "skewed_transformed.hist(figsize = (8, 8),\n",
    "                       bins = 20) \n",
    "\n"
   ]
  },
  {
   "cell_type": "markdown",
   "id": "98855512",
   "metadata": {
    "papermill": {
     "duration": 0.008329,
     "end_time": "2025-02-25T14:46:55.707135",
     "exception": false,
     "start_time": "2025-02-25T14:46:55.698806",
     "status": "completed"
    },
    "tags": []
   },
   "source": [
    "Note: The df.apply() function applies a given function to each row or column of the DataFrame. In this case we pass in np.sqrt to get the square root of each value."
   ]
  }
 ],
 "metadata": {
  "kaggle": {
   "accelerator": "none",
   "dataSources": [
    {
     "datasetId": 6737922,
     "sourceId": 10849106,
     "sourceType": "datasetVersion"
    }
   ],
   "dockerImageVersionId": 30918,
   "isGpuEnabled": false,
   "isInternetEnabled": true,
   "language": "python",
   "sourceType": "notebook"
  },
  "kernelspec": {
   "display_name": "Python 3",
   "language": "python",
   "name": "python3"
  },
  "language_info": {
   "codemirror_mode": {
    "name": "ipython",
    "version": 3
   },
   "file_extension": ".py",
   "mimetype": "text/x-python",
   "name": "python",
   "nbconvert_exporter": "python",
   "pygments_lexer": "ipython3",
   "version": "3.10.12"
  },
  "papermill": {
   "default_parameters": {},
   "duration": 8.362111,
   "end_time": "2025-02-25T14:46:56.537924",
   "environment_variables": {},
   "exception": null,
   "input_path": "__notebook__.ipynb",
   "output_path": "__notebook__.ipynb",
   "parameters": {},
   "start_time": "2025-02-25T14:46:48.175813",
   "version": "2.6.0"
  }
 },
 "nbformat": 4,
 "nbformat_minor": 5
}
