{
 "cells": [
  {
   "cell_type": "markdown",
   "id": "5f9d37d3",
   "metadata": {
    "papermill": {
     "duration": 0.003514,
     "end_time": "2025-02-25T09:45:06.839113",
     "exception": false,
     "start_time": "2025-02-25T09:45:06.835599",
     "status": "completed"
    },
    "tags": []
   },
   "source": [
    "# Centering and Scaling¶ "
   ]
  },
  {
   "cell_type": "markdown",
   "id": "a29abb0b",
   "metadata": {
    "papermill": {
     "duration": 0.003157,
     "end_time": "2025-02-25T09:45:06.845469",
     "exception": false,
     "start_time": "2025-02-25T09:45:06.842312",
     "status": "completed"
    },
    "tags": []
   },
   "source": [
    "1. Numeric variables are often on different scales and cover different ranges, so they can't be easily compared.\n",
    "   \n",
    "2. What's more, variables with large values can dominate those with smaller values when using certain modeling techniques.\n",
    "\n",
    "3. Centering and scaling is a common preprocessing task that puts numeric variables on a common scale so no single variable will dominate the others.\n",
    "\n",
    "4. The simplest way to center data is to subtract the mean value from each data point.\n",
    "\n",
    "5. Subtracting the mean centers the data around zero and sets the new mean to zero.\n",
    "\n",
    "6. Let's try zero-centering the mtcars dataset, a small set of car-related data.  "
   ]
  },
  {
   "cell_type": "code",
   "execution_count": 1,
   "id": "4c56b724",
   "metadata": {
    "execution": {
     "iopub.execute_input": "2025-02-25T09:45:06.853184Z",
     "iopub.status.busy": "2025-02-25T09:45:06.852868Z",
     "iopub.status.idle": "2025-02-25T09:45:07.851371Z",
     "shell.execute_reply": "2025-02-25T09:45:07.849430Z"
    },
    "papermill": {
     "duration": 1.004728,
     "end_time": "2025-02-25T09:45:07.853710",
     "exception": false,
     "start_time": "2025-02-25T09:45:06.848982",
     "status": "completed"
    },
    "tags": []
   },
   "outputs": [],
   "source": [
    "import numpy as np \n",
    "import pandas as pd \n",
    "import os \n",
    "\n",
    "%matplotlib inline  "
   ]
  },
  {
   "cell_type": "code",
   "execution_count": 2,
   "id": "e4890130",
   "metadata": {
    "execution": {
     "iopub.execute_input": "2025-02-25T09:45:07.862134Z",
     "iopub.status.busy": "2025-02-25T09:45:07.861583Z",
     "iopub.status.idle": "2025-02-25T09:45:07.869421Z",
     "shell.execute_reply": "2025-02-25T09:45:07.868156Z"
    },
    "papermill": {
     "duration": 0.013596,
     "end_time": "2025-02-25T09:45:07.871156",
     "exception": false,
     "start_time": "2025-02-25T09:45:07.857560",
     "status": "completed"
    },
    "tags": []
   },
   "outputs": [
    {
     "data": {
      "text/plain": [
       "'/kaggle/working'"
      ]
     },
     "execution_count": 2,
     "metadata": {},
     "output_type": "execute_result"
    }
   ],
   "source": [
    "os.getcwd()"
   ]
  },
  {
   "cell_type": "code",
   "execution_count": 3,
   "id": "e5720ed7",
   "metadata": {
    "execution": {
     "iopub.execute_input": "2025-02-25T09:45:07.878381Z",
     "iopub.status.busy": "2025-02-25T09:45:07.878006Z",
     "iopub.status.idle": "2025-02-25T09:45:07.883051Z",
     "shell.execute_reply": "2025-02-25T09:45:07.881503Z"
    },
    "papermill": {
     "duration": 0.011095,
     "end_time": "2025-02-25T09:45:07.885446",
     "exception": false,
     "start_time": "2025-02-25T09:45:07.874351",
     "status": "completed"
    },
    "tags": []
   },
   "outputs": [],
   "source": [
    "os.chdir('/kaggle/')"
   ]
  },
  {
   "cell_type": "code",
   "execution_count": 4,
   "id": "e4801cdf",
   "metadata": {
    "execution": {
     "iopub.execute_input": "2025-02-25T09:45:07.892609Z",
     "iopub.status.busy": "2025-02-25T09:45:07.892259Z",
     "iopub.status.idle": "2025-02-25T09:45:07.897551Z",
     "shell.execute_reply": "2025-02-25T09:45:07.896181Z"
    },
    "papermill": {
     "duration": 0.010818,
     "end_time": "2025-02-25T09:45:07.899376",
     "exception": false,
     "start_time": "2025-02-25T09:45:07.888558",
     "status": "completed"
    },
    "tags": []
   },
   "outputs": [
    {
     "data": {
      "text/plain": [
       "'/kaggle'"
      ]
     },
     "execution_count": 4,
     "metadata": {},
     "output_type": "execute_result"
    }
   ],
   "source": [
    "os.getcwd()"
   ]
  },
  {
   "cell_type": "code",
   "execution_count": 5,
   "id": "ffa5d07c",
   "metadata": {
    "execution": {
     "iopub.execute_input": "2025-02-25T09:45:07.906767Z",
     "iopub.status.busy": "2025-02-25T09:45:07.906457Z",
     "iopub.status.idle": "2025-02-25T09:45:07.911265Z",
     "shell.execute_reply": "2025-02-25T09:45:07.910566Z"
    },
    "papermill": {
     "duration": 0.010739,
     "end_time": "2025-02-25T09:45:07.913497",
     "exception": false,
     "start_time": "2025-02-25T09:45:07.902758",
     "status": "completed"
    },
    "tags": []
   },
   "outputs": [
    {
     "data": {
      "text/plain": [
       "['src', 'lib', 'input', 'nbdev', 'working']"
      ]
     },
     "execution_count": 5,
     "metadata": {},
     "output_type": "execute_result"
    }
   ],
   "source": [
    "os.listdir('/kaggle/')"
   ]
  },
  {
   "cell_type": "code",
   "execution_count": 6,
   "id": "94fb6c24",
   "metadata": {
    "execution": {
     "iopub.execute_input": "2025-02-25T09:45:07.922743Z",
     "iopub.status.busy": "2025-02-25T09:45:07.922424Z",
     "iopub.status.idle": "2025-02-25T09:45:07.928610Z",
     "shell.execute_reply": "2025-02-25T09:45:07.927594Z"
    },
    "papermill": {
     "duration": 0.012242,
     "end_time": "2025-02-25T09:45:07.930408",
     "exception": false,
     "start_time": "2025-02-25T09:45:07.918166",
     "status": "completed"
    },
    "tags": []
   },
   "outputs": [
    {
     "data": {
      "text/plain": [
       "['mtcars']"
      ]
     },
     "execution_count": 6,
     "metadata": {},
     "output_type": "execute_result"
    }
   ],
   "source": [
    "os.listdir('/kaggle/input/')"
   ]
  },
  {
   "cell_type": "code",
   "execution_count": 7,
   "id": "d510796b",
   "metadata": {
    "execution": {
     "iopub.execute_input": "2025-02-25T09:45:07.938821Z",
     "iopub.status.busy": "2025-02-25T09:45:07.938511Z",
     "iopub.status.idle": "2025-02-25T09:45:07.951315Z",
     "shell.execute_reply": "2025-02-25T09:45:07.950089Z"
    },
    "papermill": {
     "duration": 0.018756,
     "end_time": "2025-02-25T09:45:07.952956",
     "exception": false,
     "start_time": "2025-02-25T09:45:07.934200",
     "status": "completed"
    },
    "tags": []
   },
   "outputs": [
    {
     "data": {
      "text/plain": [
       "['mtcars.csv']"
      ]
     },
     "execution_count": 7,
     "metadata": {},
     "output_type": "execute_result"
    }
   ],
   "source": [
    "os.listdir('input/mtcars')  \n"
   ]
  },
  {
   "cell_type": "code",
   "execution_count": 8,
   "id": "f9c6c8f4",
   "metadata": {
    "execution": {
     "iopub.execute_input": "2025-02-25T09:45:07.960796Z",
     "iopub.status.busy": "2025-02-25T09:45:07.960431Z",
     "iopub.status.idle": "2025-02-25T09:45:07.978430Z",
     "shell.execute_reply": "2025-02-25T09:45:07.977292Z"
    },
    "papermill": {
     "duration": 0.023792,
     "end_time": "2025-02-25T09:45:07.980101",
     "exception": false,
     "start_time": "2025-02-25T09:45:07.956309",
     "status": "completed"
    },
    "tags": []
   },
   "outputs": [],
   "source": [
    "mtcars = pd.read_csv(\"/kaggle/input/mtcars/mtcars.csv\")   "
   ]
  },
  {
   "cell_type": "code",
   "execution_count": 9,
   "id": "4e94a3c1",
   "metadata": {
    "execution": {
     "iopub.execute_input": "2025-02-25T09:45:07.988550Z",
     "iopub.status.busy": "2025-02-25T09:45:07.988149Z",
     "iopub.status.idle": "2025-02-25T09:45:08.006482Z",
     "shell.execute_reply": "2025-02-25T09:45:08.005332Z"
    },
    "papermill": {
     "duration": 0.024936,
     "end_time": "2025-02-25T09:45:08.008424",
     "exception": false,
     "start_time": "2025-02-25T09:45:07.983488",
     "status": "completed"
    },
    "tags": []
   },
   "outputs": [
    {
     "name": "stdout",
     "output_type": "stream",
     "text": [
      "               model   mpg  cyl   disp   hp  drat     wt   qsec  vs  am  gear  \\\n",
      "0          Mazda RX4  21.0    6  160.0  110  3.90  2.620  16.46   0   1     4   \n",
      "1      Mazda RX4 Wag  21.0    6  160.0  110  3.90  2.875  17.02   0   1     4   \n",
      "2         Datsun 710  22.8    4  108.0   93  3.85  2.320  18.61   1   1     4   \n",
      "3     Hornet 4 Drive  21.4    6  258.0  110  3.08  3.215  19.44   1   0     3   \n",
      "4  Hornet Sportabout  18.7    8  360.0  175  3.15  3.440  17.02   0   0     3   \n",
      "\n",
      "   carb  \n",
      "0     4  \n",
      "1     4  \n",
      "2     1  \n",
      "3     1  \n",
      "4     2  \n"
     ]
    }
   ],
   "source": [
    "print(mtcars.head()) "
   ]
  },
  {
   "cell_type": "code",
   "execution_count": 10,
   "id": "063e33bd",
   "metadata": {
    "execution": {
     "iopub.execute_input": "2025-02-25T09:45:08.017555Z",
     "iopub.status.busy": "2025-02-25T09:45:08.017151Z",
     "iopub.status.idle": "2025-02-25T09:45:08.026978Z",
     "shell.execute_reply": "2025-02-25T09:45:08.025376Z"
    },
    "papermill": {
     "duration": 0.016134,
     "end_time": "2025-02-25T09:45:08.028623",
     "exception": false,
     "start_time": "2025-02-25T09:45:08.012489",
     "status": "completed"
    },
    "tags": []
   },
   "outputs": [],
   "source": [
    "# Set row index to car model: \n",
    "\n",
    "mtcars.index = mtcars.model       \n",
    "\n",
    "# Drop car name column:\n",
    "\n",
    "del mtcars[\"model\"]               \n",
    " \n"
   ]
  },
  {
   "cell_type": "code",
   "execution_count": 11,
   "id": "ed7690c2",
   "metadata": {
    "execution": {
     "iopub.execute_input": "2025-02-25T09:45:08.036154Z",
     "iopub.status.busy": "2025-02-25T09:45:08.035863Z",
     "iopub.status.idle": "2025-02-25T09:45:08.044402Z",
     "shell.execute_reply": "2025-02-25T09:45:08.043375Z"
    },
    "papermill": {
     "duration": 0.014081,
     "end_time": "2025-02-25T09:45:08.046088",
     "exception": false,
     "start_time": "2025-02-25T09:45:08.032007",
     "status": "completed"
    },
    "tags": []
   },
   "outputs": [
    {
     "name": "stdout",
     "output_type": "stream",
     "text": [
      "                    mpg  cyl   disp   hp  drat     wt   qsec  vs  am  gear  \\\n",
      "model                                                                        \n",
      "Mazda RX4          21.0    6  160.0  110  3.90  2.620  16.46   0   1     4   \n",
      "Mazda RX4 Wag      21.0    6  160.0  110  3.90  2.875  17.02   0   1     4   \n",
      "Datsun 710         22.8    4  108.0   93  3.85  2.320  18.61   1   1     4   \n",
      "Hornet 4 Drive     21.4    6  258.0  110  3.08  3.215  19.44   1   0     3   \n",
      "Hornet Sportabout  18.7    8  360.0  175  3.15  3.440  17.02   0   0     3   \n",
      "\n",
      "                   carb  \n",
      "model                    \n",
      "Mazda RX4             4  \n",
      "Mazda RX4 Wag         4  \n",
      "Datsun 710            1  \n",
      "Hornet 4 Drive        1  \n",
      "Hornet Sportabout     2  \n"
     ]
    }
   ],
   "source": [
    "print(mtcars.head())"
   ]
  },
  {
   "cell_type": "code",
   "execution_count": 12,
   "id": "6fc1783c",
   "metadata": {
    "execution": {
     "iopub.execute_input": "2025-02-25T09:45:08.054838Z",
     "iopub.status.busy": "2025-02-25T09:45:08.054506Z",
     "iopub.status.idle": "2025-02-25T09:45:08.066777Z",
     "shell.execute_reply": "2025-02-25T09:45:08.064641Z"
    },
    "papermill": {
     "duration": 0.018796,
     "end_time": "2025-02-25T09:45:08.068986",
     "exception": false,
     "start_time": "2025-02-25T09:45:08.050190",
     "status": "completed"
    },
    "tags": []
   },
   "outputs": [
    {
     "data": {
      "text/plain": [
       "mpg      20.090625\n",
       "cyl       6.187500\n",
       "disp    230.721875\n",
       "hp      146.687500\n",
       "drat      3.596563\n",
       "wt        3.217250\n",
       "qsec     17.848750\n",
       "vs        0.437500\n",
       "am        0.406250\n",
       "gear      3.687500\n",
       "carb      2.812500\n",
       "dtype: float64"
      ]
     },
     "execution_count": 12,
     "metadata": {},
     "output_type": "execute_result"
    }
   ],
   "source": [
    "# Calculate column means: \n",
    "\n",
    "colmean = mtcars.sum()/mtcars.shape[0] \n",
    "colmean"
   ]
  },
  {
   "cell_type": "markdown",
   "id": "e535ae1e",
   "metadata": {
    "papermill": {
     "duration": 0.003318,
     "end_time": "2025-02-25T09:45:08.076628",
     "exception": false,
     "start_time": "2025-02-25T09:45:08.073310",
     "status": "completed"
    },
    "tags": []
   },
   "source": [
    "Conclusion: \n",
    "\n",
    "1. With the column means in hand, we just need to subtract the column means from each row in an element-wise fashion to zero center the data.\n",
    "   \n",
    "2. Pandas performs math operations involving DataFrames and columns on an element-wise row-by-row basis by default.\n",
    "\n",
    "3. So we can simply subtract our column means series from the data set to center it: \n"
   ]
  }
 ],
 "metadata": {
  "kaggle": {
   "accelerator": "none",
   "dataSources": [
    {
     "datasetId": 6737922,
     "sourceId": 10849106,
     "sourceType": "datasetVersion"
    }
   ],
   "dockerImageVersionId": 30918,
   "isGpuEnabled": false,
   "isInternetEnabled": true,
   "language": "python",
   "sourceType": "notebook"
  },
  "kernelspec": {
   "display_name": "Python 3",
   "language": "python",
   "name": "python3"
  },
  "language_info": {
   "codemirror_mode": {
    "name": "ipython",
    "version": 3
   },
   "file_extension": ".py",
   "mimetype": "text/x-python",
   "name": "python",
   "nbconvert_exporter": "python",
   "pygments_lexer": "ipython3",
   "version": "3.10.12"
  },
  "papermill": {
   "default_parameters": {},
   "duration": 4.497092,
   "end_time": "2025-02-25T09:45:08.702879",
   "environment_variables": {},
   "exception": null,
   "input_path": "__notebook__.ipynb",
   "output_path": "__notebook__.ipynb",
   "parameters": {},
   "start_time": "2025-02-25T09:45:04.205787",
   "version": "2.6.0"
  }
 },
 "nbformat": 4,
 "nbformat_minor": 5
}
