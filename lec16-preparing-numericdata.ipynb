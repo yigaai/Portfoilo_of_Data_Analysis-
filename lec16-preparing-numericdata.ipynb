{
 "cells": [
  {
   "cell_type": "markdown",
   "id": "30ed31b8",
   "metadata": {
    "papermill": {
     "duration": 0.008093,
     "end_time": "2025-02-26T03:24:57.349803",
     "exception": false,
     "start_time": "2025-02-26T03:24:57.341710",
     "status": "completed"
    },
    "tags": []
   },
   "source": [
    "# Centering and Scaling¶ "
   ]
  },
  {
   "cell_type": "markdown",
   "id": "634f62c7",
   "metadata": {
    "papermill": {
     "duration": 0.007169,
     "end_time": "2025-02-26T03:24:57.364747",
     "exception": false,
     "start_time": "2025-02-26T03:24:57.357578",
     "status": "completed"
    },
    "tags": []
   },
   "source": [
    "1. Numeric variables are often on different scales and cover different ranges, so they can't be easily compared.\n",
    "   \n",
    "2. What's more, variables with large values can dominate those with smaller values when using certain modeling techniques.\n",
    "\n",
    "3. Centering and scaling is a common preprocessing task that puts numeric variables on a common scale so no single variable will dominate the others.\n",
    "\n",
    "4. The simplest way to center data is to subtract the mean value from each data point.\n",
    "\n",
    "5. Subtracting the mean centers the data around zero and sets the new mean to zero.\n",
    "\n",
    "6. Let's try zero-centering the mtcars dataset, a small set of car-related data.  "
   ]
  },
  {
   "cell_type": "code",
   "execution_count": 1,
   "id": "c47f7c47",
   "metadata": {
    "execution": {
     "iopub.execute_input": "2025-02-26T03:24:57.381071Z",
     "iopub.status.busy": "2025-02-26T03:24:57.380691Z",
     "iopub.status.idle": "2025-02-26T03:24:59.975841Z",
     "shell.execute_reply": "2025-02-26T03:24:59.974911Z"
    },
    "papermill": {
     "duration": 2.605424,
     "end_time": "2025-02-26T03:24:59.977637",
     "exception": false,
     "start_time": "2025-02-26T03:24:57.372213",
     "status": "completed"
    },
    "tags": []
   },
   "outputs": [],
   "source": [
    "import numpy as np \n",
    "import pandas as pd \n",
    "import os \n",
    "from sklearn import preprocessing\n",
    "\n",
    "\n",
    "\n",
    "%matplotlib inline  "
   ]
  },
  {
   "cell_type": "code",
   "execution_count": 2,
   "id": "eabcef89",
   "metadata": {
    "execution": {
     "iopub.execute_input": "2025-02-26T03:24:59.994397Z",
     "iopub.status.busy": "2025-02-26T03:24:59.993829Z",
     "iopub.status.idle": "2025-02-26T03:25:00.000690Z",
     "shell.execute_reply": "2025-02-26T03:24:59.999567Z"
    },
    "papermill": {
     "duration": 0.016967,
     "end_time": "2025-02-26T03:25:00.002351",
     "exception": false,
     "start_time": "2025-02-26T03:24:59.985384",
     "status": "completed"
    },
    "tags": []
   },
   "outputs": [
    {
     "data": {
      "text/plain": [
       "'/kaggle/working'"
      ]
     },
     "execution_count": 2,
     "metadata": {},
     "output_type": "execute_result"
    }
   ],
   "source": [
    "os.getcwd()"
   ]
  },
  {
   "cell_type": "code",
   "execution_count": 3,
   "id": "a047a47a",
   "metadata": {
    "execution": {
     "iopub.execute_input": "2025-02-26T03:25:00.019329Z",
     "iopub.status.busy": "2025-02-26T03:25:00.018909Z",
     "iopub.status.idle": "2025-02-26T03:25:00.023254Z",
     "shell.execute_reply": "2025-02-26T03:25:00.022148Z"
    },
    "papermill": {
     "duration": 0.014813,
     "end_time": "2025-02-26T03:25:00.024962",
     "exception": false,
     "start_time": "2025-02-26T03:25:00.010149",
     "status": "completed"
    },
    "tags": []
   },
   "outputs": [],
   "source": [
    "os.chdir('/kaggle/')"
   ]
  },
  {
   "cell_type": "code",
   "execution_count": 4,
   "id": "282a1e34",
   "metadata": {
    "execution": {
     "iopub.execute_input": "2025-02-26T03:25:00.042536Z",
     "iopub.status.busy": "2025-02-26T03:25:00.042150Z",
     "iopub.status.idle": "2025-02-26T03:25:00.048001Z",
     "shell.execute_reply": "2025-02-26T03:25:00.046750Z"
    },
    "papermill": {
     "duration": 0.017007,
     "end_time": "2025-02-26T03:25:00.049989",
     "exception": false,
     "start_time": "2025-02-26T03:25:00.032982",
     "status": "completed"
    },
    "tags": []
   },
   "outputs": [
    {
     "data": {
      "text/plain": [
       "'/kaggle'"
      ]
     },
     "execution_count": 4,
     "metadata": {},
     "output_type": "execute_result"
    }
   ],
   "source": [
    "os.getcwd()"
   ]
  },
  {
   "cell_type": "code",
   "execution_count": 5,
   "id": "fc68ae38",
   "metadata": {
    "execution": {
     "iopub.execute_input": "2025-02-26T03:25:00.067147Z",
     "iopub.status.busy": "2025-02-26T03:25:00.066791Z",
     "iopub.status.idle": "2025-02-26T03:25:00.072819Z",
     "shell.execute_reply": "2025-02-26T03:25:00.071816Z"
    },
    "papermill": {
     "duration": 0.016798,
     "end_time": "2025-02-26T03:25:00.074704",
     "exception": false,
     "start_time": "2025-02-26T03:25:00.057906",
     "status": "completed"
    },
    "tags": []
   },
   "outputs": [
    {
     "data": {
      "text/plain": [
       "['src', 'lib', 'input', 'nbdev', 'working']"
      ]
     },
     "execution_count": 5,
     "metadata": {},
     "output_type": "execute_result"
    }
   ],
   "source": [
    "os.listdir('/kaggle/')"
   ]
  },
  {
   "cell_type": "code",
   "execution_count": 6,
   "id": "eb182510",
   "metadata": {
    "execution": {
     "iopub.execute_input": "2025-02-26T03:25:00.092195Z",
     "iopub.status.busy": "2025-02-26T03:25:00.091828Z",
     "iopub.status.idle": "2025-02-26T03:25:00.097833Z",
     "shell.execute_reply": "2025-02-26T03:25:00.096754Z"
    },
    "papermill": {
     "duration": 0.016793,
     "end_time": "2025-02-26T03:25:00.099744",
     "exception": false,
     "start_time": "2025-02-26T03:25:00.082951",
     "status": "completed"
    },
    "tags": []
   },
   "outputs": [
    {
     "data": {
      "text/plain": [
       "['mtcars']"
      ]
     },
     "execution_count": 6,
     "metadata": {},
     "output_type": "execute_result"
    }
   ],
   "source": [
    "os.listdir('/kaggle/input/')"
   ]
  },
  {
   "cell_type": "code",
   "execution_count": 7,
   "id": "cb05079f",
   "metadata": {
    "execution": {
     "iopub.execute_input": "2025-02-26T03:25:00.118109Z",
     "iopub.status.busy": "2025-02-26T03:25:00.117761Z",
     "iopub.status.idle": "2025-02-26T03:25:00.130521Z",
     "shell.execute_reply": "2025-02-26T03:25:00.129416Z"
    },
    "papermill": {
     "duration": 0.023603,
     "end_time": "2025-02-26T03:25:00.132309",
     "exception": false,
     "start_time": "2025-02-26T03:25:00.108706",
     "status": "completed"
    },
    "tags": []
   },
   "outputs": [
    {
     "data": {
      "text/plain": [
       "['mtcars.csv']"
      ]
     },
     "execution_count": 7,
     "metadata": {},
     "output_type": "execute_result"
    }
   ],
   "source": [
    "os.listdir('input/mtcars')  \n"
   ]
  },
  {
   "cell_type": "code",
   "execution_count": 8,
   "id": "5fef052e",
   "metadata": {
    "execution": {
     "iopub.execute_input": "2025-02-26T03:25:00.149945Z",
     "iopub.status.busy": "2025-02-26T03:25:00.149548Z",
     "iopub.status.idle": "2025-02-26T03:25:00.169161Z",
     "shell.execute_reply": "2025-02-26T03:25:00.168044Z"
    },
    "papermill": {
     "duration": 0.03074,
     "end_time": "2025-02-26T03:25:00.171135",
     "exception": false,
     "start_time": "2025-02-26T03:25:00.140395",
     "status": "completed"
    },
    "tags": []
   },
   "outputs": [],
   "source": [
    "mtcars = pd.read_csv(\"/kaggle/input/mtcars/mtcars.csv\")   "
   ]
  },
  {
   "cell_type": "code",
   "execution_count": 9,
   "id": "38a9095d",
   "metadata": {
    "execution": {
     "iopub.execute_input": "2025-02-26T03:25:00.188634Z",
     "iopub.status.busy": "2025-02-26T03:25:00.188214Z",
     "iopub.status.idle": "2025-02-26T03:25:00.207864Z",
     "shell.execute_reply": "2025-02-26T03:25:00.206621Z"
    },
    "papermill": {
     "duration": 0.030654,
     "end_time": "2025-02-26T03:25:00.209786",
     "exception": false,
     "start_time": "2025-02-26T03:25:00.179132",
     "status": "completed"
    },
    "tags": []
   },
   "outputs": [
    {
     "name": "stdout",
     "output_type": "stream",
     "text": [
      "               model   mpg  cyl   disp   hp  drat     wt   qsec  vs  am  gear  \\\n",
      "0          Mazda RX4  21.0    6  160.0  110  3.90  2.620  16.46   0   1     4   \n",
      "1      Mazda RX4 Wag  21.0    6  160.0  110  3.90  2.875  17.02   0   1     4   \n",
      "2         Datsun 710  22.8    4  108.0   93  3.85  2.320  18.61   1   1     4   \n",
      "3     Hornet 4 Drive  21.4    6  258.0  110  3.08  3.215  19.44   1   0     3   \n",
      "4  Hornet Sportabout  18.7    8  360.0  175  3.15  3.440  17.02   0   0     3   \n",
      "\n",
      "   carb  \n",
      "0     4  \n",
      "1     4  \n",
      "2     1  \n",
      "3     1  \n",
      "4     2  \n"
     ]
    }
   ],
   "source": [
    "print(mtcars.head()) "
   ]
  },
  {
   "cell_type": "code",
   "execution_count": 10,
   "id": "b64dc017",
   "metadata": {
    "execution": {
     "iopub.execute_input": "2025-02-26T03:25:00.228688Z",
     "iopub.status.busy": "2025-02-26T03:25:00.228236Z",
     "iopub.status.idle": "2025-02-26T03:25:00.238100Z",
     "shell.execute_reply": "2025-02-26T03:25:00.237001Z"
    },
    "papermill": {
     "duration": 0.021843,
     "end_time": "2025-02-26T03:25:00.240038",
     "exception": false,
     "start_time": "2025-02-26T03:25:00.218195",
     "status": "completed"
    },
    "tags": []
   },
   "outputs": [],
   "source": [
    "# Set row index to car model: \n",
    "\n",
    "mtcars.index = mtcars.model  \n",
    "\n",
    "\n",
    "# Drop car name column: \n",
    "\n",
    "\n",
    "del mtcars[\"model\"]  \n",
    " "
   ]
  },
  {
   "cell_type": "code",
   "execution_count": 11,
   "id": "54943350",
   "metadata": {
    "execution": {
     "iopub.execute_input": "2025-02-26T03:25:00.257699Z",
     "iopub.status.busy": "2025-02-26T03:25:00.257293Z",
     "iopub.status.idle": "2025-02-26T03:25:00.281007Z",
     "shell.execute_reply": "2025-02-26T03:25:00.279916Z"
    },
    "papermill": {
     "duration": 0.034416,
     "end_time": "2025-02-26T03:25:00.282820",
     "exception": false,
     "start_time": "2025-02-26T03:25:00.248404",
     "status": "completed"
    },
    "tags": []
   },
   "outputs": [
    {
     "data": {
      "text/html": [
       "<div>\n",
       "<style scoped>\n",
       "    .dataframe tbody tr th:only-of-type {\n",
       "        vertical-align: middle;\n",
       "    }\n",
       "\n",
       "    .dataframe tbody tr th {\n",
       "        vertical-align: top;\n",
       "    }\n",
       "\n",
       "    .dataframe thead th {\n",
       "        text-align: right;\n",
       "    }\n",
       "</style>\n",
       "<table border=\"1\" class=\"dataframe\">\n",
       "  <thead>\n",
       "    <tr style=\"text-align: right;\">\n",
       "      <th></th>\n",
       "      <th>mpg</th>\n",
       "      <th>cyl</th>\n",
       "      <th>disp</th>\n",
       "      <th>hp</th>\n",
       "      <th>drat</th>\n",
       "      <th>wt</th>\n",
       "      <th>qsec</th>\n",
       "      <th>vs</th>\n",
       "      <th>am</th>\n",
       "      <th>gear</th>\n",
       "      <th>carb</th>\n",
       "    </tr>\n",
       "    <tr>\n",
       "      <th>model</th>\n",
       "      <th></th>\n",
       "      <th></th>\n",
       "      <th></th>\n",
       "      <th></th>\n",
       "      <th></th>\n",
       "      <th></th>\n",
       "      <th></th>\n",
       "      <th></th>\n",
       "      <th></th>\n",
       "      <th></th>\n",
       "      <th></th>\n",
       "    </tr>\n",
       "  </thead>\n",
       "  <tbody>\n",
       "    <tr>\n",
       "      <th>Mazda RX4</th>\n",
       "      <td>21.0</td>\n",
       "      <td>6</td>\n",
       "      <td>160.0</td>\n",
       "      <td>110</td>\n",
       "      <td>3.90</td>\n",
       "      <td>2.620</td>\n",
       "      <td>16.46</td>\n",
       "      <td>0</td>\n",
       "      <td>1</td>\n",
       "      <td>4</td>\n",
       "      <td>4</td>\n",
       "    </tr>\n",
       "    <tr>\n",
       "      <th>Mazda RX4 Wag</th>\n",
       "      <td>21.0</td>\n",
       "      <td>6</td>\n",
       "      <td>160.0</td>\n",
       "      <td>110</td>\n",
       "      <td>3.90</td>\n",
       "      <td>2.875</td>\n",
       "      <td>17.02</td>\n",
       "      <td>0</td>\n",
       "      <td>1</td>\n",
       "      <td>4</td>\n",
       "      <td>4</td>\n",
       "    </tr>\n",
       "    <tr>\n",
       "      <th>Datsun 710</th>\n",
       "      <td>22.8</td>\n",
       "      <td>4</td>\n",
       "      <td>108.0</td>\n",
       "      <td>93</td>\n",
       "      <td>3.85</td>\n",
       "      <td>2.320</td>\n",
       "      <td>18.61</td>\n",
       "      <td>1</td>\n",
       "      <td>1</td>\n",
       "      <td>4</td>\n",
       "      <td>1</td>\n",
       "    </tr>\n",
       "    <tr>\n",
       "      <th>Hornet 4 Drive</th>\n",
       "      <td>21.4</td>\n",
       "      <td>6</td>\n",
       "      <td>258.0</td>\n",
       "      <td>110</td>\n",
       "      <td>3.08</td>\n",
       "      <td>3.215</td>\n",
       "      <td>19.44</td>\n",
       "      <td>1</td>\n",
       "      <td>0</td>\n",
       "      <td>3</td>\n",
       "      <td>1</td>\n",
       "    </tr>\n",
       "    <tr>\n",
       "      <th>Hornet Sportabout</th>\n",
       "      <td>18.7</td>\n",
       "      <td>8</td>\n",
       "      <td>360.0</td>\n",
       "      <td>175</td>\n",
       "      <td>3.15</td>\n",
       "      <td>3.440</td>\n",
       "      <td>17.02</td>\n",
       "      <td>0</td>\n",
       "      <td>0</td>\n",
       "      <td>3</td>\n",
       "      <td>2</td>\n",
       "    </tr>\n",
       "  </tbody>\n",
       "</table>\n",
       "</div>"
      ],
      "text/plain": [
       "                    mpg  cyl   disp   hp  drat     wt   qsec  vs  am  gear  \\\n",
       "model                                                                        \n",
       "Mazda RX4          21.0    6  160.0  110  3.90  2.620  16.46   0   1     4   \n",
       "Mazda RX4 Wag      21.0    6  160.0  110  3.90  2.875  17.02   0   1     4   \n",
       "Datsun 710         22.8    4  108.0   93  3.85  2.320  18.61   1   1     4   \n",
       "Hornet 4 Drive     21.4    6  258.0  110  3.08  3.215  19.44   1   0     3   \n",
       "Hornet Sportabout  18.7    8  360.0  175  3.15  3.440  17.02   0   0     3   \n",
       "\n",
       "                   carb  \n",
       "model                    \n",
       "Mazda RX4             4  \n",
       "Mazda RX4 Wag         4  \n",
       "Datsun 710            1  \n",
       "Hornet 4 Drive        1  \n",
       "Hornet Sportabout     2  "
      ]
     },
     "execution_count": 11,
     "metadata": {},
     "output_type": "execute_result"
    }
   ],
   "source": [
    "mtcars.head()"
   ]
  },
  {
   "cell_type": "code",
   "execution_count": 12,
   "id": "2e9ee6e1",
   "metadata": {
    "execution": {
     "iopub.execute_input": "2025-02-26T03:25:00.300689Z",
     "iopub.status.busy": "2025-02-26T03:25:00.300310Z",
     "iopub.status.idle": "2025-02-26T03:25:00.309900Z",
     "shell.execute_reply": "2025-02-26T03:25:00.308961Z"
    },
    "papermill": {
     "duration": 0.020146,
     "end_time": "2025-02-26T03:25:00.311338",
     "exception": false,
     "start_time": "2025-02-26T03:25:00.291192",
     "status": "completed"
    },
    "tags": []
   },
   "outputs": [
    {
     "data": {
      "text/plain": [
       "mpg      20.090625\n",
       "cyl       6.187500\n",
       "disp    230.721875\n",
       "hp      146.687500\n",
       "drat      3.596563\n",
       "wt        3.217250\n",
       "qsec     17.848750\n",
       "vs        0.437500\n",
       "am        0.406250\n",
       "gear      3.687500\n",
       "carb      2.812500\n",
       "dtype: float64"
      ]
     },
     "execution_count": 12,
     "metadata": {},
     "output_type": "execute_result"
    }
   ],
   "source": [
    "# Calculate column means: \n",
    "\n",
    "col_mean = mtcars.sum() / mtcars.shape[0] \n",
    "col_mean"
   ]
  },
  {
   "cell_type": "markdown",
   "id": "18667851",
   "metadata": {
    "papermill": {
     "duration": 0.008436,
     "end_time": "2025-02-26T03:25:00.328040",
     "exception": false,
     "start_time": "2025-02-26T03:25:00.319604",
     "status": "completed"
    },
    "tags": []
   },
   "source": [
    "Conclusion: \n",
    "\n",
    "1. With the column means in hand, we just need to subtract the column means from each row in an element-wise fashion to zero center the data.\n",
    "   \n",
    "2. Pandas performs math operations involving DataFrames and columns on an element-wise row-by-row basis by default.\n",
    "\n",
    "3. So we can simply subtract our column means series from the data set to center it: \n"
   ]
  },
  {
   "cell_type": "code",
   "execution_count": 13,
   "id": "8c917a29",
   "metadata": {
    "execution": {
     "iopub.execute_input": "2025-02-26T03:25:00.345934Z",
     "iopub.status.busy": "2025-02-26T03:25:00.345560Z",
     "iopub.status.idle": "2025-02-26T03:25:00.387343Z",
     "shell.execute_reply": "2025-02-26T03:25:00.386227Z"
    },
    "papermill": {
     "duration": 0.052823,
     "end_time": "2025-02-26T03:25:00.389117",
     "exception": false,
     "start_time": "2025-02-26T03:25:00.336294",
     "status": "completed"
    },
    "tags": []
   },
   "outputs": [
    {
     "data": {
      "text/html": [
       "<div>\n",
       "<style scoped>\n",
       "    .dataframe tbody tr th:only-of-type {\n",
       "        vertical-align: middle;\n",
       "    }\n",
       "\n",
       "    .dataframe tbody tr th {\n",
       "        vertical-align: top;\n",
       "    }\n",
       "\n",
       "    .dataframe thead th {\n",
       "        text-align: right;\n",
       "    }\n",
       "</style>\n",
       "<table border=\"1\" class=\"dataframe\">\n",
       "  <thead>\n",
       "    <tr style=\"text-align: right;\">\n",
       "      <th></th>\n",
       "      <th>mpg</th>\n",
       "      <th>cyl</th>\n",
       "      <th>disp</th>\n",
       "      <th>hp</th>\n",
       "      <th>drat</th>\n",
       "      <th>wt</th>\n",
       "      <th>qsec</th>\n",
       "      <th>vs</th>\n",
       "      <th>am</th>\n",
       "      <th>gear</th>\n",
       "      <th>carb</th>\n",
       "    </tr>\n",
       "  </thead>\n",
       "  <tbody>\n",
       "    <tr>\n",
       "      <th>count</th>\n",
       "      <td>3.200000e+01</td>\n",
       "      <td>32.000000</td>\n",
       "      <td>3.200000e+01</td>\n",
       "      <td>32.000000</td>\n",
       "      <td>3.200000e+01</td>\n",
       "      <td>3.200000e+01</td>\n",
       "      <td>3.200000e+01</td>\n",
       "      <td>32.000000</td>\n",
       "      <td>32.000000</td>\n",
       "      <td>32.000000</td>\n",
       "      <td>32.0000</td>\n",
       "    </tr>\n",
       "    <tr>\n",
       "      <th>mean</th>\n",
       "      <td>-3.108624e-15</td>\n",
       "      <td>0.000000</td>\n",
       "      <td>2.131628e-14</td>\n",
       "      <td>0.000000</td>\n",
       "      <td>-1.526557e-16</td>\n",
       "      <td>-4.440892e-16</td>\n",
       "      <td>-2.609024e-15</td>\n",
       "      <td>0.000000</td>\n",
       "      <td>0.000000</td>\n",
       "      <td>0.000000</td>\n",
       "      <td>0.0000</td>\n",
       "    </tr>\n",
       "    <tr>\n",
       "      <th>std</th>\n",
       "      <td>6.026948e+00</td>\n",
       "      <td>1.785922</td>\n",
       "      <td>1.239387e+02</td>\n",
       "      <td>68.562868</td>\n",
       "      <td>5.346787e-01</td>\n",
       "      <td>9.784574e-01</td>\n",
       "      <td>1.786943e+00</td>\n",
       "      <td>0.504016</td>\n",
       "      <td>0.498991</td>\n",
       "      <td>0.737804</td>\n",
       "      <td>1.6152</td>\n",
       "    </tr>\n",
       "    <tr>\n",
       "      <th>min</th>\n",
       "      <td>-9.690625e+00</td>\n",
       "      <td>-2.187500</td>\n",
       "      <td>-1.596219e+02</td>\n",
       "      <td>-94.687500</td>\n",
       "      <td>-8.365625e-01</td>\n",
       "      <td>-1.704250e+00</td>\n",
       "      <td>-3.348750e+00</td>\n",
       "      <td>-0.437500</td>\n",
       "      <td>-0.406250</td>\n",
       "      <td>-0.687500</td>\n",
       "      <td>-1.8125</td>\n",
       "    </tr>\n",
       "    <tr>\n",
       "      <th>25%</th>\n",
       "      <td>-4.665625e+00</td>\n",
       "      <td>-2.187500</td>\n",
       "      <td>-1.098969e+02</td>\n",
       "      <td>-50.187500</td>\n",
       "      <td>-5.165625e-01</td>\n",
       "      <td>-6.360000e-01</td>\n",
       "      <td>-9.562500e-01</td>\n",
       "      <td>-0.437500</td>\n",
       "      <td>-0.406250</td>\n",
       "      <td>-0.687500</td>\n",
       "      <td>-0.8125</td>\n",
       "    </tr>\n",
       "    <tr>\n",
       "      <th>50%</th>\n",
       "      <td>-8.906250e-01</td>\n",
       "      <td>-0.187500</td>\n",
       "      <td>-3.442187e+01</td>\n",
       "      <td>-23.687500</td>\n",
       "      <td>9.843750e-02</td>\n",
       "      <td>1.077500e-01</td>\n",
       "      <td>-1.387500e-01</td>\n",
       "      <td>-0.437500</td>\n",
       "      <td>-0.406250</td>\n",
       "      <td>0.312500</td>\n",
       "      <td>-0.8125</td>\n",
       "    </tr>\n",
       "    <tr>\n",
       "      <th>75%</th>\n",
       "      <td>2.709375e+00</td>\n",
       "      <td>1.812500</td>\n",
       "      <td>9.527813e+01</td>\n",
       "      <td>33.312500</td>\n",
       "      <td>3.234375e-01</td>\n",
       "      <td>3.927500e-01</td>\n",
       "      <td>1.051250e+00</td>\n",
       "      <td>0.562500</td>\n",
       "      <td>0.593750</td>\n",
       "      <td>0.312500</td>\n",
       "      <td>1.1875</td>\n",
       "    </tr>\n",
       "    <tr>\n",
       "      <th>max</th>\n",
       "      <td>1.380937e+01</td>\n",
       "      <td>1.812500</td>\n",
       "      <td>2.412781e+02</td>\n",
       "      <td>188.312500</td>\n",
       "      <td>1.333437e+00</td>\n",
       "      <td>2.206750e+00</td>\n",
       "      <td>5.051250e+00</td>\n",
       "      <td>0.562500</td>\n",
       "      <td>0.593750</td>\n",
       "      <td>1.312500</td>\n",
       "      <td>5.1875</td>\n",
       "    </tr>\n",
       "  </tbody>\n",
       "</table>\n",
       "</div>"
      ],
      "text/plain": [
       "                mpg        cyl          disp          hp          drat  \\\n",
       "count  3.200000e+01  32.000000  3.200000e+01   32.000000  3.200000e+01   \n",
       "mean  -3.108624e-15   0.000000  2.131628e-14    0.000000 -1.526557e-16   \n",
       "std    6.026948e+00   1.785922  1.239387e+02   68.562868  5.346787e-01   \n",
       "min   -9.690625e+00  -2.187500 -1.596219e+02  -94.687500 -8.365625e-01   \n",
       "25%   -4.665625e+00  -2.187500 -1.098969e+02  -50.187500 -5.165625e-01   \n",
       "50%   -8.906250e-01  -0.187500 -3.442187e+01  -23.687500  9.843750e-02   \n",
       "75%    2.709375e+00   1.812500  9.527813e+01   33.312500  3.234375e-01   \n",
       "max    1.380937e+01   1.812500  2.412781e+02  188.312500  1.333437e+00   \n",
       "\n",
       "                 wt          qsec         vs         am       gear     carb  \n",
       "count  3.200000e+01  3.200000e+01  32.000000  32.000000  32.000000  32.0000  \n",
       "mean  -4.440892e-16 -2.609024e-15   0.000000   0.000000   0.000000   0.0000  \n",
       "std    9.784574e-01  1.786943e+00   0.504016   0.498991   0.737804   1.6152  \n",
       "min   -1.704250e+00 -3.348750e+00  -0.437500  -0.406250  -0.687500  -1.8125  \n",
       "25%   -6.360000e-01 -9.562500e-01  -0.437500  -0.406250  -0.687500  -0.8125  \n",
       "50%    1.077500e-01 -1.387500e-01  -0.437500  -0.406250   0.312500  -0.8125  \n",
       "75%    3.927500e-01  1.051250e+00   0.562500   0.593750   0.312500   1.1875  \n",
       "max    2.206750e+00  5.051250e+00   0.562500   0.593750   1.312500   5.1875  "
      ]
     },
     "execution_count": 13,
     "metadata": {},
     "output_type": "execute_result"
    }
   ],
   "source": [
    "centered = mtcars - col_mean \n",
    "centered.describe()"
   ]
  },
  {
   "cell_type": "markdown",
   "id": "662a5a2c",
   "metadata": {
    "papermill": {
     "duration": 0.008508,
     "end_time": "2025-02-26T03:25:00.406369",
     "exception": false,
     "start_time": "2025-02-26T03:25:00.397861",
     "status": "completed"
    },
    "tags": []
   },
   "source": [
    "1. put it all on a common scale.\n",
    "   \n",
    "2. One way to put data on a common scale is to divide by the standard deviation.\n",
    "\n",
    "3. Standard deviation is a statistic that describes the spread of numeric data.\n",
    "\n",
    "4. The higher the standard deviation, the further the data points tend to be spread away from the mean value.\n",
    "\n",
    "5. You can get standard deviations with df.std() "
   ]
  },
  {
   "cell_type": "code",
   "execution_count": 14,
   "id": "ba76466f",
   "metadata": {
    "execution": {
     "iopub.execute_input": "2025-02-26T03:25:00.424844Z",
     "iopub.status.busy": "2025-02-26T03:25:00.424424Z",
     "iopub.status.idle": "2025-02-26T03:25:00.462166Z",
     "shell.execute_reply": "2025-02-26T03:25:00.461029Z"
    },
    "papermill": {
     "duration": 0.049001,
     "end_time": "2025-02-26T03:25:00.463977",
     "exception": false,
     "start_time": "2025-02-26T03:25:00.414976",
     "status": "completed"
    },
    "tags": []
   },
   "outputs": [
    {
     "data": {
      "text/html": [
       "<div>\n",
       "<style scoped>\n",
       "    .dataframe tbody tr th:only-of-type {\n",
       "        vertical-align: middle;\n",
       "    }\n",
       "\n",
       "    .dataframe tbody tr th {\n",
       "        vertical-align: top;\n",
       "    }\n",
       "\n",
       "    .dataframe thead th {\n",
       "        text-align: right;\n",
       "    }\n",
       "</style>\n",
       "<table border=\"1\" class=\"dataframe\">\n",
       "  <thead>\n",
       "    <tr style=\"text-align: right;\">\n",
       "      <th></th>\n",
       "      <th>mpg</th>\n",
       "      <th>cyl</th>\n",
       "      <th>disp</th>\n",
       "      <th>hp</th>\n",
       "      <th>drat</th>\n",
       "      <th>wt</th>\n",
       "      <th>qsec</th>\n",
       "      <th>vs</th>\n",
       "      <th>am</th>\n",
       "      <th>gear</th>\n",
       "      <th>carb</th>\n",
       "    </tr>\n",
       "  </thead>\n",
       "  <tbody>\n",
       "    <tr>\n",
       "      <th>count</th>\n",
       "      <td>3.200000e+01</td>\n",
       "      <td>3.200000e+01</td>\n",
       "      <td>3.200000e+01</td>\n",
       "      <td>3.200000e+01</td>\n",
       "      <td>3.200000e+01</td>\n",
       "      <td>3.200000e+01</td>\n",
       "      <td>3.200000e+01</td>\n",
       "      <td>32.000000</td>\n",
       "      <td>3.200000e+01</td>\n",
       "      <td>3.200000e+01</td>\n",
       "      <td>3.200000e+01</td>\n",
       "    </tr>\n",
       "    <tr>\n",
       "      <th>mean</th>\n",
       "      <td>-5.551115e-16</td>\n",
       "      <td>-2.775558e-17</td>\n",
       "      <td>1.110223e-16</td>\n",
       "      <td>2.775558e-17</td>\n",
       "      <td>-2.775558e-16</td>\n",
       "      <td>-3.608225e-16</td>\n",
       "      <td>-1.443290e-15</td>\n",
       "      <td>0.000000</td>\n",
       "      <td>5.551115e-17</td>\n",
       "      <td>-2.775558e-17</td>\n",
       "      <td>2.775558e-17</td>\n",
       "    </tr>\n",
       "    <tr>\n",
       "      <th>std</th>\n",
       "      <td>1.000000e+00</td>\n",
       "      <td>1.000000e+00</td>\n",
       "      <td>1.000000e+00</td>\n",
       "      <td>1.000000e+00</td>\n",
       "      <td>1.000000e+00</td>\n",
       "      <td>1.000000e+00</td>\n",
       "      <td>1.000000e+00</td>\n",
       "      <td>1.000000</td>\n",
       "      <td>1.000000e+00</td>\n",
       "      <td>1.000000e+00</td>\n",
       "      <td>1.000000e+00</td>\n",
       "    </tr>\n",
       "    <tr>\n",
       "      <th>min</th>\n",
       "      <td>-1.607883e+00</td>\n",
       "      <td>-1.224858e+00</td>\n",
       "      <td>-1.287910e+00</td>\n",
       "      <td>-1.381032e+00</td>\n",
       "      <td>-1.564608e+00</td>\n",
       "      <td>-1.741772e+00</td>\n",
       "      <td>-1.874010e+00</td>\n",
       "      <td>-0.868028</td>\n",
       "      <td>-8.141431e-01</td>\n",
       "      <td>-9.318192e-01</td>\n",
       "      <td>-1.122152e+00</td>\n",
       "    </tr>\n",
       "    <tr>\n",
       "      <th>25%</th>\n",
       "      <td>-7.741273e-01</td>\n",
       "      <td>-1.224858e+00</td>\n",
       "      <td>-8.867035e-01</td>\n",
       "      <td>-7.319924e-01</td>\n",
       "      <td>-9.661175e-01</td>\n",
       "      <td>-6.500027e-01</td>\n",
       "      <td>-5.351317e-01</td>\n",
       "      <td>-0.868028</td>\n",
       "      <td>-8.141431e-01</td>\n",
       "      <td>-9.318192e-01</td>\n",
       "      <td>-5.030337e-01</td>\n",
       "    </tr>\n",
       "    <tr>\n",
       "      <th>50%</th>\n",
       "      <td>-1.477738e-01</td>\n",
       "      <td>-1.049878e-01</td>\n",
       "      <td>-2.777331e-01</td>\n",
       "      <td>-3.454858e-01</td>\n",
       "      <td>1.841059e-01</td>\n",
       "      <td>1.101223e-01</td>\n",
       "      <td>-7.764656e-02</td>\n",
       "      <td>-0.868028</td>\n",
       "      <td>-8.141431e-01</td>\n",
       "      <td>4.235542e-01</td>\n",
       "      <td>-5.030337e-01</td>\n",
       "    </tr>\n",
       "    <tr>\n",
       "      <th>75%</th>\n",
       "      <td>4.495434e-01</td>\n",
       "      <td>1.014882e+00</td>\n",
       "      <td>7.687521e-01</td>\n",
       "      <td>4.858679e-01</td>\n",
       "      <td>6.049193e-01</td>\n",
       "      <td>4.013971e-01</td>\n",
       "      <td>5.882951e-01</td>\n",
       "      <td>1.116036</td>\n",
       "      <td>1.189901e+00</td>\n",
       "      <td>4.235542e-01</td>\n",
       "      <td>7.352031e-01</td>\n",
       "    </tr>\n",
       "    <tr>\n",
       "      <th>max</th>\n",
       "      <td>2.291272e+00</td>\n",
       "      <td>1.014882e+00</td>\n",
       "      <td>1.946754e+00</td>\n",
       "      <td>2.746567e+00</td>\n",
       "      <td>2.493904e+00</td>\n",
       "      <td>2.255336e+00</td>\n",
       "      <td>2.826755e+00</td>\n",
       "      <td>1.116036</td>\n",
       "      <td>1.189901e+00</td>\n",
       "      <td>1.778928e+00</td>\n",
       "      <td>3.211677e+00</td>\n",
       "    </tr>\n",
       "  </tbody>\n",
       "</table>\n",
       "</div>"
      ],
      "text/plain": [
       "                mpg           cyl          disp            hp          drat  \\\n",
       "count  3.200000e+01  3.200000e+01  3.200000e+01  3.200000e+01  3.200000e+01   \n",
       "mean  -5.551115e-16 -2.775558e-17  1.110223e-16  2.775558e-17 -2.775558e-16   \n",
       "std    1.000000e+00  1.000000e+00  1.000000e+00  1.000000e+00  1.000000e+00   \n",
       "min   -1.607883e+00 -1.224858e+00 -1.287910e+00 -1.381032e+00 -1.564608e+00   \n",
       "25%   -7.741273e-01 -1.224858e+00 -8.867035e-01 -7.319924e-01 -9.661175e-01   \n",
       "50%   -1.477738e-01 -1.049878e-01 -2.777331e-01 -3.454858e-01  1.841059e-01   \n",
       "75%    4.495434e-01  1.014882e+00  7.687521e-01  4.858679e-01  6.049193e-01   \n",
       "max    2.291272e+00  1.014882e+00  1.946754e+00  2.746567e+00  2.493904e+00   \n",
       "\n",
       "                 wt          qsec         vs            am          gear  \\\n",
       "count  3.200000e+01  3.200000e+01  32.000000  3.200000e+01  3.200000e+01   \n",
       "mean  -3.608225e-16 -1.443290e-15   0.000000  5.551115e-17 -2.775558e-17   \n",
       "std    1.000000e+00  1.000000e+00   1.000000  1.000000e+00  1.000000e+00   \n",
       "min   -1.741772e+00 -1.874010e+00  -0.868028 -8.141431e-01 -9.318192e-01   \n",
       "25%   -6.500027e-01 -5.351317e-01  -0.868028 -8.141431e-01 -9.318192e-01   \n",
       "50%    1.101223e-01 -7.764656e-02  -0.868028 -8.141431e-01  4.235542e-01   \n",
       "75%    4.013971e-01  5.882951e-01   1.116036  1.189901e+00  4.235542e-01   \n",
       "max    2.255336e+00  2.826755e+00   1.116036  1.189901e+00  1.778928e+00   \n",
       "\n",
       "               carb  \n",
       "count  3.200000e+01  \n",
       "mean   2.775558e-17  \n",
       "std    1.000000e+00  \n",
       "min   -1.122152e+00  \n",
       "25%   -5.030337e-01  \n",
       "50%   -5.030337e-01  \n",
       "75%    7.352031e-01  \n",
       "max    3.211677e+00  "
      ]
     },
     "execution_count": 14,
     "metadata": {},
     "output_type": "execute_result"
    }
   ],
   "source": [
    "column_deviation = mtcars.std(axis = 0) \n",
    "\n",
    "centered_and_scaled = centered / column_deviation \n",
    "\n",
    "centered_and_scaled.describe()"
   ]
  },
  {
   "cell_type": "markdown",
   "id": "e53a0c57",
   "metadata": {
    "papermill": {
     "duration": 0.008725,
     "end_time": "2025-02-26T03:25:00.481707",
     "exception": false,
     "start_time": "2025-02-26T03:25:00.472982",
     "status": "completed"
    },
    "tags": []
   },
   "source": [
    "1. After dividing by the standard deviation, every variable now has a standard deviation of 1.\n",
    "   \n",
    "2. At this point, all the columns have roughly the same mean and scale of spread about the mean.  \n",
    "\n",
    "3. Manually centering and scaling as we've done is a good exercise, but it is often possible to perform common data preprocessing automatically using functions built into Python libraries.\n",
    "\n",
    "4. The Python library scikit-learn, a popular package for predictive modeling and data analysis, has preprocessing tools including a scale() function for centering and scaling data:"
   ]
  },
  {
   "cell_type": "code",
   "execution_count": 15,
   "id": "b0a88f83",
   "metadata": {
    "execution": {
     "iopub.execute_input": "2025-02-26T03:25:00.500614Z",
     "iopub.status.busy": "2025-02-26T03:25:00.500201Z",
     "iopub.status.idle": "2025-02-26T03:25:00.504309Z",
     "shell.execute_reply": "2025-02-26T03:25:00.503406Z"
    },
    "papermill": {
     "duration": 0.015511,
     "end_time": "2025-02-26T03:25:00.506031",
     "exception": false,
     "start_time": "2025-02-26T03:25:00.490520",
     "status": "completed"
    },
    "tags": []
   },
   "outputs": [],
   "source": [
    "from sklearn import preprocessing"
   ]
  },
  {
   "cell_type": "code",
   "execution_count": 16,
   "id": "642aef91",
   "metadata": {
    "execution": {
     "iopub.execute_input": "2025-02-26T03:25:00.524806Z",
     "iopub.status.busy": "2025-02-26T03:25:00.524435Z",
     "iopub.status.idle": "2025-02-26T03:25:00.562675Z",
     "shell.execute_reply": "2025-02-26T03:25:00.561569Z"
    },
    "papermill": {
     "duration": 0.049528,
     "end_time": "2025-02-26T03:25:00.564346",
     "exception": false,
     "start_time": "2025-02-26T03:25:00.514818",
     "status": "completed"
    },
    "tags": []
   },
   "outputs": [
    {
     "data": {
      "text/html": [
       "<div>\n",
       "<style scoped>\n",
       "    .dataframe tbody tr th:only-of-type {\n",
       "        vertical-align: middle;\n",
       "    }\n",
       "\n",
       "    .dataframe tbody tr th {\n",
       "        vertical-align: top;\n",
       "    }\n",
       "\n",
       "    .dataframe thead th {\n",
       "        text-align: right;\n",
       "    }\n",
       "</style>\n",
       "<table border=\"1\" class=\"dataframe\">\n",
       "  <thead>\n",
       "    <tr style=\"text-align: right;\">\n",
       "      <th></th>\n",
       "      <th>0</th>\n",
       "      <th>1</th>\n",
       "      <th>2</th>\n",
       "      <th>3</th>\n",
       "      <th>4</th>\n",
       "      <th>5</th>\n",
       "      <th>6</th>\n",
       "      <th>7</th>\n",
       "      <th>8</th>\n",
       "      <th>9</th>\n",
       "      <th>10</th>\n",
       "    </tr>\n",
       "  </thead>\n",
       "  <tbody>\n",
       "    <tr>\n",
       "      <th>count</th>\n",
       "      <td>3.200000e+01</td>\n",
       "      <td>3.200000e+01</td>\n",
       "      <td>3.200000e+01</td>\n",
       "      <td>32.000000</td>\n",
       "      <td>3.200000e+01</td>\n",
       "      <td>3.200000e+01</td>\n",
       "      <td>3.200000e+01</td>\n",
       "      <td>32.000000</td>\n",
       "      <td>32.000000</td>\n",
       "      <td>3.200000e+01</td>\n",
       "      <td>3.200000e+01</td>\n",
       "    </tr>\n",
       "    <tr>\n",
       "      <th>mean</th>\n",
       "      <td>-4.996004e-16</td>\n",
       "      <td>2.775558e-17</td>\n",
       "      <td>1.665335e-16</td>\n",
       "      <td>0.000000</td>\n",
       "      <td>-3.053113e-16</td>\n",
       "      <td>-4.718448e-16</td>\n",
       "      <td>-1.471046e-15</td>\n",
       "      <td>0.000000</td>\n",
       "      <td>0.000000</td>\n",
       "      <td>-2.775558e-17</td>\n",
       "      <td>-2.775558e-17</td>\n",
       "    </tr>\n",
       "    <tr>\n",
       "      <th>std</th>\n",
       "      <td>1.016001e+00</td>\n",
       "      <td>1.016001e+00</td>\n",
       "      <td>1.016001e+00</td>\n",
       "      <td>1.016001</td>\n",
       "      <td>1.016001e+00</td>\n",
       "      <td>1.016001e+00</td>\n",
       "      <td>1.016001e+00</td>\n",
       "      <td>1.016001</td>\n",
       "      <td>1.016001</td>\n",
       "      <td>1.016001e+00</td>\n",
       "      <td>1.016001e+00</td>\n",
       "    </tr>\n",
       "    <tr>\n",
       "      <th>min</th>\n",
       "      <td>-1.633610e+00</td>\n",
       "      <td>-1.244457e+00</td>\n",
       "      <td>-1.308518e+00</td>\n",
       "      <td>-1.403130</td>\n",
       "      <td>-1.589643e+00</td>\n",
       "      <td>-1.769642e+00</td>\n",
       "      <td>-1.903996e+00</td>\n",
       "      <td>-0.881917</td>\n",
       "      <td>-0.827170</td>\n",
       "      <td>-9.467293e-01</td>\n",
       "      <td>-1.140108e+00</td>\n",
       "    </tr>\n",
       "    <tr>\n",
       "      <th>25%</th>\n",
       "      <td>-7.865141e-01</td>\n",
       "      <td>-1.244457e+00</td>\n",
       "      <td>-9.008917e-01</td>\n",
       "      <td>-0.743705</td>\n",
       "      <td>-9.815764e-01</td>\n",
       "      <td>-6.604034e-01</td>\n",
       "      <td>-5.436944e-01</td>\n",
       "      <td>-0.881917</td>\n",
       "      <td>-0.827170</td>\n",
       "      <td>-9.467293e-01</td>\n",
       "      <td>-5.110827e-01</td>\n",
       "    </tr>\n",
       "    <tr>\n",
       "      <th>50%</th>\n",
       "      <td>-1.501383e-01</td>\n",
       "      <td>-1.066677e-01</td>\n",
       "      <td>-2.821771e-01</td>\n",
       "      <td>-0.351014</td>\n",
       "      <td>1.870518e-01</td>\n",
       "      <td>1.118844e-01</td>\n",
       "      <td>-7.888899e-02</td>\n",
       "      <td>-0.881917</td>\n",
       "      <td>-0.827170</td>\n",
       "      <td>4.303315e-01</td>\n",
       "      <td>-5.110827e-01</td>\n",
       "    </tr>\n",
       "    <tr>\n",
       "      <th>75%</th>\n",
       "      <td>4.567366e-01</td>\n",
       "      <td>1.031121e+00</td>\n",
       "      <td>7.810529e-01</td>\n",
       "      <td>0.493642</td>\n",
       "      <td>6.145986e-01</td>\n",
       "      <td>4.078199e-01</td>\n",
       "      <td>5.977084e-01</td>\n",
       "      <td>1.133893</td>\n",
       "      <td>1.208941</td>\n",
       "      <td>4.303315e-01</td>\n",
       "      <td>7.469671e-01</td>\n",
       "    </tr>\n",
       "    <tr>\n",
       "      <th>max</th>\n",
       "      <td>2.327934e+00</td>\n",
       "      <td>1.031121e+00</td>\n",
       "      <td>1.977904e+00</td>\n",
       "      <td>2.790515</td>\n",
       "      <td>2.533809e+00</td>\n",
       "      <td>2.291423e+00</td>\n",
       "      <td>2.871986e+00</td>\n",
       "      <td>1.133893</td>\n",
       "      <td>1.208941</td>\n",
       "      <td>1.807392e+00</td>\n",
       "      <td>3.263067e+00</td>\n",
       "    </tr>\n",
       "  </tbody>\n",
       "</table>\n",
       "</div>"
      ],
      "text/plain": [
       "                 0             1             2          3             4   \\\n",
       "count  3.200000e+01  3.200000e+01  3.200000e+01  32.000000  3.200000e+01   \n",
       "mean  -4.996004e-16  2.775558e-17  1.665335e-16   0.000000 -3.053113e-16   \n",
       "std    1.016001e+00  1.016001e+00  1.016001e+00   1.016001  1.016001e+00   \n",
       "min   -1.633610e+00 -1.244457e+00 -1.308518e+00  -1.403130 -1.589643e+00   \n",
       "25%   -7.865141e-01 -1.244457e+00 -9.008917e-01  -0.743705 -9.815764e-01   \n",
       "50%   -1.501383e-01 -1.066677e-01 -2.821771e-01  -0.351014  1.870518e-01   \n",
       "75%    4.567366e-01  1.031121e+00  7.810529e-01   0.493642  6.145986e-01   \n",
       "max    2.327934e+00  1.031121e+00  1.977904e+00   2.790515  2.533809e+00   \n",
       "\n",
       "                 5             6          7          8             9   \\\n",
       "count  3.200000e+01  3.200000e+01  32.000000  32.000000  3.200000e+01   \n",
       "mean  -4.718448e-16 -1.471046e-15   0.000000   0.000000 -2.775558e-17   \n",
       "std    1.016001e+00  1.016001e+00   1.016001   1.016001  1.016001e+00   \n",
       "min   -1.769642e+00 -1.903996e+00  -0.881917  -0.827170 -9.467293e-01   \n",
       "25%   -6.604034e-01 -5.436944e-01  -0.881917  -0.827170 -9.467293e-01   \n",
       "50%    1.118844e-01 -7.888899e-02  -0.881917  -0.827170  4.303315e-01   \n",
       "75%    4.078199e-01  5.977084e-01   1.133893   1.208941  4.303315e-01   \n",
       "max    2.291423e+00  2.871986e+00   1.133893   1.208941  1.807392e+00   \n",
       "\n",
       "                 10  \n",
       "count  3.200000e+01  \n",
       "mean  -2.775558e-17  \n",
       "std    1.016001e+00  \n",
       "min   -1.140108e+00  \n",
       "25%   -5.110827e-01  \n",
       "50%   -5.110827e-01  \n",
       "75%    7.469671e-01  \n",
       "max    3.263067e+00  "
      ]
     },
     "execution_count": 16,
     "metadata": {},
     "output_type": "execute_result"
    }
   ],
   "source": [
    "# Scale the data: \n",
    "\n",
    "scaled_data = preprocessing.scale(mtcars) \n",
    "\n",
    "# Remake the DataFrame \n",
    "scaled_data = pd.DataFrame(scaled_data) \n",
    "scaled_data.describe() \n",
    " \n"
   ]
  },
  {
   "cell_type": "markdown",
   "id": "b4779f39",
   "metadata": {
    "papermill": {
     "duration": 0.008712,
     "end_time": "2025-02-26T03:25:00.582458",
     "exception": false,
     "start_time": "2025-02-26T03:25:00.573746",
     "status": "completed"
    },
    "tags": []
   },
   "source": [
    "Note: \n",
    "\n",
    "1. preprocessing.scale() returns arrays so we convert it back into a DataFrame.\n",
    "\n",
    "2. the values are almost the same as those we calculated manually but not exactly the same. These small differences are likely due to rounding and details of the scikit-learn implementation of centering and scaling."
   ]
  },
  {
   "cell_type": "markdown",
   "id": "a941ee12",
   "metadata": {
    "papermill": {
     "duration": 0.00911,
     "end_time": "2025-02-26T03:25:00.600768",
     "exception": false,
     "start_time": "2025-02-26T03:25:00.591658",
     "status": "completed"
    },
    "tags": []
   },
   "source": [
    "# Dealing With Skewed Data¶ "
   ]
  },
  {
   "cell_type": "markdown",
   "id": "10c2aeef",
   "metadata": {
    "papermill": {
     "duration": 0.008821,
     "end_time": "2025-02-26T03:25:00.618949",
     "exception": false,
     "start_time": "2025-02-26T03:25:00.610128",
     "status": "completed"
    },
    "tags": []
   },
   "source": [
    "1. The distribution of data--its overall shape and how it is spread out--can have a significant impact on analysis and modeling.\n",
    "   \n",
    "2. Data that is roughly evenly spread around the mean value--known as normally distributed data--tends to be well-behaved.\n",
    "\n",
    "3. On the other hand, some data sets exhibit significant skewness or asymmetry. To illustrate, let's generate a few distributions\n",
    "\n"
   ]
  },
  {
   "cell_type": "code",
   "execution_count": 17,
   "id": "49d8f20c",
   "metadata": {
    "execution": {
     "iopub.execute_input": "2025-02-26T03:25:00.638570Z",
     "iopub.status.busy": "2025-02-26T03:25:00.638175Z",
     "iopub.status.idle": "2025-02-26T03:25:01.040814Z",
     "shell.execute_reply": "2025-02-26T03:25:01.039701Z"
    },
    "papermill": {
     "duration": 0.414424,
     "end_time": "2025-02-26T03:25:01.042550",
     "exception": false,
     "start_time": "2025-02-26T03:25:00.628126",
     "status": "completed"
    },
    "tags": []
   },
   "outputs": [
    {
     "data": {
      "text/plain": [
       "array([[<Axes: title={'center': '0'}>]], dtype=object)"
      ]
     },
     "execution_count": 17,
     "metadata": {},
     "output_type": "execute_result"
    },
    {
     "data": {
      "image/png": "[encoded data removed]",
      "text/plain": [
       "<Figure size 800x800 with 1 Axes>"
      ]
     },
     "metadata": {},
     "output_type": "display_data"
    }
   ],
   "source": [
    "# 1. Generate normal data\n",
    "# 2. Convert to DF \n",
    "# 3. Plot histogram \n",
    "\n",
    "nor_dis = np.random.normal(size = 500) \n",
    "\n",
    "nor_dis = pd.DataFrame(nor_dis) \n",
    "\n",
    "nor_dis.hist(figsize = (8, 8),\n",
    "             bins = 20)  \n",
    "\n",
    "\n",
    "# The normally distributed data looks roughly symmetric with a bell-shaped curve. \n"
   ]
  },
  {
   "cell_type": "code",
   "execution_count": 18,
   "id": "fd3883bd",
   "metadata": {
    "execution": {
     "iopub.execute_input": "2025-02-26T03:25:01.063584Z",
     "iopub.status.busy": "2025-02-26T03:25:01.063161Z",
     "iopub.status.idle": "2025-02-26T03:25:01.401946Z",
     "shell.execute_reply": "2025-02-26T03:25:01.400768Z"
    },
    "papermill": {
     "duration": 0.351302,
     "end_time": "2025-02-26T03:25:01.403773",
     "exception": false,
     "start_time": "2025-02-26T03:25:01.052471",
     "status": "completed"
    },
    "tags": []
   },
   "outputs": [
    {
     "data": {
      "text/plain": [
       "array([[<Axes: title={'center': '0'}>]], dtype=object)"
      ]
     },
     "execution_count": 18,
     "metadata": {},
     "output_type": "execute_result"
    },
    {
     "data": {
      "image/png": "[encoded data removed]",
      "text/plain": [
       "<Figure size 800x800 with 1 Axes>"
      ]
     },
     "metadata": {},
     "output_type": "display_data"
    }
   ],
   "source": [
    "# 1. Generate some skewed data\n",
    "# 2. Convert to df \n",
    "# 3. plot histogram \n",
    "\n",
    "skewed_data = np.random.exponential(scale = 2,\n",
    "                                   size = 10000) \n",
    "\n",
    "skewed_data = pd.DataFrame(skewed_data) \n",
    "\n",
    "skewed_data.hist(figsize = (8, 8),\n",
    "                 bins =50)  \n",
    " \n"
   ]
  },
  {
   "cell_type": "markdown",
   "id": "d60a11f0",
   "metadata": {
    "papermill": {
     "duration": 0.009633,
     "end_time": "2025-02-26T03:25:01.423606",
     "exception": false,
     "start_time": "2025-02-26T03:25:01.413973",
     "status": "completed"
    },
    "tags": []
   },
   "source": [
    "1. Data with a long tail that goes off to the right is called positively skewed or right skewed.\n",
    "   \n",
    "2. When you have a skewed distribution like the one above, the extreme values in the long tail can have a disproportionately large influence on whatever test you perform or models you build.\n",
    "\n",
    "3. Reducing skew may improve your results.\n",
    "\n",
    "4. Taking the square root of each data point or taking the natural logarithm of each data point are two simple transformations that can reduce skew.\n",
    "\n",
    "5. Let's see their effects on the skewed data. \n",
    "\n"
   ]
  },
  {
   "cell_type": "code",
   "execution_count": 19,
   "id": "72eb3793",
   "metadata": {
    "execution": {
     "iopub.execute_input": "2025-02-26T03:25:01.445123Z",
     "iopub.status.busy": "2025-02-26T03:25:01.444755Z",
     "iopub.status.idle": "2025-02-26T03:25:01.727768Z",
     "shell.execute_reply": "2025-02-26T03:25:01.726618Z"
    },
    "papermill": {
     "duration": 0.296139,
     "end_time": "2025-02-26T03:25:01.729829",
     "exception": false,
     "start_time": "2025-02-26T03:25:01.433690",
     "status": "completed"
    },
    "tags": []
   },
   "outputs": [
    {
     "data": {
      "text/plain": [
       "array([[<Axes: title={'center': '0'}>]], dtype=object)"
      ]
     },
     "execution_count": 19,
     "metadata": {},
     "output_type": "execute_result"
    },
    {
     "data": {
      "image/png": "[encoded data removed]",
      "text/plain": [
       "<Figure size 800x800 with 1 Axes>"
      ]
     },
     "metadata": {},
     "output_type": "display_data"
    }
   ],
   "source": [
    "#  Get the square root of data points: \n",
    "\n",
    "skewed_transformed = skewed_data.apply(np.sqrt) \n",
    "\n",
    "skewed_transformed.hist(figsize = (8, 8),\n",
    "                       bins = 20)  \n",
    "\n"
   ]
  },
  {
   "cell_type": "markdown",
   "id": "85b0eb57",
   "metadata": {
    "papermill": {
     "duration": 0.010168,
     "end_time": "2025-02-26T03:25:01.750728",
     "exception": false,
     "start_time": "2025-02-26T03:25:01.740560",
     "status": "completed"
    },
    "tags": []
   },
   "source": [
    "Note: The df.apply() function applies a given function to each row or column of the DataFrame. In this case we pass in np.sqrt to get the square root of each value."
   ]
  },
  {
   "cell_type": "code",
   "execution_count": 20,
   "id": "afc8d27b",
   "metadata": {
    "execution": {
     "iopub.execute_input": "2025-02-26T03:25:01.774967Z",
     "iopub.status.busy": "2025-02-26T03:25:01.774598Z",
     "iopub.status.idle": "2025-02-26T03:25:02.017976Z",
     "shell.execute_reply": "2025-02-26T03:25:02.016854Z"
    },
    "papermill": {
     "duration": 0.257045,
     "end_time": "2025-02-26T03:25:02.019880",
     "exception": false,
     "start_time": "2025-02-26T03:25:01.762835",
     "status": "completed"
    },
    "tags": []
   },
   "outputs": [
    {
     "data": {
      "text/plain": [
       "array([[<Axes: title={'center': '0'}>]], dtype=object)"
      ]
     },
     "execution_count": 20,
     "metadata": {},
     "output_type": "execute_result"
    },
    {
     "data": {
      "image/png": "[encoded data removed]",
      "text/plain": [
       "<Figure size 800x800 with 1 Axes>"
      ]
     },
     "metadata": {},
     "output_type": "display_data"
    }
   ],
   "source": [
    "# Get the log of the data\n",
    "\n",
    "log_data = (skewed_data+1).apply(np.log)   \n",
    "\n",
    "log_data.hist(figsize = (8, 8),\n",
    "             bins = 20)  \n"
   ]
  },
  {
   "cell_type": "markdown",
   "id": "8bf9e835",
   "metadata": {
    "papermill": {
     "duration": 0.011043,
     "end_time": "2025-02-26T03:25:02.041933",
     "exception": false,
     "start_time": "2025-02-26T03:25:02.030890",
     "status": "completed"
    },
    "tags": []
   },
   "source": [
    "Note: \n",
    "\n",
    "1. Adding 1 before taking the log ensures we don't end up with negative values.\n",
    "\n",
    "2. Both the sqrt() and log() transforms reduced the skew of the data.\n",
    "\n",
    "3. It's still not quite normally distributed, but the amount of extreme data in the tails has been reduced to the point where we might not be so worried about it having a large influence on our results."
   ]
  },
  {
   "cell_type": "markdown",
   "id": "f67fb7bd",
   "metadata": {
    "papermill": {
     "duration": 0.010433,
     "end_time": "2025-02-26T03:25:02.063467",
     "exception": false,
     "start_time": "2025-02-26T03:25:02.053034",
     "status": "completed"
    },
    "tags": []
   },
   "source": [
    "# Highly Correlated Variables"
   ]
  },
  {
   "cell_type": "markdown",
   "id": "93c7dcec",
   "metadata": {
    "papermill": {
     "duration": 0.010279,
     "end_time": "2025-02-26T03:25:02.084432",
     "exception": false,
     "start_time": "2025-02-26T03:25:02.074153",
     "status": "completed"
    },
    "tags": []
   },
   "source": [
    "1. In predictive modeling, each variable used to construct a model should ideally represent a unique feature of the data.\n",
    "   \n",
    "2. In other words, you want each variable to tell you something different. In reality, variables often exhibit collinearity--a strong correlation or tendency to move together, typically due to some underlying similarity or common influencing factor.\n",
    "\n",
    "3. Variables with strong correlations can interfere with one another when performing modeling and muddy results.\n",
    "\n",
    "You can check the pairwise correlations between numeric variables using the df.corr() function:\n",
    "\n"
   ]
  },
  {
   "cell_type": "code",
   "execution_count": 21,
   "id": "c34aaa71",
   "metadata": {
    "execution": {
     "iopub.execute_input": "2025-02-26T03:25:02.107562Z",
     "iopub.status.busy": "2025-02-26T03:25:02.107067Z",
     "iopub.status.idle": "2025-02-26T03:25:02.123981Z",
     "shell.execute_reply": "2025-02-26T03:25:02.122886Z"
    },
    "papermill": {
     "duration": 0.03058,
     "end_time": "2025-02-26T03:25:02.125621",
     "exception": false,
     "start_time": "2025-02-26T03:25:02.095041",
     "status": "completed"
    },
    "tags": []
   },
   "outputs": [
    {
     "data": {
      "text/html": [
       "<div>\n",
       "<style scoped>\n",
       "    .dataframe tbody tr th:only-of-type {\n",
       "        vertical-align: middle;\n",
       "    }\n",
       "\n",
       "    .dataframe tbody tr th {\n",
       "        vertical-align: top;\n",
       "    }\n",
       "\n",
       "    .dataframe thead th {\n",
       "        text-align: right;\n",
       "    }\n",
       "</style>\n",
       "<table border=\"1\" class=\"dataframe\">\n",
       "  <thead>\n",
       "    <tr style=\"text-align: right;\">\n",
       "      <th></th>\n",
       "      <th>mpg</th>\n",
       "      <th>cyl</th>\n",
       "      <th>disp</th>\n",
       "      <th>hp</th>\n",
       "      <th>drat</th>\n",
       "      <th>wt</th>\n",
       "    </tr>\n",
       "  </thead>\n",
       "  <tbody>\n",
       "    <tr>\n",
       "      <th>mpg</th>\n",
       "      <td>1.000000</td>\n",
       "      <td>-0.852162</td>\n",
       "      <td>-0.847551</td>\n",
       "      <td>-0.776168</td>\n",
       "      <td>0.681172</td>\n",
       "      <td>-0.867659</td>\n",
       "    </tr>\n",
       "    <tr>\n",
       "      <th>cyl</th>\n",
       "      <td>-0.852162</td>\n",
       "      <td>1.000000</td>\n",
       "      <td>0.902033</td>\n",
       "      <td>0.832447</td>\n",
       "      <td>-0.699938</td>\n",
       "      <td>0.782496</td>\n",
       "    </tr>\n",
       "    <tr>\n",
       "      <th>disp</th>\n",
       "      <td>-0.847551</td>\n",
       "      <td>0.902033</td>\n",
       "      <td>1.000000</td>\n",
       "      <td>0.790949</td>\n",
       "      <td>-0.710214</td>\n",
       "      <td>0.887980</td>\n",
       "    </tr>\n",
       "    <tr>\n",
       "      <th>hp</th>\n",
       "      <td>-0.776168</td>\n",
       "      <td>0.832447</td>\n",
       "      <td>0.790949</td>\n",
       "      <td>1.000000</td>\n",
       "      <td>-0.448759</td>\n",
       "      <td>0.658748</td>\n",
       "    </tr>\n",
       "    <tr>\n",
       "      <th>drat</th>\n",
       "      <td>0.681172</td>\n",
       "      <td>-0.699938</td>\n",
       "      <td>-0.710214</td>\n",
       "      <td>-0.448759</td>\n",
       "      <td>1.000000</td>\n",
       "      <td>-0.712441</td>\n",
       "    </tr>\n",
       "    <tr>\n",
       "      <th>wt</th>\n",
       "      <td>-0.867659</td>\n",
       "      <td>0.782496</td>\n",
       "      <td>0.887980</td>\n",
       "      <td>0.658748</td>\n",
       "      <td>-0.712441</td>\n",
       "      <td>1.000000</td>\n",
       "    </tr>\n",
       "  </tbody>\n",
       "</table>\n",
       "</div>"
      ],
      "text/plain": [
       "           mpg       cyl      disp        hp      drat        wt\n",
       "mpg   1.000000 -0.852162 -0.847551 -0.776168  0.681172 -0.867659\n",
       "cyl  -0.852162  1.000000  0.902033  0.832447 -0.699938  0.782496\n",
       "disp -0.847551  0.902033  1.000000  0.790949 -0.710214  0.887980\n",
       "hp   -0.776168  0.832447  0.790949  1.000000 -0.448759  0.658748\n",
       "drat  0.681172 -0.699938 -0.710214 -0.448759  1.000000 -0.712441\n",
       "wt   -0.867659  0.782496  0.887980  0.658748 -0.712441  1.000000"
      ]
     },
     "execution_count": 21,
     "metadata": {},
     "output_type": "execute_result"
    }
   ],
   "source": [
    "# Check the pairwise correlations of 6 variables: \n",
    "\n",
    "mtcars.iloc[:,0:6].corr() "
   ]
  },
  {
   "cell_type": "markdown",
   "id": "ac04cf24",
   "metadata": {
    "papermill": {
     "duration": 0.010976,
     "end_time": "2025-02-26T03:25:02.147987",
     "exception": false,
     "start_time": "2025-02-26T03:25:02.137011",
     "status": "completed"
    },
    "tags": []
   },
   "source": [
    "1. A positive correlation implies that when one variable goes up the other tends to go up as well.\n",
    "  \n",
    "2. Negative correlations indicate an inverse relationship: when one variable goes up the other tends to go down.\n",
    "\n",
    "3. A correlation near zero indicates low correlation while a correlation near -1 or 1 indicates a large negative or positive correlation.\n",
    "\n",
    "4. Inspecting the data table, we see that the number of cylinders a car has (cyl) and its weight (wt) have fairly strong negative correlations to gas mileage (mpg.). This indicates that heavier cars and cars with more cylinders tend to get lower gas mileage.\n",
    "\n",
    "5. A scatter plot matrix can be a helpful visual aide for inspecting collinearity. "
   ]
  },
  {
   "cell_type": "code",
   "execution_count": 22,
   "id": "43804608",
   "metadata": {
    "execution": {
     "iopub.execute_input": "2025-02-26T03:25:02.171722Z",
     "iopub.status.busy": "2025-02-26T03:25:02.171287Z",
     "iopub.status.idle": "2025-02-26T03:25:02.175626Z",
     "shell.execute_reply": "2025-02-26T03:25:02.174569Z"
    },
    "papermill": {
     "duration": 0.018188,
     "end_time": "2025-02-26T03:25:02.177399",
     "exception": false,
     "start_time": "2025-02-26T03:25:02.159211",
     "status": "completed"
    },
    "tags": []
   },
   "outputs": [],
   "source": [
    "from pandas.plotting import scatter_matrix"
   ]
  },
  {
   "cell_type": "code",
   "execution_count": 23,
   "id": "7d350624",
   "metadata": {
    "execution": {
     "iopub.execute_input": "2025-02-26T03:25:02.200927Z",
     "iopub.status.busy": "2025-02-26T03:25:02.200576Z",
     "iopub.status.idle": "2025-02-26T03:25:04.341190Z",
     "shell.execute_reply": "2025-02-26T03:25:04.340006Z"
    },
    "papermill": {
     "duration": 2.155192,
     "end_time": "2025-02-26T03:25:04.343895",
     "exception": false,
     "start_time": "2025-02-26T03:25:02.188703",
     "status": "completed"
    },
    "tags": []
   },
   "outputs": [
    {
     "data": {
      "text/plain": [
       "array([[<Axes: xlabel='mpg', ylabel='mpg'>,\n",
       "        <Axes: xlabel='cyl', ylabel='mpg'>,\n",
       "        <Axes: xlabel='disp', ylabel='mpg'>,\n",
       "        <Axes: xlabel='hp', ylabel='mpg'>,\n",
       "        <Axes: xlabel='drat', ylabel='mpg'>,\n",
       "        <Axes: xlabel='wt', ylabel='mpg'>],\n",
       "       [<Axes: xlabel='mpg', ylabel='cyl'>,\n",
       "        <Axes: xlabel='cyl', ylabel='cyl'>,\n",
       "        <Axes: xlabel='disp', ylabel='cyl'>,\n",
       "        <Axes: xlabel='hp', ylabel='cyl'>,\n",
       "        <Axes: xlabel='drat', ylabel='cyl'>,\n",
       "        <Axes: xlabel='wt', ylabel='cyl'>],\n",
       "       [<Axes: xlabel='mpg', ylabel='disp'>,\n",
       "        <Axes: xlabel='cyl', ylabel='disp'>,\n",
       "        <Axes: xlabel='disp', ylabel='disp'>,\n",
       "        <Axes: xlabel='hp', ylabel='disp'>,\n",
       "        <Axes: xlabel='drat', ylabel='disp'>,\n",
       "        <Axes: xlabel='wt', ylabel='disp'>],\n",
       "       [<Axes: xlabel='mpg', ylabel='hp'>,\n",
       "        <Axes: xlabel='cyl', ylabel='hp'>,\n",
       "        <Axes: xlabel='disp', ylabel='hp'>,\n",
       "        <Axes: xlabel='hp', ylabel='hp'>,\n",
       "        <Axes: xlabel='drat', ylabel='hp'>,\n",
       "        <Axes: xlabel='wt', ylabel='hp'>],\n",
       "       [<Axes: xlabel='mpg', ylabel='drat'>,\n",
       "        <Axes: xlabel='cyl', ylabel='drat'>,\n",
       "        <Axes: xlabel='disp', ylabel='drat'>,\n",
       "        <Axes: xlabel='hp', ylabel='drat'>,\n",
       "        <Axes: xlabel='drat', ylabel='drat'>,\n",
       "        <Axes: xlabel='wt', ylabel='drat'>],\n",
       "       [<Axes: xlabel='mpg', ylabel='wt'>,\n",
       "        <Axes: xlabel='cyl', ylabel='wt'>,\n",
       "        <Axes: xlabel='disp', ylabel='wt'>,\n",
       "        <Axes: xlabel='hp', ylabel='wt'>,\n",
       "        <Axes: xlabel='drat', ylabel='wt'>,\n",
       "        <Axes: xlabel='wt', ylabel='wt'>]], dtype=object)"
      ]
     },
     "execution_count": 23,
     "metadata": {},
     "output_type": "execute_result"
    },
    {
     "data": {
      "image/png": "[encoded data removed]",
      "text/plain": [
       "<Figure size 800x800 with 36 Axes>"
      ]
     },
     "metadata": {},
     "output_type": "display_data"
    }
   ],
   "source": [
    "scatter_matrix(mtcars.iloc[:, 0:6],\n",
    "              figsize = (8, 8), \n",
    "              diagonal = 'kde')  "
   ]
  },
  {
   "cell_type": "markdown",
   "id": "91ee280b",
   "metadata": {
    "papermill": {
     "duration": 0.013034,
     "end_time": "2025-02-26T03:25:04.370958",
     "exception": false,
     "start_time": "2025-02-26T03:25:04.357924",
     "status": "completed"
    },
    "tags": []
   },
   "source": [
    "Note: \n"
   ]
  },
  {
   "cell_type": "markdown",
   "id": "be9bffd7",
   "metadata": {
    "papermill": {
     "duration": 0.012746,
     "end_time": "2025-02-26T03:25:04.396845",
     "exception": false,
     "start_time": "2025-02-26T03:25:04.384099",
     "status": "completed"
    },
    "tags": []
   },
   "source": [
    "1. A scatter plot matrix creates pairwise scatter plots that let you visually inspect the relationships between pairs of variables.\n",
    "   \n",
    "2. It can also help identify oddities in the data, such as variables like cyl that only take on values in a small discrete set.  \n",
    "\n",
    "3. If you find **highly correlated** variables, there are a few things you can do including:\n",
    "\n",
    "    1) Leave them be\n",
    "    2) Remove one or more variables\n",
    "    3) Combine them in some way\n",
    "       \n",
    "4. Reducing the number of variables under consideration, either by removing some or by combining them some way is known as \"**dimensionality reduction**.\"\n",
    "\n",
    "5. How you choose to handle correlated variables is ultimately a subjective decision that should be informed by your goal."
   ]
  },
  {
   "cell_type": "markdown",
   "id": "1d53e432",
   "metadata": {
    "papermill": {
     "duration": 0.012992,
     "end_time": "2025-02-26T03:25:04.423046",
     "exception": false,
     "start_time": "2025-02-26T03:25:04.410054",
     "status": "completed"
    },
    "tags": []
   },
   "source": [
    "# Imputing with Sklearn¶"
   ]
  },
  {
   "cell_type": "markdown",
   "id": "5133f12b",
   "metadata": {
    "papermill": {
     "duration": 0.012904,
     "end_time": "2025-02-26T03:25:04.449137",
     "exception": false,
     "start_time": "2025-02-26T03:25:04.436233",
     "status": "completed"
    },
    "tags": []
   },
   "source": [
    "1. Missing values in numeric data are troublesome because you can't simply treat them as a category: you have to either remove them or fill them in.\n",
    "\n",
    "2. Imputation describes filling in missing data with estimates based on the rest of the data set.\n",
    "\n",
    "3. When working with the titanic data set, we set all the missing Age values to the median age for the data set.\n",
    "\n",
    "4. Other simple imputation methods include:\n",
    "\n",
    "    1) setting missing values to the mean or most common value (mode.).\n",
    "    2) The **scikit-learn** offers an Imupter tool that can **automatically carry out these imputations** for us.\n",
    "\n",
    "Let's start by loading the Imputer and introducing some missing values into the mpg data: "
   ]
  },
  {
   "cell_type": "code",
   "execution_count": 24,
   "id": "f4c79b35",
   "metadata": {
    "execution": {
     "iopub.execute_input": "2025-02-26T03:25:04.476620Z",
     "iopub.status.busy": "2025-02-26T03:25:04.476200Z",
     "iopub.status.idle": "2025-02-26T03:25:04.941780Z",
     "shell.execute_reply": "2025-02-26T03:25:04.940760Z"
    },
    "papermill": {
     "duration": 0.481538,
     "end_time": "2025-02-26T03:25:04.943739",
     "exception": false,
     "start_time": "2025-02-26T03:25:04.462201",
     "status": "completed"
    },
    "tags": []
   },
   "outputs": [],
   "source": [
    "from sklearn.impute import SimpleImputer"
   ]
  },
  {
   "cell_type": "code",
   "execution_count": 25,
   "id": "b9d522b7",
   "metadata": {
    "execution": {
     "iopub.execute_input": "2025-02-26T03:25:04.971932Z",
     "iopub.status.busy": "2025-02-26T03:25:04.971548Z",
     "iopub.status.idle": "2025-02-26T03:25:04.979594Z",
     "shell.execute_reply": "2025-02-26T03:25:04.978568Z"
    },
    "papermill": {
     "duration": 0.023965,
     "end_time": "2025-02-26T03:25:04.981211",
     "exception": false,
     "start_time": "2025-02-26T03:25:04.957246",
     "status": "completed"
    },
    "tags": []
   },
   "outputs": [
    {
     "data": {
      "text/plain": [
       "model\n",
       "Mazda RX4              21.0\n",
       "Mazda RX4 Wag          21.0\n",
       "Datsun 710             None\n",
       "Hornet 4 Drive         21.4\n",
       "Hornet Sportabout      18.7\n",
       "Valiant                18.1\n",
       "Duster 360             14.3\n",
       "Merc 240D              None\n",
       "Merc 230               None\n",
       "Merc 280               19.2\n",
       "Merc 280C              17.8\n",
       "Merc 450SE             16.4\n",
       "Merc 450SL             17.3\n",
       "Merc 450SLC            15.2\n",
       "Cadillac Fleetwood     10.4\n",
       "Lincoln Continental    10.4\n",
       "Chrysler Imperial      14.7\n",
       "Fiat 128               None\n",
       "Honda Civic            None\n",
       "Toyota Corolla         None\n",
       "Toyota Corona          21.5\n",
       "Dodge Challenger       15.5\n",
       "AMC Javelin            15.2\n",
       "Camaro Z28             13.3\n",
       "Pontiac Firebird       19.2\n",
       "Fiat X1-9              None\n",
       "Porsche 914-2          None\n",
       "Lotus Europa           None\n",
       "Ford Pantera L         15.8\n",
       "Ferrari Dino           19.7\n",
       "Maserati Bora          15.0\n",
       "Volvo 142E             21.4\n",
       "Name: mpg, dtype: object"
      ]
     },
     "execution_count": 25,
     "metadata": {},
     "output_type": "execute_result"
    }
   ],
   "source": [
    "# The following line sets a few mpg values to None\n",
    "\n",
    "mtcars['mpg'] = np.where(mtcars['mpg'] >  22, None, \n",
    "                         mtcars['mpg'])  \n",
    "\n",
    "mtcars['mpg'] "
   ]
  },
  {
   "cell_type": "markdown",
   "id": "5a070dc6",
   "metadata": {
    "papermill": {
     "duration": 0.013134,
     "end_time": "2025-02-26T03:25:05.008225",
     "exception": false,
     "start_time": "2025-02-26T03:25:04.995091",
     "status": "completed"
    },
    "tags": []
   },
   "source": [
    "**Now let's use the Imputer fill in missing values based on the mean:**"
   ]
  },
  {
   "cell_type": "code",
   "execution_count": 26,
   "id": "dcf9f0fb",
   "metadata": {
    "execution": {
     "iopub.execute_input": "2025-02-26T03:25:05.036100Z",
     "iopub.status.busy": "2025-02-26T03:25:05.035761Z",
     "iopub.status.idle": "2025-02-26T03:25:05.060931Z",
     "shell.execute_reply": "2025-02-26T03:25:05.059911Z"
    },
    "papermill": {
     "duration": 0.040854,
     "end_time": "2025-02-26T03:25:05.062410",
     "exception": false,
     "start_time": "2025-02-26T03:25:05.021556",
     "status": "completed"
    },
    "tags": []
   },
   "outputs": [
    {
     "data": {
      "text/html": [
       "<div>\n",
       "<style scoped>\n",
       "    .dataframe tbody tr th:only-of-type {\n",
       "        vertical-align: middle;\n",
       "    }\n",
       "\n",
       "    .dataframe tbody tr th {\n",
       "        vertical-align: top;\n",
       "    }\n",
       "\n",
       "    .dataframe thead th {\n",
       "        text-align: right;\n",
       "    }\n",
       "</style>\n",
       "<table border=\"1\" class=\"dataframe\">\n",
       "  <thead>\n",
       "    <tr style=\"text-align: right;\">\n",
       "      <th></th>\n",
       "      <th>mpg</th>\n",
       "      <th>cyl</th>\n",
       "      <th>disp</th>\n",
       "      <th>hp</th>\n",
       "      <th>drat</th>\n",
       "      <th>wt</th>\n",
       "      <th>qsec</th>\n",
       "      <th>vs</th>\n",
       "      <th>am</th>\n",
       "      <th>gear</th>\n",
       "      <th>carb</th>\n",
       "    </tr>\n",
       "    <tr>\n",
       "      <th>model</th>\n",
       "      <th></th>\n",
       "      <th></th>\n",
       "      <th></th>\n",
       "      <th></th>\n",
       "      <th></th>\n",
       "      <th></th>\n",
       "      <th></th>\n",
       "      <th></th>\n",
       "      <th></th>\n",
       "      <th></th>\n",
       "      <th></th>\n",
       "    </tr>\n",
       "  </thead>\n",
       "  <tbody>\n",
       "    <tr>\n",
       "      <th>Mazda RX4</th>\n",
       "      <td>21.000000</td>\n",
       "      <td>6.0</td>\n",
       "      <td>160.0</td>\n",
       "      <td>110.0</td>\n",
       "      <td>3.90</td>\n",
       "      <td>2.620</td>\n",
       "      <td>16.46</td>\n",
       "      <td>0.0</td>\n",
       "      <td>1.0</td>\n",
       "      <td>4.0</td>\n",
       "      <td>4.0</td>\n",
       "    </tr>\n",
       "    <tr>\n",
       "      <th>Mazda RX4 Wag</th>\n",
       "      <td>21.000000</td>\n",
       "      <td>6.0</td>\n",
       "      <td>160.0</td>\n",
       "      <td>110.0</td>\n",
       "      <td>3.90</td>\n",
       "      <td>2.875</td>\n",
       "      <td>17.02</td>\n",
       "      <td>0.0</td>\n",
       "      <td>1.0</td>\n",
       "      <td>4.0</td>\n",
       "      <td>4.0</td>\n",
       "    </tr>\n",
       "    <tr>\n",
       "      <th>Datsun 710</th>\n",
       "      <td>17.065217</td>\n",
       "      <td>4.0</td>\n",
       "      <td>108.0</td>\n",
       "      <td>93.0</td>\n",
       "      <td>3.85</td>\n",
       "      <td>2.320</td>\n",
       "      <td>18.61</td>\n",
       "      <td>1.0</td>\n",
       "      <td>1.0</td>\n",
       "      <td>4.0</td>\n",
       "      <td>1.0</td>\n",
       "    </tr>\n",
       "    <tr>\n",
       "      <th>Hornet 4 Drive</th>\n",
       "      <td>21.400000</td>\n",
       "      <td>6.0</td>\n",
       "      <td>258.0</td>\n",
       "      <td>110.0</td>\n",
       "      <td>3.08</td>\n",
       "      <td>3.215</td>\n",
       "      <td>19.44</td>\n",
       "      <td>1.0</td>\n",
       "      <td>0.0</td>\n",
       "      <td>3.0</td>\n",
       "      <td>1.0</td>\n",
       "    </tr>\n",
       "    <tr>\n",
       "      <th>Hornet Sportabout</th>\n",
       "      <td>18.700000</td>\n",
       "      <td>8.0</td>\n",
       "      <td>360.0</td>\n",
       "      <td>175.0</td>\n",
       "      <td>3.15</td>\n",
       "      <td>3.440</td>\n",
       "      <td>17.02</td>\n",
       "      <td>0.0</td>\n",
       "      <td>0.0</td>\n",
       "      <td>3.0</td>\n",
       "      <td>2.0</td>\n",
       "    </tr>\n",
       "    <tr>\n",
       "      <th>Valiant</th>\n",
       "      <td>18.100000</td>\n",
       "      <td>6.0</td>\n",
       "      <td>225.0</td>\n",
       "      <td>105.0</td>\n",
       "      <td>2.76</td>\n",
       "      <td>3.460</td>\n",
       "      <td>20.22</td>\n",
       "      <td>1.0</td>\n",
       "      <td>0.0</td>\n",
       "      <td>3.0</td>\n",
       "      <td>1.0</td>\n",
       "    </tr>\n",
       "    <tr>\n",
       "      <th>Duster 360</th>\n",
       "      <td>14.300000</td>\n",
       "      <td>8.0</td>\n",
       "      <td>360.0</td>\n",
       "      <td>245.0</td>\n",
       "      <td>3.21</td>\n",
       "      <td>3.570</td>\n",
       "      <td>15.84</td>\n",
       "      <td>0.0</td>\n",
       "      <td>0.0</td>\n",
       "      <td>3.0</td>\n",
       "      <td>4.0</td>\n",
       "    </tr>\n",
       "    <tr>\n",
       "      <th>Merc 240D</th>\n",
       "      <td>17.065217</td>\n",
       "      <td>4.0</td>\n",
       "      <td>146.7</td>\n",
       "      <td>62.0</td>\n",
       "      <td>3.69</td>\n",
       "      <td>3.190</td>\n",
       "      <td>20.00</td>\n",
       "      <td>1.0</td>\n",
       "      <td>0.0</td>\n",
       "      <td>4.0</td>\n",
       "      <td>2.0</td>\n",
       "    </tr>\n",
       "    <tr>\n",
       "      <th>Merc 230</th>\n",
       "      <td>17.065217</td>\n",
       "      <td>4.0</td>\n",
       "      <td>140.8</td>\n",
       "      <td>95.0</td>\n",
       "      <td>3.92</td>\n",
       "      <td>3.150</td>\n",
       "      <td>22.90</td>\n",
       "      <td>1.0</td>\n",
       "      <td>0.0</td>\n",
       "      <td>4.0</td>\n",
       "      <td>2.0</td>\n",
       "    </tr>\n",
       "    <tr>\n",
       "      <th>Merc 280</th>\n",
       "      <td>19.200000</td>\n",
       "      <td>6.0</td>\n",
       "      <td>167.6</td>\n",
       "      <td>123.0</td>\n",
       "      <td>3.92</td>\n",
       "      <td>3.440</td>\n",
       "      <td>18.30</td>\n",
       "      <td>1.0</td>\n",
       "      <td>0.0</td>\n",
       "      <td>4.0</td>\n",
       "      <td>4.0</td>\n",
       "    </tr>\n",
       "  </tbody>\n",
       "</table>\n",
       "</div>"
      ],
      "text/plain": [
       "                         mpg  cyl   disp     hp  drat     wt   qsec   vs   am  \\\n",
       "model                                                                           \n",
       "Mazda RX4          21.000000  6.0  160.0  110.0  3.90  2.620  16.46  0.0  1.0   \n",
       "Mazda RX4 Wag      21.000000  6.0  160.0  110.0  3.90  2.875  17.02  0.0  1.0   \n",
       "Datsun 710         17.065217  4.0  108.0   93.0  3.85  2.320  18.61  1.0  1.0   \n",
       "Hornet 4 Drive     21.400000  6.0  258.0  110.0  3.08  3.215  19.44  1.0  0.0   \n",
       "Hornet Sportabout  18.700000  8.0  360.0  175.0  3.15  3.440  17.02  0.0  0.0   \n",
       "Valiant            18.100000  6.0  225.0  105.0  2.76  3.460  20.22  1.0  0.0   \n",
       "Duster 360         14.300000  8.0  360.0  245.0  3.21  3.570  15.84  0.0  0.0   \n",
       "Merc 240D          17.065217  4.0  146.7   62.0  3.69  3.190  20.00  1.0  0.0   \n",
       "Merc 230           17.065217  4.0  140.8   95.0  3.92  3.150  22.90  1.0  0.0   \n",
       "Merc 280           19.200000  6.0  167.6  123.0  3.92  3.440  18.30  1.0  0.0   \n",
       "\n",
       "                   gear  carb  \n",
       "model                          \n",
       "Mazda RX4           4.0   4.0  \n",
       "Mazda RX4 Wag       4.0   4.0  \n",
       "Datsun 710          4.0   1.0  \n",
       "Hornet 4 Drive      3.0   1.0  \n",
       "Hornet Sportabout   3.0   2.0  \n",
       "Valiant             3.0   1.0  \n",
       "Duster 360          3.0   4.0  \n",
       "Merc 240D           4.0   2.0  \n",
       "Merc 230            4.0   2.0  \n",
       "Merc 280            4.0   4.0  "
      ]
     },
     "execution_count": 26,
     "metadata": {},
     "output_type": "execute_result"
    }
   ],
   "source": [
    "# 1. Create imputation model \n",
    "# 2. Use mean imputation \n",
    "# 3. Impute by column \n",
    "# 4. Use imputation model to get values  \n",
    "# 5. Remake DataFrame with new values \n",
    "\n",
    "imp = SimpleImputer(strategy = 'mean')  \n",
    "\n",
    "imputed_cars = imp.fit_transform(mtcars) \n",
    "\n",
    "imputed_cars = pd.DataFrame(imputed_cars,\n",
    "                            index = mtcars.index, \n",
    "                            columns = mtcars.columns) \n",
    "\n",
    "imputed_cars.head(10) "
   ]
  },
  {
   "cell_type": "code",
   "execution_count": null,
   "id": "24ab4f14",
   "metadata": {
    "papermill": {
     "duration": 0.013452,
     "end_time": "2025-02-26T03:25:05.089707",
     "exception": false,
     "start_time": "2025-02-26T03:25:05.076255",
     "status": "completed"
    },
    "tags": []
   },
   "outputs": [],
   "source": []
  }
 ],
 "metadata": {
  "kaggle": {
   "accelerator": "none",
   "dataSources": [
    {
     "datasetId": 6737922,
     "sourceId": 10849106,
     "sourceType": "datasetVersion"
    }
   ],
   "dockerImageVersionId": 30918,
   "isGpuEnabled": false,
   "isInternetEnabled": true,
   "language": "python",
   "sourceType": "notebook"
  },
  "kernelspec": {
   "display_name": "Python 3",
   "language": "python",
   "name": "python3"
  },
  "language_info": {
   "codemirror_mode": {
    "name": "ipython",
    "version": 3
   },
   "file_extension": ".py",
   "mimetype": "text/x-python",
   "name": "python",
   "nbconvert_exporter": "python",
   "pygments_lexer": "ipython3",
   "version": "3.10.12"
  },
  "papermill": {
   "default_parameters": {},
   "duration": 11.586565,
   "end_time": "2025-02-26T03:25:06.023794",
   "environment_variables": {},
   "exception": null,
   "input_path": "__notebook__.ipynb",
   "output_path": "__notebook__.ipynb",
   "parameters": {},
   "start_time": "2025-02-26T03:24:54.437229",
   "version": "2.6.0"
  }
 },
 "nbformat": 4,
 "nbformat_minor": 5
}
