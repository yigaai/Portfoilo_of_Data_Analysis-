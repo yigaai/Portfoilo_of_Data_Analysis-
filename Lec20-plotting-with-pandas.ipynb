{
 "cells": [
  {
   "cell_type": "code",
   "execution_count": 1,
   "id": "5e336379",
   "metadata": {
    "execution": {
     "iopub.execute_input": "2025-03-04T09:49:25.874641Z",
     "iopub.status.busy": "2025-03-04T09:49:25.874295Z",
     "iopub.status.idle": "2025-03-04T09:49:26.903265Z",
     "shell.execute_reply": "2025-03-04T09:49:26.902429Z"
    },
    "papermill": {
     "duration": 1.037487,
     "end_time": "2025-03-04T09:49:26.904936",
     "exception": false,
     "start_time": "2025-03-04T09:49:25.867449",
     "status": "completed"
    },
    "tags": []
   },
   "outputs": [],
   "source": [
    "import numpy as np \n",
    "import pandas as pd \n",
    "import matplotlib as plt \n",
    "import os "
   ]
  },
  {
   "cell_type": "code",
   "execution_count": 2,
   "id": "8c59a681",
   "metadata": {
    "execution": {
     "iopub.execute_input": "2025-03-04T09:49:26.916264Z",
     "iopub.status.busy": "2025-03-04T09:49:26.915753Z",
     "iopub.status.idle": "2025-03-04T09:49:26.922498Z",
     "shell.execute_reply": "2025-03-04T09:49:26.921581Z"
    },
    "papermill": {
     "duration": 0.014082,
     "end_time": "2025-03-04T09:49:26.924211",
     "exception": false,
     "start_time": "2025-03-04T09:49:26.910129",
     "status": "completed"
    },
    "tags": []
   },
   "outputs": [
    {
     "data": {
      "text/plain": [
       "'/kaggle/working'"
      ]
     },
     "execution_count": 2,
     "metadata": {},
     "output_type": "execute_result"
    }
   ],
   "source": [
    "os.getcwd() "
   ]
  },
  {
   "cell_type": "code",
   "execution_count": 3,
   "id": "c776efe2",
   "metadata": {
    "execution": {
     "iopub.execute_input": "2025-03-04T09:49:26.936723Z",
     "iopub.status.busy": "2025-03-04T09:49:26.936382Z",
     "iopub.status.idle": "2025-03-04T09:49:26.945744Z",
     "shell.execute_reply": "2025-03-04T09:49:26.944829Z"
    },
    "papermill": {
     "duration": 0.018018,
     "end_time": "2025-03-04T09:49:26.947615",
     "exception": false,
     "start_time": "2025-03-04T09:49:26.929597",
     "status": "completed"
    },
    "tags": []
   },
   "outputs": [
    {
     "data": {
      "text/plain": [
       "['diamonds.csv']"
      ]
     },
     "execution_count": 3,
     "metadata": {},
     "output_type": "execute_result"
    }
   ],
   "source": [
    "os.chdir(\"/kaggle/\") \n",
    "os.getcwd()\n",
    "os.listdir('/kaggle/input/diamonds-dataset') "
   ]
  },
  {
   "cell_type": "code",
   "execution_count": 4,
   "id": "c441f2d5",
   "metadata": {
    "execution": {
     "iopub.execute_input": "2025-03-04T09:49:26.959320Z",
     "iopub.status.busy": "2025-03-04T09:49:26.958948Z",
     "iopub.status.idle": "2025-03-04T09:49:27.075797Z",
     "shell.execute_reply": "2025-03-04T09:49:27.074715Z"
    },
    "papermill": {
     "duration": 0.124748,
     "end_time": "2025-03-04T09:49:27.077736",
     "exception": false,
     "start_time": "2025-03-04T09:49:26.952988",
     "status": "completed"
    },
    "tags": []
   },
   "outputs": [],
   "source": [
    "diamonds = pd.read_csv('/kaggle/input/diamonds-dataset/diamonds.csv')    "
   ]
  },
  {
   "cell_type": "code",
   "execution_count": 5,
   "id": "dc7533db",
   "metadata": {
    "execution": {
     "iopub.execute_input": "2025-03-04T09:49:27.089709Z",
     "iopub.status.busy": "2025-03-04T09:49:27.089360Z",
     "iopub.status.idle": "2025-03-04T09:49:27.118016Z",
     "shell.execute_reply": "2025-03-04T09:49:27.116973Z"
    },
    "papermill": {
     "duration": 0.036457,
     "end_time": "2025-03-04T09:49:27.119693",
     "exception": false,
     "start_time": "2025-03-04T09:49:27.083236",
     "status": "completed"
    },
    "tags": []
   },
   "outputs": [
    {
     "data": {
      "text/html": [
       "<div>\n",
       "<style scoped>\n",
       "    .dataframe tbody tr th:only-of-type {\n",
       "        vertical-align: middle;\n",
       "    }\n",
       "\n",
       "    .dataframe tbody tr th {\n",
       "        vertical-align: top;\n",
       "    }\n",
       "\n",
       "    .dataframe thead th {\n",
       "        text-align: right;\n",
       "    }\n",
       "</style>\n",
       "<table border=\"1\" class=\"dataframe\">\n",
       "  <thead>\n",
       "    <tr style=\"text-align: right;\">\n",
       "      <th></th>\n",
       "      <th>Unnamed: 0</th>\n",
       "      <th>carat</th>\n",
       "      <th>cut</th>\n",
       "      <th>color</th>\n",
       "      <th>clarity</th>\n",
       "      <th>depth</th>\n",
       "      <th>table</th>\n",
       "      <th>price</th>\n",
       "      <th>x</th>\n",
       "      <th>y</th>\n",
       "      <th>z</th>\n",
       "    </tr>\n",
       "  </thead>\n",
       "  <tbody>\n",
       "    <tr>\n",
       "      <th>0</th>\n",
       "      <td>1</td>\n",
       "      <td>0.23</td>\n",
       "      <td>Ideal</td>\n",
       "      <td>E</td>\n",
       "      <td>SI2</td>\n",
       "      <td>61.5</td>\n",
       "      <td>55.0</td>\n",
       "      <td>326</td>\n",
       "      <td>3.95</td>\n",
       "      <td>3.98</td>\n",
       "      <td>2.43</td>\n",
       "    </tr>\n",
       "    <tr>\n",
       "      <th>1</th>\n",
       "      <td>2</td>\n",
       "      <td>0.21</td>\n",
       "      <td>Premium</td>\n",
       "      <td>E</td>\n",
       "      <td>SI1</td>\n",
       "      <td>59.8</td>\n",
       "      <td>61.0</td>\n",
       "      <td>326</td>\n",
       "      <td>3.89</td>\n",
       "      <td>3.84</td>\n",
       "      <td>2.31</td>\n",
       "    </tr>\n",
       "    <tr>\n",
       "      <th>2</th>\n",
       "      <td>3</td>\n",
       "      <td>0.23</td>\n",
       "      <td>Good</td>\n",
       "      <td>E</td>\n",
       "      <td>VS1</td>\n",
       "      <td>56.9</td>\n",
       "      <td>65.0</td>\n",
       "      <td>327</td>\n",
       "      <td>4.05</td>\n",
       "      <td>4.07</td>\n",
       "      <td>2.31</td>\n",
       "    </tr>\n",
       "    <tr>\n",
       "      <th>3</th>\n",
       "      <td>4</td>\n",
       "      <td>0.29</td>\n",
       "      <td>Premium</td>\n",
       "      <td>I</td>\n",
       "      <td>VS2</td>\n",
       "      <td>62.4</td>\n",
       "      <td>58.0</td>\n",
       "      <td>334</td>\n",
       "      <td>4.20</td>\n",
       "      <td>4.23</td>\n",
       "      <td>2.63</td>\n",
       "    </tr>\n",
       "    <tr>\n",
       "      <th>4</th>\n",
       "      <td>5</td>\n",
       "      <td>0.31</td>\n",
       "      <td>Good</td>\n",
       "      <td>J</td>\n",
       "      <td>SI2</td>\n",
       "      <td>63.3</td>\n",
       "      <td>58.0</td>\n",
       "      <td>335</td>\n",
       "      <td>4.34</td>\n",
       "      <td>4.35</td>\n",
       "      <td>2.75</td>\n",
       "    </tr>\n",
       "  </tbody>\n",
       "</table>\n",
       "</div>"
      ],
      "text/plain": [
       "   Unnamed: 0  carat      cut color clarity  depth  table  price     x     y  \\\n",
       "0           1   0.23    Ideal     E     SI2   61.5   55.0    326  3.95  3.98   \n",
       "1           2   0.21  Premium     E     SI1   59.8   61.0    326  3.89  3.84   \n",
       "2           3   0.23     Good     E     VS1   56.9   65.0    327  4.05  4.07   \n",
       "3           4   0.29  Premium     I     VS2   62.4   58.0    334  4.20  4.23   \n",
       "4           5   0.31     Good     J     SI2   63.3   58.0    335  4.34  4.35   \n",
       "\n",
       "      z  \n",
       "0  2.43  \n",
       "1  2.31  \n",
       "2  2.31  \n",
       "3  2.63  \n",
       "4  2.75  "
      ]
     },
     "execution_count": 5,
     "metadata": {},
     "output_type": "execute_result"
    }
   ],
   "source": [
    "diamonds.head(5) "
   ]
  },
  {
   "cell_type": "code",
   "execution_count": 6,
   "id": "694c5d41",
   "metadata": {
    "execution": {
     "iopub.execute_input": "2025-03-04T09:49:27.131556Z",
     "iopub.status.busy": "2025-03-04T09:49:27.131233Z",
     "iopub.status.idle": "2025-03-04T09:49:27.136715Z",
     "shell.execute_reply": "2025-03-04T09:49:27.135576Z"
    },
    "papermill": {
     "duration": 0.013423,
     "end_time": "2025-03-04T09:49:27.138545",
     "exception": false,
     "start_time": "2025-03-04T09:49:27.125122",
     "status": "completed"
    },
    "tags": []
   },
   "outputs": [
    {
     "data": {
      "text/plain": [
       "(53940, 11)"
      ]
     },
     "execution_count": 6,
     "metadata": {},
     "output_type": "execute_result"
    }
   ],
   "source": [
    "diamonds.shape"
   ]
  },
  {
   "cell_type": "markdown",
   "id": "15dd3e21",
   "metadata": {
    "papermill": {
     "duration": 0.005056,
     "end_time": "2025-03-04T09:49:27.149192",
     "exception": false,
     "start_time": "2025-03-04T09:49:27.144136",
     "status": "completed"
    },
    "tags": []
   },
   "source": [
    "**Conclusion**: \n",
    "\n",
    "1. data set contains **10 features of 53940 different diamonds**,\n",
    "\n",
    "2. including both numeric and categorical variables.  "
   ]
  },
  {
   "cell_type": "code",
   "execution_count": 7,
   "id": "a66a1de2",
   "metadata": {
    "execution": {
     "iopub.execute_input": "2025-03-04T09:49:27.161024Z",
     "iopub.status.busy": "2025-03-04T09:49:27.160680Z",
     "iopub.status.idle": "2025-03-04T09:49:27.201718Z",
     "shell.execute_reply": "2025-03-04T09:49:27.200547Z"
    },
    "papermill": {
     "duration": 0.049323,
     "end_time": "2025-03-04T09:49:27.203851",
     "exception": false,
     "start_time": "2025-03-04T09:49:27.154528",
     "status": "completed"
    },
    "tags": []
   },
   "outputs": [
    {
     "name": "stdout",
     "output_type": "stream",
     "text": [
      "<class 'pandas.core.frame.DataFrame'>\n",
      "RangeIndex: 53940 entries, 0 to 53939\n",
      "Data columns (total 11 columns):\n",
      " #   Column      Non-Null Count  Dtype  \n",
      "---  ------      --------------  -----  \n",
      " 0   Unnamed: 0  53940 non-null  int64  \n",
      " 1   carat       53940 non-null  float64\n",
      " 2   cut         53940 non-null  object \n",
      " 3   color       53940 non-null  object \n",
      " 4   clarity     53940 non-null  object \n",
      " 5   depth       53940 non-null  float64\n",
      " 6   table       53940 non-null  float64\n",
      " 7   price       53940 non-null  int64  \n",
      " 8   x           53940 non-null  float64\n",
      " 9   y           53940 non-null  float64\n",
      " 10  z           53940 non-null  float64\n",
      "dtypes: float64(6), int64(2), object(3)\n",
      "memory usage: 4.5+ MB\n"
     ]
    }
   ],
   "source": [
    "diamonds.info()"
   ]
  },
  {
   "cell_type": "markdown",
   "id": "72c0eda7",
   "metadata": {
    "papermill": {
     "duration": 0.005198,
     "end_time": "2025-03-04T09:49:27.215397",
     "exception": false,
     "start_time": "2025-03-04T09:49:27.210199",
     "status": "completed"
    },
    "tags": []
   },
   "source": [
    "# Histograms"
   ]
  },
  {
   "cell_type": "markdown",
   "id": "e8165443",
   "metadata": {
    "papermill": {
     "duration": 0.00505,
     "end_time": "2025-03-04T09:49:27.225814",
     "exception": false,
     "start_time": "2025-03-04T09:49:27.220764",
     "status": "completed"
    },
    "tags": []
   },
   "source": [
    "1. A histogram is a **univariate** plot (a plot that displays **one variable**) that **groups a numeric variable into bins** and displays the number of observations that fall within each bin. \n",
    "\n",
    "2. getting a sense of the **distribution of a numeric variable** "
   ]
  },
  {
   "cell_type": "code",
   "execution_count": 8,
   "id": "50bd6954",
   "metadata": {
    "execution": {
     "iopub.execute_input": "2025-03-04T09:49:27.238487Z",
     "iopub.status.busy": "2025-03-04T09:49:27.238018Z",
     "iopub.status.idle": "2025-03-04T09:49:27.643657Z",
     "shell.execute_reply": "2025-03-04T09:49:27.642430Z"
    },
    "papermill": {
     "duration": 0.414169,
     "end_time": "2025-03-04T09:49:27.645448",
     "exception": false,
     "start_time": "2025-03-04T09:49:27.231279",
     "status": "completed"
    },
    "tags": []
   },
   "outputs": [
    {
     "data": {
      "text/plain": [
       "array([[<Axes: title={'center': 'carat'}>]], dtype=object)"
      ]
     },
     "execution_count": 8,
     "metadata": {},
     "output_type": "execute_result"
    },
    {
     "data": {
      "image/png": "[encoded data removed]",
      "text/plain": [
       "<Figure size 800x800 with 1 Axes>"
      ]
     },
     "metadata": {},
     "output_type": "display_data"
    }
   ],
   "source": [
    "# create a histogram of diamond carat weight:\n",
    "\n",
    "diamonds.hist(column = \"carat\", \n",
    "             figsize = (8, 8), \n",
    "             color = 'purple') \n"
   ]
  },
  {
   "cell_type": "markdown",
   "id": "0cc1f12d",
   "metadata": {
    "papermill": {
     "duration": 0.005773,
     "end_time": "2025-03-04T09:49:27.657316",
     "exception": false,
     "start_time": "2025-03-04T09:49:27.651543",
     "status": "completed"
    },
    "tags": []
   },
   "source": [
    "**Conclusion:**\n",
    "\n",
    "1. Shape: **positively skewed**.\n",
    "\n",
    "2. Distribution: **most diamonds are around 1 carat or below**, but there are **extreme cases of larger diamonds**.  \n",
    "\n",
    "3. The plot above has fairly wide bins and there doesn't appear to be any data beyond a carat size of 3.5 --> Adding some additional arguments to **control the size of the bins and limits of the x-axis:** "
   ]
  },
  {
   "cell_type": "code",
   "execution_count": 9,
   "id": "6b854cf5",
   "metadata": {
    "execution": {
     "iopub.execute_input": "2025-03-04T09:49:27.670574Z",
     "iopub.status.busy": "2025-03-04T09:49:27.670178Z",
     "iopub.status.idle": "2025-03-04T09:49:27.941838Z",
     "shell.execute_reply": "2025-03-04T09:49:27.940721Z"
    },
    "papermill": {
     "duration": 0.280405,
     "end_time": "2025-03-04T09:49:27.943755",
     "exception": false,
     "start_time": "2025-03-04T09:49:27.663350",
     "status": "completed"
    },
    "tags": []
   },
   "outputs": [
    {
     "data": {
      "text/plain": [
       "array([[<Axes: title={'center': 'carat'}>]], dtype=object)"
      ]
     },
     "execution_count": 9,
     "metadata": {},
     "output_type": "execute_result"
    },
    {
     "data": {
      "image/png": "[encoded data removed]",
      "text/plain": [
       "<Figure size 800x800 with 1 Axes>"
      ]
     },
     "metadata": {},
     "output_type": "display_data"
    }
   ],
   "source": [
    "diamonds.hist(column = 'carat', \n",
    "             figsize = (8, 8), \n",
    "             color = 'purple', \n",
    "             bins = 35, \n",
    "             range = (0, 3.5)) "
   ]
  },
  {
   "cell_type": "markdown",
   "id": "05e56924",
   "metadata": {
    "papermill": {
     "duration": 0.006528,
     "end_time": "2025-03-04T09:49:27.957514",
     "exception": false,
     "start_time": "2025-03-04T09:49:27.950986",
     "status": "completed"
    },
    "tags": []
   },
   "source": [
    "1. Limiting the X-axis to 3.5 **might have cut out some outliers with counts so small that they didn't show up as bars** on our original chart. \n",
    "\n",
    "2. Let's check to see if any diamonds are larger than 3.5 carats:   "
   ]
  },
  {
   "cell_type": "code",
   "execution_count": 10,
   "id": "f602a8ee",
   "metadata": {
    "execution": {
     "iopub.execute_input": "2025-03-04T09:49:27.972126Z",
     "iopub.status.busy": "2025-03-04T09:49:27.971764Z",
     "iopub.status.idle": "2025-03-04T09:49:27.990539Z",
     "shell.execute_reply": "2025-03-04T09:49:27.989628Z"
    },
    "papermill": {
     "duration": 0.027933,
     "end_time": "2025-03-04T09:49:27.991982",
     "exception": false,
     "start_time": "2025-03-04T09:49:27.964049",
     "status": "completed"
    },
    "tags": []
   },
   "outputs": [
    {
     "data": {
      "text/html": [
       "<div>\n",
       "<style scoped>\n",
       "    .dataframe tbody tr th:only-of-type {\n",
       "        vertical-align: middle;\n",
       "    }\n",
       "\n",
       "    .dataframe tbody tr th {\n",
       "        vertical-align: top;\n",
       "    }\n",
       "\n",
       "    .dataframe thead th {\n",
       "        text-align: right;\n",
       "    }\n",
       "</style>\n",
       "<table border=\"1\" class=\"dataframe\">\n",
       "  <thead>\n",
       "    <tr style=\"text-align: right;\">\n",
       "      <th></th>\n",
       "      <th>Unnamed: 0</th>\n",
       "      <th>carat</th>\n",
       "      <th>cut</th>\n",
       "      <th>color</th>\n",
       "      <th>clarity</th>\n",
       "      <th>depth</th>\n",
       "      <th>table</th>\n",
       "      <th>price</th>\n",
       "      <th>x</th>\n",
       "      <th>y</th>\n",
       "      <th>z</th>\n",
       "    </tr>\n",
       "  </thead>\n",
       "  <tbody>\n",
       "    <tr>\n",
       "      <th>23644</th>\n",
       "      <td>23645</td>\n",
       "      <td>3.65</td>\n",
       "      <td>Fair</td>\n",
       "      <td>H</td>\n",
       "      <td>I1</td>\n",
       "      <td>67.1</td>\n",
       "      <td>53.0</td>\n",
       "      <td>11668</td>\n",
       "      <td>9.53</td>\n",
       "      <td>9.48</td>\n",
       "      <td>6.38</td>\n",
       "    </tr>\n",
       "    <tr>\n",
       "      <th>25998</th>\n",
       "      <td>25999</td>\n",
       "      <td>4.01</td>\n",
       "      <td>Premium</td>\n",
       "      <td>I</td>\n",
       "      <td>I1</td>\n",
       "      <td>61.0</td>\n",
       "      <td>61.0</td>\n",
       "      <td>15223</td>\n",
       "      <td>10.14</td>\n",
       "      <td>10.10</td>\n",
       "      <td>6.17</td>\n",
       "    </tr>\n",
       "    <tr>\n",
       "      <th>25999</th>\n",
       "      <td>26000</td>\n",
       "      <td>4.01</td>\n",
       "      <td>Premium</td>\n",
       "      <td>J</td>\n",
       "      <td>I1</td>\n",
       "      <td>62.5</td>\n",
       "      <td>62.0</td>\n",
       "      <td>15223</td>\n",
       "      <td>10.02</td>\n",
       "      <td>9.94</td>\n",
       "      <td>6.24</td>\n",
       "    </tr>\n",
       "    <tr>\n",
       "      <th>26444</th>\n",
       "      <td>26445</td>\n",
       "      <td>4.00</td>\n",
       "      <td>Very Good</td>\n",
       "      <td>I</td>\n",
       "      <td>I1</td>\n",
       "      <td>63.3</td>\n",
       "      <td>58.0</td>\n",
       "      <td>15984</td>\n",
       "      <td>10.01</td>\n",
       "      <td>9.94</td>\n",
       "      <td>6.31</td>\n",
       "    </tr>\n",
       "    <tr>\n",
       "      <th>26534</th>\n",
       "      <td>26535</td>\n",
       "      <td>3.67</td>\n",
       "      <td>Premium</td>\n",
       "      <td>I</td>\n",
       "      <td>I1</td>\n",
       "      <td>62.4</td>\n",
       "      <td>56.0</td>\n",
       "      <td>16193</td>\n",
       "      <td>9.86</td>\n",
       "      <td>9.81</td>\n",
       "      <td>6.13</td>\n",
       "    </tr>\n",
       "    <tr>\n",
       "      <th>27130</th>\n",
       "      <td>27131</td>\n",
       "      <td>4.13</td>\n",
       "      <td>Fair</td>\n",
       "      <td>H</td>\n",
       "      <td>I1</td>\n",
       "      <td>64.8</td>\n",
       "      <td>61.0</td>\n",
       "      <td>17329</td>\n",
       "      <td>10.00</td>\n",
       "      <td>9.85</td>\n",
       "      <td>6.43</td>\n",
       "    </tr>\n",
       "    <tr>\n",
       "      <th>27415</th>\n",
       "      <td>27416</td>\n",
       "      <td>5.01</td>\n",
       "      <td>Fair</td>\n",
       "      <td>J</td>\n",
       "      <td>I1</td>\n",
       "      <td>65.5</td>\n",
       "      <td>59.0</td>\n",
       "      <td>18018</td>\n",
       "      <td>10.74</td>\n",
       "      <td>10.54</td>\n",
       "      <td>6.98</td>\n",
       "    </tr>\n",
       "    <tr>\n",
       "      <th>27630</th>\n",
       "      <td>27631</td>\n",
       "      <td>4.50</td>\n",
       "      <td>Fair</td>\n",
       "      <td>J</td>\n",
       "      <td>I1</td>\n",
       "      <td>65.8</td>\n",
       "      <td>58.0</td>\n",
       "      <td>18531</td>\n",
       "      <td>10.23</td>\n",
       "      <td>10.16</td>\n",
       "      <td>6.72</td>\n",
       "    </tr>\n",
       "    <tr>\n",
       "      <th>27679</th>\n",
       "      <td>27680</td>\n",
       "      <td>3.51</td>\n",
       "      <td>Premium</td>\n",
       "      <td>J</td>\n",
       "      <td>VS2</td>\n",
       "      <td>62.5</td>\n",
       "      <td>59.0</td>\n",
       "      <td>18701</td>\n",
       "      <td>9.66</td>\n",
       "      <td>9.63</td>\n",
       "      <td>6.03</td>\n",
       "    </tr>\n",
       "  </tbody>\n",
       "</table>\n",
       "</div>"
      ],
      "text/plain": [
       "       Unnamed: 0  carat        cut color clarity  depth  table  price      x  \\\n",
       "23644       23645   3.65       Fair     H      I1   67.1   53.0  11668   9.53   \n",
       "25998       25999   4.01    Premium     I      I1   61.0   61.0  15223  10.14   \n",
       "25999       26000   4.01    Premium     J      I1   62.5   62.0  15223  10.02   \n",
       "26444       26445   4.00  Very Good     I      I1   63.3   58.0  15984  10.01   \n",
       "26534       26535   3.67    Premium     I      I1   62.4   56.0  16193   9.86   \n",
       "27130       27131   4.13       Fair     H      I1   64.8   61.0  17329  10.00   \n",
       "27415       27416   5.01       Fair     J      I1   65.5   59.0  18018  10.74   \n",
       "27630       27631   4.50       Fair     J      I1   65.8   58.0  18531  10.23   \n",
       "27679       27680   3.51    Premium     J     VS2   62.5   59.0  18701   9.66   \n",
       "\n",
       "           y     z  \n",
       "23644   9.48  6.38  \n",
       "25998  10.10  6.17  \n",
       "25999   9.94  6.24  \n",
       "26444   9.94  6.31  \n",
       "26534   9.81  6.13  \n",
       "27130   9.85  6.43  \n",
       "27415  10.54  6.98  \n",
       "27630  10.16  6.72  \n",
       "27679   9.63  6.03  "
      ]
     },
     "execution_count": 10,
     "metadata": {},
     "output_type": "execute_result"
    }
   ],
   "source": [
    " large_diamonds = diamonds[diamonds['carat'] > 3.5]  \n",
    " large_diamonds"
   ]
  },
  {
   "cell_type": "code",
   "execution_count": 11,
   "id": "ed2591f1",
   "metadata": {
    "execution": {
     "iopub.execute_input": "2025-03-04T09:49:28.007210Z",
     "iopub.status.busy": "2025-03-04T09:49:28.006829Z",
     "iopub.status.idle": "2025-03-04T09:49:28.034019Z",
     "shell.execute_reply": "2025-03-04T09:49:28.032996Z"
    },
    "papermill": {
     "duration": 0.036622,
     "end_time": "2025-03-04T09:49:28.035717",
     "exception": false,
     "start_time": "2025-03-04T09:49:27.999095",
     "status": "completed"
    },
    "tags": []
   },
   "outputs": [
    {
     "data": {
      "text/html": [
       "<div>\n",
       "<style scoped>\n",
       "    .dataframe tbody tr th:only-of-type {\n",
       "        vertical-align: middle;\n",
       "    }\n",
       "\n",
       "    .dataframe tbody tr th {\n",
       "        vertical-align: top;\n",
       "    }\n",
       "\n",
       "    .dataframe thead th {\n",
       "        text-align: right;\n",
       "    }\n",
       "</style>\n",
       "<table border=\"1\" class=\"dataframe\">\n",
       "  <thead>\n",
       "    <tr style=\"text-align: right;\">\n",
       "      <th></th>\n",
       "      <th>Unnamed: 0</th>\n",
       "      <th>carat</th>\n",
       "      <th>depth</th>\n",
       "      <th>table</th>\n",
       "      <th>price</th>\n",
       "      <th>x</th>\n",
       "      <th>y</th>\n",
       "      <th>z</th>\n",
       "    </tr>\n",
       "  </thead>\n",
       "  <tbody>\n",
       "    <tr>\n",
       "      <th>count</th>\n",
       "      <td>9.000000</td>\n",
       "      <td>9.000000</td>\n",
       "      <td>9.000000</td>\n",
       "      <td>9.000000</td>\n",
       "      <td>9.000000</td>\n",
       "      <td>9.000000</td>\n",
       "      <td>9.000000</td>\n",
       "      <td>9.000000</td>\n",
       "    </tr>\n",
       "    <tr>\n",
       "      <th>mean</th>\n",
       "      <td>26498.000000</td>\n",
       "      <td>4.054444</td>\n",
       "      <td>63.877778</td>\n",
       "      <td>58.555556</td>\n",
       "      <td>16318.888889</td>\n",
       "      <td>10.021111</td>\n",
       "      <td>9.938889</td>\n",
       "      <td>6.376667</td>\n",
       "    </tr>\n",
       "    <tr>\n",
       "      <th>std</th>\n",
       "      <td>1253.246684</td>\n",
       "      <td>0.465299</td>\n",
       "      <td>2.004855</td>\n",
       "      <td>2.788867</td>\n",
       "      <td>2197.609579</td>\n",
       "      <td>0.348692</td>\n",
       "      <td>0.309574</td>\n",
       "      <td>0.302407</td>\n",
       "    </tr>\n",
       "    <tr>\n",
       "      <th>min</th>\n",
       "      <td>23645.000000</td>\n",
       "      <td>3.510000</td>\n",
       "      <td>61.000000</td>\n",
       "      <td>53.000000</td>\n",
       "      <td>11668.000000</td>\n",
       "      <td>9.530000</td>\n",
       "      <td>9.480000</td>\n",
       "      <td>6.030000</td>\n",
       "    </tr>\n",
       "    <tr>\n",
       "      <th>25%</th>\n",
       "      <td>26000.000000</td>\n",
       "      <td>3.670000</td>\n",
       "      <td>62.500000</td>\n",
       "      <td>58.000000</td>\n",
       "      <td>15223.000000</td>\n",
       "      <td>9.860000</td>\n",
       "      <td>9.810000</td>\n",
       "      <td>6.170000</td>\n",
       "    </tr>\n",
       "    <tr>\n",
       "      <th>50%</th>\n",
       "      <td>26535.000000</td>\n",
       "      <td>4.010000</td>\n",
       "      <td>63.300000</td>\n",
       "      <td>59.000000</td>\n",
       "      <td>16193.000000</td>\n",
       "      <td>10.010000</td>\n",
       "      <td>9.940000</td>\n",
       "      <td>6.310000</td>\n",
       "    </tr>\n",
       "    <tr>\n",
       "      <th>75%</th>\n",
       "      <td>27416.000000</td>\n",
       "      <td>4.130000</td>\n",
       "      <td>65.500000</td>\n",
       "      <td>61.000000</td>\n",
       "      <td>18018.000000</td>\n",
       "      <td>10.140000</td>\n",
       "      <td>10.100000</td>\n",
       "      <td>6.430000</td>\n",
       "    </tr>\n",
       "    <tr>\n",
       "      <th>max</th>\n",
       "      <td>27680.000000</td>\n",
       "      <td>5.010000</td>\n",
       "      <td>67.100000</td>\n",
       "      <td>62.000000</td>\n",
       "      <td>18701.000000</td>\n",
       "      <td>10.740000</td>\n",
       "      <td>10.540000</td>\n",
       "      <td>6.980000</td>\n",
       "    </tr>\n",
       "  </tbody>\n",
       "</table>\n",
       "</div>"
      ],
      "text/plain": [
       "         Unnamed: 0     carat      depth      table         price          x  \\\n",
       "count      9.000000  9.000000   9.000000   9.000000      9.000000   9.000000   \n",
       "mean   26498.000000  4.054444  63.877778  58.555556  16318.888889  10.021111   \n",
       "std     1253.246684  0.465299   2.004855   2.788867   2197.609579   0.348692   \n",
       "min    23645.000000  3.510000  61.000000  53.000000  11668.000000   9.530000   \n",
       "25%    26000.000000  3.670000  62.500000  58.000000  15223.000000   9.860000   \n",
       "50%    26535.000000  4.010000  63.300000  59.000000  16193.000000  10.010000   \n",
       "75%    27416.000000  4.130000  65.500000  61.000000  18018.000000  10.140000   \n",
       "max    27680.000000  5.010000  67.100000  62.000000  18701.000000  10.740000   \n",
       "\n",
       "               y         z  \n",
       "count   9.000000  9.000000  \n",
       "mean    9.938889  6.376667  \n",
       "std     0.309574  0.302407  \n",
       "min     9.480000  6.030000  \n",
       "25%     9.810000  6.170000  \n",
       "50%     9.940000  6.310000  \n",
       "75%    10.100000  6.430000  \n",
       "max    10.540000  6.980000  "
      ]
     },
     "execution_count": 11,
     "metadata": {},
     "output_type": "execute_result"
    }
   ],
   "source": [
    "large_diamonds.describe() "
   ]
  },
  {
   "cell_type": "markdown",
   "id": "2d01e437",
   "metadata": {
    "papermill": {
     "duration": 0.006732,
     "end_time": "2025-03-04T09:49:28.049479",
     "exception": false,
     "start_time": "2025-03-04T09:49:28.042747",
     "status": "completed"
    },
    "tags": []
   },
   "source": [
    "**Conclusion:**\n",
    "\n",
    "1. 9 diamonds are bigger than 3.5 carats. \n",
    "   \n",
    "2. On one hand, these outliers have very little bearing on the shape of the distribution.\n",
    "\n",
    "3. On the other hand, limiting the X-axis to 3.5 implies that no data lies beyond that point.\n",
    "\n",
    "4. If we were to show this plot to someone else, it could be misleading.\n",
    "\n",
    "5. Including a note that nine diamonds lie beyond the chart range could be helpful. \n",
    "\n"
   ]
  },
  {
   "cell_type": "markdown",
   "id": "0759f79b",
   "metadata": {
    "papermill": {
     "duration": 0.00642,
     "end_time": "2025-03-04T09:49:28.062785",
     "exception": false,
     "start_time": "2025-03-04T09:49:28.056365",
     "status": "completed"
    },
    "tags": []
   },
   "source": [
    "# BoxPlot "
   ]
  },
  {
   "cell_type": "markdown",
   "id": "367e40cf",
   "metadata": {
    "papermill": {
     "duration": 0.006554,
     "end_time": "2025-03-04T09:49:28.076163",
     "exception": false,
     "start_time": "2025-03-04T09:49:28.069609",
     "status": "completed"
    },
    "tags": []
   },
   "source": [
    "Boxplots are another type of **univariate** plot for summarizing **distributions of numeric data** graphically.  "
   ]
  },
  {
   "cell_type": "code",
   "execution_count": 12,
   "id": "fe74ff70",
   "metadata": {
    "execution": {
     "iopub.execute_input": "2025-03-04T09:49:28.090948Z",
     "iopub.status.busy": "2025-03-04T09:49:28.090616Z",
     "iopub.status.idle": "2025-03-04T09:49:28.264015Z",
     "shell.execute_reply": "2025-03-04T09:49:28.262850Z"
    },
    "papermill": {
     "duration": 0.183189,
     "end_time": "2025-03-04T09:49:28.266052",
     "exception": false,
     "start_time": "2025-03-04T09:49:28.082863",
     "status": "completed"
    },
    "tags": []
   },
   "outputs": [
    {
     "data": {
      "text/plain": [
       "<Axes: >"
      ]
     },
     "execution_count": 12,
     "metadata": {},
     "output_type": "execute_result"
    },
    {
     "data": {
      "image/png": "[encoded data removed]",
      "text/plain": [
       "<Figure size 640x480 with 1 Axes>"
      ]
     },
     "metadata": {},
     "output_type": "display_data"
    }
   ],
   "source": [
    "# make a boxplot of carat: \n",
    "diamonds.boxplot(column = 'carat') "
   ]
  },
  {
   "cell_type": "markdown",
   "id": "cd41ceb7",
   "metadata": {
    "papermill": {
     "duration": 0.006947,
     "end_time": "2025-03-04T09:49:28.280426",
     "exception": false,
     "start_time": "2025-03-04T09:49:28.273479",
     "status": "completed"
    },
    "tags": []
   },
   "source": [
    "**Conclusion:** \n",
    "\n",
    "1. central box: the middle 50% of the observations\n",
    "   \n",
    "2. the central bar: the median\n",
    "\n",
    "3. the bars at the end of the dotted lines (upper whiskers): encapsulate the great majority of the observations.\n",
    "\n",
    "4. Circles that lie beyond the end of the whiskers:  are data that may be outliers.\n",
    "\n",
    "5. In this case, our data set has over 50,000 observations and we see **many data points beyond the top whisker**. \n",
    "\n",
    "6. We probably wouldn't want to classify all of those points as outliers, **but the handful of diamonds at 4 carats and above are definitely far outside the norm**.  \n"
   ]
  },
  {
   "cell_type": "markdown",
   "id": "34cf4841",
   "metadata": {
    "papermill": {
     "duration": 0.007344,
     "end_time": "2025-03-04T09:49:28.295502",
     "exception": false,
     "start_time": "2025-03-04T09:49:28.288158",
     "status": "completed"
    },
    "tags": []
   },
   "source": [
    "1. One of the most useful features of a boxplot is the ability to make **side-by-side boxplots.** \n",
    "\n",
    "2. A side-by-side boxplot **takes a numeric variable and splits it on based on some categorical variable**, drawing a different boxplot for each level of the categorical variable."
   ]
  },
  {
   "cell_type": "code",
   "execution_count": 13,
   "id": "b7e65ede",
   "metadata": {
    "execution": {
     "iopub.execute_input": "2025-03-04T09:49:28.311432Z",
     "iopub.status.busy": "2025-03-04T09:49:28.310990Z",
     "iopub.status.idle": "2025-03-04T09:49:28.641460Z",
     "shell.execute_reply": "2025-03-04T09:49:28.640467Z"
    },
    "papermill": {
     "duration": 0.340747,
     "end_time": "2025-03-04T09:49:28.643395",
     "exception": false,
     "start_time": "2025-03-04T09:49:28.302648",
     "status": "completed"
    },
    "tags": []
   },
   "outputs": [
    {
     "data": {
      "text/plain": [
       "<Axes: title={'center': 'price'}, xlabel='clarity'>"
      ]
     },
     "execution_count": 13,
     "metadata": {},
     "output_type": "execute_result"
    },
    {
     "data": {
      "image/png": "[encoded data removed]",
      "text/plain": [
       "<Figure size 640x480 with 1 Axes>"
      ]
     },
     "metadata": {},
     "output_type": "display_data"
    }
   ],
   "source": [
    "# make a side-by-side boxplot of diamond price split by diamond clarity  \n",
    "\n",
    "diamonds.boxplot(column = 'price',  \n",
    "                 by = 'clarity')"
   ]
  },
  {
   "cell_type": "markdown",
   "id": "b34bc75f",
   "metadata": {
    "papermill": {
     "duration": 0.007695,
     "end_time": "2025-03-04T09:49:28.659153",
     "exception": false,
     "start_time": "2025-03-04T09:49:28.651458",
     "status": "completed"
    },
    "tags": []
   },
   "source": [
    "The boxplot above is curious: we'd expect diamonds with better clarity to fetch higher prices and yet diamonds on the highest end of the clarity spectrum (IF = internally flawless) actually have lower median prices than low clarity diamonds! \n",
    "\n",
    "What gives? Perhaps another boxplot can shed some light on this situation. \n",
    "\n"
   ]
  },
  {
   "cell_type": "code",
   "execution_count": 14,
   "id": "e398e6a8",
   "metadata": {
    "execution": {
     "iopub.execute_input": "2025-03-04T09:49:28.676426Z",
     "iopub.status.busy": "2025-03-04T09:49:28.676023Z",
     "iopub.status.idle": "2025-03-04T09:49:28.980160Z",
     "shell.execute_reply": "2025-03-04T09:49:28.979063Z"
    },
    "papermill": {
     "duration": 0.314651,
     "end_time": "2025-03-04T09:49:28.981847",
     "exception": false,
     "start_time": "2025-03-04T09:49:28.667196",
     "status": "completed"
    },
    "tags": []
   },
   "outputs": [
    {
     "data": {
      "text/plain": [
       "<Axes: title={'center': 'carat'}, xlabel='clarity'>"
      ]
     },
     "execution_count": 14,
     "metadata": {},
     "output_type": "execute_result"
    },
    {
     "data": {
      "image/png": "[encoded data removed]",
      "text/plain": [
       "<Figure size 640x480 with 1 Axes>"
      ]
     },
     "metadata": {},
     "output_type": "display_data"
    }
   ],
   "source": [
    "diamonds.boxplot(column = 'carat', \n",
    "                   by = 'clarity') "
   ]
  },
  {
   "cell_type": "markdown",
   "id": "f0e4ff3e",
   "metadata": {
    "papermill": {
     "duration": 0.008582,
     "end_time": "2025-03-04T09:49:28.999279",
     "exception": false,
     "start_time": "2025-03-04T09:49:28.990697",
     "status": "completed"
    },
    "tags": []
   },
   "source": [
    "Conclusion: \n",
    "\n",
    "The plot above shows that diamonds with **low clarity ratings also tend to be larger**.\n",
    "Since size is an important factor in determining a diamond's value, it isn't too  surprising that low clarity diamonds have higher median prices. "
   ]
  },
  {
   "cell_type": "markdown",
   "id": "740db30d",
   "metadata": {
    "papermill": {
     "duration": 0.008504,
     "end_time": "2025-03-04T09:49:29.016366",
     "exception": false,
     "start_time": "2025-03-04T09:49:29.007862",
     "status": "completed"
    },
    "tags": []
   },
   "source": [
    "# Density Plots"
   ]
  },
  {
   "cell_type": "markdown",
   "id": "0e42a9f1",
   "metadata": {
    "papermill": {
     "duration": 0.008367,
     "end_time": "2025-03-04T09:49:29.033490",
     "exception": false,
     "start_time": "2025-03-04T09:49:29.025123",
     "status": "completed"
    },
    "tags": []
   },
   "source": [
    "1. A density plot shows the **distribution of a numeric variable with a continuous curve**.\n",
    "   \n",
    "2. It is similar to a histogram but without discrete bins, a density plot gives a better picture of the underlying shape of a distribution. Create a density plot with series.plot(kind=\"density\") "
   ]
  },
  {
   "cell_type": "code",
   "execution_count": null,
   "id": "30ba3f8c",
   "metadata": {
    "papermill": {
     "duration": 0.008668,
     "end_time": "2025-03-04T09:49:29.050860",
     "exception": false,
     "start_time": "2025-03-04T09:49:29.042192",
     "status": "completed"
    },
    "tags": []
   },
   "outputs": [],
   "source": []
  }
 ],
 "metadata": {
  "kaggle": {
   "accelerator": "none",
   "dataSources": [
    {
     "datasetId": 6777373,
     "sourceId": 10904296,
     "sourceType": "datasetVersion"
    }
   ],
   "dockerImageVersionId": 30918,
   "isGpuEnabled": false,
   "isInternetEnabled": true,
   "language": "python",
   "sourceType": "notebook"
  },
  "kernelspec": {
   "display_name": "Python 3",
   "language": "python",
   "name": "python3"
  },
  "language_info": {
   "codemirror_mode": {
    "name": "ipython",
    "version": 3
   },
   "file_extension": ".py",
   "mimetype": "text/x-python",
   "name": "python",
   "nbconvert_exporter": "python",
   "pygments_lexer": "ipython3",
   "version": "3.10.12"
  },
  "papermill": {
   "default_parameters": {},
   "duration": 6.610761,
   "end_time": "2025-03-04T09:49:29.679828",
   "environment_variables": {},
   "exception": null,
   "input_path": "__notebook__.ipynb",
   "output_path": "__notebook__.ipynb",
   "parameters": {},
   "start_time": "2025-03-04T09:49:23.069067",
   "version": "2.6.0"
  }
 },
 "nbformat": 4,
 "nbformat_minor": 5
}
