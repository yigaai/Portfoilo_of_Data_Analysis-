{
 "cells": [
  {
   "cell_type": "markdown",
   "id": "62181808",
   "metadata": {
    "papermill": {
     "duration": 0.005793,
     "end_time": "2025-03-06T07:46:09.424793",
     "exception": false,
     "start_time": "2025-03-06T07:46:09.419000",
     "status": "completed"
    },
    "tags": []
   },
   "source": [
    "#  How to use the dataset"
   ]
  },
  {
   "cell_type": "markdown",
   "id": "1ddc106e",
   "metadata": {
    "papermill": {
     "duration": 0.004559,
     "end_time": "2025-03-06T07:46:09.434349",
     "exception": false,
     "start_time": "2025-03-06T07:46:09.429790",
     "status": "completed"
    },
    "tags": []
   },
   "source": [
    "Lung cancer is the leading cause of cancer death worldwide, accounting for 1.59 million deaths in 2018. \n",
    "\n",
    "The majority of lung cancer cases are attributed to smoking, but exposure to air pollution is also a risk factor. A new study has found that air pollution may be linked to an increased risk of lung cancer, even in nonsmokers.\n",
    "\n",
    "The study, which was published in the journal Nature Medicine, looked at data from over 462,000 people in China who were followed for an average of six years. \n",
    "\n",
    "The participants were divided into two groups: those who lived in areas with high levels of air pollution and those who lived in areas with low levels of air pollution.\n",
    "\n",
    "The researchers found that the people in the high-pollution group were more likely to develop lung cancer than those in the low-pollution group. \n",
    "They also found that the risk was higher in nonsmokers than smokers and that the risk increased with age.\n",
    "\n",
    "While this study does not prove that air pollution causes lung cancer, it does suggest that there may be a link between the two. More research is needed to confirm these findings and to determine what effect different types and levels of air pollution may have on lung cancer risk. "
   ]
  },
  {
   "cell_type": "markdown",
   "id": "168aa624",
   "metadata": {
    "papermill": {
     "duration": 0.004417,
     "end_time": "2025-03-06T07:46:09.443477",
     "exception": false,
     "start_time": "2025-03-06T07:46:09.439060",
     "status": "completed"
    },
    "tags": []
   },
   "source": [
    "# Research Goals"
   ]
  },
  {
   "cell_type": "markdown",
   "id": "4eb37baa",
   "metadata": {
    "papermill": {
     "duration": 0.004471,
     "end_time": "2025-03-06T07:46:09.452684",
     "exception": false,
     "start_time": "2025-03-06T07:46:09.448213",
     "status": "completed"
    },
    "tags": []
   },
   "source": [
    "1. Predict the **likelihood** of a patient developing lung cancer.\n",
    "   \n",
    "2. Identify **risk factors** for lung cancer.\n",
    "\n",
    "3. Determinate **the most effective treatment** for a patient with lung cancer. "
   ]
  },
  {
   "cell_type": "code",
   "execution_count": 1,
   "id": "85ab0ad4",
   "metadata": {
    "execution": {
     "iopub.execute_input": "2025-03-06T07:46:09.463610Z",
     "iopub.status.busy": "2025-03-06T07:46:09.463165Z",
     "iopub.status.idle": "2025-03-06T07:46:12.264510Z",
     "shell.execute_reply": "2025-03-06T07:46:12.263330Z"
    },
    "papermill": {
     "duration": 2.809203,
     "end_time": "2025-03-06T07:46:12.266624",
     "exception": false,
     "start_time": "2025-03-06T07:46:09.457421",
     "status": "completed"
    },
    "tags": []
   },
   "outputs": [],
   "source": [
    "import os\n",
    "import numpy as np\n",
    "import pandas as pd\n",
    "import seaborn as sns \n",
    "from matplotlib import pyplot as plt\n",
    "\n",
    "%matplotlib inline"
   ]
  },
  {
   "cell_type": "markdown",
   "id": "666374fa",
   "metadata": {
    "papermill": {
     "duration": 0.004545,
     "end_time": "2025-03-06T07:46:12.276131",
     "exception": false,
     "start_time": "2025-03-06T07:46:12.271586",
     "status": "completed"
    },
    "tags": []
   },
   "source": [
    "# Read Data "
   ]
  },
  {
   "cell_type": "code",
   "execution_count": 2,
   "id": "0345bd4d",
   "metadata": {
    "execution": {
     "iopub.execute_input": "2025-03-06T07:46:12.287501Z",
     "iopub.status.busy": "2025-03-06T07:46:12.286946Z",
     "iopub.status.idle": "2025-03-06T07:46:12.302584Z",
     "shell.execute_reply": "2025-03-06T07:46:12.301135Z"
    },
    "papermill": {
     "duration": 0.024015,
     "end_time": "2025-03-06T07:46:12.305301",
     "exception": false,
     "start_time": "2025-03-06T07:46:12.281286",
     "status": "completed"
    },
    "tags": []
   },
   "outputs": [
    {
     "data": {
      "text/plain": [
       "['cancer patient data sets.csv']"
      ]
     },
     "execution_count": 2,
     "metadata": {},
     "output_type": "execute_result"
    }
   ],
   "source": [
    "os.chdir('/kaggle/')\n",
    "os.listdir('/kaggle/input/lung-cancer-data') "
   ]
  },
  {
   "cell_type": "code",
   "execution_count": 3,
   "id": "f268090c",
   "metadata": {
    "execution": {
     "iopub.execute_input": "2025-03-06T07:46:12.316800Z",
     "iopub.status.busy": "2025-03-06T07:46:12.316442Z",
     "iopub.status.idle": "2025-03-06T07:46:12.341940Z",
     "shell.execute_reply": "2025-03-06T07:46:12.340810Z"
    },
    "papermill": {
     "duration": 0.033672,
     "end_time": "2025-03-06T07:46:12.344131",
     "exception": false,
     "start_time": "2025-03-06T07:46:12.310459",
     "status": "completed"
    },
    "tags": []
   },
   "outputs": [],
   "source": [
    "lung_cancer = pd.read_csv('/kaggle/input/lung-cancer-data/cancer patient data sets.csv') "
   ]
  },
  {
   "cell_type": "markdown",
   "id": "a648fda2",
   "metadata": {
    "papermill": {
     "duration": 0.004764,
     "end_time": "2025-03-06T07:46:12.354099",
     "exception": false,
     "start_time": "2025-03-06T07:46:12.349335",
     "status": "completed"
    },
    "tags": []
   },
   "source": [
    "# Data Cleaning & Encoding Labels"
   ]
  },
  {
   "cell_type": "code",
   "execution_count": 4,
   "id": "985b7886",
   "metadata": {
    "execution": {
     "iopub.execute_input": "2025-03-06T07:46:12.365474Z",
     "iopub.status.busy": "2025-03-06T07:46:12.365059Z",
     "iopub.status.idle": "2025-03-06T07:46:12.370806Z",
     "shell.execute_reply": "2025-03-06T07:46:12.369916Z"
    },
    "papermill": {
     "duration": 0.013151,
     "end_time": "2025-03-06T07:46:12.372469",
     "exception": false,
     "start_time": "2025-03-06T07:46:12.359318",
     "status": "completed"
    },
    "tags": []
   },
   "outputs": [
    {
     "data": {
      "text/plain": [
       "(1000, 26)"
      ]
     },
     "execution_count": 4,
     "metadata": {},
     "output_type": "execute_result"
    }
   ],
   "source": [
    "lung_cancer.shape"
   ]
  },
  {
   "cell_type": "code",
   "execution_count": 5,
   "id": "8e10ebd0",
   "metadata": {
    "execution": {
     "iopub.execute_input": "2025-03-06T07:46:12.383751Z",
     "iopub.status.busy": "2025-03-06T07:46:12.383402Z",
     "iopub.status.idle": "2025-03-06T07:46:12.397184Z",
     "shell.execute_reply": "2025-03-06T07:46:12.395955Z"
    },
    "papermill": {
     "duration": 0.02132,
     "end_time": "2025-03-06T07:46:12.398913",
     "exception": false,
     "start_time": "2025-03-06T07:46:12.377593",
     "status": "completed"
    },
    "tags": []
   },
   "outputs": [
    {
     "data": {
      "text/plain": [
       "index                        int64\n",
       "Patient Id                  object\n",
       "Age                          int64\n",
       "Gender                       int64\n",
       "Air Pollution                int64\n",
       "Alcohol use                  int64\n",
       "Dust Allergy                 int64\n",
       "OccuPational Hazards         int64\n",
       "Genetic Risk                 int64\n",
       "chronic Lung Disease         int64\n",
       "Balanced Diet                int64\n",
       "Obesity                      int64\n",
       "Smoking                      int64\n",
       "Passive Smoker               int64\n",
       "Chest Pain                   int64\n",
       "Coughing of Blood            int64\n",
       "Fatigue                      int64\n",
       "Weight Loss                  int64\n",
       "Shortness of Breath          int64\n",
       "Wheezing                     int64\n",
       "Swallowing Difficulty        int64\n",
       "Clubbing of Finger Nails     int64\n",
       "Frequent Cold                int64\n",
       "Dry Cough                    int64\n",
       "Snoring                      int64\n",
       "Level                       object\n",
       "dtype: object"
      ]
     },
     "execution_count": 5,
     "metadata": {},
     "output_type": "execute_result"
    }
   ],
   "source": [
    "lung_cancer.dtypes"
   ]
  },
  {
   "cell_type": "code",
   "execution_count": 6,
   "id": "2fcfa5ec",
   "metadata": {
    "execution": {
     "iopub.execute_input": "2025-03-06T07:46:12.410674Z",
     "iopub.status.busy": "2025-03-06T07:46:12.410288Z",
     "iopub.status.idle": "2025-03-06T07:46:12.441193Z",
     "shell.execute_reply": "2025-03-06T07:46:12.439862Z"
    },
    "papermill": {
     "duration": 0.038657,
     "end_time": "2025-03-06T07:46:12.442945",
     "exception": false,
     "start_time": "2025-03-06T07:46:12.404288",
     "status": "completed"
    },
    "tags": []
   },
   "outputs": [
    {
     "name": "stdout",
     "output_type": "stream",
     "text": [
      "<class 'pandas.core.frame.DataFrame'>\n",
      "RangeIndex: 1000 entries, 0 to 999\n",
      "Data columns (total 26 columns):\n",
      " #   Column                    Non-Null Count  Dtype \n",
      "---  ------                    --------------  ----- \n",
      " 0   index                     1000 non-null   int64 \n",
      " 1   Patient Id                1000 non-null   object\n",
      " 2   Age                       1000 non-null   int64 \n",
      " 3   Gender                    1000 non-null   int64 \n",
      " 4   Air Pollution             1000 non-null   int64 \n",
      " 5   Alcohol use               1000 non-null   int64 \n",
      " 6   Dust Allergy              1000 non-null   int64 \n",
      " 7   OccuPational Hazards      1000 non-null   int64 \n",
      " 8   Genetic Risk              1000 non-null   int64 \n",
      " 9   chronic Lung Disease      1000 non-null   int64 \n",
      " 10  Balanced Diet             1000 non-null   int64 \n",
      " 11  Obesity                   1000 non-null   int64 \n",
      " 12  Smoking                   1000 non-null   int64 \n",
      " 13  Passive Smoker            1000 non-null   int64 \n",
      " 14  Chest Pain                1000 non-null   int64 \n",
      " 15  Coughing of Blood         1000 non-null   int64 \n",
      " 16  Fatigue                   1000 non-null   int64 \n",
      " 17  Weight Loss               1000 non-null   int64 \n",
      " 18  Shortness of Breath       1000 non-null   int64 \n",
      " 19  Wheezing                  1000 non-null   int64 \n",
      " 20  Swallowing Difficulty     1000 non-null   int64 \n",
      " 21  Clubbing of Finger Nails  1000 non-null   int64 \n",
      " 22  Frequent Cold             1000 non-null   int64 \n",
      " 23  Dry Cough                 1000 non-null   int64 \n",
      " 24  Snoring                   1000 non-null   int64 \n",
      " 25  Level                     1000 non-null   object\n",
      "dtypes: int64(24), object(2)\n",
      "memory usage: 203.2+ KB\n"
     ]
    }
   ],
   "source": [
    "lung_cancer.info()"
   ]
  },
  {
   "cell_type": "code",
   "execution_count": 7,
   "id": "eaae0413",
   "metadata": {
    "execution": {
     "iopub.execute_input": "2025-03-06T07:46:12.454635Z",
     "iopub.status.busy": "2025-03-06T07:46:12.454262Z",
     "iopub.status.idle": "2025-03-06T07:46:12.484614Z",
     "shell.execute_reply": "2025-03-06T07:46:12.483452Z"
    },
    "papermill": {
     "duration": 0.038371,
     "end_time": "2025-03-06T07:46:12.486596",
     "exception": false,
     "start_time": "2025-03-06T07:46:12.448225",
     "status": "completed"
    },
    "tags": []
   },
   "outputs": [
    {
     "data": {
      "text/html": [
       "<div>\n",
       "<style scoped>\n",
       "    .dataframe tbody tr th:only-of-type {\n",
       "        vertical-align: middle;\n",
       "    }\n",
       "\n",
       "    .dataframe tbody tr th {\n",
       "        vertical-align: top;\n",
       "    }\n",
       "\n",
       "    .dataframe thead th {\n",
       "        text-align: right;\n",
       "    }\n",
       "</style>\n",
       "<table border=\"1\" class=\"dataframe\">\n",
       "  <thead>\n",
       "    <tr style=\"text-align: right;\">\n",
       "      <th></th>\n",
       "      <th>index</th>\n",
       "      <th>Patient Id</th>\n",
       "      <th>Age</th>\n",
       "      <th>Gender</th>\n",
       "      <th>Air Pollution</th>\n",
       "      <th>Alcohol use</th>\n",
       "      <th>Dust Allergy</th>\n",
       "      <th>OccuPational Hazards</th>\n",
       "      <th>Genetic Risk</th>\n",
       "      <th>chronic Lung Disease</th>\n",
       "      <th>...</th>\n",
       "      <th>Fatigue</th>\n",
       "      <th>Weight Loss</th>\n",
       "      <th>Shortness of Breath</th>\n",
       "      <th>Wheezing</th>\n",
       "      <th>Swallowing Difficulty</th>\n",
       "      <th>Clubbing of Finger Nails</th>\n",
       "      <th>Frequent Cold</th>\n",
       "      <th>Dry Cough</th>\n",
       "      <th>Snoring</th>\n",
       "      <th>Level</th>\n",
       "    </tr>\n",
       "  </thead>\n",
       "  <tbody>\n",
       "    <tr>\n",
       "      <th>0</th>\n",
       "      <td>0</td>\n",
       "      <td>P1</td>\n",
       "      <td>33</td>\n",
       "      <td>1</td>\n",
       "      <td>2</td>\n",
       "      <td>4</td>\n",
       "      <td>5</td>\n",
       "      <td>4</td>\n",
       "      <td>3</td>\n",
       "      <td>2</td>\n",
       "      <td>...</td>\n",
       "      <td>3</td>\n",
       "      <td>4</td>\n",
       "      <td>2</td>\n",
       "      <td>2</td>\n",
       "      <td>3</td>\n",
       "      <td>1</td>\n",
       "      <td>2</td>\n",
       "      <td>3</td>\n",
       "      <td>4</td>\n",
       "      <td>Low</td>\n",
       "    </tr>\n",
       "    <tr>\n",
       "      <th>1</th>\n",
       "      <td>1</td>\n",
       "      <td>P10</td>\n",
       "      <td>17</td>\n",
       "      <td>1</td>\n",
       "      <td>3</td>\n",
       "      <td>1</td>\n",
       "      <td>5</td>\n",
       "      <td>3</td>\n",
       "      <td>4</td>\n",
       "      <td>2</td>\n",
       "      <td>...</td>\n",
       "      <td>1</td>\n",
       "      <td>3</td>\n",
       "      <td>7</td>\n",
       "      <td>8</td>\n",
       "      <td>6</td>\n",
       "      <td>2</td>\n",
       "      <td>1</td>\n",
       "      <td>7</td>\n",
       "      <td>2</td>\n",
       "      <td>Medium</td>\n",
       "    </tr>\n",
       "    <tr>\n",
       "      <th>2</th>\n",
       "      <td>2</td>\n",
       "      <td>P100</td>\n",
       "      <td>35</td>\n",
       "      <td>1</td>\n",
       "      <td>4</td>\n",
       "      <td>5</td>\n",
       "      <td>6</td>\n",
       "      <td>5</td>\n",
       "      <td>5</td>\n",
       "      <td>4</td>\n",
       "      <td>...</td>\n",
       "      <td>8</td>\n",
       "      <td>7</td>\n",
       "      <td>9</td>\n",
       "      <td>2</td>\n",
       "      <td>1</td>\n",
       "      <td>4</td>\n",
       "      <td>6</td>\n",
       "      <td>7</td>\n",
       "      <td>2</td>\n",
       "      <td>High</td>\n",
       "    </tr>\n",
       "    <tr>\n",
       "      <th>3</th>\n",
       "      <td>3</td>\n",
       "      <td>P1000</td>\n",
       "      <td>37</td>\n",
       "      <td>1</td>\n",
       "      <td>7</td>\n",
       "      <td>7</td>\n",
       "      <td>7</td>\n",
       "      <td>7</td>\n",
       "      <td>6</td>\n",
       "      <td>7</td>\n",
       "      <td>...</td>\n",
       "      <td>4</td>\n",
       "      <td>2</td>\n",
       "      <td>3</td>\n",
       "      <td>1</td>\n",
       "      <td>4</td>\n",
       "      <td>5</td>\n",
       "      <td>6</td>\n",
       "      <td>7</td>\n",
       "      <td>5</td>\n",
       "      <td>High</td>\n",
       "    </tr>\n",
       "    <tr>\n",
       "      <th>4</th>\n",
       "      <td>4</td>\n",
       "      <td>P101</td>\n",
       "      <td>46</td>\n",
       "      <td>1</td>\n",
       "      <td>6</td>\n",
       "      <td>8</td>\n",
       "      <td>7</td>\n",
       "      <td>7</td>\n",
       "      <td>7</td>\n",
       "      <td>6</td>\n",
       "      <td>...</td>\n",
       "      <td>3</td>\n",
       "      <td>2</td>\n",
       "      <td>4</td>\n",
       "      <td>1</td>\n",
       "      <td>4</td>\n",
       "      <td>2</td>\n",
       "      <td>4</td>\n",
       "      <td>2</td>\n",
       "      <td>3</td>\n",
       "      <td>High</td>\n",
       "    </tr>\n",
       "  </tbody>\n",
       "</table>\n",
       "<p>5 rows × 26 columns</p>\n",
       "</div>"
      ],
      "text/plain": [
       "   index Patient Id  Age  Gender  Air Pollution  Alcohol use  Dust Allergy  \\\n",
       "0      0         P1   33       1              2            4             5   \n",
       "1      1        P10   17       1              3            1             5   \n",
       "2      2       P100   35       1              4            5             6   \n",
       "3      3      P1000   37       1              7            7             7   \n",
       "4      4       P101   46       1              6            8             7   \n",
       "\n",
       "   OccuPational Hazards  Genetic Risk  chronic Lung Disease  ...  Fatigue  \\\n",
       "0                     4             3                     2  ...        3   \n",
       "1                     3             4                     2  ...        1   \n",
       "2                     5             5                     4  ...        8   \n",
       "3                     7             6                     7  ...        4   \n",
       "4                     7             7                     6  ...        3   \n",
       "\n",
       "   Weight Loss  Shortness of Breath  Wheezing  Swallowing Difficulty  \\\n",
       "0            4                    2         2                      3   \n",
       "1            3                    7         8                      6   \n",
       "2            7                    9         2                      1   \n",
       "3            2                    3         1                      4   \n",
       "4            2                    4         1                      4   \n",
       "\n",
       "   Clubbing of Finger Nails  Frequent Cold  Dry Cough  Snoring   Level  \n",
       "0                         1              2          3        4     Low  \n",
       "1                         2              1          7        2  Medium  \n",
       "2                         4              6          7        2    High  \n",
       "3                         5              6          7        5    High  \n",
       "4                         2              4          2        3    High  \n",
       "\n",
       "[5 rows x 26 columns]"
      ]
     },
     "execution_count": 7,
     "metadata": {},
     "output_type": "execute_result"
    }
   ],
   "source": [
    "lung_cancer.head(5) "
   ]
  },
  {
   "cell_type": "code",
   "execution_count": 8,
   "id": "893fc28a",
   "metadata": {
    "execution": {
     "iopub.execute_input": "2025-03-06T07:46:12.499458Z",
     "iopub.status.busy": "2025-03-06T07:46:12.499075Z",
     "iopub.status.idle": "2025-03-06T07:46:12.560186Z",
     "shell.execute_reply": "2025-03-06T07:46:12.558984Z"
    },
    "papermill": {
     "duration": 0.069657,
     "end_time": "2025-03-06T07:46:12.562344",
     "exception": false,
     "start_time": "2025-03-06T07:46:12.492687",
     "status": "completed"
    },
    "tags": []
   },
   "outputs": [
    {
     "data": {
      "text/html": [
       "<div>\n",
       "<style scoped>\n",
       "    .dataframe tbody tr th:only-of-type {\n",
       "        vertical-align: middle;\n",
       "    }\n",
       "\n",
       "    .dataframe tbody tr th {\n",
       "        vertical-align: top;\n",
       "    }\n",
       "\n",
       "    .dataframe thead th {\n",
       "        text-align: right;\n",
       "    }\n",
       "</style>\n",
       "<table border=\"1\" class=\"dataframe\">\n",
       "  <thead>\n",
       "    <tr style=\"text-align: right;\">\n",
       "      <th></th>\n",
       "      <th>index</th>\n",
       "      <th>Age</th>\n",
       "      <th>Gender</th>\n",
       "      <th>Air Pollution</th>\n",
       "      <th>Alcohol use</th>\n",
       "      <th>Dust Allergy</th>\n",
       "      <th>OccuPational Hazards</th>\n",
       "      <th>Genetic Risk</th>\n",
       "      <th>chronic Lung Disease</th>\n",
       "      <th>Balanced Diet</th>\n",
       "      <th>...</th>\n",
       "      <th>Coughing of Blood</th>\n",
       "      <th>Fatigue</th>\n",
       "      <th>Weight Loss</th>\n",
       "      <th>Shortness of Breath</th>\n",
       "      <th>Wheezing</th>\n",
       "      <th>Swallowing Difficulty</th>\n",
       "      <th>Clubbing of Finger Nails</th>\n",
       "      <th>Frequent Cold</th>\n",
       "      <th>Dry Cough</th>\n",
       "      <th>Snoring</th>\n",
       "    </tr>\n",
       "  </thead>\n",
       "  <tbody>\n",
       "    <tr>\n",
       "      <th>count</th>\n",
       "      <td>1000.000000</td>\n",
       "      <td>1000.000000</td>\n",
       "      <td>1000.000000</td>\n",
       "      <td>1000.0000</td>\n",
       "      <td>1000.000000</td>\n",
       "      <td>1000.000000</td>\n",
       "      <td>1000.000000</td>\n",
       "      <td>1000.000000</td>\n",
       "      <td>1000.000000</td>\n",
       "      <td>1000.000000</td>\n",
       "      <td>...</td>\n",
       "      <td>1000.000000</td>\n",
       "      <td>1000.000000</td>\n",
       "      <td>1000.000000</td>\n",
       "      <td>1000.000000</td>\n",
       "      <td>1000.000000</td>\n",
       "      <td>1000.000000</td>\n",
       "      <td>1000.000000</td>\n",
       "      <td>1000.000000</td>\n",
       "      <td>1000.000000</td>\n",
       "      <td>1000.000000</td>\n",
       "    </tr>\n",
       "    <tr>\n",
       "      <th>mean</th>\n",
       "      <td>499.500000</td>\n",
       "      <td>37.174000</td>\n",
       "      <td>1.402000</td>\n",
       "      <td>3.8400</td>\n",
       "      <td>4.563000</td>\n",
       "      <td>5.165000</td>\n",
       "      <td>4.840000</td>\n",
       "      <td>4.580000</td>\n",
       "      <td>4.380000</td>\n",
       "      <td>4.491000</td>\n",
       "      <td>...</td>\n",
       "      <td>4.859000</td>\n",
       "      <td>3.856000</td>\n",
       "      <td>3.855000</td>\n",
       "      <td>4.240000</td>\n",
       "      <td>3.777000</td>\n",
       "      <td>3.746000</td>\n",
       "      <td>3.923000</td>\n",
       "      <td>3.536000</td>\n",
       "      <td>3.853000</td>\n",
       "      <td>2.926000</td>\n",
       "    </tr>\n",
       "    <tr>\n",
       "      <th>std</th>\n",
       "      <td>288.819436</td>\n",
       "      <td>12.005493</td>\n",
       "      <td>0.490547</td>\n",
       "      <td>2.0304</td>\n",
       "      <td>2.620477</td>\n",
       "      <td>1.980833</td>\n",
       "      <td>2.107805</td>\n",
       "      <td>2.126999</td>\n",
       "      <td>1.848518</td>\n",
       "      <td>2.135528</td>\n",
       "      <td>...</td>\n",
       "      <td>2.427965</td>\n",
       "      <td>2.244616</td>\n",
       "      <td>2.206546</td>\n",
       "      <td>2.285087</td>\n",
       "      <td>2.041921</td>\n",
       "      <td>2.270383</td>\n",
       "      <td>2.388048</td>\n",
       "      <td>1.832502</td>\n",
       "      <td>2.039007</td>\n",
       "      <td>1.474686</td>\n",
       "    </tr>\n",
       "    <tr>\n",
       "      <th>min</th>\n",
       "      <td>0.000000</td>\n",
       "      <td>14.000000</td>\n",
       "      <td>1.000000</td>\n",
       "      <td>1.0000</td>\n",
       "      <td>1.000000</td>\n",
       "      <td>1.000000</td>\n",
       "      <td>1.000000</td>\n",
       "      <td>1.000000</td>\n",
       "      <td>1.000000</td>\n",
       "      <td>1.000000</td>\n",
       "      <td>...</td>\n",
       "      <td>1.000000</td>\n",
       "      <td>1.000000</td>\n",
       "      <td>1.000000</td>\n",
       "      <td>1.000000</td>\n",
       "      <td>1.000000</td>\n",
       "      <td>1.000000</td>\n",
       "      <td>1.000000</td>\n",
       "      <td>1.000000</td>\n",
       "      <td>1.000000</td>\n",
       "      <td>1.000000</td>\n",
       "    </tr>\n",
       "    <tr>\n",
       "      <th>25%</th>\n",
       "      <td>249.750000</td>\n",
       "      <td>27.750000</td>\n",
       "      <td>1.000000</td>\n",
       "      <td>2.0000</td>\n",
       "      <td>2.000000</td>\n",
       "      <td>4.000000</td>\n",
       "      <td>3.000000</td>\n",
       "      <td>2.000000</td>\n",
       "      <td>3.000000</td>\n",
       "      <td>2.000000</td>\n",
       "      <td>...</td>\n",
       "      <td>3.000000</td>\n",
       "      <td>2.000000</td>\n",
       "      <td>2.000000</td>\n",
       "      <td>2.000000</td>\n",
       "      <td>2.000000</td>\n",
       "      <td>2.000000</td>\n",
       "      <td>2.000000</td>\n",
       "      <td>2.000000</td>\n",
       "      <td>2.000000</td>\n",
       "      <td>2.000000</td>\n",
       "    </tr>\n",
       "    <tr>\n",
       "      <th>50%</th>\n",
       "      <td>499.500000</td>\n",
       "      <td>36.000000</td>\n",
       "      <td>1.000000</td>\n",
       "      <td>3.0000</td>\n",
       "      <td>5.000000</td>\n",
       "      <td>6.000000</td>\n",
       "      <td>5.000000</td>\n",
       "      <td>5.000000</td>\n",
       "      <td>4.000000</td>\n",
       "      <td>4.000000</td>\n",
       "      <td>...</td>\n",
       "      <td>4.000000</td>\n",
       "      <td>3.000000</td>\n",
       "      <td>3.000000</td>\n",
       "      <td>4.000000</td>\n",
       "      <td>4.000000</td>\n",
       "      <td>4.000000</td>\n",
       "      <td>4.000000</td>\n",
       "      <td>3.000000</td>\n",
       "      <td>4.000000</td>\n",
       "      <td>3.000000</td>\n",
       "    </tr>\n",
       "    <tr>\n",
       "      <th>75%</th>\n",
       "      <td>749.250000</td>\n",
       "      <td>45.000000</td>\n",
       "      <td>2.000000</td>\n",
       "      <td>6.0000</td>\n",
       "      <td>7.000000</td>\n",
       "      <td>7.000000</td>\n",
       "      <td>7.000000</td>\n",
       "      <td>7.000000</td>\n",
       "      <td>6.000000</td>\n",
       "      <td>7.000000</td>\n",
       "      <td>...</td>\n",
       "      <td>7.000000</td>\n",
       "      <td>5.000000</td>\n",
       "      <td>6.000000</td>\n",
       "      <td>6.000000</td>\n",
       "      <td>5.000000</td>\n",
       "      <td>5.000000</td>\n",
       "      <td>5.000000</td>\n",
       "      <td>5.000000</td>\n",
       "      <td>6.000000</td>\n",
       "      <td>4.000000</td>\n",
       "    </tr>\n",
       "    <tr>\n",
       "      <th>max</th>\n",
       "      <td>999.000000</td>\n",
       "      <td>73.000000</td>\n",
       "      <td>2.000000</td>\n",
       "      <td>8.0000</td>\n",
       "      <td>8.000000</td>\n",
       "      <td>8.000000</td>\n",
       "      <td>8.000000</td>\n",
       "      <td>7.000000</td>\n",
       "      <td>7.000000</td>\n",
       "      <td>7.000000</td>\n",
       "      <td>...</td>\n",
       "      <td>9.000000</td>\n",
       "      <td>9.000000</td>\n",
       "      <td>8.000000</td>\n",
       "      <td>9.000000</td>\n",
       "      <td>8.000000</td>\n",
       "      <td>8.000000</td>\n",
       "      <td>9.000000</td>\n",
       "      <td>7.000000</td>\n",
       "      <td>7.000000</td>\n",
       "      <td>7.000000</td>\n",
       "    </tr>\n",
       "  </tbody>\n",
       "</table>\n",
       "<p>8 rows × 24 columns</p>\n",
       "</div>"
      ],
      "text/plain": [
       "             index          Age       Gender  Air Pollution  Alcohol use  \\\n",
       "count  1000.000000  1000.000000  1000.000000      1000.0000  1000.000000   \n",
       "mean    499.500000    37.174000     1.402000         3.8400     4.563000   \n",
       "std     288.819436    12.005493     0.490547         2.0304     2.620477   \n",
       "min       0.000000    14.000000     1.000000         1.0000     1.000000   \n",
       "25%     249.750000    27.750000     1.000000         2.0000     2.000000   \n",
       "50%     499.500000    36.000000     1.000000         3.0000     5.000000   \n",
       "75%     749.250000    45.000000     2.000000         6.0000     7.000000   \n",
       "max     999.000000    73.000000     2.000000         8.0000     8.000000   \n",
       "\n",
       "       Dust Allergy  OccuPational Hazards  Genetic Risk  chronic Lung Disease  \\\n",
       "count   1000.000000           1000.000000   1000.000000           1000.000000   \n",
       "mean       5.165000              4.840000      4.580000              4.380000   \n",
       "std        1.980833              2.107805      2.126999              1.848518   \n",
       "min        1.000000              1.000000      1.000000              1.000000   \n",
       "25%        4.000000              3.000000      2.000000              3.000000   \n",
       "50%        6.000000              5.000000      5.000000              4.000000   \n",
       "75%        7.000000              7.000000      7.000000              6.000000   \n",
       "max        8.000000              8.000000      7.000000              7.000000   \n",
       "\n",
       "       Balanced Diet  ...  Coughing of Blood      Fatigue  Weight Loss  \\\n",
       "count    1000.000000  ...        1000.000000  1000.000000  1000.000000   \n",
       "mean        4.491000  ...           4.859000     3.856000     3.855000   \n",
       "std         2.135528  ...           2.427965     2.244616     2.206546   \n",
       "min         1.000000  ...           1.000000     1.000000     1.000000   \n",
       "25%         2.000000  ...           3.000000     2.000000     2.000000   \n",
       "50%         4.000000  ...           4.000000     3.000000     3.000000   \n",
       "75%         7.000000  ...           7.000000     5.000000     6.000000   \n",
       "max         7.000000  ...           9.000000     9.000000     8.000000   \n",
       "\n",
       "       Shortness of Breath     Wheezing  Swallowing Difficulty  \\\n",
       "count          1000.000000  1000.000000            1000.000000   \n",
       "mean              4.240000     3.777000               3.746000   \n",
       "std               2.285087     2.041921               2.270383   \n",
       "min               1.000000     1.000000               1.000000   \n",
       "25%               2.000000     2.000000               2.000000   \n",
       "50%               4.000000     4.000000               4.000000   \n",
       "75%               6.000000     5.000000               5.000000   \n",
       "max               9.000000     8.000000               8.000000   \n",
       "\n",
       "       Clubbing of Finger Nails  Frequent Cold    Dry Cough      Snoring  \n",
       "count               1000.000000    1000.000000  1000.000000  1000.000000  \n",
       "mean                   3.923000       3.536000     3.853000     2.926000  \n",
       "std                    2.388048       1.832502     2.039007     1.474686  \n",
       "min                    1.000000       1.000000     1.000000     1.000000  \n",
       "25%                    2.000000       2.000000     2.000000     2.000000  \n",
       "50%                    4.000000       3.000000     4.000000     3.000000  \n",
       "75%                    5.000000       5.000000     6.000000     4.000000  \n",
       "max                    9.000000       7.000000     7.000000     7.000000  \n",
       "\n",
       "[8 rows x 24 columns]"
      ]
     },
     "execution_count": 8,
     "metadata": {},
     "output_type": "execute_result"
    }
   ],
   "source": [
    "lung_cancer.describe()  "
   ]
  },
  {
   "cell_type": "code",
   "execution_count": 9,
   "id": "ecdc51ca",
   "metadata": {
    "execution": {
     "iopub.execute_input": "2025-03-06T07:46:12.575638Z",
     "iopub.status.busy": "2025-03-06T07:46:12.575199Z",
     "iopub.status.idle": "2025-03-06T07:46:12.590550Z",
     "shell.execute_reply": "2025-03-06T07:46:12.589320Z"
    },
    "papermill": {
     "duration": 0.023964,
     "end_time": "2025-03-06T07:46:12.592428",
     "exception": false,
     "start_time": "2025-03-06T07:46:12.568464",
     "status": "completed"
    },
    "tags": []
   },
   "outputs": [
    {
     "data": {
      "text/html": [
       "<div>\n",
       "<style scoped>\n",
       "    .dataframe tbody tr th:only-of-type {\n",
       "        vertical-align: middle;\n",
       "    }\n",
       "\n",
       "    .dataframe tbody tr th {\n",
       "        vertical-align: top;\n",
       "    }\n",
       "\n",
       "    .dataframe thead th {\n",
       "        text-align: right;\n",
       "    }\n",
       "</style>\n",
       "<table border=\"1\" class=\"dataframe\">\n",
       "  <thead>\n",
       "    <tr style=\"text-align: right;\">\n",
       "      <th></th>\n",
       "      <th>Patient Id</th>\n",
       "      <th>Level</th>\n",
       "    </tr>\n",
       "  </thead>\n",
       "  <tbody>\n",
       "    <tr>\n",
       "      <th>count</th>\n",
       "      <td>1000</td>\n",
       "      <td>1000</td>\n",
       "    </tr>\n",
       "    <tr>\n",
       "      <th>unique</th>\n",
       "      <td>1000</td>\n",
       "      <td>3</td>\n",
       "    </tr>\n",
       "    <tr>\n",
       "      <th>top</th>\n",
       "      <td>P1</td>\n",
       "      <td>High</td>\n",
       "    </tr>\n",
       "    <tr>\n",
       "      <th>freq</th>\n",
       "      <td>1</td>\n",
       "      <td>365</td>\n",
       "    </tr>\n",
       "  </tbody>\n",
       "</table>\n",
       "</div>"
      ],
      "text/plain": [
       "       Patient Id Level\n",
       "count        1000  1000\n",
       "unique       1000     3\n",
       "top            P1  High\n",
       "freq            1   365"
      ]
     },
     "execution_count": 9,
     "metadata": {},
     "output_type": "execute_result"
    }
   ],
   "source": [
    "categorical_var = lung_cancer.dtypes[lung_cancer.dtypes == 'object'].index \n",
    "lung_cancer[categorical_var].describe() "
   ]
  },
  {
   "cell_type": "code",
   "execution_count": 10,
   "id": "aed25089",
   "metadata": {
    "execution": {
     "iopub.execute_input": "2025-03-06T07:46:12.606518Z",
     "iopub.status.busy": "2025-03-06T07:46:12.606138Z",
     "iopub.status.idle": "2025-03-06T07:46:12.614455Z",
     "shell.execute_reply": "2025-03-06T07:46:12.612850Z"
    },
    "papermill": {
     "duration": 0.017165,
     "end_time": "2025-03-06T07:46:12.616107",
     "exception": false,
     "start_time": "2025-03-06T07:46:12.598942",
     "status": "completed"
    },
    "tags": []
   },
   "outputs": [
    {
     "data": {
      "text/plain": [
       "index                       0\n",
       "Patient Id                  0\n",
       "Age                         0\n",
       "Gender                      0\n",
       "Air Pollution               0\n",
       "Alcohol use                 0\n",
       "Dust Allergy                0\n",
       "OccuPational Hazards        0\n",
       "Genetic Risk                0\n",
       "chronic Lung Disease        0\n",
       "Balanced Diet               0\n",
       "Obesity                     0\n",
       "Smoking                     0\n",
       "Passive Smoker              0\n",
       "Chest Pain                  0\n",
       "Coughing of Blood           0\n",
       "Fatigue                     0\n",
       "Weight Loss                 0\n",
       "Shortness of Breath         0\n",
       "Wheezing                    0\n",
       "Swallowing Difficulty       0\n",
       "Clubbing of Finger Nails    0\n",
       "Frequent Cold               0\n",
       "Dry Cough                   0\n",
       "Snoring                     0\n",
       "Level                       0\n",
       "dtype: int64"
      ]
     },
     "execution_count": 10,
     "metadata": {},
     "output_type": "execute_result"
    }
   ],
   "source": [
    "lung_cancer.isnull().sum() "
   ]
  },
  {
   "cell_type": "code",
   "execution_count": 11,
   "id": "2c663db5",
   "metadata": {
    "execution": {
     "iopub.execute_input": "2025-03-06T07:46:12.629866Z",
     "iopub.status.busy": "2025-03-06T07:46:12.629471Z",
     "iopub.status.idle": "2025-03-06T07:46:12.817859Z",
     "shell.execute_reply": "2025-03-06T07:46:12.816689Z"
    },
    "papermill": {
     "duration": 0.197548,
     "end_time": "2025-03-06T07:46:12.819965",
     "exception": false,
     "start_time": "2025-03-06T07:46:12.622417",
     "status": "completed"
    },
    "tags": []
   },
   "outputs": [],
   "source": [
    "# Encoding Label:  \n",
    "\n",
    "from sklearn.preprocessing import LabelEncoder\n",
    "\n",
    "label_encoder = LabelEncoder() \n",
    "\n",
    "categorical_columns = [\"Level\"] \n",
    "\n",
    "for column in categorical_columns: \n",
    "    lung_cancer[column] = label_encoder.fit_transform(lung_cancer[column])      \n",
    " "
   ]
  },
  {
   "cell_type": "markdown",
   "id": "e48efff4",
   "metadata": {
    "papermill": {
     "duration": 0.005947,
     "end_time": "2025-03-06T07:46:12.832450",
     "exception": false,
     "start_time": "2025-03-06T07:46:12.826503",
     "status": "completed"
    },
    "tags": []
   },
   "source": [
    "# Define Features & Target for Machine Learning Model"
   ]
  },
  {
   "cell_type": "code",
   "execution_count": 12,
   "id": "6040e0d9",
   "metadata": {
    "execution": {
     "iopub.execute_input": "2025-03-06T07:46:12.846003Z",
     "iopub.status.busy": "2025-03-06T07:46:12.845635Z",
     "iopub.status.idle": "2025-03-06T07:46:12.852999Z",
     "shell.execute_reply": "2025-03-06T07:46:12.851791Z"
    },
    "papermill": {
     "duration": 0.016301,
     "end_time": "2025-03-06T07:46:12.854841",
     "exception": false,
     "start_time": "2025-03-06T07:46:12.838540",
     "status": "completed"
    },
    "tags": []
   },
   "outputs": [],
   "source": [
    "X = lung_cancer.drop(['Level'], axis = 1) \n",
    "y = lung_cancer['Level'] "
   ]
  },
  {
   "cell_type": "markdown",
   "id": "5fe54291",
   "metadata": {
    "papermill": {
     "duration": 0.005723,
     "end_time": "2025-03-06T07:46:12.867086",
     "exception": false,
     "start_time": "2025-03-06T07:46:12.861363",
     "status": "completed"
    },
    "tags": []
   },
   "source": [
    "# Exploratory Data Analysis (EDA) "
   ]
  },
  {
   "cell_type": "code",
   "execution_count": 13,
   "id": "41dfa352",
   "metadata": {
    "execution": {
     "iopub.execute_input": "2025-03-06T07:46:12.880837Z",
     "iopub.status.busy": "2025-03-06T07:46:12.880470Z",
     "iopub.status.idle": "2025-03-06T07:46:12.889379Z",
     "shell.execute_reply": "2025-03-06T07:46:12.888359Z"
    },
    "papermill": {
     "duration": 0.017849,
     "end_time": "2025-03-06T07:46:12.891013",
     "exception": false,
     "start_time": "2025-03-06T07:46:12.873164",
     "status": "completed"
    },
    "tags": []
   },
   "outputs": [
    {
     "data": {
      "text/plain": [
       "Level\n",
       "0    365\n",
       "2    332\n",
       "1    303\n",
       "Name: count, dtype: int64"
      ]
     },
     "execution_count": 13,
     "metadata": {},
     "output_type": "execute_result"
    }
   ],
   "source": [
    "lung_cancer[\"Level\"].value_counts() "
   ]
  },
  {
   "cell_type": "code",
   "execution_count": 14,
   "id": "714eca0e",
   "metadata": {
    "execution": {
     "iopub.execute_input": "2025-03-06T07:46:12.905030Z",
     "iopub.status.busy": "2025-03-06T07:46:12.904665Z",
     "iopub.status.idle": "2025-03-06T07:46:13.216904Z",
     "shell.execute_reply": "2025-03-06T07:46:13.215754Z"
    },
    "papermill": {
     "duration": 0.321159,
     "end_time": "2025-03-06T07:46:13.218830",
     "exception": false,
     "start_time": "2025-03-06T07:46:12.897671",
     "status": "completed"
    },
    "tags": []
   },
   "outputs": [
    {
     "data": {
      "text/plain": [
       "<Axes: xlabel='Level', ylabel='Air Pollution'>"
      ]
     },
     "execution_count": 14,
     "metadata": {},
     "output_type": "execute_result"
    },
    {
     "data": {
      "image/png": "[encoded data removed]",
      "text/plain": [
       "<Figure size 640x480 with 1 Axes>"
      ]
     },
     "metadata": {},
     "output_type": "display_data"
    }
   ],
   "source": [
    "sns.barplot(x = \"Level\", y = \"Air Pollution\", data = lung_cancer )"
   ]
  },
  {
   "cell_type": "code",
   "execution_count": 15,
   "id": "bef9100f",
   "metadata": {
    "execution": {
     "iopub.execute_input": "2025-03-06T07:46:13.233441Z",
     "iopub.status.busy": "2025-03-06T07:46:13.233017Z",
     "iopub.status.idle": "2025-03-06T07:46:13.445943Z",
     "shell.execute_reply": "2025-03-06T07:46:13.444812Z"
    },
    "papermill": {
     "duration": 0.222115,
     "end_time": "2025-03-06T07:46:13.447769",
     "exception": false,
     "start_time": "2025-03-06T07:46:13.225654",
     "status": "completed"
    },
    "tags": []
   },
   "outputs": [
    {
     "data": {
      "text/plain": [
       "<Axes: xlabel='Level', ylabel='Smoking'>"
      ]
     },
     "execution_count": 15,
     "metadata": {},
     "output_type": "execute_result"
    },
    {
     "data": {
      "image/png": "[encoded data removed]",
      "text/plain": [
       "<Figure size 640x480 with 1 Axes>"
      ]
     },
     "metadata": {},
     "output_type": "display_data"
    }
   ],
   "source": [
    "sns.barplot(x = 'Level', y = 'Smoking', data = lung_cancer)"
   ]
  },
  {
   "cell_type": "markdown",
   "id": "85c51bd0",
   "metadata": {
    "papermill": {
     "duration": 0.006546,
     "end_time": "2025-03-06T07:46:13.461448",
     "exception": false,
     "start_time": "2025-03-06T07:46:13.454902",
     "status": "completed"
    },
    "tags": []
   },
   "source": [
    "# Correlation Heatmap "
   ]
  },
  {
   "cell_type": "code",
   "execution_count": null,
   "id": "7ed7b65b",
   "metadata": {
    "papermill": {
     "duration": 0.006335,
     "end_time": "2025-03-06T07:46:13.475175",
     "exception": false,
     "start_time": "2025-03-06T07:46:13.468840",
     "status": "completed"
    },
    "tags": []
   },
   "outputs": [],
   "source": []
  }
 ],
 "metadata": {
  "kaggle": {
   "accelerator": "none",
   "dataSources": [
    {
     "datasetId": 6794121,
     "sourceId": 10927579,
     "sourceType": "datasetVersion"
    }
   ],
   "dockerImageVersionId": 30918,
   "isGpuEnabled": false,
   "isInternetEnabled": true,
   "language": "python",
   "sourceType": "notebook"
  },
  "kernelspec": {
   "display_name": "Python 3",
   "language": "python",
   "name": "python3"
  },
  "language_info": {
   "codemirror_mode": {
    "name": "ipython",
    "version": 3
   },
   "file_extension": ".py",
   "mimetype": "text/x-python",
   "name": "python",
   "nbconvert_exporter": "python",
   "pygments_lexer": "ipython3",
   "version": "3.10.12"
  },
  "papermill": {
   "default_parameters": {},
   "duration": 7.633103,
   "end_time": "2025-03-06T07:46:14.204781",
   "environment_variables": {},
   "exception": null,
   "input_path": "__notebook__.ipynb",
   "output_path": "__notebook__.ipynb",
   "parameters": {},
   "start_time": "2025-03-06T07:46:06.571678",
   "version": "2.6.0"
  }
 },
 "nbformat": 4,
 "nbformat_minor": 5
}
