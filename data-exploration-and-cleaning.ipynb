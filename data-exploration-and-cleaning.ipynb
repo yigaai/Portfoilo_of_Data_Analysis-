{
 "cells": [
  {
   "cell_type": "code",
   "execution_count": 1,
   "id": "ee43716b",
   "metadata": {
    "execution": {
     "iopub.execute_input": "2025-02-28T09:32:22.085803Z",
     "iopub.status.busy": "2025-02-28T09:32:22.085393Z",
     "iopub.status.idle": "2025-02-28T09:32:22.900179Z",
     "shell.execute_reply": "2025-02-28T09:32:22.899328Z"
    },
    "papermill": {
     "duration": 0.831252,
     "end_time": "2025-02-28T09:32:22.902052",
     "exception": false,
     "start_time": "2025-02-28T09:32:22.070800",
     "status": "completed"
    },
    "tags": []
   },
   "outputs": [],
   "source": [
    "import numpy as np \n",
    "import pandas as pd \n",
    "import os"
   ]
  },
  {
   "cell_type": "code",
   "execution_count": 2,
   "id": "eac44d90",
   "metadata": {
    "execution": {
     "iopub.execute_input": "2025-02-28T09:32:22.928066Z",
     "iopub.status.busy": "2025-02-28T09:32:22.927546Z",
     "iopub.status.idle": "2025-02-28T09:32:22.934353Z",
     "shell.execute_reply": "2025-02-28T09:32:22.933045Z"
    },
    "papermill": {
     "duration": 0.020896,
     "end_time": "2025-02-28T09:32:22.935786",
     "exception": false,
     "start_time": "2025-02-28T09:32:22.914890",
     "status": "completed"
    },
    "tags": []
   },
   "outputs": [
    {
     "data": {
      "text/plain": [
       "'/kaggle/working'"
      ]
     },
     "execution_count": 2,
     "metadata": {},
     "output_type": "execute_result"
    }
   ],
   "source": [
    "# Check the work directory:  \n",
    "\n",
    "os.getcwd()"
   ]
  },
  {
   "cell_type": "code",
   "execution_count": 3,
   "id": "4f2b33aa",
   "metadata": {
    "execution": {
     "iopub.execute_input": "2025-02-28T09:32:22.961165Z",
     "iopub.status.busy": "2025-02-28T09:32:22.960845Z",
     "iopub.status.idle": "2025-02-28T09:32:22.966104Z",
     "shell.execute_reply": "2025-02-28T09:32:22.965172Z"
    },
    "papermill": {
     "duration": 0.019843,
     "end_time": "2025-02-28T09:32:22.967696",
     "exception": false,
     "start_time": "2025-02-28T09:32:22.947853",
     "status": "completed"
    },
    "tags": []
   },
   "outputs": [
    {
     "data": {
      "text/plain": [
       "'/kaggle'"
      ]
     },
     "execution_count": 3,
     "metadata": {},
     "output_type": "execute_result"
    }
   ],
   "source": [
    "# Change the work directory and Back to Kaggle:  \n",
    "\n",
    "os.chdir('/kaggle/') \n",
    "os.getcwd() "
   ]
  },
  {
   "cell_type": "code",
   "execution_count": 4,
   "id": "0b31ac4b",
   "metadata": {
    "execution": {
     "iopub.execute_input": "2025-02-28T09:32:22.994016Z",
     "iopub.status.busy": "2025-02-28T09:32:22.993626Z",
     "iopub.status.idle": "2025-02-28T09:32:23.004969Z",
     "shell.execute_reply": "2025-02-28T09:32:23.004044Z"
    },
    "papermill": {
     "duration": 0.026299,
     "end_time": "2025-02-28T09:32:23.006601",
     "exception": false,
     "start_time": "2025-02-28T09:32:22.980302",
     "status": "completed"
    },
    "tags": []
   },
   "outputs": [
    {
     "data": {
      "text/plain": [
       "['train.csv', 'test.csv', 'gender_submission.csv']"
      ]
     },
     "execution_count": 4,
     "metadata": {},
     "output_type": "execute_result"
    }
   ],
   "source": [
    "# Pass the file path to list all of the objects: \n",
    "\n",
    "os.listdir('/kaggle') \n",
    "\n",
    "# To see what is in the input:\n",
    "\n",
    "os.listdir('/kaggle/input')  \n",
    "\n",
    "os.listdir('/kaggle/input/titanic-dataset-1')  "
   ]
  },
  {
   "cell_type": "code",
   "execution_count": 5,
   "id": "0506f26e",
   "metadata": {
    "execution": {
     "iopub.execute_input": "2025-02-28T09:32:23.032819Z",
     "iopub.status.busy": "2025-02-28T09:32:23.032477Z",
     "iopub.status.idle": "2025-02-28T09:32:23.055806Z",
     "shell.execute_reply": "2025-02-28T09:32:23.055027Z"
    },
    "papermill": {
     "duration": 0.038516,
     "end_time": "2025-02-28T09:32:23.057481",
     "exception": false,
     "start_time": "2025-02-28T09:32:23.018965",
     "status": "completed"
    },
    "tags": []
   },
   "outputs": [],
   "source": [
    "# Read the file path:  \n",
    "\n",
    "titanic_train = pd.read_csv('input/titanic-dataset-1/train.csv') "
   ]
  },
  {
   "cell_type": "code",
   "execution_count": 6,
   "id": "f1723845",
   "metadata": {
    "execution": {
     "iopub.execute_input": "2025-02-28T09:32:23.084819Z",
     "iopub.status.busy": "2025-02-28T09:32:23.084505Z",
     "iopub.status.idle": "2025-02-28T09:32:23.089365Z",
     "shell.execute_reply": "2025-02-28T09:32:23.088463Z"
    },
    "papermill": {
     "duration": 0.020896,
     "end_time": "2025-02-28T09:32:23.090973",
     "exception": false,
     "start_time": "2025-02-28T09:32:23.070077",
     "status": "completed"
    },
    "tags": []
   },
   "outputs": [
    {
     "data": {
      "text/plain": [
       "(891, 12)"
      ]
     },
     "execution_count": 6,
     "metadata": {},
     "output_type": "execute_result"
    }
   ],
   "source": [
    "# Start off by checking the dimensions of dataset \n",
    "# and the variable data types:  \n",
    "\n",
    "titanic_train.shape "
   ]
  },
  {
   "cell_type": "code",
   "execution_count": 7,
   "id": "7560fbc1",
   "metadata": {
    "execution": {
     "iopub.execute_input": "2025-02-28T09:32:23.117147Z",
     "iopub.status.busy": "2025-02-28T09:32:23.116765Z",
     "iopub.status.idle": "2025-02-28T09:32:23.127778Z",
     "shell.execute_reply": "2025-02-28T09:32:23.126774Z"
    },
    "papermill": {
     "duration": 0.026175,
     "end_time": "2025-02-28T09:32:23.129657",
     "exception": false,
     "start_time": "2025-02-28T09:32:23.103482",
     "status": "completed"
    },
    "tags": []
   },
   "outputs": [
    {
     "data": {
      "text/plain": [
       "PassengerId      int64\n",
       "Survived         int64\n",
       "Pclass           int64\n",
       "Name            object\n",
       "Sex             object\n",
       "Age            float64\n",
       "SibSp            int64\n",
       "Parch            int64\n",
       "Ticket          object\n",
       "Fare           float64\n",
       "Cabin           object\n",
       "Embarked        object\n",
       "dtype: object"
      ]
     },
     "execution_count": 7,
     "metadata": {},
     "output_type": "execute_result"
    }
   ],
   "source": [
    "titanic_train.dtypes "
   ]
  },
  {
   "cell_type": "code",
   "execution_count": 8,
   "id": "5a7b8131",
   "metadata": {
    "execution": {
     "iopub.execute_input": "2025-02-28T09:32:23.156994Z",
     "iopub.status.busy": "2025-02-28T09:32:23.156645Z",
     "iopub.status.idle": "2025-02-28T09:32:23.181762Z",
     "shell.execute_reply": "2025-02-28T09:32:23.180555Z"
    },
    "papermill": {
     "duration": 0.040491,
     "end_time": "2025-02-28T09:32:23.183397",
     "exception": false,
     "start_time": "2025-02-28T09:32:23.142906",
     "status": "completed"
    },
    "tags": []
   },
   "outputs": [
    {
     "name": "stdout",
     "output_type": "stream",
     "text": [
      "<class 'pandas.core.frame.DataFrame'>\n",
      "RangeIndex: 891 entries, 0 to 890\n",
      "Data columns (total 12 columns):\n",
      " #   Column       Non-Null Count  Dtype  \n",
      "---  ------       --------------  -----  \n",
      " 0   PassengerId  891 non-null    int64  \n",
      " 1   Survived     891 non-null    int64  \n",
      " 2   Pclass       891 non-null    int64  \n",
      " 3   Name         891 non-null    object \n",
      " 4   Sex          891 non-null    object \n",
      " 5   Age          714 non-null    float64\n",
      " 6   SibSp        891 non-null    int64  \n",
      " 7   Parch        891 non-null    int64  \n",
      " 8   Ticket       891 non-null    object \n",
      " 9   Fare         891 non-null    float64\n",
      " 10  Cabin        204 non-null    object \n",
      " 11  Embarked     889 non-null    object \n",
      "dtypes: float64(2), int64(5), object(5)\n",
      "memory usage: 83.7+ KB\n"
     ]
    }
   ],
   "source": [
    "# Check the info of the dataset:  \n",
    "\n",
    "titanic_train.info() "
   ]
  },
  {
   "cell_type": "code",
   "execution_count": 9,
   "id": "d0ee4e7e",
   "metadata": {
    "execution": {
     "iopub.execute_input": "2025-02-28T09:32:23.210461Z",
     "iopub.status.busy": "2025-02-28T09:32:23.210095Z",
     "iopub.status.idle": "2025-02-28T09:32:23.235355Z",
     "shell.execute_reply": "2025-02-28T09:32:23.234249Z"
    },
    "papermill": {
     "duration": 0.040997,
     "end_time": "2025-02-28T09:32:23.237131",
     "exception": false,
     "start_time": "2025-02-28T09:32:23.196134",
     "status": "completed"
    },
    "tags": []
   },
   "outputs": [
    {
     "data": {
      "text/html": [
       "<div>\n",
       "<style scoped>\n",
       "    .dataframe tbody tr th:only-of-type {\n",
       "        vertical-align: middle;\n",
       "    }\n",
       "\n",
       "    .dataframe tbody tr th {\n",
       "        vertical-align: top;\n",
       "    }\n",
       "\n",
       "    .dataframe thead th {\n",
       "        text-align: right;\n",
       "    }\n",
       "</style>\n",
       "<table border=\"1\" class=\"dataframe\">\n",
       "  <thead>\n",
       "    <tr style=\"text-align: right;\">\n",
       "      <th></th>\n",
       "      <th>PassengerId</th>\n",
       "      <th>Survived</th>\n",
       "      <th>Pclass</th>\n",
       "      <th>Name</th>\n",
       "      <th>Sex</th>\n",
       "      <th>Age</th>\n",
       "      <th>SibSp</th>\n",
       "      <th>Parch</th>\n",
       "      <th>Ticket</th>\n",
       "      <th>Fare</th>\n",
       "      <th>Cabin</th>\n",
       "      <th>Embarked</th>\n",
       "    </tr>\n",
       "  </thead>\n",
       "  <tbody>\n",
       "    <tr>\n",
       "      <th>0</th>\n",
       "      <td>1</td>\n",
       "      <td>0</td>\n",
       "      <td>3</td>\n",
       "      <td>Braund, Mr. Owen Harris</td>\n",
       "      <td>male</td>\n",
       "      <td>22.0</td>\n",
       "      <td>1</td>\n",
       "      <td>0</td>\n",
       "      <td>A/5 21171</td>\n",
       "      <td>7.2500</td>\n",
       "      <td>NaN</td>\n",
       "      <td>S</td>\n",
       "    </tr>\n",
       "    <tr>\n",
       "      <th>1</th>\n",
       "      <td>2</td>\n",
       "      <td>1</td>\n",
       "      <td>1</td>\n",
       "      <td>Cumings, Mrs. John Bradley (Florence Briggs Th...</td>\n",
       "      <td>female</td>\n",
       "      <td>38.0</td>\n",
       "      <td>1</td>\n",
       "      <td>0</td>\n",
       "      <td>PC 17599</td>\n",
       "      <td>71.2833</td>\n",
       "      <td>C85</td>\n",
       "      <td>C</td>\n",
       "    </tr>\n",
       "    <tr>\n",
       "      <th>2</th>\n",
       "      <td>3</td>\n",
       "      <td>1</td>\n",
       "      <td>3</td>\n",
       "      <td>Heikkinen, Miss. Laina</td>\n",
       "      <td>female</td>\n",
       "      <td>26.0</td>\n",
       "      <td>0</td>\n",
       "      <td>0</td>\n",
       "      <td>STON/O2. 3101282</td>\n",
       "      <td>7.9250</td>\n",
       "      <td>NaN</td>\n",
       "      <td>S</td>\n",
       "    </tr>\n",
       "    <tr>\n",
       "      <th>3</th>\n",
       "      <td>4</td>\n",
       "      <td>1</td>\n",
       "      <td>1</td>\n",
       "      <td>Futrelle, Mrs. Jacques Heath (Lily May Peel)</td>\n",
       "      <td>female</td>\n",
       "      <td>35.0</td>\n",
       "      <td>1</td>\n",
       "      <td>0</td>\n",
       "      <td>113803</td>\n",
       "      <td>53.1000</td>\n",
       "      <td>C123</td>\n",
       "      <td>S</td>\n",
       "    </tr>\n",
       "    <tr>\n",
       "      <th>4</th>\n",
       "      <td>5</td>\n",
       "      <td>0</td>\n",
       "      <td>3</td>\n",
       "      <td>Allen, Mr. William Henry</td>\n",
       "      <td>male</td>\n",
       "      <td>35.0</td>\n",
       "      <td>0</td>\n",
       "      <td>0</td>\n",
       "      <td>373450</td>\n",
       "      <td>8.0500</td>\n",
       "      <td>NaN</td>\n",
       "      <td>S</td>\n",
       "    </tr>\n",
       "  </tbody>\n",
       "</table>\n",
       "</div>"
      ],
      "text/plain": [
       "   PassengerId  Survived  Pclass  \\\n",
       "0            1         0       3   \n",
       "1            2         1       1   \n",
       "2            3         1       3   \n",
       "3            4         1       1   \n",
       "4            5         0       3   \n",
       "\n",
       "                                                Name     Sex   Age  SibSp  \\\n",
       "0                            Braund, Mr. Owen Harris    male  22.0      1   \n",
       "1  Cumings, Mrs. John Bradley (Florence Briggs Th...  female  38.0      1   \n",
       "2                             Heikkinen, Miss. Laina  female  26.0      0   \n",
       "3       Futrelle, Mrs. Jacques Heath (Lily May Peel)  female  35.0      1   \n",
       "4                           Allen, Mr. William Henry    male  35.0      0   \n",
       "\n",
       "   Parch            Ticket     Fare Cabin Embarked  \n",
       "0      0         A/5 21171   7.2500   NaN        S  \n",
       "1      0          PC 17599  71.2833   C85        C  \n",
       "2      0  STON/O2. 3101282   7.9250   NaN        S  \n",
       "3      0            113803  53.1000  C123        S  \n",
       "4      0            373450   8.0500   NaN        S  "
      ]
     },
     "execution_count": 9,
     "metadata": {},
     "output_type": "execute_result"
    }
   ],
   "source": [
    "# Check the first 5 rows: a mixture of numeric columns and columns with text data.  \n",
    "\n",
    "titanic_train.head(5)  "
   ]
  },
  {
   "cell_type": "code",
   "execution_count": 10,
   "id": "8fb632cd",
   "metadata": {
    "execution": {
     "iopub.execute_input": "2025-02-28T09:32:23.264486Z",
     "iopub.status.busy": "2025-02-28T09:32:23.264163Z",
     "iopub.status.idle": "2025-02-28T09:32:23.290027Z",
     "shell.execute_reply": "2025-02-28T09:32:23.289056Z"
    },
    "papermill": {
     "duration": 0.041616,
     "end_time": "2025-02-28T09:32:23.291665",
     "exception": false,
     "start_time": "2025-02-28T09:32:23.250049",
     "status": "completed"
    },
    "tags": []
   },
   "outputs": [
    {
     "data": {
      "text/html": [
       "<div>\n",
       "<style scoped>\n",
       "    .dataframe tbody tr th:only-of-type {\n",
       "        vertical-align: middle;\n",
       "    }\n",
       "\n",
       "    .dataframe tbody tr th {\n",
       "        vertical-align: top;\n",
       "    }\n",
       "\n",
       "    .dataframe thead th {\n",
       "        text-align: right;\n",
       "    }\n",
       "</style>\n",
       "<table border=\"1\" class=\"dataframe\">\n",
       "  <thead>\n",
       "    <tr style=\"text-align: right;\">\n",
       "      <th></th>\n",
       "      <th>PassengerId</th>\n",
       "      <th>Survived</th>\n",
       "      <th>Pclass</th>\n",
       "      <th>Age</th>\n",
       "      <th>SibSp</th>\n",
       "      <th>Parch</th>\n",
       "      <th>Fare</th>\n",
       "    </tr>\n",
       "  </thead>\n",
       "  <tbody>\n",
       "    <tr>\n",
       "      <th>count</th>\n",
       "      <td>891.000000</td>\n",
       "      <td>891.000000</td>\n",
       "      <td>891.000000</td>\n",
       "      <td>714.000000</td>\n",
       "      <td>891.000000</td>\n",
       "      <td>891.000000</td>\n",
       "      <td>891.000000</td>\n",
       "    </tr>\n",
       "    <tr>\n",
       "      <th>mean</th>\n",
       "      <td>446.000000</td>\n",
       "      <td>0.383838</td>\n",
       "      <td>2.308642</td>\n",
       "      <td>29.699118</td>\n",
       "      <td>0.523008</td>\n",
       "      <td>0.381594</td>\n",
       "      <td>32.204208</td>\n",
       "    </tr>\n",
       "    <tr>\n",
       "      <th>std</th>\n",
       "      <td>257.353842</td>\n",
       "      <td>0.486592</td>\n",
       "      <td>0.836071</td>\n",
       "      <td>14.526497</td>\n",
       "      <td>1.102743</td>\n",
       "      <td>0.806057</td>\n",
       "      <td>49.693429</td>\n",
       "    </tr>\n",
       "    <tr>\n",
       "      <th>min</th>\n",
       "      <td>1.000000</td>\n",
       "      <td>0.000000</td>\n",
       "      <td>1.000000</td>\n",
       "      <td>0.420000</td>\n",
       "      <td>0.000000</td>\n",
       "      <td>0.000000</td>\n",
       "      <td>0.000000</td>\n",
       "    </tr>\n",
       "    <tr>\n",
       "      <th>25%</th>\n",
       "      <td>223.500000</td>\n",
       "      <td>0.000000</td>\n",
       "      <td>2.000000</td>\n",
       "      <td>20.125000</td>\n",
       "      <td>0.000000</td>\n",
       "      <td>0.000000</td>\n",
       "      <td>7.910400</td>\n",
       "    </tr>\n",
       "    <tr>\n",
       "      <th>50%</th>\n",
       "      <td>446.000000</td>\n",
       "      <td>0.000000</td>\n",
       "      <td>3.000000</td>\n",
       "      <td>28.000000</td>\n",
       "      <td>0.000000</td>\n",
       "      <td>0.000000</td>\n",
       "      <td>14.454200</td>\n",
       "    </tr>\n",
       "    <tr>\n",
       "      <th>75%</th>\n",
       "      <td>668.500000</td>\n",
       "      <td>1.000000</td>\n",
       "      <td>3.000000</td>\n",
       "      <td>38.000000</td>\n",
       "      <td>1.000000</td>\n",
       "      <td>0.000000</td>\n",
       "      <td>31.000000</td>\n",
       "    </tr>\n",
       "    <tr>\n",
       "      <th>max</th>\n",
       "      <td>891.000000</td>\n",
       "      <td>1.000000</td>\n",
       "      <td>3.000000</td>\n",
       "      <td>80.000000</td>\n",
       "      <td>8.000000</td>\n",
       "      <td>6.000000</td>\n",
       "      <td>512.329200</td>\n",
       "    </tr>\n",
       "  </tbody>\n",
       "</table>\n",
       "</div>"
      ],
      "text/plain": [
       "       PassengerId    Survived      Pclass         Age       SibSp  \\\n",
       "count   891.000000  891.000000  891.000000  714.000000  891.000000   \n",
       "mean    446.000000    0.383838    2.308642   29.699118    0.523008   \n",
       "std     257.353842    0.486592    0.836071   14.526497    1.102743   \n",
       "min       1.000000    0.000000    1.000000    0.420000    0.000000   \n",
       "25%     223.500000    0.000000    2.000000   20.125000    0.000000   \n",
       "50%     446.000000    0.000000    3.000000   28.000000    0.000000   \n",
       "75%     668.500000    1.000000    3.000000   38.000000    1.000000   \n",
       "max     891.000000    1.000000    3.000000   80.000000    8.000000   \n",
       "\n",
       "            Parch        Fare  \n",
       "count  891.000000  891.000000  \n",
       "mean     0.381594   32.204208  \n",
       "std      0.806057   49.693429  \n",
       "min      0.000000    0.000000  \n",
       "25%      0.000000    7.910400  \n",
       "50%      0.000000   14.454200  \n",
       "75%      0.000000   31.000000  \n",
       "max      6.000000  512.329200  "
      ]
     },
     "execution_count": 10,
     "metadata": {},
     "output_type": "execute_result"
    }
   ],
   "source": [
    "# A statistical summary of the variables\n",
    "\n",
    "titanic_train.describe()  \n",
    "\n",
    "\n",
    "# Note: describe() function can not summarize categorical columns\n",
    " "
   ]
  },
  {
   "cell_type": "markdown",
   "id": "02641f36",
   "metadata": {
    "papermill": {
     "duration": 0.012891,
     "end_time": "2025-02-28T09:32:23.317736",
     "exception": false,
     "start_time": "2025-02-28T09:32:23.304845",
     "status": "completed"
    },
    "tags": []
   },
   "source": [
    "# Describe the categorical variables"
   ]
  },
  {
   "cell_type": "code",
   "execution_count": 11,
   "id": "547db92f",
   "metadata": {
    "execution": {
     "iopub.execute_input": "2025-02-28T09:32:23.345312Z",
     "iopub.status.busy": "2025-02-28T09:32:23.344956Z",
     "iopub.status.idle": "2025-02-28T09:32:23.363802Z",
     "shell.execute_reply": "2025-02-28T09:32:23.362915Z"
    },
    "papermill": {
     "duration": 0.034755,
     "end_time": "2025-02-28T09:32:23.365380",
     "exception": false,
     "start_time": "2025-02-28T09:32:23.330625",
     "status": "completed"
    },
    "tags": []
   },
   "outputs": [
    {
     "data": {
      "text/html": [
       "<div>\n",
       "<style scoped>\n",
       "    .dataframe tbody tr th:only-of-type {\n",
       "        vertical-align: middle;\n",
       "    }\n",
       "\n",
       "    .dataframe tbody tr th {\n",
       "        vertical-align: top;\n",
       "    }\n",
       "\n",
       "    .dataframe thead th {\n",
       "        text-align: right;\n",
       "    }\n",
       "</style>\n",
       "<table border=\"1\" class=\"dataframe\">\n",
       "  <thead>\n",
       "    <tr style=\"text-align: right;\">\n",
       "      <th></th>\n",
       "      <th>Name</th>\n",
       "      <th>Sex</th>\n",
       "      <th>Ticket</th>\n",
       "      <th>Cabin</th>\n",
       "      <th>Embarked</th>\n",
       "    </tr>\n",
       "  </thead>\n",
       "  <tbody>\n",
       "    <tr>\n",
       "      <th>count</th>\n",
       "      <td>891</td>\n",
       "      <td>891</td>\n",
       "      <td>891</td>\n",
       "      <td>204</td>\n",
       "      <td>889</td>\n",
       "    </tr>\n",
       "    <tr>\n",
       "      <th>unique</th>\n",
       "      <td>891</td>\n",
       "      <td>2</td>\n",
       "      <td>681</td>\n",
       "      <td>147</td>\n",
       "      <td>3</td>\n",
       "    </tr>\n",
       "    <tr>\n",
       "      <th>top</th>\n",
       "      <td>Braund, Mr. Owen Harris</td>\n",
       "      <td>male</td>\n",
       "      <td>347082</td>\n",
       "      <td>B96 B98</td>\n",
       "      <td>S</td>\n",
       "    </tr>\n",
       "    <tr>\n",
       "      <th>freq</th>\n",
       "      <td>1</td>\n",
       "      <td>577</td>\n",
       "      <td>7</td>\n",
       "      <td>4</td>\n",
       "      <td>644</td>\n",
       "    </tr>\n",
       "  </tbody>\n",
       "</table>\n",
       "</div>"
      ],
      "text/plain": [
       "                           Name   Sex  Ticket    Cabin Embarked\n",
       "count                       891   891     891      204      889\n",
       "unique                      891     2     681      147        3\n",
       "top     Braund, Mr. Owen Harris  male  347082  B96 B98        S\n",
       "freq                          1   577       7        4      644"
      ]
     },
     "execution_count": 11,
     "metadata": {},
     "output_type": "execute_result"
    }
   ],
   "source": [
    "# make a list of categorical columns \n",
    "\n",
    "# step1: find the cols where dtype is an object  \n",
    "# code: titanic_train.dtypes == 'object' \n",
    "\n",
    "# step2: take the index of those cols: \n",
    "categorical = titanic_train.dtypes[titanic_train.dtypes == 'object'].index \n",
    "\n",
    "\n",
    "# use 'categorical' to index back into titanic_train \n",
    "# rerun the describe():   \n",
    "titanic_train[categorical].describe()  \n",
    " "
   ]
  },
  {
   "cell_type": "code",
   "execution_count": 12,
   "id": "69ec2575",
   "metadata": {
    "execution": {
     "iopub.execute_input": "2025-02-28T09:32:23.392646Z",
     "iopub.status.busy": "2025-02-28T09:32:23.392355Z",
     "iopub.status.idle": "2025-02-28T09:32:23.395841Z",
     "shell.execute_reply": "2025-02-28T09:32:23.395044Z"
    },
    "papermill": {
     "duration": 0.018799,
     "end_time": "2025-02-28T09:32:23.397430",
     "exception": false,
     "start_time": "2025-02-28T09:32:23.378631",
     "status": "completed"
    },
    "tags": []
   },
   "outputs": [],
   "source": [
    "# VARIABLE DESCRIPTIONS:\n",
    "# survival        Survival\n",
    "#                 (0 = No; 1 = Yes)\n",
    "# pclass          Passenger Class\n",
    "#                 (1 = 1st; 2 = 2nd; 3 = 3rd)\n",
    "# name            Name\n",
    "# sex             Sex\n",
    "# age             Age\n",
    "# sibsp           Number of Siblings/Spouses Aboard\n",
    "# parch           Number of Parents/Children Aboard\n",
    "# ticket          Ticket Number\n",
    "# fare            Passenger Fare\n",
    "# cabin           Cabin\n",
    "# embarked        Port of Embarkation\n",
    "#                 (C = Cherbourg; Q = Queenstown; S = Southampton) "
   ]
  },
  {
   "cell_type": "markdown",
   "id": "3e8fa476",
   "metadata": {
    "execution": {
     "iopub.execute_input": "2025-02-25T07:47:08.004654Z",
     "iopub.status.busy": "2025-02-25T07:47:08.004292Z",
     "iopub.status.idle": "2025-02-25T07:47:08.024467Z",
     "shell.execute_reply": "2025-02-25T07:47:08.023367Z",
     "shell.execute_reply.started": "2025-02-25T07:47:08.004618Z"
    },
    "papermill": {
     "duration": 0.013125,
     "end_time": "2025-02-28T09:32:23.423940",
     "exception": false,
     "start_time": "2025-02-28T09:32:23.410815",
     "status": "completed"
    },
    "tags": []
   },
   "source": [
    "After looking at the var for the first time, you should ask yourself a few questions, and solve these questions later: \n",
    "\n",
    "\n",
    "**1. Do I need all of the variables?**\n",
    "\n",
    "**2. Should I transform any variables?**\n",
    "\n",
    "**3. Are there NA values, outliers or other strange values?**\n",
    "\n",
    "**4. Should I create new variables?**\n"
   ]
  },
  {
   "cell_type": "markdown",
   "id": "a76ec5f9",
   "metadata": {
    "papermill": {
     "duration": 0.013255,
     "end_time": "2025-02-28T09:32:23.450356",
     "exception": false,
     "start_time": "2025-02-28T09:32:23.437101",
     "status": "completed"
    },
    "tags": []
   },
   "source": [
    "This data set is provided in conjunction with **a predictive modeling competition where the goal is to use the training data to predict whether passengers of the titanic listed in a second data set survived or not**. We won't be dealing with the second data set (known the test set) right now, but we will revisit this competition and make predictions in a future lesson on predictive modeling. "
   ]
  },
  {
   "cell_type": "markdown",
   "id": "88098761",
   "metadata": {
    "papermill": {
     "duration": 0.012897,
     "end_time": "2025-02-28T09:32:23.476959",
     "exception": false,
     "start_time": "2025-02-28T09:32:23.464062",
     "status": "completed"
    },
    "tags": []
   },
   "source": [
    "# Do I need all of the variables? "
   ]
  },
  {
   "cell_type": "code",
   "execution_count": 13,
   "id": "61957435",
   "metadata": {
    "execution": {
     "iopub.execute_input": "2025-02-28T09:32:23.505437Z",
     "iopub.status.busy": "2025-02-28T09:32:23.505108Z",
     "iopub.status.idle": "2025-02-28T09:32:23.508700Z",
     "shell.execute_reply": "2025-02-28T09:32:23.507905Z"
    },
    "papermill": {
     "duration": 0.019388,
     "end_time": "2025-02-28T09:32:23.510286",
     "exception": false,
     "start_time": "2025-02-28T09:32:23.490898",
     "status": "completed"
    },
    "tags": []
   },
   "outputs": [],
   "source": [
    "# DATA CLEANING "
   ]
  },
  {
   "cell_type": "code",
   "execution_count": 14,
   "id": "aa97b2f9",
   "metadata": {
    "execution": {
     "iopub.execute_input": "2025-02-28T09:32:23.538194Z",
     "iopub.status.busy": "2025-02-28T09:32:23.537852Z",
     "iopub.status.idle": "2025-02-28T09:32:23.547162Z",
     "shell.execute_reply": "2025-02-28T09:32:23.546056Z"
    },
    "papermill": {
     "duration": 0.024863,
     "end_time": "2025-02-28T09:32:23.548720",
     "exception": false,
     "start_time": "2025-02-28T09:32:23.523857",
     "status": "completed"
    },
    "tags": []
   },
   "outputs": [
    {
     "name": "stdout",
     "output_type": "stream",
     "text": [
      "<class 'pandas.core.frame.DataFrame'>\n",
      "RangeIndex: 891 entries, 0 to 890\n",
      "Data columns (total 12 columns):\n",
      " #   Column       Non-Null Count  Dtype  \n",
      "---  ------       --------------  -----  \n",
      " 0   PassengerId  891 non-null    int64  \n",
      " 1   Survived     891 non-null    int64  \n",
      " 2   Pclass       891 non-null    int64  \n",
      " 3   Name         891 non-null    object \n",
      " 4   Sex          891 non-null    object \n",
      " 5   Age          714 non-null    float64\n",
      " 6   SibSp        891 non-null    int64  \n",
      " 7   Parch        891 non-null    int64  \n",
      " 8   Ticket       891 non-null    object \n",
      " 9   Fare         891 non-null    float64\n",
      " 10  Cabin        204 non-null    object \n",
      " 11  Embarked     889 non-null    object \n",
      "dtypes: float64(2), int64(5), object(5)\n",
      "memory usage: 83.7+ KB\n"
     ]
    }
   ],
   "source": [
    "titanic_train.info()"
   ]
  },
  {
   "cell_type": "code",
   "execution_count": 15,
   "id": "4daf0fc9",
   "metadata": {
    "execution": {
     "iopub.execute_input": "2025-02-28T09:32:23.576053Z",
     "iopub.status.busy": "2025-02-28T09:32:23.575708Z",
     "iopub.status.idle": "2025-02-28T09:32:23.580069Z",
     "shell.execute_reply": "2025-02-28T09:32:23.579087Z"
    },
    "papermill": {
     "duration": 0.019842,
     "end_time": "2025-02-28T09:32:23.581608",
     "exception": false,
     "start_time": "2025-02-28T09:32:23.561766",
     "status": "completed"
    },
    "tags": []
   },
   "outputs": [],
   "source": [
    "# \"PassengerId\" is just a number assigned to each passenger. \n",
    "# It is nothing more than an arbitrary identifier;\n",
    "# Let's remove it anyway.   \n",
    "\n",
    "del titanic_train['PassengerId'] \n"
   ]
  },
  {
   "cell_type": "markdown",
   "id": "85a9bb89",
   "metadata": {
    "papermill": {
     "duration": 0.012761,
     "end_time": "2025-02-28T09:32:23.607304",
     "exception": false,
     "start_time": "2025-02-28T09:32:23.594543",
     "status": "completed"
    },
    "tags": []
   },
   "source": [
    "1. \"Survived\" indicates whether each passenger lived or died. \n",
    "Since predicting survival is our goal, we definitely need to keep it.\n",
    "\n",
    "2. Features that **describe passengers numerically** or **group them into a few broad categories** could be useful for predicting survival.\n",
    "\n",
    "   \n",
    "3. The variables **Pclass, Sex, Age, SibSp, Parch, Fare, and Embarked** appear to fit this description, so let's keep all of them. \n",
    "\n"
   ]
  },
  {
   "cell_type": "code",
   "execution_count": 16,
   "id": "8e743257",
   "metadata": {
    "execution": {
     "iopub.execute_input": "2025-02-28T09:32:23.634794Z",
     "iopub.status.busy": "2025-02-28T09:32:23.634430Z",
     "iopub.status.idle": "2025-02-28T09:32:23.638183Z",
     "shell.execute_reply": "2025-02-28T09:32:23.637368Z"
    },
    "papermill": {
     "duration": 0.019248,
     "end_time": "2025-02-28T09:32:23.639660",
     "exception": false,
     "start_time": "2025-02-28T09:32:23.620412",
     "status": "completed"
    },
    "tags": []
   },
   "outputs": [],
   "source": [
    "# \"Name\" appears to be a character string of the name of each passenger. "
   ]
  },
  {
   "cell_type": "code",
   "execution_count": 17,
   "id": "4e672c5b",
   "metadata": {
    "execution": {
     "iopub.execute_input": "2025-02-28T09:32:23.667194Z",
     "iopub.status.busy": "2025-02-28T09:32:23.666845Z",
     "iopub.status.idle": "2025-02-28T09:32:23.672503Z",
     "shell.execute_reply": "2025-02-28T09:32:23.671579Z"
    },
    "papermill": {
     "duration": 0.020962,
     "end_time": "2025-02-28T09:32:23.673795",
     "exception": false,
     "start_time": "2025-02-28T09:32:23.652833",
     "status": "completed"
    },
    "tags": []
   },
   "outputs": [
    {
     "data": {
      "text/plain": [
       "['Allen, Mr. William Henry',\n",
       " 'Andersson, Mr. Anders Johan',\n",
       " 'Bonnell, Miss. Elizabeth',\n",
       " 'Braund, Mr. Owen Harris',\n",
       " 'Cumings, Mrs. John Bradley (Florence Briggs Thayer)',\n",
       " 'Futrelle, Mrs. Jacques Heath (Lily May Peel)',\n",
       " 'Heikkinen, Miss. Laina',\n",
       " 'Johnson, Mrs. Oscar W (Elisabeth Vilhelmina Berg)',\n",
       " 'McCarthy, Mr. Timothy J',\n",
       " 'Moran, Mr. James',\n",
       " 'Nasser, Mrs. Nicholas (Adele Achem)',\n",
       " 'Palsson, Master. Gosta Leonard',\n",
       " 'Sandstrom, Miss. Marguerite Rut',\n",
       " 'Saundercock, Mr. William Henry',\n",
       " 'Vestrom, Miss. Hulda Amanda Adolfina']"
      ]
     },
     "execution_count": 17,
     "metadata": {},
     "output_type": "execute_result"
    }
   ],
   "source": [
    "#  This command sorts only the first 15 names in the 'Name' column: \n",
    "#  Wrong Version  \n",
    "\n",
    "sorted(titanic_train['Name'][0:15])   "
   ]
  },
  {
   "cell_type": "code",
   "execution_count": 18,
   "id": "0146fc35",
   "metadata": {
    "execution": {
     "iopub.execute_input": "2025-02-28T09:32:23.701135Z",
     "iopub.status.busy": "2025-02-28T09:32:23.700789Z",
     "iopub.status.idle": "2025-02-28T09:32:23.706697Z",
     "shell.execute_reply": "2025-02-28T09:32:23.705733Z"
    },
    "papermill": {
     "duration": 0.021497,
     "end_time": "2025-02-28T09:32:23.708216",
     "exception": false,
     "start_time": "2025-02-28T09:32:23.686719",
     "status": "completed"
    },
    "tags": []
   },
   "outputs": [
    {
     "data": {
      "text/plain": [
       "['Abbing, Mr. Anthony',\n",
       " 'Abbott, Mr. Rossmore Edward',\n",
       " 'Abbott, Mrs. Stanton (Rosa Hunt)',\n",
       " 'Abelson, Mr. Samuel',\n",
       " 'Abelson, Mrs. Samuel (Hannah Wizosky)',\n",
       " 'Adahl, Mr. Mauritz Nils Martin',\n",
       " 'Adams, Mr. John',\n",
       " 'Ahlin, Mrs. Johan (Johanna Persdotter Larsson)',\n",
       " 'Aks, Mrs. Sam (Leah Rosen)',\n",
       " 'Albimona, Mr. Nassef Cassem',\n",
       " 'Alexander, Mr. William',\n",
       " 'Alhomaki, Mr. Ilmari Rudolf',\n",
       " 'Ali, Mr. Ahmed',\n",
       " 'Ali, Mr. William',\n",
       " 'Allen, Miss. Elisabeth Walton']"
      ]
     },
     "execution_count": 18,
     "metadata": {},
     "output_type": "execute_result"
    }
   ],
   "source": [
    "# The correct version:  \n",
    "# This command sorts the entire 'Name' column\n",
    "\n",
    "sorted(titanic_train['Name'])[0:15] "
   ]
  },
  {
   "cell_type": "code",
   "execution_count": 19,
   "id": "e1d095e7",
   "metadata": {
    "execution": {
     "iopub.execute_input": "2025-02-28T09:32:23.735935Z",
     "iopub.status.busy": "2025-02-28T09:32:23.735609Z",
     "iopub.status.idle": "2025-02-28T09:32:23.743266Z",
     "shell.execute_reply": "2025-02-28T09:32:23.742493Z"
    },
    "papermill": {
     "duration": 0.022985,
     "end_time": "2025-02-28T09:32:23.744643",
     "exception": false,
     "start_time": "2025-02-28T09:32:23.721658",
     "status": "completed"
    },
    "tags": []
   },
   "outputs": [
    {
     "data": {
      "text/plain": [
       "count                         891\n",
       "unique                        891\n",
       "top       Braund, Mr. Owen Harris\n",
       "freq                            1\n",
       "Name: Name, dtype: object"
      ]
     },
     "execution_count": 19,
     "metadata": {},
     "output_type": "execute_result"
    }
   ],
   "source": [
    "# describe the Name category \n",
    "titanic_train['Name'].describe()  "
   ]
  },
  {
   "cell_type": "markdown",
   "id": "f2bd24a4",
   "metadata": {
    "papermill": {
     "duration": 0.012816,
     "end_time": "2025-02-28T09:32:23.770693",
     "exception": false,
     "start_time": "2025-02-28T09:32:23.757877",
     "status": "completed"
    },
    "tags": []
   },
   "source": [
    "1. Name variable has **889 unique** values.\n",
    "   \n",
    "2. In general, a **categorical variable** that is **unique to each case isn't useful** for prediction. \n",
    "\n",
    "3. We could extract last names to try to group family members together, but even then the number of categories would be very large. \n",
    "   \n",
    "4. On the other hand, it can be nice to have some way to uniquely identify particular cases and names are interesting from a personal and historical perspective, so let's keep Name, knowing that we won't actually use it in any predictive models we make.    "
   ]
  },
  {
   "cell_type": "code",
   "execution_count": 20,
   "id": "08ad2015",
   "metadata": {
    "execution": {
     "iopub.execute_input": "2025-02-28T09:32:23.798488Z",
     "iopub.status.busy": "2025-02-28T09:32:23.798143Z",
     "iopub.status.idle": "2025-02-28T09:32:23.804335Z",
     "shell.execute_reply": "2025-02-28T09:32:23.803540Z"
    },
    "papermill": {
     "duration": 0.02184,
     "end_time": "2025-02-28T09:32:23.805802",
     "exception": false,
     "start_time": "2025-02-28T09:32:23.783962",
     "status": "completed"
    },
    "tags": []
   },
   "outputs": [
    {
     "data": {
      "text/plain": [
       "0            A/5 21171\n",
       "1             PC 17599\n",
       "2     STON/O2. 3101282\n",
       "3               113803\n",
       "4               373450\n",
       "5               330877\n",
       "6                17463\n",
       "7               349909\n",
       "8               347742\n",
       "9               237736\n",
       "10             PP 9549\n",
       "11              113783\n",
       "12           A/5. 2151\n",
       "13              347082\n",
       "14              350406\n",
       "Name: Ticket, dtype: object"
      ]
     },
     "execution_count": 20,
     "metadata": {},
     "output_type": "execute_result"
    }
   ],
   "source": [
    "# check the first 15 rows in col Ticket: \n",
    "titanic_train['Ticket'][0:15]"
   ]
  },
  {
   "cell_type": "code",
   "execution_count": 21,
   "id": "cc6c25b7",
   "metadata": {
    "execution": {
     "iopub.execute_input": "2025-02-28T09:32:23.833887Z",
     "iopub.status.busy": "2025-02-28T09:32:23.833596Z",
     "iopub.status.idle": "2025-02-28T09:32:23.840853Z",
     "shell.execute_reply": "2025-02-28T09:32:23.840117Z"
    },
    "papermill": {
     "duration": 0.023049,
     "end_time": "2025-02-28T09:32:23.842376",
     "exception": false,
     "start_time": "2025-02-28T09:32:23.819327",
     "status": "completed"
    },
    "tags": []
   },
   "outputs": [
    {
     "data": {
      "text/plain": [
       "count        891\n",
       "unique       681\n",
       "top       347082\n",
       "freq           7\n",
       "Name: Ticket, dtype: object"
      ]
     },
     "execution_count": 21,
     "metadata": {},
     "output_type": "execute_result"
    }
   ],
   "source": [
    "# describe the Ticket col: \n",
    "titanic_train['Ticket'].describe()"
   ]
  },
  {
   "cell_type": "markdown",
   "id": "90f5cd2b",
   "metadata": {
    "papermill": {
     "duration": 0.01349,
     "end_time": "2025-02-28T09:32:23.869844",
     "exception": false,
     "start_time": "2025-02-28T09:32:23.856354",
     "status": "completed"
    },
    "tags": []
   },
   "source": [
    "1. Ticket has **680 unique** values: almost as many as there are passengers.\n",
    "   \n",
    "2. **Categorical variables with almost as many levels as there are records are often not very useful for prediction.** \n",
    "\n",
    "   \n",
    "3.  We could try to reduce the number of levels by grouping certain tickets together,\n",
    "5. But the ticket numbers don't appear to follow any logical pattern we could use for grouping. Let's remove it. "
   ]
  },
  {
   "cell_type": "code",
   "execution_count": 22,
   "id": "b1b86296",
   "metadata": {
    "execution": {
     "iopub.execute_input": "2025-02-28T09:32:23.897972Z",
     "iopub.status.busy": "2025-02-28T09:32:23.897649Z",
     "iopub.status.idle": "2025-02-28T09:32:23.901847Z",
     "shell.execute_reply": "2025-02-28T09:32:23.900873Z"
    },
    "papermill": {
     "duration": 0.020015,
     "end_time": "2025-02-28T09:32:23.903411",
     "exception": false,
     "start_time": "2025-02-28T09:32:23.883396",
     "status": "completed"
    },
    "tags": []
   },
   "outputs": [],
   "source": [
    "del titanic_train['Ticket']  "
   ]
  },
  {
   "cell_type": "code",
   "execution_count": 23,
   "id": "b0247854",
   "metadata": {
    "execution": {
     "iopub.execute_input": "2025-02-28T09:32:23.931616Z",
     "iopub.status.busy": "2025-02-28T09:32:23.931306Z",
     "iopub.status.idle": "2025-02-28T09:32:23.937499Z",
     "shell.execute_reply": "2025-02-28T09:32:23.936718Z"
    },
    "papermill": {
     "duration": 0.021998,
     "end_time": "2025-02-28T09:32:23.938881",
     "exception": false,
     "start_time": "2025-02-28T09:32:23.916883",
     "status": "completed"
    },
    "tags": []
   },
   "outputs": [
    {
     "data": {
      "text/plain": [
       "0      NaN\n",
       "1      C85\n",
       "2      NaN\n",
       "3     C123\n",
       "4      NaN\n",
       "5      NaN\n",
       "6      E46\n",
       "7      NaN\n",
       "8      NaN\n",
       "9      NaN\n",
       "10      G6\n",
       "11    C103\n",
       "12     NaN\n",
       "13     NaN\n",
       "14     NaN\n",
       "Name: Cabin, dtype: object"
      ]
     },
     "execution_count": 23,
     "metadata": {},
     "output_type": "execute_result"
    }
   ],
   "source": [
    "# Check the first 15 Cabins:  \n",
    "\n",
    "titanic_train['Cabin'][0:15]  "
   ]
  },
  {
   "cell_type": "code",
   "execution_count": 24,
   "id": "10e4dfc0",
   "metadata": {
    "execution": {
     "iopub.execute_input": "2025-02-28T09:32:23.968125Z",
     "iopub.status.busy": "2025-02-28T09:32:23.967736Z",
     "iopub.status.idle": "2025-02-28T09:32:23.971138Z",
     "shell.execute_reply": "2025-02-28T09:32:23.970358Z"
    },
    "papermill": {
     "duration": 0.019444,
     "end_time": "2025-02-28T09:32:23.972689",
     "exception": false,
     "start_time": "2025-02-28T09:32:23.953245",
     "status": "completed"
    },
    "tags": []
   },
   "outputs": [],
   "source": [
    "# Wrong code: \n",
    "# sorted(titanic_train['Cabin'])[0:15]  \n",
    "\n",
    "#Python can not compare NaN and C85 which is larger.   \n",
    "\n"
   ]
  },
  {
   "cell_type": "code",
   "execution_count": 25,
   "id": "115729bb",
   "metadata": {
    "execution": {
     "iopub.execute_input": "2025-02-28T09:32:24.001023Z",
     "iopub.status.busy": "2025-02-28T09:32:24.000647Z",
     "iopub.status.idle": "2025-02-28T09:32:24.008432Z",
     "shell.execute_reply": "2025-02-28T09:32:24.007652Z"
    },
    "papermill": {
     "duration": 0.023648,
     "end_time": "2025-02-28T09:32:24.009841",
     "exception": false,
     "start_time": "2025-02-28T09:32:23.986193",
     "status": "completed"
    },
    "tags": []
   },
   "outputs": [
    {
     "data": {
      "text/plain": [
       "count         204\n",
       "unique        147\n",
       "top       B96 B98\n",
       "freq            4\n",
       "Name: Cabin, dtype: object"
      ]
     },
     "execution_count": 25,
     "metadata": {},
     "output_type": "execute_result"
    }
   ],
   "source": [
    "titanic_train['Cabin'].describe() "
   ]
  },
  {
   "cell_type": "markdown",
   "id": "28680b63",
   "metadata": {
    "papermill": {
     "duration": 0.013874,
     "end_time": "2025-02-28T09:32:24.038169",
     "exception": false,
     "start_time": "2025-02-28T09:32:24.024295",
     "status": "completed"
    },
    "tags": []
   },
   "source": [
    "1. Cabin has **147 unique** values, which indicates it may not be particularly useful for prediction.\n",
    "   \n",
    "2. On the other hand, the names of the levels for the cabin variable seem to have a regular structure: each starts with a capital letter followed by a number.\n",
    "\n",
    "   \n",
    "3. We could use that structure to reduce the number of levels to **make categories large** enough that they might be useful for prediction. \n",
    " "
   ]
  },
  {
   "cell_type": "markdown",
   "id": "e4367177",
   "metadata": {
    "papermill": {
     "duration": 0.013439,
     "end_time": "2025-02-28T09:32:24.065863",
     "exception": false,
     "start_time": "2025-02-28T09:32:24.052424",
     "status": "completed"
    },
    "tags": []
   },
   "source": [
    "1. Removing variables is often more of an art than a science.\n",
    "   \n",
    "2. Data projects are iterative processes:\n",
    "\n",
    "       you can start with a simple analysis or model using only a few variables and then expand later by adding more and more of the other variables you initially ignored or removed. "
   ]
  },
  {
   "cell_type": "markdown",
   "id": "cf4f982c",
   "metadata": {
    "papermill": {
     "duration": 0.014083,
     "end_time": "2025-02-28T09:32:24.144643",
     "exception": false,
     "start_time": "2025-02-28T09:32:24.130560",
     "status": "completed"
    },
    "tags": []
   },
   "source": [
    "# Should I Transform Any Variables?¶ "
   ]
  },
  {
   "cell_type": "markdown",
   "id": "a0b043c2",
   "metadata": {
    "papermill": {
     "duration": 0.013734,
     "end_time": "2025-02-28T09:32:24.172401",
     "exception": false,
     "start_time": "2025-02-28T09:32:24.158667",
     "status": "completed"
    },
    "tags": []
   },
   "source": [
    "1. When first loading a data set, some of the variables may be encoded as **data types** that **don't fit well** with what the **data really is or what it means**.  \n",
    "\n",
    "2. For instance, Survived is just an integer variable that takes on the value 0 or 1 depending on whether a passenger died or survived respectively.\n",
    "\n",
    "3. Variables that indicate a state or the **presence or absence** of something with the numbers **0 and 1** are sometimes called **indicator variables or dummy variables**. \n",
    "\n",
    "4. Indicator variables are essentially just a shorthand for encoding a categorical variable with 2 levels.\n",
    "\n",
    "5. We could instead encode Survived as a categorical variable with more descriptive categories. "
   ]
  },
  {
   "cell_type": "code",
   "execution_count": 26,
   "id": "38b38b3a",
   "metadata": {
    "execution": {
     "iopub.execute_input": "2025-02-28T09:32:24.201082Z",
     "iopub.status.busy": "2025-02-28T09:32:24.200730Z",
     "iopub.status.idle": "2025-02-28T09:32:24.209032Z",
     "shell.execute_reply": "2025-02-28T09:32:24.208019Z"
    },
    "papermill": {
     "duration": 0.024411,
     "end_time": "2025-02-28T09:32:24.210542",
     "exception": false,
     "start_time": "2025-02-28T09:32:24.186131",
     "status": "completed"
    },
    "tags": []
   },
   "outputs": [
    {
     "data": {
      "text/plain": [
       "count    891.000000\n",
       "mean       0.383838\n",
       "std        0.486592\n",
       "min        0.000000\n",
       "25%        0.000000\n",
       "50%        0.000000\n",
       "75%        1.000000\n",
       "max        1.000000\n",
       "Name: Survived, dtype: float64"
      ]
     },
     "execution_count": 26,
     "metadata": {},
     "output_type": "execute_result"
    }
   ],
   "source": [
    "# Describe the column \"Survived\": \n",
    "\n",
    "titanic_train['Survived'].describe()"
   ]
  },
  {
   "cell_type": "code",
   "execution_count": 27,
   "id": "07bc0fdf",
   "metadata": {
    "execution": {
     "iopub.execute_input": "2025-02-28T09:32:24.241565Z",
     "iopub.status.busy": "2025-02-28T09:32:24.241263Z",
     "iopub.status.idle": "2025-02-28T09:32:24.248558Z",
     "shell.execute_reply": "2025-02-28T09:32:24.247756Z"
    },
    "papermill": {
     "duration": 0.023914,
     "end_time": "2025-02-28T09:32:24.249885",
     "exception": false,
     "start_time": "2025-02-28T09:32:24.225971",
     "status": "completed"
    },
    "tags": []
   },
   "outputs": [
    {
     "data": {
      "text/plain": [
       "[0, 1, 1, 1, 0, ..., 0, 1, 0, 1, 0]\n",
       "Length: 891\n",
       "Categories (2, int64): [0, 1]"
      ]
     },
     "execution_count": 27,
     "metadata": {},
     "output_type": "execute_result"
    }
   ],
   "source": [
    "survived_col = pd.Categorical(titanic_train['Survived']) \n",
    "survived_col "
   ]
  },
  {
   "cell_type": "code",
   "execution_count": 28,
   "id": "1aaa34b7",
   "metadata": {
    "execution": {
     "iopub.execute_input": "2025-02-28T09:32:24.279411Z",
     "iopub.status.busy": "2025-02-28T09:32:24.279109Z",
     "iopub.status.idle": "2025-02-28T09:32:24.290890Z",
     "shell.execute_reply": "2025-02-28T09:32:24.290125Z"
    },
    "papermill": {
     "duration": 0.028134,
     "end_time": "2025-02-28T09:32:24.292337",
     "exception": false,
     "start_time": "2025-02-28T09:32:24.264203",
     "status": "completed"
    },
    "tags": []
   },
   "outputs": [
    {
     "data": {
      "text/html": [
       "<div>\n",
       "<style scoped>\n",
       "    .dataframe tbody tr th:only-of-type {\n",
       "        vertical-align: middle;\n",
       "    }\n",
       "\n",
       "    .dataframe tbody tr th {\n",
       "        vertical-align: top;\n",
       "    }\n",
       "\n",
       "    .dataframe thead th {\n",
       "        text-align: right;\n",
       "    }\n",
       "</style>\n",
       "<table border=\"1\" class=\"dataframe\">\n",
       "  <thead>\n",
       "    <tr style=\"text-align: right;\">\n",
       "      <th></th>\n",
       "      <th>counts</th>\n",
       "      <th>freqs</th>\n",
       "    </tr>\n",
       "    <tr>\n",
       "      <th>categories</th>\n",
       "      <th></th>\n",
       "      <th></th>\n",
       "    </tr>\n",
       "  </thead>\n",
       "  <tbody>\n",
       "    <tr>\n",
       "      <th>Died</th>\n",
       "      <td>549</td>\n",
       "      <td>0.616162</td>\n",
       "    </tr>\n",
       "    <tr>\n",
       "      <th>Survived</th>\n",
       "      <td>342</td>\n",
       "      <td>0.383838</td>\n",
       "    </tr>\n",
       "  </tbody>\n",
       "</table>\n",
       "</div>"
      ],
      "text/plain": [
       "            counts     freqs\n",
       "categories                  \n",
       "Died           549  0.616162\n",
       "Survived       342  0.383838"
      ]
     },
     "execution_count": 28,
     "metadata": {},
     "output_type": "execute_result"
    }
   ],
   "source": [
    "# 1. Transform the var of \"Survived\"\n",
    "# 2. assign the value  \n",
    "# 3. describe again \n",
    "new_survived = pd.Categorical(titanic_train['Survived']) \n",
    "new_survived = new_survived.rename_categories(['Died', 'Survived'])  \n",
    "\n",
    "new_survived.describe()  "
   ]
  },
  {
   "cell_type": "code",
   "execution_count": 29,
   "id": "2e91c3d0",
   "metadata": {
    "execution": {
     "iopub.execute_input": "2025-02-28T09:32:24.321631Z",
     "iopub.status.busy": "2025-02-28T09:32:24.321313Z",
     "iopub.status.idle": "2025-02-28T09:32:24.330755Z",
     "shell.execute_reply": "2025-02-28T09:32:24.329768Z"
    },
    "papermill": {
     "duration": 0.025927,
     "end_time": "2025-02-28T09:32:24.332368",
     "exception": false,
     "start_time": "2025-02-28T09:32:24.306441",
     "status": "completed"
    },
    "tags": []
   },
   "outputs": [
    {
     "data": {
      "text/plain": [
       "['Died', 'Survived', 'Survived', 'Survived', 'Died', ..., 'Died', 'Survived', 'Died', 'Survived', 'Died']\n",
       "Length: 891\n",
       "Categories (2, object): ['Died', 'Survived']"
      ]
     },
     "execution_count": 29,
     "metadata": {},
     "output_type": "execute_result"
    }
   ],
   "source": [
    "new_survived = pd.Categorical(titanic_train[\"Survived\"]) \n",
    "\n",
    "new_survived = new_survived.rename_categories([\"Died\", \"Survived\"]) \n",
    "\n",
    "new_survived.describe() \n",
    "\n",
    "titanic_train['Survived'] = new_survived \n",
    "\n",
    "pd.Categorical(titanic_train['Survived'])  \n"
   ]
  },
  {
   "cell_type": "markdown",
   "id": "6e1cb379",
   "metadata": {
    "papermill": {
     "duration": 0.014169,
     "end_time": "2025-02-28T09:32:24.361021",
     "exception": false,
     "start_time": "2025-02-28T09:32:24.346852",
     "status": "completed"
    },
    "tags": []
   },
   "source": [
    "1. Survived looks a little nicer as a categorical variable with appropriate category names.\n",
    "   \n",
    "2. But we're not going to change it.\n",
    "   \n",
    "3.  Since our goal is to **predict survival** for the Kaggle competition. \n",
    "   \n",
    "5.  It turns out that when submitting predictions for the competition, the predictions need to be encoded as 0 or 1.\n",
    "  \n",
    "6. It would only complicate things to transform Survived, only to convert it back to 0 and 1 later. "
   ]
  },
  {
   "cell_type": "markdown",
   "id": "e3156227",
   "metadata": {
    "papermill": {
     "duration": 0.014135,
     "end_time": "2025-02-28T09:32:24.389940",
     "exception": false,
     "start_time": "2025-02-28T09:32:24.375805",
     "status": "completed"
    },
    "tags": []
   },
   "source": [
    "1. Another variable that has questionable data encoding is: Pclass.\n",
    "\n",
    "2. **1st class would be considered \"above\" or \"higher\" than second class.**\n",
    "\n",
    "3. But when encoded as an integer, 1 comes before 2.\n",
    "\n",
    "4.  We can fix this by **transforming Pclass into an ordered categorical variable**  "
   ]
  },
  {
   "cell_type": "code",
   "execution_count": 30,
   "id": "ac1aa66f",
   "metadata": {
    "execution": {
     "iopub.execute_input": "2025-02-28T09:32:24.420140Z",
     "iopub.status.busy": "2025-02-28T09:32:24.419756Z",
     "iopub.status.idle": "2025-02-28T09:32:24.429598Z",
     "shell.execute_reply": "2025-02-28T09:32:24.428648Z"
    },
    "papermill": {
     "duration": 0.026666,
     "end_time": "2025-02-28T09:32:24.431022",
     "exception": false,
     "start_time": "2025-02-28T09:32:24.404356",
     "status": "completed"
    },
    "tags": []
   },
   "outputs": [
    {
     "data": {
      "text/plain": [
       "count        891\n",
       "unique         3\n",
       "top       Class3\n",
       "freq         491\n",
       "Name: Pclass, dtype: object"
      ]
     },
     "execution_count": 30,
     "metadata": {},
     "output_type": "execute_result"
    }
   ],
   "source": [
    "new_Pclass = pd.Categorical(titanic_train['Pclass'], \n",
    "                           ordered = True) \n",
    "\n",
    "new_Pclass = new_Pclass.rename_categories(['Class1', 'Class2', 'Class3']) \n",
    "\n",
    "titanic_train['Pclass'] = new_Pclass  \n",
    "titanic_train['Pclass'].describe()\n",
    "  "
   ]
  },
  {
   "cell_type": "code",
   "execution_count": 31,
   "id": "2fc336f0",
   "metadata": {
    "execution": {
     "iopub.execute_input": "2025-02-28T09:32:24.462011Z",
     "iopub.status.busy": "2025-02-28T09:32:24.461610Z",
     "iopub.status.idle": "2025-02-28T09:32:24.466519Z",
     "shell.execute_reply": "2025-02-28T09:32:24.465730Z"
    },
    "papermill": {
     "duration": 0.021953,
     "end_time": "2025-02-28T09:32:24.468047",
     "exception": false,
     "start_time": "2025-02-28T09:32:24.446094",
     "status": "completed"
    },
    "tags": []
   },
   "outputs": [
    {
     "name": "stdout",
     "output_type": "stream",
     "text": [
      "True\n"
     ]
    }
   ],
   "source": [
    "print(new_Pclass[0] > new_Pclass[1]) "
   ]
  },
  {
   "cell_type": "code",
   "execution_count": 32,
   "id": "482703c2",
   "metadata": {
    "execution": {
     "iopub.execute_input": "2025-02-28T09:32:24.499690Z",
     "iopub.status.busy": "2025-02-28T09:32:24.499339Z",
     "iopub.status.idle": "2025-02-28T09:32:24.509326Z",
     "shell.execute_reply": "2025-02-28T09:32:24.508488Z"
    },
    "papermill": {
     "duration": 0.027428,
     "end_time": "2025-02-28T09:32:24.510707",
     "exception": false,
     "start_time": "2025-02-28T09:32:24.483279",
     "status": "completed"
    },
    "tags": []
   },
   "outputs": [
    {
     "data": {
      "text/html": [
       "<div>\n",
       "<style scoped>\n",
       "    .dataframe tbody tr th:only-of-type {\n",
       "        vertical-align: middle;\n",
       "    }\n",
       "\n",
       "    .dataframe tbody tr th {\n",
       "        vertical-align: top;\n",
       "    }\n",
       "\n",
       "    .dataframe thead th {\n",
       "        text-align: right;\n",
       "    }\n",
       "</style>\n",
       "<table border=\"1\" class=\"dataframe\">\n",
       "  <thead>\n",
       "    <tr style=\"text-align: right;\">\n",
       "      <th></th>\n",
       "      <th>counts</th>\n",
       "      <th>freqs</th>\n",
       "    </tr>\n",
       "    <tr>\n",
       "      <th>categories</th>\n",
       "      <th></th>\n",
       "      <th></th>\n",
       "    </tr>\n",
       "  </thead>\n",
       "  <tbody>\n",
       "    <tr>\n",
       "      <th>Class1</th>\n",
       "      <td>216</td>\n",
       "      <td>0.242424</td>\n",
       "    </tr>\n",
       "    <tr>\n",
       "      <th>Class2</th>\n",
       "      <td>184</td>\n",
       "      <td>0.206510</td>\n",
       "    </tr>\n",
       "    <tr>\n",
       "      <th>Class3</th>\n",
       "      <td>491</td>\n",
       "      <td>0.551066</td>\n",
       "    </tr>\n",
       "  </tbody>\n",
       "</table>\n",
       "</div>"
      ],
      "text/plain": [
       "            counts     freqs\n",
       "categories                  \n",
       "Class1         216  0.242424\n",
       "Class2         184  0.206510\n",
       "Class3         491  0.551066"
      ]
     },
     "execution_count": 32,
     "metadata": {},
     "output_type": "execute_result"
    }
   ],
   "source": [
    "new_Pclass.describe() "
   ]
  },
  {
   "cell_type": "code",
   "execution_count": 33,
   "id": "5792ae2c",
   "metadata": {
    "execution": {
     "iopub.execute_input": "2025-02-28T09:32:24.541799Z",
     "iopub.status.busy": "2025-02-28T09:32:24.541473Z",
     "iopub.status.idle": "2025-02-28T09:32:24.546312Z",
     "shell.execute_reply": "2025-02-28T09:32:24.545382Z"
    },
    "papermill": {
     "duration": 0.022013,
     "end_time": "2025-02-28T09:32:24.547781",
     "exception": false,
     "start_time": "2025-02-28T09:32:24.525768",
     "status": "completed"
    },
    "tags": []
   },
   "outputs": [
    {
     "name": "stdout",
     "output_type": "stream",
     "text": [
      "Index(['Class1', 'Class2', 'Class3'], dtype='object')\n"
     ]
    }
   ],
   "source": [
    "print(new_Pclass.categories)  "
   ]
  },
  {
   "cell_type": "code",
   "execution_count": 34,
   "id": "49ee0a36",
   "metadata": {
    "execution": {
     "iopub.execute_input": "2025-02-28T09:32:24.577695Z",
     "iopub.status.busy": "2025-02-28T09:32:24.577386Z",
     "iopub.status.idle": "2025-02-28T09:32:24.581960Z",
     "shell.execute_reply": "2025-02-28T09:32:24.581054Z"
    },
    "papermill": {
     "duration": 0.021298,
     "end_time": "2025-02-28T09:32:24.583398",
     "exception": false,
     "start_time": "2025-02-28T09:32:24.562100",
     "status": "completed"
    },
    "tags": []
   },
   "outputs": [
    {
     "name": "stdout",
     "output_type": "stream",
     "text": [
      "True\n"
     ]
    }
   ],
   "source": [
    "print(new_Pclass[0] > new_Pclass[1]) "
   ]
  },
  {
   "cell_type": "markdown",
   "id": "702d8810",
   "metadata": {
    "papermill": {
     "duration": 0.014361,
     "end_time": "2025-02-28T09:32:24.612126",
     "exception": false,
     "start_time": "2025-02-28T09:32:24.597765",
     "status": "completed"
    },
    "tags": []
   },
   "source": [
    "1. Now revisit the Cabin variable.\n",
    "  \n",
    "2. It appears that each Cabin is indicated by the capital letter at the start of each factor level."
   ]
  },
  {
   "cell_type": "code",
   "execution_count": 35,
   "id": "b707018c",
   "metadata": {
    "execution": {
     "iopub.execute_input": "2025-02-28T09:32:24.641991Z",
     "iopub.status.busy": "2025-02-28T09:32:24.641587Z",
     "iopub.status.idle": "2025-02-28T09:32:24.647337Z",
     "shell.execute_reply": "2025-02-28T09:32:24.646184Z"
    },
    "papermill": {
     "duration": 0.022372,
     "end_time": "2025-02-28T09:32:24.648924",
     "exception": false,
     "start_time": "2025-02-28T09:32:24.626552",
     "status": "completed"
    },
    "tags": []
   },
   "outputs": [
    {
     "name": "stdout",
     "output_type": "stream",
     "text": [
      "[nan 'C85' 'C123' 'E46' 'G6' 'C103' 'D56' 'A6' 'C23 C25 C27' 'B78' 'D33'\n",
      " 'B30' 'C52' 'B28' 'C83' 'F33' 'F G73' 'E31' 'A5' 'D10 D12' 'D26' 'C110'\n",
      " 'B58 B60' 'E101' 'F E69' 'D47' 'B86' 'F2' 'C2' 'E33' 'B19' 'A7' 'C49'\n",
      " 'F4' 'A32' 'B4' 'B80' 'A31' 'D36' 'D15' 'C93' 'C78' 'D35' 'C87' 'B77'\n",
      " 'E67' 'B94' 'C125' 'C99' 'C118' 'D7' 'A19' 'B49' 'D' 'C22 C26' 'C106'\n",
      " 'C65' 'E36' 'C54' 'B57 B59 B63 B66' 'C7' 'E34' 'C32' 'B18' 'C124' 'C91'\n",
      " 'E40' 'T' 'C128' 'D37' 'B35' 'E50' 'C82' 'B96 B98' 'E10' 'E44' 'A34'\n",
      " 'C104' 'C111' 'C92' 'E38' 'D21' 'E12' 'E63' 'A14' 'B37' 'C30' 'D20' 'B79'\n",
      " 'E25' 'D46' 'B73' 'C95' 'B38' 'B39' 'B22' 'C86' 'C70' 'A16' 'C101' 'C68'\n",
      " 'A10' 'E68' 'B41' 'A20' 'D19' 'D50' 'D9' 'A23' 'B50' 'A26' 'D48' 'E58'\n",
      " 'C126' 'B71' 'B51 B53 B55' 'D49' 'B5' 'B20' 'F G63' 'C62 C64' 'E24' 'C90'\n",
      " 'C45' 'E8' 'B101' 'D45' 'C46' 'D30' 'E121' 'D11' 'E77' 'F38' 'B3' 'D6'\n",
      " 'B82 B84' 'D17' 'A36' 'B102' 'B69' 'E49' 'C47' 'D28' 'E17' 'A24' 'C50'\n",
      " 'B42' 'C148']\n"
     ]
    }
   ],
   "source": [
    "# Check unique cabins  \n",
    "\n",
    "unique_cabin = titanic_train['Cabin'].unique() \n",
    "print(unique_cabin) "
   ]
  },
  {
   "cell_type": "code",
   "execution_count": 36,
   "id": "53d72b31",
   "metadata": {
    "execution": {
     "iopub.execute_input": "2025-02-28T09:32:24.679949Z",
     "iopub.status.busy": "2025-02-28T09:32:24.679615Z",
     "iopub.status.idle": "2025-02-28T09:32:24.684094Z",
     "shell.execute_reply": "2025-02-28T09:32:24.682956Z"
    },
    "papermill": {
     "duration": 0.021986,
     "end_time": "2025-02-28T09:32:24.685610",
     "exception": false,
     "start_time": "2025-02-28T09:32:24.663624",
     "status": "completed"
    },
    "tags": []
   },
   "outputs": [
    {
     "name": "stdout",
     "output_type": "stream",
     "text": [
      "<class 'numpy.ndarray'>\n"
     ]
    }
   ],
   "source": [
    "print(type(unique_cabin)) \n",
    "\n",
    "# 'numpy.ndarray' object has no attribute 'describe' "
   ]
  },
  {
   "cell_type": "code",
   "execution_count": 37,
   "id": "9ee4de51",
   "metadata": {
    "execution": {
     "iopub.execute_input": "2025-02-28T09:32:24.716555Z",
     "iopub.status.busy": "2025-02-28T09:32:24.716200Z",
     "iopub.status.idle": "2025-02-28T09:32:24.721142Z",
     "shell.execute_reply": "2025-02-28T09:32:24.720091Z"
    },
    "papermill": {
     "duration": 0.021977,
     "end_time": "2025-02-28T09:32:24.722594",
     "exception": false,
     "start_time": "2025-02-28T09:32:24.700617",
     "status": "completed"
    },
    "tags": []
   },
   "outputs": [
    {
     "name": "stdout",
     "output_type": "stream",
     "text": [
      "<class 'pandas.core.series.Series'>\n"
     ]
    }
   ],
   "source": [
    "\n",
    "print(type(titanic_train['Cabin'])) "
   ]
  },
  {
   "cell_type": "markdown",
   "id": "40e2d777",
   "metadata": {
    "papermill": {
     "duration": 0.014911,
     "end_time": "2025-02-28T09:32:24.752519",
     "exception": false,
     "start_time": "2025-02-28T09:32:24.737608",
     "status": "completed"
    },
    "tags": []
   },
   "source": [
    "1. If we grouped cabins just by this letter, \n",
    "\n",
    "2. We could reduce the number of levels while potentially extracting some useful information. "
   ]
  },
  {
   "cell_type": "code",
   "execution_count": 38,
   "id": "56673075",
   "metadata": {
    "execution": {
     "iopub.execute_input": "2025-02-28T09:32:24.783636Z",
     "iopub.status.busy": "2025-02-28T09:32:24.783287Z",
     "iopub.status.idle": "2025-02-28T09:32:24.796277Z",
     "shell.execute_reply": "2025-02-28T09:32:24.795298Z"
    },
    "papermill": {
     "duration": 0.030583,
     "end_time": "2025-02-28T09:32:24.798053",
     "exception": false,
     "start_time": "2025-02-28T09:32:24.767470",
     "status": "completed"
    },
    "tags": []
   },
   "outputs": [
    {
     "data": {
      "text/html": [
       "<div>\n",
       "<style scoped>\n",
       "    .dataframe tbody tr th:only-of-type {\n",
       "        vertical-align: middle;\n",
       "    }\n",
       "\n",
       "    .dataframe tbody tr th {\n",
       "        vertical-align: top;\n",
       "    }\n",
       "\n",
       "    .dataframe thead th {\n",
       "        text-align: right;\n",
       "    }\n",
       "</style>\n",
       "<table border=\"1\" class=\"dataframe\">\n",
       "  <thead>\n",
       "    <tr style=\"text-align: right;\">\n",
       "      <th></th>\n",
       "      <th>counts</th>\n",
       "      <th>freqs</th>\n",
       "    </tr>\n",
       "    <tr>\n",
       "      <th>categories</th>\n",
       "      <th></th>\n",
       "      <th></th>\n",
       "    </tr>\n",
       "  </thead>\n",
       "  <tbody>\n",
       "    <tr>\n",
       "      <th>A</th>\n",
       "      <td>15</td>\n",
       "      <td>0.016835</td>\n",
       "    </tr>\n",
       "    <tr>\n",
       "      <th>B</th>\n",
       "      <td>47</td>\n",
       "      <td>0.052750</td>\n",
       "    </tr>\n",
       "    <tr>\n",
       "      <th>C</th>\n",
       "      <td>59</td>\n",
       "      <td>0.066218</td>\n",
       "    </tr>\n",
       "    <tr>\n",
       "      <th>D</th>\n",
       "      <td>33</td>\n",
       "      <td>0.037037</td>\n",
       "    </tr>\n",
       "    <tr>\n",
       "      <th>E</th>\n",
       "      <td>32</td>\n",
       "      <td>0.035915</td>\n",
       "    </tr>\n",
       "    <tr>\n",
       "      <th>F</th>\n",
       "      <td>13</td>\n",
       "      <td>0.014590</td>\n",
       "    </tr>\n",
       "    <tr>\n",
       "      <th>G</th>\n",
       "      <td>4</td>\n",
       "      <td>0.004489</td>\n",
       "    </tr>\n",
       "    <tr>\n",
       "      <th>T</th>\n",
       "      <td>1</td>\n",
       "      <td>0.001122</td>\n",
       "    </tr>\n",
       "    <tr>\n",
       "      <th>n</th>\n",
       "      <td>687</td>\n",
       "      <td>0.771044</td>\n",
       "    </tr>\n",
       "  </tbody>\n",
       "</table>\n",
       "</div>"
      ],
      "text/plain": [
       "            counts     freqs\n",
       "categories                  \n",
       "A               15  0.016835\n",
       "B               47  0.052750\n",
       "C               59  0.066218\n",
       "D               33  0.037037\n",
       "E               32  0.035915\n",
       "F               13  0.014590\n",
       "G                4  0.004489\n",
       "T                1  0.001122\n",
       "n              687  0.771044"
      ]
     },
     "execution_count": 38,
     "metadata": {},
     "output_type": "execute_result"
    }
   ],
   "source": [
    "# 1. Convert data type to str  \n",
    "char_cabin = titanic_train['Cabin'].astype(str)\n",
    "\n",
    "# 2. Take the first letter \n",
    "new_cabin = np.array([cabin[0] for cabin in char_cabin]) \n",
    "\n",
    "new_cabin = pd.Categorical(new_cabin)  \n",
    "\n",
    "new_cabin.describe() "
   ]
  },
  {
   "cell_type": "markdown",
   "id": "8fd68652",
   "metadata": {
    "papermill": {
     "duration": 0.01477,
     "end_time": "2025-02-28T09:32:24.828353",
     "exception": false,
     "start_time": "2025-02-28T09:32:24.813583",
     "status": "completed"
    },
    "tags": []
   },
   "source": [
    "1. 688 of the records have Cabin are \"n\" which is shortened from \"nan\". In other words, more than 2/3 of the passengers do not have a cabin listed at all.\n",
    "   \n",
    "2.  Discovering and deciding how to handle these sorts of peculiarities is an important part working with data and there often isn't a single correct answer.\n",
    "\n",
    "3.  Since there are so many missing values, the Cabin variable might be devoid of useful information for prediction.\n",
    "\n",
    "4.  On the other hand, a missing cabin variable could be an indication that a passenger died: after all, how would we know what cabin a passenger stayed in if they weren't around to tell the tale?\n",
    "\n"
   ]
  },
  {
   "cell_type": "code",
   "execution_count": 39,
   "id": "35008d7a",
   "metadata": {
    "execution": {
     "iopub.execute_input": "2025-02-28T09:32:24.860165Z",
     "iopub.status.busy": "2025-02-28T09:32:24.859787Z",
     "iopub.status.idle": "2025-02-28T09:32:24.864224Z",
     "shell.execute_reply": "2025-02-28T09:32:24.863284Z"
    },
    "papermill": {
     "duration": 0.022201,
     "end_time": "2025-02-28T09:32:24.865766",
     "exception": false,
     "start_time": "2025-02-28T09:32:24.843565",
     "status": "completed"
    },
    "tags": []
   },
   "outputs": [],
   "source": [
    "titanic_train['Cabin'] = new_cabin"
   ]
  },
  {
   "cell_type": "markdown",
   "id": "c496e19d",
   "metadata": {
    "papermill": {
     "duration": 0.014806,
     "end_time": "2025-02-28T09:32:24.895881",
     "exception": false,
     "start_time": "2025-02-28T09:32:24.881075",
     "status": "completed"
    },
    "tags": []
   },
   "source": [
    "# Are there NA Values, Outliers or Other Strange Values?"
   ]
  },
  {
   "cell_type": "code",
   "execution_count": 40,
   "id": "af8adecf",
   "metadata": {
    "execution": {
     "iopub.execute_input": "2025-02-28T09:32:24.927769Z",
     "iopub.status.busy": "2025-02-28T09:32:24.927418Z",
     "iopub.status.idle": "2025-02-28T09:32:24.931035Z",
     "shell.execute_reply": "2025-02-28T09:32:24.930075Z"
    },
    "papermill": {
     "duration": 0.021527,
     "end_time": "2025-02-28T09:32:24.932487",
     "exception": false,
     "start_time": "2025-02-28T09:32:24.910960",
     "status": "completed"
    },
    "tags": []
   },
   "outputs": [],
   "source": [
    "# In Python, you can detect missing values with:\n",
    "\n",
    "# pd.isnull() function: "
   ]
  },
  {
   "cell_type": "code",
   "execution_count": 41,
   "id": "229c9146",
   "metadata": {
    "execution": {
     "iopub.execute_input": "2025-02-28T09:32:24.963115Z",
     "iopub.status.busy": "2025-02-28T09:32:24.962759Z",
     "iopub.status.idle": "2025-02-28T09:32:24.970570Z",
     "shell.execute_reply": "2025-02-28T09:32:24.969758Z"
    },
    "papermill": {
     "duration": 0.024676,
     "end_time": "2025-02-28T09:32:24.972085",
     "exception": false,
     "start_time": "2025-02-28T09:32:24.947409",
     "status": "completed"
    },
    "tags": []
   },
   "outputs": [
    {
     "data": {
      "text/plain": [
       "0    False\n",
       "1     True\n",
       "2     True\n",
       "3    False\n",
       "4    False\n",
       "5     True\n",
       "dtype: bool"
      ]
     },
     "execution_count": 41,
     "metadata": {},
     "output_type": "execute_result"
    }
   ],
   "source": [
    "# For instance: \n",
    "\n",
    "dummy_vector = pd.Series([1, None, None, 4, 7, None]) \n",
    "pd.isnull(dummy_vector) "
   ]
  },
  {
   "cell_type": "markdown",
   "id": "b72be659",
   "metadata": {
    "papermill": {
     "duration": 0.014611,
     "end_time": "2025-02-28T09:32:25.002256",
     "exception": false,
     "start_time": "2025-02-28T09:32:24.987645",
     "status": "completed"
    },
    "tags": []
   },
   "source": [
    "1. Missing values in categorical data are not particularly troubling because you can simply treat NA as an additional category. \n",
    "\n",
    "2. Missing values in numeric variables are more troublesome, since you can't just treat a missing value as number.\n",
    "\n",
    "3. Titanic dataset has some NA's in the Age variable: "
   ]
  },
  {
   "cell_type": "code",
   "execution_count": 42,
   "id": "10d6207e",
   "metadata": {
    "execution": {
     "iopub.execute_input": "2025-02-28T09:32:25.034643Z",
     "iopub.status.busy": "2025-02-28T09:32:25.034290Z",
     "iopub.status.idle": "2025-02-28T09:32:25.043078Z",
     "shell.execute_reply": "2025-02-28T09:32:25.042198Z"
    },
    "papermill": {
     "duration": 0.026476,
     "end_time": "2025-02-28T09:32:25.044589",
     "exception": false,
     "start_time": "2025-02-28T09:32:25.018113",
     "status": "completed"
    },
    "tags": []
   },
   "outputs": [
    {
     "data": {
      "text/plain": [
       "count    714.000000\n",
       "mean      29.699118\n",
       "std       14.526497\n",
       "min        0.420000\n",
       "25%       20.125000\n",
       "50%       28.000000\n",
       "75%       38.000000\n",
       "max       80.000000\n",
       "Name: Age, dtype: float64"
      ]
     },
     "execution_count": 42,
     "metadata": {},
     "output_type": "execute_result"
    }
   ],
   "source": [
    "titanic_train['Age'].describe()"
   ]
  },
  {
   "cell_type": "markdown",
   "id": "25d02bbe",
   "metadata": {
    "papermill": {
     "duration": 0.014839,
     "end_time": "2025-02-28T09:32:25.075220",
     "exception": false,
     "start_time": "2025-02-28T09:32:25.060381",
     "status": "completed"
    },
    "tags": []
   },
   "source": [
    "1. the count of age(712) is less than the total row count of data set(889).\n",
    "   \n",
    "2. This indicates missing data.\n",
    "\n",
    "3. Using **np.where()** to get the row indexes of the missing values "
   ]
  },
  {
   "cell_type": "code",
   "execution_count": 43,
   "id": "0047dc07",
   "metadata": {
    "execution": {
     "iopub.execute_input": "2025-02-28T09:32:25.107942Z",
     "iopub.status.busy": "2025-02-28T09:32:25.107584Z",
     "iopub.status.idle": "2025-02-28T09:32:25.114054Z",
     "shell.execute_reply": "2025-02-28T09:32:25.113108Z"
    },
    "papermill": {
     "duration": 0.024144,
     "end_time": "2025-02-28T09:32:25.115571",
     "exception": false,
     "start_time": "2025-02-28T09:32:25.091427",
     "status": "completed"
    },
    "tags": []
   },
   "outputs": [
    {
     "data": {
      "text/plain": [
       "(array([  5,  17,  19,  26,  28,  29,  31,  32,  36,  42,  45,  46,  47,\n",
       "         48,  55,  64,  65,  76,  77,  82,  87,  95, 101, 107, 109, 121,\n",
       "        126, 128, 140, 154, 158, 159, 166, 168, 176, 180, 181, 185, 186,\n",
       "        196, 198, 201, 214, 223, 229, 235, 240, 241, 250, 256, 260, 264,\n",
       "        270, 274, 277, 284, 295, 298, 300, 301, 303, 304, 306, 324, 330,\n",
       "        334, 335, 347, 351, 354, 358, 359, 364, 367, 368, 375, 384, 388,\n",
       "        409, 410, 411, 413, 415, 420, 425, 428, 431, 444, 451, 454, 457,\n",
       "        459, 464, 466, 468, 470, 475, 481, 485, 490, 495, 497, 502, 507,\n",
       "        511, 517, 522, 524, 527, 531, 533, 538, 547, 552, 557, 560, 563,\n",
       "        564, 568, 573, 578, 584, 589, 593, 596, 598, 601, 602, 611, 612,\n",
       "        613, 629, 633, 639, 643, 648, 650, 653, 656, 667, 669, 674, 680,\n",
       "        692, 697, 709, 711, 718, 727, 732, 738, 739, 740, 760, 766, 768,\n",
       "        773, 776, 778, 783, 790, 792, 793, 815, 825, 826, 828, 832, 837,\n",
       "        839, 846, 849, 859, 863, 868, 878, 888]),)"
      ]
     },
     "execution_count": 43,
     "metadata": {},
     "output_type": "execute_result"
    }
   ],
   "source": [
    "missing = np.where(titanic_train['Age'].isnull() == True)   # index wrapped with np.where()\n",
    "missing"
   ]
  },
  {
   "cell_type": "code",
   "execution_count": 44,
   "id": "5f3c328a",
   "metadata": {
    "execution": {
     "iopub.execute_input": "2025-02-28T09:32:25.148374Z",
     "iopub.status.busy": "2025-02-28T09:32:25.148034Z",
     "iopub.status.idle": "2025-02-28T09:32:25.153832Z",
     "shell.execute_reply": "2025-02-28T09:32:25.152795Z"
    },
    "papermill": {
     "duration": 0.023825,
     "end_time": "2025-02-28T09:32:25.155511",
     "exception": false,
     "start_time": "2025-02-28T09:32:25.131686",
     "status": "completed"
    },
    "tags": []
   },
   "outputs": [
    {
     "data": {
      "text/plain": [
       "177"
      ]
     },
     "execution_count": 44,
     "metadata": {},
     "output_type": "execute_result"
    }
   ],
   "source": [
    "# missing is a tuple that contains a single element, \n",
    "# which is the array of indices where Age is NaN. \n",
    "# access missing[0] --> retrieve the array of indices.  \n",
    " \n",
    "len(missing[0])  "
   ]
  },
  {
   "cell_type": "markdown",
   "id": "00e27a67",
   "metadata": {
    "papermill": {
     "duration": 0.016174,
     "end_time": "2025-02-28T09:32:25.188084",
     "exception": false,
     "start_time": "2025-02-28T09:32:25.171910",
     "status": "completed"
    },
    "tags": []
   },
   "source": [
    "**With 177 missing values it's probably not a good idea to throw all those records away. Here are a few ways we could deal with them:**\n",
    "\n",
    "1. Replace the null values with 0s\n",
    "2. Replace the null values with some central value like the mean or median\n",
    "3. Impute some other value\n",
    "4. Split the data set into two parts: one set with where records have an Age value and another set where age is null.\n",
    "\n",
    "\n",
    "\n",
    "* Setting missing values in numeric data to zero makes sense in some cases, but it doesn't make any sense here because a person's age can't be zero.\n",
    "* Setting all ages to some central number like the median is a simple fix but there's no telling whether such a central number is a reasonable estimate of age without looking at the distribution of ages.\n",
    "* For all we know each age is equally common.\n",
    "* So, quickly get a sense of the distribution of ages by creating a histogram of the age variable with df.hist():\n",
    "\n"
   ]
  },
  {
   "cell_type": "code",
   "execution_count": 45,
   "id": "705954ef",
   "metadata": {
    "execution": {
     "iopub.execute_input": "2025-02-28T09:32:25.221424Z",
     "iopub.status.busy": "2025-02-28T09:32:25.221066Z",
     "iopub.status.idle": "2025-02-28T09:32:25.593141Z",
     "shell.execute_reply": "2025-02-28T09:32:25.592178Z"
    },
    "papermill": {
     "duration": 0.390683,
     "end_time": "2025-02-28T09:32:25.594788",
     "exception": false,
     "start_time": "2025-02-28T09:32:25.204105",
     "status": "completed"
    },
    "tags": []
   },
   "outputs": [
    {
     "data": {
      "text/plain": [
       "array([[<Axes: title={'center': 'Age'}>]], dtype=object)"
      ]
     },
     "execution_count": 45,
     "metadata": {},
     "output_type": "execute_result"
    },
    {
     "data": {
      "image/png": "[encoded data removed]",
      "text/plain": [
       "<Figure size 700x400 with 1 Axes>"
      ]
     },
     "metadata": {},
     "output_type": "display_data"
    }
   ],
   "source": [
    "# Three elements in the plot:\n",
    "# 1. Column to plot \n",
    "# 2. Size of plot \n",
    "# 3. Number of bins in a histogram \n",
    "\n",
    "titanic_train.hist(column = \"Age\", \n",
    "                   figsize = (7, 4), \n",
    "                    bins = 20 \n",
    "                    )  "
   ]
  },
  {
   "cell_type": "markdown",
   "id": "9a507827",
   "metadata": {
    "papermill": {
     "duration": 0.015735,
     "end_time": "2025-02-28T09:32:25.626359",
     "exception": false,
     "start_time": "2025-02-28T09:32:25.610624",
     "status": "completed"
    },
    "tags": []
   },
   "source": [
    "1. From the histogram, we see that ages between 20 and 30 are the most common, so filling in missing values with a central number like the mean or median wouldn't be entirely unreasonable.\n",
    "\n",
    "2. Let's fill in the missing values with the median value of 28:\n",
    "\n",
    "\n"
   ]
  },
  {
   "cell_type": "code",
   "execution_count": 46,
   "id": "b43cd54b",
   "metadata": {
    "execution": {
     "iopub.execute_input": "2025-02-28T09:32:25.664416Z",
     "iopub.status.busy": "2025-02-28T09:32:25.664051Z",
     "iopub.status.idle": "2025-02-28T09:32:25.673866Z",
     "shell.execute_reply": "2025-02-28T09:32:25.672854Z"
    },
    "papermill": {
     "duration": 0.033213,
     "end_time": "2025-02-28T09:32:25.675324",
     "exception": false,
     "start_time": "2025-02-28T09:32:25.642111",
     "status": "completed"
    },
    "tags": []
   },
   "outputs": [
    {
     "data": {
      "text/plain": [
       "count    891.000000\n",
       "mean      29.361582\n",
       "std       13.019697\n",
       "min        0.420000\n",
       "25%       22.000000\n",
       "50%       28.000000\n",
       "75%       35.000000\n",
       "max       80.000000\n",
       "Name: Age, dtype: float64"
      ]
     },
     "execution_count": 46,
     "metadata": {},
     "output_type": "execute_result"
    }
   ],
   "source": [
    "# 1. logical check \n",
    "# 2. value if check is True, \n",
    "# 3. value if the check is False. \n",
    "\n",
    "\n",
    "new_age_var = np.where (titanic_train['Age'].isnull(),           \n",
    "                        28,                                     \n",
    "                        titanic_train['Age'] \n",
    "                       )\n",
    "\n",
    "titanic_train[\"Age\"] = new_age_var \n",
    "\n",
    "titanic_train['Age'].describe()   \n",
    "\n"
   ]
  },
  {
   "cell_type": "code",
   "execution_count": 47,
   "id": "138c17e1",
   "metadata": {
    "execution": {
     "iopub.execute_input": "2025-02-28T09:32:25.708718Z",
     "iopub.status.busy": "2025-02-28T09:32:25.708419Z",
     "iopub.status.idle": "2025-02-28T09:32:25.944247Z",
     "shell.execute_reply": "2025-02-28T09:32:25.943290Z"
    },
    "papermill": {
     "duration": 0.254116,
     "end_time": "2025-02-28T09:32:25.945788",
     "exception": false,
     "start_time": "2025-02-28T09:32:25.691672",
     "status": "completed"
    },
    "tags": []
   },
   "outputs": [
    {
     "data": {
      "text/plain": [
       "array([[<Axes: title={'center': 'Age'}>]], dtype=object)"
      ]
     },
     "execution_count": 47,
     "metadata": {},
     "output_type": "execute_result"
    },
    {
     "data": {
      "image/png": "[encoded data removed]",
      "text/plain": [
       "<Figure size 700x400 with 1 Axes>"
      ]
     },
     "metadata": {},
     "output_type": "display_data"
    }
   ],
   "source": [
    "titanic_train.hist(column = 'Age', \n",
    "                   figsize = (7, 4),\n",
    "                   bins = 20 \n",
    "    \n",
    ")"
   ]
  },
  {
   "cell_type": "markdown",
   "id": "c1711e23",
   "metadata": {
    "papermill": {
     "duration": 0.01614,
     "end_time": "2025-02-28T09:32:25.978579",
     "exception": false,
     "start_time": "2025-02-28T09:32:25.962439",
     "status": "completed"
    },
    "tags": []
   },
   "source": [
    "1. Let's consider outliers. Outliers are extreme numerical values: values that lie far away from the typical values a variable takes on.\n",
    "   \n",
    "2. Creating plots is one of the quickest ways to detect outliers.\n",
    "\n",
    "   \n",
    "3. For instance, the histogram above shows that 1 or 2 passengers were near age 80.    "
   ]
  },
  {
   "cell_type": "markdown",
   "id": "c83b7d4b",
   "metadata": {
    "papermill": {
     "duration": 0.015936,
     "end_time": "2025-02-28T09:32:26.010563",
     "exception": false,
     "start_time": "2025-02-28T09:32:25.994627",
     "status": "completed"
    },
    "tags": []
   },
   "source": [
    "1. investigate the \"Fare\" variable.\n",
    "   \n",
    "2. use a boxplot to:  \n",
    "\n",
    "3. show the spread of the data\n",
    "\n",
    "4. help identify outliers.  "
   ]
  },
  {
   "cell_type": "code",
   "execution_count": 48,
   "id": "91b9957b",
   "metadata": {
    "execution": {
     "iopub.execute_input": "2025-02-28T09:32:26.044950Z",
     "iopub.status.busy": "2025-02-28T09:32:26.044591Z",
     "iopub.status.idle": "2025-02-28T09:32:26.193902Z",
     "shell.execute_reply": "2025-02-28T09:32:26.192709Z"
    },
    "papermill": {
     "duration": 0.16929,
     "end_time": "2025-02-28T09:32:26.196320",
     "exception": false,
     "start_time": "2025-02-28T09:32:26.027030",
     "status": "completed"
    },
    "tags": []
   },
   "outputs": [
    {
     "data": {
      "text/plain": [
       "<Axes: >"
      ]
     },
     "execution_count": 48,
     "metadata": {},
     "output_type": "execute_result"
    },
    {
     "data": {
      "image/png": "[encoded data removed]",
      "text/plain": [
       "<Figure size 400x400 with 1 Axes>"
      ]
     },
     "metadata": {},
     "output_type": "display_data"
    }
   ],
   "source": [
    "titanic_train['Fare'].plot(kind = 'box', \n",
    "                           figsize = (4, 4) \n",
    "                          ) "
   ]
  },
  {
   "cell_type": "code",
   "execution_count": 49,
   "id": "8894e5cb",
   "metadata": {
    "execution": {
     "iopub.execute_input": "2025-02-28T09:32:26.253886Z",
     "iopub.status.busy": "2025-02-28T09:32:26.253387Z",
     "iopub.status.idle": "2025-02-28T09:32:26.277370Z",
     "shell.execute_reply": "2025-02-28T09:32:26.276137Z"
    },
    "papermill": {
     "duration": 0.058264,
     "end_time": "2025-02-28T09:32:26.278787",
     "exception": false,
     "start_time": "2025-02-28T09:32:26.220523",
     "status": "completed"
    },
    "tags": []
   },
   "outputs": [
    {
     "data": {
      "text/html": [
       "<div>\n",
       "<style scoped>\n",
       "    .dataframe tbody tr th:only-of-type {\n",
       "        vertical-align: middle;\n",
       "    }\n",
       "\n",
       "    .dataframe tbody tr th {\n",
       "        vertical-align: top;\n",
       "    }\n",
       "\n",
       "    .dataframe thead th {\n",
       "        text-align: right;\n",
       "    }\n",
       "</style>\n",
       "<table border=\"1\" class=\"dataframe\">\n",
       "  <thead>\n",
       "    <tr style=\"text-align: right;\">\n",
       "      <th></th>\n",
       "      <th>Survived</th>\n",
       "      <th>Pclass</th>\n",
       "      <th>Name</th>\n",
       "      <th>Sex</th>\n",
       "      <th>Age</th>\n",
       "      <th>SibSp</th>\n",
       "      <th>Parch</th>\n",
       "      <th>Fare</th>\n",
       "      <th>Cabin</th>\n",
       "      <th>Embarked</th>\n",
       "    </tr>\n",
       "  </thead>\n",
       "  <tbody>\n",
       "    <tr>\n",
       "      <th>258</th>\n",
       "      <td>Survived</td>\n",
       "      <td>Class1</td>\n",
       "      <td>Ward, Miss. Anna</td>\n",
       "      <td>female</td>\n",
       "      <td>35.0</td>\n",
       "      <td>0</td>\n",
       "      <td>0</td>\n",
       "      <td>512.3292</td>\n",
       "      <td>n</td>\n",
       "      <td>C</td>\n",
       "    </tr>\n",
       "    <tr>\n",
       "      <th>679</th>\n",
       "      <td>Survived</td>\n",
       "      <td>Class1</td>\n",
       "      <td>Cardeza, Mr. Thomas Drake Martinez</td>\n",
       "      <td>male</td>\n",
       "      <td>36.0</td>\n",
       "      <td>0</td>\n",
       "      <td>1</td>\n",
       "      <td>512.3292</td>\n",
       "      <td>B</td>\n",
       "      <td>C</td>\n",
       "    </tr>\n",
       "    <tr>\n",
       "      <th>737</th>\n",
       "      <td>Survived</td>\n",
       "      <td>Class1</td>\n",
       "      <td>Lesurer, Mr. Gustave J</td>\n",
       "      <td>male</td>\n",
       "      <td>35.0</td>\n",
       "      <td>0</td>\n",
       "      <td>0</td>\n",
       "      <td>512.3292</td>\n",
       "      <td>B</td>\n",
       "      <td>C</td>\n",
       "    </tr>\n",
       "  </tbody>\n",
       "</table>\n",
       "</div>"
      ],
      "text/plain": [
       "     Survived  Pclass                                Name     Sex   Age  \\\n",
       "258  Survived  Class1                    Ward, Miss. Anna  female  35.0   \n",
       "679  Survived  Class1  Cardeza, Mr. Thomas Drake Martinez    male  36.0   \n",
       "737  Survived  Class1              Lesurer, Mr. Gustave J    male  35.0   \n",
       "\n",
       "     SibSp  Parch      Fare Cabin Embarked  \n",
       "258      0      0  512.3292     n        C  \n",
       "679      0      1  512.3292     B        C  \n",
       "737      0      0  512.3292     B        C  "
      ]
     },
     "execution_count": 49,
     "metadata": {},
     "output_type": "execute_result"
    }
   ],
   "source": [
    "# Find out who paid the highest fare: \n",
    "\n",
    "index = np.where(titanic_train['Fare'] == max(titanic_train['Fare'])) \n",
    "\n",
    "titanic_train.loc[index] "
   ]
  },
  {
   "cell_type": "markdown",
   "id": "ef8d8ce0",
   "metadata": {
    "papermill": {
     "duration": 0.022649,
     "end_time": "2025-02-28T09:32:26.319837",
     "exception": false,
     "start_time": "2025-02-28T09:32:26.297188",
     "status": "completed"
    },
    "tags": []
   },
   "source": [
    "1. In the graph there appears to be on passenger who paid more than all the others, but the output above shows that there were actually three passengers who all paid the same high fare.\n",
    "\n",
    "2. Similar to NA values, there's no single cure for outliers. You can keep them, delete them or transform them in some way to try to reduce their impact. Even if you decide to keep outliers unchanged it is still worth identifying them since they can have disproportionately large influence on your results. Let's keep the three high rollers unchanged.\n",
    "\n",
    "3. Data sets can have other strange values beyond missing values and outliers that you may need to address. Sometimes data is mislabeled or simply erroneous; **bad data can corrupt any sort of analysis so it is important to address these sorts of issues before doing too much work.**"
   ]
  },
  {
   "cell_type": "markdown",
   "id": "fa885b7b",
   "metadata": {
    "papermill": {
     "duration": 0.022371,
     "end_time": "2025-02-28T09:32:26.362573",
     "exception": false,
     "start_time": "2025-02-28T09:32:26.340202",
     "status": "completed"
    },
    "tags": []
   },
   "source": [
    "# Should I Create New Variables?¶> "
   ]
  },
  {
   "cell_type": "markdown",
   "id": "45c75758",
   "metadata": {
    "papermill": {
     "duration": 0.017669,
     "end_time": "2025-02-28T09:32:26.402213",
     "exception": false,
     "start_time": "2025-02-28T09:32:26.384544",
     "status": "completed"
    },
    "tags": []
   },
   "source": [
    "1. The variables present when you load a data set aren't always the most useful variables for analysis.\n",
    "   \n",
    "2. Creating new variables that are derivations or combinations of existing ones is a common step to take before jumping into an analysis or modeling task.\n",
    "\n",
    "3. Creating a new variable can be as simple as taking one variable and adding, multiplying, or dividing by another. \n",
    "\n",
    "4. Let's create a new variable, Family, that combines SibSp and Parch to indicate the total number of family members (siblings, spouses, parents, and children) a passenger has on board. "
   ]
  },
  {
   "cell_type": "code",
   "execution_count": 50,
   "id": "e3443621",
   "metadata": {
    "execution": {
     "iopub.execute_input": "2025-02-28T09:32:26.439177Z",
     "iopub.status.busy": "2025-02-28T09:32:26.438802Z",
     "iopub.status.idle": "2025-02-28T09:32:26.444235Z",
     "shell.execute_reply": "2025-02-28T09:32:26.443209Z"
    },
    "papermill": {
     "duration": 0.025738,
     "end_time": "2025-02-28T09:32:26.445764",
     "exception": false,
     "start_time": "2025-02-28T09:32:26.420026",
     "status": "completed"
    },
    "tags": []
   },
   "outputs": [],
   "source": [
    "# Create a new variable, Family \n",
    "# combines SibSp and Parch to indicate the total number of family members \n",
    "# (siblings, spouses, parents, and children) a passenger has on board.  \n",
    "\n",
    "titanic_train[\"Family\"] = titanic_train[\"SibSp\"] + titanic_train[\"Parch\"]  "
   ]
  },
  {
   "cell_type": "code",
   "execution_count": 51,
   "id": "876e7152",
   "metadata": {
    "execution": {
     "iopub.execute_input": "2025-02-28T09:32:26.481298Z",
     "iopub.status.busy": "2025-02-28T09:32:26.480934Z",
     "iopub.status.idle": "2025-02-28T09:32:26.496858Z",
     "shell.execute_reply": "2025-02-28T09:32:26.496025Z"
    },
    "papermill": {
     "duration": 0.035403,
     "end_time": "2025-02-28T09:32:26.498287",
     "exception": false,
     "start_time": "2025-02-28T09:32:26.462884",
     "status": "completed"
    },
    "tags": []
   },
   "outputs": [
    {
     "data": {
      "text/html": [
       "<div>\n",
       "<style scoped>\n",
       "    .dataframe tbody tr th:only-of-type {\n",
       "        vertical-align: middle;\n",
       "    }\n",
       "\n",
       "    .dataframe tbody tr th {\n",
       "        vertical-align: top;\n",
       "    }\n",
       "\n",
       "    .dataframe thead th {\n",
       "        text-align: right;\n",
       "    }\n",
       "</style>\n",
       "<table border=\"1\" class=\"dataframe\">\n",
       "  <thead>\n",
       "    <tr style=\"text-align: right;\">\n",
       "      <th></th>\n",
       "      <th>Survived</th>\n",
       "      <th>Pclass</th>\n",
       "      <th>Name</th>\n",
       "      <th>Sex</th>\n",
       "      <th>Age</th>\n",
       "      <th>SibSp</th>\n",
       "      <th>Parch</th>\n",
       "      <th>Fare</th>\n",
       "      <th>Cabin</th>\n",
       "      <th>Embarked</th>\n",
       "      <th>Family</th>\n",
       "    </tr>\n",
       "  </thead>\n",
       "  <tbody>\n",
       "    <tr>\n",
       "      <th>159</th>\n",
       "      <td>Died</td>\n",
       "      <td>Class3</td>\n",
       "      <td>Sage, Master. Thomas Henry</td>\n",
       "      <td>male</td>\n",
       "      <td>28.0</td>\n",
       "      <td>8</td>\n",
       "      <td>2</td>\n",
       "      <td>69.55</td>\n",
       "      <td>n</td>\n",
       "      <td>S</td>\n",
       "      <td>10</td>\n",
       "    </tr>\n",
       "    <tr>\n",
       "      <th>180</th>\n",
       "      <td>Died</td>\n",
       "      <td>Class3</td>\n",
       "      <td>Sage, Miss. Constance Gladys</td>\n",
       "      <td>female</td>\n",
       "      <td>28.0</td>\n",
       "      <td>8</td>\n",
       "      <td>2</td>\n",
       "      <td>69.55</td>\n",
       "      <td>n</td>\n",
       "      <td>S</td>\n",
       "      <td>10</td>\n",
       "    </tr>\n",
       "    <tr>\n",
       "      <th>201</th>\n",
       "      <td>Died</td>\n",
       "      <td>Class3</td>\n",
       "      <td>Sage, Mr. Frederick</td>\n",
       "      <td>male</td>\n",
       "      <td>28.0</td>\n",
       "      <td>8</td>\n",
       "      <td>2</td>\n",
       "      <td>69.55</td>\n",
       "      <td>n</td>\n",
       "      <td>S</td>\n",
       "      <td>10</td>\n",
       "    </tr>\n",
       "    <tr>\n",
       "      <th>324</th>\n",
       "      <td>Died</td>\n",
       "      <td>Class3</td>\n",
       "      <td>Sage, Mr. George John Jr</td>\n",
       "      <td>male</td>\n",
       "      <td>28.0</td>\n",
       "      <td>8</td>\n",
       "      <td>2</td>\n",
       "      <td>69.55</td>\n",
       "      <td>n</td>\n",
       "      <td>S</td>\n",
       "      <td>10</td>\n",
       "    </tr>\n",
       "    <tr>\n",
       "      <th>792</th>\n",
       "      <td>Died</td>\n",
       "      <td>Class3</td>\n",
       "      <td>Sage, Miss. Stella Anna</td>\n",
       "      <td>female</td>\n",
       "      <td>28.0</td>\n",
       "      <td>8</td>\n",
       "      <td>2</td>\n",
       "      <td>69.55</td>\n",
       "      <td>n</td>\n",
       "      <td>S</td>\n",
       "      <td>10</td>\n",
       "    </tr>\n",
       "    <tr>\n",
       "      <th>846</th>\n",
       "      <td>Died</td>\n",
       "      <td>Class3</td>\n",
       "      <td>Sage, Mr. Douglas Bullen</td>\n",
       "      <td>male</td>\n",
       "      <td>28.0</td>\n",
       "      <td>8</td>\n",
       "      <td>2</td>\n",
       "      <td>69.55</td>\n",
       "      <td>n</td>\n",
       "      <td>S</td>\n",
       "      <td>10</td>\n",
       "    </tr>\n",
       "    <tr>\n",
       "      <th>863</th>\n",
       "      <td>Died</td>\n",
       "      <td>Class3</td>\n",
       "      <td>Sage, Miss. Dorothy Edith \"Dolly\"</td>\n",
       "      <td>female</td>\n",
       "      <td>28.0</td>\n",
       "      <td>8</td>\n",
       "      <td>2</td>\n",
       "      <td>69.55</td>\n",
       "      <td>n</td>\n",
       "      <td>S</td>\n",
       "      <td>10</td>\n",
       "    </tr>\n",
       "  </tbody>\n",
       "</table>\n",
       "</div>"
      ],
      "text/plain": [
       "    Survived  Pclass                               Name     Sex   Age  SibSp  \\\n",
       "159     Died  Class3         Sage, Master. Thomas Henry    male  28.0      8   \n",
       "180     Died  Class3       Sage, Miss. Constance Gladys  female  28.0      8   \n",
       "201     Died  Class3                Sage, Mr. Frederick    male  28.0      8   \n",
       "324     Died  Class3           Sage, Mr. George John Jr    male  28.0      8   \n",
       "792     Died  Class3            Sage, Miss. Stella Anna  female  28.0      8   \n",
       "846     Died  Class3           Sage, Mr. Douglas Bullen    male  28.0      8   \n",
       "863     Died  Class3  Sage, Miss. Dorothy Edith \"Dolly\"  female  28.0      8   \n",
       "\n",
       "     Parch   Fare Cabin Embarked  Family  \n",
       "159      2  69.55     n        S      10  \n",
       "180      2  69.55     n        S      10  \n",
       "201      2  69.55     n        S      10  \n",
       "324      2  69.55     n        S      10  \n",
       "792      2  69.55     n        S      10  \n",
       "846      2  69.55     n        S      10  \n",
       "863      2  69.55     n        S      10  "
      ]
     },
     "execution_count": 51,
     "metadata": {},
     "output_type": "execute_result"
    }
   ],
   "source": [
    "# Find out who had the most family members on board: \n",
    "\n",
    "most_family = np.where(titanic_train[\"Family\"] == max(titanic_train[\"Family\"])) \n",
    "\n",
    "titanic_train.loc[most_family] "
   ]
  },
  {
   "cell_type": "markdown",
   "id": "c2b2725f",
   "metadata": {
    "papermill": {
     "duration": 0.016957,
     "end_time": "2025-02-28T09:32:26.532624",
     "exception": false,
     "start_time": "2025-02-28T09:32:26.515667",
     "status": "completed"
    },
    "tags": []
   },
   "source": [
    "Conclusion: \n",
    "\n",
    "1. There were 7 people on board with 8 siblings/spouses and 2 parents/children--they were probably all siblings of one another.\n",
    "   \n",
    "2. Tragically, all 7 of them passed away. "
   ]
  }
 ],
 "metadata": {
  "kaggle": {
   "accelerator": "none",
   "dataSources": [
    {
     "datasetId": 6700123,
     "sourceId": 10795874,
     "sourceType": "datasetVersion"
    }
   ],
   "dockerImageVersionId": 30886,
   "isGpuEnabled": false,
   "isInternetEnabled": false,
   "language": "python",
   "sourceType": "notebook"
  },
  "kernelspec": {
   "display_name": "Python 3",
   "language": "python",
   "name": "python3"
  },
  "language_info": {
   "codemirror_mode": {
    "name": "ipython",
    "version": 3
   },
   "file_extension": ".py",
   "mimetype": "text/x-python",
   "name": "python",
   "nbconvert_exporter": "python",
   "pygments_lexer": "ipython3",
   "version": "3.10.12"
  },
  "papermill": {
   "default_parameters": {},
   "duration": 7.699547,
   "end_time": "2025-02-28T09:32:27.067970",
   "environment_variables": {},
   "exception": null,
   "input_path": "__notebook__.ipynb",
   "output_path": "__notebook__.ipynb",
   "parameters": {},
   "start_time": "2025-02-28T09:32:19.368423",
   "version": "2.6.0"
  }
 },
 "nbformat": 4,
 "nbformat_minor": 5
}
