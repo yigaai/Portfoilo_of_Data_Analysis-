{
 "cells": [
  {
   "cell_type": "code",
   "execution_count": 1,
   "id": "3fa8771a",
   "metadata": {
    "_cell_guid": "b1076dfc-b9ad-4769-8c92-a6c4dae69d19",
    "_uuid": "8f2839f25d086af736a60e9eeb907d3b93b6e0e5",
    "execution": {
     "iopub.execute_input": "2025-02-24T15:36:22.608584Z",
     "iopub.status.busy": "2025-02-24T15:36:22.608089Z",
     "iopub.status.idle": "2025-02-24T15:36:24.123509Z",
     "shell.execute_reply": "2025-02-24T15:36:24.122472Z"
    },
    "papermill": {
     "duration": 1.525729,
     "end_time": "2025-02-24T15:36:24.125176",
     "exception": false,
     "start_time": "2025-02-24T15:36:22.599447",
     "status": "completed"
    },
    "tags": []
   },
   "outputs": [
    {
     "name": "stdout",
     "output_type": "stream",
     "text": [
      "/kaggle/input/titanic-dataset-1/train.csv\n",
      "/kaggle/input/titanic-dataset-1/test.csv\n",
      "/kaggle/input/titanic-dataset-1/gender_submission.csv\n"
     ]
    }
   ],
   "source": [
    "# This Python 3 environment comes with many helpful analytics libraries installed\n",
    "# It is defined by the kaggle/python Docker image: https://github.com/kaggle/docker-python\n",
    "# For example, here's several helpful packages to load\n",
    "\n",
    "import numpy as np # linear algebra\n",
    "import pandas as pd # data processing, CSV file I/O (e.g. pd.read_csv)\n",
    "\n",
    "# Input data files are available in the read-only \"../input/\" directory\n",
    "# For example, running this (by clicking run or pressing Shift+Enter) will list all files under the input directory\n",
    "\n",
    "import os\n",
    "for dirname, _, filenames in os.walk('/kaggle/input'):\n",
    "    for filename in filenames:\n",
    "        print(os.path.join(dirname, filename))\n",
    "\n",
    "# You can write up to 20GB to the current directory (/kaggle/working/) that gets preserved as output when you create a version using \"Save & Run All\" \n",
    "# You can also write temporary files to /kaggle/temp/, but they won't be saved outside of the current session"
   ]
  },
  {
   "cell_type": "code",
   "execution_count": 2,
   "id": "b66d5ed1",
   "metadata": {
    "execution": {
     "iopub.execute_input": "2025-02-24T15:36:24.143589Z",
     "iopub.status.busy": "2025-02-24T15:36:24.142886Z",
     "iopub.status.idle": "2025-02-24T15:36:24.149072Z",
     "shell.execute_reply": "2025-02-24T15:36:24.147249Z"
    },
    "papermill": {
     "duration": 0.017899,
     "end_time": "2025-02-24T15:36:24.151549",
     "exception": false,
     "start_time": "2025-02-24T15:36:24.133650",
     "status": "completed"
    },
    "tags": []
   },
   "outputs": [],
   "source": [
    "import numpy as np \n",
    "import pandas as pd \n",
    "import os"
   ]
  },
  {
   "cell_type": "code",
   "execution_count": 3,
   "id": "240d0de3",
   "metadata": {
    "execution": {
     "iopub.execute_input": "2025-02-24T15:36:24.165509Z",
     "iopub.status.busy": "2025-02-24T15:36:24.165008Z",
     "iopub.status.idle": "2025-02-24T15:36:24.173595Z",
     "shell.execute_reply": "2025-02-24T15:36:24.171643Z"
    },
    "papermill": {
     "duration": 0.017881,
     "end_time": "2025-02-24T15:36:24.175753",
     "exception": false,
     "start_time": "2025-02-24T15:36:24.157872",
     "status": "completed"
    },
    "tags": []
   },
   "outputs": [
    {
     "data": {
      "text/plain": [
       "'/kaggle/working'"
      ]
     },
     "execution_count": 3,
     "metadata": {},
     "output_type": "execute_result"
    }
   ],
   "source": [
    "# check the work directory \n",
    "os.getcwd()"
   ]
  },
  {
   "cell_type": "code",
   "execution_count": 4,
   "id": "9f95f5e0",
   "metadata": {
    "execution": {
     "iopub.execute_input": "2025-02-24T15:36:24.189136Z",
     "iopub.status.busy": "2025-02-24T15:36:24.188668Z",
     "iopub.status.idle": "2025-02-24T15:36:24.196021Z",
     "shell.execute_reply": "2025-02-24T15:36:24.193404Z"
    },
    "papermill": {
     "duration": 0.016283,
     "end_time": "2025-02-24T15:36:24.198243",
     "exception": false,
     "start_time": "2025-02-24T15:36:24.181960",
     "status": "completed"
    },
    "tags": []
   },
   "outputs": [
    {
     "data": {
      "text/plain": [
       "'/kaggle'"
      ]
     },
     "execution_count": 4,
     "metadata": {},
     "output_type": "execute_result"
    }
   ],
   "source": [
    "# back to kaggle \n",
    "os.chdir('/kaggle/') \n",
    "os.getcwd()"
   ]
  },
  {
   "cell_type": "code",
   "execution_count": 5,
   "id": "a2fe4117",
   "metadata": {
    "execution": {
     "iopub.execute_input": "2025-02-24T15:36:24.213885Z",
     "iopub.status.busy": "2025-02-24T15:36:24.213413Z",
     "iopub.status.idle": "2025-02-24T15:36:24.222534Z",
     "shell.execute_reply": "2025-02-24T15:36:24.221428Z"
    },
    "papermill": {
     "duration": 0.020438,
     "end_time": "2025-02-24T15:36:24.225352",
     "exception": false,
     "start_time": "2025-02-24T15:36:24.204914",
     "status": "completed"
    },
    "tags": []
   },
   "outputs": [
    {
     "data": {
      "text/plain": [
       "['train.csv', 'test.csv', 'gender_submission.csv']"
      ]
     },
     "execution_count": 5,
     "metadata": {},
     "output_type": "execute_result"
    }
   ],
   "source": [
    "# pass the file path to os.listdir() function to list all of the objects \n",
    "os.listdir('/kaggle') \n",
    "\n",
    "# to see what in the input:\n",
    "os.listdir('/kaggle/input')  \n",
    "\n",
    "os.listdir('/kaggle/input/titanic-dataset-1')  "
   ]
  },
  {
   "cell_type": "code",
   "execution_count": 6,
   "id": "82bd65f3",
   "metadata": {
    "execution": {
     "iopub.execute_input": "2025-02-24T15:36:24.240622Z",
     "iopub.status.busy": "2025-02-24T15:36:24.240095Z",
     "iopub.status.idle": "2025-02-24T15:36:24.268998Z",
     "shell.execute_reply": "2025-02-24T15:36:24.267930Z"
    },
    "papermill": {
     "duration": 0.039189,
     "end_time": "2025-02-24T15:36:24.271478",
     "exception": false,
     "start_time": "2025-02-24T15:36:24.232289",
     "status": "completed"
    },
    "tags": []
   },
   "outputs": [],
   "source": [
    "# supply the file path \n",
    "titanic_train = pd.read_csv('input/titanic-dataset-1/train.csv') "
   ]
  },
  {
   "cell_type": "code",
   "execution_count": 7,
   "id": "c49fec31",
   "metadata": {
    "execution": {
     "iopub.execute_input": "2025-02-24T15:36:24.288340Z",
     "iopub.status.busy": "2025-02-24T15:36:24.287944Z",
     "iopub.status.idle": "2025-02-24T15:36:24.295236Z",
     "shell.execute_reply": "2025-02-24T15:36:24.293650Z"
    },
    "papermill": {
     "duration": 0.017579,
     "end_time": "2025-02-24T15:36:24.297634",
     "exception": false,
     "start_time": "2025-02-24T15:36:24.280055",
     "status": "completed"
    },
    "tags": []
   },
   "outputs": [
    {
     "data": {
      "text/plain": [
       "(891, 12)"
      ]
     },
     "execution_count": 7,
     "metadata": {},
     "output_type": "execute_result"
    }
   ],
   "source": [
    "# It's a good idea to start off by checking the dimensions of your data set with df.shape \n",
    "# and the variable data types of df.dtypes.\n",
    "\n",
    "titanic_train.shape \n",
    "\n",
    "# 891 records and 12 columns "
   ]
  },
  {
   "cell_type": "code",
   "execution_count": 8,
   "id": "dc64ad2d",
   "metadata": {
    "execution": {
     "iopub.execute_input": "2025-02-24T15:36:24.312204Z",
     "iopub.status.busy": "2025-02-24T15:36:24.311729Z",
     "iopub.status.idle": "2025-02-24T15:36:24.329703Z",
     "shell.execute_reply": "2025-02-24T15:36:24.328005Z"
    },
    "papermill": {
     "duration": 0.027013,
     "end_time": "2025-02-24T15:36:24.331580",
     "exception": false,
     "start_time": "2025-02-24T15:36:24.304567",
     "status": "completed"
    },
    "tags": []
   },
   "outputs": [
    {
     "data": {
      "text/plain": [
       "PassengerId      int64\n",
       "Survived         int64\n",
       "Pclass           int64\n",
       "Name            object\n",
       "Sex             object\n",
       "Age            float64\n",
       "SibSp            int64\n",
       "Parch            int64\n",
       "Ticket          object\n",
       "Fare           float64\n",
       "Cabin           object\n",
       "Embarked        object\n",
       "dtype: object"
      ]
     },
     "execution_count": 8,
     "metadata": {},
     "output_type": "execute_result"
    }
   ],
   "source": [
    "titanic_train.dtypes"
   ]
  },
  {
   "cell_type": "code",
   "execution_count": 9,
   "id": "1738ccd0",
   "metadata": {
    "execution": {
     "iopub.execute_input": "2025-02-24T15:36:24.346363Z",
     "iopub.status.busy": "2025-02-24T15:36:24.345827Z",
     "iopub.status.idle": "2025-02-24T15:36:24.384260Z",
     "shell.execute_reply": "2025-02-24T15:36:24.383231Z"
    },
    "papermill": {
     "duration": 0.048385,
     "end_time": "2025-02-24T15:36:24.386649",
     "exception": false,
     "start_time": "2025-02-24T15:36:24.338264",
     "status": "completed"
    },
    "tags": []
   },
   "outputs": [
    {
     "name": "stdout",
     "output_type": "stream",
     "text": [
      "<class 'pandas.core.frame.DataFrame'>\n",
      "RangeIndex: 891 entries, 0 to 890\n",
      "Data columns (total 12 columns):\n",
      " #   Column       Non-Null Count  Dtype  \n",
      "---  ------       --------------  -----  \n",
      " 0   PassengerId  891 non-null    int64  \n",
      " 1   Survived     891 non-null    int64  \n",
      " 2   Pclass       891 non-null    int64  \n",
      " 3   Name         891 non-null    object \n",
      " 4   Sex          891 non-null    object \n",
      " 5   Age          714 non-null    float64\n",
      " 6   SibSp        891 non-null    int64  \n",
      " 7   Parch        891 non-null    int64  \n",
      " 8   Ticket       891 non-null    object \n",
      " 9   Fare         891 non-null    float64\n",
      " 10  Cabin        204 non-null    object \n",
      " 11  Embarked     889 non-null    object \n",
      "dtypes: float64(2), int64(5), object(5)\n",
      "memory usage: 83.7+ KB\n"
     ]
    }
   ],
   "source": [
    "titanic_train.info() "
   ]
  },
  {
   "cell_type": "code",
   "execution_count": 10,
   "id": "a183e16e",
   "metadata": {
    "execution": {
     "iopub.execute_input": "2025-02-24T15:36:24.401852Z",
     "iopub.status.busy": "2025-02-24T15:36:24.401342Z",
     "iopub.status.idle": "2025-02-24T15:36:24.430461Z",
     "shell.execute_reply": "2025-02-24T15:36:24.429252Z"
    },
    "papermill": {
     "duration": 0.038921,
     "end_time": "2025-02-24T15:36:24.432963",
     "exception": false,
     "start_time": "2025-02-24T15:36:24.394042",
     "status": "completed"
    },
    "tags": []
   },
   "outputs": [
    {
     "data": {
      "text/html": [
       "<div>\n",
       "<style scoped>\n",
       "    .dataframe tbody tr th:only-of-type {\n",
       "        vertical-align: middle;\n",
       "    }\n",
       "\n",
       "    .dataframe tbody tr th {\n",
       "        vertical-align: top;\n",
       "    }\n",
       "\n",
       "    .dataframe thead th {\n",
       "        text-align: right;\n",
       "    }\n",
       "</style>\n",
       "<table border=\"1\" class=\"dataframe\">\n",
       "  <thead>\n",
       "    <tr style=\"text-align: right;\">\n",
       "      <th></th>\n",
       "      <th>PassengerId</th>\n",
       "      <th>Survived</th>\n",
       "      <th>Pclass</th>\n",
       "      <th>Name</th>\n",
       "      <th>Sex</th>\n",
       "      <th>Age</th>\n",
       "      <th>SibSp</th>\n",
       "      <th>Parch</th>\n",
       "      <th>Ticket</th>\n",
       "      <th>Fare</th>\n",
       "      <th>Cabin</th>\n",
       "      <th>Embarked</th>\n",
       "    </tr>\n",
       "  </thead>\n",
       "  <tbody>\n",
       "    <tr>\n",
       "      <th>0</th>\n",
       "      <td>1</td>\n",
       "      <td>0</td>\n",
       "      <td>3</td>\n",
       "      <td>Braund, Mr. Owen Harris</td>\n",
       "      <td>male</td>\n",
       "      <td>22.0</td>\n",
       "      <td>1</td>\n",
       "      <td>0</td>\n",
       "      <td>A/5 21171</td>\n",
       "      <td>7.2500</td>\n",
       "      <td>NaN</td>\n",
       "      <td>S</td>\n",
       "    </tr>\n",
       "    <tr>\n",
       "      <th>1</th>\n",
       "      <td>2</td>\n",
       "      <td>1</td>\n",
       "      <td>1</td>\n",
       "      <td>Cumings, Mrs. John Bradley (Florence Briggs Th...</td>\n",
       "      <td>female</td>\n",
       "      <td>38.0</td>\n",
       "      <td>1</td>\n",
       "      <td>0</td>\n",
       "      <td>PC 17599</td>\n",
       "      <td>71.2833</td>\n",
       "      <td>C85</td>\n",
       "      <td>C</td>\n",
       "    </tr>\n",
       "    <tr>\n",
       "      <th>2</th>\n",
       "      <td>3</td>\n",
       "      <td>1</td>\n",
       "      <td>3</td>\n",
       "      <td>Heikkinen, Miss. Laina</td>\n",
       "      <td>female</td>\n",
       "      <td>26.0</td>\n",
       "      <td>0</td>\n",
       "      <td>0</td>\n",
       "      <td>STON/O2. 3101282</td>\n",
       "      <td>7.9250</td>\n",
       "      <td>NaN</td>\n",
       "      <td>S</td>\n",
       "    </tr>\n",
       "    <tr>\n",
       "      <th>3</th>\n",
       "      <td>4</td>\n",
       "      <td>1</td>\n",
       "      <td>1</td>\n",
       "      <td>Futrelle, Mrs. Jacques Heath (Lily May Peel)</td>\n",
       "      <td>female</td>\n",
       "      <td>35.0</td>\n",
       "      <td>1</td>\n",
       "      <td>0</td>\n",
       "      <td>113803</td>\n",
       "      <td>53.1000</td>\n",
       "      <td>C123</td>\n",
       "      <td>S</td>\n",
       "    </tr>\n",
       "    <tr>\n",
       "      <th>4</th>\n",
       "      <td>5</td>\n",
       "      <td>0</td>\n",
       "      <td>3</td>\n",
       "      <td>Allen, Mr. William Henry</td>\n",
       "      <td>male</td>\n",
       "      <td>35.0</td>\n",
       "      <td>0</td>\n",
       "      <td>0</td>\n",
       "      <td>373450</td>\n",
       "      <td>8.0500</td>\n",
       "      <td>NaN</td>\n",
       "      <td>S</td>\n",
       "    </tr>\n",
       "  </tbody>\n",
       "</table>\n",
       "</div>"
      ],
      "text/plain": [
       "   PassengerId  Survived  Pclass  \\\n",
       "0            1         0       3   \n",
       "1            2         1       1   \n",
       "2            3         1       3   \n",
       "3            4         1       1   \n",
       "4            5         0       3   \n",
       "\n",
       "                                                Name     Sex   Age  SibSp  \\\n",
       "0                            Braund, Mr. Owen Harris    male  22.0      1   \n",
       "1  Cumings, Mrs. John Bradley (Florence Briggs Th...  female  38.0      1   \n",
       "2                             Heikkinen, Miss. Laina  female  26.0      0   \n",
       "3       Futrelle, Mrs. Jacques Heath (Lily May Peel)  female  35.0      1   \n",
       "4                           Allen, Mr. William Henry    male  35.0      0   \n",
       "\n",
       "   Parch            Ticket     Fare Cabin Embarked  \n",
       "0      0         A/5 21171   7.2500   NaN        S  \n",
       "1      0          PC 17599  71.2833   C85        C  \n",
       "2      0  STON/O2. 3101282   7.9250   NaN        S  \n",
       "3      0            113803  53.1000  C123        S  \n",
       "4      0            373450   8.0500   NaN        S  "
      ]
     },
     "execution_count": 10,
     "metadata": {},
     "output_type": "execute_result"
    }
   ],
   "source": [
    "# check the first 5 rows \n",
    "\n",
    "titanic_train.head(5) \n",
    "\n",
    "# a mixture of numeric columns and columns with text data.  \n"
   ]
  },
  {
   "cell_type": "code",
   "execution_count": 11,
   "id": "a03c2303",
   "metadata": {
    "execution": {
     "iopub.execute_input": "2025-02-24T15:36:24.448032Z",
     "iopub.status.busy": "2025-02-24T15:36:24.447564Z",
     "iopub.status.idle": "2025-02-24T15:36:24.485260Z",
     "shell.execute_reply": "2025-02-24T15:36:24.483046Z"
    },
    "papermill": {
     "duration": 0.047102,
     "end_time": "2025-02-24T15:36:24.487335",
     "exception": false,
     "start_time": "2025-02-24T15:36:24.440233",
     "status": "completed"
    },
    "tags": []
   },
   "outputs": [
    {
     "data": {
      "text/html": [
       "<div>\n",
       "<style scoped>\n",
       "    .dataframe tbody tr th:only-of-type {\n",
       "        vertical-align: middle;\n",
       "    }\n",
       "\n",
       "    .dataframe tbody tr th {\n",
       "        vertical-align: top;\n",
       "    }\n",
       "\n",
       "    .dataframe thead th {\n",
       "        text-align: right;\n",
       "    }\n",
       "</style>\n",
       "<table border=\"1\" class=\"dataframe\">\n",
       "  <thead>\n",
       "    <tr style=\"text-align: right;\">\n",
       "      <th></th>\n",
       "      <th>PassengerId</th>\n",
       "      <th>Survived</th>\n",
       "      <th>Pclass</th>\n",
       "      <th>Age</th>\n",
       "      <th>SibSp</th>\n",
       "      <th>Parch</th>\n",
       "      <th>Fare</th>\n",
       "    </tr>\n",
       "  </thead>\n",
       "  <tbody>\n",
       "    <tr>\n",
       "      <th>count</th>\n",
       "      <td>891.000000</td>\n",
       "      <td>891.000000</td>\n",
       "      <td>891.000000</td>\n",
       "      <td>714.000000</td>\n",
       "      <td>891.000000</td>\n",
       "      <td>891.000000</td>\n",
       "      <td>891.000000</td>\n",
       "    </tr>\n",
       "    <tr>\n",
       "      <th>mean</th>\n",
       "      <td>446.000000</td>\n",
       "      <td>0.383838</td>\n",
       "      <td>2.308642</td>\n",
       "      <td>29.699118</td>\n",
       "      <td>0.523008</td>\n",
       "      <td>0.381594</td>\n",
       "      <td>32.204208</td>\n",
       "    </tr>\n",
       "    <tr>\n",
       "      <th>std</th>\n",
       "      <td>257.353842</td>\n",
       "      <td>0.486592</td>\n",
       "      <td>0.836071</td>\n",
       "      <td>14.526497</td>\n",
       "      <td>1.102743</td>\n",
       "      <td>0.806057</td>\n",
       "      <td>49.693429</td>\n",
       "    </tr>\n",
       "    <tr>\n",
       "      <th>min</th>\n",
       "      <td>1.000000</td>\n",
       "      <td>0.000000</td>\n",
       "      <td>1.000000</td>\n",
       "      <td>0.420000</td>\n",
       "      <td>0.000000</td>\n",
       "      <td>0.000000</td>\n",
       "      <td>0.000000</td>\n",
       "    </tr>\n",
       "    <tr>\n",
       "      <th>25%</th>\n",
       "      <td>223.500000</td>\n",
       "      <td>0.000000</td>\n",
       "      <td>2.000000</td>\n",
       "      <td>20.125000</td>\n",
       "      <td>0.000000</td>\n",
       "      <td>0.000000</td>\n",
       "      <td>7.910400</td>\n",
       "    </tr>\n",
       "    <tr>\n",
       "      <th>50%</th>\n",
       "      <td>446.000000</td>\n",
       "      <td>0.000000</td>\n",
       "      <td>3.000000</td>\n",
       "      <td>28.000000</td>\n",
       "      <td>0.000000</td>\n",
       "      <td>0.000000</td>\n",
       "      <td>14.454200</td>\n",
       "    </tr>\n",
       "    <tr>\n",
       "      <th>75%</th>\n",
       "      <td>668.500000</td>\n",
       "      <td>1.000000</td>\n",
       "      <td>3.000000</td>\n",
       "      <td>38.000000</td>\n",
       "      <td>1.000000</td>\n",
       "      <td>0.000000</td>\n",
       "      <td>31.000000</td>\n",
       "    </tr>\n",
       "    <tr>\n",
       "      <th>max</th>\n",
       "      <td>891.000000</td>\n",
       "      <td>1.000000</td>\n",
       "      <td>3.000000</td>\n",
       "      <td>80.000000</td>\n",
       "      <td>8.000000</td>\n",
       "      <td>6.000000</td>\n",
       "      <td>512.329200</td>\n",
       "    </tr>\n",
       "  </tbody>\n",
       "</table>\n",
       "</div>"
      ],
      "text/plain": [
       "       PassengerId    Survived      Pclass         Age       SibSp  \\\n",
       "count   891.000000  891.000000  891.000000  714.000000  891.000000   \n",
       "mean    446.000000    0.383838    2.308642   29.699118    0.523008   \n",
       "std     257.353842    0.486592    0.836071   14.526497    1.102743   \n",
       "min       1.000000    0.000000    1.000000    0.420000    0.000000   \n",
       "25%     223.500000    0.000000    2.000000   20.125000    0.000000   \n",
       "50%     446.000000    0.000000    3.000000   28.000000    0.000000   \n",
       "75%     668.500000    1.000000    3.000000   38.000000    1.000000   \n",
       "max     891.000000    1.000000    3.000000   80.000000    8.000000   \n",
       "\n",
       "            Parch        Fare  \n",
       "count  891.000000  891.000000  \n",
       "mean     0.381594   32.204208  \n",
       "std      0.806057   49.693429  \n",
       "min      0.000000    0.000000  \n",
       "25%      0.000000    7.910400  \n",
       "50%      0.000000   14.454200  \n",
       "75%      0.000000   31.000000  \n",
       "max      6.000000  512.329200  "
      ]
     },
     "execution_count": 11,
     "metadata": {},
     "output_type": "execute_result"
    }
   ],
   "source": [
    "# look at a statistical summary of the variables with df.describe(): \n",
    "\n",
    "# describe() function can not summarize categorical columns\n",
    "\n",
    "titanic_train.describe()  "
   ]
  },
  {
   "cell_type": "markdown",
   "id": "29423c1e",
   "metadata": {
    "papermill": {
     "duration": 0.00609,
     "end_time": "2025-02-24T15:36:24.500609",
     "exception": false,
     "start_time": "2025-02-24T15:36:24.494519",
     "status": "completed"
    },
    "tags": []
   },
   "source": [
    "Describe the categorical variables: "
   ]
  },
  {
   "cell_type": "code",
   "execution_count": 12,
   "id": "61e93ac6",
   "metadata": {
    "execution": {
     "iopub.execute_input": "2025-02-24T15:36:24.514534Z",
     "iopub.status.busy": "2025-02-24T15:36:24.514000Z",
     "iopub.status.idle": "2025-02-24T15:36:24.535972Z",
     "shell.execute_reply": "2025-02-24T15:36:24.534598Z"
    },
    "papermill": {
     "duration": 0.03082,
     "end_time": "2025-02-24T15:36:24.537568",
     "exception": false,
     "start_time": "2025-02-24T15:36:24.506748",
     "status": "completed"
    },
    "tags": []
   },
   "outputs": [
    {
     "data": {
      "text/html": [
       "<div>\n",
       "<style scoped>\n",
       "    .dataframe tbody tr th:only-of-type {\n",
       "        vertical-align: middle;\n",
       "    }\n",
       "\n",
       "    .dataframe tbody tr th {\n",
       "        vertical-align: top;\n",
       "    }\n",
       "\n",
       "    .dataframe thead th {\n",
       "        text-align: right;\n",
       "    }\n",
       "</style>\n",
       "<table border=\"1\" class=\"dataframe\">\n",
       "  <thead>\n",
       "    <tr style=\"text-align: right;\">\n",
       "      <th></th>\n",
       "      <th>Name</th>\n",
       "      <th>Sex</th>\n",
       "      <th>Ticket</th>\n",
       "      <th>Cabin</th>\n",
       "      <th>Embarked</th>\n",
       "    </tr>\n",
       "  </thead>\n",
       "  <tbody>\n",
       "    <tr>\n",
       "      <th>count</th>\n",
       "      <td>891</td>\n",
       "      <td>891</td>\n",
       "      <td>891</td>\n",
       "      <td>204</td>\n",
       "      <td>889</td>\n",
       "    </tr>\n",
       "    <tr>\n",
       "      <th>unique</th>\n",
       "      <td>891</td>\n",
       "      <td>2</td>\n",
       "      <td>681</td>\n",
       "      <td>147</td>\n",
       "      <td>3</td>\n",
       "    </tr>\n",
       "    <tr>\n",
       "      <th>top</th>\n",
       "      <td>Braund, Mr. Owen Harris</td>\n",
       "      <td>male</td>\n",
       "      <td>347082</td>\n",
       "      <td>B96 B98</td>\n",
       "      <td>S</td>\n",
       "    </tr>\n",
       "    <tr>\n",
       "      <th>freq</th>\n",
       "      <td>1</td>\n",
       "      <td>577</td>\n",
       "      <td>7</td>\n",
       "      <td>4</td>\n",
       "      <td>644</td>\n",
       "    </tr>\n",
       "  </tbody>\n",
       "</table>\n",
       "</div>"
      ],
      "text/plain": [
       "                           Name   Sex  Ticket    Cabin Embarked\n",
       "count                       891   891     891      204      889\n",
       "unique                      891     2     681      147        3\n",
       "top     Braund, Mr. Owen Harris  male  347082  B96 B98        S\n",
       "freq                          1   577       7        4      644"
      ]
     },
     "execution_count": 12,
     "metadata": {},
     "output_type": "execute_result"
    }
   ],
   "source": [
    "# make a list of categorical columns \n",
    "\n",
    "# step1: find the cols where dtype is an object  \n",
    "# code: titanic_train.dtypes == 'object' \n",
    "\n",
    "# step2: take the index of those cols: \n",
    "categorical = titanic_train.dtypes[titanic_train.dtypes == 'object'].index \n",
    "\n",
    "\n",
    "# use 'categorical' to index back into titanic_train \n",
    "# rerun the describe():   \n",
    "titanic_train[categorical].describe()  \n",
    " "
   ]
  },
  {
   "cell_type": "code",
   "execution_count": 13,
   "id": "88382765",
   "metadata": {
    "execution": {
     "iopub.execute_input": "2025-02-24T15:36:24.552826Z",
     "iopub.status.busy": "2025-02-24T15:36:24.552368Z",
     "iopub.status.idle": "2025-02-24T15:36:24.556916Z",
     "shell.execute_reply": "2025-02-24T15:36:24.555788Z"
    },
    "papermill": {
     "duration": 0.013923,
     "end_time": "2025-02-24T15:36:24.558614",
     "exception": false,
     "start_time": "2025-02-24T15:36:24.544691",
     "status": "completed"
    },
    "tags": []
   },
   "outputs": [],
   "source": [
    "# VARIABLE DESCRIPTIONS:\n",
    "# survival        Survival\n",
    "#                 (0 = No; 1 = Yes)\n",
    "# pclass          Passenger Class\n",
    "#                 (1 = 1st; 2 = 2nd; 3 = 3rd)\n",
    "# name            Name\n",
    "# sex             Sex\n",
    "# age             Age\n",
    "# sibsp           Number of Siblings/Spouses Aboard\n",
    "# parch           Number of Parents/Children Aboard\n",
    "# ticket          Ticket Number\n",
    "# fare            Passenger Fare\n",
    "# cabin           Cabin\n",
    "# embarked        Port of Embarkation\n",
    "#                 (C = Cherbourg; Q = Queenstown; S = Southampton) "
   ]
  },
  {
   "cell_type": "code",
   "execution_count": 14,
   "id": "3fe5e199",
   "metadata": {
    "execution": {
     "iopub.execute_input": "2025-02-24T15:36:24.573406Z",
     "iopub.status.busy": "2025-02-24T15:36:24.572966Z",
     "iopub.status.idle": "2025-02-24T15:36:24.577768Z",
     "shell.execute_reply": "2025-02-24T15:36:24.576607Z"
    },
    "papermill": {
     "duration": 0.013438,
     "end_time": "2025-02-24T15:36:24.579194",
     "exception": false,
     "start_time": "2025-02-24T15:36:24.565756",
     "status": "completed"
    },
    "tags": []
   },
   "outputs": [],
   "source": [
    "# After looking at the var for the first time, you should ask yourself a few questions, \n",
    "# and solve these questions later: \n",
    "# 1. Do I need all of the variables?\n",
    "# 2. Should I transform any variables?\n",
    "# 3. Are there NA values, outliers or other strange values?\n",
    "# 4. Should I create new variables?    \n"
   ]
  },
  {
   "cell_type": "markdown",
   "id": "7e543848",
   "metadata": {
    "papermill": {
     "duration": 0.006107,
     "end_time": "2025-02-24T15:36:24.593687",
     "exception": false,
     "start_time": "2025-02-24T15:36:24.587580",
     "status": "completed"
    },
    "tags": []
   },
   "source": [
    "This data set is provided in conjunction with a predictive modeling competition where the goal is to use the training data to predict whether passengers of the titanic listed in a second data set survived or not. We won't be dealing with the second data set (known the test set) right now, but we will revisit this competition and make predictions in a future lesson on predictive modeling. "
   ]
  },
  {
   "cell_type": "markdown",
   "id": "7cb62c02",
   "metadata": {
    "papermill": {
     "duration": 0.00748,
     "end_time": "2025-02-24T15:36:24.607290",
     "exception": false,
     "start_time": "2025-02-24T15:36:24.599810",
     "status": "completed"
    },
    "tags": []
   },
   "source": [
    "# Do I need all of the variables? "
   ]
  },
  {
   "cell_type": "code",
   "execution_count": 15,
   "id": "cc711842",
   "metadata": {
    "execution": {
     "iopub.execute_input": "2025-02-24T15:36:24.622422Z",
     "iopub.status.busy": "2025-02-24T15:36:24.622025Z",
     "iopub.status.idle": "2025-02-24T15:36:24.626681Z",
     "shell.execute_reply": "2025-02-24T15:36:24.625064Z"
    },
    "papermill": {
     "duration": 0.015857,
     "end_time": "2025-02-24T15:36:24.629996",
     "exception": false,
     "start_time": "2025-02-24T15:36:24.614139",
     "status": "completed"
    },
    "tags": []
   },
   "outputs": [],
   "source": [
    "# DATA CLEANING "
   ]
  },
  {
   "cell_type": "code",
   "execution_count": 16,
   "id": "ede9fefc",
   "metadata": {
    "execution": {
     "iopub.execute_input": "2025-02-24T15:36:24.646016Z",
     "iopub.status.busy": "2025-02-24T15:36:24.645570Z",
     "iopub.status.idle": "2025-02-24T15:36:24.657727Z",
     "shell.execute_reply": "2025-02-24T15:36:24.655037Z"
    },
    "papermill": {
     "duration": 0.02236,
     "end_time": "2025-02-24T15:36:24.660048",
     "exception": false,
     "start_time": "2025-02-24T15:36:24.637688",
     "status": "completed"
    },
    "tags": []
   },
   "outputs": [
    {
     "name": "stdout",
     "output_type": "stream",
     "text": [
      "<class 'pandas.core.frame.DataFrame'>\n",
      "RangeIndex: 891 entries, 0 to 890\n",
      "Data columns (total 12 columns):\n",
      " #   Column       Non-Null Count  Dtype  \n",
      "---  ------       --------------  -----  \n",
      " 0   PassengerId  891 non-null    int64  \n",
      " 1   Survived     891 non-null    int64  \n",
      " 2   Pclass       891 non-null    int64  \n",
      " 3   Name         891 non-null    object \n",
      " 4   Sex          891 non-null    object \n",
      " 5   Age          714 non-null    float64\n",
      " 6   SibSp        891 non-null    int64  \n",
      " 7   Parch        891 non-null    int64  \n",
      " 8   Ticket       891 non-null    object \n",
      " 9   Fare         891 non-null    float64\n",
      " 10  Cabin        204 non-null    object \n",
      " 11  Embarked     889 non-null    object \n",
      "dtypes: float64(2), int64(5), object(5)\n",
      "memory usage: 83.7+ KB\n"
     ]
    }
   ],
   "source": [
    "titanic_train.info()"
   ]
  },
  {
   "cell_type": "code",
   "execution_count": 17,
   "id": "1643f47e",
   "metadata": {
    "execution": {
     "iopub.execute_input": "2025-02-24T15:36:24.677203Z",
     "iopub.status.busy": "2025-02-24T15:36:24.676694Z",
     "iopub.status.idle": "2025-02-24T15:36:24.683495Z",
     "shell.execute_reply": "2025-02-24T15:36:24.681580Z"
    },
    "papermill": {
     "duration": 0.018454,
     "end_time": "2025-02-24T15:36:24.686788",
     "exception": false,
     "start_time": "2025-02-24T15:36:24.668334",
     "status": "completed"
    },
    "tags": []
   },
   "outputs": [],
   "source": [
    "# \"PassengerId\" is just a number assigned to each passenger. \n",
    "# It is nothing more than an arbitrary identifier;\n",
    "# Let's remove it anyway.   \n",
    "\n",
    "del titanic_train['PassengerId'] \n"
   ]
  },
  {
   "cell_type": "markdown",
   "id": "220ac98e",
   "metadata": {
    "papermill": {
     "duration": 0.005966,
     "end_time": "2025-02-24T15:36:24.699980",
     "exception": false,
     "start_time": "2025-02-24T15:36:24.694014",
     "status": "completed"
    },
    "tags": []
   },
   "source": [
    "1. \"Survived\" indicates whether each passenger lived or died. \n",
    "Since predicting survival is our goal, we definitely need to keep it.\n",
    "\n",
    "2. Features that describe passengers numerically or group them into a few broad categories could be useful for predicting survival.\n",
    "\n",
    "   \n",
    "The variables Pclass, Sex, Age, SibSp, Parch, Fare, and Embarked appear to fit this description, so let's keep all of them. \n",
    "\n"
   ]
  },
  {
   "cell_type": "code",
   "execution_count": 18,
   "id": "4bb93bf0",
   "metadata": {
    "execution": {
     "iopub.execute_input": "2025-02-24T15:36:24.717170Z",
     "iopub.status.busy": "2025-02-24T15:36:24.716650Z",
     "iopub.status.idle": "2025-02-24T15:36:24.720439Z",
     "shell.execute_reply": "2025-02-24T15:36:24.719692Z"
    },
    "papermill": {
     "duration": 0.013048,
     "end_time": "2025-02-24T15:36:24.722009",
     "exception": false,
     "start_time": "2025-02-24T15:36:24.708961",
     "status": "completed"
    },
    "tags": []
   },
   "outputs": [],
   "source": [
    "# \"Name\" appears to be a character string of the name of each passenger. "
   ]
  },
  {
   "cell_type": "code",
   "execution_count": 19,
   "id": "42fa435a",
   "metadata": {
    "execution": {
     "iopub.execute_input": "2025-02-24T15:36:24.739896Z",
     "iopub.status.busy": "2025-02-24T15:36:24.739222Z",
     "iopub.status.idle": "2025-02-24T15:36:24.746623Z",
     "shell.execute_reply": "2025-02-24T15:36:24.744859Z"
    },
    "papermill": {
     "duration": 0.019157,
     "end_time": "2025-02-24T15:36:24.749249",
     "exception": false,
     "start_time": "2025-02-24T15:36:24.730092",
     "status": "completed"
    },
    "tags": []
   },
   "outputs": [
    {
     "data": {
      "text/plain": [
       "['Allen, Mr. William Henry',\n",
       " 'Andersson, Mr. Anders Johan',\n",
       " 'Bonnell, Miss. Elizabeth',\n",
       " 'Braund, Mr. Owen Harris',\n",
       " 'Cumings, Mrs. John Bradley (Florence Briggs Thayer)',\n",
       " 'Futrelle, Mrs. Jacques Heath (Lily May Peel)',\n",
       " 'Heikkinen, Miss. Laina',\n",
       " 'Johnson, Mrs. Oscar W (Elisabeth Vilhelmina Berg)',\n",
       " 'McCarthy, Mr. Timothy J',\n",
       " 'Moran, Mr. James',\n",
       " 'Nasser, Mrs. Nicholas (Adele Achem)',\n",
       " 'Palsson, Master. Gosta Leonard',\n",
       " 'Sandstrom, Miss. Marguerite Rut',\n",
       " 'Saundercock, Mr. William Henry',\n",
       " 'Vestrom, Miss. Hulda Amanda Adolfina']"
      ]
     },
     "execution_count": 19,
     "metadata": {},
     "output_type": "execute_result"
    }
   ],
   "source": [
    "#  This command sorts only the first 15 names in the 'Name' column: \n",
    "#  Wrong Version  \n",
    "\n",
    "sorted(titanic_train['Name'][0:15])   "
   ]
  },
  {
   "cell_type": "code",
   "execution_count": 20,
   "id": "fccdd99b",
   "metadata": {
    "execution": {
     "iopub.execute_input": "2025-02-24T15:36:24.766947Z",
     "iopub.status.busy": "2025-02-24T15:36:24.766443Z",
     "iopub.status.idle": "2025-02-24T15:36:24.773951Z",
     "shell.execute_reply": "2025-02-24T15:36:24.772732Z"
    },
    "papermill": {
     "duration": 0.018997,
     "end_time": "2025-02-24T15:36:24.776328",
     "exception": false,
     "start_time": "2025-02-24T15:36:24.757331",
     "status": "completed"
    },
    "tags": []
   },
   "outputs": [
    {
     "data": {
      "text/plain": [
       "['Abbing, Mr. Anthony',\n",
       " 'Abbott, Mr. Rossmore Edward',\n",
       " 'Abbott, Mrs. Stanton (Rosa Hunt)',\n",
       " 'Abelson, Mr. Samuel',\n",
       " 'Abelson, Mrs. Samuel (Hannah Wizosky)',\n",
       " 'Adahl, Mr. Mauritz Nils Martin',\n",
       " 'Adams, Mr. John',\n",
       " 'Ahlin, Mrs. Johan (Johanna Persdotter Larsson)',\n",
       " 'Aks, Mrs. Sam (Leah Rosen)',\n",
       " 'Albimona, Mr. Nassef Cassem',\n",
       " 'Alexander, Mr. William',\n",
       " 'Alhomaki, Mr. Ilmari Rudolf',\n",
       " 'Ali, Mr. Ahmed',\n",
       " 'Ali, Mr. William',\n",
       " 'Allen, Miss. Elisabeth Walton']"
      ]
     },
     "execution_count": 20,
     "metadata": {},
     "output_type": "execute_result"
    }
   ],
   "source": [
    "# The correct version:  \n",
    "# This command sorts the entire 'Name' column\n",
    "\n",
    "sorted(titanic_train['Name'])[0:15] "
   ]
  },
  {
   "cell_type": "code",
   "execution_count": 21,
   "id": "ff9bec26",
   "metadata": {
    "execution": {
     "iopub.execute_input": "2025-02-24T15:36:24.793322Z",
     "iopub.status.busy": "2025-02-24T15:36:24.792795Z",
     "iopub.status.idle": "2025-02-24T15:36:24.804420Z",
     "shell.execute_reply": "2025-02-24T15:36:24.803227Z"
    },
    "papermill": {
     "duration": 0.022087,
     "end_time": "2025-02-24T15:36:24.806593",
     "exception": false,
     "start_time": "2025-02-24T15:36:24.784506",
     "status": "completed"
    },
    "tags": []
   },
   "outputs": [
    {
     "data": {
      "text/plain": [
       "count                         891\n",
       "unique                        891\n",
       "top       Braund, Mr. Owen Harris\n",
       "freq                            1\n",
       "Name: Name, dtype: object"
      ]
     },
     "execution_count": 21,
     "metadata": {},
     "output_type": "execute_result"
    }
   ],
   "source": [
    "titanic_train['Name'].describe()  "
   ]
  },
  {
   "cell_type": "markdown",
   "id": "e7859afd",
   "metadata": {
    "papermill": {
     "duration": 0.006904,
     "end_time": "2025-02-24T15:36:24.821835",
     "exception": false,
     "start_time": "2025-02-24T15:36:24.814931",
     "status": "completed"
    },
    "tags": []
   },
   "source": [
    "1. Name variable has 889 unique values.\n",
    "2. In general, a categorical variable that is unique to each case isn't useful for prediction. \n",
    "\n",
    "3. We could extract last names to try to group family members together, but even then the number of categories would be very large.\n",
    "   \n",
    "4. On the other hand, it can be nice to have some way to uniquely identify particular cases and names are interesting from a personal and historical perspective, so let's keep Name, knowing that we won't actually use it in any predictive models we make.   "
   ]
  },
  {
   "cell_type": "code",
   "execution_count": 22,
   "id": "fb26408c",
   "metadata": {
    "execution": {
     "iopub.execute_input": "2025-02-24T15:36:24.838314Z",
     "iopub.status.busy": "2025-02-24T15:36:24.837724Z",
     "iopub.status.idle": "2025-02-24T15:36:24.847410Z",
     "shell.execute_reply": "2025-02-24T15:36:24.845399Z"
    },
    "papermill": {
     "duration": 0.021216,
     "end_time": "2025-02-24T15:36:24.850278",
     "exception": false,
     "start_time": "2025-02-24T15:36:24.829062",
     "status": "completed"
    },
    "tags": []
   },
   "outputs": [
    {
     "data": {
      "text/plain": [
       "0            A/5 21171\n",
       "1             PC 17599\n",
       "2     STON/O2. 3101282\n",
       "3               113803\n",
       "4               373450\n",
       "5               330877\n",
       "6                17463\n",
       "7               349909\n",
       "8               347742\n",
       "9               237736\n",
       "10             PP 9549\n",
       "11              113783\n",
       "12           A/5. 2151\n",
       "13              347082\n",
       "14              350406\n",
       "Name: Ticket, dtype: object"
      ]
     },
     "execution_count": 22,
     "metadata": {},
     "output_type": "execute_result"
    }
   ],
   "source": [
    "titanic_train['Ticket'][0:15]"
   ]
  },
  {
   "cell_type": "code",
   "execution_count": 23,
   "id": "b5daacd2",
   "metadata": {
    "execution": {
     "iopub.execute_input": "2025-02-24T15:36:24.868089Z",
     "iopub.status.busy": "2025-02-24T15:36:24.867624Z",
     "iopub.status.idle": "2025-02-24T15:36:24.880073Z",
     "shell.execute_reply": "2025-02-24T15:36:24.878443Z"
    },
    "papermill": {
     "duration": 0.023778,
     "end_time": "2025-02-24T15:36:24.882804",
     "exception": false,
     "start_time": "2025-02-24T15:36:24.859026",
     "status": "completed"
    },
    "tags": []
   },
   "outputs": [
    {
     "data": {
      "text/plain": [
       "count        891\n",
       "unique       681\n",
       "top       347082\n",
       "freq           7\n",
       "Name: Ticket, dtype: object"
      ]
     },
     "execution_count": 23,
     "metadata": {},
     "output_type": "execute_result"
    }
   ],
   "source": [
    "titanic_train['Ticket'].describe()"
   ]
  },
  {
   "cell_type": "markdown",
   "id": "a4f1bc51",
   "metadata": {
    "papermill": {
     "duration": 0.006522,
     "end_time": "2025-02-24T15:36:24.897388",
     "exception": false,
     "start_time": "2025-02-24T15:36:24.890866",
     "status": "completed"
    },
    "tags": []
   },
   "source": [
    "1. Ticket has 680 unique values: almost as many as there are passengers.\n",
    "2. Categorical variables with almost as many levels as there are records are often not very useful for prediction.\n",
    "3. We could try to reduce the number of levels by grouping certain tickets together,\n",
    "4. But the ticket numbers don't appear to follow any logical pattern we could use for grouping. Let's remove it. "
   ]
  },
  {
   "cell_type": "code",
   "execution_count": 24,
   "id": "e48c275d",
   "metadata": {
    "execution": {
     "iopub.execute_input": "2025-02-24T15:36:24.913459Z",
     "iopub.status.busy": "2025-02-24T15:36:24.913018Z",
     "iopub.status.idle": "2025-02-24T15:36:24.919945Z",
     "shell.execute_reply": "2025-02-24T15:36:24.917792Z"
    },
    "papermill": {
     "duration": 0.018061,
     "end_time": "2025-02-24T15:36:24.922485",
     "exception": false,
     "start_time": "2025-02-24T15:36:24.904424",
     "status": "completed"
    },
    "tags": []
   },
   "outputs": [],
   "source": [
    "del titanic_train['Ticket'] "
   ]
  },
  {
   "cell_type": "code",
   "execution_count": 25,
   "id": "ef11cd24",
   "metadata": {
    "execution": {
     "iopub.execute_input": "2025-02-24T15:36:24.939464Z",
     "iopub.status.busy": "2025-02-24T15:36:24.938946Z",
     "iopub.status.idle": "2025-02-24T15:36:24.949607Z",
     "shell.execute_reply": "2025-02-24T15:36:24.947843Z"
    },
    "papermill": {
     "duration": 0.021391,
     "end_time": "2025-02-24T15:36:24.951727",
     "exception": false,
     "start_time": "2025-02-24T15:36:24.930336",
     "status": "completed"
    },
    "tags": []
   },
   "outputs": [
    {
     "data": {
      "text/plain": [
       "0      NaN\n",
       "1      C85\n",
       "2      NaN\n",
       "3     C123\n",
       "4      NaN\n",
       "5      NaN\n",
       "6      E46\n",
       "7      NaN\n",
       "8      NaN\n",
       "9      NaN\n",
       "10      G6\n",
       "11    C103\n",
       "12     NaN\n",
       "13     NaN\n",
       "14     NaN\n",
       "Name: Cabin, dtype: object"
      ]
     },
     "execution_count": 25,
     "metadata": {},
     "output_type": "execute_result"
    }
   ],
   "source": [
    "# Check the first 15 tickets:  \n",
    "titanic_train['Cabin'][0:15]  "
   ]
  },
  {
   "cell_type": "code",
   "execution_count": 26,
   "id": "a80a93f6",
   "metadata": {
    "execution": {
     "iopub.execute_input": "2025-02-24T15:36:24.968024Z",
     "iopub.status.busy": "2025-02-24T15:36:24.967506Z",
     "iopub.status.idle": "2025-02-24T15:36:24.973447Z",
     "shell.execute_reply": "2025-02-24T15:36:24.971153Z"
    },
    "papermill": {
     "duration": 0.016677,
     "end_time": "2025-02-24T15:36:24.976141",
     "exception": false,
     "start_time": "2025-02-24T15:36:24.959464",
     "status": "completed"
    },
    "tags": []
   },
   "outputs": [],
   "source": [
    "# Wrong code: \n",
    "# sorted(titanic_train['Cabin'])[0:15]  \n",
    "\n",
    "#Python can not compare NaN and C85 which is larger.   \n",
    "\n"
   ]
  },
  {
   "cell_type": "code",
   "execution_count": 27,
   "id": "4e4e5675",
   "metadata": {
    "execution": {
     "iopub.execute_input": "2025-02-24T15:36:24.993086Z",
     "iopub.status.busy": "2025-02-24T15:36:24.992565Z",
     "iopub.status.idle": "2025-02-24T15:36:25.002478Z",
     "shell.execute_reply": "2025-02-24T15:36:25.000091Z"
    },
    "papermill": {
     "duration": 0.022407,
     "end_time": "2025-02-24T15:36:25.006694",
     "exception": false,
     "start_time": "2025-02-24T15:36:24.984287",
     "status": "completed"
    },
    "tags": []
   },
   "outputs": [
    {
     "data": {
      "text/plain": [
       "count         204\n",
       "unique        147\n",
       "top       B96 B98\n",
       "freq            4\n",
       "Name: Cabin, dtype: object"
      ]
     },
     "execution_count": 27,
     "metadata": {},
     "output_type": "execute_result"
    }
   ],
   "source": [
    "titanic_train['Cabin'].describe() "
   ]
  },
  {
   "cell_type": "markdown",
   "id": "c72ee649",
   "metadata": {
    "papermill": {
     "duration": 0.006825,
     "end_time": "2025-02-24T15:36:25.022393",
     "exception": false,
     "start_time": "2025-02-24T15:36:25.015568",
     "status": "completed"
    },
    "tags": []
   },
   "source": [
    "1. Cabin has 147 unique values, which indicates it may not be particularly useful for prediction.\n",
    "2. On the other hand, the names of the levels for the cabin variable seem to have a regular structure: each starts with a capital letter followed by a number.\n",
    "3. We could use that structure to reduce the number of levels to make categories large enough that they might be useful for prediction.Let's Keep Cabin for now.\n"
   ]
  },
  {
   "cell_type": "markdown",
   "id": "3142e253",
   "metadata": {
    "papermill": {
     "duration": 0.008705,
     "end_time": "2025-02-24T15:36:25.038042",
     "exception": false,
     "start_time": "2025-02-24T15:36:25.029337",
     "status": "completed"
    },
    "tags": []
   },
   "source": [
    "1. Removing variables is often more of an art than a science.\n",
    "   \n",
    "2. Data projects are iterative processes: you can start with a simple analysis or model using only a few variables and then expand later by adding more and more of the other variables you initially ignored or removed. "
   ]
  },
  {
   "cell_type": "markdown",
   "id": "fb81e20c",
   "metadata": {
    "papermill": {
     "duration": 0.006802,
     "end_time": "2025-02-24T15:36:25.052439",
     "exception": false,
     "start_time": "2025-02-24T15:36:25.045637",
     "status": "completed"
    },
    "tags": []
   },
   "source": [
    "# Should I Transform Any Variables?¶ "
   ]
  },
  {
   "cell_type": "markdown",
   "id": "42807a45",
   "metadata": {
    "papermill": {
     "duration": 0.0067,
     "end_time": "2025-02-24T15:36:25.066055",
     "exception": false,
     "start_time": "2025-02-24T15:36:25.059355",
     "status": "completed"
    },
    "tags": []
   },
   "source": [
    "1. When first loading a data set, some of the variables may be encoded as data types that don't fit well with what the data really is or what it means. \n",
    "\n",
    "2. For instance, Survived is just an integer variable that takes on the value 0 or 1 depending on whether a passenger died or survived respectively.\n",
    "\n",
    "3. Variables that indicate a state or the presence or absence of something with the numbers 0 and 1 are sometimes called indicator variables or dummy variables.\n",
    "\n",
    "4. Indicator variables are essentially just a shorthand for encoding a categorical variable with 2 levels.\n",
    "\n",
    "5. We could instead encode Survived as a categorical variable with more descriptive categories:"
   ]
  },
  {
   "cell_type": "code",
   "execution_count": 28,
   "id": "93d7115d",
   "metadata": {
    "execution": {
     "iopub.execute_input": "2025-02-24T15:36:25.082575Z",
     "iopub.status.busy": "2025-02-24T15:36:25.082064Z",
     "iopub.status.idle": "2025-02-24T15:36:25.094614Z",
     "shell.execute_reply": "2025-02-24T15:36:25.093301Z"
    },
    "papermill": {
     "duration": 0.023257,
     "end_time": "2025-02-24T15:36:25.096457",
     "exception": false,
     "start_time": "2025-02-24T15:36:25.073200",
     "status": "completed"
    },
    "tags": []
   },
   "outputs": [
    {
     "data": {
      "text/plain": [
       "count    891.000000\n",
       "mean       0.383838\n",
       "std        0.486592\n",
       "min        0.000000\n",
       "25%        0.000000\n",
       "50%        0.000000\n",
       "75%        1.000000\n",
       "max        1.000000\n",
       "Name: Survived, dtype: float64"
      ]
     },
     "execution_count": 28,
     "metadata": {},
     "output_type": "execute_result"
    }
   ],
   "source": [
    "titanic_train['Survived'].describe()"
   ]
  },
  {
   "cell_type": "code",
   "execution_count": 29,
   "id": "aaa80e72",
   "metadata": {
    "execution": {
     "iopub.execute_input": "2025-02-24T15:36:25.112825Z",
     "iopub.status.busy": "2025-02-24T15:36:25.112308Z",
     "iopub.status.idle": "2025-02-24T15:36:25.127839Z",
     "shell.execute_reply": "2025-02-24T15:36:25.126329Z"
    },
    "papermill": {
     "duration": 0.026845,
     "end_time": "2025-02-24T15:36:25.130707",
     "exception": false,
     "start_time": "2025-02-24T15:36:25.103862",
     "status": "completed"
    },
    "tags": []
   },
   "outputs": [
    {
     "data": {
      "text/html": [
       "<div>\n",
       "<style scoped>\n",
       "    .dataframe tbody tr th:only-of-type {\n",
       "        vertical-align: middle;\n",
       "    }\n",
       "\n",
       "    .dataframe tbody tr th {\n",
       "        vertical-align: top;\n",
       "    }\n",
       "\n",
       "    .dataframe thead th {\n",
       "        text-align: right;\n",
       "    }\n",
       "</style>\n",
       "<table border=\"1\" class=\"dataframe\">\n",
       "  <thead>\n",
       "    <tr style=\"text-align: right;\">\n",
       "      <th></th>\n",
       "      <th>counts</th>\n",
       "      <th>freqs</th>\n",
       "    </tr>\n",
       "    <tr>\n",
       "      <th>categories</th>\n",
       "      <th></th>\n",
       "      <th></th>\n",
       "    </tr>\n",
       "  </thead>\n",
       "  <tbody>\n",
       "    <tr>\n",
       "      <th>Died</th>\n",
       "      <td>549</td>\n",
       "      <td>0.616162</td>\n",
       "    </tr>\n",
       "    <tr>\n",
       "      <th>Survived</th>\n",
       "      <td>342</td>\n",
       "      <td>0.383838</td>\n",
       "    </tr>\n",
       "  </tbody>\n",
       "</table>\n",
       "</div>"
      ],
      "text/plain": [
       "            counts     freqs\n",
       "categories                  \n",
       "Died           549  0.616162\n",
       "Survived       342  0.383838"
      ]
     },
     "execution_count": 29,
     "metadata": {},
     "output_type": "execute_result"
    }
   ],
   "source": [
    "new_survived = pd.Categorical(titanic_train['Survived']) \n",
    "new_survived = new_survived.rename_categories(['Died', 'Survived'])  \n",
    "\n",
    "new_survived.describe()  "
   ]
  },
  {
   "cell_type": "code",
   "execution_count": null,
   "id": "0d3a146a",
   "metadata": {
    "papermill": {
     "duration": 0.006678,
     "end_time": "2025-02-24T15:36:25.145527",
     "exception": false,
     "start_time": "2025-02-24T15:36:25.138849",
     "status": "completed"
    },
    "tags": []
   },
   "outputs": [],
   "source": []
  }
 ],
 "metadata": {
  "kaggle": {
   "accelerator": "none",
   "dataSources": [
    {
     "datasetId": 6700123,
     "sourceId": 10795874,
     "sourceType": "datasetVersion"
    }
   ],
   "dockerImageVersionId": 30886,
   "isGpuEnabled": false,
   "isInternetEnabled": false,
   "language": "python",
   "sourceType": "notebook"
  },
  "kernelspec": {
   "display_name": "Python 3",
   "language": "python",
   "name": "python3"
  },
  "language_info": {
   "codemirror_mode": {
    "name": "ipython",
    "version": 3
   },
   "file_extension": ".py",
   "mimetype": "text/x-python",
   "name": "python",
   "nbconvert_exporter": "python",
   "pygments_lexer": "ipython3",
   "version": "3.10.12"
  },
  "papermill": {
   "default_parameters": {},
   "duration": 6.305226,
   "end_time": "2025-02-24T15:36:25.974834",
   "environment_variables": {},
   "exception": null,
   "input_path": "__notebook__.ipynb",
   "output_path": "__notebook__.ipynb",
   "parameters": {},
   "start_time": "2025-02-24T15:36:19.669608",
   "version": "2.6.0"
  }
 },
 "nbformat": 4,
 "nbformat_minor": 5
}
