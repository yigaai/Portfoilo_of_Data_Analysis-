{
 "cells": [
  {
   "cell_type": "code",
   "execution_count": 1,
   "id": "125aebb9",
   "metadata": {
    "execution": {
     "iopub.execute_input": "2025-03-01T05:58:22.437039Z",
     "iopub.status.busy": "2025-03-01T05:58:22.436649Z",
     "iopub.status.idle": "2025-03-01T05:58:23.643830Z",
     "shell.execute_reply": "2025-03-01T05:58:23.642651Z"
    },
    "papermill": {
     "duration": 1.223751,
     "end_time": "2025-03-01T05:58:23.645898",
     "exception": false,
     "start_time": "2025-03-01T05:58:22.422147",
     "status": "completed"
    },
    "tags": []
   },
   "outputs": [],
   "source": [
    "import numpy as np \n",
    "import pandas as pd \n",
    "import os"
   ]
  },
  {
   "cell_type": "code",
   "execution_count": 2,
   "id": "0d899340",
   "metadata": {
    "execution": {
     "iopub.execute_input": "2025-03-01T05:58:23.671579Z",
     "iopub.status.busy": "2025-03-01T05:58:23.671104Z",
     "iopub.status.idle": "2025-03-01T05:58:23.677805Z",
     "shell.execute_reply": "2025-03-01T05:58:23.676705Z"
    },
    "papermill": {
     "duration": 0.020703,
     "end_time": "2025-03-01T05:58:23.679288",
     "exception": false,
     "start_time": "2025-03-01T05:58:23.658585",
     "status": "completed"
    },
    "tags": []
   },
   "outputs": [
    {
     "data": {
      "text/plain": [
       "'/kaggle/working'"
      ]
     },
     "execution_count": 2,
     "metadata": {},
     "output_type": "execute_result"
    }
   ],
   "source": [
    "# Check the work directory:  \n",
    "\n",
    "os.getcwd()"
   ]
  },
  {
   "cell_type": "code",
   "execution_count": 3,
   "id": "257fc20f",
   "metadata": {
    "execution": {
     "iopub.execute_input": "2025-03-01T05:58:23.704798Z",
     "iopub.status.busy": "2025-03-01T05:58:23.704366Z",
     "iopub.status.idle": "2025-03-01T05:58:23.710344Z",
     "shell.execute_reply": "2025-03-01T05:58:23.709155Z"
    },
    "papermill": {
     "duration": 0.020539,
     "end_time": "2025-03-01T05:58:23.711922",
     "exception": false,
     "start_time": "2025-03-01T05:58:23.691383",
     "status": "completed"
    },
    "tags": []
   },
   "outputs": [
    {
     "data": {
      "text/plain": [
       "'/kaggle'"
      ]
     },
     "execution_count": 3,
     "metadata": {},
     "output_type": "execute_result"
    }
   ],
   "source": [
    "# Change the work directory and Back to Kaggle:  \n",
    "\n",
    "os.chdir('/kaggle/') \n",
    "os.getcwd() "
   ]
  },
  {
   "cell_type": "code",
   "execution_count": 4,
   "id": "66c1f9a8",
   "metadata": {
    "execution": {
     "iopub.execute_input": "2025-03-01T05:58:23.739301Z",
     "iopub.status.busy": "2025-03-01T05:58:23.738936Z",
     "iopub.status.idle": "2025-03-01T05:58:23.755317Z",
     "shell.execute_reply": "2025-03-01T05:58:23.754354Z"
    },
    "papermill": {
     "duration": 0.032769,
     "end_time": "2025-03-01T05:58:23.757245",
     "exception": false,
     "start_time": "2025-03-01T05:58:23.724476",
     "status": "completed"
    },
    "tags": []
   },
   "outputs": [
    {
     "data": {
      "text/plain": [
       "['train.csv', 'test.csv', 'gender_submission.csv']"
      ]
     },
     "execution_count": 4,
     "metadata": {},
     "output_type": "execute_result"
    }
   ],
   "source": [
    "# Pass the file path to list all of the objects: \n",
    "\n",
    "os.listdir('/kaggle') \n",
    "\n",
    "# To see what is in the input:\n",
    "\n",
    "os.listdir('/kaggle/input')  \n",
    "\n",
    "os.listdir('/kaggle/input/titanic-dataset-1')  "
   ]
  },
  {
   "cell_type": "code",
   "execution_count": 5,
   "id": "612acf7f",
   "metadata": {
    "execution": {
     "iopub.execute_input": "2025-03-01T05:58:23.783010Z",
     "iopub.status.busy": "2025-03-01T05:58:23.782662Z",
     "iopub.status.idle": "2025-03-01T05:58:23.815821Z",
     "shell.execute_reply": "2025-03-01T05:58:23.814747Z"
    },
    "papermill": {
     "duration": 0.047937,
     "end_time": "2025-03-01T05:58:23.817644",
     "exception": false,
     "start_time": "2025-03-01T05:58:23.769707",
     "status": "completed"
    },
    "tags": []
   },
   "outputs": [],
   "source": [
    "# Read the file path:  \n",
    "\n",
    "titanic_train = pd.read_csv('input/titanic-dataset-1/train.csv') "
   ]
  },
  {
   "cell_type": "code",
   "execution_count": 6,
   "id": "6921d5b7",
   "metadata": {
    "execution": {
     "iopub.execute_input": "2025-03-01T05:58:23.843555Z",
     "iopub.status.busy": "2025-03-01T05:58:23.843214Z",
     "iopub.status.idle": "2025-03-01T05:58:23.848665Z",
     "shell.execute_reply": "2025-03-01T05:58:23.847731Z"
    },
    "papermill": {
     "duration": 0.020293,
     "end_time": "2025-03-01T05:58:23.850360",
     "exception": false,
     "start_time": "2025-03-01T05:58:23.830067",
     "status": "completed"
    },
    "tags": []
   },
   "outputs": [
    {
     "data": {
      "text/plain": [
       "(891, 12)"
      ]
     },
     "execution_count": 6,
     "metadata": {},
     "output_type": "execute_result"
    }
   ],
   "source": [
    "# Start off by checking the dimensions of dataset \n",
    "# and the variable data types:  \n",
    "\n",
    "titanic_train.shape "
   ]
  },
  {
   "cell_type": "code",
   "execution_count": 7,
   "id": "7bec9930",
   "metadata": {
    "execution": {
     "iopub.execute_input": "2025-03-01T05:58:23.876113Z",
     "iopub.status.busy": "2025-03-01T05:58:23.875777Z",
     "iopub.status.idle": "2025-03-01T05:58:23.887720Z",
     "shell.execute_reply": "2025-03-01T05:58:23.886583Z"
    },
    "papermill": {
     "duration": 0.026572,
     "end_time": "2025-03-01T05:58:23.889357",
     "exception": false,
     "start_time": "2025-03-01T05:58:23.862785",
     "status": "completed"
    },
    "tags": []
   },
   "outputs": [
    {
     "data": {
      "text/plain": [
       "PassengerId      int64\n",
       "Survived         int64\n",
       "Pclass           int64\n",
       "Name            object\n",
       "Sex             object\n",
       "Age            float64\n",
       "SibSp            int64\n",
       "Parch            int64\n",
       "Ticket          object\n",
       "Fare           float64\n",
       "Cabin           object\n",
       "Embarked        object\n",
       "dtype: object"
      ]
     },
     "execution_count": 7,
     "metadata": {},
     "output_type": "execute_result"
    }
   ],
   "source": [
    "titanic_train.dtypes "
   ]
  },
  {
   "cell_type": "code",
   "execution_count": 8,
   "id": "5828befa",
   "metadata": {
    "execution": {
     "iopub.execute_input": "2025-03-01T05:58:23.915824Z",
     "iopub.status.busy": "2025-03-01T05:58:23.915424Z",
     "iopub.status.idle": "2025-03-01T05:58:23.945546Z",
     "shell.execute_reply": "2025-03-01T05:58:23.944135Z"
    },
    "papermill": {
     "duration": 0.045279,
     "end_time": "2025-03-01T05:58:23.947380",
     "exception": false,
     "start_time": "2025-03-01T05:58:23.902101",
     "status": "completed"
    },
    "tags": []
   },
   "outputs": [
    {
     "name": "stdout",
     "output_type": "stream",
     "text": [
      "<class 'pandas.core.frame.DataFrame'>\n",
      "RangeIndex: 891 entries, 0 to 890\n",
      "Data columns (total 12 columns):\n",
      " #   Column       Non-Null Count  Dtype  \n",
      "---  ------       --------------  -----  \n",
      " 0   PassengerId  891 non-null    int64  \n",
      " 1   Survived     891 non-null    int64  \n",
      " 2   Pclass       891 non-null    int64  \n",
      " 3   Name         891 non-null    object \n",
      " 4   Sex          891 non-null    object \n",
      " 5   Age          714 non-null    float64\n",
      " 6   SibSp        891 non-null    int64  \n",
      " 7   Parch        891 non-null    int64  \n",
      " 8   Ticket       891 non-null    object \n",
      " 9   Fare         891 non-null    float64\n",
      " 10  Cabin        204 non-null    object \n",
      " 11  Embarked     889 non-null    object \n",
      "dtypes: float64(2), int64(5), object(5)\n",
      "memory usage: 83.7+ KB\n"
     ]
    }
   ],
   "source": [
    "# Check the info of the dataset:  \n",
    "\n",
    "titanic_train.info() "
   ]
  },
  {
   "cell_type": "code",
   "execution_count": 9,
   "id": "1357a78a",
   "metadata": {
    "execution": {
     "iopub.execute_input": "2025-03-01T05:58:23.972953Z",
     "iopub.status.busy": "2025-03-01T05:58:23.972527Z",
     "iopub.status.idle": "2025-03-01T05:58:23.999827Z",
     "shell.execute_reply": "2025-03-01T05:58:23.998576Z"
    },
    "papermill": {
     "duration": 0.042072,
     "end_time": "2025-03-01T05:58:24.001628",
     "exception": false,
     "start_time": "2025-03-01T05:58:23.959556",
     "status": "completed"
    },
    "tags": []
   },
   "outputs": [
    {
     "data": {
      "text/html": [
       "<div>\n",
       "<style scoped>\n",
       "    .dataframe tbody tr th:only-of-type {\n",
       "        vertical-align: middle;\n",
       "    }\n",
       "\n",
       "    .dataframe tbody tr th {\n",
       "        vertical-align: top;\n",
       "    }\n",
       "\n",
       "    .dataframe thead th {\n",
       "        text-align: right;\n",
       "    }\n",
       "</style>\n",
       "<table border=\"1\" class=\"dataframe\">\n",
       "  <thead>\n",
       "    <tr style=\"text-align: right;\">\n",
       "      <th></th>\n",
       "      <th>PassengerId</th>\n",
       "      <th>Survived</th>\n",
       "      <th>Pclass</th>\n",
       "      <th>Name</th>\n",
       "      <th>Sex</th>\n",
       "      <th>Age</th>\n",
       "      <th>SibSp</th>\n",
       "      <th>Parch</th>\n",
       "      <th>Ticket</th>\n",
       "      <th>Fare</th>\n",
       "      <th>Cabin</th>\n",
       "      <th>Embarked</th>\n",
       "    </tr>\n",
       "  </thead>\n",
       "  <tbody>\n",
       "    <tr>\n",
       "      <th>0</th>\n",
       "      <td>1</td>\n",
       "      <td>0</td>\n",
       "      <td>3</td>\n",
       "      <td>Braund, Mr. Owen Harris</td>\n",
       "      <td>male</td>\n",
       "      <td>22.0</td>\n",
       "      <td>1</td>\n",
       "      <td>0</td>\n",
       "      <td>A/5 21171</td>\n",
       "      <td>7.2500</td>\n",
       "      <td>NaN</td>\n",
       "      <td>S</td>\n",
       "    </tr>\n",
       "    <tr>\n",
       "      <th>1</th>\n",
       "      <td>2</td>\n",
       "      <td>1</td>\n",
       "      <td>1</td>\n",
       "      <td>Cumings, Mrs. John Bradley (Florence Briggs Th...</td>\n",
       "      <td>female</td>\n",
       "      <td>38.0</td>\n",
       "      <td>1</td>\n",
       "      <td>0</td>\n",
       "      <td>PC 17599</td>\n",
       "      <td>71.2833</td>\n",
       "      <td>C85</td>\n",
       "      <td>C</td>\n",
       "    </tr>\n",
       "    <tr>\n",
       "      <th>2</th>\n",
       "      <td>3</td>\n",
       "      <td>1</td>\n",
       "      <td>3</td>\n",
       "      <td>Heikkinen, Miss. Laina</td>\n",
       "      <td>female</td>\n",
       "      <td>26.0</td>\n",
       "      <td>0</td>\n",
       "      <td>0</td>\n",
       "      <td>STON/O2. 3101282</td>\n",
       "      <td>7.9250</td>\n",
       "      <td>NaN</td>\n",
       "      <td>S</td>\n",
       "    </tr>\n",
       "    <tr>\n",
       "      <th>3</th>\n",
       "      <td>4</td>\n",
       "      <td>1</td>\n",
       "      <td>1</td>\n",
       "      <td>Futrelle, Mrs. Jacques Heath (Lily May Peel)</td>\n",
       "      <td>female</td>\n",
       "      <td>35.0</td>\n",
       "      <td>1</td>\n",
       "      <td>0</td>\n",
       "      <td>113803</td>\n",
       "      <td>53.1000</td>\n",
       "      <td>C123</td>\n",
       "      <td>S</td>\n",
       "    </tr>\n",
       "    <tr>\n",
       "      <th>4</th>\n",
       "      <td>5</td>\n",
       "      <td>0</td>\n",
       "      <td>3</td>\n",
       "      <td>Allen, Mr. William Henry</td>\n",
       "      <td>male</td>\n",
       "      <td>35.0</td>\n",
       "      <td>0</td>\n",
       "      <td>0</td>\n",
       "      <td>373450</td>\n",
       "      <td>8.0500</td>\n",
       "      <td>NaN</td>\n",
       "      <td>S</td>\n",
       "    </tr>\n",
       "  </tbody>\n",
       "</table>\n",
       "</div>"
      ],
      "text/plain": [
       "   PassengerId  Survived  Pclass  \\\n",
       "0            1         0       3   \n",
       "1            2         1       1   \n",
       "2            3         1       3   \n",
       "3            4         1       1   \n",
       "4            5         0       3   \n",
       "\n",
       "                                                Name     Sex   Age  SibSp  \\\n",
       "0                            Braund, Mr. Owen Harris    male  22.0      1   \n",
       "1  Cumings, Mrs. John Bradley (Florence Briggs Th...  female  38.0      1   \n",
       "2                             Heikkinen, Miss. Laina  female  26.0      0   \n",
       "3       Futrelle, Mrs. Jacques Heath (Lily May Peel)  female  35.0      1   \n",
       "4                           Allen, Mr. William Henry    male  35.0      0   \n",
       "\n",
       "   Parch            Ticket     Fare Cabin Embarked  \n",
       "0      0         A/5 21171   7.2500   NaN        S  \n",
       "1      0          PC 17599  71.2833   C85        C  \n",
       "2      0  STON/O2. 3101282   7.9250   NaN        S  \n",
       "3      0            113803  53.1000  C123        S  \n",
       "4      0            373450   8.0500   NaN        S  "
      ]
     },
     "execution_count": 9,
     "metadata": {},
     "output_type": "execute_result"
    }
   ],
   "source": [
    "# Check the first 5 rows: a mixture of numeric columns and columns with text data.  \n",
    "\n",
    "titanic_train.head(5)  "
   ]
  },
  {
   "cell_type": "code",
   "execution_count": 10,
   "id": "31b017e1",
   "metadata": {
    "execution": {
     "iopub.execute_input": "2025-03-01T05:58:24.028192Z",
     "iopub.status.busy": "2025-03-01T05:58:24.027826Z",
     "iopub.status.idle": "2025-03-01T05:58:24.064103Z",
     "shell.execute_reply": "2025-03-01T05:58:24.062978Z"
    },
    "papermill": {
     "duration": 0.051548,
     "end_time": "2025-03-01T05:58:24.065901",
     "exception": false,
     "start_time": "2025-03-01T05:58:24.014353",
     "status": "completed"
    },
    "tags": []
   },
   "outputs": [
    {
     "data": {
      "text/html": [
       "<div>\n",
       "<style scoped>\n",
       "    .dataframe tbody tr th:only-of-type {\n",
       "        vertical-align: middle;\n",
       "    }\n",
       "\n",
       "    .dataframe tbody tr th {\n",
       "        vertical-align: top;\n",
       "    }\n",
       "\n",
       "    .dataframe thead th {\n",
       "        text-align: right;\n",
       "    }\n",
       "</style>\n",
       "<table border=\"1\" class=\"dataframe\">\n",
       "  <thead>\n",
       "    <tr style=\"text-align: right;\">\n",
       "      <th></th>\n",
       "      <th>PassengerId</th>\n",
       "      <th>Survived</th>\n",
       "      <th>Pclass</th>\n",
       "      <th>Age</th>\n",
       "      <th>SibSp</th>\n",
       "      <th>Parch</th>\n",
       "      <th>Fare</th>\n",
       "    </tr>\n",
       "  </thead>\n",
       "  <tbody>\n",
       "    <tr>\n",
       "      <th>count</th>\n",
       "      <td>891.000000</td>\n",
       "      <td>891.000000</td>\n",
       "      <td>891.000000</td>\n",
       "      <td>714.000000</td>\n",
       "      <td>891.000000</td>\n",
       "      <td>891.000000</td>\n",
       "      <td>891.000000</td>\n",
       "    </tr>\n",
       "    <tr>\n",
       "      <th>mean</th>\n",
       "      <td>446.000000</td>\n",
       "      <td>0.383838</td>\n",
       "      <td>2.308642</td>\n",
       "      <td>29.699118</td>\n",
       "      <td>0.523008</td>\n",
       "      <td>0.381594</td>\n",
       "      <td>32.204208</td>\n",
       "    </tr>\n",
       "    <tr>\n",
       "      <th>std</th>\n",
       "      <td>257.353842</td>\n",
       "      <td>0.486592</td>\n",
       "      <td>0.836071</td>\n",
       "      <td>14.526497</td>\n",
       "      <td>1.102743</td>\n",
       "      <td>0.806057</td>\n",
       "      <td>49.693429</td>\n",
       "    </tr>\n",
       "    <tr>\n",
       "      <th>min</th>\n",
       "      <td>1.000000</td>\n",
       "      <td>0.000000</td>\n",
       "      <td>1.000000</td>\n",
       "      <td>0.420000</td>\n",
       "      <td>0.000000</td>\n",
       "      <td>0.000000</td>\n",
       "      <td>0.000000</td>\n",
       "    </tr>\n",
       "    <tr>\n",
       "      <th>25%</th>\n",
       "      <td>223.500000</td>\n",
       "      <td>0.000000</td>\n",
       "      <td>2.000000</td>\n",
       "      <td>20.125000</td>\n",
       "      <td>0.000000</td>\n",
       "      <td>0.000000</td>\n",
       "      <td>7.910400</td>\n",
       "    </tr>\n",
       "    <tr>\n",
       "      <th>50%</th>\n",
       "      <td>446.000000</td>\n",
       "      <td>0.000000</td>\n",
       "      <td>3.000000</td>\n",
       "      <td>28.000000</td>\n",
       "      <td>0.000000</td>\n",
       "      <td>0.000000</td>\n",
       "      <td>14.454200</td>\n",
       "    </tr>\n",
       "    <tr>\n",
       "      <th>75%</th>\n",
       "      <td>668.500000</td>\n",
       "      <td>1.000000</td>\n",
       "      <td>3.000000</td>\n",
       "      <td>38.000000</td>\n",
       "      <td>1.000000</td>\n",
       "      <td>0.000000</td>\n",
       "      <td>31.000000</td>\n",
       "    </tr>\n",
       "    <tr>\n",
       "      <th>max</th>\n",
       "      <td>891.000000</td>\n",
       "      <td>1.000000</td>\n",
       "      <td>3.000000</td>\n",
       "      <td>80.000000</td>\n",
       "      <td>8.000000</td>\n",
       "      <td>6.000000</td>\n",
       "      <td>512.329200</td>\n",
       "    </tr>\n",
       "  </tbody>\n",
       "</table>\n",
       "</div>"
      ],
      "text/plain": [
       "       PassengerId    Survived      Pclass         Age       SibSp  \\\n",
       "count   891.000000  891.000000  891.000000  714.000000  891.000000   \n",
       "mean    446.000000    0.383838    2.308642   29.699118    0.523008   \n",
       "std     257.353842    0.486592    0.836071   14.526497    1.102743   \n",
       "min       1.000000    0.000000    1.000000    0.420000    0.000000   \n",
       "25%     223.500000    0.000000    2.000000   20.125000    0.000000   \n",
       "50%     446.000000    0.000000    3.000000   28.000000    0.000000   \n",
       "75%     668.500000    1.000000    3.000000   38.000000    1.000000   \n",
       "max     891.000000    1.000000    3.000000   80.000000    8.000000   \n",
       "\n",
       "            Parch        Fare  \n",
       "count  891.000000  891.000000  \n",
       "mean     0.381594   32.204208  \n",
       "std      0.806057   49.693429  \n",
       "min      0.000000    0.000000  \n",
       "25%      0.000000    7.910400  \n",
       "50%      0.000000   14.454200  \n",
       "75%      0.000000   31.000000  \n",
       "max      6.000000  512.329200  "
      ]
     },
     "execution_count": 10,
     "metadata": {},
     "output_type": "execute_result"
    }
   ],
   "source": [
    "# A statistical summary of the variables\n",
    "\n",
    "titanic_train.describe()  \n",
    "\n",
    "\n",
    "# Note: describe() function can not summarize categorical columns\n",
    " "
   ]
  },
  {
   "cell_type": "markdown",
   "id": "e098d313",
   "metadata": {
    "papermill": {
     "duration": 0.012295,
     "end_time": "2025-03-01T05:58:24.091039",
     "exception": false,
     "start_time": "2025-03-01T05:58:24.078744",
     "status": "completed"
    },
    "tags": []
   },
   "source": [
    "# Describe the categorical variables"
   ]
  },
  {
   "cell_type": "code",
   "execution_count": 11,
   "id": "27aee6ee",
   "metadata": {
    "execution": {
     "iopub.execute_input": "2025-03-01T05:58:24.118656Z",
     "iopub.status.busy": "2025-03-01T05:58:24.118265Z",
     "iopub.status.idle": "2025-03-01T05:58:24.141303Z",
     "shell.execute_reply": "2025-03-01T05:58:24.140180Z"
    },
    "papermill": {
     "duration": 0.039485,
     "end_time": "2025-03-01T05:58:24.143113",
     "exception": false,
     "start_time": "2025-03-01T05:58:24.103628",
     "status": "completed"
    },
    "tags": []
   },
   "outputs": [
    {
     "data": {
      "text/html": [
       "<div>\n",
       "<style scoped>\n",
       "    .dataframe tbody tr th:only-of-type {\n",
       "        vertical-align: middle;\n",
       "    }\n",
       "\n",
       "    .dataframe tbody tr th {\n",
       "        vertical-align: top;\n",
       "    }\n",
       "\n",
       "    .dataframe thead th {\n",
       "        text-align: right;\n",
       "    }\n",
       "</style>\n",
       "<table border=\"1\" class=\"dataframe\">\n",
       "  <thead>\n",
       "    <tr style=\"text-align: right;\">\n",
       "      <th></th>\n",
       "      <th>Name</th>\n",
       "      <th>Sex</th>\n",
       "      <th>Ticket</th>\n",
       "      <th>Cabin</th>\n",
       "      <th>Embarked</th>\n",
       "    </tr>\n",
       "  </thead>\n",
       "  <tbody>\n",
       "    <tr>\n",
       "      <th>count</th>\n",
       "      <td>891</td>\n",
       "      <td>891</td>\n",
       "      <td>891</td>\n",
       "      <td>204</td>\n",
       "      <td>889</td>\n",
       "    </tr>\n",
       "    <tr>\n",
       "      <th>unique</th>\n",
       "      <td>891</td>\n",
       "      <td>2</td>\n",
       "      <td>681</td>\n",
       "      <td>147</td>\n",
       "      <td>3</td>\n",
       "    </tr>\n",
       "    <tr>\n",
       "      <th>top</th>\n",
       "      <td>Braund, Mr. Owen Harris</td>\n",
       "      <td>male</td>\n",
       "      <td>347082</td>\n",
       "      <td>B96 B98</td>\n",
       "      <td>S</td>\n",
       "    </tr>\n",
       "    <tr>\n",
       "      <th>freq</th>\n",
       "      <td>1</td>\n",
       "      <td>577</td>\n",
       "      <td>7</td>\n",
       "      <td>4</td>\n",
       "      <td>644</td>\n",
       "    </tr>\n",
       "  </tbody>\n",
       "</table>\n",
       "</div>"
      ],
      "text/plain": [
       "                           Name   Sex  Ticket    Cabin Embarked\n",
       "count                       891   891     891      204      889\n",
       "unique                      891     2     681      147        3\n",
       "top     Braund, Mr. Owen Harris  male  347082  B96 B98        S\n",
       "freq                          1   577       7        4      644"
      ]
     },
     "execution_count": 11,
     "metadata": {},
     "output_type": "execute_result"
    }
   ],
   "source": [
    "# make a list of categorical columns \n",
    "\n",
    "# step1: find the cols where dtype is an object  \n",
    "# code: titanic_train.dtypes == 'object' \n",
    "\n",
    "# step2: take the index of those cols: \n",
    "categorical = titanic_train.dtypes[titanic_train.dtypes == 'object'].index \n",
    "\n",
    "\n",
    "# use 'categorical' to index back into titanic_train \n",
    "# rerun the describe():   \n",
    "titanic_train[categorical].describe()  \n",
    " "
   ]
  },
  {
   "cell_type": "code",
   "execution_count": 12,
   "id": "2ddfac12",
   "metadata": {
    "execution": {
     "iopub.execute_input": "2025-03-01T05:58:24.170618Z",
     "iopub.status.busy": "2025-03-01T05:58:24.170252Z",
     "iopub.status.idle": "2025-03-01T05:58:24.174710Z",
     "shell.execute_reply": "2025-03-01T05:58:24.173222Z"
    },
    "papermill": {
     "duration": 0.020567,
     "end_time": "2025-03-01T05:58:24.176694",
     "exception": false,
     "start_time": "2025-03-01T05:58:24.156127",
     "status": "completed"
    },
    "tags": []
   },
   "outputs": [],
   "source": [
    "# VARIABLE DESCRIPTIONS:\n",
    "# survival        Survival\n",
    "#                 (0 = No; 1 = Yes)\n",
    "# pclass          Passenger Class\n",
    "#                 (1 = 1st; 2 = 2nd; 3 = 3rd)\n",
    "# name            Name\n",
    "# sex             Sex\n",
    "# age             Age\n",
    "# sibsp           Number of Siblings/Spouses Aboard\n",
    "# parch           Number of Parents/Children Aboard\n",
    "# ticket          Ticket Number\n",
    "# fare            Passenger Fare\n",
    "# cabin           Cabin\n",
    "# embarked        Port of Embarkation\n",
    "#                 (C = Cherbourg; Q = Queenstown; S = Southampton) "
   ]
  },
  {
   "cell_type": "markdown",
   "id": "60b52735",
   "metadata": {
    "execution": {
     "iopub.execute_input": "2025-02-25T07:47:08.004654Z",
     "iopub.status.busy": "2025-02-25T07:47:08.004292Z",
     "iopub.status.idle": "2025-02-25T07:47:08.024467Z",
     "shell.execute_reply": "2025-02-25T07:47:08.023367Z",
     "shell.execute_reply.started": "2025-02-25T07:47:08.004618Z"
    },
    "papermill": {
     "duration": 0.012921,
     "end_time": "2025-03-01T05:58:24.203009",
     "exception": false,
     "start_time": "2025-03-01T05:58:24.190088",
     "status": "completed"
    },
    "tags": []
   },
   "source": [
    "After looking at the var for the first time, you should ask yourself a few questions, and solve these questions later: \n",
    "\n",
    "\n",
    "**1. Do I need all of the variables?**\n",
    "\n",
    "**2. Should I transform any variables?**\n",
    "\n",
    "**3. Are there NA values, outliers or other strange values?**\n",
    "\n",
    "**4. Should I create new variables?**\n"
   ]
  },
  {
   "cell_type": "markdown",
   "id": "c2b9d719",
   "metadata": {
    "papermill": {
     "duration": 0.01277,
     "end_time": "2025-03-01T05:58:24.230649",
     "exception": false,
     "start_time": "2025-03-01T05:58:24.217879",
     "status": "completed"
    },
    "tags": []
   },
   "source": [
    "This data set is provided in conjunction with **a predictive modeling competition where the goal is to use the training data to predict whether passengers of the titanic listed in a second data set survived or not**. We won't be dealing with the second data set (known the test set) right now, but we will revisit this competition and make predictions in a future lesson on predictive modeling. "
   ]
  },
  {
   "cell_type": "markdown",
   "id": "7b3afd10",
   "metadata": {
    "papermill": {
     "duration": 0.013246,
     "end_time": "2025-03-01T05:58:24.257085",
     "exception": false,
     "start_time": "2025-03-01T05:58:24.243839",
     "status": "completed"
    },
    "tags": []
   },
   "source": [
    "# Do I need all of the variables? "
   ]
  },
  {
   "cell_type": "code",
   "execution_count": 13,
   "id": "24d72cff",
   "metadata": {
    "execution": {
     "iopub.execute_input": "2025-03-01T05:58:24.284099Z",
     "iopub.status.busy": "2025-03-01T05:58:24.283665Z",
     "iopub.status.idle": "2025-03-01T05:58:24.287559Z",
     "shell.execute_reply": "2025-03-01T05:58:24.286568Z"
    },
    "papermill": {
     "duration": 0.019274,
     "end_time": "2025-03-01T05:58:24.289308",
     "exception": false,
     "start_time": "2025-03-01T05:58:24.270034",
     "status": "completed"
    },
    "tags": []
   },
   "outputs": [],
   "source": [
    "# DATA CLEANING "
   ]
  },
  {
   "cell_type": "code",
   "execution_count": 14,
   "id": "3f796ad9",
   "metadata": {
    "execution": {
     "iopub.execute_input": "2025-03-01T05:58:24.316757Z",
     "iopub.status.busy": "2025-03-01T05:58:24.316359Z",
     "iopub.status.idle": "2025-03-01T05:58:24.328870Z",
     "shell.execute_reply": "2025-03-01T05:58:24.327456Z"
    },
    "papermill": {
     "duration": 0.028375,
     "end_time": "2025-03-01T05:58:24.330913",
     "exception": false,
     "start_time": "2025-03-01T05:58:24.302538",
     "status": "completed"
    },
    "tags": []
   },
   "outputs": [
    {
     "name": "stdout",
     "output_type": "stream",
     "text": [
      "<class 'pandas.core.frame.DataFrame'>\n",
      "RangeIndex: 891 entries, 0 to 890\n",
      "Data columns (total 12 columns):\n",
      " #   Column       Non-Null Count  Dtype  \n",
      "---  ------       --------------  -----  \n",
      " 0   PassengerId  891 non-null    int64  \n",
      " 1   Survived     891 non-null    int64  \n",
      " 2   Pclass       891 non-null    int64  \n",
      " 3   Name         891 non-null    object \n",
      " 4   Sex          891 non-null    object \n",
      " 5   Age          714 non-null    float64\n",
      " 6   SibSp        891 non-null    int64  \n",
      " 7   Parch        891 non-null    int64  \n",
      " 8   Ticket       891 non-null    object \n",
      " 9   Fare         891 non-null    float64\n",
      " 10  Cabin        204 non-null    object \n",
      " 11  Embarked     889 non-null    object \n",
      "dtypes: float64(2), int64(5), object(5)\n",
      "memory usage: 83.7+ KB\n"
     ]
    }
   ],
   "source": [
    "titanic_train.info()"
   ]
  },
  {
   "cell_type": "code",
   "execution_count": 15,
   "id": "f4742d8a",
   "metadata": {
    "execution": {
     "iopub.execute_input": "2025-03-01T05:58:24.358506Z",
     "iopub.status.busy": "2025-03-01T05:58:24.358105Z",
     "iopub.status.idle": "2025-03-01T05:58:24.363319Z",
     "shell.execute_reply": "2025-03-01T05:58:24.362122Z"
    },
    "papermill": {
     "duration": 0.021363,
     "end_time": "2025-03-01T05:58:24.365258",
     "exception": false,
     "start_time": "2025-03-01T05:58:24.343895",
     "status": "completed"
    },
    "tags": []
   },
   "outputs": [],
   "source": [
    "# \"PassengerId\" is just a number assigned to each passenger. \n",
    "# It is nothing more than an arbitrary identifier;\n",
    "# Let's remove it anyway.   \n",
    "\n",
    "del titanic_train['PassengerId'] \n"
   ]
  },
  {
   "cell_type": "markdown",
   "id": "5af2f718",
   "metadata": {
    "papermill": {
     "duration": 0.013105,
     "end_time": "2025-03-01T05:58:24.391860",
     "exception": false,
     "start_time": "2025-03-01T05:58:24.378755",
     "status": "completed"
    },
    "tags": []
   },
   "source": [
    "1. \"Survived\" indicates whether each passenger lived or died. \n",
    "Since predicting survival is our goal, we definitely need to keep it.\n",
    "\n",
    "2. Features that **describe passengers numerically** or **group them into a few broad categories** could be useful for predicting survival.\n",
    "\n",
    "   \n",
    "3. The variables **Pclass, Sex, Age, SibSp, Parch, Fare, and Embarked** appear to fit this description, so let's keep all of them. \n",
    "\n"
   ]
  },
  {
   "cell_type": "code",
   "execution_count": 16,
   "id": "989e5af7",
   "metadata": {
    "execution": {
     "iopub.execute_input": "2025-03-01T05:58:24.420491Z",
     "iopub.status.busy": "2025-03-01T05:58:24.420110Z",
     "iopub.status.idle": "2025-03-01T05:58:24.425003Z",
     "shell.execute_reply": "2025-03-01T05:58:24.423768Z"
    },
    "papermill": {
     "duration": 0.021123,
     "end_time": "2025-03-01T05:58:24.427066",
     "exception": false,
     "start_time": "2025-03-01T05:58:24.405943",
     "status": "completed"
    },
    "tags": []
   },
   "outputs": [],
   "source": [
    "# \"Name\" appears to be a character string of the name of each passenger. "
   ]
  },
  {
   "cell_type": "code",
   "execution_count": 17,
   "id": "2f118398",
   "metadata": {
    "execution": {
     "iopub.execute_input": "2025-03-01T05:58:24.460577Z",
     "iopub.status.busy": "2025-03-01T05:58:24.460231Z",
     "iopub.status.idle": "2025-03-01T05:58:24.466796Z",
     "shell.execute_reply": "2025-03-01T05:58:24.465685Z"
    },
    "papermill": {
     "duration": 0.022699,
     "end_time": "2025-03-01T05:58:24.468451",
     "exception": false,
     "start_time": "2025-03-01T05:58:24.445752",
     "status": "completed"
    },
    "tags": []
   },
   "outputs": [
    {
     "data": {
      "text/plain": [
       "['Allen, Mr. William Henry',\n",
       " 'Andersson, Mr. Anders Johan',\n",
       " 'Bonnell, Miss. Elizabeth',\n",
       " 'Braund, Mr. Owen Harris',\n",
       " 'Cumings, Mrs. John Bradley (Florence Briggs Thayer)',\n",
       " 'Futrelle, Mrs. Jacques Heath (Lily May Peel)',\n",
       " 'Heikkinen, Miss. Laina',\n",
       " 'Johnson, Mrs. Oscar W (Elisabeth Vilhelmina Berg)',\n",
       " 'McCarthy, Mr. Timothy J',\n",
       " 'Moran, Mr. James',\n",
       " 'Nasser, Mrs. Nicholas (Adele Achem)',\n",
       " 'Palsson, Master. Gosta Leonard',\n",
       " 'Sandstrom, Miss. Marguerite Rut',\n",
       " 'Saundercock, Mr. William Henry',\n",
       " 'Vestrom, Miss. Hulda Amanda Adolfina']"
      ]
     },
     "execution_count": 17,
     "metadata": {},
     "output_type": "execute_result"
    }
   ],
   "source": [
    "#  This command sorts only the first 15 names in the 'Name' column: \n",
    "#  Wrong Version  \n",
    "\n",
    "sorted(titanic_train['Name'][0:15])   "
   ]
  },
  {
   "cell_type": "code",
   "execution_count": 18,
   "id": "a75e8824",
   "metadata": {
    "execution": {
     "iopub.execute_input": "2025-03-01T05:58:24.496197Z",
     "iopub.status.busy": "2025-03-01T05:58:24.495852Z",
     "iopub.status.idle": "2025-03-01T05:58:24.502491Z",
     "shell.execute_reply": "2025-03-01T05:58:24.501490Z"
    },
    "papermill": {
     "duration": 0.022491,
     "end_time": "2025-03-01T05:58:24.504351",
     "exception": false,
     "start_time": "2025-03-01T05:58:24.481860",
     "status": "completed"
    },
    "tags": []
   },
   "outputs": [
    {
     "data": {
      "text/plain": [
       "['Abbing, Mr. Anthony',\n",
       " 'Abbott, Mr. Rossmore Edward',\n",
       " 'Abbott, Mrs. Stanton (Rosa Hunt)',\n",
       " 'Abelson, Mr. Samuel',\n",
       " 'Abelson, Mrs. Samuel (Hannah Wizosky)',\n",
       " 'Adahl, Mr. Mauritz Nils Martin',\n",
       " 'Adams, Mr. John',\n",
       " 'Ahlin, Mrs. Johan (Johanna Persdotter Larsson)',\n",
       " 'Aks, Mrs. Sam (Leah Rosen)',\n",
       " 'Albimona, Mr. Nassef Cassem',\n",
       " 'Alexander, Mr. William',\n",
       " 'Alhomaki, Mr. Ilmari Rudolf',\n",
       " 'Ali, Mr. Ahmed',\n",
       " 'Ali, Mr. William',\n",
       " 'Allen, Miss. Elisabeth Walton']"
      ]
     },
     "execution_count": 18,
     "metadata": {},
     "output_type": "execute_result"
    }
   ],
   "source": [
    "# The correct version:  \n",
    "# This command sorts the entire 'Name' column\n",
    "\n",
    "sorted(titanic_train['Name'])[0:15] "
   ]
  },
  {
   "cell_type": "code",
   "execution_count": 19,
   "id": "29639c09",
   "metadata": {
    "execution": {
     "iopub.execute_input": "2025-03-01T05:58:24.533518Z",
     "iopub.status.busy": "2025-03-01T05:58:24.533177Z",
     "iopub.status.idle": "2025-03-01T05:58:24.544700Z",
     "shell.execute_reply": "2025-03-01T05:58:24.543334Z"
    },
    "papermill": {
     "duration": 0.028089,
     "end_time": "2025-03-01T05:58:24.546357",
     "exception": false,
     "start_time": "2025-03-01T05:58:24.518268",
     "status": "completed"
    },
    "tags": []
   },
   "outputs": [
    {
     "name": "stdout",
     "output_type": "stream",
     "text": [
      "<class 'pandas.core.frame.DataFrame'>\n",
      "RangeIndex: 891 entries, 0 to 890\n",
      "Data columns (total 11 columns):\n",
      " #   Column    Non-Null Count  Dtype  \n",
      "---  ------    --------------  -----  \n",
      " 0   Survived  891 non-null    int64  \n",
      " 1   Pclass    891 non-null    int64  \n",
      " 2   Name      891 non-null    object \n",
      " 3   Sex       891 non-null    object \n",
      " 4   Age       714 non-null    float64\n",
      " 5   SibSp     891 non-null    int64  \n",
      " 6   Parch     891 non-null    int64  \n",
      " 7   Ticket    891 non-null    object \n",
      " 8   Fare      891 non-null    float64\n",
      " 9   Cabin     204 non-null    object \n",
      " 10  Embarked  889 non-null    object \n",
      "dtypes: float64(2), int64(4), object(5)\n",
      "memory usage: 76.7+ KB\n"
     ]
    }
   ],
   "source": [
    "titanic_train.info()"
   ]
  },
  {
   "cell_type": "code",
   "execution_count": 20,
   "id": "0a4d56ea",
   "metadata": {
    "execution": {
     "iopub.execute_input": "2025-03-01T05:58:24.574673Z",
     "iopub.status.busy": "2025-03-01T05:58:24.574291Z",
     "iopub.status.idle": "2025-03-01T05:58:24.583577Z",
     "shell.execute_reply": "2025-03-01T05:58:24.582264Z"
    },
    "papermill": {
     "duration": 0.025742,
     "end_time": "2025-03-01T05:58:24.585632",
     "exception": false,
     "start_time": "2025-03-01T05:58:24.559890",
     "status": "completed"
    },
    "tags": []
   },
   "outputs": [
    {
     "data": {
      "text/plain": [
       "count                         891\n",
       "unique                        891\n",
       "top       Braund, Mr. Owen Harris\n",
       "freq                            1\n",
       "Name: Name, dtype: object"
      ]
     },
     "execution_count": 20,
     "metadata": {},
     "output_type": "execute_result"
    }
   ],
   "source": [
    "# describe the Name category \n",
    "titanic_train['Name'].describe()  "
   ]
  },
  {
   "cell_type": "markdown",
   "id": "032eb645",
   "metadata": {
    "papermill": {
     "duration": 0.013431,
     "end_time": "2025-03-01T05:58:24.613514",
     "exception": false,
     "start_time": "2025-03-01T05:58:24.600083",
     "status": "completed"
    },
    "tags": []
   },
   "source": [
    "1. Name variable has **889 unique** values.\n",
    "   \n",
    "2. In general, a **categorical variable** that is **unique to each case isn't useful** for prediction. \n",
    "\n",
    "3. We could extract last names to try to group family members together, but even then the number of categories would be very large. \n",
    "   \n",
    "4. On the other hand, it can be nice to have some way to uniquely identify particular cases and names are interesting from a personal and historical perspective, so let's keep Name, knowing that we won't actually use it in any predictive models we make.    "
   ]
  },
  {
   "cell_type": "code",
   "execution_count": 21,
   "id": "c16baac5",
   "metadata": {
    "execution": {
     "iopub.execute_input": "2025-03-01T05:58:24.645852Z",
     "iopub.status.busy": "2025-03-01T05:58:24.645422Z",
     "iopub.status.idle": "2025-03-01T05:58:24.652879Z",
     "shell.execute_reply": "2025-03-01T05:58:24.651764Z"
    },
    "papermill": {
     "duration": 0.024487,
     "end_time": "2025-03-01T05:58:24.654767",
     "exception": false,
     "start_time": "2025-03-01T05:58:24.630280",
     "status": "completed"
    },
    "tags": []
   },
   "outputs": [
    {
     "data": {
      "text/plain": [
       "0            A/5 21171\n",
       "1             PC 17599\n",
       "2     STON/O2. 3101282\n",
       "3               113803\n",
       "4               373450\n",
       "5               330877\n",
       "6                17463\n",
       "7               349909\n",
       "8               347742\n",
       "9               237736\n",
       "10             PP 9549\n",
       "11              113783\n",
       "12           A/5. 2151\n",
       "13              347082\n",
       "14              350406\n",
       "Name: Ticket, dtype: object"
      ]
     },
     "execution_count": 21,
     "metadata": {},
     "output_type": "execute_result"
    }
   ],
   "source": [
    "# check the first 15 rows in col Ticket: \n",
    "titanic_train['Ticket'][0:15]"
   ]
  },
  {
   "cell_type": "code",
   "execution_count": 22,
   "id": "1ed62987",
   "metadata": {
    "execution": {
     "iopub.execute_input": "2025-03-01T05:58:24.683566Z",
     "iopub.status.busy": "2025-03-01T05:58:24.683229Z",
     "iopub.status.idle": "2025-03-01T05:58:24.692359Z",
     "shell.execute_reply": "2025-03-01T05:58:24.691160Z"
    },
    "papermill": {
     "duration": 0.025374,
     "end_time": "2025-03-01T05:58:24.694231",
     "exception": false,
     "start_time": "2025-03-01T05:58:24.668857",
     "status": "completed"
    },
    "tags": []
   },
   "outputs": [
    {
     "data": {
      "text/plain": [
       "count        891\n",
       "unique       681\n",
       "top       347082\n",
       "freq           7\n",
       "Name: Ticket, dtype: object"
      ]
     },
     "execution_count": 22,
     "metadata": {},
     "output_type": "execute_result"
    }
   ],
   "source": [
    "# describe the Ticket col: \n",
    "titanic_train['Ticket'].describe()"
   ]
  },
  {
   "cell_type": "markdown",
   "id": "5e80b4cb",
   "metadata": {
    "papermill": {
     "duration": 0.01345,
     "end_time": "2025-03-01T05:58:24.721977",
     "exception": false,
     "start_time": "2025-03-01T05:58:24.708527",
     "status": "completed"
    },
    "tags": []
   },
   "source": [
    "1. Ticket has **680 unique** values: almost as many as there are passengers.\n",
    "   \n",
    "2. **Categorical variables with almost as many levels as there are records are often not very useful for prediction.** \n",
    "\n",
    "   \n",
    "3.  We could try to reduce the number of levels by grouping certain tickets together,\n",
    "5. But the ticket numbers don't appear to follow any logical pattern we could use for grouping. Let's remove it. "
   ]
  },
  {
   "cell_type": "code",
   "execution_count": 23,
   "id": "f195ae17",
   "metadata": {
    "execution": {
     "iopub.execute_input": "2025-03-01T05:58:24.751637Z",
     "iopub.status.busy": "2025-03-01T05:58:24.751237Z",
     "iopub.status.idle": "2025-03-01T05:58:24.755850Z",
     "shell.execute_reply": "2025-03-01T05:58:24.754818Z"
    },
    "papermill": {
     "duration": 0.021316,
     "end_time": "2025-03-01T05:58:24.757961",
     "exception": false,
     "start_time": "2025-03-01T05:58:24.736645",
     "status": "completed"
    },
    "tags": []
   },
   "outputs": [],
   "source": [
    "del titanic_train['Ticket']  "
   ]
  },
  {
   "cell_type": "code",
   "execution_count": 24,
   "id": "4f3d7ae1",
   "metadata": {
    "execution": {
     "iopub.execute_input": "2025-03-01T05:58:24.787496Z",
     "iopub.status.busy": "2025-03-01T05:58:24.787156Z",
     "iopub.status.idle": "2025-03-01T05:58:24.794312Z",
     "shell.execute_reply": "2025-03-01T05:58:24.793029Z"
    },
    "papermill": {
     "duration": 0.024109,
     "end_time": "2025-03-01T05:58:24.796321",
     "exception": false,
     "start_time": "2025-03-01T05:58:24.772212",
     "status": "completed"
    },
    "tags": []
   },
   "outputs": [
    {
     "data": {
      "text/plain": [
       "0      NaN\n",
       "1      C85\n",
       "2      NaN\n",
       "3     C123\n",
       "4      NaN\n",
       "5      NaN\n",
       "6      E46\n",
       "7      NaN\n",
       "8      NaN\n",
       "9      NaN\n",
       "10      G6\n",
       "11    C103\n",
       "12     NaN\n",
       "13     NaN\n",
       "14     NaN\n",
       "Name: Cabin, dtype: object"
      ]
     },
     "execution_count": 24,
     "metadata": {},
     "output_type": "execute_result"
    }
   ],
   "source": [
    "# Check the first 15 Cabins:  \n",
    "\n",
    "titanic_train['Cabin'][0:15]  "
   ]
  },
  {
   "cell_type": "code",
   "execution_count": 25,
   "id": "6e612ac9",
   "metadata": {
    "execution": {
     "iopub.execute_input": "2025-03-01T05:58:24.825685Z",
     "iopub.status.busy": "2025-03-01T05:58:24.825257Z",
     "iopub.status.idle": "2025-03-01T05:58:24.829780Z",
     "shell.execute_reply": "2025-03-01T05:58:24.828278Z"
    },
    "papermill": {
     "duration": 0.021344,
     "end_time": "2025-03-01T05:58:24.831843",
     "exception": false,
     "start_time": "2025-03-01T05:58:24.810499",
     "status": "completed"
    },
    "tags": []
   },
   "outputs": [],
   "source": [
    "# Wrong code: \n",
    "# sorted(titanic_train['Cabin'])[0:15]  \n",
    "\n",
    "#Python can not compare NaN and C85 which is larger.   \n",
    "\n"
   ]
  },
  {
   "cell_type": "code",
   "execution_count": 26,
   "id": "4b283f5b",
   "metadata": {
    "execution": {
     "iopub.execute_input": "2025-03-01T05:58:24.860513Z",
     "iopub.status.busy": "2025-03-01T05:58:24.860178Z",
     "iopub.status.idle": "2025-03-01T05:58:24.868845Z",
     "shell.execute_reply": "2025-03-01T05:58:24.867613Z"
    },
    "papermill": {
     "duration": 0.025089,
     "end_time": "2025-03-01T05:58:24.870652",
     "exception": false,
     "start_time": "2025-03-01T05:58:24.845563",
     "status": "completed"
    },
    "tags": []
   },
   "outputs": [
    {
     "data": {
      "text/plain": [
       "count         204\n",
       "unique        147\n",
       "top       B96 B98\n",
       "freq            4\n",
       "Name: Cabin, dtype: object"
      ]
     },
     "execution_count": 26,
     "metadata": {},
     "output_type": "execute_result"
    }
   ],
   "source": [
    "titanic_train['Cabin'].describe() "
   ]
  },
  {
   "cell_type": "markdown",
   "id": "2a188383",
   "metadata": {
    "papermill": {
     "duration": 0.013706,
     "end_time": "2025-03-01T05:58:24.898048",
     "exception": false,
     "start_time": "2025-03-01T05:58:24.884342",
     "status": "completed"
    },
    "tags": []
   },
   "source": [
    "1. Cabin has **147 unique** values, which indicates it may not be particularly useful for prediction.\n",
    "   \n",
    "2. On the other hand, the names of the levels for the cabin variable seem to have a regular structure: each starts with a capital letter followed by a number.\n",
    "\n",
    "   \n",
    "3. We could use that structure to reduce the number of levels to **make categories large** enough that they might be useful for prediction. \n",
    " "
   ]
  },
  {
   "cell_type": "markdown",
   "id": "c16dfc65",
   "metadata": {
    "papermill": {
     "duration": 0.071605,
     "end_time": "2025-03-01T05:58:24.984393",
     "exception": false,
     "start_time": "2025-03-01T05:58:24.912788",
     "status": "completed"
    },
    "tags": []
   },
   "source": [
    "1. Removing variables is often more of an art than a science.\n",
    "   \n",
    "2. Data projects are iterative processes:\n",
    "\n",
    "       you can start with a simple analysis or model using only a few variables and then expand later by adding more and more of the other variables you initially ignored or removed. "
   ]
  },
  {
   "cell_type": "markdown",
   "id": "0e928ab3",
   "metadata": {
    "papermill": {
     "duration": 0.013598,
     "end_time": "2025-03-01T05:58:25.011885",
     "exception": false,
     "start_time": "2025-03-01T05:58:24.998287",
     "status": "completed"
    },
    "tags": []
   },
   "source": [
    "# Should I Transform Any Variables?¶ "
   ]
  },
  {
   "cell_type": "markdown",
   "id": "7876568b",
   "metadata": {
    "papermill": {
     "duration": 0.013624,
     "end_time": "2025-03-01T05:58:25.039469",
     "exception": false,
     "start_time": "2025-03-01T05:58:25.025845",
     "status": "completed"
    },
    "tags": []
   },
   "source": [
    "1. When first loading a data set, some of the variables may be encoded as **data types** that **don't fit well** with what the **data really is or what it means**.  \n",
    "\n",
    "2. For instance, Survived is just an integer variable that takes on the value 0 or 1 depending on whether a passenger died or survived respectively.\n",
    "\n",
    "3. Variables that indicate a state or the **presence or absence** of something with the numbers **0 and 1** are sometimes called **indicator variables or dummy variables**. \n",
    "\n",
    "4. Indicator variables are essentially just a shorthand for encoding a categorical variable with 2 levels.\n",
    "\n",
    "5. We could instead encode Survived as a categorical variable with more descriptive categories. "
   ]
  },
  {
   "cell_type": "code",
   "execution_count": 27,
   "id": "5861ca25",
   "metadata": {
    "execution": {
     "iopub.execute_input": "2025-03-01T05:58:25.069697Z",
     "iopub.status.busy": "2025-03-01T05:58:25.069315Z",
     "iopub.status.idle": "2025-03-01T05:58:25.079707Z",
     "shell.execute_reply": "2025-03-01T05:58:25.078383Z"
    },
    "papermill": {
     "duration": 0.02745,
     "end_time": "2025-03-01T05:58:25.081793",
     "exception": false,
     "start_time": "2025-03-01T05:58:25.054343",
     "status": "completed"
    },
    "tags": []
   },
   "outputs": [
    {
     "data": {
      "text/plain": [
       "count    891.000000\n",
       "mean       0.383838\n",
       "std        0.486592\n",
       "min        0.000000\n",
       "25%        0.000000\n",
       "50%        0.000000\n",
       "75%        1.000000\n",
       "max        1.000000\n",
       "Name: Survived, dtype: float64"
      ]
     },
     "execution_count": 27,
     "metadata": {},
     "output_type": "execute_result"
    }
   ],
   "source": [
    "# Describe the column \"Survived\": \n",
    "\n",
    "titanic_train['Survived'].describe()"
   ]
  },
  {
   "cell_type": "code",
   "execution_count": 28,
   "id": "a2c700ac",
   "metadata": {
    "execution": {
     "iopub.execute_input": "2025-03-01T05:58:25.112318Z",
     "iopub.status.busy": "2025-03-01T05:58:25.111930Z",
     "iopub.status.idle": "2025-03-01T05:58:25.128482Z",
     "shell.execute_reply": "2025-03-01T05:58:25.127200Z"
    },
    "papermill": {
     "duration": 0.034658,
     "end_time": "2025-03-01T05:58:25.130550",
     "exception": false,
     "start_time": "2025-03-01T05:58:25.095892",
     "status": "completed"
    },
    "tags": []
   },
   "outputs": [
    {
     "data": {
      "text/html": [
       "<div>\n",
       "<style scoped>\n",
       "    .dataframe tbody tr th:only-of-type {\n",
       "        vertical-align: middle;\n",
       "    }\n",
       "\n",
       "    .dataframe tbody tr th {\n",
       "        vertical-align: top;\n",
       "    }\n",
       "\n",
       "    .dataframe thead th {\n",
       "        text-align: right;\n",
       "    }\n",
       "</style>\n",
       "<table border=\"1\" class=\"dataframe\">\n",
       "  <thead>\n",
       "    <tr style=\"text-align: right;\">\n",
       "      <th></th>\n",
       "      <th>counts</th>\n",
       "      <th>freqs</th>\n",
       "    </tr>\n",
       "    <tr>\n",
       "      <th>categories</th>\n",
       "      <th></th>\n",
       "      <th></th>\n",
       "    </tr>\n",
       "  </thead>\n",
       "  <tbody>\n",
       "    <tr>\n",
       "      <th>Died</th>\n",
       "      <td>549</td>\n",
       "      <td>0.616162</td>\n",
       "    </tr>\n",
       "    <tr>\n",
       "      <th>Survived</th>\n",
       "      <td>342</td>\n",
       "      <td>0.383838</td>\n",
       "    </tr>\n",
       "  </tbody>\n",
       "</table>\n",
       "</div>"
      ],
      "text/plain": [
       "            counts     freqs\n",
       "categories                  \n",
       "Died           549  0.616162\n",
       "Survived       342  0.383838"
      ]
     },
     "execution_count": 28,
     "metadata": {},
     "output_type": "execute_result"
    }
   ],
   "source": [
    "# 1. Transform the var of \"Survived\"\n",
    "# 2. assign the value  \n",
    "# 3. describe again \n",
    "new_survived = pd.Categorical(titanic_train['Survived']) \n",
    "new_survived = new_survived.rename_categories(['Died', 'Survived'])  \n",
    "\n",
    "new_survived.describe()  \n",
    "\n"
   ]
  },
  {
   "cell_type": "code",
   "execution_count": 29,
   "id": "87dd32fe",
   "metadata": {
    "execution": {
     "iopub.execute_input": "2025-03-01T05:58:25.160735Z",
     "iopub.status.busy": "2025-03-01T05:58:25.160310Z",
     "iopub.status.idle": "2025-03-01T05:58:25.170378Z",
     "shell.execute_reply": "2025-03-01T05:58:25.169247Z"
    },
    "papermill": {
     "duration": 0.026979,
     "end_time": "2025-03-01T05:58:25.172164",
     "exception": false,
     "start_time": "2025-03-01T05:58:25.145185",
     "status": "completed"
    },
    "tags": []
   },
   "outputs": [
    {
     "data": {
      "text/plain": [
       "count      891\n",
       "unique       2\n",
       "top       Died\n",
       "freq       549\n",
       "Name: Survived, dtype: object"
      ]
     },
     "execution_count": 29,
     "metadata": {},
     "output_type": "execute_result"
    }
   ],
   "source": [
    "titanic_train['Survived'] = new_survived \n",
    "titanic_train['Survived'].describe()"
   ]
  },
  {
   "cell_type": "markdown",
   "id": "15e1b4e2",
   "metadata": {
    "papermill": {
     "duration": 0.014056,
     "end_time": "2025-03-01T05:58:25.200548",
     "exception": false,
     "start_time": "2025-03-01T05:58:25.186492",
     "status": "completed"
    },
    "tags": []
   },
   "source": [
    "1. Survived looks a little nicer as a categorical variable with appropriate category names.\n",
    "   \n",
    "2. But we're not going to change it.\n",
    "   \n",
    "3.  Since our goal is to **predict survival** for the Kaggle competition. \n",
    "   \n",
    "5.  It turns out that when submitting predictions for the competition, the predictions need to be encoded as 0 or 1.\n",
    "  \n",
    "6. It would only complicate things to transform Survived, only to convert it back to 0 and 1 later. "
   ]
  },
  {
   "cell_type": "markdown",
   "id": "2c34e887",
   "metadata": {
    "papermill": {
     "duration": 0.0146,
     "end_time": "2025-03-01T05:58:25.230118",
     "exception": false,
     "start_time": "2025-03-01T05:58:25.215518",
     "status": "completed"
    },
    "tags": []
   },
   "source": [
    "1. Another variable that has questionable data encoding is: Pclass.\n",
    "\n",
    "2. **1st class would be considered \"above\" or \"higher\" than second class.**\n",
    "\n",
    "3. But when encoded as an integer, 1 comes before 2.\n",
    "\n",
    "4.  We can fix this by **transforming Pclass into an ordered categorical variable**  "
   ]
  },
  {
   "cell_type": "code",
   "execution_count": 30,
   "id": "e91cb1a1",
   "metadata": {
    "execution": {
     "iopub.execute_input": "2025-03-01T05:58:25.260286Z",
     "iopub.status.busy": "2025-03-01T05:58:25.259879Z",
     "iopub.status.idle": "2025-03-01T05:58:25.272745Z",
     "shell.execute_reply": "2025-03-01T05:58:25.271500Z"
    },
    "papermill": {
     "duration": 0.030069,
     "end_time": "2025-03-01T05:58:25.274579",
     "exception": false,
     "start_time": "2025-03-01T05:58:25.244510",
     "status": "completed"
    },
    "tags": []
   },
   "outputs": [
    {
     "data": {
      "text/html": [
       "<div>\n",
       "<style scoped>\n",
       "    .dataframe tbody tr th:only-of-type {\n",
       "        vertical-align: middle;\n",
       "    }\n",
       "\n",
       "    .dataframe tbody tr th {\n",
       "        vertical-align: top;\n",
       "    }\n",
       "\n",
       "    .dataframe thead th {\n",
       "        text-align: right;\n",
       "    }\n",
       "</style>\n",
       "<table border=\"1\" class=\"dataframe\">\n",
       "  <thead>\n",
       "    <tr style=\"text-align: right;\">\n",
       "      <th></th>\n",
       "      <th>counts</th>\n",
       "      <th>freqs</th>\n",
       "    </tr>\n",
       "    <tr>\n",
       "      <th>categories</th>\n",
       "      <th></th>\n",
       "      <th></th>\n",
       "    </tr>\n",
       "  </thead>\n",
       "  <tbody>\n",
       "    <tr>\n",
       "      <th>Class1</th>\n",
       "      <td>216</td>\n",
       "      <td>0.242424</td>\n",
       "    </tr>\n",
       "    <tr>\n",
       "      <th>Class2</th>\n",
       "      <td>184</td>\n",
       "      <td>0.206510</td>\n",
       "    </tr>\n",
       "    <tr>\n",
       "      <th>Class3</th>\n",
       "      <td>491</td>\n",
       "      <td>0.551066</td>\n",
       "    </tr>\n",
       "  </tbody>\n",
       "</table>\n",
       "</div>"
      ],
      "text/plain": [
       "            counts     freqs\n",
       "categories                  \n",
       "Class1         216  0.242424\n",
       "Class2         184  0.206510\n",
       "Class3         491  0.551066"
      ]
     },
     "execution_count": 30,
     "metadata": {},
     "output_type": "execute_result"
    }
   ],
   "source": [
    "# Transforming Pclass into an ordered categorical variable \n",
    "\n",
    "new_Pclass = pd.Categorical(titanic_train['Pclass'], \n",
    "                           ordered = True) \n",
    "\n",
    "new_Pclass = new_Pclass.rename_categories(['Class1', 'Class2', 'Class3']) \n",
    "\n",
    "new_Pclass.describe() "
   ]
  },
  {
   "cell_type": "code",
   "execution_count": 31,
   "id": "46d2879f",
   "metadata": {
    "execution": {
     "iopub.execute_input": "2025-03-01T05:58:25.305404Z",
     "iopub.status.busy": "2025-03-01T05:58:25.305019Z",
     "iopub.status.idle": "2025-03-01T05:58:25.315003Z",
     "shell.execute_reply": "2025-03-01T05:58:25.313807Z"
    },
    "papermill": {
     "duration": 0.028009,
     "end_time": "2025-03-01T05:58:25.317405",
     "exception": false,
     "start_time": "2025-03-01T05:58:25.289396",
     "status": "completed"
    },
    "tags": []
   },
   "outputs": [
    {
     "data": {
      "text/plain": [
       "count        891\n",
       "unique         3\n",
       "top       Class3\n",
       "freq         491\n",
       "Name: Pclass, dtype: object"
      ]
     },
     "execution_count": 31,
     "metadata": {},
     "output_type": "execute_result"
    }
   ],
   "source": [
    "titanic_train['Pclass'] = new_Pclass  \n",
    "titanic_train['Pclass'].describe()\n",
    "  "
   ]
  },
  {
   "cell_type": "code",
   "execution_count": 32,
   "id": "dc46b739",
   "metadata": {
    "execution": {
     "iopub.execute_input": "2025-03-01T05:58:25.347491Z",
     "iopub.status.busy": "2025-03-01T05:58:25.347136Z",
     "iopub.status.idle": "2025-03-01T05:58:25.351815Z",
     "shell.execute_reply": "2025-03-01T05:58:25.350745Z"
    },
    "papermill": {
     "duration": 0.021295,
     "end_time": "2025-03-01T05:58:25.353334",
     "exception": false,
     "start_time": "2025-03-01T05:58:25.332039",
     "status": "completed"
    },
    "tags": []
   },
   "outputs": [
    {
     "name": "stdout",
     "output_type": "stream",
     "text": [
      "False\n"
     ]
    }
   ],
   "source": [
    "print(new_Pclass[56] > new_Pclass[77])  "
   ]
  },
  {
   "cell_type": "markdown",
   "id": "1e0fdeba",
   "metadata": {
    "papermill": {
     "duration": 0.014361,
     "end_time": "2025-03-01T05:58:25.382121",
     "exception": false,
     "start_time": "2025-03-01T05:58:25.367760",
     "status": "completed"
    },
    "tags": []
   },
   "source": [
    "1. Now revisit the Cabin variable.\n",
    "  \n",
    "2. It appears that each Cabin is indicated by the capital letter at the start of each factor level."
   ]
  },
  {
   "cell_type": "code",
   "execution_count": 33,
   "id": "19ef0e1d",
   "metadata": {
    "execution": {
     "iopub.execute_input": "2025-03-01T05:58:25.413811Z",
     "iopub.status.busy": "2025-03-01T05:58:25.413358Z",
     "iopub.status.idle": "2025-03-01T05:58:25.421084Z",
     "shell.execute_reply": "2025-03-01T05:58:25.419973Z"
    },
    "papermill": {
     "duration": 0.025503,
     "end_time": "2025-03-01T05:58:25.422941",
     "exception": false,
     "start_time": "2025-03-01T05:58:25.397438",
     "status": "completed"
    },
    "tags": []
   },
   "outputs": [
    {
     "data": {
      "text/plain": [
       "array([nan, 'C85', 'C123', 'E46', 'G6', 'C103', 'D56', 'A6',\n",
       "       'C23 C25 C27', 'B78', 'D33', 'B30', 'C52', 'B28', 'C83', 'F33',\n",
       "       'F G73', 'E31', 'A5', 'D10 D12', 'D26', 'C110', 'B58 B60', 'E101',\n",
       "       'F E69', 'D47', 'B86', 'F2', 'C2', 'E33', 'B19', 'A7', 'C49', 'F4',\n",
       "       'A32', 'B4', 'B80', 'A31', 'D36', 'D15', 'C93', 'C78', 'D35',\n",
       "       'C87', 'B77', 'E67', 'B94', 'C125', 'C99', 'C118', 'D7', 'A19',\n",
       "       'B49', 'D', 'C22 C26', 'C106', 'C65', 'E36', 'C54',\n",
       "       'B57 B59 B63 B66', 'C7', 'E34', 'C32', 'B18', 'C124', 'C91', 'E40',\n",
       "       'T', 'C128', 'D37', 'B35', 'E50', 'C82', 'B96 B98', 'E10', 'E44',\n",
       "       'A34', 'C104', 'C111', 'C92', 'E38', 'D21', 'E12', 'E63', 'A14',\n",
       "       'B37', 'C30', 'D20', 'B79', 'E25', 'D46', 'B73', 'C95', 'B38',\n",
       "       'B39', 'B22', 'C86', 'C70', 'A16', 'C101', 'C68', 'A10', 'E68',\n",
       "       'B41', 'A20', 'D19', 'D50', 'D9', 'A23', 'B50', 'A26', 'D48',\n",
       "       'E58', 'C126', 'B71', 'B51 B53 B55', 'D49', 'B5', 'B20', 'F G63',\n",
       "       'C62 C64', 'E24', 'C90', 'C45', 'E8', 'B101', 'D45', 'C46', 'D30',\n",
       "       'E121', 'D11', 'E77', 'F38', 'B3', 'D6', 'B82 B84', 'D17', 'A36',\n",
       "       'B102', 'B69', 'E49', 'C47', 'D28', 'E17', 'A24', 'C50', 'B42',\n",
       "       'C148'], dtype=object)"
      ]
     },
     "execution_count": 33,
     "metadata": {},
     "output_type": "execute_result"
    }
   ],
   "source": [
    "# Check unique cabins  \n",
    "\n",
    "unique_cabin = titanic_train['Cabin'].unique() \n",
    "unique_cabin"
   ]
  },
  {
   "cell_type": "code",
   "execution_count": 34,
   "id": "5154b986",
   "metadata": {
    "execution": {
     "iopub.execute_input": "2025-03-01T05:58:25.456187Z",
     "iopub.status.busy": "2025-03-01T05:58:25.455833Z",
     "iopub.status.idle": "2025-03-01T05:58:25.461372Z",
     "shell.execute_reply": "2025-03-01T05:58:25.460503Z"
    },
    "papermill": {
     "duration": 0.024147,
     "end_time": "2025-03-01T05:58:25.462924",
     "exception": false,
     "start_time": "2025-03-01T05:58:25.438777",
     "status": "completed"
    },
    "tags": []
   },
   "outputs": [
    {
     "data": {
      "text/plain": [
       "numpy.ndarray"
      ]
     },
     "execution_count": 34,
     "metadata": {},
     "output_type": "execute_result"
    }
   ],
   "source": [
    "type(unique_cabin)\n",
    "\n",
    "# 'numpy.ndarray' object has no attribute 'describe' "
   ]
  },
  {
   "cell_type": "code",
   "execution_count": 35,
   "id": "23eed300",
   "metadata": {
    "execution": {
     "iopub.execute_input": "2025-03-01T05:58:25.493654Z",
     "iopub.status.busy": "2025-03-01T05:58:25.493288Z",
     "iopub.status.idle": "2025-03-01T05:58:25.500062Z",
     "shell.execute_reply": "2025-03-01T05:58:25.498760Z"
    },
    "papermill": {
     "duration": 0.024632,
     "end_time": "2025-03-01T05:58:25.502323",
     "exception": false,
     "start_time": "2025-03-01T05:58:25.477691",
     "status": "completed"
    },
    "tags": []
   },
   "outputs": [
    {
     "data": {
      "text/plain": [
       "pandas.core.series.Series"
      ]
     },
     "execution_count": 35,
     "metadata": {},
     "output_type": "execute_result"
    }
   ],
   "source": [
    "type(titanic_train['Cabin'])   "
   ]
  },
  {
   "cell_type": "markdown",
   "id": "ed396732",
   "metadata": {
    "papermill": {
     "duration": 0.014415,
     "end_time": "2025-03-01T05:58:25.531716",
     "exception": false,
     "start_time": "2025-03-01T05:58:25.517301",
     "status": "completed"
    },
    "tags": []
   },
   "source": [
    "1. If we grouped cabins just by this letter, \n",
    "\n",
    "2. We could reduce the number of levels while potentially extracting some useful information. "
   ]
  },
  {
   "cell_type": "code",
   "execution_count": 36,
   "id": "39ac8874",
   "metadata": {
    "execution": {
     "iopub.execute_input": "2025-03-01T05:58:25.564662Z",
     "iopub.status.busy": "2025-03-01T05:58:25.564257Z",
     "iopub.status.idle": "2025-03-01T05:58:25.579358Z",
     "shell.execute_reply": "2025-03-01T05:58:25.578007Z"
    },
    "papermill": {
     "duration": 0.033749,
     "end_time": "2025-03-01T05:58:25.581300",
     "exception": false,
     "start_time": "2025-03-01T05:58:25.547551",
     "status": "completed"
    },
    "tags": []
   },
   "outputs": [
    {
     "data": {
      "text/html": [
       "<div>\n",
       "<style scoped>\n",
       "    .dataframe tbody tr th:only-of-type {\n",
       "        vertical-align: middle;\n",
       "    }\n",
       "\n",
       "    .dataframe tbody tr th {\n",
       "        vertical-align: top;\n",
       "    }\n",
       "\n",
       "    .dataframe thead th {\n",
       "        text-align: right;\n",
       "    }\n",
       "</style>\n",
       "<table border=\"1\" class=\"dataframe\">\n",
       "  <thead>\n",
       "    <tr style=\"text-align: right;\">\n",
       "      <th></th>\n",
       "      <th>counts</th>\n",
       "      <th>freqs</th>\n",
       "    </tr>\n",
       "    <tr>\n",
       "      <th>categories</th>\n",
       "      <th></th>\n",
       "      <th></th>\n",
       "    </tr>\n",
       "  </thead>\n",
       "  <tbody>\n",
       "    <tr>\n",
       "      <th>A</th>\n",
       "      <td>15</td>\n",
       "      <td>0.016835</td>\n",
       "    </tr>\n",
       "    <tr>\n",
       "      <th>B</th>\n",
       "      <td>47</td>\n",
       "      <td>0.052750</td>\n",
       "    </tr>\n",
       "    <tr>\n",
       "      <th>C</th>\n",
       "      <td>59</td>\n",
       "      <td>0.066218</td>\n",
       "    </tr>\n",
       "    <tr>\n",
       "      <th>D</th>\n",
       "      <td>33</td>\n",
       "      <td>0.037037</td>\n",
       "    </tr>\n",
       "    <tr>\n",
       "      <th>E</th>\n",
       "      <td>32</td>\n",
       "      <td>0.035915</td>\n",
       "    </tr>\n",
       "    <tr>\n",
       "      <th>F</th>\n",
       "      <td>13</td>\n",
       "      <td>0.014590</td>\n",
       "    </tr>\n",
       "    <tr>\n",
       "      <th>G</th>\n",
       "      <td>4</td>\n",
       "      <td>0.004489</td>\n",
       "    </tr>\n",
       "    <tr>\n",
       "      <th>T</th>\n",
       "      <td>1</td>\n",
       "      <td>0.001122</td>\n",
       "    </tr>\n",
       "    <tr>\n",
       "      <th>n</th>\n",
       "      <td>687</td>\n",
       "      <td>0.771044</td>\n",
       "    </tr>\n",
       "  </tbody>\n",
       "</table>\n",
       "</div>"
      ],
      "text/plain": [
       "            counts     freqs\n",
       "categories                  \n",
       "A               15  0.016835\n",
       "B               47  0.052750\n",
       "C               59  0.066218\n",
       "D               33  0.037037\n",
       "E               32  0.035915\n",
       "F               13  0.014590\n",
       "G                4  0.004489\n",
       "T                1  0.001122\n",
       "n              687  0.771044"
      ]
     },
     "execution_count": 36,
     "metadata": {},
     "output_type": "execute_result"
    }
   ],
   "source": [
    "# 1. Convert datatype to str:  \n",
    "\n",
    "char_cabin = titanic_train['Cabin'].astype(str) \n",
    "\n",
    "# 2. Take the first letter: \n",
    "\n",
    "new_cabin = np.array([Cabin[0] for Cabin in char_cabin]) \n",
    "new_cabin = pd.Categorical(new_cabin) \n",
    "\n",
    "new_cabin.describe() "
   ]
  },
  {
   "cell_type": "markdown",
   "id": "10493a02",
   "metadata": {
    "papermill": {
     "duration": 0.023102,
     "end_time": "2025-03-01T05:58:25.623972",
     "exception": false,
     "start_time": "2025-03-01T05:58:25.600870",
     "status": "completed"
    },
    "tags": []
   },
   "source": [
    "1. **688** of the records have Cabin are \"n\" which is shortened from **\"nan\"**. In other words, **more than 2/3** of the passengers do not have a cabin listed at all.\n",
    "   \n",
    "2.  Discovering and deciding how to **handle these peculiarities** is an important part of working with data; there **often isn't a single correct answer**. \n",
    "\n",
    "3.  Since there are **so many missing values**, the Cabin variable might be devoid of useful information for prediction.\n",
    "\n",
    "4.  On the other hand, a missing cabin variable could be an indication that a passenger died: after all, how would we know what cabin a passenger stayed in if they weren't around to tell the tale?\n",
    "\n"
   ]
  },
  {
   "cell_type": "markdown",
   "id": "26fff33d",
   "metadata": {
    "papermill": {
     "duration": 0.019447,
     "end_time": "2025-03-01T05:58:25.667341",
     "exception": false,
     "start_time": "2025-03-01T05:58:25.647894",
     "status": "completed"
    },
    "tags": []
   },
   "source": [
    "# Are there NA Values, Outliers or Other Strange Values?"
   ]
  },
  {
   "cell_type": "code",
   "execution_count": 37,
   "id": "fc9c7088",
   "metadata": {
    "execution": {
     "iopub.execute_input": "2025-03-01T05:58:25.701543Z",
     "iopub.status.busy": "2025-03-01T05:58:25.701184Z",
     "iopub.status.idle": "2025-03-01T05:58:25.705469Z",
     "shell.execute_reply": "2025-03-01T05:58:25.704322Z"
    },
    "papermill": {
     "duration": 0.022594,
     "end_time": "2025-03-01T05:58:25.707409",
     "exception": false,
     "start_time": "2025-03-01T05:58:25.684815",
     "status": "completed"
    },
    "tags": []
   },
   "outputs": [],
   "source": [
    "# In Python, you can detect missing values with:\n",
    "\n",
    "# pd.isnull() "
   ]
  },
  {
   "cell_type": "code",
   "execution_count": 38,
   "id": "577876ba",
   "metadata": {
    "execution": {
     "iopub.execute_input": "2025-03-01T05:58:25.758355Z",
     "iopub.status.busy": "2025-03-01T05:58:25.757789Z",
     "iopub.status.idle": "2025-03-01T05:58:25.769247Z",
     "shell.execute_reply": "2025-03-01T05:58:25.768019Z"
    },
    "papermill": {
     "duration": 0.041251,
     "end_time": "2025-03-01T05:58:25.771831",
     "exception": false,
     "start_time": "2025-03-01T05:58:25.730580",
     "status": "completed"
    },
    "tags": []
   },
   "outputs": [
    {
     "data": {
      "text/plain": [
       "0    False\n",
       "1     True\n",
       "2     True\n",
       "3    False\n",
       "4    False\n",
       "5     True\n",
       "dtype: bool"
      ]
     },
     "execution_count": 38,
     "metadata": {},
     "output_type": "execute_result"
    }
   ],
   "source": [
    "# For instance: \n",
    "\n",
    "dummy_vector = pd.Series([1, None, None, 4, 7, None]) \n",
    "pd.isnull(dummy_vector) "
   ]
  },
  {
   "cell_type": "markdown",
   "id": "79d5682e",
   "metadata": {
    "papermill": {
     "duration": 0.02264,
     "end_time": "2025-03-01T05:58:25.814131",
     "exception": false,
     "start_time": "2025-03-01T05:58:25.791491",
     "status": "completed"
    },
    "tags": []
   },
   "source": [
    "1. Missing values in categorical data are not particularly troubling because you can simply treat NA as an additional category. \n",
    "\n",
    "2. Missing values in numeric variables are more troublesome, since you can't just treat a missing value as number.\n",
    "\n",
    "3. Titanic dataset has some NA's in the Age variable: "
   ]
  },
  {
   "cell_type": "code",
   "execution_count": 39,
   "id": "619768f5",
   "metadata": {
    "execution": {
     "iopub.execute_input": "2025-03-01T05:58:25.845677Z",
     "iopub.status.busy": "2025-03-01T05:58:25.845289Z",
     "iopub.status.idle": "2025-03-01T05:58:25.855042Z",
     "shell.execute_reply": "2025-03-01T05:58:25.853919Z"
    },
    "papermill": {
     "duration": 0.027462,
     "end_time": "2025-03-01T05:58:25.856778",
     "exception": false,
     "start_time": "2025-03-01T05:58:25.829316",
     "status": "completed"
    },
    "tags": []
   },
   "outputs": [
    {
     "data": {
      "text/plain": [
       "count    714.000000\n",
       "mean      29.699118\n",
       "std       14.526497\n",
       "min        0.420000\n",
       "25%       20.125000\n",
       "50%       28.000000\n",
       "75%       38.000000\n",
       "max       80.000000\n",
       "Name: Age, dtype: float64"
      ]
     },
     "execution_count": 39,
     "metadata": {},
     "output_type": "execute_result"
    }
   ],
   "source": [
    "titanic_train['Age'].describe()"
   ]
  },
  {
   "cell_type": "markdown",
   "id": "751020fa",
   "metadata": {
    "papermill": {
     "duration": 0.014709,
     "end_time": "2025-03-01T05:58:25.886787",
     "exception": false,
     "start_time": "2025-03-01T05:58:25.872078",
     "status": "completed"
    },
    "tags": []
   },
   "source": [
    "1. the count of age(714) is less than the total row count of data set(889).\n",
    "\n",
    "2. Using **np.where()** to **get the row indexes** of the missing values. "
   ]
  },
  {
   "cell_type": "code",
   "execution_count": 40,
   "id": "1cb7f554",
   "metadata": {
    "execution": {
     "iopub.execute_input": "2025-03-01T05:58:25.921327Z",
     "iopub.status.busy": "2025-03-01T05:58:25.920712Z",
     "iopub.status.idle": "2025-03-01T05:58:25.931346Z",
     "shell.execute_reply": "2025-03-01T05:58:25.929613Z"
    },
    "papermill": {
     "duration": 0.031868,
     "end_time": "2025-03-01T05:58:25.934217",
     "exception": false,
     "start_time": "2025-03-01T05:58:25.902349",
     "status": "completed"
    },
    "tags": []
   },
   "outputs": [
    {
     "data": {
      "text/plain": [
       "(array([  5,  17,  19,  26,  28,  29,  31,  32,  36,  42,  45,  46,  47,\n",
       "         48,  55,  64,  65,  76,  77,  82,  87,  95, 101, 107, 109, 121,\n",
       "        126, 128, 140, 154, 158, 159, 166, 168, 176, 180, 181, 185, 186,\n",
       "        196, 198, 201, 214, 223, 229, 235, 240, 241, 250, 256, 260, 264,\n",
       "        270, 274, 277, 284, 295, 298, 300, 301, 303, 304, 306, 324, 330,\n",
       "        334, 335, 347, 351, 354, 358, 359, 364, 367, 368, 375, 384, 388,\n",
       "        409, 410, 411, 413, 415, 420, 425, 428, 431, 444, 451, 454, 457,\n",
       "        459, 464, 466, 468, 470, 475, 481, 485, 490, 495, 497, 502, 507,\n",
       "        511, 517, 522, 524, 527, 531, 533, 538, 547, 552, 557, 560, 563,\n",
       "        564, 568, 573, 578, 584, 589, 593, 596, 598, 601, 602, 611, 612,\n",
       "        613, 629, 633, 639, 643, 648, 650, 653, 656, 667, 669, 674, 680,\n",
       "        692, 697, 709, 711, 718, 727, 732, 738, 739, 740, 760, 766, 768,\n",
       "        773, 776, 778, 783, 790, 792, 793, 815, 825, 826, 828, 832, 837,\n",
       "        839, 846, 849, 859, 863, 868, 878, 888]),)"
      ]
     },
     "execution_count": 40,
     "metadata": {},
     "output_type": "execute_result"
    }
   ],
   "source": [
    "missing = np.where(titanic_train['Age'].isnull() == True)   # index wrapped with np.where()\n",
    "missing "
   ]
  },
  {
   "cell_type": "code",
   "execution_count": 41,
   "id": "04da19a9",
   "metadata": {
    "execution": {
     "iopub.execute_input": "2025-03-01T05:58:25.973138Z",
     "iopub.status.busy": "2025-03-01T05:58:25.972737Z",
     "iopub.status.idle": "2025-03-01T05:58:25.978704Z",
     "shell.execute_reply": "2025-03-01T05:58:25.977679Z"
    },
    "papermill": {
     "duration": 0.027395,
     "end_time": "2025-03-01T05:58:25.980414",
     "exception": false,
     "start_time": "2025-03-01T05:58:25.953019",
     "status": "completed"
    },
    "tags": []
   },
   "outputs": [
    {
     "data": {
      "text/plain": [
       "177"
      ]
     },
     "execution_count": 41,
     "metadata": {},
     "output_type": "execute_result"
    }
   ],
   "source": [
    "# missing is a tuple that contains a single element, \n",
    "# which is the array of indices where Age is NaN. \n",
    "# access missing[0] --> retrieve the array of indices.  \n",
    " \n",
    "len(missing[0])  "
   ]
  },
  {
   "cell_type": "markdown",
   "id": "93f0f456",
   "metadata": {
    "papermill": {
     "duration": 0.015251,
     "end_time": "2025-03-01T05:58:26.011228",
     "exception": false,
     "start_time": "2025-03-01T05:58:25.995977",
     "status": "completed"
    },
    "tags": []
   },
   "source": [
    "**With 177 missing values it's probably not a good idea to throw all those records away. Here are a few ways we could deal with them:**\n",
    "\n",
    "1. Replace the **null values with 0.**\n",
    "2. Replace the null values with some **central value** (e.g.,mean or median)\n",
    "3. **Impute** some other value\n",
    "4. **Split the data set into two parts**: one set where records have an Age value and another set where age is null.  \n",
    "\n",
    "\n",
    "\n",
    "* Setting missing values in numeric data to zero makes sense in some cases, but it doesn't make any sense here because a person's age can't be zero.\n",
    "* Setting all ages to some central number like the median is a simple fix but there's no telling whether such a central number is a reasonable estimate of age without looking at the distribution of ages.\n",
    "* For all we know each age is equally common.\n",
    "* So, quickly get a sense of the distribution of ages by creating a histogram of the age variable with df.hist():\n",
    "\n"
   ]
  },
  {
   "cell_type": "code",
   "execution_count": 42,
   "id": "40d01503",
   "metadata": {
    "execution": {
     "iopub.execute_input": "2025-03-01T05:58:26.043775Z",
     "iopub.status.busy": "2025-03-01T05:58:26.043365Z",
     "iopub.status.idle": "2025-03-01T05:58:26.478232Z",
     "shell.execute_reply": "2025-03-01T05:58:26.476992Z"
    },
    "papermill": {
     "duration": 0.45331,
     "end_time": "2025-03-01T05:58:26.479896",
     "exception": false,
     "start_time": "2025-03-01T05:58:26.026586",
     "status": "completed"
    },
    "tags": []
   },
   "outputs": [
    {
     "data": {
      "text/plain": [
       "array([[<Axes: title={'center': 'Age'}>]], dtype=object)"
      ]
     },
     "execution_count": 42,
     "metadata": {},
     "output_type": "execute_result"
    },
    {
     "data": {
      "image/png": "[encoded data removed]",
      "text/plain": [
       "<Figure size 700x400 with 1 Axes>"
      ]
     },
     "metadata": {},
     "output_type": "display_data"
    }
   ],
   "source": [
    "# Three elements in the plot:\n",
    "# 1. Column to plot \n",
    "# 2. Size of plot \n",
    "# 3. Number of bins in a histogram \n",
    "\n",
    "titanic_train.hist(column = \"Age\", \n",
    "                   figsize = (7, 4), \n",
    "                    bins = 20 \n",
    "                    )  "
   ]
  },
  {
   "cell_type": "markdown",
   "id": "f7cb8f68",
   "metadata": {
    "papermill": {
     "duration": 0.016008,
     "end_time": "2025-03-01T05:58:26.512445",
     "exception": false,
     "start_time": "2025-03-01T05:58:26.496437",
     "status": "completed"
    },
    "tags": []
   },
   "source": [
    "1. From the histogram, we see that ages between 20 and 30 are the most common, so filling in missing values with a central number like the mean or median wouldn't be entirely unreasonable.\n",
    "\n",
    "2. Let's fill in the missing values with the median value of 28:\n",
    "\n",
    "\n"
   ]
  },
  {
   "cell_type": "code",
   "execution_count": 43,
   "id": "f1111c5a",
   "metadata": {
    "execution": {
     "iopub.execute_input": "2025-03-01T05:58:26.545525Z",
     "iopub.status.busy": "2025-03-01T05:58:26.545180Z",
     "iopub.status.idle": "2025-03-01T05:58:26.556104Z",
     "shell.execute_reply": "2025-03-01T05:58:26.554952Z"
    },
    "papermill": {
     "duration": 0.029881,
     "end_time": "2025-03-01T05:58:26.558102",
     "exception": false,
     "start_time": "2025-03-01T05:58:26.528221",
     "status": "completed"
    },
    "tags": []
   },
   "outputs": [
    {
     "data": {
      "text/plain": [
       "count    891.000000\n",
       "mean      29.361582\n",
       "std       13.019697\n",
       "min        0.420000\n",
       "25%       22.000000\n",
       "50%       28.000000\n",
       "75%       35.000000\n",
       "max       80.000000\n",
       "Name: Age, dtype: float64"
      ]
     },
     "execution_count": 43,
     "metadata": {},
     "output_type": "execute_result"
    }
   ],
   "source": [
    "# 1. logical check \n",
    "# 2. value if check is True, \n",
    "# 3. value if the check is False. \n",
    "\n",
    "\n",
    "new_age_var = np.where (titanic_train['Age'].isnull(),           \n",
    "                        28,                                     \n",
    "                        titanic_train['Age'] \n",
    "                       )\n",
    "\n",
    "titanic_train[\"Age\"] = new_age_var \n",
    "\n",
    "titanic_train['Age'].describe()   \n",
    "\n"
   ]
  },
  {
   "cell_type": "code",
   "execution_count": 44,
   "id": "8b039fe9",
   "metadata": {
    "execution": {
     "iopub.execute_input": "2025-03-01T05:58:26.592531Z",
     "iopub.status.busy": "2025-03-01T05:58:26.592179Z",
     "iopub.status.idle": "2025-03-01T05:58:26.856280Z",
     "shell.execute_reply": "2025-03-01T05:58:26.855117Z"
    },
    "papermill": {
     "duration": 0.283478,
     "end_time": "2025-03-01T05:58:26.858136",
     "exception": false,
     "start_time": "2025-03-01T05:58:26.574658",
     "status": "completed"
    },
    "tags": []
   },
   "outputs": [
    {
     "data": {
      "text/plain": [
       "array([[<Axes: title={'center': 'Age'}>]], dtype=object)"
      ]
     },
     "execution_count": 44,
     "metadata": {},
     "output_type": "execute_result"
    },
    {
     "data": {
      "image/png": "[encoded data removed]",
      "text/plain": [
       "<Figure size 700x400 with 1 Axes>"
      ]
     },
     "metadata": {},
     "output_type": "display_data"
    }
   ],
   "source": [
    "titanic_train.hist(column = 'Age', \n",
    "                   figsize = (7, 4),\n",
    "                   bins = 20 \n",
    "    \n",
    ")"
   ]
  },
  {
   "cell_type": "markdown",
   "id": "cea122d3",
   "metadata": {
    "papermill": {
     "duration": 0.01596,
     "end_time": "2025-03-01T05:58:26.890987",
     "exception": false,
     "start_time": "2025-03-01T05:58:26.875027",
     "status": "completed"
    },
    "tags": []
   },
   "source": [
    "1. Outliers are extreme numerical values: values that lie far away from the typical values a variable takes on.\n",
    "   \n",
    "2. Creating plots is one of the quickest ways to detect outliers.\n",
    "\n",
    "   \n",
    "3. For instance, the histogram above shows that 1 or 2 passengers were near age 80.    "
   ]
  },
  {
   "cell_type": "markdown",
   "id": "10fae7e5",
   "metadata": {
    "papermill": {
     "duration": 0.016606,
     "end_time": "2025-03-01T05:58:26.924484",
     "exception": false,
     "start_time": "2025-03-01T05:58:26.907878",
     "status": "completed"
    },
    "tags": []
   },
   "source": [
    "1. investigate the \"Fare\" variable.\n",
    "   \n",
    "2. use a boxplot to:  \n",
    "\n",
    "3. show the spread of the data\n",
    "\n",
    "4. help identify outliers.  "
   ]
  },
  {
   "cell_type": "code",
   "execution_count": 45,
   "id": "40cdee74",
   "metadata": {
    "execution": {
     "iopub.execute_input": "2025-03-01T05:58:26.958436Z",
     "iopub.status.busy": "2025-03-01T05:58:26.958101Z",
     "iopub.status.idle": "2025-03-01T05:58:27.087966Z",
     "shell.execute_reply": "2025-03-01T05:58:27.086713Z"
    },
    "papermill": {
     "duration": 0.149048,
     "end_time": "2025-03-01T05:58:27.089884",
     "exception": false,
     "start_time": "2025-03-01T05:58:26.940836",
     "status": "completed"
    },
    "tags": []
   },
   "outputs": [
    {
     "data": {
      "text/plain": [
       "<Axes: >"
      ]
     },
     "execution_count": 45,
     "metadata": {},
     "output_type": "execute_result"
    },
    {
     "data": {
      "image/png": "[encoded data removed]",
      "text/plain": [
       "<Figure size 400x400 with 1 Axes>"
      ]
     },
     "metadata": {},
     "output_type": "display_data"
    }
   ],
   "source": [
    "titanic_train['Fare'].plot(kind = 'box', \n",
    "                           figsize = (4, 4) \n",
    "                          ) "
   ]
  },
  {
   "cell_type": "code",
   "execution_count": 46,
   "id": "b21bdf8e",
   "metadata": {
    "execution": {
     "iopub.execute_input": "2025-03-01T05:58:27.125473Z",
     "iopub.status.busy": "2025-03-01T05:58:27.125135Z",
     "iopub.status.idle": "2025-03-01T05:58:27.141550Z",
     "shell.execute_reply": "2025-03-01T05:58:27.140440Z"
    },
    "papermill": {
     "duration": 0.036407,
     "end_time": "2025-03-01T05:58:27.143295",
     "exception": false,
     "start_time": "2025-03-01T05:58:27.106888",
     "status": "completed"
    },
    "tags": []
   },
   "outputs": [
    {
     "data": {
      "text/html": [
       "<div>\n",
       "<style scoped>\n",
       "    .dataframe tbody tr th:only-of-type {\n",
       "        vertical-align: middle;\n",
       "    }\n",
       "\n",
       "    .dataframe tbody tr th {\n",
       "        vertical-align: top;\n",
       "    }\n",
       "\n",
       "    .dataframe thead th {\n",
       "        text-align: right;\n",
       "    }\n",
       "</style>\n",
       "<table border=\"1\" class=\"dataframe\">\n",
       "  <thead>\n",
       "    <tr style=\"text-align: right;\">\n",
       "      <th></th>\n",
       "      <th>Survived</th>\n",
       "      <th>Pclass</th>\n",
       "      <th>Name</th>\n",
       "      <th>Sex</th>\n",
       "      <th>Age</th>\n",
       "      <th>SibSp</th>\n",
       "      <th>Parch</th>\n",
       "      <th>Fare</th>\n",
       "      <th>Cabin</th>\n",
       "      <th>Embarked</th>\n",
       "    </tr>\n",
       "  </thead>\n",
       "  <tbody>\n",
       "    <tr>\n",
       "      <th>258</th>\n",
       "      <td>Survived</td>\n",
       "      <td>Class1</td>\n",
       "      <td>Ward, Miss. Anna</td>\n",
       "      <td>female</td>\n",
       "      <td>35.0</td>\n",
       "      <td>0</td>\n",
       "      <td>0</td>\n",
       "      <td>512.3292</td>\n",
       "      <td>NaN</td>\n",
       "      <td>C</td>\n",
       "    </tr>\n",
       "    <tr>\n",
       "      <th>679</th>\n",
       "      <td>Survived</td>\n",
       "      <td>Class1</td>\n",
       "      <td>Cardeza, Mr. Thomas Drake Martinez</td>\n",
       "      <td>male</td>\n",
       "      <td>36.0</td>\n",
       "      <td>0</td>\n",
       "      <td>1</td>\n",
       "      <td>512.3292</td>\n",
       "      <td>B51 B53 B55</td>\n",
       "      <td>C</td>\n",
       "    </tr>\n",
       "    <tr>\n",
       "      <th>737</th>\n",
       "      <td>Survived</td>\n",
       "      <td>Class1</td>\n",
       "      <td>Lesurer, Mr. Gustave J</td>\n",
       "      <td>male</td>\n",
       "      <td>35.0</td>\n",
       "      <td>0</td>\n",
       "      <td>0</td>\n",
       "      <td>512.3292</td>\n",
       "      <td>B101</td>\n",
       "      <td>C</td>\n",
       "    </tr>\n",
       "  </tbody>\n",
       "</table>\n",
       "</div>"
      ],
      "text/plain": [
       "     Survived  Pclass                                Name     Sex   Age  \\\n",
       "258  Survived  Class1                    Ward, Miss. Anna  female  35.0   \n",
       "679  Survived  Class1  Cardeza, Mr. Thomas Drake Martinez    male  36.0   \n",
       "737  Survived  Class1              Lesurer, Mr. Gustave J    male  35.0   \n",
       "\n",
       "     SibSp  Parch      Fare        Cabin Embarked  \n",
       "258      0      0  512.3292          NaN        C  \n",
       "679      0      1  512.3292  B51 B53 B55        C  \n",
       "737      0      0  512.3292         B101        C  "
      ]
     },
     "execution_count": 46,
     "metadata": {},
     "output_type": "execute_result"
    }
   ],
   "source": [
    "# Find out who paid the highest fare: \n",
    "\n",
    "index = np.where(titanic_train['Fare'] == max(titanic_train['Fare'])) \n",
    "\n",
    "titanic_train.loc[index] "
   ]
  },
  {
   "cell_type": "markdown",
   "id": "8b2a1caf",
   "metadata": {
    "papermill": {
     "duration": 0.016802,
     "end_time": "2025-03-01T05:58:27.177189",
     "exception": false,
     "start_time": "2025-03-01T05:58:27.160387",
     "status": "completed"
    },
    "tags": []
   },
   "source": [
    "1. In the graph there appears to be on passenger who paid more than all the others, but the output above shows that there were actually three passengers who all paid the same high fare.\n",
    "\n",
    "2. Similar to NA values, there's no single cure for outliers. You can keep them, delete them or transform them in some way to try to reduce their impact. Even if you decide to keep outliers unchanged it is still worth identifying them since they can have disproportionately large influence on your results. Let's keep the three high rollers unchanged.\n",
    "\n",
    "3. Data sets can have other strange values beyond missing values and outliers that you may need to address. Sometimes data is mislabeled or simply erroneous; **bad data can corrupt any sort of analysis so it is important to address these sorts of issues before doing too much work.**"
   ]
  },
  {
   "cell_type": "markdown",
   "id": "221ee111",
   "metadata": {
    "papermill": {
     "duration": 0.017615,
     "end_time": "2025-03-01T05:58:27.211585",
     "exception": false,
     "start_time": "2025-03-01T05:58:27.193970",
     "status": "completed"
    },
    "tags": []
   },
   "source": [
    "# Should I Create New Variables?¶> "
   ]
  },
  {
   "cell_type": "markdown",
   "id": "8a419949",
   "metadata": {
    "papermill": {
     "duration": 0.016522,
     "end_time": "2025-03-01T05:58:27.245103",
     "exception": false,
     "start_time": "2025-03-01T05:58:27.228581",
     "status": "completed"
    },
    "tags": []
   },
   "source": [
    "1. The variables present when you load a data set aren't always the most useful variables for analysis.\n",
    "   \n",
    "2. Creating new variables that are derivations or combinations of existing ones is a common step to take before jumping into an analysis or modeling task.\n",
    "\n",
    "3. Creating a new variable can be as simple as taking one variable and adding, multiplying, or dividing by another. \n",
    "\n",
    "4. Let's create a new variable, Family, that combines SibSp and Parch to indicate the total number of family members (siblings, spouses, parents, and children) a passenger has on board. "
   ]
  },
  {
   "cell_type": "code",
   "execution_count": 47,
   "id": "747a823f",
   "metadata": {
    "execution": {
     "iopub.execute_input": "2025-03-01T05:58:27.280933Z",
     "iopub.status.busy": "2025-03-01T05:58:27.280437Z",
     "iopub.status.idle": "2025-03-01T05:58:27.286574Z",
     "shell.execute_reply": "2025-03-01T05:58:27.285466Z"
    },
    "papermill": {
     "duration": 0.026049,
     "end_time": "2025-03-01T05:58:27.288429",
     "exception": false,
     "start_time": "2025-03-01T05:58:27.262380",
     "status": "completed"
    },
    "tags": []
   },
   "outputs": [],
   "source": [
    "# Create a new variable, Family \n",
    "# combines SibSp and Parch to indicate the total number of family members \n",
    "# (siblings, spouses, parents, and children) a passenger has on board.  \n",
    "\n",
    "titanic_train[\"Family\"] = titanic_train[\"SibSp\"] + titanic_train[\"Parch\"]  "
   ]
  },
  {
   "cell_type": "code",
   "execution_count": 48,
   "id": "e796ba47",
   "metadata": {
    "execution": {
     "iopub.execute_input": "2025-03-01T05:58:27.325965Z",
     "iopub.status.busy": "2025-03-01T05:58:27.325496Z",
     "iopub.status.idle": "2025-03-01T05:58:27.341809Z",
     "shell.execute_reply": "2025-03-01T05:58:27.340794Z"
    },
    "papermill": {
     "duration": 0.037241,
     "end_time": "2025-03-01T05:58:27.343563",
     "exception": false,
     "start_time": "2025-03-01T05:58:27.306322",
     "status": "completed"
    },
    "tags": []
   },
   "outputs": [
    {
     "data": {
      "text/html": [
       "<div>\n",
       "<style scoped>\n",
       "    .dataframe tbody tr th:only-of-type {\n",
       "        vertical-align: middle;\n",
       "    }\n",
       "\n",
       "    .dataframe tbody tr th {\n",
       "        vertical-align: top;\n",
       "    }\n",
       "\n",
       "    .dataframe thead th {\n",
       "        text-align: right;\n",
       "    }\n",
       "</style>\n",
       "<table border=\"1\" class=\"dataframe\">\n",
       "  <thead>\n",
       "    <tr style=\"text-align: right;\">\n",
       "      <th></th>\n",
       "      <th>Survived</th>\n",
       "      <th>Pclass</th>\n",
       "      <th>Name</th>\n",
       "      <th>Sex</th>\n",
       "      <th>Age</th>\n",
       "      <th>SibSp</th>\n",
       "      <th>Parch</th>\n",
       "      <th>Fare</th>\n",
       "      <th>Cabin</th>\n",
       "      <th>Embarked</th>\n",
       "      <th>Family</th>\n",
       "    </tr>\n",
       "  </thead>\n",
       "  <tbody>\n",
       "    <tr>\n",
       "      <th>159</th>\n",
       "      <td>Died</td>\n",
       "      <td>Class3</td>\n",
       "      <td>Sage, Master. Thomas Henry</td>\n",
       "      <td>male</td>\n",
       "      <td>28.0</td>\n",
       "      <td>8</td>\n",
       "      <td>2</td>\n",
       "      <td>69.55</td>\n",
       "      <td>NaN</td>\n",
       "      <td>S</td>\n",
       "      <td>10</td>\n",
       "    </tr>\n",
       "    <tr>\n",
       "      <th>180</th>\n",
       "      <td>Died</td>\n",
       "      <td>Class3</td>\n",
       "      <td>Sage, Miss. Constance Gladys</td>\n",
       "      <td>female</td>\n",
       "      <td>28.0</td>\n",
       "      <td>8</td>\n",
       "      <td>2</td>\n",
       "      <td>69.55</td>\n",
       "      <td>NaN</td>\n",
       "      <td>S</td>\n",
       "      <td>10</td>\n",
       "    </tr>\n",
       "    <tr>\n",
       "      <th>201</th>\n",
       "      <td>Died</td>\n",
       "      <td>Class3</td>\n",
       "      <td>Sage, Mr. Frederick</td>\n",
       "      <td>male</td>\n",
       "      <td>28.0</td>\n",
       "      <td>8</td>\n",
       "      <td>2</td>\n",
       "      <td>69.55</td>\n",
       "      <td>NaN</td>\n",
       "      <td>S</td>\n",
       "      <td>10</td>\n",
       "    </tr>\n",
       "    <tr>\n",
       "      <th>324</th>\n",
       "      <td>Died</td>\n",
       "      <td>Class3</td>\n",
       "      <td>Sage, Mr. George John Jr</td>\n",
       "      <td>male</td>\n",
       "      <td>28.0</td>\n",
       "      <td>8</td>\n",
       "      <td>2</td>\n",
       "      <td>69.55</td>\n",
       "      <td>NaN</td>\n",
       "      <td>S</td>\n",
       "      <td>10</td>\n",
       "    </tr>\n",
       "    <tr>\n",
       "      <th>792</th>\n",
       "      <td>Died</td>\n",
       "      <td>Class3</td>\n",
       "      <td>Sage, Miss. Stella Anna</td>\n",
       "      <td>female</td>\n",
       "      <td>28.0</td>\n",
       "      <td>8</td>\n",
       "      <td>2</td>\n",
       "      <td>69.55</td>\n",
       "      <td>NaN</td>\n",
       "      <td>S</td>\n",
       "      <td>10</td>\n",
       "    </tr>\n",
       "    <tr>\n",
       "      <th>846</th>\n",
       "      <td>Died</td>\n",
       "      <td>Class3</td>\n",
       "      <td>Sage, Mr. Douglas Bullen</td>\n",
       "      <td>male</td>\n",
       "      <td>28.0</td>\n",
       "      <td>8</td>\n",
       "      <td>2</td>\n",
       "      <td>69.55</td>\n",
       "      <td>NaN</td>\n",
       "      <td>S</td>\n",
       "      <td>10</td>\n",
       "    </tr>\n",
       "    <tr>\n",
       "      <th>863</th>\n",
       "      <td>Died</td>\n",
       "      <td>Class3</td>\n",
       "      <td>Sage, Miss. Dorothy Edith \"Dolly\"</td>\n",
       "      <td>female</td>\n",
       "      <td>28.0</td>\n",
       "      <td>8</td>\n",
       "      <td>2</td>\n",
       "      <td>69.55</td>\n",
       "      <td>NaN</td>\n",
       "      <td>S</td>\n",
       "      <td>10</td>\n",
       "    </tr>\n",
       "  </tbody>\n",
       "</table>\n",
       "</div>"
      ],
      "text/plain": [
       "    Survived  Pclass                               Name     Sex   Age  SibSp  \\\n",
       "159     Died  Class3         Sage, Master. Thomas Henry    male  28.0      8   \n",
       "180     Died  Class3       Sage, Miss. Constance Gladys  female  28.0      8   \n",
       "201     Died  Class3                Sage, Mr. Frederick    male  28.0      8   \n",
       "324     Died  Class3           Sage, Mr. George John Jr    male  28.0      8   \n",
       "792     Died  Class3            Sage, Miss. Stella Anna  female  28.0      8   \n",
       "846     Died  Class3           Sage, Mr. Douglas Bullen    male  28.0      8   \n",
       "863     Died  Class3  Sage, Miss. Dorothy Edith \"Dolly\"  female  28.0      8   \n",
       "\n",
       "     Parch   Fare Cabin Embarked  Family  \n",
       "159      2  69.55   NaN        S      10  \n",
       "180      2  69.55   NaN        S      10  \n",
       "201      2  69.55   NaN        S      10  \n",
       "324      2  69.55   NaN        S      10  \n",
       "792      2  69.55   NaN        S      10  \n",
       "846      2  69.55   NaN        S      10  \n",
       "863      2  69.55   NaN        S      10  "
      ]
     },
     "execution_count": 48,
     "metadata": {},
     "output_type": "execute_result"
    }
   ],
   "source": [
    "# Find out who had the most family members on board: \n",
    "\n",
    "most_family = np.where(titanic_train[\"Family\"] == max(titanic_train[\"Family\"])) \n",
    "\n",
    "titanic_train.loc[most_family] "
   ]
  },
  {
   "cell_type": "markdown",
   "id": "5c28e06e",
   "metadata": {
    "papermill": {
     "duration": 0.016609,
     "end_time": "2025-03-01T05:58:27.377533",
     "exception": false,
     "start_time": "2025-03-01T05:58:27.360924",
     "status": "completed"
    },
    "tags": []
   },
   "source": [
    "Conclusion: \n",
    "\n",
    "1. There were 7 people on board with 8 siblings/spouses and 2 parents/children--they were probably all siblings of one another.\n",
    "   \n",
    "2. Tragically, all 7 of them passed away. "
   ]
  }
 ],
 "metadata": {
  "kaggle": {
   "accelerator": "none",
   "dataSources": [
    {
     "datasetId": 6700123,
     "sourceId": 10795874,
     "sourceType": "datasetVersion"
    }
   ],
   "dockerImageVersionId": 30886,
   "isGpuEnabled": false,
   "isInternetEnabled": false,
   "language": "python",
   "sourceType": "notebook"
  },
  "kernelspec": {
   "display_name": "Python 3",
   "language": "python",
   "name": "python3"
  },
  "language_info": {
   "codemirror_mode": {
    "name": "ipython",
    "version": 3
   },
   "file_extension": ".py",
   "mimetype": "text/x-python",
   "name": "python",
   "nbconvert_exporter": "python",
   "pygments_lexer": "ipython3",
   "version": "3.10.12"
  },
  "papermill": {
   "default_parameters": {},
   "duration": 8.774595,
   "end_time": "2025-03-01T05:58:28.016367",
   "environment_variables": {},
   "exception": null,
   "input_path": "__notebook__.ipynb",
   "output_path": "__notebook__.ipynb",
   "parameters": {},
   "start_time": "2025-03-01T05:58:19.241772",
   "version": "2.6.0"
  }
 },
 "nbformat": 4,
 "nbformat_minor": 5
}
