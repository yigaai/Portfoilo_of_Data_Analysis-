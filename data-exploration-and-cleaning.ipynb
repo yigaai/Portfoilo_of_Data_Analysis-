{
 "cells": [
  {
   "cell_type": "code",
   "execution_count": 1,
   "id": "7233dd2b",
   "metadata": {
    "_cell_guid": "b1076dfc-b9ad-4769-8c92-a6c4dae69d19",
    "_uuid": "8f2839f25d086af736a60e9eeb907d3b93b6e0e5",
    "execution": {
     "iopub.execute_input": "2025-02-25T06:46:44.806207Z",
     "iopub.status.busy": "2025-02-25T06:46:44.805828Z",
     "iopub.status.idle": "2025-02-25T06:46:45.851600Z",
     "shell.execute_reply": "2025-02-25T06:46:45.850230Z"
    },
    "papermill": {
     "duration": 1.058486,
     "end_time": "2025-02-25T06:46:45.853764",
     "exception": false,
     "start_time": "2025-02-25T06:46:44.795278",
     "status": "completed"
    },
    "tags": []
   },
   "outputs": [
    {
     "name": "stdout",
     "output_type": "stream",
     "text": [
      "/kaggle/input/titanic-dataset-1/train.csv\n",
      "/kaggle/input/titanic-dataset-1/test.csv\n",
      "/kaggle/input/titanic-dataset-1/gender_submission.csv\n"
     ]
    }
   ],
   "source": [
    "# This Python 3 environment comes with many helpful analytics libraries installed\n",
    "# It is defined by the kaggle/python Docker image: https://github.com/kaggle/docker-python\n",
    "# For example, here's several helpful packages to load\n",
    "\n",
    "import numpy as np # linear algebra\n",
    "import pandas as pd # data processing, CSV file I/O (e.g. pd.read_csv)\n",
    "\n",
    "# Input data files are available in the read-only \"../input/\" directory\n",
    "# For example, running this (by clicking run or pressing Shift+Enter) will list all files under the input directory\n",
    "\n",
    "import os\n",
    "for dirname, _, filenames in os.walk('/kaggle/input'):\n",
    "    for filename in filenames:\n",
    "        print(os.path.join(dirname, filename))\n",
    "\n",
    "# You can write up to 20GB to the current directory (/kaggle/working/) that gets preserved as output when you create a version using \"Save & Run All\" \n",
    "# You can also write temporary files to /kaggle/temp/, but they won't be saved outside of the current session"
   ]
  },
  {
   "cell_type": "code",
   "execution_count": 2,
   "id": "663c5e1a",
   "metadata": {
    "execution": {
     "iopub.execute_input": "2025-02-25T06:46:45.872598Z",
     "iopub.status.busy": "2025-02-25T06:46:45.872135Z",
     "iopub.status.idle": "2025-02-25T06:46:45.876297Z",
     "shell.execute_reply": "2025-02-25T06:46:45.875052Z"
    },
    "papermill": {
     "duration": 0.014299,
     "end_time": "2025-02-25T06:46:45.877579",
     "exception": false,
     "start_time": "2025-02-25T06:46:45.863280",
     "status": "completed"
    },
    "tags": []
   },
   "outputs": [],
   "source": [
    "import numpy as np \n",
    "import pandas as pd \n",
    "import os"
   ]
  },
  {
   "cell_type": "code",
   "execution_count": 3,
   "id": "fc663864",
   "metadata": {
    "execution": {
     "iopub.execute_input": "2025-02-25T06:46:45.895385Z",
     "iopub.status.busy": "2025-02-25T06:46:45.894787Z",
     "iopub.status.idle": "2025-02-25T06:46:45.902168Z",
     "shell.execute_reply": "2025-02-25T06:46:45.901070Z"
    },
    "papermill": {
     "duration": 0.017546,
     "end_time": "2025-02-25T06:46:45.903645",
     "exception": false,
     "start_time": "2025-02-25T06:46:45.886099",
     "status": "completed"
    },
    "tags": []
   },
   "outputs": [
    {
     "data": {
      "text/plain": [
       "'/kaggle/working'"
      ]
     },
     "execution_count": 3,
     "metadata": {},
     "output_type": "execute_result"
    }
   ],
   "source": [
    "# check the work directory \n",
    "os.getcwd()"
   ]
  },
  {
   "cell_type": "code",
   "execution_count": 4,
   "id": "ed053314",
   "metadata": {
    "execution": {
     "iopub.execute_input": "2025-02-25T06:46:45.922080Z",
     "iopub.status.busy": "2025-02-25T06:46:45.921750Z",
     "iopub.status.idle": "2025-02-25T06:46:45.927026Z",
     "shell.execute_reply": "2025-02-25T06:46:45.926207Z"
    },
    "papermill": {
     "duration": 0.016315,
     "end_time": "2025-02-25T06:46:45.928681",
     "exception": false,
     "start_time": "2025-02-25T06:46:45.912366",
     "status": "completed"
    },
    "tags": []
   },
   "outputs": [
    {
     "data": {
      "text/plain": [
       "'/kaggle'"
      ]
     },
     "execution_count": 4,
     "metadata": {},
     "output_type": "execute_result"
    }
   ],
   "source": [
    "# back to kaggle \n",
    "os.chdir('/kaggle/') \n",
    "os.getcwd()"
   ]
  },
  {
   "cell_type": "code",
   "execution_count": 5,
   "id": "cf2b86b1",
   "metadata": {
    "execution": {
     "iopub.execute_input": "2025-02-25T06:46:45.947243Z",
     "iopub.status.busy": "2025-02-25T06:46:45.946863Z",
     "iopub.status.idle": "2025-02-25T06:46:45.955394Z",
     "shell.execute_reply": "2025-02-25T06:46:45.953953Z"
    },
    "papermill": {
     "duration": 0.019162,
     "end_time": "2025-02-25T06:46:45.957097",
     "exception": false,
     "start_time": "2025-02-25T06:46:45.937935",
     "status": "completed"
    },
    "tags": []
   },
   "outputs": [
    {
     "data": {
      "text/plain": [
       "['train.csv', 'test.csv', 'gender_submission.csv']"
      ]
     },
     "execution_count": 5,
     "metadata": {},
     "output_type": "execute_result"
    }
   ],
   "source": [
    "# pass the file path to os.listdir() function to list all of the objects \n",
    "os.listdir('/kaggle') \n",
    "\n",
    "# to see what in the input:\n",
    "os.listdir('/kaggle/input')  \n",
    "\n",
    "os.listdir('/kaggle/input/titanic-dataset-1')  "
   ]
  },
  {
   "cell_type": "code",
   "execution_count": 6,
   "id": "688ca393",
   "metadata": {
    "execution": {
     "iopub.execute_input": "2025-02-25T06:46:45.975060Z",
     "iopub.status.busy": "2025-02-25T06:46:45.974736Z",
     "iopub.status.idle": "2025-02-25T06:46:46.002995Z",
     "shell.execute_reply": "2025-02-25T06:46:46.001312Z"
    },
    "papermill": {
     "duration": 0.039156,
     "end_time": "2025-02-25T06:46:46.004922",
     "exception": false,
     "start_time": "2025-02-25T06:46:45.965766",
     "status": "completed"
    },
    "tags": []
   },
   "outputs": [],
   "source": [
    "# supply the file path \n",
    "titanic_train = pd.read_csv('input/titanic-dataset-1/train.csv') "
   ]
  },
  {
   "cell_type": "code",
   "execution_count": 7,
   "id": "a9bf907f",
   "metadata": {
    "execution": {
     "iopub.execute_input": "2025-02-25T06:46:46.023954Z",
     "iopub.status.busy": "2025-02-25T06:46:46.023587Z",
     "iopub.status.idle": "2025-02-25T06:46:46.029956Z",
     "shell.execute_reply": "2025-02-25T06:46:46.028191Z"
    },
    "papermill": {
     "duration": 0.018069,
     "end_time": "2025-02-25T06:46:46.032090",
     "exception": false,
     "start_time": "2025-02-25T06:46:46.014021",
     "status": "completed"
    },
    "tags": []
   },
   "outputs": [
    {
     "data": {
      "text/plain": [
       "(891, 12)"
      ]
     },
     "execution_count": 7,
     "metadata": {},
     "output_type": "execute_result"
    }
   ],
   "source": [
    "\n",
    "# It's a good idea to start off by checking the dimensions of your data set with df.shape \n",
    "# and the variable data types of df.dtypes.\n",
    "\n",
    "titanic_train.shape \n",
    "\n",
    "# 891 records and 12 columns "
   ]
  },
  {
   "cell_type": "code",
   "execution_count": 8,
   "id": "e29a80a4",
   "metadata": {
    "execution": {
     "iopub.execute_input": "2025-02-25T06:46:46.051237Z",
     "iopub.status.busy": "2025-02-25T06:46:46.050808Z",
     "iopub.status.idle": "2025-02-25T06:46:46.063063Z",
     "shell.execute_reply": "2025-02-25T06:46:46.061952Z"
    },
    "papermill": {
     "duration": 0.023255,
     "end_time": "2025-02-25T06:46:46.064600",
     "exception": false,
     "start_time": "2025-02-25T06:46:46.041345",
     "status": "completed"
    },
    "tags": []
   },
   "outputs": [
    {
     "data": {
      "text/plain": [
       "PassengerId      int64\n",
       "Survived         int64\n",
       "Pclass           int64\n",
       "Name            object\n",
       "Sex             object\n",
       "Age            float64\n",
       "SibSp            int64\n",
       "Parch            int64\n",
       "Ticket          object\n",
       "Fare           float64\n",
       "Cabin           object\n",
       "Embarked        object\n",
       "dtype: object"
      ]
     },
     "execution_count": 8,
     "metadata": {},
     "output_type": "execute_result"
    }
   ],
   "source": [
    "titanic_train.dtypes"
   ]
  },
  {
   "cell_type": "code",
   "execution_count": 9,
   "id": "5bf2dd50",
   "metadata": {
    "execution": {
     "iopub.execute_input": "2025-02-25T06:46:46.086104Z",
     "iopub.status.busy": "2025-02-25T06:46:46.085787Z",
     "iopub.status.idle": "2025-02-25T06:46:46.114850Z",
     "shell.execute_reply": "2025-02-25T06:46:46.113492Z"
    },
    "papermill": {
     "duration": 0.041873,
     "end_time": "2025-02-25T06:46:46.116509",
     "exception": false,
     "start_time": "2025-02-25T06:46:46.074636",
     "status": "completed"
    },
    "tags": []
   },
   "outputs": [
    {
     "name": "stdout",
     "output_type": "stream",
     "text": [
      "<class 'pandas.core.frame.DataFrame'>\n",
      "RangeIndex: 891 entries, 0 to 890\n",
      "Data columns (total 12 columns):\n",
      " #   Column       Non-Null Count  Dtype  \n",
      "---  ------       --------------  -----  \n",
      " 0   PassengerId  891 non-null    int64  \n",
      " 1   Survived     891 non-null    int64  \n",
      " 2   Pclass       891 non-null    int64  \n",
      " 3   Name         891 non-null    object \n",
      " 4   Sex          891 non-null    object \n",
      " 5   Age          714 non-null    float64\n",
      " 6   SibSp        891 non-null    int64  \n",
      " 7   Parch        891 non-null    int64  \n",
      " 8   Ticket       891 non-null    object \n",
      " 9   Fare         891 non-null    float64\n",
      " 10  Cabin        204 non-null    object \n",
      " 11  Embarked     889 non-null    object \n",
      "dtypes: float64(2), int64(5), object(5)\n",
      "memory usage: 83.7+ KB\n"
     ]
    }
   ],
   "source": [
    "titanic_train.info() "
   ]
  },
  {
   "cell_type": "code",
   "execution_count": 10,
   "id": "bdfa9059",
   "metadata": {
    "execution": {
     "iopub.execute_input": "2025-02-25T06:46:46.135793Z",
     "iopub.status.busy": "2025-02-25T06:46:46.135513Z",
     "iopub.status.idle": "2025-02-25T06:46:46.157607Z",
     "shell.execute_reply": "2025-02-25T06:46:46.156618Z"
    },
    "papermill": {
     "duration": 0.033596,
     "end_time": "2025-02-25T06:46:46.159255",
     "exception": false,
     "start_time": "2025-02-25T06:46:46.125659",
     "status": "completed"
    },
    "tags": []
   },
   "outputs": [
    {
     "data": {
      "text/html": [
       "<div>\n",
       "<style scoped>\n",
       "    .dataframe tbody tr th:only-of-type {\n",
       "        vertical-align: middle;\n",
       "    }\n",
       "\n",
       "    .dataframe tbody tr th {\n",
       "        vertical-align: top;\n",
       "    }\n",
       "\n",
       "    .dataframe thead th {\n",
       "        text-align: right;\n",
       "    }\n",
       "</style>\n",
       "<table border=\"1\" class=\"dataframe\">\n",
       "  <thead>\n",
       "    <tr style=\"text-align: right;\">\n",
       "      <th></th>\n",
       "      <th>PassengerId</th>\n",
       "      <th>Survived</th>\n",
       "      <th>Pclass</th>\n",
       "      <th>Name</th>\n",
       "      <th>Sex</th>\n",
       "      <th>Age</th>\n",
       "      <th>SibSp</th>\n",
       "      <th>Parch</th>\n",
       "      <th>Ticket</th>\n",
       "      <th>Fare</th>\n",
       "      <th>Cabin</th>\n",
       "      <th>Embarked</th>\n",
       "    </tr>\n",
       "  </thead>\n",
       "  <tbody>\n",
       "    <tr>\n",
       "      <th>0</th>\n",
       "      <td>1</td>\n",
       "      <td>0</td>\n",
       "      <td>3</td>\n",
       "      <td>Braund, Mr. Owen Harris</td>\n",
       "      <td>male</td>\n",
       "      <td>22.0</td>\n",
       "      <td>1</td>\n",
       "      <td>0</td>\n",
       "      <td>A/5 21171</td>\n",
       "      <td>7.2500</td>\n",
       "      <td>NaN</td>\n",
       "      <td>S</td>\n",
       "    </tr>\n",
       "    <tr>\n",
       "      <th>1</th>\n",
       "      <td>2</td>\n",
       "      <td>1</td>\n",
       "      <td>1</td>\n",
       "      <td>Cumings, Mrs. John Bradley (Florence Briggs Th...</td>\n",
       "      <td>female</td>\n",
       "      <td>38.0</td>\n",
       "      <td>1</td>\n",
       "      <td>0</td>\n",
       "      <td>PC 17599</td>\n",
       "      <td>71.2833</td>\n",
       "      <td>C85</td>\n",
       "      <td>C</td>\n",
       "    </tr>\n",
       "    <tr>\n",
       "      <th>2</th>\n",
       "      <td>3</td>\n",
       "      <td>1</td>\n",
       "      <td>3</td>\n",
       "      <td>Heikkinen, Miss. Laina</td>\n",
       "      <td>female</td>\n",
       "      <td>26.0</td>\n",
       "      <td>0</td>\n",
       "      <td>0</td>\n",
       "      <td>STON/O2. 3101282</td>\n",
       "      <td>7.9250</td>\n",
       "      <td>NaN</td>\n",
       "      <td>S</td>\n",
       "    </tr>\n",
       "    <tr>\n",
       "      <th>3</th>\n",
       "      <td>4</td>\n",
       "      <td>1</td>\n",
       "      <td>1</td>\n",
       "      <td>Futrelle, Mrs. Jacques Heath (Lily May Peel)</td>\n",
       "      <td>female</td>\n",
       "      <td>35.0</td>\n",
       "      <td>1</td>\n",
       "      <td>0</td>\n",
       "      <td>113803</td>\n",
       "      <td>53.1000</td>\n",
       "      <td>C123</td>\n",
       "      <td>S</td>\n",
       "    </tr>\n",
       "    <tr>\n",
       "      <th>4</th>\n",
       "      <td>5</td>\n",
       "      <td>0</td>\n",
       "      <td>3</td>\n",
       "      <td>Allen, Mr. William Henry</td>\n",
       "      <td>male</td>\n",
       "      <td>35.0</td>\n",
       "      <td>0</td>\n",
       "      <td>0</td>\n",
       "      <td>373450</td>\n",
       "      <td>8.0500</td>\n",
       "      <td>NaN</td>\n",
       "      <td>S</td>\n",
       "    </tr>\n",
       "  </tbody>\n",
       "</table>\n",
       "</div>"
      ],
      "text/plain": [
       "   PassengerId  Survived  Pclass  \\\n",
       "0            1         0       3   \n",
       "1            2         1       1   \n",
       "2            3         1       3   \n",
       "3            4         1       1   \n",
       "4            5         0       3   \n",
       "\n",
       "                                                Name     Sex   Age  SibSp  \\\n",
       "0                            Braund, Mr. Owen Harris    male  22.0      1   \n",
       "1  Cumings, Mrs. John Bradley (Florence Briggs Th...  female  38.0      1   \n",
       "2                             Heikkinen, Miss. Laina  female  26.0      0   \n",
       "3       Futrelle, Mrs. Jacques Heath (Lily May Peel)  female  35.0      1   \n",
       "4                           Allen, Mr. William Henry    male  35.0      0   \n",
       "\n",
       "   Parch            Ticket     Fare Cabin Embarked  \n",
       "0      0         A/5 21171   7.2500   NaN        S  \n",
       "1      0          PC 17599  71.2833   C85        C  \n",
       "2      0  STON/O2. 3101282   7.9250   NaN        S  \n",
       "3      0            113803  53.1000  C123        S  \n",
       "4      0            373450   8.0500   NaN        S  "
      ]
     },
     "execution_count": 10,
     "metadata": {},
     "output_type": "execute_result"
    }
   ],
   "source": [
    "# check the first 5 rows \n",
    "\n",
    "titanic_train.head(5) \n",
    "\n",
    "# a mixture of numeric columns and columns with text data.  \n"
   ]
  },
  {
   "cell_type": "code",
   "execution_count": 11,
   "id": "c98812b1",
   "metadata": {
    "execution": {
     "iopub.execute_input": "2025-02-25T06:46:46.178519Z",
     "iopub.status.busy": "2025-02-25T06:46:46.178209Z",
     "iopub.status.idle": "2025-02-25T06:46:46.206638Z",
     "shell.execute_reply": "2025-02-25T06:46:46.205258Z"
    },
    "papermill": {
     "duration": 0.039945,
     "end_time": "2025-02-25T06:46:46.208573",
     "exception": false,
     "start_time": "2025-02-25T06:46:46.168628",
     "status": "completed"
    },
    "tags": []
   },
   "outputs": [
    {
     "data": {
      "text/html": [
       "<div>\n",
       "<style scoped>\n",
       "    .dataframe tbody tr th:only-of-type {\n",
       "        vertical-align: middle;\n",
       "    }\n",
       "\n",
       "    .dataframe tbody tr th {\n",
       "        vertical-align: top;\n",
       "    }\n",
       "\n",
       "    .dataframe thead th {\n",
       "        text-align: right;\n",
       "    }\n",
       "</style>\n",
       "<table border=\"1\" class=\"dataframe\">\n",
       "  <thead>\n",
       "    <tr style=\"text-align: right;\">\n",
       "      <th></th>\n",
       "      <th>PassengerId</th>\n",
       "      <th>Survived</th>\n",
       "      <th>Pclass</th>\n",
       "      <th>Age</th>\n",
       "      <th>SibSp</th>\n",
       "      <th>Parch</th>\n",
       "      <th>Fare</th>\n",
       "    </tr>\n",
       "  </thead>\n",
       "  <tbody>\n",
       "    <tr>\n",
       "      <th>count</th>\n",
       "      <td>891.000000</td>\n",
       "      <td>891.000000</td>\n",
       "      <td>891.000000</td>\n",
       "      <td>714.000000</td>\n",
       "      <td>891.000000</td>\n",
       "      <td>891.000000</td>\n",
       "      <td>891.000000</td>\n",
       "    </tr>\n",
       "    <tr>\n",
       "      <th>mean</th>\n",
       "      <td>446.000000</td>\n",
       "      <td>0.383838</td>\n",
       "      <td>2.308642</td>\n",
       "      <td>29.699118</td>\n",
       "      <td>0.523008</td>\n",
       "      <td>0.381594</td>\n",
       "      <td>32.204208</td>\n",
       "    </tr>\n",
       "    <tr>\n",
       "      <th>std</th>\n",
       "      <td>257.353842</td>\n",
       "      <td>0.486592</td>\n",
       "      <td>0.836071</td>\n",
       "      <td>14.526497</td>\n",
       "      <td>1.102743</td>\n",
       "      <td>0.806057</td>\n",
       "      <td>49.693429</td>\n",
       "    </tr>\n",
       "    <tr>\n",
       "      <th>min</th>\n",
       "      <td>1.000000</td>\n",
       "      <td>0.000000</td>\n",
       "      <td>1.000000</td>\n",
       "      <td>0.420000</td>\n",
       "      <td>0.000000</td>\n",
       "      <td>0.000000</td>\n",
       "      <td>0.000000</td>\n",
       "    </tr>\n",
       "    <tr>\n",
       "      <th>25%</th>\n",
       "      <td>223.500000</td>\n",
       "      <td>0.000000</td>\n",
       "      <td>2.000000</td>\n",
       "      <td>20.125000</td>\n",
       "      <td>0.000000</td>\n",
       "      <td>0.000000</td>\n",
       "      <td>7.910400</td>\n",
       "    </tr>\n",
       "    <tr>\n",
       "      <th>50%</th>\n",
       "      <td>446.000000</td>\n",
       "      <td>0.000000</td>\n",
       "      <td>3.000000</td>\n",
       "      <td>28.000000</td>\n",
       "      <td>0.000000</td>\n",
       "      <td>0.000000</td>\n",
       "      <td>14.454200</td>\n",
       "    </tr>\n",
       "    <tr>\n",
       "      <th>75%</th>\n",
       "      <td>668.500000</td>\n",
       "      <td>1.000000</td>\n",
       "      <td>3.000000</td>\n",
       "      <td>38.000000</td>\n",
       "      <td>1.000000</td>\n",
       "      <td>0.000000</td>\n",
       "      <td>31.000000</td>\n",
       "    </tr>\n",
       "    <tr>\n",
       "      <th>max</th>\n",
       "      <td>891.000000</td>\n",
       "      <td>1.000000</td>\n",
       "      <td>3.000000</td>\n",
       "      <td>80.000000</td>\n",
       "      <td>8.000000</td>\n",
       "      <td>6.000000</td>\n",
       "      <td>512.329200</td>\n",
       "    </tr>\n",
       "  </tbody>\n",
       "</table>\n",
       "</div>"
      ],
      "text/plain": [
       "       PassengerId    Survived      Pclass         Age       SibSp  \\\n",
       "count   891.000000  891.000000  891.000000  714.000000  891.000000   \n",
       "mean    446.000000    0.383838    2.308642   29.699118    0.523008   \n",
       "std     257.353842    0.486592    0.836071   14.526497    1.102743   \n",
       "min       1.000000    0.000000    1.000000    0.420000    0.000000   \n",
       "25%     223.500000    0.000000    2.000000   20.125000    0.000000   \n",
       "50%     446.000000    0.000000    3.000000   28.000000    0.000000   \n",
       "75%     668.500000    1.000000    3.000000   38.000000    1.000000   \n",
       "max     891.000000    1.000000    3.000000   80.000000    8.000000   \n",
       "\n",
       "            Parch        Fare  \n",
       "count  891.000000  891.000000  \n",
       "mean     0.381594   32.204208  \n",
       "std      0.806057   49.693429  \n",
       "min      0.000000    0.000000  \n",
       "25%      0.000000    7.910400  \n",
       "50%      0.000000   14.454200  \n",
       "75%      0.000000   31.000000  \n",
       "max      6.000000  512.329200  "
      ]
     },
     "execution_count": 11,
     "metadata": {},
     "output_type": "execute_result"
    }
   ],
   "source": [
    "# look at a statistical summary of the variables with df.describe(): \n",
    "\n",
    "# describe() function can not summarize categorical columns\n",
    "\n",
    "titanic_train.describe()  \n"
   ]
  },
  {
   "cell_type": "markdown",
   "id": "6379a970",
   "metadata": {
    "papermill": {
     "duration": 0.009407,
     "end_time": "2025-02-25T06:46:46.227538",
     "exception": false,
     "start_time": "2025-02-25T06:46:46.218131",
     "status": "completed"
    },
    "tags": []
   },
   "source": [
    "Describe the categorical variables: "
   ]
  },
  {
   "cell_type": "code",
   "execution_count": 12,
   "id": "0a3e9e05",
   "metadata": {
    "execution": {
     "iopub.execute_input": "2025-02-25T06:46:46.246742Z",
     "iopub.status.busy": "2025-02-25T06:46:46.246396Z",
     "iopub.status.idle": "2025-02-25T06:46:46.267509Z",
     "shell.execute_reply": "2025-02-25T06:46:46.266547Z"
    },
    "papermill": {
     "duration": 0.032273,
     "end_time": "2025-02-25T06:46:46.268889",
     "exception": false,
     "start_time": "2025-02-25T06:46:46.236616",
     "status": "completed"
    },
    "tags": []
   },
   "outputs": [
    {
     "data": {
      "text/html": [
       "<div>\n",
       "<style scoped>\n",
       "    .dataframe tbody tr th:only-of-type {\n",
       "        vertical-align: middle;\n",
       "    }\n",
       "\n",
       "    .dataframe tbody tr th {\n",
       "        vertical-align: top;\n",
       "    }\n",
       "\n",
       "    .dataframe thead th {\n",
       "        text-align: right;\n",
       "    }\n",
       "</style>\n",
       "<table border=\"1\" class=\"dataframe\">\n",
       "  <thead>\n",
       "    <tr style=\"text-align: right;\">\n",
       "      <th></th>\n",
       "      <th>Name</th>\n",
       "      <th>Sex</th>\n",
       "      <th>Ticket</th>\n",
       "      <th>Cabin</th>\n",
       "      <th>Embarked</th>\n",
       "    </tr>\n",
       "  </thead>\n",
       "  <tbody>\n",
       "    <tr>\n",
       "      <th>count</th>\n",
       "      <td>891</td>\n",
       "      <td>891</td>\n",
       "      <td>891</td>\n",
       "      <td>204</td>\n",
       "      <td>889</td>\n",
       "    </tr>\n",
       "    <tr>\n",
       "      <th>unique</th>\n",
       "      <td>891</td>\n",
       "      <td>2</td>\n",
       "      <td>681</td>\n",
       "      <td>147</td>\n",
       "      <td>3</td>\n",
       "    </tr>\n",
       "    <tr>\n",
       "      <th>top</th>\n",
       "      <td>Braund, Mr. Owen Harris</td>\n",
       "      <td>male</td>\n",
       "      <td>347082</td>\n",
       "      <td>B96 B98</td>\n",
       "      <td>S</td>\n",
       "    </tr>\n",
       "    <tr>\n",
       "      <th>freq</th>\n",
       "      <td>1</td>\n",
       "      <td>577</td>\n",
       "      <td>7</td>\n",
       "      <td>4</td>\n",
       "      <td>644</td>\n",
       "    </tr>\n",
       "  </tbody>\n",
       "</table>\n",
       "</div>"
      ],
      "text/plain": [
       "                           Name   Sex  Ticket    Cabin Embarked\n",
       "count                       891   891     891      204      889\n",
       "unique                      891     2     681      147        3\n",
       "top     Braund, Mr. Owen Harris  male  347082  B96 B98        S\n",
       "freq                          1   577       7        4      644"
      ]
     },
     "execution_count": 12,
     "metadata": {},
     "output_type": "execute_result"
    }
   ],
   "source": [
    "# make a list of categorical columns \n",
    "\n",
    "# step1: find the cols where dtype is an object  \n",
    "# code: titanic_train.dtypes == 'object' \n",
    "\n",
    "# step2: take the index of those cols: \n",
    "categorical = titanic_train.dtypes[titanic_train.dtypes == 'object'].index \n",
    "\n",
    "\n",
    "# use 'categorical' to index back into titanic_train \n",
    "# rerun the describe():   \n",
    "titanic_train[categorical].describe()  \n",
    " "
   ]
  },
  {
   "cell_type": "code",
   "execution_count": 13,
   "id": "eaf53002",
   "metadata": {
    "execution": {
     "iopub.execute_input": "2025-02-25T06:46:46.289346Z",
     "iopub.status.busy": "2025-02-25T06:46:46.288890Z",
     "iopub.status.idle": "2025-02-25T06:46:46.293591Z",
     "shell.execute_reply": "2025-02-25T06:46:46.292267Z"
    },
    "papermill": {
     "duration": 0.016775,
     "end_time": "2025-02-25T06:46:46.295297",
     "exception": false,
     "start_time": "2025-02-25T06:46:46.278522",
     "status": "completed"
    },
    "tags": []
   },
   "outputs": [],
   "source": [
    "# VARIABLE DESCRIPTIONS:\n",
    "# survival        Survival\n",
    "#                 (0 = No; 1 = Yes)\n",
    "# pclass          Passenger Class\n",
    "#                 (1 = 1st; 2 = 2nd; 3 = 3rd)\n",
    "# name            Name\n",
    "# sex             Sex\n",
    "# age             Age\n",
    "# sibsp           Number of Siblings/Spouses Aboard\n",
    "# parch           Number of Parents/Children Aboard\n",
    "# ticket          Ticket Number\n",
    "# fare            Passenger Fare\n",
    "# cabin           Cabin\n",
    "# embarked        Port of Embarkation\n",
    "#                 (C = Cherbourg; Q = Queenstown; S = Southampton) "
   ]
  },
  {
   "cell_type": "code",
   "execution_count": 14,
   "id": "27aa38e4",
   "metadata": {
    "execution": {
     "iopub.execute_input": "2025-02-25T06:46:46.317461Z",
     "iopub.status.busy": "2025-02-25T06:46:46.317079Z",
     "iopub.status.idle": "2025-02-25T06:46:46.321305Z",
     "shell.execute_reply": "2025-02-25T06:46:46.320038Z"
    },
    "papermill": {
     "duration": 0.016711,
     "end_time": "2025-02-25T06:46:46.323033",
     "exception": false,
     "start_time": "2025-02-25T06:46:46.306322",
     "status": "completed"
    },
    "tags": []
   },
   "outputs": [],
   "source": [
    "# After looking at the var for the first time, you should ask yourself a few questions, \n",
    "# and solve these questions later: \n",
    "# 1. Do I need all of the variables?\n",
    "# 2. Should I transform any variables?\n",
    "# 3. Are there NA values, outliers or other strange values?\n",
    "# 4. Should I create new variables?    \n"
   ]
  },
  {
   "cell_type": "markdown",
   "id": "4e852ddb",
   "metadata": {
    "papermill": {
     "duration": 0.00952,
     "end_time": "2025-02-25T06:46:46.342356",
     "exception": false,
     "start_time": "2025-02-25T06:46:46.332836",
     "status": "completed"
    },
    "tags": []
   },
   "source": [
    "This data set is provided in conjunction with a predictive modeling competition where the goal is to use the training data to predict whether passengers of the titanic listed in a second data set survived or not. We won't be dealing with the second data set (known the test set) right now, but we will revisit this competition and make predictions in a future lesson on predictive modeling. "
   ]
  },
  {
   "cell_type": "markdown",
   "id": "9114c592",
   "metadata": {
    "papermill": {
     "duration": 0.008739,
     "end_time": "2025-02-25T06:46:46.360704",
     "exception": false,
     "start_time": "2025-02-25T06:46:46.351965",
     "status": "completed"
    },
    "tags": []
   },
   "source": [
    "# Do I need all of the variables? "
   ]
  },
  {
   "cell_type": "code",
   "execution_count": 15,
   "id": "59ba25c9",
   "metadata": {
    "execution": {
     "iopub.execute_input": "2025-02-25T06:46:46.379612Z",
     "iopub.status.busy": "2025-02-25T06:46:46.379351Z",
     "iopub.status.idle": "2025-02-25T06:46:46.383353Z",
     "shell.execute_reply": "2025-02-25T06:46:46.382270Z"
    },
    "papermill": {
     "duration": 0.014892,
     "end_time": "2025-02-25T06:46:46.384717",
     "exception": false,
     "start_time": "2025-02-25T06:46:46.369825",
     "status": "completed"
    },
    "tags": []
   },
   "outputs": [],
   "source": [
    "# DATA CLEANING "
   ]
  },
  {
   "cell_type": "code",
   "execution_count": 16,
   "id": "4e58f394",
   "metadata": {
    "execution": {
     "iopub.execute_input": "2025-02-25T06:46:46.404853Z",
     "iopub.status.busy": "2025-02-25T06:46:46.404555Z",
     "iopub.status.idle": "2025-02-25T06:46:46.414747Z",
     "shell.execute_reply": "2025-02-25T06:46:46.413454Z"
    },
    "papermill": {
     "duration": 0.022292,
     "end_time": "2025-02-25T06:46:46.416517",
     "exception": false,
     "start_time": "2025-02-25T06:46:46.394225",
     "status": "completed"
    },
    "tags": []
   },
   "outputs": [
    {
     "name": "stdout",
     "output_type": "stream",
     "text": [
      "<class 'pandas.core.frame.DataFrame'>\n",
      "RangeIndex: 891 entries, 0 to 890\n",
      "Data columns (total 12 columns):\n",
      " #   Column       Non-Null Count  Dtype  \n",
      "---  ------       --------------  -----  \n",
      " 0   PassengerId  891 non-null    int64  \n",
      " 1   Survived     891 non-null    int64  \n",
      " 2   Pclass       891 non-null    int64  \n",
      " 3   Name         891 non-null    object \n",
      " 4   Sex          891 non-null    object \n",
      " 5   Age          714 non-null    float64\n",
      " 6   SibSp        891 non-null    int64  \n",
      " 7   Parch        891 non-null    int64  \n",
      " 8   Ticket       891 non-null    object \n",
      " 9   Fare         891 non-null    float64\n",
      " 10  Cabin        204 non-null    object \n",
      " 11  Embarked     889 non-null    object \n",
      "dtypes: float64(2), int64(5), object(5)\n",
      "memory usage: 83.7+ KB\n"
     ]
    }
   ],
   "source": [
    "titanic_train.info()"
   ]
  },
  {
   "cell_type": "code",
   "execution_count": 17,
   "id": "37213d9c",
   "metadata": {
    "execution": {
     "iopub.execute_input": "2025-02-25T06:46:46.436764Z",
     "iopub.status.busy": "2025-02-25T06:46:46.436465Z",
     "iopub.status.idle": "2025-02-25T06:46:46.441117Z",
     "shell.execute_reply": "2025-02-25T06:46:46.439618Z"
    },
    "papermill": {
     "duration": 0.016631,
     "end_time": "2025-02-25T06:46:46.442932",
     "exception": false,
     "start_time": "2025-02-25T06:46:46.426301",
     "status": "completed"
    },
    "tags": []
   },
   "outputs": [],
   "source": [
    "# \"PassengerId\" is just a number assigned to each passenger. \n",
    "# It is nothing more than an arbitrary identifier;\n",
    "# Let's remove it anyway.   \n",
    "\n",
    "del titanic_train['PassengerId'] \n"
   ]
  },
  {
   "cell_type": "markdown",
   "id": "c6662e1f",
   "metadata": {
    "papermill": {
     "duration": 0.008623,
     "end_time": "2025-02-25T06:46:46.460940",
     "exception": false,
     "start_time": "2025-02-25T06:46:46.452317",
     "status": "completed"
    },
    "tags": []
   },
   "source": [
    "1. \"Survived\" indicates whether each passenger lived or died. \n",
    "Since predicting survival is our goal, we definitely need to keep it.\n",
    "\n",
    "2. Features that describe passengers numerically or group them into a few broad categories could be useful for predicting survival.\n",
    "\n",
    "   \n",
    "The variables Pclass, Sex, Age, SibSp, Parch, Fare, and Embarked appear to fit this description, so let's keep all of them. \n",
    "\n"
   ]
  },
  {
   "cell_type": "code",
   "execution_count": 18,
   "id": "8102fb14",
   "metadata": {
    "execution": {
     "iopub.execute_input": "2025-02-25T06:46:46.481605Z",
     "iopub.status.busy": "2025-02-25T06:46:46.481314Z",
     "iopub.status.idle": "2025-02-25T06:46:46.485538Z",
     "shell.execute_reply": "2025-02-25T06:46:46.484225Z"
    },
    "papermill": {
     "duration": 0.016035,
     "end_time": "2025-02-25T06:46:46.487351",
     "exception": false,
     "start_time": "2025-02-25T06:46:46.471316",
     "status": "completed"
    },
    "tags": []
   },
   "outputs": [],
   "source": [
    "# \"Name\" appears to be a character string of the name of each passenger. "
   ]
  },
  {
   "cell_type": "code",
   "execution_count": 19,
   "id": "62c9a5e8",
   "metadata": {
    "execution": {
     "iopub.execute_input": "2025-02-25T06:46:46.507362Z",
     "iopub.status.busy": "2025-02-25T06:46:46.507000Z",
     "iopub.status.idle": "2025-02-25T06:46:46.512880Z",
     "shell.execute_reply": "2025-02-25T06:46:46.512024Z"
    },
    "papermill": {
     "duration": 0.017115,
     "end_time": "2025-02-25T06:46:46.514166",
     "exception": false,
     "start_time": "2025-02-25T06:46:46.497051",
     "status": "completed"
    },
    "tags": []
   },
   "outputs": [
    {
     "data": {
      "text/plain": [
       "['Allen, Mr. William Henry',\n",
       " 'Andersson, Mr. Anders Johan',\n",
       " 'Bonnell, Miss. Elizabeth',\n",
       " 'Braund, Mr. Owen Harris',\n",
       " 'Cumings, Mrs. John Bradley (Florence Briggs Thayer)',\n",
       " 'Futrelle, Mrs. Jacques Heath (Lily May Peel)',\n",
       " 'Heikkinen, Miss. Laina',\n",
       " 'Johnson, Mrs. Oscar W (Elisabeth Vilhelmina Berg)',\n",
       " 'McCarthy, Mr. Timothy J',\n",
       " 'Moran, Mr. James',\n",
       " 'Nasser, Mrs. Nicholas (Adele Achem)',\n",
       " 'Palsson, Master. Gosta Leonard',\n",
       " 'Sandstrom, Miss. Marguerite Rut',\n",
       " 'Saundercock, Mr. William Henry',\n",
       " 'Vestrom, Miss. Hulda Amanda Adolfina']"
      ]
     },
     "execution_count": 19,
     "metadata": {},
     "output_type": "execute_result"
    }
   ],
   "source": [
    "#  This command sorts only the first 15 names in the 'Name' column: \n",
    "#  Wrong Version  \n",
    "\n",
    "sorted(titanic_train['Name'][0:15])   "
   ]
  },
  {
   "cell_type": "code",
   "execution_count": 20,
   "id": "0f306afd",
   "metadata": {
    "execution": {
     "iopub.execute_input": "2025-02-25T06:46:46.533866Z",
     "iopub.status.busy": "2025-02-25T06:46:46.533540Z",
     "iopub.status.idle": "2025-02-25T06:46:46.539737Z",
     "shell.execute_reply": "2025-02-25T06:46:46.538516Z"
    },
    "papermill": {
     "duration": 0.017743,
     "end_time": "2025-02-25T06:46:46.541475",
     "exception": false,
     "start_time": "2025-02-25T06:46:46.523732",
     "status": "completed"
    },
    "tags": []
   },
   "outputs": [
    {
     "data": {
      "text/plain": [
       "['Abbing, Mr. Anthony',\n",
       " 'Abbott, Mr. Rossmore Edward',\n",
       " 'Abbott, Mrs. Stanton (Rosa Hunt)',\n",
       " 'Abelson, Mr. Samuel',\n",
       " 'Abelson, Mrs. Samuel (Hannah Wizosky)',\n",
       " 'Adahl, Mr. Mauritz Nils Martin',\n",
       " 'Adams, Mr. John',\n",
       " 'Ahlin, Mrs. Johan (Johanna Persdotter Larsson)',\n",
       " 'Aks, Mrs. Sam (Leah Rosen)',\n",
       " 'Albimona, Mr. Nassef Cassem',\n",
       " 'Alexander, Mr. William',\n",
       " 'Alhomaki, Mr. Ilmari Rudolf',\n",
       " 'Ali, Mr. Ahmed',\n",
       " 'Ali, Mr. William',\n",
       " 'Allen, Miss. Elisabeth Walton']"
      ]
     },
     "execution_count": 20,
     "metadata": {},
     "output_type": "execute_result"
    }
   ],
   "source": [
    "# The correct version:  \n",
    "# This command sorts the entire 'Name' column\n",
    "\n",
    "sorted(titanic_train['Name'])[0:15] "
   ]
  },
  {
   "cell_type": "code",
   "execution_count": 21,
   "id": "20972d8a",
   "metadata": {
    "execution": {
     "iopub.execute_input": "2025-02-25T06:46:46.561606Z",
     "iopub.status.busy": "2025-02-25T06:46:46.561298Z",
     "iopub.status.idle": "2025-02-25T06:46:46.569598Z",
     "shell.execute_reply": "2025-02-25T06:46:46.568232Z"
    },
    "papermill": {
     "duration": 0.019761,
     "end_time": "2025-02-25T06:46:46.570994",
     "exception": false,
     "start_time": "2025-02-25T06:46:46.551233",
     "status": "completed"
    },
    "tags": []
   },
   "outputs": [
    {
     "data": {
      "text/plain": [
       "count                         891\n",
       "unique                        891\n",
       "top       Braund, Mr. Owen Harris\n",
       "freq                            1\n",
       "Name: Name, dtype: object"
      ]
     },
     "execution_count": 21,
     "metadata": {},
     "output_type": "execute_result"
    }
   ],
   "source": [
    "titanic_train['Name'].describe()  "
   ]
  },
  {
   "cell_type": "markdown",
   "id": "10c11502",
   "metadata": {
    "papermill": {
     "duration": 0.008987,
     "end_time": "2025-02-25T06:46:46.589622",
     "exception": false,
     "start_time": "2025-02-25T06:46:46.580635",
     "status": "completed"
    },
    "tags": []
   },
   "source": [
    "1. Name variable has 889 unique values.\n",
    "2. In general, a categorical variable that is unique to each case isn't useful for prediction. \n",
    "\n",
    "3. We could extract last names to try to group family members together, but even then the number of categories would be very large.\n",
    "   \n",
    "4. On the other hand, it can be nice to have some way to uniquely identify particular cases and names are interesting from a personal and historical perspective, so let's keep Name, knowing that we won't actually use it in any predictive models we make.   "
   ]
  },
  {
   "cell_type": "code",
   "execution_count": 22,
   "id": "709ca652",
   "metadata": {
    "execution": {
     "iopub.execute_input": "2025-02-25T06:46:46.609697Z",
     "iopub.status.busy": "2025-02-25T06:46:46.609360Z",
     "iopub.status.idle": "2025-02-25T06:46:46.615572Z",
     "shell.execute_reply": "2025-02-25T06:46:46.614500Z"
    },
    "papermill": {
     "duration": 0.018223,
     "end_time": "2025-02-25T06:46:46.616989",
     "exception": false,
     "start_time": "2025-02-25T06:46:46.598766",
     "status": "completed"
    },
    "tags": []
   },
   "outputs": [
    {
     "data": {
      "text/plain": [
       "0            A/5 21171\n",
       "1             PC 17599\n",
       "2     STON/O2. 3101282\n",
       "3               113803\n",
       "4               373450\n",
       "5               330877\n",
       "6                17463\n",
       "7               349909\n",
       "8               347742\n",
       "9               237736\n",
       "10             PP 9549\n",
       "11              113783\n",
       "12           A/5. 2151\n",
       "13              347082\n",
       "14              350406\n",
       "Name: Ticket, dtype: object"
      ]
     },
     "execution_count": 22,
     "metadata": {},
     "output_type": "execute_result"
    }
   ],
   "source": [
    "titanic_train['Ticket'][0:15]"
   ]
  },
  {
   "cell_type": "code",
   "execution_count": 23,
   "id": "8f009ac8",
   "metadata": {
    "execution": {
     "iopub.execute_input": "2025-02-25T06:46:46.637968Z",
     "iopub.status.busy": "2025-02-25T06:46:46.637566Z",
     "iopub.status.idle": "2025-02-25T06:46:46.646268Z",
     "shell.execute_reply": "2025-02-25T06:46:46.645283Z"
    },
    "papermill": {
     "duration": 0.021618,
     "end_time": "2025-02-25T06:46:46.648369",
     "exception": false,
     "start_time": "2025-02-25T06:46:46.626751",
     "status": "completed"
    },
    "tags": []
   },
   "outputs": [
    {
     "data": {
      "text/plain": [
       "count        891\n",
       "unique       681\n",
       "top       347082\n",
       "freq           7\n",
       "Name: Ticket, dtype: object"
      ]
     },
     "execution_count": 23,
     "metadata": {},
     "output_type": "execute_result"
    }
   ],
   "source": [
    "titanic_train['Ticket'].describe()"
   ]
  },
  {
   "cell_type": "markdown",
   "id": "54e65a8d",
   "metadata": {
    "papermill": {
     "duration": 0.008879,
     "end_time": "2025-02-25T06:46:46.667419",
     "exception": false,
     "start_time": "2025-02-25T06:46:46.658540",
     "status": "completed"
    },
    "tags": []
   },
   "source": [
    "1. Ticket has 680 unique values: almost as many as there are passengers.\n",
    "2. Categorical variables with almost as many levels as there are records are often not very useful for prediction.\n",
    "3. We could try to reduce the number of levels by grouping certain tickets together,\n",
    "4. But the ticket numbers don't appear to follow any logical pattern we could use for grouping. Let's remove it. "
   ]
  },
  {
   "cell_type": "code",
   "execution_count": 24,
   "id": "88a2708b",
   "metadata": {
    "execution": {
     "iopub.execute_input": "2025-02-25T06:46:46.687229Z",
     "iopub.status.busy": "2025-02-25T06:46:46.686847Z",
     "iopub.status.idle": "2025-02-25T06:46:46.691397Z",
     "shell.execute_reply": "2025-02-25T06:46:46.690129Z"
    },
    "papermill": {
     "duration": 0.016067,
     "end_time": "2025-02-25T06:46:46.692772",
     "exception": false,
     "start_time": "2025-02-25T06:46:46.676705",
     "status": "completed"
    },
    "tags": []
   },
   "outputs": [],
   "source": [
    "del titanic_train['Ticket'] "
   ]
  },
  {
   "cell_type": "code",
   "execution_count": 25,
   "id": "a9cd8bbe",
   "metadata": {
    "execution": {
     "iopub.execute_input": "2025-02-25T06:46:46.713050Z",
     "iopub.status.busy": "2025-02-25T06:46:46.712676Z",
     "iopub.status.idle": "2025-02-25T06:46:46.718117Z",
     "shell.execute_reply": "2025-02-25T06:46:46.717329Z"
    },
    "papermill": {
     "duration": 0.017418,
     "end_time": "2025-02-25T06:46:46.719967",
     "exception": false,
     "start_time": "2025-02-25T06:46:46.702549",
     "status": "completed"
    },
    "tags": []
   },
   "outputs": [
    {
     "data": {
      "text/plain": [
       "0      NaN\n",
       "1      C85\n",
       "2      NaN\n",
       "3     C123\n",
       "4      NaN\n",
       "5      NaN\n",
       "6      E46\n",
       "7      NaN\n",
       "8      NaN\n",
       "9      NaN\n",
       "10      G6\n",
       "11    C103\n",
       "12     NaN\n",
       "13     NaN\n",
       "14     NaN\n",
       "Name: Cabin, dtype: object"
      ]
     },
     "execution_count": 25,
     "metadata": {},
     "output_type": "execute_result"
    }
   ],
   "source": [
    "# Check the first 15 tickets:  \n",
    "titanic_train['Cabin'][0:15]  "
   ]
  },
  {
   "cell_type": "code",
   "execution_count": 26,
   "id": "a3a3a59d",
   "metadata": {
    "execution": {
     "iopub.execute_input": "2025-02-25T06:46:46.742652Z",
     "iopub.status.busy": "2025-02-25T06:46:46.742330Z",
     "iopub.status.idle": "2025-02-25T06:46:46.746089Z",
     "shell.execute_reply": "2025-02-25T06:46:46.745040Z"
    },
    "papermill": {
     "duration": 0.017531,
     "end_time": "2025-02-25T06:46:46.747887",
     "exception": false,
     "start_time": "2025-02-25T06:46:46.730356",
     "status": "completed"
    },
    "tags": []
   },
   "outputs": [],
   "source": [
    "# Wrong code: \n",
    "# sorted(titanic_train['Cabin'])[0:15]  \n",
    "\n",
    "#Python can not compare NaN and C85 which is larger.   \n",
    "\n"
   ]
  },
  {
   "cell_type": "code",
   "execution_count": 27,
   "id": "69fc00de",
   "metadata": {
    "execution": {
     "iopub.execute_input": "2025-02-25T06:46:46.769410Z",
     "iopub.status.busy": "2025-02-25T06:46:46.769031Z",
     "iopub.status.idle": "2025-02-25T06:46:46.777371Z",
     "shell.execute_reply": "2025-02-25T06:46:46.776054Z"
    },
    "papermill": {
     "duration": 0.021141,
     "end_time": "2025-02-25T06:46:46.779473",
     "exception": false,
     "start_time": "2025-02-25T06:46:46.758332",
     "status": "completed"
    },
    "tags": []
   },
   "outputs": [
    {
     "data": {
      "text/plain": [
       "count         204\n",
       "unique        147\n",
       "top       B96 B98\n",
       "freq            4\n",
       "Name: Cabin, dtype: object"
      ]
     },
     "execution_count": 27,
     "metadata": {},
     "output_type": "execute_result"
    }
   ],
   "source": [
    "titanic_train['Cabin'].describe() "
   ]
  },
  {
   "cell_type": "markdown",
   "id": "1c4c6386",
   "metadata": {
    "papermill": {
     "duration": 0.009518,
     "end_time": "2025-02-25T06:46:46.800487",
     "exception": false,
     "start_time": "2025-02-25T06:46:46.790969",
     "status": "completed"
    },
    "tags": []
   },
   "source": [
    "1. Cabin has 147 unique values, which indicates it may not be particularly useful for prediction.\n",
    "2. On the other hand, the names of the levels for the cabin variable seem to have a regular structure: each starts with a capital letter followed by a number.\n",
    "3. We could use that structure to reduce the number of levels to make categories large enough that they might be useful for prediction.Let's Keep Cabin for now.\n"
   ]
  },
  {
   "cell_type": "markdown",
   "id": "b2f89309",
   "metadata": {
    "papermill": {
     "duration": 0.067658,
     "end_time": "2025-02-25T06:46:46.878233",
     "exception": false,
     "start_time": "2025-02-25T06:46:46.810575",
     "status": "completed"
    },
    "tags": []
   },
   "source": [
    "1. Removing variables is often more of an art than a science.\n",
    "   \n",
    "2. Data projects are iterative processes: you can start with a simple analysis or model using only a few variables and then expand later by adding more and more of the other variables you initially ignored or removed. "
   ]
  },
  {
   "cell_type": "markdown",
   "id": "c39ed495",
   "metadata": {
    "papermill": {
     "duration": 0.009005,
     "end_time": "2025-02-25T06:46:46.896590",
     "exception": false,
     "start_time": "2025-02-25T06:46:46.887585",
     "status": "completed"
    },
    "tags": []
   },
   "source": [
    "# Should I Transform Any Variables?¶ "
   ]
  },
  {
   "cell_type": "markdown",
   "id": "149600b3",
   "metadata": {
    "papermill": {
     "duration": 0.009077,
     "end_time": "2025-02-25T06:46:46.915112",
     "exception": false,
     "start_time": "2025-02-25T06:46:46.906035",
     "status": "completed"
    },
    "tags": []
   },
   "source": [
    "1. When first loading a data set, some of the variables may be encoded as data types that don't fit well with what the data really is or what it means. \n",
    "\n",
    "2. For instance, Survived is just an integer variable that takes on the value 0 or 1 depending on whether a passenger died or survived respectively.\n",
    "\n",
    "3. Variables that indicate a state or the presence or absence of something with the numbers 0 and 1 are sometimes called indicator variables or dummy variables.\n",
    "\n",
    "4. Indicator variables are essentially just a shorthand for encoding a categorical variable with 2 levels.\n",
    "\n",
    "5. We could instead encode Survived as a categorical variable with more descriptive categories:"
   ]
  },
  {
   "cell_type": "code",
   "execution_count": 28,
   "id": "da9cfbf6",
   "metadata": {
    "execution": {
     "iopub.execute_input": "2025-02-25T06:46:46.935248Z",
     "iopub.status.busy": "2025-02-25T06:46:46.934812Z",
     "iopub.status.idle": "2025-02-25T06:46:46.943655Z",
     "shell.execute_reply": "2025-02-25T06:46:46.942317Z"
    },
    "papermill": {
     "duration": 0.021086,
     "end_time": "2025-02-25T06:46:46.945602",
     "exception": false,
     "start_time": "2025-02-25T06:46:46.924516",
     "status": "completed"
    },
    "tags": []
   },
   "outputs": [
    {
     "data": {
      "text/plain": [
       "count    891.000000\n",
       "mean       0.383838\n",
       "std        0.486592\n",
       "min        0.000000\n",
       "25%        0.000000\n",
       "50%        0.000000\n",
       "75%        1.000000\n",
       "max        1.000000\n",
       "Name: Survived, dtype: float64"
      ]
     },
     "execution_count": 28,
     "metadata": {},
     "output_type": "execute_result"
    }
   ],
   "source": [
    "titanic_train['Survived'].describe()"
   ]
  },
  {
   "cell_type": "code",
   "execution_count": 29,
   "id": "fb60386f",
   "metadata": {
    "execution": {
     "iopub.execute_input": "2025-02-25T06:46:46.967863Z",
     "iopub.status.busy": "2025-02-25T06:46:46.967547Z",
     "iopub.status.idle": "2025-02-25T06:46:46.979575Z",
     "shell.execute_reply": "2025-02-25T06:46:46.978833Z"
    },
    "papermill": {
     "duration": 0.025213,
     "end_time": "2025-02-25T06:46:46.981485",
     "exception": false,
     "start_time": "2025-02-25T06:46:46.956272",
     "status": "completed"
    },
    "tags": []
   },
   "outputs": [
    {
     "data": {
      "text/html": [
       "<div>\n",
       "<style scoped>\n",
       "    .dataframe tbody tr th:only-of-type {\n",
       "        vertical-align: middle;\n",
       "    }\n",
       "\n",
       "    .dataframe tbody tr th {\n",
       "        vertical-align: top;\n",
       "    }\n",
       "\n",
       "    .dataframe thead th {\n",
       "        text-align: right;\n",
       "    }\n",
       "</style>\n",
       "<table border=\"1\" class=\"dataframe\">\n",
       "  <thead>\n",
       "    <tr style=\"text-align: right;\">\n",
       "      <th></th>\n",
       "      <th>counts</th>\n",
       "      <th>freqs</th>\n",
       "    </tr>\n",
       "    <tr>\n",
       "      <th>categories</th>\n",
       "      <th></th>\n",
       "      <th></th>\n",
       "    </tr>\n",
       "  </thead>\n",
       "  <tbody>\n",
       "    <tr>\n",
       "      <th>Died</th>\n",
       "      <td>549</td>\n",
       "      <td>0.616162</td>\n",
       "    </tr>\n",
       "    <tr>\n",
       "      <th>Survived</th>\n",
       "      <td>342</td>\n",
       "      <td>0.383838</td>\n",
       "    </tr>\n",
       "  </tbody>\n",
       "</table>\n",
       "</div>"
      ],
      "text/plain": [
       "            counts     freqs\n",
       "categories                  \n",
       "Died           549  0.616162\n",
       "Survived       342  0.383838"
      ]
     },
     "execution_count": 29,
     "metadata": {},
     "output_type": "execute_result"
    }
   ],
   "source": [
    "new_survived = pd.Categorical(titanic_train['Survived']) \n",
    "new_survived = new_survived.rename_categories(['Died', 'Survived'])  \n",
    "\n",
    "new_survived.describe()  "
   ]
  },
  {
   "cell_type": "markdown",
   "id": "e1fc36f5",
   "metadata": {
    "papermill": {
     "duration": 0.009781,
     "end_time": "2025-02-25T06:46:47.002256",
     "exception": false,
     "start_time": "2025-02-25T06:46:46.992475",
     "status": "completed"
    },
    "tags": []
   },
   "source": [
    "1. Survived looks a little nicer as a categorical variable with appropriate category names.\n",
    "2. But we're not going to change it.\n",
    "   \n",
    "3.  If you remember, our goal with this data set is to predict survival for the Kaggle competition.\n",
    "   \n",
    "4.  It turns out that when submitting predictions for the competition, the predictions need to be encoded as 0 or 1.\n",
    "  \n",
    "6. It would only complicate things to transform Survived, only to convert it back to 0 and 1 later. "
   ]
  },
  {
   "cell_type": "markdown",
   "id": "4762b1a9",
   "metadata": {
    "papermill": {
     "duration": 0.008781,
     "end_time": "2025-02-25T06:46:47.022084",
     "exception": false,
     "start_time": "2025-02-25T06:46:47.013303",
     "status": "completed"
    },
    "tags": []
   },
   "source": [
    "1. There's one more variable that has questionable data encoding: Pclass.\n",
    "\n",
    "2. 1st class would be considered \"above\" or \"higher\" than second class.\n",
    "\n",
    "3. But when encoded as an integer, 1 comes before 2.\n",
    "\n",
    "4.  We can fix this by transforming Pclass into an ordered categorical variable: "
   ]
  },
  {
   "cell_type": "code",
   "execution_count": 30,
   "id": "d16c32d6",
   "metadata": {
    "execution": {
     "iopub.execute_input": "2025-02-25T06:46:47.041798Z",
     "iopub.status.busy": "2025-02-25T06:46:47.041509Z",
     "iopub.status.idle": "2025-02-25T06:46:47.051526Z",
     "shell.execute_reply": "2025-02-25T06:46:47.050388Z"
    },
    "papermill": {
     "duration": 0.02183,
     "end_time": "2025-02-25T06:46:47.053178",
     "exception": false,
     "start_time": "2025-02-25T06:46:47.031348",
     "status": "completed"
    },
    "tags": []
   },
   "outputs": [
    {
     "data": {
      "text/plain": [
       "count        891\n",
       "unique         3\n",
       "top       Class3\n",
       "freq         491\n",
       "Name: Pclass, dtype: object"
      ]
     },
     "execution_count": 30,
     "metadata": {},
     "output_type": "execute_result"
    }
   ],
   "source": [
    "new_Pclass = pd.Categorical(titanic_train['Pclass'], \n",
    "                           ordered = True) \n",
    "\n",
    "new_Pclass = new_Pclass.rename_categories(['Class1', 'Class2', 'Class3']) \n",
    "\n",
    "titanic_train['Pclass'] = new_Pclass  \n",
    "titanic_train['Pclass'].describe()\n",
    "  "
   ]
  },
  {
   "cell_type": "code",
   "execution_count": 31,
   "id": "ca4bc5d8",
   "metadata": {
    "execution": {
     "iopub.execute_input": "2025-02-25T06:46:47.077373Z",
     "iopub.status.busy": "2025-02-25T06:46:47.077031Z",
     "iopub.status.idle": "2025-02-25T06:46:47.086386Z",
     "shell.execute_reply": "2025-02-25T06:46:47.084830Z"
    },
    "papermill": {
     "duration": 0.024251,
     "end_time": "2025-02-25T06:46:47.088503",
     "exception": false,
     "start_time": "2025-02-25T06:46:47.064252",
     "status": "completed"
    },
    "tags": []
   },
   "outputs": [
    {
     "data": {
      "text/html": [
       "<div>\n",
       "<style scoped>\n",
       "    .dataframe tbody tr th:only-of-type {\n",
       "        vertical-align: middle;\n",
       "    }\n",
       "\n",
       "    .dataframe tbody tr th {\n",
       "        vertical-align: top;\n",
       "    }\n",
       "\n",
       "    .dataframe thead th {\n",
       "        text-align: right;\n",
       "    }\n",
       "</style>\n",
       "<table border=\"1\" class=\"dataframe\">\n",
       "  <thead>\n",
       "    <tr style=\"text-align: right;\">\n",
       "      <th></th>\n",
       "      <th>counts</th>\n",
       "      <th>freqs</th>\n",
       "    </tr>\n",
       "    <tr>\n",
       "      <th>categories</th>\n",
       "      <th></th>\n",
       "      <th></th>\n",
       "    </tr>\n",
       "  </thead>\n",
       "  <tbody>\n",
       "    <tr>\n",
       "      <th>Class1</th>\n",
       "      <td>216</td>\n",
       "      <td>0.242424</td>\n",
       "    </tr>\n",
       "    <tr>\n",
       "      <th>Class2</th>\n",
       "      <td>184</td>\n",
       "      <td>0.206510</td>\n",
       "    </tr>\n",
       "    <tr>\n",
       "      <th>Class3</th>\n",
       "      <td>491</td>\n",
       "      <td>0.551066</td>\n",
       "    </tr>\n",
       "  </tbody>\n",
       "</table>\n",
       "</div>"
      ],
      "text/plain": [
       "            counts     freqs\n",
       "categories                  \n",
       "Class1         216  0.242424\n",
       "Class2         184  0.206510\n",
       "Class3         491  0.551066"
      ]
     },
     "execution_count": 31,
     "metadata": {},
     "output_type": "execute_result"
    }
   ],
   "source": [
    "new_Pclass.describe() "
   ]
  },
  {
   "cell_type": "code",
   "execution_count": 32,
   "id": "e7d16191",
   "metadata": {
    "execution": {
     "iopub.execute_input": "2025-02-25T06:46:47.110630Z",
     "iopub.status.busy": "2025-02-25T06:46:47.110342Z",
     "iopub.status.idle": "2025-02-25T06:46:47.114891Z",
     "shell.execute_reply": "2025-02-25T06:46:47.113711Z"
    },
    "papermill": {
     "duration": 0.017019,
     "end_time": "2025-02-25T06:46:47.116425",
     "exception": false,
     "start_time": "2025-02-25T06:46:47.099406",
     "status": "completed"
    },
    "tags": []
   },
   "outputs": [
    {
     "name": "stdout",
     "output_type": "stream",
     "text": [
      "Index(['Class1', 'Class2', 'Class3'], dtype='object')\n"
     ]
    }
   ],
   "source": [
    "print(new_Pclass.categories)  "
   ]
  },
  {
   "cell_type": "code",
   "execution_count": 33,
   "id": "4256e1e1",
   "metadata": {
    "execution": {
     "iopub.execute_input": "2025-02-25T06:46:47.137960Z",
     "iopub.status.busy": "2025-02-25T06:46:47.137645Z",
     "iopub.status.idle": "2025-02-25T06:46:47.142669Z",
     "shell.execute_reply": "2025-02-25T06:46:47.141264Z"
    },
    "papermill": {
     "duration": 0.017564,
     "end_time": "2025-02-25T06:46:47.144431",
     "exception": false,
     "start_time": "2025-02-25T06:46:47.126867",
     "status": "completed"
    },
    "tags": []
   },
   "outputs": [
    {
     "name": "stdout",
     "output_type": "stream",
     "text": [
      "True\n"
     ]
    }
   ],
   "source": [
    "print(new_Pclass[0] > new_Pclass[1]) "
   ]
  },
  {
   "cell_type": "markdown",
   "id": "36f9f4e4",
   "metadata": {
    "papermill": {
     "duration": 0.010066,
     "end_time": "2025-02-25T06:46:47.165593",
     "exception": false,
     "start_time": "2025-02-25T06:46:47.155527",
     "status": "completed"
    },
    "tags": []
   },
   "source": [
    "1. Now revisit the Cabin variable.\n",
    "  \n",
    "2. It appears that each Cabin is indicated by the capital letter at the start of each factor level."
   ]
  },
  {
   "cell_type": "code",
   "execution_count": 34,
   "id": "285d4e4e",
   "metadata": {
    "execution": {
     "iopub.execute_input": "2025-02-25T06:46:47.187460Z",
     "iopub.status.busy": "2025-02-25T06:46:47.187089Z",
     "iopub.status.idle": "2025-02-25T06:46:47.193756Z",
     "shell.execute_reply": "2025-02-25T06:46:47.192200Z"
    },
    "papermill": {
     "duration": 0.019926,
     "end_time": "2025-02-25T06:46:47.195782",
     "exception": false,
     "start_time": "2025-02-25T06:46:47.175856",
     "status": "completed"
    },
    "tags": []
   },
   "outputs": [
    {
     "name": "stdout",
     "output_type": "stream",
     "text": [
      "[nan 'C85' 'C123' 'E46' 'G6' 'C103' 'D56' 'A6' 'C23 C25 C27' 'B78' 'D33'\n",
      " 'B30' 'C52' 'B28' 'C83' 'F33' 'F G73' 'E31' 'A5' 'D10 D12' 'D26' 'C110'\n",
      " 'B58 B60' 'E101' 'F E69' 'D47' 'B86' 'F2' 'C2' 'E33' 'B19' 'A7' 'C49'\n",
      " 'F4' 'A32' 'B4' 'B80' 'A31' 'D36' 'D15' 'C93' 'C78' 'D35' 'C87' 'B77'\n",
      " 'E67' 'B94' 'C125' 'C99' 'C118' 'D7' 'A19' 'B49' 'D' 'C22 C26' 'C106'\n",
      " 'C65' 'E36' 'C54' 'B57 B59 B63 B66' 'C7' 'E34' 'C32' 'B18' 'C124' 'C91'\n",
      " 'E40' 'T' 'C128' 'D37' 'B35' 'E50' 'C82' 'B96 B98' 'E10' 'E44' 'A34'\n",
      " 'C104' 'C111' 'C92' 'E38' 'D21' 'E12' 'E63' 'A14' 'B37' 'C30' 'D20' 'B79'\n",
      " 'E25' 'D46' 'B73' 'C95' 'B38' 'B39' 'B22' 'C86' 'C70' 'A16' 'C101' 'C68'\n",
      " 'A10' 'E68' 'B41' 'A20' 'D19' 'D50' 'D9' 'A23' 'B50' 'A26' 'D48' 'E58'\n",
      " 'C126' 'B71' 'B51 B53 B55' 'D49' 'B5' 'B20' 'F G63' 'C62 C64' 'E24' 'C90'\n",
      " 'C45' 'E8' 'B101' 'D45' 'C46' 'D30' 'E121' 'D11' 'E77' 'F38' 'B3' 'D6'\n",
      " 'B82 B84' 'D17' 'A36' 'B102' 'B69' 'E49' 'C47' 'D28' 'E17' 'A24' 'C50'\n",
      " 'B42' 'C148']\n"
     ]
    }
   ],
   "source": [
    "# Check unique cabins  \n",
    "\n",
    "unique_cabin = titanic_train['Cabin'].unique() \n",
    "print(unique_cabin) "
   ]
  },
  {
   "cell_type": "code",
   "execution_count": 35,
   "id": "37787d94",
   "metadata": {
    "execution": {
     "iopub.execute_input": "2025-02-25T06:46:47.219125Z",
     "iopub.status.busy": "2025-02-25T06:46:47.218735Z",
     "iopub.status.idle": "2025-02-25T06:46:47.223743Z",
     "shell.execute_reply": "2025-02-25T06:46:47.222506Z"
    },
    "papermill": {
     "duration": 0.018062,
     "end_time": "2025-02-25T06:46:47.225111",
     "exception": false,
     "start_time": "2025-02-25T06:46:47.207049",
     "status": "completed"
    },
    "tags": []
   },
   "outputs": [
    {
     "name": "stdout",
     "output_type": "stream",
     "text": [
      "<class 'numpy.ndarray'>\n"
     ]
    }
   ],
   "source": [
    "print(type(unique_cabin)) \n",
    "\n",
    "# 'numpy.ndarray' object has no attribute 'describe' "
   ]
  },
  {
   "cell_type": "code",
   "execution_count": 36,
   "id": "0c012a78",
   "metadata": {
    "execution": {
     "iopub.execute_input": "2025-02-25T06:46:47.247414Z",
     "iopub.status.busy": "2025-02-25T06:46:47.246995Z",
     "iopub.status.idle": "2025-02-25T06:46:47.251741Z",
     "shell.execute_reply": "2025-02-25T06:46:47.250285Z"
    },
    "papermill": {
     "duration": 0.017418,
     "end_time": "2025-02-25T06:46:47.253106",
     "exception": false,
     "start_time": "2025-02-25T06:46:47.235688",
     "status": "completed"
    },
    "tags": []
   },
   "outputs": [
    {
     "name": "stdout",
     "output_type": "stream",
     "text": [
      "<class 'pandas.core.series.Series'>\n"
     ]
    }
   ],
   "source": [
    "\n",
    "print(type(titanic_train['Cabin'])) "
   ]
  },
  {
   "cell_type": "markdown",
   "id": "6ff543f8",
   "metadata": {
    "papermill": {
     "duration": 0.010177,
     "end_time": "2025-02-25T06:46:47.274113",
     "exception": false,
     "start_time": "2025-02-25T06:46:47.263936",
     "status": "completed"
    },
    "tags": []
   },
   "source": [
    "1. If we grouped cabins just by this letter, \n",
    "\n",
    "2. We could reduce the number of levels while potentially extracting some useful information. "
   ]
  },
  {
   "cell_type": "code",
   "execution_count": 37,
   "id": "2cec7017",
   "metadata": {
    "execution": {
     "iopub.execute_input": "2025-02-25T06:46:47.296382Z",
     "iopub.status.busy": "2025-02-25T06:46:47.296035Z",
     "iopub.status.idle": "2025-02-25T06:46:47.307318Z",
     "shell.execute_reply": "2025-02-25T06:46:47.306260Z"
    },
    "papermill": {
     "duration": 0.024166,
     "end_time": "2025-02-25T06:46:47.308844",
     "exception": false,
     "start_time": "2025-02-25T06:46:47.284678",
     "status": "completed"
    },
    "tags": []
   },
   "outputs": [
    {
     "data": {
      "text/html": [
       "<div>\n",
       "<style scoped>\n",
       "    .dataframe tbody tr th:only-of-type {\n",
       "        vertical-align: middle;\n",
       "    }\n",
       "\n",
       "    .dataframe tbody tr th {\n",
       "        vertical-align: top;\n",
       "    }\n",
       "\n",
       "    .dataframe thead th {\n",
       "        text-align: right;\n",
       "    }\n",
       "</style>\n",
       "<table border=\"1\" class=\"dataframe\">\n",
       "  <thead>\n",
       "    <tr style=\"text-align: right;\">\n",
       "      <th></th>\n",
       "      <th>counts</th>\n",
       "      <th>freqs</th>\n",
       "    </tr>\n",
       "    <tr>\n",
       "      <th>categories</th>\n",
       "      <th></th>\n",
       "      <th></th>\n",
       "    </tr>\n",
       "  </thead>\n",
       "  <tbody>\n",
       "    <tr>\n",
       "      <th>A</th>\n",
       "      <td>15</td>\n",
       "      <td>0.016835</td>\n",
       "    </tr>\n",
       "    <tr>\n",
       "      <th>B</th>\n",
       "      <td>47</td>\n",
       "      <td>0.052750</td>\n",
       "    </tr>\n",
       "    <tr>\n",
       "      <th>C</th>\n",
       "      <td>59</td>\n",
       "      <td>0.066218</td>\n",
       "    </tr>\n",
       "    <tr>\n",
       "      <th>D</th>\n",
       "      <td>33</td>\n",
       "      <td>0.037037</td>\n",
       "    </tr>\n",
       "    <tr>\n",
       "      <th>E</th>\n",
       "      <td>32</td>\n",
       "      <td>0.035915</td>\n",
       "    </tr>\n",
       "    <tr>\n",
       "      <th>F</th>\n",
       "      <td>13</td>\n",
       "      <td>0.014590</td>\n",
       "    </tr>\n",
       "    <tr>\n",
       "      <th>G</th>\n",
       "      <td>4</td>\n",
       "      <td>0.004489</td>\n",
       "    </tr>\n",
       "    <tr>\n",
       "      <th>T</th>\n",
       "      <td>1</td>\n",
       "      <td>0.001122</td>\n",
       "    </tr>\n",
       "    <tr>\n",
       "      <th>n</th>\n",
       "      <td>687</td>\n",
       "      <td>0.771044</td>\n",
       "    </tr>\n",
       "  </tbody>\n",
       "</table>\n",
       "</div>"
      ],
      "text/plain": [
       "            counts     freqs\n",
       "categories                  \n",
       "A               15  0.016835\n",
       "B               47  0.052750\n",
       "C               59  0.066218\n",
       "D               33  0.037037\n",
       "E               32  0.035915\n",
       "F               13  0.014590\n",
       "G                4  0.004489\n",
       "T                1  0.001122\n",
       "n              687  0.771044"
      ]
     },
     "execution_count": 37,
     "metadata": {},
     "output_type": "execute_result"
    }
   ],
   "source": [
    "# 1. Convert data type to str  \n",
    "char_cabin = titanic_train['Cabin'].astype(str)\n",
    "\n",
    "# 2. Take the first letter \n",
    "new_cabin = np.array([cabin[0] for cabin in char_cabin]) \n",
    "\n",
    "new_cabin = pd.Categorical(new_cabin)  \n",
    "\n",
    "new_cabin.describe() "
   ]
  },
  {
   "cell_type": "markdown",
   "id": "1df8ba17",
   "metadata": {
    "papermill": {
     "duration": 0.010563,
     "end_time": "2025-02-25T06:46:47.330387",
     "exception": false,
     "start_time": "2025-02-25T06:46:47.319824",
     "status": "completed"
    },
    "tags": []
   },
   "source": [
    "1. 688 of the records have Cabin are \"n\" which is shortened from \"nan\". In other words, more than 2/3 of the passengers do not have a cabin listed at all.\n",
    "   \n",
    "2.  Discovering and deciding how to handle these sorts of peculiarities is an important part working with data and there often isn't a single correct answer.\n",
    "\n",
    "3.  Since there are so many missing values, the Cabin variable might be devoid of useful information for prediction.\n",
    "\n",
    "4.  On the other hand, a missing cabin variable could be an indication that a passenger died: after all, how would we know what cabin a passenger stayed in if they weren't around to tell the tale?\n",
    "\n"
   ]
  },
  {
   "cell_type": "code",
   "execution_count": 38,
   "id": "8e6e1f41",
   "metadata": {
    "execution": {
     "iopub.execute_input": "2025-02-25T06:46:47.352442Z",
     "iopub.status.busy": "2025-02-25T06:46:47.352048Z",
     "iopub.status.idle": "2025-02-25T06:46:47.357349Z",
     "shell.execute_reply": "2025-02-25T06:46:47.356036Z"
    },
    "papermill": {
     "duration": 0.017969,
     "end_time": "2025-02-25T06:46:47.358782",
     "exception": false,
     "start_time": "2025-02-25T06:46:47.340813",
     "status": "completed"
    },
    "tags": []
   },
   "outputs": [],
   "source": [
    "titanic_train['Cabin'] = new_cabin"
   ]
  },
  {
   "cell_type": "markdown",
   "id": "4ee5b442",
   "metadata": {
    "papermill": {
     "duration": 0.010147,
     "end_time": "2025-02-25T06:46:47.379960",
     "exception": false,
     "start_time": "2025-02-25T06:46:47.369813",
     "status": "completed"
    },
    "tags": []
   },
   "source": [
    "# Are there NA Values, Outliers or Other Strange Values?"
   ]
  },
  {
   "cell_type": "code",
   "execution_count": 39,
   "id": "b7ea06b8",
   "metadata": {
    "execution": {
     "iopub.execute_input": "2025-02-25T06:46:47.402751Z",
     "iopub.status.busy": "2025-02-25T06:46:47.402427Z",
     "iopub.status.idle": "2025-02-25T06:46:47.407022Z",
     "shell.execute_reply": "2025-02-25T06:46:47.405458Z"
    },
    "papermill": {
     "duration": 0.018325,
     "end_time": "2025-02-25T06:46:47.409025",
     "exception": false,
     "start_time": "2025-02-25T06:46:47.390700",
     "status": "completed"
    },
    "tags": []
   },
   "outputs": [],
   "source": [
    "# In Python, you can detect missing values with:\n",
    "\n",
    "# pd.isnull() function: "
   ]
  },
  {
   "cell_type": "code",
   "execution_count": 40,
   "id": "8ffe1f91",
   "metadata": {
    "execution": {
     "iopub.execute_input": "2025-02-25T06:46:47.431801Z",
     "iopub.status.busy": "2025-02-25T06:46:47.431502Z",
     "iopub.status.idle": "2025-02-25T06:46:47.439804Z",
     "shell.execute_reply": "2025-02-25T06:46:47.438573Z"
    },
    "papermill": {
     "duration": 0.021278,
     "end_time": "2025-02-25T06:46:47.441089",
     "exception": false,
     "start_time": "2025-02-25T06:46:47.419811",
     "status": "completed"
    },
    "tags": []
   },
   "outputs": [
    {
     "data": {
      "text/plain": [
       "0    False\n",
       "1     True\n",
       "2     True\n",
       "3    False\n",
       "4    False\n",
       "5     True\n",
       "dtype: bool"
      ]
     },
     "execution_count": 40,
     "metadata": {},
     "output_type": "execute_result"
    }
   ],
   "source": [
    "# For instance: \n",
    "\n",
    "dummy_vector = pd.Series([1, None, None, 4, 7, None]) \n",
    "pd.isnull(dummy_vector) "
   ]
  },
  {
   "cell_type": "markdown",
   "id": "d99bd13e",
   "metadata": {
    "papermill": {
     "duration": 0.009839,
     "end_time": "2025-02-25T06:46:47.461976",
     "exception": false,
     "start_time": "2025-02-25T06:46:47.452137",
     "status": "completed"
    },
    "tags": []
   },
   "source": [
    "1. Missing values in categorical data are not particularly troubling because you can simply treat NA as an additional category. \n",
    "\n",
    "2. Missing values in numeric variables are more troublesome, since you can't just treat a missing value as number.\n",
    "\n",
    "3. Titanic dataset has some NA's in the Age variable: "
   ]
  },
  {
   "cell_type": "code",
   "execution_count": 41,
   "id": "5c94eae8",
   "metadata": {
    "execution": {
     "iopub.execute_input": "2025-02-25T06:46:47.484034Z",
     "iopub.status.busy": "2025-02-25T06:46:47.483748Z",
     "iopub.status.idle": "2025-02-25T06:46:47.491490Z",
     "shell.execute_reply": "2025-02-25T06:46:47.490685Z"
    },
    "papermill": {
     "duration": 0.020027,
     "end_time": "2025-02-25T06:46:47.492687",
     "exception": false,
     "start_time": "2025-02-25T06:46:47.472660",
     "status": "completed"
    },
    "tags": []
   },
   "outputs": [
    {
     "data": {
      "text/plain": [
       "count    714.000000\n",
       "mean      29.699118\n",
       "std       14.526497\n",
       "min        0.420000\n",
       "25%       20.125000\n",
       "50%       28.000000\n",
       "75%       38.000000\n",
       "max       80.000000\n",
       "Name: Age, dtype: float64"
      ]
     },
     "execution_count": 41,
     "metadata": {},
     "output_type": "execute_result"
    }
   ],
   "source": [
    "titanic_train['Age'].describe()"
   ]
  },
  {
   "cell_type": "markdown",
   "id": "e88c2bd9",
   "metadata": {
    "papermill": {
     "duration": 0.009986,
     "end_time": "2025-02-25T06:46:47.513668",
     "exception": false,
     "start_time": "2025-02-25T06:46:47.503682",
     "status": "completed"
    },
    "tags": []
   },
   "source": [
    "1. the count of age(712) is less than the total row count of data set(889).\n",
    "   \n",
    "2. This indicates missing data.\n",
    "\n",
    "3. Using **np.where()** to get the row indexes of the missing values "
   ]
  },
  {
   "cell_type": "code",
   "execution_count": 42,
   "id": "ba92c857",
   "metadata": {
    "execution": {
     "iopub.execute_input": "2025-02-25T06:46:47.535403Z",
     "iopub.status.busy": "2025-02-25T06:46:47.535024Z",
     "iopub.status.idle": "2025-02-25T06:46:47.541328Z",
     "shell.execute_reply": "2025-02-25T06:46:47.540314Z"
    },
    "papermill": {
     "duration": 0.01967,
     "end_time": "2025-02-25T06:46:47.543279",
     "exception": false,
     "start_time": "2025-02-25T06:46:47.523609",
     "status": "completed"
    },
    "tags": []
   },
   "outputs": [
    {
     "data": {
      "text/plain": [
       "(array([  5,  17,  19,  26,  28,  29,  31,  32,  36,  42,  45,  46,  47,\n",
       "         48,  55,  64,  65,  76,  77,  82,  87,  95, 101, 107, 109, 121,\n",
       "        126, 128, 140, 154, 158, 159, 166, 168, 176, 180, 181, 185, 186,\n",
       "        196, 198, 201, 214, 223, 229, 235, 240, 241, 250, 256, 260, 264,\n",
       "        270, 274, 277, 284, 295, 298, 300, 301, 303, 304, 306, 324, 330,\n",
       "        334, 335, 347, 351, 354, 358, 359, 364, 367, 368, 375, 384, 388,\n",
       "        409, 410, 411, 413, 415, 420, 425, 428, 431, 444, 451, 454, 457,\n",
       "        459, 464, 466, 468, 470, 475, 481, 485, 490, 495, 497, 502, 507,\n",
       "        511, 517, 522, 524, 527, 531, 533, 538, 547, 552, 557, 560, 563,\n",
       "        564, 568, 573, 578, 584, 589, 593, 596, 598, 601, 602, 611, 612,\n",
       "        613, 629, 633, 639, 643, 648, 650, 653, 656, 667, 669, 674, 680,\n",
       "        692, 697, 709, 711, 718, 727, 732, 738, 739, 740, 760, 766, 768,\n",
       "        773, 776, 778, 783, 790, 792, 793, 815, 825, 826, 828, 832, 837,\n",
       "        839, 846, 849, 859, 863, 868, 878, 888]),)"
      ]
     },
     "execution_count": 42,
     "metadata": {},
     "output_type": "execute_result"
    }
   ],
   "source": [
    "missing = np.where(titanic_train['Age'].isnull() == True)   # index wrapped with np.where()\n",
    "missing"
   ]
  },
  {
   "cell_type": "code",
   "execution_count": 43,
   "id": "16b0eb32",
   "metadata": {
    "execution": {
     "iopub.execute_input": "2025-02-25T06:46:47.567009Z",
     "iopub.status.busy": "2025-02-25T06:46:47.566632Z",
     "iopub.status.idle": "2025-02-25T06:46:47.572707Z",
     "shell.execute_reply": "2025-02-25T06:46:47.571474Z"
    },
    "papermill": {
     "duration": 0.019875,
     "end_time": "2025-02-25T06:46:47.574551",
     "exception": false,
     "start_time": "2025-02-25T06:46:47.554676",
     "status": "completed"
    },
    "tags": []
   },
   "outputs": [
    {
     "data": {
      "text/plain": [
       "177"
      ]
     },
     "execution_count": 43,
     "metadata": {},
     "output_type": "execute_result"
    }
   ],
   "source": [
    "# missing is a tuple that contains a single element, \n",
    "# which is the array of indices where Age is NaN. \n",
    "# access missing[0] --> retrieve the array of indices.  \n",
    " \n",
    "len(missing[0])  "
   ]
  },
  {
   "cell_type": "markdown",
   "id": "93beb525",
   "metadata": {
    "papermill": {
     "duration": 0.010166,
     "end_time": "2025-02-25T06:46:47.595799",
     "exception": false,
     "start_time": "2025-02-25T06:46:47.585633",
     "status": "completed"
    },
    "tags": []
   },
   "source": [
    "**With 177 missing values it's probably not a good idea to throw all those records away. Here are a few ways we could deal with them:**\n",
    "\n",
    "1. Replace the null values with 0s\n",
    "2. Replace the null values with some central value like the mean or median\n",
    "3. Impute some other value\n",
    "4. Split the data set into two parts: one set with where records have an Age value and another set where age is null.\n",
    "\n",
    "\n",
    "\n",
    "* Setting missing values in numeric data to zero makes sense in some cases, but it doesn't make any sense here because a person's age can't be zero.\n",
    "* Setting all ages to some central number like the median is a simple fix but there's no telling whether such a central number is a reasonable estimate of age without looking at the distribution of ages.\n",
    "* For all we know each age is equally common.\n",
    "* So, quickly get a sense of the distribution of ages by creating a histogram of the age variable with df.hist():\n",
    "\n"
   ]
  },
  {
   "cell_type": "code",
   "execution_count": 44,
   "id": "8765afda",
   "metadata": {
    "execution": {
     "iopub.execute_input": "2025-02-25T06:46:47.618216Z",
     "iopub.status.busy": "2025-02-25T06:46:47.617808Z",
     "iopub.status.idle": "2025-02-25T06:46:47.946569Z",
     "shell.execute_reply": "2025-02-25T06:46:47.945763Z"
    },
    "papermill": {
     "duration": 0.34157,
     "end_time": "2025-02-25T06:46:47.948041",
     "exception": false,
     "start_time": "2025-02-25T06:46:47.606471",
     "status": "completed"
    },
    "tags": []
   },
   "outputs": [
    {
     "data": {
      "text/plain": [
       "array([[<Axes: title={'center': 'Age'}>]], dtype=object)"
      ]
     },
     "execution_count": 44,
     "metadata": {},
     "output_type": "execute_result"
    },
    {
     "data": {
      "image/png": "[encoded data removed]",
      "text/plain": [
       "<Figure size 700x400 with 1 Axes>"
      ]
     },
     "metadata": {},
     "output_type": "display_data"
    }
   ],
   "source": [
    "# Three elements in the plot:\n",
    "# 1. Column to plot \n",
    "# 2. Size of plot \n",
    "# 3. Number of bins in a histogram \n",
    "\n",
    "titanic_train.hist(column = \"Age\", \n",
    "                   figsize = (7, 4), \n",
    "                    bins = 20 \n",
    "                    )  "
   ]
  },
  {
   "cell_type": "markdown",
   "id": "4bb5f451",
   "metadata": {
    "papermill": {
     "duration": 0.01318,
     "end_time": "2025-02-25T06:46:47.973041",
     "exception": false,
     "start_time": "2025-02-25T06:46:47.959861",
     "status": "completed"
    },
    "tags": []
   },
   "source": [
    "1. From the histogram, we see that ages between 20 and 30 are the most common, so filling in missing values with a central number like the mean or median wouldn't be entirely unreasonable.\n",
    "\n",
    "2. Let's fill in the missing values with the median value of 28:\n",
    "\n",
    "\n"
   ]
  },
  {
   "cell_type": "code",
   "execution_count": 45,
   "id": "c85081bb",
   "metadata": {
    "execution": {
     "iopub.execute_input": "2025-02-25T06:46:47.999367Z",
     "iopub.status.busy": "2025-02-25T06:46:47.999007Z",
     "iopub.status.idle": "2025-02-25T06:46:48.009411Z",
     "shell.execute_reply": "2025-02-25T06:46:48.008528Z"
    },
    "papermill": {
     "duration": 0.024797,
     "end_time": "2025-02-25T06:46:48.011213",
     "exception": false,
     "start_time": "2025-02-25T06:46:47.986416",
     "status": "completed"
    },
    "tags": []
   },
   "outputs": [
    {
     "data": {
      "text/plain": [
       "count    891.000000\n",
       "mean      29.361582\n",
       "std       13.019697\n",
       "min        0.420000\n",
       "25%       22.000000\n",
       "50%       28.000000\n",
       "75%       35.000000\n",
       "max       80.000000\n",
       "Name: Age, dtype: float64"
      ]
     },
     "execution_count": 45,
     "metadata": {},
     "output_type": "execute_result"
    }
   ],
   "source": [
    "# 1. logical check \n",
    "# 2. value if check is True, \n",
    "# 3. value if the check is False. \n",
    "\n",
    "\n",
    "new_age_var = np.where (titanic_train['Age'].isnull(),           \n",
    "                        28,                                     \n",
    "                        titanic_train['Age'] \n",
    "                       )\n",
    "\n",
    "titanic_train[\"Age\"] = new_age_var \n",
    "\n",
    "titanic_train['Age'].describe()   \n",
    "\n"
   ]
  },
  {
   "cell_type": "code",
   "execution_count": 46,
   "id": "5efe4593",
   "metadata": {
    "execution": {
     "iopub.execute_input": "2025-02-25T06:46:48.034442Z",
     "iopub.status.busy": "2025-02-25T06:46:48.034043Z",
     "iopub.status.idle": "2025-02-25T06:46:48.221134Z",
     "shell.execute_reply": "2025-02-25T06:46:48.219909Z"
    },
    "papermill": {
     "duration": 0.200252,
     "end_time": "2025-02-25T06:46:48.222701",
     "exception": false,
     "start_time": "2025-02-25T06:46:48.022449",
     "status": "completed"
    },
    "tags": []
   },
   "outputs": [
    {
     "data": {
      "text/plain": [
       "array([[<Axes: title={'center': 'Age'}>]], dtype=object)"
      ]
     },
     "execution_count": 46,
     "metadata": {},
     "output_type": "execute_result"
    },
    {
     "data": {
      "image/png": "[encoded data removed]",
      "text/plain": [
       "<Figure size 700x400 with 1 Axes>"
      ]
     },
     "metadata": {},
     "output_type": "display_data"
    }
   ],
   "source": [
    "titanic_train.hist(column = 'Age', \n",
    "                   figsize = (7, 4),\n",
    "                   bins = 20 \n",
    "    \n",
    ")"
   ]
  },
  {
   "cell_type": "markdown",
   "id": "63ab07bd",
   "metadata": {
    "papermill": {
     "duration": 0.01079,
     "end_time": "2025-02-25T06:46:48.245537",
     "exception": false,
     "start_time": "2025-02-25T06:46:48.234747",
     "status": "completed"
    },
    "tags": []
   },
   "source": [
    "1. Let's consider outliers. Outliers are extreme numerical values: values that lie far away from the typical values a variable takes on.\n",
    "   \n",
    "2. Creating plots is one of the quickest ways to detect outliers.\n",
    "\n",
    "   \n",
    "3. For instance, the histogram above shows that 1 or 2 passengers were near age 80.    "
   ]
  },
  {
   "cell_type": "markdown",
   "id": "b2239fd6",
   "metadata": {
    "papermill": {
     "duration": 0.010486,
     "end_time": "2025-02-25T06:46:48.267092",
     "exception": false,
     "start_time": "2025-02-25T06:46:48.256606",
     "status": "completed"
    },
    "tags": []
   },
   "source": [
    "1. investigate the \"Fare\" variable.\n",
    "   \n",
    "2. use a boxplot to:  \n",
    "\n",
    "3. show the spread of the data\n",
    "\n",
    "4. help identify outliers.  "
   ]
  },
  {
   "cell_type": "code",
   "execution_count": 47,
   "id": "b5e80bed",
   "metadata": {
    "execution": {
     "iopub.execute_input": "2025-02-25T06:46:48.289828Z",
     "iopub.status.busy": "2025-02-25T06:46:48.289515Z",
     "iopub.status.idle": "2025-02-25T06:46:48.401497Z",
     "shell.execute_reply": "2025-02-25T06:46:48.400299Z"
    },
    "papermill": {
     "duration": 0.124876,
     "end_time": "2025-02-25T06:46:48.402839",
     "exception": false,
     "start_time": "2025-02-25T06:46:48.277963",
     "status": "completed"
    },
    "tags": []
   },
   "outputs": [
    {
     "data": {
      "text/plain": [
       "<Axes: >"
      ]
     },
     "execution_count": 47,
     "metadata": {},
     "output_type": "execute_result"
    },
    {
     "data": {
      "image/png": "[encoded data removed]",
      "text/plain": [
       "<Figure size 700x700 with 1 Axes>"
      ]
     },
     "metadata": {},
     "output_type": "display_data"
    }
   ],
   "source": [
    "titanic_train['Fare'].plot(kind = 'box', \n",
    "                           figsize = (7, 7 )\n",
    "                          ) "
   ]
  },
  {
   "cell_type": "code",
   "execution_count": 48,
   "id": "b9694e38",
   "metadata": {
    "execution": {
     "iopub.execute_input": "2025-02-25T06:46:48.428289Z",
     "iopub.status.busy": "2025-02-25T06:46:48.427902Z",
     "iopub.status.idle": "2025-02-25T06:46:48.443287Z",
     "shell.execute_reply": "2025-02-25T06:46:48.442247Z"
    },
    "papermill": {
     "duration": 0.029202,
     "end_time": "2025-02-25T06:46:48.444619",
     "exception": false,
     "start_time": "2025-02-25T06:46:48.415417",
     "status": "completed"
    },
    "tags": []
   },
   "outputs": [
    {
     "data": {
      "text/html": [
       "<div>\n",
       "<style scoped>\n",
       "    .dataframe tbody tr th:only-of-type {\n",
       "        vertical-align: middle;\n",
       "    }\n",
       "\n",
       "    .dataframe tbody tr th {\n",
       "        vertical-align: top;\n",
       "    }\n",
       "\n",
       "    .dataframe thead th {\n",
       "        text-align: right;\n",
       "    }\n",
       "</style>\n",
       "<table border=\"1\" class=\"dataframe\">\n",
       "  <thead>\n",
       "    <tr style=\"text-align: right;\">\n",
       "      <th></th>\n",
       "      <th>Survived</th>\n",
       "      <th>Pclass</th>\n",
       "      <th>Name</th>\n",
       "      <th>Sex</th>\n",
       "      <th>Age</th>\n",
       "      <th>SibSp</th>\n",
       "      <th>Parch</th>\n",
       "      <th>Fare</th>\n",
       "      <th>Cabin</th>\n",
       "      <th>Embarked</th>\n",
       "    </tr>\n",
       "  </thead>\n",
       "  <tbody>\n",
       "    <tr>\n",
       "      <th>258</th>\n",
       "      <td>1</td>\n",
       "      <td>Class1</td>\n",
       "      <td>Ward, Miss. Anna</td>\n",
       "      <td>female</td>\n",
       "      <td>35.0</td>\n",
       "      <td>0</td>\n",
       "      <td>0</td>\n",
       "      <td>512.3292</td>\n",
       "      <td>n</td>\n",
       "      <td>C</td>\n",
       "    </tr>\n",
       "    <tr>\n",
       "      <th>679</th>\n",
       "      <td>1</td>\n",
       "      <td>Class1</td>\n",
       "      <td>Cardeza, Mr. Thomas Drake Martinez</td>\n",
       "      <td>male</td>\n",
       "      <td>36.0</td>\n",
       "      <td>0</td>\n",
       "      <td>1</td>\n",
       "      <td>512.3292</td>\n",
       "      <td>B</td>\n",
       "      <td>C</td>\n",
       "    </tr>\n",
       "    <tr>\n",
       "      <th>737</th>\n",
       "      <td>1</td>\n",
       "      <td>Class1</td>\n",
       "      <td>Lesurer, Mr. Gustave J</td>\n",
       "      <td>male</td>\n",
       "      <td>35.0</td>\n",
       "      <td>0</td>\n",
       "      <td>0</td>\n",
       "      <td>512.3292</td>\n",
       "      <td>B</td>\n",
       "      <td>C</td>\n",
       "    </tr>\n",
       "  </tbody>\n",
       "</table>\n",
       "</div>"
      ],
      "text/plain": [
       "     Survived  Pclass                                Name     Sex   Age  \\\n",
       "258         1  Class1                    Ward, Miss. Anna  female  35.0   \n",
       "679         1  Class1  Cardeza, Mr. Thomas Drake Martinez    male  36.0   \n",
       "737         1  Class1              Lesurer, Mr. Gustave J    male  35.0   \n",
       "\n",
       "     SibSp  Parch      Fare Cabin Embarked  \n",
       "258      0      0  512.3292     n        C  \n",
       "679      0      1  512.3292     B        C  \n",
       "737      0      0  512.3292     B        C  "
      ]
     },
     "execution_count": 48,
     "metadata": {},
     "output_type": "execute_result"
    }
   ],
   "source": [
    "index = np.where(titanic_train['Fare'] == max(titanic_train['Fare'])) \n",
    "\n",
    "titanic_train.loc[index] "
   ]
  },
  {
   "cell_type": "code",
   "execution_count": null,
   "id": "0477c9ce",
   "metadata": {
    "papermill": {
     "duration": 0.011713,
     "end_time": "2025-02-25T06:46:48.468734",
     "exception": false,
     "start_time": "2025-02-25T06:46:48.457021",
     "status": "completed"
    },
    "tags": []
   },
   "outputs": [],
   "source": []
  }
 ],
 "metadata": {
  "kaggle": {
   "accelerator": "none",
   "dataSources": [
    {
     "datasetId": 6700123,
     "sourceId": 10795874,
     "sourceType": "datasetVersion"
    }
   ],
   "dockerImageVersionId": 30886,
   "isGpuEnabled": false,
   "isInternetEnabled": false,
   "language": "python",
   "sourceType": "notebook"
  },
  "kernelspec": {
   "display_name": "Python 3",
   "language": "python",
   "name": "python3"
  },
  "language_info": {
   "codemirror_mode": {
    "name": "ipython",
    "version": 3
   },
   "file_extension": ".py",
   "mimetype": "text/x-python",
   "name": "python",
   "nbconvert_exporter": "python",
   "pygments_lexer": "ipython3",
   "version": "3.10.12"
  },
  "papermill": {
   "default_parameters": {},
   "duration": 6.756895,
   "end_time": "2025-02-25T06:46:49.100603",
   "environment_variables": {},
   "exception": null,
   "input_path": "__notebook__.ipynb",
   "output_path": "__notebook__.ipynb",
   "parameters": {},
   "start_time": "2025-02-25T06:46:42.343708",
   "version": "2.6.0"
  }
 },
 "nbformat": 4,
 "nbformat_minor": 5
}
