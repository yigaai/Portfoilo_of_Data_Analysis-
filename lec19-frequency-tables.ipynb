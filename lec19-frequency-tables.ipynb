{
 "cells": [
  {
   "cell_type": "markdown",
   "id": "65855ef6",
   "metadata": {
    "execution": {
     "iopub.execute_input": "2025-03-01T06:03:19.191555Z",
     "iopub.status.busy": "2025-03-01T06:03:19.191205Z",
     "iopub.status.idle": "2025-03-01T06:03:19.612517Z",
     "shell.execute_reply": "2025-03-01T06:03:19.611351Z",
     "shell.execute_reply.started": "2025-03-01T06:03:19.191508Z"
    },
    "papermill": {
     "duration": 0.007253,
     "end_time": "2025-03-02T02:02:54.993689",
     "exception": false,
     "start_time": "2025-03-02T02:02:54.986436",
     "status": "completed"
    },
    "tags": []
   },
   "source": [
    "1. Discovering relationships between variables is the fundamental goal of data analysis.\n",
    "\n",
    "2. Frequency tables are a basic tool to explore data and get an idea of the relationships between variables.\n",
    "\n",
    "3. A frequency table will show the **counts of one or more categorical variables**."
   ]
  },
  {
   "cell_type": "code",
   "execution_count": 1,
   "id": "de157dfc",
   "metadata": {
    "execution": {
     "iopub.execute_input": "2025-03-02T02:02:55.009267Z",
     "iopub.status.busy": "2025-03-02T02:02:55.008851Z",
     "iopub.status.idle": "2025-03-02T02:02:56.101551Z",
     "shell.execute_reply": "2025-03-02T02:02:56.099961Z"
    },
    "papermill": {
     "duration": 1.102943,
     "end_time": "2025-03-02T02:02:56.103879",
     "exception": false,
     "start_time": "2025-03-02T02:02:55.000936",
     "status": "completed"
    },
    "tags": []
   },
   "outputs": [],
   "source": [
    "import numpy as np \n",
    "import pandas as pd \n",
    "import os "
   ]
  },
  {
   "cell_type": "code",
   "execution_count": 2,
   "id": "8243b929",
   "metadata": {
    "execution": {
     "iopub.execute_input": "2025-03-02T02:02:56.119767Z",
     "iopub.status.busy": "2025-03-02T02:02:56.119218Z",
     "iopub.status.idle": "2025-03-02T02:02:56.127566Z",
     "shell.execute_reply": "2025-03-02T02:02:56.126442Z"
    },
    "papermill": {
     "duration": 0.018373,
     "end_time": "2025-03-02T02:02:56.129469",
     "exception": false,
     "start_time": "2025-03-02T02:02:56.111096",
     "status": "completed"
    },
    "tags": []
   },
   "outputs": [
    {
     "data": {
      "text/plain": [
       "'/kaggle'"
      ]
     },
     "execution_count": 2,
     "metadata": {},
     "output_type": "execute_result"
    }
   ],
   "source": [
    "os.chdir('/kaggle/') \n",
    "os.getcwd()"
   ]
  },
  {
   "cell_type": "code",
   "execution_count": 3,
   "id": "dccf6de2",
   "metadata": {
    "execution": {
     "iopub.execute_input": "2025-03-02T02:02:56.145452Z",
     "iopub.status.busy": "2025-03-02T02:02:56.145074Z",
     "iopub.status.idle": "2025-03-02T02:02:56.178450Z",
     "shell.execute_reply": "2025-03-02T02:02:56.177158Z"
    },
    "papermill": {
     "duration": 0.043393,
     "end_time": "2025-03-02T02:02:56.180586",
     "exception": false,
     "start_time": "2025-03-02T02:02:56.137193",
     "status": "completed"
    },
    "tags": []
   },
   "outputs": [],
   "source": [
    "titanic = pd.read_csv('/kaggle/input/titanic-train/train.csv')  "
   ]
  },
  {
   "cell_type": "code",
   "execution_count": 4,
   "id": "850cb9a1",
   "metadata": {
    "execution": {
     "iopub.execute_input": "2025-03-02T02:02:56.196536Z",
     "iopub.status.busy": "2025-03-02T02:02:56.196132Z",
     "iopub.status.idle": "2025-03-02T02:02:56.210096Z",
     "shell.execute_reply": "2025-03-02T02:02:56.208725Z"
    },
    "papermill": {
     "duration": 0.024236,
     "end_time": "2025-03-02T02:02:56.211993",
     "exception": false,
     "start_time": "2025-03-02T02:02:56.187757",
     "status": "completed"
    },
    "tags": []
   },
   "outputs": [
    {
     "data": {
      "text/plain": [
       "array([nan, 'C85', 'C123', 'E46', 'G6', 'C103', 'D56', 'A6',\n",
       "       'C23 C25 C27', 'B78', 'D33', 'B30', 'C52', 'B28', 'C83', 'F33',\n",
       "       'F G73', 'E31', 'A5', 'D10 D12', 'D26', 'C110', 'B58 B60', 'E101',\n",
       "       'F E69', 'D47', 'B86', 'F2', 'C2', 'E33', 'B19', 'A7', 'C49', 'F4',\n",
       "       'A32', 'B4', 'B80', 'A31', 'D36', 'D15', 'C93', 'C78', 'D35',\n",
       "       'C87', 'B77', 'E67', 'B94', 'C125', 'C99', 'C118', 'D7', 'A19',\n",
       "       'B49', 'D', 'C22 C26', 'C106', 'C65', 'E36', 'C54',\n",
       "       'B57 B59 B63 B66', 'C7', 'E34', 'C32', 'B18', 'C124', 'C91', 'E40',\n",
       "       'T', 'C128', 'D37', 'B35', 'E50', 'C82', 'B96 B98', 'E10', 'E44',\n",
       "       'A34', 'C104', 'C111', 'C92', 'E38', 'D21', 'E12', 'E63', 'A14',\n",
       "       'B37', 'C30', 'D20', 'B79', 'E25', 'D46', 'B73', 'C95', 'B38',\n",
       "       'B39', 'B22', 'C86', 'C70', 'A16', 'C101', 'C68', 'A10', 'E68',\n",
       "       'B41', 'A20', 'D19', 'D50', 'D9', 'A23', 'B50', 'A26', 'D48',\n",
       "       'E58', 'C126', 'B71', 'B51 B53 B55', 'D49', 'B5', 'B20', 'F G63',\n",
       "       'C62 C64', 'E24', 'C90', 'C45', 'E8', 'B101', 'D45', 'C46', 'D30',\n",
       "       'E121', 'D11', 'E77', 'F38', 'B3', 'D6', 'B82 B84', 'D17', 'A36',\n",
       "       'B102', 'B69', 'E49', 'C47', 'D28', 'E17', 'A24', 'C50', 'B42',\n",
       "       'C148'], dtype=object)"
      ]
     },
     "execution_count": 4,
     "metadata": {},
     "output_type": "execute_result"
    }
   ],
   "source": [
    "titanic['Cabin'].unique()"
   ]
  },
  {
   "cell_type": "code",
   "execution_count": 5,
   "id": "b5939d69",
   "metadata": {
    "execution": {
     "iopub.execute_input": "2025-03-02T02:02:56.228988Z",
     "iopub.status.busy": "2025-03-02T02:02:56.228597Z",
     "iopub.status.idle": "2025-03-02T02:02:56.253675Z",
     "shell.execute_reply": "2025-03-02T02:02:56.252601Z"
    },
    "papermill": {
     "duration": 0.035623,
     "end_time": "2025-03-02T02:02:56.255520",
     "exception": false,
     "start_time": "2025-03-02T02:02:56.219897",
     "status": "completed"
    },
    "tags": []
   },
   "outputs": [
    {
     "data": {
      "text/plain": [
       "count     891\n",
       "unique      9\n",
       "top         n\n",
       "freq      687\n",
       "Name: Cabin, dtype: object"
      ]
     },
     "execution_count": 5,
     "metadata": {},
     "output_type": "execute_result"
    }
   ],
   "source": [
    "char_cabin = titanic['Cabin'].astype(str) \n",
    "new_cabin = np.array([Cabin[0] for Cabin in char_cabin])  \n",
    "new_cabin = pd.Categorical(new_cabin)\n",
    "titanic[\"Cabin\"] = new_cabin \n",
    "titanic[\"Cabin\"].describe() "
   ]
  },
  {
   "cell_type": "markdown",
   "id": "d093a828",
   "metadata": {
    "papermill": {
     "duration": 0.006656,
     "end_time": "2025-03-02T02:02:56.269999",
     "exception": false,
     "start_time": "2025-03-02T02:02:56.263343",
     "status": "completed"
    },
    "tags": []
   },
   "source": [
    "# One-Way Tables¶ "
   ]
  },
  {
   "cell_type": "markdown",
   "id": "7bb3babc",
   "metadata": {
    "papermill": {
     "duration": 0.006623,
     "end_time": "2025-03-02T02:02:56.284511",
     "exception": false,
     "start_time": "2025-03-02T02:02:56.277888",
     "status": "completed"
    },
    "tags": []
   },
   "source": [
    "1. Create frequency tables (also known as **crosstabs**) in pandas using the **pd.crosstab()** function. \n",
    "   \n",
    "2. The function takes one or more array-like objects as indexes or columns and then constructs a new DataFrame of variable counts **based on the supplied arrays**. "
   ]
  },
  {
   "cell_type": "code",
   "execution_count": 6,
   "id": "14ca04a5",
   "metadata": {
    "execution": {
     "iopub.execute_input": "2025-03-02T02:02:56.299813Z",
     "iopub.status.busy": "2025-03-02T02:02:56.299383Z",
     "iopub.status.idle": "2025-03-02T02:02:56.348392Z",
     "shell.execute_reply": "2025-03-02T02:02:56.347202Z"
    },
    "papermill": {
     "duration": 0.058861,
     "end_time": "2025-03-02T02:02:56.350314",
     "exception": false,
     "start_time": "2025-03-02T02:02:56.291453",
     "status": "completed"
    },
    "tags": []
   },
   "outputs": [
    {
     "data": {
      "text/html": [
       "<div>\n",
       "<style scoped>\n",
       "    .dataframe tbody tr th:only-of-type {\n",
       "        vertical-align: middle;\n",
       "    }\n",
       "\n",
       "    .dataframe tbody tr th {\n",
       "        vertical-align: top;\n",
       "    }\n",
       "\n",
       "    .dataframe thead th {\n",
       "        text-align: right;\n",
       "    }\n",
       "</style>\n",
       "<table border=\"1\" class=\"dataframe\">\n",
       "  <thead>\n",
       "    <tr style=\"text-align: right;\">\n",
       "      <th>col_0</th>\n",
       "      <th>Count</th>\n",
       "    </tr>\n",
       "    <tr>\n",
       "      <th>Survived</th>\n",
       "      <th></th>\n",
       "    </tr>\n",
       "  </thead>\n",
       "  <tbody>\n",
       "    <tr>\n",
       "      <th>0</th>\n",
       "      <td>549</td>\n",
       "    </tr>\n",
       "    <tr>\n",
       "      <th>1</th>\n",
       "      <td>342</td>\n",
       "    </tr>\n",
       "  </tbody>\n",
       "</table>\n",
       "</div>"
      ],
      "text/plain": [
       "col_0     Count\n",
       "Survived       \n",
       "0           549\n",
       "1           342"
      ]
     },
     "execution_count": 6,
     "metadata": {},
     "output_type": "execute_result"
    }
   ],
   "source": [
    "# 1. Make a crosstab of survived \n",
    "# 2. Name the columns \n",
    "\n",
    "my_tab = pd.crosstab(index = titanic[\"Survived\"], \n",
    "                    columns = \"Count\") \n",
    "\n",
    "my_tab \n"
   ]
  },
  {
   "cell_type": "code",
   "execution_count": 7,
   "id": "0abe6ccd",
   "metadata": {
    "execution": {
     "iopub.execute_input": "2025-03-02T02:02:56.367029Z",
     "iopub.status.busy": "2025-03-02T02:02:56.366612Z",
     "iopub.status.idle": "2025-03-02T02:02:56.372842Z",
     "shell.execute_reply": "2025-03-02T02:02:56.371750Z"
    },
    "papermill": {
     "duration": 0.017132,
     "end_time": "2025-03-02T02:02:56.374738",
     "exception": false,
     "start_time": "2025-03-02T02:02:56.357606",
     "status": "completed"
    },
    "tags": []
   },
   "outputs": [
    {
     "data": {
      "text/plain": [
       "pandas.core.frame.DataFrame"
      ]
     },
     "execution_count": 7,
     "metadata": {},
     "output_type": "execute_result"
    }
   ],
   "source": [
    "# Confirm that the crosstab is a DataFrame: check the type \n",
    "\n",
    "type(my_tab) "
   ]
  },
  {
   "cell_type": "code",
   "execution_count": 8,
   "id": "21688d75",
   "metadata": {
    "execution": {
     "iopub.execute_input": "2025-03-02T02:02:56.390882Z",
     "iopub.status.busy": "2025-03-02T02:02:56.390420Z",
     "iopub.status.idle": "2025-03-02T02:02:56.405328Z",
     "shell.execute_reply": "2025-03-02T02:02:56.404311Z"
    },
    "papermill": {
     "duration": 0.024879,
     "end_time": "2025-03-02T02:02:56.407132",
     "exception": false,
     "start_time": "2025-03-02T02:02:56.382253",
     "status": "completed"
    },
    "tags": []
   },
   "outputs": [
    {
     "data": {
      "text/html": [
       "<div>\n",
       "<style scoped>\n",
       "    .dataframe tbody tr th:only-of-type {\n",
       "        vertical-align: middle;\n",
       "    }\n",
       "\n",
       "    .dataframe tbody tr th {\n",
       "        vertical-align: top;\n",
       "    }\n",
       "\n",
       "    .dataframe thead th {\n",
       "        text-align: right;\n",
       "    }\n",
       "</style>\n",
       "<table border=\"1\" class=\"dataframe\">\n",
       "  <thead>\n",
       "    <tr style=\"text-align: right;\">\n",
       "      <th>col_0</th>\n",
       "      <th>count</th>\n",
       "    </tr>\n",
       "    <tr>\n",
       "      <th>Pclass</th>\n",
       "      <th></th>\n",
       "    </tr>\n",
       "  </thead>\n",
       "  <tbody>\n",
       "    <tr>\n",
       "      <th>1</th>\n",
       "      <td>216</td>\n",
       "    </tr>\n",
       "    <tr>\n",
       "      <th>2</th>\n",
       "      <td>184</td>\n",
       "    </tr>\n",
       "    <tr>\n",
       "      <th>3</th>\n",
       "      <td>491</td>\n",
       "    </tr>\n",
       "  </tbody>\n",
       "</table>\n",
       "</div>"
      ],
      "text/plain": [
       "col_0   count\n",
       "Pclass       \n",
       "1         216\n",
       "2         184\n",
       "3         491"
      ]
     },
     "execution_count": 8,
     "metadata": {},
     "output_type": "execute_result"
    }
   ],
   "source": [
    "# Make a crosstab to explore var \"Plcass\" \n",
    "\n",
    "pd.crosstab(index = titanic['Pclass'], \n",
    "           columns = \"count\")  "
   ]
  },
  {
   "cell_type": "code",
   "execution_count": 9,
   "id": "3c83b4e3",
   "metadata": {
    "execution": {
     "iopub.execute_input": "2025-03-02T02:02:56.423940Z",
     "iopub.status.busy": "2025-03-02T02:02:56.423550Z",
     "iopub.status.idle": "2025-03-02T02:02:56.439035Z",
     "shell.execute_reply": "2025-03-02T02:02:56.437878Z"
    },
    "papermill": {
     "duration": 0.026221,
     "end_time": "2025-03-02T02:02:56.440950",
     "exception": false,
     "start_time": "2025-03-02T02:02:56.414729",
     "status": "completed"
    },
    "tags": []
   },
   "outputs": [
    {
     "data": {
      "text/html": [
       "<div>\n",
       "<style scoped>\n",
       "    .dataframe tbody tr th:only-of-type {\n",
       "        vertical-align: middle;\n",
       "    }\n",
       "\n",
       "    .dataframe tbody tr th {\n",
       "        vertical-align: top;\n",
       "    }\n",
       "\n",
       "    .dataframe thead th {\n",
       "        text-align: right;\n",
       "    }\n",
       "</style>\n",
       "<table border=\"1\" class=\"dataframe\">\n",
       "  <thead>\n",
       "    <tr style=\"text-align: right;\">\n",
       "      <th>col_0</th>\n",
       "      <th>count</th>\n",
       "    </tr>\n",
       "    <tr>\n",
       "      <th>Sex</th>\n",
       "      <th></th>\n",
       "    </tr>\n",
       "  </thead>\n",
       "  <tbody>\n",
       "    <tr>\n",
       "      <th>female</th>\n",
       "      <td>314</td>\n",
       "    </tr>\n",
       "    <tr>\n",
       "      <th>male</th>\n",
       "      <td>577</td>\n",
       "    </tr>\n",
       "  </tbody>\n",
       "</table>\n",
       "</div>"
      ],
      "text/plain": [
       "col_0   count\n",
       "Sex          \n",
       "female    314\n",
       "male      577"
      ]
     },
     "execution_count": 9,
     "metadata": {},
     "output_type": "execute_result"
    }
   ],
   "source": [
    "# Make a crosstab to explore var \"Sex\" \n",
    "\n",
    "pd.crosstab(index = titanic['Sex'], \n",
    "           columns = \"count\") "
   ]
  },
  {
   "cell_type": "code",
   "execution_count": 10,
   "id": "3dbc5612",
   "metadata": {
    "execution": {
     "iopub.execute_input": "2025-03-02T02:02:56.457865Z",
     "iopub.status.busy": "2025-03-02T02:02:56.457442Z",
     "iopub.status.idle": "2025-03-02T02:02:56.465062Z",
     "shell.execute_reply": "2025-03-02T02:02:56.463920Z"
    },
    "papermill": {
     "duration": 0.018275,
     "end_time": "2025-03-02T02:02:56.466995",
     "exception": false,
     "start_time": "2025-03-02T02:02:56.448720",
     "status": "completed"
    },
    "tags": []
   },
   "outputs": [
    {
     "data": {
      "text/plain": [
       "Sex\n",
       "male      577\n",
       "female    314\n",
       "Name: count, dtype: int64"
      ]
     },
     "execution_count": 10,
     "metadata": {},
     "output_type": "execute_result"
    }
   ],
   "source": [
    "# can also use value_counts() to check its counts: \n",
    "\n",
    "titanic.Sex.value_counts()  "
   ]
  },
  {
   "cell_type": "markdown",
   "id": "e4fb0381",
   "metadata": {
    "papermill": {
     "duration": 0.007223,
     "end_time": "2025-03-02T02:02:56.481955",
     "exception": false,
     "start_time": "2025-03-02T02:02:56.474732",
     "status": "completed"
    },
    "tags": []
   },
   "source": [
    "1. Even these simple one-way tables give us some useful insight: we immediately get a sense of distribution of records across the categories. For instance, we see that males outnumbered females by a significant margin and that there were more third-class passengers than first and second-class passengers combined.\n",
    "\n",
    "2. If you pass a variable with many unique values to table(), such a numeric variable, it will still produce a table of counts for each unique value, but the counts may not be particularly meaningful.\n",
    "\n",
    "3. Since the crosstab function produces DataFrames, the DataFrame operations we've learned work on crosstabs. "
   ]
  },
  {
   "cell_type": "code",
   "execution_count": 11,
   "id": "6d7c96a8",
   "metadata": {
    "execution": {
     "iopub.execute_input": "2025-03-02T02:02:56.499163Z",
     "iopub.status.busy": "2025-03-02T02:02:56.498750Z",
     "iopub.status.idle": "2025-03-02T02:02:56.519393Z",
     "shell.execute_reply": "2025-03-02T02:02:56.518224Z"
    },
    "papermill": {
     "duration": 0.030985,
     "end_time": "2025-03-02T02:02:56.521267",
     "exception": false,
     "start_time": "2025-03-02T02:02:56.490282",
     "status": "completed"
    },
    "tags": []
   },
   "outputs": [
    {
     "data": {
      "text/html": [
       "<div>\n",
       "<style scoped>\n",
       "    .dataframe tbody tr th:only-of-type {\n",
       "        vertical-align: middle;\n",
       "    }\n",
       "\n",
       "    .dataframe tbody tr th {\n",
       "        vertical-align: top;\n",
       "    }\n",
       "\n",
       "    .dataframe thead th {\n",
       "        text-align: right;\n",
       "    }\n",
       "</style>\n",
       "<table border=\"1\" class=\"dataframe\">\n",
       "  <thead>\n",
       "    <tr style=\"text-align: right;\">\n",
       "      <th>col_0</th>\n",
       "      <th>count</th>\n",
       "    </tr>\n",
       "    <tr>\n",
       "      <th>Cabin</th>\n",
       "      <th></th>\n",
       "    </tr>\n",
       "  </thead>\n",
       "  <tbody>\n",
       "    <tr>\n",
       "      <th>A</th>\n",
       "      <td>15</td>\n",
       "    </tr>\n",
       "    <tr>\n",
       "      <th>B</th>\n",
       "      <td>47</td>\n",
       "    </tr>\n",
       "    <tr>\n",
       "      <th>C</th>\n",
       "      <td>59</td>\n",
       "    </tr>\n",
       "    <tr>\n",
       "      <th>D</th>\n",
       "      <td>33</td>\n",
       "    </tr>\n",
       "    <tr>\n",
       "      <th>E</th>\n",
       "      <td>32</td>\n",
       "    </tr>\n",
       "    <tr>\n",
       "      <th>F</th>\n",
       "      <td>13</td>\n",
       "    </tr>\n",
       "    <tr>\n",
       "      <th>G</th>\n",
       "      <td>4</td>\n",
       "    </tr>\n",
       "    <tr>\n",
       "      <th>T</th>\n",
       "      <td>1</td>\n",
       "    </tr>\n",
       "    <tr>\n",
       "      <th>n</th>\n",
       "      <td>687</td>\n",
       "    </tr>\n",
       "  </tbody>\n",
       "</table>\n",
       "</div>"
      ],
      "text/plain": [
       "col_0  count\n",
       "Cabin       \n",
       "A         15\n",
       "B         47\n",
       "C         59\n",
       "D         33\n",
       "E         32\n",
       "F         13\n",
       "G          4\n",
       "T          1\n",
       "n        687"
      ]
     },
     "execution_count": 11,
     "metadata": {},
     "output_type": "execute_result"
    }
   ],
   "source": [
    "cabin_tab = pd.crosstab(index = titanic[\"Cabin\"], \n",
    "                       columns = \"count\") \n",
    "cabin_tab "
   ]
  },
  {
   "cell_type": "code",
   "execution_count": 12,
   "id": "3c96139b",
   "metadata": {
    "execution": {
     "iopub.execute_input": "2025-03-02T02:02:56.540134Z",
     "iopub.status.busy": "2025-03-02T02:02:56.539735Z",
     "iopub.status.idle": "2025-03-02T02:02:56.549135Z",
     "shell.execute_reply": "2025-03-02T02:02:56.547716Z"
    },
    "papermill": {
     "duration": 0.020838,
     "end_time": "2025-03-02T02:02:56.551370",
     "exception": false,
     "start_time": "2025-03-02T02:02:56.530532",
     "status": "completed"
    },
    "tags": []
   },
   "outputs": [
    {
     "name": "stdout",
     "output_type": "stream",
     "text": [
      "col_0\n",
      "count    891\n",
      "dtype: int64 \n",
      "\n",
      "(9, 1) \n",
      "\n",
      "col_0  count\n",
      "Cabin       \n",
      "B         47\n",
      "C         59\n",
      "D         33\n",
      "E         32\n",
      "F         13\n",
      "G          4\n"
     ]
    }
   ],
   "source": [
    "# Sum the counts: \n",
    "print(cabin_tab.sum(), \"\\n\")  \n",
    "\n",
    "# Check the rows and cols: \n",
    "print(cabin_tab.shape, \"\\n\") \n",
    "\n",
    "# slice the rows from 1- 6: \n",
    "print(cabin_tab.iloc[1:7])  "
   ]
  },
  {
   "cell_type": "markdown",
   "id": "c69c52a7",
   "metadata": {
    "papermill": {
     "duration": 0.007571,
     "end_time": "2025-03-02T02:02:56.567067",
     "exception": false,
     "start_time": "2025-03-02T02:02:56.559496",
     "status": "completed"
    },
    "tags": []
   },
   "source": [
    "1. One of the most useful aspects of frequency tables is to **extract the proportion of the data** that belongs to each category.  \n",
    "\n",
    "2. With a one-way table, you can do this by dividing each table value by the total number of records in the table: \n",
    "\n"
   ]
  },
  {
   "cell_type": "code",
   "execution_count": 13,
   "id": "0cb7bbd9",
   "metadata": {
    "execution": {
     "iopub.execute_input": "2025-03-02T02:02:56.584506Z",
     "iopub.status.busy": "2025-03-02T02:02:56.584164Z",
     "iopub.status.idle": "2025-03-02T02:02:56.594659Z",
     "shell.execute_reply": "2025-03-02T02:02:56.593527Z"
    },
    "papermill": {
     "duration": 0.021558,
     "end_time": "2025-03-02T02:02:56.596534",
     "exception": false,
     "start_time": "2025-03-02T02:02:56.574976",
     "status": "completed"
    },
    "tags": []
   },
   "outputs": [
    {
     "data": {
      "text/html": [
       "<div>\n",
       "<style scoped>\n",
       "    .dataframe tbody tr th:only-of-type {\n",
       "        vertical-align: middle;\n",
       "    }\n",
       "\n",
       "    .dataframe tbody tr th {\n",
       "        vertical-align: top;\n",
       "    }\n",
       "\n",
       "    .dataframe thead th {\n",
       "        text-align: right;\n",
       "    }\n",
       "</style>\n",
       "<table border=\"1\" class=\"dataframe\">\n",
       "  <thead>\n",
       "    <tr style=\"text-align: right;\">\n",
       "      <th>col_0</th>\n",
       "      <th>count</th>\n",
       "    </tr>\n",
       "    <tr>\n",
       "      <th>Cabin</th>\n",
       "      <th></th>\n",
       "    </tr>\n",
       "  </thead>\n",
       "  <tbody>\n",
       "    <tr>\n",
       "      <th>A</th>\n",
       "      <td>0.016835</td>\n",
       "    </tr>\n",
       "    <tr>\n",
       "      <th>B</th>\n",
       "      <td>0.052750</td>\n",
       "    </tr>\n",
       "    <tr>\n",
       "      <th>C</th>\n",
       "      <td>0.066218</td>\n",
       "    </tr>\n",
       "    <tr>\n",
       "      <th>D</th>\n",
       "      <td>0.037037</td>\n",
       "    </tr>\n",
       "    <tr>\n",
       "      <th>E</th>\n",
       "      <td>0.035915</td>\n",
       "    </tr>\n",
       "    <tr>\n",
       "      <th>F</th>\n",
       "      <td>0.014590</td>\n",
       "    </tr>\n",
       "    <tr>\n",
       "      <th>G</th>\n",
       "      <td>0.004489</td>\n",
       "    </tr>\n",
       "    <tr>\n",
       "      <th>T</th>\n",
       "      <td>0.001122</td>\n",
       "    </tr>\n",
       "    <tr>\n",
       "      <th>n</th>\n",
       "      <td>0.771044</td>\n",
       "    </tr>\n",
       "  </tbody>\n",
       "</table>\n",
       "</div>"
      ],
      "text/plain": [
       "col_0     count\n",
       "Cabin          \n",
       "A      0.016835\n",
       "B      0.052750\n",
       "C      0.066218\n",
       "D      0.037037\n",
       "E      0.035915\n",
       "F      0.014590\n",
       "G      0.004489\n",
       "T      0.001122\n",
       "n      0.771044"
      ]
     },
     "execution_count": 13,
     "metadata": {},
     "output_type": "execute_result"
    }
   ],
   "source": [
    "cabin_tab / cabin_tab.sum() "
   ]
  },
  {
   "cell_type": "markdown",
   "id": "760b0102",
   "metadata": {
    "papermill": {
     "duration": 0.008302,
     "end_time": "2025-03-02T02:02:56.612873",
     "exception": false,
     "start_time": "2025-03-02T02:02:56.604571",
     "status": "completed"
    },
    "tags": []
   },
   "source": [
    "# Two-Way Tables"
   ]
  },
  {
   "cell_type": "markdown",
   "id": "f4fc7fdc",
   "metadata": {
    "papermill": {
     "duration": 0.007805,
     "end_time": "2025-03-02T02:02:56.628826",
     "exception": false,
     "start_time": "2025-03-02T02:02:56.621021",
     "status": "completed"
    },
    "tags": []
   },
   "source": [
    "Two-way frequency tables, also called contingency tables, are tables of counts with two dimensions where each dimension is a different variable. Two-way tables can give you insight into the relationship between two variables. To create a two-way table, pass two variables to the pd.crosstab() function instead of one:"
   ]
  },
  {
   "cell_type": "code",
   "execution_count": 14,
   "id": "8c381bab",
   "metadata": {
    "execution": {
     "iopub.execute_input": "2025-03-02T02:02:56.646349Z",
     "iopub.status.busy": "2025-03-02T02:02:56.646017Z",
     "iopub.status.idle": "2025-03-02T02:02:56.661848Z",
     "shell.execute_reply": "2025-03-02T02:02:56.660801Z"
    },
    "papermill": {
     "duration": 0.02663,
     "end_time": "2025-03-02T02:02:56.663629",
     "exception": false,
     "start_time": "2025-03-02T02:02:56.636999",
     "status": "completed"
    },
    "tags": []
   },
   "outputs": [
    {
     "data": {
      "text/html": [
       "<div>\n",
       "<style scoped>\n",
       "    .dataframe tbody tr th:only-of-type {\n",
       "        vertical-align: middle;\n",
       "    }\n",
       "\n",
       "    .dataframe tbody tr th {\n",
       "        vertical-align: top;\n",
       "    }\n",
       "\n",
       "    .dataframe thead th {\n",
       "        text-align: right;\n",
       "    }\n",
       "</style>\n",
       "<table border=\"1\" class=\"dataframe\">\n",
       "  <thead>\n",
       "    <tr style=\"text-align: right;\">\n",
       "      <th>Sex</th>\n",
       "      <th>female</th>\n",
       "      <th>male</th>\n",
       "    </tr>\n",
       "  </thead>\n",
       "  <tbody>\n",
       "    <tr>\n",
       "      <th>Died</th>\n",
       "      <td>81</td>\n",
       "      <td>468</td>\n",
       "    </tr>\n",
       "    <tr>\n",
       "      <th>Survived</th>\n",
       "      <td>233</td>\n",
       "      <td>109</td>\n",
       "    </tr>\n",
       "  </tbody>\n",
       "</table>\n",
       "</div>"
      ],
      "text/plain": [
       "Sex       female  male\n",
       "Died          81   468\n",
       "Survived     233   109"
      ]
     },
     "execution_count": 14,
     "metadata": {},
     "output_type": "execute_result"
    }
   ],
   "source": [
    "# Table of survival vs. sex:\n",
    "\n",
    "sex_survived = pd.crosstab(index = titanic['Survived'], \n",
    "                           columns = titanic['Sex']) \n",
    "\n",
    "sex_survived.index = [\"Died\", \"Survived\"]  \n",
    "\n",
    "sex_survived"
   ]
  },
  {
   "cell_type": "code",
   "execution_count": 15,
   "id": "b5e0df40",
   "metadata": {
    "execution": {
     "iopub.execute_input": "2025-03-02T02:02:56.682120Z",
     "iopub.status.busy": "2025-03-02T02:02:56.681747Z",
     "iopub.status.idle": "2025-03-02T02:02:56.697916Z",
     "shell.execute_reply": "2025-03-02T02:02:56.696691Z"
    },
    "papermill": {
     "duration": 0.027623,
     "end_time": "2025-03-02T02:02:56.699830",
     "exception": false,
     "start_time": "2025-03-02T02:02:56.672207",
     "status": "completed"
    },
    "tags": []
   },
   "outputs": [
    {
     "data": {
      "text/html": [
       "<div>\n",
       "<style scoped>\n",
       "    .dataframe tbody tr th:only-of-type {\n",
       "        vertical-align: middle;\n",
       "    }\n",
       "\n",
       "    .dataframe tbody tr th {\n",
       "        vertical-align: top;\n",
       "    }\n",
       "\n",
       "    .dataframe thead th {\n",
       "        text-align: right;\n",
       "    }\n",
       "</style>\n",
       "<table border=\"1\" class=\"dataframe\">\n",
       "  <thead>\n",
       "    <tr style=\"text-align: right;\">\n",
       "      <th>Pclass</th>\n",
       "      <th>1</th>\n",
       "      <th>2</th>\n",
       "      <th>3</th>\n",
       "    </tr>\n",
       "    <tr>\n",
       "      <th>Survived</th>\n",
       "      <th></th>\n",
       "      <th></th>\n",
       "      <th></th>\n",
       "    </tr>\n",
       "  </thead>\n",
       "  <tbody>\n",
       "    <tr>\n",
       "      <th>0</th>\n",
       "      <td>80</td>\n",
       "      <td>97</td>\n",
       "      <td>372</td>\n",
       "    </tr>\n",
       "    <tr>\n",
       "      <th>1</th>\n",
       "      <td>136</td>\n",
       "      <td>87</td>\n",
       "      <td>119</td>\n",
       "    </tr>\n",
       "  </tbody>\n",
       "</table>\n",
       "</div>"
      ],
      "text/plain": [
       "Pclass      1   2    3\n",
       "Survived              \n",
       "0          80  97  372\n",
       "1         136  87  119"
      ]
     },
     "execution_count": 15,
     "metadata": {},
     "output_type": "execute_result"
    }
   ],
   "source": [
    "# Table of survival vs passenger class \n",
    "\n",
    "survived_class = pd.crosstab(index = titanic[\"Survived\"], \n",
    "                            columns = titanic[\"Pclass\"]) \n",
    "\n",
    "\n",
    "survived_class  \n",
    "\n"
   ]
  },
  {
   "cell_type": "code",
   "execution_count": 16,
   "id": "6481be85",
   "metadata": {
    "execution": {
     "iopub.execute_input": "2025-03-02T02:02:56.717456Z",
     "iopub.status.busy": "2025-03-02T02:02:56.717087Z",
     "iopub.status.idle": "2025-03-02T02:02:56.734953Z",
     "shell.execute_reply": "2025-03-02T02:02:56.733827Z"
    },
    "papermill": {
     "duration": 0.028794,
     "end_time": "2025-03-02T02:02:56.736816",
     "exception": false,
     "start_time": "2025-03-02T02:02:56.708022",
     "status": "completed"
    },
    "tags": []
   },
   "outputs": [
    {
     "data": {
      "text/html": [
       "<div>\n",
       "<style scoped>\n",
       "    .dataframe tbody tr th:only-of-type {\n",
       "        vertical-align: middle;\n",
       "    }\n",
       "\n",
       "    .dataframe tbody tr th {\n",
       "        vertical-align: top;\n",
       "    }\n",
       "\n",
       "    .dataframe thead th {\n",
       "        text-align: right;\n",
       "    }\n",
       "</style>\n",
       "<table border=\"1\" class=\"dataframe\">\n",
       "  <thead>\n",
       "    <tr style=\"text-align: right;\">\n",
       "      <th></th>\n",
       "      <th>class1</th>\n",
       "      <th>class2</th>\n",
       "      <th>class3</th>\n",
       "    </tr>\n",
       "  </thead>\n",
       "  <tbody>\n",
       "    <tr>\n",
       "      <th>died</th>\n",
       "      <td>80</td>\n",
       "      <td>97</td>\n",
       "      <td>372</td>\n",
       "    </tr>\n",
       "    <tr>\n",
       "      <th>survived</th>\n",
       "      <td>136</td>\n",
       "      <td>87</td>\n",
       "      <td>119</td>\n",
       "    </tr>\n",
       "  </tbody>\n",
       "</table>\n",
       "</div>"
      ],
      "text/plain": [
       "          class1  class2  class3\n",
       "died          80      97     372\n",
       "survived     136      87     119"
      ]
     },
     "execution_count": 16,
     "metadata": {},
     "output_type": "execute_result"
    }
   ],
   "source": [
    "survived_class = pd.crosstab(index = titanic[\"Survived\"], \n",
    "                            columns = titanic[\"Pclass\"]) \n",
    "\n",
    "survived_class.index = ['died', 'survived'] \n",
    "survived_class.columns = ['class1', 'class2', 'class3'] \n",
    "\n",
    "survived_class "
   ]
  },
  {
   "cell_type": "markdown",
   "id": "51b6be33",
   "metadata": {
    "papermill": {
     "duration": 0.008166,
     "end_time": "2025-03-02T02:02:56.753414",
     "exception": false,
     "start_time": "2025-03-02T02:02:56.745248",
     "status": "completed"
    },
    "tags": []
   },
   "source": [
    "You can get the **marginal counts** (**totals for each row and column**) by including the argument **margins=True**:  "
   ]
  },
  {
   "cell_type": "code",
   "execution_count": 17,
   "id": "09ef85da",
   "metadata": {
    "execution": {
     "iopub.execute_input": "2025-03-02T02:02:56.771692Z",
     "iopub.status.busy": "2025-03-02T02:02:56.771298Z",
     "iopub.status.idle": "2025-03-02T02:02:56.815056Z",
     "shell.execute_reply": "2025-03-02T02:02:56.813735Z"
    },
    "papermill": {
     "duration": 0.055322,
     "end_time": "2025-03-02T02:02:56.817059",
     "exception": false,
     "start_time": "2025-03-02T02:02:56.761737",
     "status": "completed"
    },
    "tags": []
   },
   "outputs": [
    {
     "data": {
      "text/html": [
       "<div>\n",
       "<style scoped>\n",
       "    .dataframe tbody tr th:only-of-type {\n",
       "        vertical-align: middle;\n",
       "    }\n",
       "\n",
       "    .dataframe tbody tr th {\n",
       "        vertical-align: top;\n",
       "    }\n",
       "\n",
       "    .dataframe thead th {\n",
       "        text-align: right;\n",
       "    }\n",
       "</style>\n",
       "<table border=\"1\" class=\"dataframe\">\n",
       "  <thead>\n",
       "    <tr style=\"text-align: right;\">\n",
       "      <th></th>\n",
       "      <th>class1</th>\n",
       "      <th>class2</th>\n",
       "      <th>class3</th>\n",
       "      <th>total_of_rows</th>\n",
       "    </tr>\n",
       "  </thead>\n",
       "  <tbody>\n",
       "    <tr>\n",
       "      <th>died</th>\n",
       "      <td>80</td>\n",
       "      <td>97</td>\n",
       "      <td>372</td>\n",
       "      <td>549</td>\n",
       "    </tr>\n",
       "    <tr>\n",
       "      <th>survived</th>\n",
       "      <td>136</td>\n",
       "      <td>87</td>\n",
       "      <td>119</td>\n",
       "      <td>342</td>\n",
       "    </tr>\n",
       "    <tr>\n",
       "      <th>total_of_col</th>\n",
       "      <td>216</td>\n",
       "      <td>184</td>\n",
       "      <td>491</td>\n",
       "      <td>891</td>\n",
       "    </tr>\n",
       "  </tbody>\n",
       "</table>\n",
       "</div>"
      ],
      "text/plain": [
       "              class1  class2  class3  total_of_rows\n",
       "died              80      97     372            549\n",
       "survived         136      87     119            342\n",
       "total_of_col     216     184     491            891"
      ]
     },
     "execution_count": 17,
     "metadata": {},
     "output_type": "execute_result"
    }
   ],
   "source": [
    "# Table of survival vs passenger class: \n",
    "\n",
    "survived_class = pd.crosstab(index = titanic[\"Survived\"], \n",
    "                             columns = titanic[\"Pclass\"],\n",
    "                             margins = True) \n",
    "\n",
    "survived_class.index = ['died', 'survived', 'total_of_col'] \n",
    "survived_class.columns = ['class1', 'class2', 'class3', 'total_of_rows'] \n",
    " \n",
    "survived_class \n",
    "\n"
   ]
  },
  {
   "cell_type": "markdown",
   "id": "3684a58e",
   "metadata": {
    "papermill": {
     "duration": 0.008311,
     "end_time": "2025-03-02T02:02:56.834124",
     "exception": false,
     "start_time": "2025-03-02T02:02:56.825813",
     "status": "completed"
    },
    "tags": []
   },
   "source": [
    "To get the **total proportion** of counts in each cell, divide the table **by the grand total**: "
   ]
  },
  {
   "cell_type": "code",
   "execution_count": 18,
   "id": "6d9dc39b",
   "metadata": {
    "execution": {
     "iopub.execute_input": "2025-03-02T02:02:56.852545Z",
     "iopub.status.busy": "2025-03-02T02:02:56.852161Z",
     "iopub.status.idle": "2025-03-02T02:02:56.863189Z",
     "shell.execute_reply": "2025-03-02T02:02:56.862052Z"
    },
    "papermill": {
     "duration": 0.022136,
     "end_time": "2025-03-02T02:02:56.864896",
     "exception": false,
     "start_time": "2025-03-02T02:02:56.842760",
     "status": "completed"
    },
    "tags": []
   },
   "outputs": [
    {
     "data": {
      "text/html": [
       "<div>\n",
       "<style scoped>\n",
       "    .dataframe tbody tr th:only-of-type {\n",
       "        vertical-align: middle;\n",
       "    }\n",
       "\n",
       "    .dataframe tbody tr th {\n",
       "        vertical-align: top;\n",
       "    }\n",
       "\n",
       "    .dataframe thead th {\n",
       "        text-align: right;\n",
       "    }\n",
       "</style>\n",
       "<table border=\"1\" class=\"dataframe\">\n",
       "  <thead>\n",
       "    <tr style=\"text-align: right;\">\n",
       "      <th></th>\n",
       "      <th>class1</th>\n",
       "      <th>class2</th>\n",
       "      <th>class3</th>\n",
       "      <th>total_of_rows</th>\n",
       "    </tr>\n",
       "  </thead>\n",
       "  <tbody>\n",
       "    <tr>\n",
       "      <th>died</th>\n",
       "      <td>0.089787</td>\n",
       "      <td>0.108866</td>\n",
       "      <td>0.417508</td>\n",
       "      <td>0.616162</td>\n",
       "    </tr>\n",
       "    <tr>\n",
       "      <th>survived</th>\n",
       "      <td>0.152637</td>\n",
       "      <td>0.097643</td>\n",
       "      <td>0.133558</td>\n",
       "      <td>0.383838</td>\n",
       "    </tr>\n",
       "    <tr>\n",
       "      <th>total_of_col</th>\n",
       "      <td>0.242424</td>\n",
       "      <td>0.206510</td>\n",
       "      <td>0.551066</td>\n",
       "      <td>1.000000</td>\n",
       "    </tr>\n",
       "  </tbody>\n",
       "</table>\n",
       "</div>"
      ],
      "text/plain": [
       "                class1    class2    class3  total_of_rows\n",
       "died          0.089787  0.108866  0.417508       0.616162\n",
       "survived      0.152637  0.097643  0.133558       0.383838\n",
       "total_of_col  0.242424  0.206510  0.551066       1.000000"
      ]
     },
     "execution_count": 18,
     "metadata": {},
     "output_type": "execute_result"
    }
   ],
   "source": [
    "survived_class / survived_class.loc['total_of_col', 'total_of_rows']   "
   ]
  },
  {
   "cell_type": "markdown",
   "id": "a67a8014",
   "metadata": {
    "papermill": {
     "duration": 0.008231,
     "end_time": "2025-03-02T02:02:56.881809",
     "exception": false,
     "start_time": "2025-03-02T02:02:56.873578",
     "status": "completed"
    },
    "tags": []
   },
   "source": [
    "Note: loc[ ] is a label-based indexer used to select data by row or column labels. \n",
    " "
   ]
  },
  {
   "cell_type": "markdown",
   "id": "38abc862",
   "metadata": {
    "papermill": {
     "duration": 0.00812,
     "end_time": "2025-03-02T02:02:56.898516",
     "exception": false,
     "start_time": "2025-03-02T02:02:56.890396",
     "status": "completed"
    },
    "tags": []
   },
   "source": [
    "To get the **proportion of counts along each column** (in this case, the survival rate within each passenger class) divide by the column totals: "
   ]
  },
  {
   "cell_type": "code",
   "execution_count": 19,
   "id": "497a8d01",
   "metadata": {
    "execution": {
     "iopub.execute_input": "2025-03-02T02:02:56.917833Z",
     "iopub.status.busy": "2025-03-02T02:02:56.917427Z",
     "iopub.status.idle": "2025-03-02T02:02:56.929098Z",
     "shell.execute_reply": "2025-03-02T02:02:56.927945Z"
    },
    "papermill": {
     "duration": 0.023338,
     "end_time": "2025-03-02T02:02:56.930921",
     "exception": false,
     "start_time": "2025-03-02T02:02:56.907583",
     "status": "completed"
    },
    "tags": []
   },
   "outputs": [
    {
     "data": {
      "text/html": [
       "<div>\n",
       "<style scoped>\n",
       "    .dataframe tbody tr th:only-of-type {\n",
       "        vertical-align: middle;\n",
       "    }\n",
       "\n",
       "    .dataframe tbody tr th {\n",
       "        vertical-align: top;\n",
       "    }\n",
       "\n",
       "    .dataframe thead th {\n",
       "        text-align: right;\n",
       "    }\n",
       "</style>\n",
       "<table border=\"1\" class=\"dataframe\">\n",
       "  <thead>\n",
       "    <tr style=\"text-align: right;\">\n",
       "      <th></th>\n",
       "      <th>class1</th>\n",
       "      <th>class2</th>\n",
       "      <th>class3</th>\n",
       "      <th>total_of_rows</th>\n",
       "    </tr>\n",
       "  </thead>\n",
       "  <tbody>\n",
       "    <tr>\n",
       "      <th>died</th>\n",
       "      <td>0.37037</td>\n",
       "      <td>0.527174</td>\n",
       "      <td>0.757637</td>\n",
       "      <td>0.616162</td>\n",
       "    </tr>\n",
       "    <tr>\n",
       "      <th>survived</th>\n",
       "      <td>0.62963</td>\n",
       "      <td>0.472826</td>\n",
       "      <td>0.242363</td>\n",
       "      <td>0.383838</td>\n",
       "    </tr>\n",
       "    <tr>\n",
       "      <th>total_of_col</th>\n",
       "      <td>1.00000</td>\n",
       "      <td>1.000000</td>\n",
       "      <td>1.000000</td>\n",
       "      <td>1.000000</td>\n",
       "    </tr>\n",
       "  </tbody>\n",
       "</table>\n",
       "</div>"
      ],
      "text/plain": [
       "               class1    class2    class3  total_of_rows\n",
       "died          0.37037  0.527174  0.757637       0.616162\n",
       "survived      0.62963  0.472826  0.242363       0.383838\n",
       "total_of_col  1.00000  1.000000  1.000000       1.000000"
      ]
     },
     "execution_count": 19,
     "metadata": {},
     "output_type": "execute_result"
    }
   ],
   "source": [
    "survived_class / survived_class.loc['total_of_col']   "
   ]
  },
  {
   "cell_type": "markdown",
   "id": "0dc353d4",
   "metadata": {
    "papermill": {
     "duration": 0.008368,
     "end_time": "2025-03-02T02:02:56.948082",
     "exception": false,
     "start_time": "2025-03-02T02:02:56.939714",
     "status": "completed"
    },
    "tags": []
   },
   "source": [
    "# Higher Dimensional Tables "
   ]
  },
  {
   "cell_type": "code",
   "execution_count": 20,
   "id": "cf95de42",
   "metadata": {
    "execution": {
     "iopub.execute_input": "2025-03-02T02:02:56.967252Z",
     "iopub.status.busy": "2025-03-02T02:02:56.966828Z",
     "iopub.status.idle": "2025-03-02T02:02:57.006051Z",
     "shell.execute_reply": "2025-03-02T02:02:57.004837Z"
    },
    "papermill": {
     "duration": 0.050899,
     "end_time": "2025-03-02T02:02:57.008038",
     "exception": false,
     "start_time": "2025-03-02T02:02:56.957139",
     "status": "completed"
    },
    "tags": []
   },
   "outputs": [
    {
     "data": {
      "text/html": [
       "<div>\n",
       "<style scoped>\n",
       "    .dataframe tbody tr th:only-of-type {\n",
       "        vertical-align: middle;\n",
       "    }\n",
       "\n",
       "    .dataframe tbody tr th {\n",
       "        vertical-align: top;\n",
       "    }\n",
       "\n",
       "    .dataframe thead tr th {\n",
       "        text-align: left;\n",
       "    }\n",
       "\n",
       "    .dataframe thead tr:last-of-type th {\n",
       "        text-align: right;\n",
       "    }\n",
       "</style>\n",
       "<table border=\"1\" class=\"dataframe\">\n",
       "  <thead>\n",
       "    <tr>\n",
       "      <th>Pclass</th>\n",
       "      <th colspan=\"2\" halign=\"left\">1</th>\n",
       "      <th colspan=\"2\" halign=\"left\">2</th>\n",
       "      <th colspan=\"2\" halign=\"left\">3</th>\n",
       "      <th>All</th>\n",
       "    </tr>\n",
       "    <tr>\n",
       "      <th>Sex</th>\n",
       "      <th>female</th>\n",
       "      <th>male</th>\n",
       "      <th>female</th>\n",
       "      <th>male</th>\n",
       "      <th>female</th>\n",
       "      <th>male</th>\n",
       "      <th></th>\n",
       "    </tr>\n",
       "    <tr>\n",
       "      <th>Survived</th>\n",
       "      <th></th>\n",
       "      <th></th>\n",
       "      <th></th>\n",
       "      <th></th>\n",
       "      <th></th>\n",
       "      <th></th>\n",
       "      <th></th>\n",
       "    </tr>\n",
       "  </thead>\n",
       "  <tbody>\n",
       "    <tr>\n",
       "      <th>0</th>\n",
       "      <td>3</td>\n",
       "      <td>77</td>\n",
       "      <td>6</td>\n",
       "      <td>91</td>\n",
       "      <td>72</td>\n",
       "      <td>300</td>\n",
       "      <td>549</td>\n",
       "    </tr>\n",
       "    <tr>\n",
       "      <th>1</th>\n",
       "      <td>91</td>\n",
       "      <td>45</td>\n",
       "      <td>70</td>\n",
       "      <td>17</td>\n",
       "      <td>72</td>\n",
       "      <td>47</td>\n",
       "      <td>342</td>\n",
       "    </tr>\n",
       "    <tr>\n",
       "      <th>All</th>\n",
       "      <td>94</td>\n",
       "      <td>122</td>\n",
       "      <td>76</td>\n",
       "      <td>108</td>\n",
       "      <td>144</td>\n",
       "      <td>347</td>\n",
       "      <td>891</td>\n",
       "    </tr>\n",
       "  </tbody>\n",
       "</table>\n",
       "</div>"
      ],
      "text/plain": [
       "Pclass        1           2           3       All\n",
       "Sex      female male female male female male     \n",
       "Survived                                         \n",
       "0             3   77      6   91     72  300  549\n",
       "1            91   45     70   17     72   47  342\n",
       "All          94  122     76  108    144  347  891"
      ]
     },
     "execution_count": 20,
     "metadata": {},
     "output_type": "execute_result"
    }
   ],
   "source": [
    "# survived_sex & Pclass: \n",
    "\n",
    "surv_sex_class = pd.crosstab(index = titanic['Survived'], \n",
    "                            columns = [titanic['Pclass'], \n",
    "                                      titanic['Sex']],\n",
    "                            margins = True)   \n",
    "\n",
    "\n",
    "surv_sex_class "
   ]
  },
  {
   "cell_type": "markdown",
   "id": "beab97b0",
   "metadata": {
    "papermill": {
     "duration": 0.008684,
     "end_time": "2025-03-02T02:02:57.025926",
     "exception": false,
     "start_time": "2025-03-02T02:02:57.017242",
     "status": "completed"
    },
    "tags": []
   },
   "source": [
    "1. Notice that by passing a second variable to the columns argument, the resulting table has columns categorized by both Pclass and Sex.\n",
    "   \n",
    "2. The outermost index (Pclass) returns sections of the table instead of individual columns: "
   ]
  },
  {
   "cell_type": "code",
   "execution_count": 21,
   "id": "a7a41ad3",
   "metadata": {
    "execution": {
     "iopub.execute_input": "2025-03-02T02:02:57.046042Z",
     "iopub.status.busy": "2025-03-02T02:02:57.045626Z",
     "iopub.status.idle": "2025-03-02T02:02:57.055007Z",
     "shell.execute_reply": "2025-03-02T02:02:57.053982Z"
    },
    "papermill": {
     "duration": 0.020829,
     "end_time": "2025-03-02T02:02:57.056694",
     "exception": false,
     "start_time": "2025-03-02T02:02:57.035865",
     "status": "completed"
    },
    "tags": []
   },
   "outputs": [
    {
     "data": {
      "text/html": [
       "<div>\n",
       "<style scoped>\n",
       "    .dataframe tbody tr th:only-of-type {\n",
       "        vertical-align: middle;\n",
       "    }\n",
       "\n",
       "    .dataframe tbody tr th {\n",
       "        vertical-align: top;\n",
       "    }\n",
       "\n",
       "    .dataframe thead th {\n",
       "        text-align: right;\n",
       "    }\n",
       "</style>\n",
       "<table border=\"1\" class=\"dataframe\">\n",
       "  <thead>\n",
       "    <tr style=\"text-align: right;\">\n",
       "      <th>Sex</th>\n",
       "      <th>female</th>\n",
       "      <th>male</th>\n",
       "    </tr>\n",
       "    <tr>\n",
       "      <th>Survived</th>\n",
       "      <th></th>\n",
       "      <th></th>\n",
       "    </tr>\n",
       "  </thead>\n",
       "  <tbody>\n",
       "    <tr>\n",
       "      <th>0</th>\n",
       "      <td>6</td>\n",
       "      <td>91</td>\n",
       "    </tr>\n",
       "    <tr>\n",
       "      <th>1</th>\n",
       "      <td>70</td>\n",
       "      <td>17</td>\n",
       "    </tr>\n",
       "    <tr>\n",
       "      <th>All</th>\n",
       "      <td>76</td>\n",
       "      <td>108</td>\n",
       "    </tr>\n",
       "  </tbody>\n",
       "</table>\n",
       "</div>"
      ],
      "text/plain": [
       "Sex       female  male\n",
       "Survived              \n",
       "0              6    91\n",
       "1             70    17\n",
       "All           76   108"
      ]
     },
     "execution_count": 21,
     "metadata": {},
     "output_type": "execute_result"
    }
   ],
   "source": [
    "# Get the subtable under Pclass 2\n",
    "\n",
    "surv_sex_class[2]  "
   ]
  },
  {
   "cell_type": "markdown",
   "id": "a9747c38",
   "metadata": {
    "papermill": {
     "duration": 0.008715,
     "end_time": "2025-03-02T02:02:57.074620",
     "exception": false,
     "start_time": "2025-03-02T02:02:57.065905",
     "status": "completed"
    },
    "tags": []
   },
   "source": [
    "The secondary column index, Sex, can't be used as a top-level index, but it can be used within a given Pclass: "
   ]
  },
  {
   "cell_type": "code",
   "execution_count": 22,
   "id": "19e6e147",
   "metadata": {
    "execution": {
     "iopub.execute_input": "2025-03-02T02:02:57.094380Z",
     "iopub.status.busy": "2025-03-02T02:02:57.094018Z",
     "iopub.status.idle": "2025-03-02T02:02:57.101263Z",
     "shell.execute_reply": "2025-03-02T02:02:57.100300Z"
    },
    "papermill": {
     "duration": 0.019263,
     "end_time": "2025-03-02T02:02:57.103066",
     "exception": false,
     "start_time": "2025-03-02T02:02:57.083803",
     "status": "completed"
    },
    "tags": []
   },
   "outputs": [
    {
     "data": {
      "text/plain": [
       "Survived\n",
       "0       6\n",
       "1      70\n",
       "All    76\n",
       "Name: female, dtype: int64"
      ]
     },
     "execution_count": 22,
     "metadata": {},
     "output_type": "execute_result"
    }
   ],
   "source": [
    "surv_sex_class[2][\"female\"]  "
   ]
  },
  {
   "cell_type": "code",
   "execution_count": 23,
   "id": "b19bd75f",
   "metadata": {
    "execution": {
     "iopub.execute_input": "2025-03-02T02:02:57.123020Z",
     "iopub.status.busy": "2025-03-02T02:02:57.122623Z",
     "iopub.status.idle": "2025-03-02T02:02:57.137844Z",
     "shell.execute_reply": "2025-03-02T02:02:57.136945Z"
    },
    "papermill": {
     "duration": 0.027014,
     "end_time": "2025-03-02T02:02:57.139447",
     "exception": false,
     "start_time": "2025-03-02T02:02:57.112433",
     "status": "completed"
    },
    "tags": []
   },
   "outputs": [
    {
     "data": {
      "text/html": [
       "<div>\n",
       "<style scoped>\n",
       "    .dataframe tbody tr th:only-of-type {\n",
       "        vertical-align: middle;\n",
       "    }\n",
       "\n",
       "    .dataframe tbody tr th {\n",
       "        vertical-align: top;\n",
       "    }\n",
       "\n",
       "    .dataframe thead tr th {\n",
       "        text-align: left;\n",
       "    }\n",
       "\n",
       "    .dataframe thead tr:last-of-type th {\n",
       "        text-align: right;\n",
       "    }\n",
       "</style>\n",
       "<table border=\"1\" class=\"dataframe\">\n",
       "  <thead>\n",
       "    <tr>\n",
       "      <th>Pclass</th>\n",
       "      <th colspan=\"2\" halign=\"left\">1</th>\n",
       "      <th colspan=\"2\" halign=\"left\">2</th>\n",
       "      <th colspan=\"2\" halign=\"left\">3</th>\n",
       "      <th>All</th>\n",
       "    </tr>\n",
       "    <tr>\n",
       "      <th>Sex</th>\n",
       "      <th>female</th>\n",
       "      <th>male</th>\n",
       "      <th>female</th>\n",
       "      <th>male</th>\n",
       "      <th>female</th>\n",
       "      <th>male</th>\n",
       "      <th></th>\n",
       "    </tr>\n",
       "    <tr>\n",
       "      <th>Survived</th>\n",
       "      <th></th>\n",
       "      <th></th>\n",
       "      <th></th>\n",
       "      <th></th>\n",
       "      <th></th>\n",
       "      <th></th>\n",
       "      <th></th>\n",
       "    </tr>\n",
       "  </thead>\n",
       "  <tbody>\n",
       "    <tr>\n",
       "      <th>0</th>\n",
       "      <td>0.031915</td>\n",
       "      <td>0.631148</td>\n",
       "      <td>0.078947</td>\n",
       "      <td>0.842593</td>\n",
       "      <td>0.5</td>\n",
       "      <td>0.864553</td>\n",
       "      <td>0.616162</td>\n",
       "    </tr>\n",
       "    <tr>\n",
       "      <th>1</th>\n",
       "      <td>0.968085</td>\n",
       "      <td>0.368852</td>\n",
       "      <td>0.921053</td>\n",
       "      <td>0.157407</td>\n",
       "      <td>0.5</td>\n",
       "      <td>0.135447</td>\n",
       "      <td>0.383838</td>\n",
       "    </tr>\n",
       "    <tr>\n",
       "      <th>All</th>\n",
       "      <td>1.000000</td>\n",
       "      <td>1.000000</td>\n",
       "      <td>1.000000</td>\n",
       "      <td>1.000000</td>\n",
       "      <td>1.0</td>\n",
       "      <td>1.000000</td>\n",
       "      <td>1.000000</td>\n",
       "    </tr>\n",
       "  </tbody>\n",
       "</table>\n",
       "</div>"
      ],
      "text/plain": [
       "Pclass           1                   2                3                 All\n",
       "Sex         female      male    female      male female      male          \n",
       "Survived                                                                   \n",
       "0         0.031915  0.631148  0.078947  0.842593    0.5  0.864553  0.616162\n",
       "1         0.968085  0.368852  0.921053  0.157407    0.5  0.135447  0.383838\n",
       "All       1.000000  1.000000  1.000000  1.000000    1.0  1.000000  1.000000"
      ]
     },
     "execution_count": 23,
     "metadata": {},
     "output_type": "execute_result"
    }
   ],
   "source": [
    "# Due to the convenient hierarchical structure of the table, \n",
    "# we still use one division to get the proportion of survival across each column: \n",
    "\n",
    "surv_sex_class / surv_sex_class.loc['All']\n",
    " \n"
   ]
  },
  {
   "cell_type": "markdown",
   "id": "18528164",
   "metadata": {
    "papermill": {
     "duration": 0.009349,
     "end_time": "2025-03-02T02:02:57.158869",
     "exception": false,
     "start_time": "2025-03-02T02:02:57.149520",
     "status": "completed"
    },
    "tags": []
   },
   "source": [
    "1. Here we see something quite interesting: **over 90% of women in the first and second classes survived**, but **only 50%** of women in **third** class survived. **Men in first class also survived at a greater rate than men in lower classes*.\n",
    "   \n",
    "2. **Passenger class seems to have a significant impact on survival**, so it would likely be useful to include as a feature in a predictive model. "
   ]
  }
 ],
 "metadata": {
  "kaggle": {
   "accelerator": "none",
   "dataSources": [
    {
     "datasetId": 6764693,
     "sourceId": 10886278,
     "sourceType": "datasetVersion"
    }
   ],
   "dockerImageVersionId": 30918,
   "isGpuEnabled": false,
   "isInternetEnabled": true,
   "language": "python",
   "sourceType": "notebook"
  },
  "kernelspec": {
   "display_name": "Python 3",
   "language": "python",
   "name": "python3"
  },
  "language_info": {
   "codemirror_mode": {
    "name": "ipython",
    "version": 3
   },
   "file_extension": ".py",
   "mimetype": "text/x-python",
   "name": "python",
   "nbconvert_exporter": "python",
   "pygments_lexer": "ipython3",
   "version": "3.10.12"
  },
  "papermill": {
   "default_parameters": {},
   "duration": 5.815879,
   "end_time": "2025-03-02T02:02:57.792191",
   "environment_variables": {},
   "exception": null,
   "input_path": "__notebook__.ipynb",
   "output_path": "__notebook__.ipynb",
   "parameters": {},
   "start_time": "2025-03-02T02:02:51.976312",
   "version": "2.6.0"
  }
 },
 "nbformat": 4,
 "nbformat_minor": 5
}
