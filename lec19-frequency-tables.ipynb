{
 "cells": [
  {
   "cell_type": "markdown",
   "id": "7515a98f",
   "metadata": {
    "execution": {
     "iopub.execute_input": "2025-03-01T06:03:19.191555Z",
     "iopub.status.busy": "2025-03-01T06:03:19.191205Z",
     "iopub.status.idle": "2025-03-01T06:03:19.612517Z",
     "shell.execute_reply": "2025-03-01T06:03:19.611351Z",
     "shell.execute_reply.started": "2025-03-01T06:03:19.191508Z"
    },
    "papermill": {
     "duration": 0.005513,
     "end_time": "2025-03-01T08:56:18.248035",
     "exception": false,
     "start_time": "2025-03-01T08:56:18.242522",
     "status": "completed"
    },
    "tags": []
   },
   "source": [
    "1. Discovering relationships between variables is the fundamental goal of data analysis.\n",
    "\n",
    "2. Frequency tables are a basic tool to explore data and get an idea of the relationships between variables.\n",
    "\n",
    "3. A frequency table will show the **counts of one or more categorical variables**."
   ]
  },
  {
   "cell_type": "code",
   "execution_count": 1,
   "id": "03671e11",
   "metadata": {
    "execution": {
     "iopub.execute_input": "2025-03-01T08:56:18.259635Z",
     "iopub.status.busy": "2025-03-01T08:56:18.259231Z",
     "iopub.status.idle": "2025-03-01T08:56:19.404910Z",
     "shell.execute_reply": "2025-03-01T08:56:19.403486Z"
    },
    "papermill": {
     "duration": 1.153898,
     "end_time": "2025-03-01T08:56:19.407115",
     "exception": false,
     "start_time": "2025-03-01T08:56:18.253217",
     "status": "completed"
    },
    "tags": []
   },
   "outputs": [],
   "source": [
    "import numpy as np \n",
    "import pandas as pd \n",
    "import os "
   ]
  },
  {
   "cell_type": "code",
   "execution_count": 2,
   "id": "bcc6349e",
   "metadata": {
    "execution": {
     "iopub.execute_input": "2025-03-01T08:56:19.420572Z",
     "iopub.status.busy": "2025-03-01T08:56:19.419990Z",
     "iopub.status.idle": "2025-03-01T08:56:19.427841Z",
     "shell.execute_reply": "2025-03-01T08:56:19.426641Z"
    },
    "papermill": {
     "duration": 0.0171,
     "end_time": "2025-03-01T08:56:19.429820",
     "exception": false,
     "start_time": "2025-03-01T08:56:19.412720",
     "status": "completed"
    },
    "tags": []
   },
   "outputs": [
    {
     "data": {
      "text/plain": [
       "'/kaggle'"
      ]
     },
     "execution_count": 2,
     "metadata": {},
     "output_type": "execute_result"
    }
   ],
   "source": [
    "os.chdir('/kaggle/') \n",
    "os.getcwd()"
   ]
  },
  {
   "cell_type": "code",
   "execution_count": 3,
   "id": "6e508388",
   "metadata": {
    "execution": {
     "iopub.execute_input": "2025-03-01T08:56:19.442199Z",
     "iopub.status.busy": "2025-03-01T08:56:19.441740Z",
     "iopub.status.idle": "2025-03-01T08:56:19.471137Z",
     "shell.execute_reply": "2025-03-01T08:56:19.469979Z"
    },
    "papermill": {
     "duration": 0.037604,
     "end_time": "2025-03-01T08:56:19.473064",
     "exception": false,
     "start_time": "2025-03-01T08:56:19.435460",
     "status": "completed"
    },
    "tags": []
   },
   "outputs": [],
   "source": [
    "titanic = pd.read_csv('/kaggle/input/titanic-train/train.csv')  "
   ]
  },
  {
   "cell_type": "code",
   "execution_count": 4,
   "id": "67db44a8",
   "metadata": {
    "execution": {
     "iopub.execute_input": "2025-03-01T08:56:19.484844Z",
     "iopub.status.busy": "2025-03-01T08:56:19.484500Z",
     "iopub.status.idle": "2025-03-01T08:56:19.497741Z",
     "shell.execute_reply": "2025-03-01T08:56:19.496622Z"
    },
    "papermill": {
     "duration": 0.021347,
     "end_time": "2025-03-01T08:56:19.499722",
     "exception": false,
     "start_time": "2025-03-01T08:56:19.478375",
     "status": "completed"
    },
    "tags": []
   },
   "outputs": [
    {
     "data": {
      "text/plain": [
       "array([nan, 'C85', 'C123', 'E46', 'G6', 'C103', 'D56', 'A6',\n",
       "       'C23 C25 C27', 'B78', 'D33', 'B30', 'C52', 'B28', 'C83', 'F33',\n",
       "       'F G73', 'E31', 'A5', 'D10 D12', 'D26', 'C110', 'B58 B60', 'E101',\n",
       "       'F E69', 'D47', 'B86', 'F2', 'C2', 'E33', 'B19', 'A7', 'C49', 'F4',\n",
       "       'A32', 'B4', 'B80', 'A31', 'D36', 'D15', 'C93', 'C78', 'D35',\n",
       "       'C87', 'B77', 'E67', 'B94', 'C125', 'C99', 'C118', 'D7', 'A19',\n",
       "       'B49', 'D', 'C22 C26', 'C106', 'C65', 'E36', 'C54',\n",
       "       'B57 B59 B63 B66', 'C7', 'E34', 'C32', 'B18', 'C124', 'C91', 'E40',\n",
       "       'T', 'C128', 'D37', 'B35', 'E50', 'C82', 'B96 B98', 'E10', 'E44',\n",
       "       'A34', 'C104', 'C111', 'C92', 'E38', 'D21', 'E12', 'E63', 'A14',\n",
       "       'B37', 'C30', 'D20', 'B79', 'E25', 'D46', 'B73', 'C95', 'B38',\n",
       "       'B39', 'B22', 'C86', 'C70', 'A16', 'C101', 'C68', 'A10', 'E68',\n",
       "       'B41', 'A20', 'D19', 'D50', 'D9', 'A23', 'B50', 'A26', 'D48',\n",
       "       'E58', 'C126', 'B71', 'B51 B53 B55', 'D49', 'B5', 'B20', 'F G63',\n",
       "       'C62 C64', 'E24', 'C90', 'C45', 'E8', 'B101', 'D45', 'C46', 'D30',\n",
       "       'E121', 'D11', 'E77', 'F38', 'B3', 'D6', 'B82 B84', 'D17', 'A36',\n",
       "       'B102', 'B69', 'E49', 'C47', 'D28', 'E17', 'A24', 'C50', 'B42',\n",
       "       'C148'], dtype=object)"
      ]
     },
     "execution_count": 4,
     "metadata": {},
     "output_type": "execute_result"
    }
   ],
   "source": [
    "titanic['Cabin'].unique()"
   ]
  },
  {
   "cell_type": "code",
   "execution_count": 5,
   "id": "45f5a0e4",
   "metadata": {
    "execution": {
     "iopub.execute_input": "2025-03-01T08:56:19.511406Z",
     "iopub.status.busy": "2025-03-01T08:56:19.511028Z",
     "iopub.status.idle": "2025-03-01T08:56:19.534435Z",
     "shell.execute_reply": "2025-03-01T08:56:19.532997Z"
    },
    "papermill": {
     "duration": 0.031547,
     "end_time": "2025-03-01T08:56:19.536559",
     "exception": false,
     "start_time": "2025-03-01T08:56:19.505012",
     "status": "completed"
    },
    "tags": []
   },
   "outputs": [
    {
     "data": {
      "text/plain": [
       "count     891\n",
       "unique      9\n",
       "top         n\n",
       "freq      687\n",
       "Name: Cabin, dtype: object"
      ]
     },
     "execution_count": 5,
     "metadata": {},
     "output_type": "execute_result"
    }
   ],
   "source": [
    "char_cabin = titanic['Cabin'].astype(str) \n",
    "new_cabin = np.array([Cabin[0] for Cabin in char_cabin])  \n",
    "new_cabin = pd.Categorical(new_cabin)\n",
    "titanic[\"Cabin\"] = new_cabin \n",
    "titanic[\"Cabin\"].describe() "
   ]
  },
  {
   "cell_type": "markdown",
   "id": "f867eceb",
   "metadata": {
    "papermill": {
     "duration": 0.005064,
     "end_time": "2025-03-01T08:56:19.547099",
     "exception": false,
     "start_time": "2025-03-01T08:56:19.542035",
     "status": "completed"
    },
    "tags": []
   },
   "source": [
    "# One-Way Tables¶ "
   ]
  },
  {
   "cell_type": "markdown",
   "id": "47df3eec",
   "metadata": {
    "papermill": {
     "duration": 0.005059,
     "end_time": "2025-03-01T08:56:19.557456",
     "exception": false,
     "start_time": "2025-03-01T08:56:19.552397",
     "status": "completed"
    },
    "tags": []
   },
   "source": [
    "1. Create frequency tables (also known as **crosstabs**) in pandas using the **pd.crosstab()** function. \n",
    "   \n",
    "2. The function takes one or more array-like objects as indexes or columns and then constructs a new DataFrame of variable counts **based on the supplied arrays**. "
   ]
  },
  {
   "cell_type": "code",
   "execution_count": 6,
   "id": "cfd45b73",
   "metadata": {
    "execution": {
     "iopub.execute_input": "2025-03-01T08:56:19.569617Z",
     "iopub.status.busy": "2025-03-01T08:56:19.569211Z",
     "iopub.status.idle": "2025-03-01T08:56:19.618852Z",
     "shell.execute_reply": "2025-03-01T08:56:19.617661Z"
    },
    "papermill": {
     "duration": 0.057885,
     "end_time": "2025-03-01T08:56:19.620760",
     "exception": false,
     "start_time": "2025-03-01T08:56:19.562875",
     "status": "completed"
    },
    "tags": []
   },
   "outputs": [
    {
     "data": {
      "text/html": [
       "<div>\n",
       "<style scoped>\n",
       "    .dataframe tbody tr th:only-of-type {\n",
       "        vertical-align: middle;\n",
       "    }\n",
       "\n",
       "    .dataframe tbody tr th {\n",
       "        vertical-align: top;\n",
       "    }\n",
       "\n",
       "    .dataframe thead th {\n",
       "        text-align: right;\n",
       "    }\n",
       "</style>\n",
       "<table border=\"1\" class=\"dataframe\">\n",
       "  <thead>\n",
       "    <tr style=\"text-align: right;\">\n",
       "      <th>col_0</th>\n",
       "      <th>Count</th>\n",
       "    </tr>\n",
       "    <tr>\n",
       "      <th>Survived</th>\n",
       "      <th></th>\n",
       "    </tr>\n",
       "  </thead>\n",
       "  <tbody>\n",
       "    <tr>\n",
       "      <th>0</th>\n",
       "      <td>549</td>\n",
       "    </tr>\n",
       "    <tr>\n",
       "      <th>1</th>\n",
       "      <td>342</td>\n",
       "    </tr>\n",
       "  </tbody>\n",
       "</table>\n",
       "</div>"
      ],
      "text/plain": [
       "col_0     Count\n",
       "Survived       \n",
       "0           549\n",
       "1           342"
      ]
     },
     "execution_count": 6,
     "metadata": {},
     "output_type": "execute_result"
    }
   ],
   "source": [
    "# 1. make a crosstab \n",
    "# 2. name the columns \n",
    "\n",
    "my_tab = pd.crosstab(index = titanic[\"Survived\"], \n",
    "                    columns = \"Count\") \n",
    "\n",
    "my_tab \n"
   ]
  },
  {
   "cell_type": "code",
   "execution_count": 7,
   "id": "5d970470",
   "metadata": {
    "execution": {
     "iopub.execute_input": "2025-03-01T08:56:19.633512Z",
     "iopub.status.busy": "2025-03-01T08:56:19.633120Z",
     "iopub.status.idle": "2025-03-01T08:56:19.638969Z",
     "shell.execute_reply": "2025-03-01T08:56:19.637966Z"
    },
    "papermill": {
     "duration": 0.013948,
     "end_time": "2025-03-01T08:56:19.640654",
     "exception": false,
     "start_time": "2025-03-01T08:56:19.626706",
     "status": "completed"
    },
    "tags": []
   },
   "outputs": [
    {
     "data": {
      "text/plain": [
       "pandas.core.frame.DataFrame"
      ]
     },
     "execution_count": 7,
     "metadata": {},
     "output_type": "execute_result"
    }
   ],
   "source": [
    "# Confirm that the crosstab is a DataFrame: check the type \n",
    "\n",
    "type(my_tab) "
   ]
  },
  {
   "cell_type": "code",
   "execution_count": 8,
   "id": "55e489f9",
   "metadata": {
    "execution": {
     "iopub.execute_input": "2025-03-01T08:56:19.653530Z",
     "iopub.status.busy": "2025-03-01T08:56:19.653088Z",
     "iopub.status.idle": "2025-03-01T08:56:19.668521Z",
     "shell.execute_reply": "2025-03-01T08:56:19.667409Z"
    },
    "papermill": {
     "duration": 0.024175,
     "end_time": "2025-03-01T08:56:19.670457",
     "exception": false,
     "start_time": "2025-03-01T08:56:19.646282",
     "status": "completed"
    },
    "tags": []
   },
   "outputs": [
    {
     "data": {
      "text/html": [
       "<div>\n",
       "<style scoped>\n",
       "    .dataframe tbody tr th:only-of-type {\n",
       "        vertical-align: middle;\n",
       "    }\n",
       "\n",
       "    .dataframe tbody tr th {\n",
       "        vertical-align: top;\n",
       "    }\n",
       "\n",
       "    .dataframe thead th {\n",
       "        text-align: right;\n",
       "    }\n",
       "</style>\n",
       "<table border=\"1\" class=\"dataframe\">\n",
       "  <thead>\n",
       "    <tr style=\"text-align: right;\">\n",
       "      <th>col_0</th>\n",
       "      <th>count</th>\n",
       "    </tr>\n",
       "    <tr>\n",
       "      <th>Pclass</th>\n",
       "      <th></th>\n",
       "    </tr>\n",
       "  </thead>\n",
       "  <tbody>\n",
       "    <tr>\n",
       "      <th>1</th>\n",
       "      <td>216</td>\n",
       "    </tr>\n",
       "    <tr>\n",
       "      <th>2</th>\n",
       "      <td>184</td>\n",
       "    </tr>\n",
       "    <tr>\n",
       "      <th>3</th>\n",
       "      <td>491</td>\n",
       "    </tr>\n",
       "  </tbody>\n",
       "</table>\n",
       "</div>"
      ],
      "text/plain": [
       "col_0   count\n",
       "Pclass       \n",
       "1         216\n",
       "2         184\n",
       "3         491"
      ]
     },
     "execution_count": 8,
     "metadata": {},
     "output_type": "execute_result"
    }
   ],
   "source": [
    "# Make a crosstab to explore var \"Plcass\" \n",
    "\n",
    "pd.crosstab(index = titanic['Pclass'], \n",
    "           columns = \"count\")  "
   ]
  },
  {
   "cell_type": "code",
   "execution_count": 9,
   "id": "4047606d",
   "metadata": {
    "execution": {
     "iopub.execute_input": "2025-03-01T08:56:19.683399Z",
     "iopub.status.busy": "2025-03-01T08:56:19.683001Z",
     "iopub.status.idle": "2025-03-01T08:56:19.698432Z",
     "shell.execute_reply": "2025-03-01T08:56:19.697212Z"
    },
    "papermill": {
     "duration": 0.024035,
     "end_time": "2025-03-01T08:56:19.700463",
     "exception": false,
     "start_time": "2025-03-01T08:56:19.676428",
     "status": "completed"
    },
    "tags": []
   },
   "outputs": [
    {
     "data": {
      "text/html": [
       "<div>\n",
       "<style scoped>\n",
       "    .dataframe tbody tr th:only-of-type {\n",
       "        vertical-align: middle;\n",
       "    }\n",
       "\n",
       "    .dataframe tbody tr th {\n",
       "        vertical-align: top;\n",
       "    }\n",
       "\n",
       "    .dataframe thead th {\n",
       "        text-align: right;\n",
       "    }\n",
       "</style>\n",
       "<table border=\"1\" class=\"dataframe\">\n",
       "  <thead>\n",
       "    <tr style=\"text-align: right;\">\n",
       "      <th>col_0</th>\n",
       "      <th>count</th>\n",
       "    </tr>\n",
       "    <tr>\n",
       "      <th>Sex</th>\n",
       "      <th></th>\n",
       "    </tr>\n",
       "  </thead>\n",
       "  <tbody>\n",
       "    <tr>\n",
       "      <th>female</th>\n",
       "      <td>314</td>\n",
       "    </tr>\n",
       "    <tr>\n",
       "      <th>male</th>\n",
       "      <td>577</td>\n",
       "    </tr>\n",
       "  </tbody>\n",
       "</table>\n",
       "</div>"
      ],
      "text/plain": [
       "col_0   count\n",
       "Sex          \n",
       "female    314\n",
       "male      577"
      ]
     },
     "execution_count": 9,
     "metadata": {},
     "output_type": "execute_result"
    }
   ],
   "source": [
    "# Make a crosstab to explore var \"Sex\" \n",
    "\n",
    "pd.crosstab(index = titanic['Sex'], \n",
    "           columns = \"count\") "
   ]
  },
  {
   "cell_type": "code",
   "execution_count": 10,
   "id": "67c58b8d",
   "metadata": {
    "execution": {
     "iopub.execute_input": "2025-03-01T08:56:19.713741Z",
     "iopub.status.busy": "2025-03-01T08:56:19.713406Z",
     "iopub.status.idle": "2025-03-01T08:56:19.721080Z",
     "shell.execute_reply": "2025-03-01T08:56:19.719996Z"
    },
    "papermill": {
     "duration": 0.016323,
     "end_time": "2025-03-01T08:56:19.722893",
     "exception": false,
     "start_time": "2025-03-01T08:56:19.706570",
     "status": "completed"
    },
    "tags": []
   },
   "outputs": [
    {
     "data": {
      "text/plain": [
       "Sex\n",
       "male      577\n",
       "female    314\n",
       "Name: count, dtype: int64"
      ]
     },
     "execution_count": 10,
     "metadata": {},
     "output_type": "execute_result"
    }
   ],
   "source": [
    "# can also use value_counts() \n",
    "# on a pandas series (a single column) to check its counts: \n",
    "\n",
    "titanic.Sex.value_counts() "
   ]
  },
  {
   "cell_type": "markdown",
   "id": "2a579892",
   "metadata": {
    "papermill": {
     "duration": 0.005575,
     "end_time": "2025-03-01T08:56:19.734567",
     "exception": false,
     "start_time": "2025-03-01T08:56:19.728992",
     "status": "completed"
    },
    "tags": []
   },
   "source": [
    "1. Even these simple one-way tables give us some useful insight: we immediately get a sense of distribution of records across the categories. For instance, we see that males outnumbered females by a significant margin and that there were more third-class passengers than first and second-class passengers combined.\n",
    "\n",
    "2. If you pass a variable with many unique values to table(), such a numeric variable, it will still produce a table of counts for each unique value, but the counts may not be particularly meaningful.\n",
    "\n",
    "3. Since the crosstab function produces DataFrames, the DataFrame operations we've learned work on crosstabs. "
   ]
  },
  {
   "cell_type": "code",
   "execution_count": 11,
   "id": "da7ec94e",
   "metadata": {
    "execution": {
     "iopub.execute_input": "2025-03-01T08:56:19.747699Z",
     "iopub.status.busy": "2025-03-01T08:56:19.747303Z",
     "iopub.status.idle": "2025-03-01T08:56:19.767764Z",
     "shell.execute_reply": "2025-03-01T08:56:19.766513Z"
    },
    "papermill": {
     "duration": 0.029113,
     "end_time": "2025-03-01T08:56:19.769652",
     "exception": false,
     "start_time": "2025-03-01T08:56:19.740539",
     "status": "completed"
    },
    "tags": []
   },
   "outputs": [
    {
     "data": {
      "text/html": [
       "<div>\n",
       "<style scoped>\n",
       "    .dataframe tbody tr th:only-of-type {\n",
       "        vertical-align: middle;\n",
       "    }\n",
       "\n",
       "    .dataframe tbody tr th {\n",
       "        vertical-align: top;\n",
       "    }\n",
       "\n",
       "    .dataframe thead th {\n",
       "        text-align: right;\n",
       "    }\n",
       "</style>\n",
       "<table border=\"1\" class=\"dataframe\">\n",
       "  <thead>\n",
       "    <tr style=\"text-align: right;\">\n",
       "      <th>col_0</th>\n",
       "      <th>count</th>\n",
       "    </tr>\n",
       "    <tr>\n",
       "      <th>Cabin</th>\n",
       "      <th></th>\n",
       "    </tr>\n",
       "  </thead>\n",
       "  <tbody>\n",
       "    <tr>\n",
       "      <th>A</th>\n",
       "      <td>15</td>\n",
       "    </tr>\n",
       "    <tr>\n",
       "      <th>B</th>\n",
       "      <td>47</td>\n",
       "    </tr>\n",
       "    <tr>\n",
       "      <th>C</th>\n",
       "      <td>59</td>\n",
       "    </tr>\n",
       "    <tr>\n",
       "      <th>D</th>\n",
       "      <td>33</td>\n",
       "    </tr>\n",
       "    <tr>\n",
       "      <th>E</th>\n",
       "      <td>32</td>\n",
       "    </tr>\n",
       "    <tr>\n",
       "      <th>F</th>\n",
       "      <td>13</td>\n",
       "    </tr>\n",
       "    <tr>\n",
       "      <th>G</th>\n",
       "      <td>4</td>\n",
       "    </tr>\n",
       "    <tr>\n",
       "      <th>T</th>\n",
       "      <td>1</td>\n",
       "    </tr>\n",
       "    <tr>\n",
       "      <th>n</th>\n",
       "      <td>687</td>\n",
       "    </tr>\n",
       "  </tbody>\n",
       "</table>\n",
       "</div>"
      ],
      "text/plain": [
       "col_0  count\n",
       "Cabin       \n",
       "A         15\n",
       "B         47\n",
       "C         59\n",
       "D         33\n",
       "E         32\n",
       "F         13\n",
       "G          4\n",
       "T          1\n",
       "n        687"
      ]
     },
     "execution_count": 11,
     "metadata": {},
     "output_type": "execute_result"
    }
   ],
   "source": [
    "cabin_tab = pd.crosstab(index = titanic[\"Cabin\"], \n",
    "                       columns = \"count\") \n",
    "cabin_tab "
   ]
  },
  {
   "cell_type": "code",
   "execution_count": 12,
   "id": "f96b37cb",
   "metadata": {
    "execution": {
     "iopub.execute_input": "2025-03-01T08:56:19.784070Z",
     "iopub.status.busy": "2025-03-01T08:56:19.783615Z",
     "iopub.status.idle": "2025-03-01T08:56:19.792886Z",
     "shell.execute_reply": "2025-03-01T08:56:19.791243Z"
    },
    "papermill": {
     "duration": 0.018382,
     "end_time": "2025-03-01T08:56:19.794449",
     "exception": false,
     "start_time": "2025-03-01T08:56:19.776067",
     "status": "completed"
    },
    "tags": []
   },
   "outputs": [
    {
     "name": "stdout",
     "output_type": "stream",
     "text": [
      "col_0\n",
      "count    891\n",
      "dtype: int64 \n",
      "\n",
      "(9, 1) \n",
      "\n",
      "col_0  count\n",
      "Cabin       \n",
      "B         47\n",
      "C         59\n",
      "D         33\n",
      "E         32\n",
      "F         13\n",
      "G          4\n"
     ]
    }
   ],
   "source": [
    "# Sum the counts: \n",
    "print(cabin_tab.sum(), \"\\n\")  \n",
    "\n",
    "# Check the rows and cols: \n",
    "print(cabin_tab.shape, \"\\n\") \n",
    "\n",
    "# slice the rows from 1- 6: \n",
    "print(cabin_tab.iloc[1:7])  "
   ]
  },
  {
   "cell_type": "markdown",
   "id": "c9c8a1d1",
   "metadata": {
    "papermill": {
     "duration": 0.005793,
     "end_time": "2025-03-01T08:56:19.806572",
     "exception": false,
     "start_time": "2025-03-01T08:56:19.800779",
     "status": "completed"
    },
    "tags": []
   },
   "source": [
    "1. One of the most useful aspects of frequency tables is that they allow you to **extract the proportion of the data** that belongs to each category.  \n",
    "\n",
    "2. With a one-way table, you can do this by dividing each table value by the total number of records in the table: \n",
    "\n"
   ]
  },
  {
   "cell_type": "code",
   "execution_count": 13,
   "id": "6e7d4644",
   "metadata": {
    "execution": {
     "iopub.execute_input": "2025-03-01T08:56:19.819987Z",
     "iopub.status.busy": "2025-03-01T08:56:19.819656Z",
     "iopub.status.idle": "2025-03-01T08:56:19.830048Z",
     "shell.execute_reply": "2025-03-01T08:56:19.828991Z"
    },
    "papermill": {
     "duration": 0.019277,
     "end_time": "2025-03-01T08:56:19.831933",
     "exception": false,
     "start_time": "2025-03-01T08:56:19.812656",
     "status": "completed"
    },
    "tags": []
   },
   "outputs": [
    {
     "data": {
      "text/html": [
       "<div>\n",
       "<style scoped>\n",
       "    .dataframe tbody tr th:only-of-type {\n",
       "        vertical-align: middle;\n",
       "    }\n",
       "\n",
       "    .dataframe tbody tr th {\n",
       "        vertical-align: top;\n",
       "    }\n",
       "\n",
       "    .dataframe thead th {\n",
       "        text-align: right;\n",
       "    }\n",
       "</style>\n",
       "<table border=\"1\" class=\"dataframe\">\n",
       "  <thead>\n",
       "    <tr style=\"text-align: right;\">\n",
       "      <th>col_0</th>\n",
       "      <th>count</th>\n",
       "    </tr>\n",
       "    <tr>\n",
       "      <th>Cabin</th>\n",
       "      <th></th>\n",
       "    </tr>\n",
       "  </thead>\n",
       "  <tbody>\n",
       "    <tr>\n",
       "      <th>A</th>\n",
       "      <td>0.016835</td>\n",
       "    </tr>\n",
       "    <tr>\n",
       "      <th>B</th>\n",
       "      <td>0.052750</td>\n",
       "    </tr>\n",
       "    <tr>\n",
       "      <th>C</th>\n",
       "      <td>0.066218</td>\n",
       "    </tr>\n",
       "    <tr>\n",
       "      <th>D</th>\n",
       "      <td>0.037037</td>\n",
       "    </tr>\n",
       "    <tr>\n",
       "      <th>E</th>\n",
       "      <td>0.035915</td>\n",
       "    </tr>\n",
       "    <tr>\n",
       "      <th>F</th>\n",
       "      <td>0.014590</td>\n",
       "    </tr>\n",
       "    <tr>\n",
       "      <th>G</th>\n",
       "      <td>0.004489</td>\n",
       "    </tr>\n",
       "    <tr>\n",
       "      <th>T</th>\n",
       "      <td>0.001122</td>\n",
       "    </tr>\n",
       "    <tr>\n",
       "      <th>n</th>\n",
       "      <td>0.771044</td>\n",
       "    </tr>\n",
       "  </tbody>\n",
       "</table>\n",
       "</div>"
      ],
      "text/plain": [
       "col_0     count\n",
       "Cabin          \n",
       "A      0.016835\n",
       "B      0.052750\n",
       "C      0.066218\n",
       "D      0.037037\n",
       "E      0.035915\n",
       "F      0.014590\n",
       "G      0.004489\n",
       "T      0.001122\n",
       "n      0.771044"
      ]
     },
     "execution_count": 13,
     "metadata": {},
     "output_type": "execute_result"
    }
   ],
   "source": [
    "cabin_tab / cabin_tab.sum() "
   ]
  },
  {
   "cell_type": "markdown",
   "id": "2b8c218c",
   "metadata": {
    "papermill": {
     "duration": 0.005952,
     "end_time": "2025-03-01T08:56:19.844323",
     "exception": false,
     "start_time": "2025-03-01T08:56:19.838371",
     "status": "completed"
    },
    "tags": []
   },
   "source": [
    "# Two-Way Tables"
   ]
  },
  {
   "cell_type": "markdown",
   "id": "f16be9be",
   "metadata": {
    "papermill": {
     "duration": 0.005825,
     "end_time": "2025-03-01T08:56:19.856768",
     "exception": false,
     "start_time": "2025-03-01T08:56:19.850943",
     "status": "completed"
    },
    "tags": []
   },
   "source": [
    "Two-way frequency tables, also called contingency tables, are tables of counts with two dimensions where each dimension is a different variable. Two-way tables can give you insight into the relationship between two variables. To create a two-way table, pass two variables to the pd.crosstab() function instead of one:"
   ]
  },
  {
   "cell_type": "code",
   "execution_count": 14,
   "id": "a89210a2",
   "metadata": {
    "execution": {
     "iopub.execute_input": "2025-03-01T08:56:19.870524Z",
     "iopub.status.busy": "2025-03-01T08:56:19.870099Z",
     "iopub.status.idle": "2025-03-01T08:56:19.886378Z",
     "shell.execute_reply": "2025-03-01T08:56:19.885257Z"
    },
    "papermill": {
     "duration": 0.025377,
     "end_time": "2025-03-01T08:56:19.888419",
     "exception": false,
     "start_time": "2025-03-01T08:56:19.863042",
     "status": "completed"
    },
    "tags": []
   },
   "outputs": [
    {
     "data": {
      "text/html": [
       "<div>\n",
       "<style scoped>\n",
       "    .dataframe tbody tr th:only-of-type {\n",
       "        vertical-align: middle;\n",
       "    }\n",
       "\n",
       "    .dataframe tbody tr th {\n",
       "        vertical-align: top;\n",
       "    }\n",
       "\n",
       "    .dataframe thead th {\n",
       "        text-align: right;\n",
       "    }\n",
       "</style>\n",
       "<table border=\"1\" class=\"dataframe\">\n",
       "  <thead>\n",
       "    <tr style=\"text-align: right;\">\n",
       "      <th>Sex</th>\n",
       "      <th>female</th>\n",
       "      <th>male</th>\n",
       "    </tr>\n",
       "  </thead>\n",
       "  <tbody>\n",
       "    <tr>\n",
       "      <th>Died</th>\n",
       "      <td>81</td>\n",
       "      <td>468</td>\n",
       "    </tr>\n",
       "    <tr>\n",
       "      <th>Survived</th>\n",
       "      <td>233</td>\n",
       "      <td>109</td>\n",
       "    </tr>\n",
       "  </tbody>\n",
       "</table>\n",
       "</div>"
      ],
      "text/plain": [
       "Sex       female  male\n",
       "Died          81   468\n",
       "Survived     233   109"
      ]
     },
     "execution_count": 14,
     "metadata": {},
     "output_type": "execute_result"
    }
   ],
   "source": [
    "# Table of survival vs. sex:\n",
    "\n",
    "sex_survived = pd.crosstab(index = titanic['Survived'], \n",
    "                           columns = titanic['Sex']) \n",
    "\n",
    "sex_survived.index = [\"Died\", \"Survived\"]  \n",
    "\n",
    "sex_survived"
   ]
  },
  {
   "cell_type": "code",
   "execution_count": 15,
   "id": "5edd89f6",
   "metadata": {
    "execution": {
     "iopub.execute_input": "2025-03-01T08:56:19.902918Z",
     "iopub.status.busy": "2025-03-01T08:56:19.902578Z",
     "iopub.status.idle": "2025-03-01T08:56:19.918499Z",
     "shell.execute_reply": "2025-03-01T08:56:19.917316Z"
    },
    "papermill": {
     "duration": 0.025393,
     "end_time": "2025-03-01T08:56:19.920566",
     "exception": false,
     "start_time": "2025-03-01T08:56:19.895173",
     "status": "completed"
    },
    "tags": []
   },
   "outputs": [
    {
     "data": {
      "text/html": [
       "<div>\n",
       "<style scoped>\n",
       "    .dataframe tbody tr th:only-of-type {\n",
       "        vertical-align: middle;\n",
       "    }\n",
       "\n",
       "    .dataframe tbody tr th {\n",
       "        vertical-align: top;\n",
       "    }\n",
       "\n",
       "    .dataframe thead th {\n",
       "        text-align: right;\n",
       "    }\n",
       "</style>\n",
       "<table border=\"1\" class=\"dataframe\">\n",
       "  <thead>\n",
       "    <tr style=\"text-align: right;\">\n",
       "      <th>Pclass</th>\n",
       "      <th>1</th>\n",
       "      <th>2</th>\n",
       "      <th>3</th>\n",
       "    </tr>\n",
       "    <tr>\n",
       "      <th>Survived</th>\n",
       "      <th></th>\n",
       "      <th></th>\n",
       "      <th></th>\n",
       "    </tr>\n",
       "  </thead>\n",
       "  <tbody>\n",
       "    <tr>\n",
       "      <th>0</th>\n",
       "      <td>80</td>\n",
       "      <td>97</td>\n",
       "      <td>372</td>\n",
       "    </tr>\n",
       "    <tr>\n",
       "      <th>1</th>\n",
       "      <td>136</td>\n",
       "      <td>87</td>\n",
       "      <td>119</td>\n",
       "    </tr>\n",
       "  </tbody>\n",
       "</table>\n",
       "</div>"
      ],
      "text/plain": [
       "Pclass      1   2    3\n",
       "Survived              \n",
       "0          80  97  372\n",
       "1         136  87  119"
      ]
     },
     "execution_count": 15,
     "metadata": {},
     "output_type": "execute_result"
    }
   ],
   "source": [
    "# Table of survival vs passenger class \n",
    "\n",
    "survived_class = pd.crosstab(index = titanic[\"Survived\"], \n",
    "                            columns = titanic[\"Pclass\"]) \n",
    "\n",
    "\n",
    "survived_class  \n",
    "\n"
   ]
  },
  {
   "cell_type": "code",
   "execution_count": 16,
   "id": "040b7f97",
   "metadata": {
    "execution": {
     "iopub.execute_input": "2025-03-01T08:56:19.935503Z",
     "iopub.status.busy": "2025-03-01T08:56:19.935083Z",
     "iopub.status.idle": "2025-03-01T08:56:19.953640Z",
     "shell.execute_reply": "2025-03-01T08:56:19.952459Z"
    },
    "papermill": {
     "duration": 0.028047,
     "end_time": "2025-03-01T08:56:19.955552",
     "exception": false,
     "start_time": "2025-03-01T08:56:19.927505",
     "status": "completed"
    },
    "tags": []
   },
   "outputs": [
    {
     "data": {
      "text/html": [
       "<div>\n",
       "<style scoped>\n",
       "    .dataframe tbody tr th:only-of-type {\n",
       "        vertical-align: middle;\n",
       "    }\n",
       "\n",
       "    .dataframe tbody tr th {\n",
       "        vertical-align: top;\n",
       "    }\n",
       "\n",
       "    .dataframe thead th {\n",
       "        text-align: right;\n",
       "    }\n",
       "</style>\n",
       "<table border=\"1\" class=\"dataframe\">\n",
       "  <thead>\n",
       "    <tr style=\"text-align: right;\">\n",
       "      <th></th>\n",
       "      <th>class1</th>\n",
       "      <th>class2</th>\n",
       "      <th>class3</th>\n",
       "    </tr>\n",
       "  </thead>\n",
       "  <tbody>\n",
       "    <tr>\n",
       "      <th>died</th>\n",
       "      <td>80</td>\n",
       "      <td>97</td>\n",
       "      <td>372</td>\n",
       "    </tr>\n",
       "    <tr>\n",
       "      <th>survived</th>\n",
       "      <td>136</td>\n",
       "      <td>87</td>\n",
       "      <td>119</td>\n",
       "    </tr>\n",
       "  </tbody>\n",
       "</table>\n",
       "</div>"
      ],
      "text/plain": [
       "          class1  class2  class3\n",
       "died          80      97     372\n",
       "survived     136      87     119"
      ]
     },
     "execution_count": 16,
     "metadata": {},
     "output_type": "execute_result"
    }
   ],
   "source": [
    "survived_class = pd.crosstab(index = titanic[\"Survived\"], \n",
    "                            columns = titanic[\"Pclass\"]) \n",
    "\n",
    "survived_class.index = ['died', 'survived'] \n",
    "survived_class.columns = ['class1', 'class2', 'class3'] \n",
    "\n",
    "survived_class "
   ]
  },
  {
   "cell_type": "code",
   "execution_count": null,
   "id": "dd867047",
   "metadata": {
    "papermill": {
     "duration": 0.006339,
     "end_time": "2025-03-01T08:56:19.969096",
     "exception": false,
     "start_time": "2025-03-01T08:56:19.962757",
     "status": "completed"
    },
    "tags": []
   },
   "outputs": [],
   "source": []
  },
  {
   "cell_type": "code",
   "execution_count": null,
   "id": "efafe595",
   "metadata": {
    "papermill": {
     "duration": 0.006375,
     "end_time": "2025-03-01T08:56:19.982159",
     "exception": false,
     "start_time": "2025-03-01T08:56:19.975784",
     "status": "completed"
    },
    "tags": []
   },
   "outputs": [],
   "source": []
  }
 ],
 "metadata": {
  "kaggle": {
   "accelerator": "none",
   "dataSources": [
    {
     "datasetId": 6764693,
     "sourceId": 10886278,
     "sourceType": "datasetVersion"
    }
   ],
   "dockerImageVersionId": 30918,
   "isGpuEnabled": false,
   "isInternetEnabled": true,
   "language": "python",
   "sourceType": "notebook"
  },
  "kernelspec": {
   "display_name": "Python 3",
   "language": "python",
   "name": "python3"
  },
  "language_info": {
   "codemirror_mode": {
    "name": "ipython",
    "version": 3
   },
   "file_extension": ".py",
   "mimetype": "text/x-python",
   "name": "python",
   "nbconvert_exporter": "python",
   "pygments_lexer": "ipython3",
   "version": "3.10.12"
  },
  "papermill": {
   "default_parameters": {},
   "duration": 5.353142,
   "end_time": "2025-03-01T08:56:20.610580",
   "environment_variables": {},
   "exception": null,
   "input_path": "__notebook__.ipynb",
   "output_path": "__notebook__.ipynb",
   "parameters": {},
   "start_time": "2025-03-01T08:56:15.257438",
   "version": "2.6.0"
  }
 },
 "nbformat": 4,
 "nbformat_minor": 5
}
