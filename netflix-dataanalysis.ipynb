{
 "cells": [
  {
   "cell_type": "code",
   "execution_count": 1,
   "id": "291ea490",
   "metadata": {
    "execution": {
     "iopub.execute_input": "2025-03-13T08:59:34.244554Z",
     "iopub.status.busy": "2025-03-13T08:59:34.244195Z",
     "iopub.status.idle": "2025-03-13T08:59:36.275556Z",
     "shell.execute_reply": "2025-03-13T08:59:36.274280Z"
    },
    "papermill": {
     "duration": 2.041794,
     "end_time": "2025-03-13T08:59:36.277520",
     "exception": false,
     "start_time": "2025-03-13T08:59:34.235726",
     "status": "completed"
    },
    "tags": []
   },
   "outputs": [],
   "source": [
    "import os \n",
    "import pandas as pd\n",
    "import numpy as np\n",
    "import matplotlib.pyplot as plt\n",
    "import plotly.express as px\n",
    "from plotly.offline import iplot, plot\n",
    "import plotly.graph_objects as go\n",
    "from plotly.subplots import make_subplots\n",
    "\n",
    "\n",
    "\n",
    "from collections import Counter\n"
   ]
  },
  {
   "cell_type": "code",
   "execution_count": 2,
   "id": "46426d04",
   "metadata": {
    "execution": {
     "iopub.execute_input": "2025-03-13T08:59:36.293526Z",
     "iopub.status.busy": "2025-03-13T08:59:36.292716Z",
     "iopub.status.idle": "2025-03-13T08:59:36.309409Z",
     "shell.execute_reply": "2025-03-13T08:59:36.308091Z"
    },
    "papermill": {
     "duration": 0.026437,
     "end_time": "2025-03-13T08:59:36.311090",
     "exception": false,
     "start_time": "2025-03-13T08:59:36.284653",
     "status": "completed"
    },
    "tags": []
   },
   "outputs": [
    {
     "data": {
      "text/plain": [
       "['netflix1.csv']"
      ]
     },
     "execution_count": 2,
     "metadata": {},
     "output_type": "execute_result"
    }
   ],
   "source": [
    "os.listdir('/kaggle/input/netflix-dataset') "
   ]
  },
  {
   "cell_type": "markdown",
   "id": "059e95bb",
   "metadata": {
    "papermill": {
     "duration": 0.006309,
     "end_time": "2025-03-13T08:59:36.324805",
     "exception": false,
     "start_time": "2025-03-13T08:59:36.318496",
     "status": "completed"
    },
    "tags": []
   },
   "source": [
    "# Read Data "
   ]
  },
  {
   "cell_type": "code",
   "execution_count": 3,
   "id": "d51b18c9",
   "metadata": {
    "execution": {
     "iopub.execute_input": "2025-03-13T08:59:36.339559Z",
     "iopub.status.busy": "2025-03-13T08:59:36.339200Z",
     "iopub.status.idle": "2025-03-13T08:59:36.402769Z",
     "shell.execute_reply": "2025-03-13T08:59:36.401434Z"
    },
    "papermill": {
     "duration": 0.073191,
     "end_time": "2025-03-13T08:59:36.404831",
     "exception": false,
     "start_time": "2025-03-13T08:59:36.331640",
     "status": "completed"
    },
    "tags": []
   },
   "outputs": [],
   "source": [
    "netflix = pd.read_csv('/kaggle/input/netflix-dataset/netflix1.csv') "
   ]
  },
  {
   "cell_type": "markdown",
   "id": "c57cebfe",
   "metadata": {
    "papermill": {
     "duration": 0.006321,
     "end_time": "2025-03-13T08:59:36.418018",
     "exception": false,
     "start_time": "2025-03-13T08:59:36.411697",
     "status": "completed"
    },
    "tags": []
   },
   "source": [
    "# Check Basic Information  "
   ]
  },
  {
   "cell_type": "code",
   "execution_count": 4,
   "id": "90aab96c",
   "metadata": {
    "execution": {
     "iopub.execute_input": "2025-03-13T08:59:36.432455Z",
     "iopub.status.busy": "2025-03-13T08:59:36.431959Z",
     "iopub.status.idle": "2025-03-13T08:59:36.437965Z",
     "shell.execute_reply": "2025-03-13T08:59:36.436910Z"
    },
    "papermill": {
     "duration": 0.015108,
     "end_time": "2025-03-13T08:59:36.439649",
     "exception": false,
     "start_time": "2025-03-13T08:59:36.424541",
     "status": "completed"
    },
    "tags": []
   },
   "outputs": [
    {
     "data": {
      "text/plain": [
       "(8790, 10)"
      ]
     },
     "execution_count": 4,
     "metadata": {},
     "output_type": "execute_result"
    }
   ],
   "source": [
    "netflix.shape"
   ]
  },
  {
   "cell_type": "code",
   "execution_count": 5,
   "id": "a700c8c2",
   "metadata": {
    "execution": {
     "iopub.execute_input": "2025-03-13T08:59:36.454320Z",
     "iopub.status.busy": "2025-03-13T08:59:36.453933Z",
     "iopub.status.idle": "2025-03-13T08:59:36.464758Z",
     "shell.execute_reply": "2025-03-13T08:59:36.463864Z"
    },
    "papermill": {
     "duration": 0.019856,
     "end_time": "2025-03-13T08:59:36.466343",
     "exception": false,
     "start_time": "2025-03-13T08:59:36.446487",
     "status": "completed"
    },
    "tags": []
   },
   "outputs": [
    {
     "data": {
      "text/plain": [
       "show_id         object\n",
       "type            object\n",
       "title           object\n",
       "director        object\n",
       "country         object\n",
       "date_added      object\n",
       "release_year     int64\n",
       "rating          object\n",
       "duration        object\n",
       "listed_in       object\n",
       "dtype: object"
      ]
     },
     "execution_count": 5,
     "metadata": {},
     "output_type": "execute_result"
    }
   ],
   "source": [
    "netflix.dtypes"
   ]
  },
  {
   "cell_type": "code",
   "execution_count": 6,
   "id": "045b8fbf",
   "metadata": {
    "execution": {
     "iopub.execute_input": "2025-03-13T08:59:36.481481Z",
     "iopub.status.busy": "2025-03-13T08:59:36.481051Z",
     "iopub.status.idle": "2025-03-13T08:59:36.511945Z",
     "shell.execute_reply": "2025-03-13T08:59:36.510517Z"
    },
    "papermill": {
     "duration": 0.040498,
     "end_time": "2025-03-13T08:59:36.513776",
     "exception": false,
     "start_time": "2025-03-13T08:59:36.473278",
     "status": "completed"
    },
    "tags": []
   },
   "outputs": [
    {
     "name": "stdout",
     "output_type": "stream",
     "text": [
      "<class 'pandas.core.frame.DataFrame'>\n",
      "RangeIndex: 8790 entries, 0 to 8789\n",
      "Data columns (total 10 columns):\n",
      " #   Column        Non-Null Count  Dtype \n",
      "---  ------        --------------  ----- \n",
      " 0   show_id       8790 non-null   object\n",
      " 1   type          8790 non-null   object\n",
      " 2   title         8790 non-null   object\n",
      " 3   director      8790 non-null   object\n",
      " 4   country       8790 non-null   object\n",
      " 5   date_added    8790 non-null   object\n",
      " 6   release_year  8790 non-null   int64 \n",
      " 7   rating        8790 non-null   object\n",
      " 8   duration      8790 non-null   object\n",
      " 9   listed_in     8790 non-null   object\n",
      "dtypes: int64(1), object(9)\n",
      "memory usage: 686.8+ KB\n"
     ]
    }
   ],
   "source": [
    "netflix.info()"
   ]
  },
  {
   "cell_type": "code",
   "execution_count": 7,
   "id": "f5b729ea",
   "metadata": {
    "execution": {
     "iopub.execute_input": "2025-03-13T08:59:36.529172Z",
     "iopub.status.busy": "2025-03-13T08:59:36.528768Z",
     "iopub.status.idle": "2025-03-13T08:59:36.554377Z",
     "shell.execute_reply": "2025-03-13T08:59:36.553187Z"
    },
    "papermill": {
     "duration": 0.035719,
     "end_time": "2025-03-13T08:59:36.556516",
     "exception": false,
     "start_time": "2025-03-13T08:59:36.520797",
     "status": "completed"
    },
    "tags": []
   },
   "outputs": [
    {
     "data": {
      "text/html": [
       "<div>\n",
       "<style scoped>\n",
       "    .dataframe tbody tr th:only-of-type {\n",
       "        vertical-align: middle;\n",
       "    }\n",
       "\n",
       "    .dataframe tbody tr th {\n",
       "        vertical-align: top;\n",
       "    }\n",
       "\n",
       "    .dataframe thead th {\n",
       "        text-align: right;\n",
       "    }\n",
       "</style>\n",
       "<table border=\"1\" class=\"dataframe\">\n",
       "  <thead>\n",
       "    <tr style=\"text-align: right;\">\n",
       "      <th></th>\n",
       "      <th>show_id</th>\n",
       "      <th>type</th>\n",
       "      <th>title</th>\n",
       "      <th>director</th>\n",
       "      <th>country</th>\n",
       "      <th>date_added</th>\n",
       "      <th>release_year</th>\n",
       "      <th>rating</th>\n",
       "      <th>duration</th>\n",
       "      <th>listed_in</th>\n",
       "    </tr>\n",
       "  </thead>\n",
       "  <tbody>\n",
       "    <tr>\n",
       "      <th>0</th>\n",
       "      <td>s1</td>\n",
       "      <td>Movie</td>\n",
       "      <td>Dick Johnson Is Dead</td>\n",
       "      <td>Kirsten Johnson</td>\n",
       "      <td>United States</td>\n",
       "      <td>9/25/2021</td>\n",
       "      <td>2020</td>\n",
       "      <td>PG-13</td>\n",
       "      <td>90 min</td>\n",
       "      <td>Documentaries</td>\n",
       "    </tr>\n",
       "    <tr>\n",
       "      <th>1</th>\n",
       "      <td>s3</td>\n",
       "      <td>TV Show</td>\n",
       "      <td>Ganglands</td>\n",
       "      <td>Julien Leclercq</td>\n",
       "      <td>France</td>\n",
       "      <td>9/24/2021</td>\n",
       "      <td>2021</td>\n",
       "      <td>TV-MA</td>\n",
       "      <td>1 Season</td>\n",
       "      <td>Crime TV Shows, International TV Shows, TV Act...</td>\n",
       "    </tr>\n",
       "    <tr>\n",
       "      <th>2</th>\n",
       "      <td>s6</td>\n",
       "      <td>TV Show</td>\n",
       "      <td>Midnight Mass</td>\n",
       "      <td>Mike Flanagan</td>\n",
       "      <td>United States</td>\n",
       "      <td>9/24/2021</td>\n",
       "      <td>2021</td>\n",
       "      <td>TV-MA</td>\n",
       "      <td>1 Season</td>\n",
       "      <td>TV Dramas, TV Horror, TV Mysteries</td>\n",
       "    </tr>\n",
       "    <tr>\n",
       "      <th>3</th>\n",
       "      <td>s14</td>\n",
       "      <td>Movie</td>\n",
       "      <td>Confessions of an Invisible Girl</td>\n",
       "      <td>Bruno Garotti</td>\n",
       "      <td>Brazil</td>\n",
       "      <td>9/22/2021</td>\n",
       "      <td>2021</td>\n",
       "      <td>TV-PG</td>\n",
       "      <td>91 min</td>\n",
       "      <td>Children &amp; Family Movies, Comedies</td>\n",
       "    </tr>\n",
       "    <tr>\n",
       "      <th>4</th>\n",
       "      <td>s8</td>\n",
       "      <td>Movie</td>\n",
       "      <td>Sankofa</td>\n",
       "      <td>Haile Gerima</td>\n",
       "      <td>United States</td>\n",
       "      <td>9/24/2021</td>\n",
       "      <td>1993</td>\n",
       "      <td>TV-MA</td>\n",
       "      <td>125 min</td>\n",
       "      <td>Dramas, Independent Movies, International Movies</td>\n",
       "    </tr>\n",
       "    <tr>\n",
       "      <th>5</th>\n",
       "      <td>s9</td>\n",
       "      <td>TV Show</td>\n",
       "      <td>The Great British Baking Show</td>\n",
       "      <td>Andy Devonshire</td>\n",
       "      <td>United Kingdom</td>\n",
       "      <td>9/24/2021</td>\n",
       "      <td>2021</td>\n",
       "      <td>TV-14</td>\n",
       "      <td>9 Seasons</td>\n",
       "      <td>British TV Shows, Reality TV</td>\n",
       "    </tr>\n",
       "    <tr>\n",
       "      <th>6</th>\n",
       "      <td>s10</td>\n",
       "      <td>Movie</td>\n",
       "      <td>The Starling</td>\n",
       "      <td>Theodore Melfi</td>\n",
       "      <td>United States</td>\n",
       "      <td>9/24/2021</td>\n",
       "      <td>2021</td>\n",
       "      <td>PG-13</td>\n",
       "      <td>104 min</td>\n",
       "      <td>Comedies, Dramas</td>\n",
       "    </tr>\n",
       "    <tr>\n",
       "      <th>7</th>\n",
       "      <td>s939</td>\n",
       "      <td>Movie</td>\n",
       "      <td>Motu Patlu in the Game of Zones</td>\n",
       "      <td>Suhas Kadav</td>\n",
       "      <td>India</td>\n",
       "      <td>5/1/2021</td>\n",
       "      <td>2019</td>\n",
       "      <td>TV-Y7</td>\n",
       "      <td>87 min</td>\n",
       "      <td>Children &amp; Family Movies, Comedies, Music &amp; Mu...</td>\n",
       "    </tr>\n",
       "    <tr>\n",
       "      <th>8</th>\n",
       "      <td>s13</td>\n",
       "      <td>Movie</td>\n",
       "      <td>Je Suis Karl</td>\n",
       "      <td>Christian Schwochow</td>\n",
       "      <td>Germany</td>\n",
       "      <td>9/23/2021</td>\n",
       "      <td>2021</td>\n",
       "      <td>TV-MA</td>\n",
       "      <td>127 min</td>\n",
       "      <td>Dramas, International Movies</td>\n",
       "    </tr>\n",
       "    <tr>\n",
       "      <th>9</th>\n",
       "      <td>s940</td>\n",
       "      <td>Movie</td>\n",
       "      <td>Motu Patlu in Wonderland</td>\n",
       "      <td>Suhas Kadav</td>\n",
       "      <td>India</td>\n",
       "      <td>5/1/2021</td>\n",
       "      <td>2013</td>\n",
       "      <td>TV-Y7</td>\n",
       "      <td>76 min</td>\n",
       "      <td>Children &amp; Family Movies, Music &amp; Musicals</td>\n",
       "    </tr>\n",
       "  </tbody>\n",
       "</table>\n",
       "</div>"
      ],
      "text/plain": [
       "  show_id     type                             title             director  \\\n",
       "0      s1    Movie              Dick Johnson Is Dead      Kirsten Johnson   \n",
       "1      s3  TV Show                         Ganglands      Julien Leclercq   \n",
       "2      s6  TV Show                     Midnight Mass        Mike Flanagan   \n",
       "3     s14    Movie  Confessions of an Invisible Girl        Bruno Garotti   \n",
       "4      s8    Movie                           Sankofa         Haile Gerima   \n",
       "5      s9  TV Show     The Great British Baking Show      Andy Devonshire   \n",
       "6     s10    Movie                      The Starling       Theodore Melfi   \n",
       "7    s939    Movie   Motu Patlu in the Game of Zones          Suhas Kadav   \n",
       "8     s13    Movie                      Je Suis Karl  Christian Schwochow   \n",
       "9    s940    Movie          Motu Patlu in Wonderland          Suhas Kadav   \n",
       "\n",
       "          country date_added  release_year rating   duration  \\\n",
       "0   United States  9/25/2021          2020  PG-13     90 min   \n",
       "1          France  9/24/2021          2021  TV-MA   1 Season   \n",
       "2   United States  9/24/2021          2021  TV-MA   1 Season   \n",
       "3          Brazil  9/22/2021          2021  TV-PG     91 min   \n",
       "4   United States  9/24/2021          1993  TV-MA    125 min   \n",
       "5  United Kingdom  9/24/2021          2021  TV-14  9 Seasons   \n",
       "6   United States  9/24/2021          2021  PG-13    104 min   \n",
       "7           India   5/1/2021          2019  TV-Y7     87 min   \n",
       "8         Germany  9/23/2021          2021  TV-MA    127 min   \n",
       "9           India   5/1/2021          2013  TV-Y7     76 min   \n",
       "\n",
       "                                           listed_in  \n",
       "0                                      Documentaries  \n",
       "1  Crime TV Shows, International TV Shows, TV Act...  \n",
       "2                 TV Dramas, TV Horror, TV Mysteries  \n",
       "3                 Children & Family Movies, Comedies  \n",
       "4   Dramas, Independent Movies, International Movies  \n",
       "5                       British TV Shows, Reality TV  \n",
       "6                                   Comedies, Dramas  \n",
       "7  Children & Family Movies, Comedies, Music & Mu...  \n",
       "8                       Dramas, International Movies  \n",
       "9         Children & Family Movies, Music & Musicals  "
      ]
     },
     "execution_count": 7,
     "metadata": {},
     "output_type": "execute_result"
    }
   ],
   "source": [
    "netflix.head(10)"
   ]
  },
  {
   "cell_type": "markdown",
   "id": "89a37b64",
   "metadata": {
    "papermill": {
     "duration": 0.006956,
     "end_time": "2025-03-13T08:59:36.570990",
     "exception": false,
     "start_time": "2025-03-13T08:59:36.564034",
     "status": "completed"
    },
    "tags": []
   },
   "source": [
    " # **Data Cleaning & Exploration** "
   ]
  },
  {
   "cell_type": "markdown",
   "id": "271e19b5",
   "metadata": {
    "papermill": {
     "duration": 0.006728,
     "end_time": "2025-03-13T08:59:36.585027",
     "exception": false,
     "start_time": "2025-03-13T08:59:36.578299",
     "status": "completed"
    },
    "tags": []
   },
   "source": [
    "# 1. show_id column "
   ]
  },
  {
   "cell_type": "code",
   "execution_count": 8,
   "id": "87f53176",
   "metadata": {
    "execution": {
     "iopub.execute_input": "2025-03-13T08:59:36.600856Z",
     "iopub.status.busy": "2025-03-13T08:59:36.600480Z",
     "iopub.status.idle": "2025-03-13T08:59:36.607917Z",
     "shell.execute_reply": "2025-03-13T08:59:36.606840Z"
    },
    "papermill": {
     "duration": 0.017489,
     "end_time": "2025-03-13T08:59:36.609711",
     "exception": false,
     "start_time": "2025-03-13T08:59:36.592222",
     "status": "completed"
    },
    "tags": []
   },
   "outputs": [
    {
     "data": {
      "text/plain": [
       "0"
      ]
     },
     "execution_count": 8,
     "metadata": {},
     "output_type": "execute_result"
    }
   ],
   "source": [
    "# Check Duplicated ID:   \n",
    "\n",
    "netflix['show_id'].duplicated().sum() "
   ]
  },
  {
   "cell_type": "code",
   "execution_count": 9,
   "id": "4fe62138",
   "metadata": {
    "execution": {
     "iopub.execute_input": "2025-03-13T08:59:36.625829Z",
     "iopub.status.busy": "2025-03-13T08:59:36.625421Z",
     "iopub.status.idle": "2025-03-13T08:59:36.633805Z",
     "shell.execute_reply": "2025-03-13T08:59:36.632858Z"
    },
    "papermill": {
     "duration": 0.01878,
     "end_time": "2025-03-13T08:59:36.635813",
     "exception": false,
     "start_time": "2025-03-13T08:59:36.617033",
     "status": "completed"
    },
    "tags": []
   },
   "outputs": [],
   "source": [
    "# Delete show_id column:  \n",
    "\n",
    "netflix = netflix.drop(['show_id'], axis = 1) "
   ]
  },
  {
   "cell_type": "markdown",
   "id": "2609815a",
   "metadata": {
    "papermill": {
     "duration": 0.007149,
     "end_time": "2025-03-13T08:59:36.650394",
     "exception": false,
     "start_time": "2025-03-13T08:59:36.643245",
     "status": "completed"
    },
    "tags": []
   },
   "source": [
    "# 2. type column"
   ]
  },
  {
   "cell_type": "code",
   "execution_count": 10,
   "id": "b8bc400f",
   "metadata": {
    "execution": {
     "iopub.execute_input": "2025-03-13T08:59:36.666269Z",
     "iopub.status.busy": "2025-03-13T08:59:36.665733Z",
     "iopub.status.idle": "2025-03-13T08:59:36.673961Z",
     "shell.execute_reply": "2025-03-13T08:59:36.672911Z"
    },
    "papermill": {
     "duration": 0.018231,
     "end_time": "2025-03-13T08:59:36.675747",
     "exception": false,
     "start_time": "2025-03-13T08:59:36.657516",
     "status": "completed"
    },
    "tags": []
   },
   "outputs": [
    {
     "data": {
      "text/plain": [
       "type\n",
       "Movie      6126\n",
       "TV Show    2664\n",
       "Name: count, dtype: int64"
      ]
     },
     "execution_count": 10,
     "metadata": {},
     "output_type": "execute_result"
    }
   ],
   "source": [
    "# Count the Value of Each Type: \n",
    "\n",
    "netflix['type'].value_counts() "
   ]
  },
  {
   "cell_type": "code",
   "execution_count": 11,
   "id": "10d5aba1",
   "metadata": {
    "execution": {
     "iopub.execute_input": "2025-03-13T08:59:36.692599Z",
     "iopub.status.busy": "2025-03-13T08:59:36.692199Z",
     "iopub.status.idle": "2025-03-13T08:59:36.700947Z",
     "shell.execute_reply": "2025-03-13T08:59:36.699891Z"
    },
    "papermill": {
     "duration": 0.01937,
     "end_time": "2025-03-13T08:59:36.702611",
     "exception": false,
     "start_time": "2025-03-13T08:59:36.683241",
     "status": "completed"
    },
    "tags": []
   },
   "outputs": [
    {
     "data": {
      "text/plain": [
       "type\n",
       "Movie      0.696928\n",
       "TV Show    0.303072\n",
       "Name: proportion, dtype: float64"
      ]
     },
     "execution_count": 11,
     "metadata": {},
     "output_type": "execute_result"
    }
   ],
   "source": [
    "# The proportion of each unique value relative to the total number of values: \n",
    "\n",
    "netflix['type'].value_counts(normalize = 1) "
   ]
  },
  {
   "cell_type": "code",
   "execution_count": 12,
   "id": "087d87a9",
   "metadata": {
    "execution": {
     "iopub.execute_input": "2025-03-13T08:59:36.719021Z",
     "iopub.status.busy": "2025-03-13T08:59:36.718624Z",
     "iopub.status.idle": "2025-03-13T08:59:38.829357Z",
     "shell.execute_reply": "2025-03-13T08:59:38.828284Z"
    },
    "papermill": {
     "duration": 2.121909,
     "end_time": "2025-03-13T08:59:38.831958",
     "exception": false,
     "start_time": "2025-03-13T08:59:36.710049",
     "status": "completed"
    },
    "tags": []
   },
   "outputs": [
    {
     "data": {
      "text/html": [
       "<html>\n",
       "<head><meta charset=\"utf-8\" /></head>\n",
       "<body>\n",
       "    <div>            <script src=\"https://cdnjs.cloudflare.com/ajax/libs/mathjax/2.7.5/MathJax.js?config=TeX-AMS-MML_SVG\"></script><script type=\"text/javascript\">if (window.MathJax && window.MathJax.Hub && window.MathJax.Hub.Config) {window.MathJax.Hub.Config({SVG: {font: \"STIX-Web\"}});}</script>                <script type=\"text/javascript\">window.PlotlyConfig = {MathJaxConfig: 'local'};</script>\n",
       "        <script charset=\"utf-8\" src=\"https://cdn.plot.ly/plotly-2.35.2.min.js\"></script>                <div id=\"a6fdadf4-fdfb-463b-99ae-0fe45d900ffb\" class=\"plotly-graph-div\" style=\"height:525px; width:100%;\"></div>            <script type=\"text/javascript\">                                    window.PLOTLYENV=window.PLOTLYENV || {};                                    if (document.getElementById(\"a6fdadf4-fdfb-463b-99ae-0fe45d900ffb\")) {                    Plotly.newPlot(                        \"a6fdadf4-fdfb-463b-99ae-0fe45d900ffb\",                        [{\"alignmentgroup\":\"True\",\"hovertemplate\":\"type=%{x}\\u003cbr\\u003eFrequency=%{y}\\u003cextra\\u003e\\u003c\\u002fextra\\u003e\",\"legendgroup\":\"Movie\",\"marker\":{\"color\":\"#222\",\"pattern\":{\"shape\":\"\"}},\"name\":\"Movie\",\"offsetgroup\":\"Movie\",\"orientation\":\"v\",\"showlegend\":true,\"textposition\":\"auto\",\"texttemplate\":\"%{y}\",\"x\":[\"Movie\"],\"xaxis\":\"x\",\"y\":[6126],\"yaxis\":\"y\",\"type\":\"bar\",\"insidetextfont\":{\"family\":\"consolas\",\"size\":20}},{\"alignmentgroup\":\"True\",\"hovertemplate\":\"type=%{x}\\u003cbr\\u003eFrequency=%{y}\\u003cextra\\u003e\\u003c\\u002fextra\\u003e\",\"legendgroup\":\"TV Show\",\"marker\":{\"color\":\"#E50914\",\"pattern\":{\"shape\":\"\"}},\"name\":\"TV Show\",\"offsetgroup\":\"TV Show\",\"orientation\":\"v\",\"showlegend\":true,\"textposition\":\"auto\",\"texttemplate\":\"%{y}\",\"x\":[\"TV Show\"],\"xaxis\":\"x\",\"y\":[2664],\"yaxis\":\"y\",\"type\":\"bar\",\"insidetextfont\":{\"family\":\"consolas\",\"size\":20}}],                        {\"template\":{\"data\":{\"histogram2dcontour\":[{\"type\":\"histogram2dcontour\",\"colorbar\":{\"outlinewidth\":0,\"ticks\":\"\"},\"colorscale\":[[0.0,\"#0d0887\"],[0.1111111111111111,\"#46039f\"],[0.2222222222222222,\"#7201a8\"],[0.3333333333333333,\"#9c179e\"],[0.4444444444444444,\"#bd3786\"],[0.5555555555555556,\"#d8576b\"],[0.6666666666666666,\"#ed7953\"],[0.7777777777777778,\"#fb9f3a\"],[0.8888888888888888,\"#fdca26\"],[1.0,\"#f0f921\"]]}],\"choropleth\":[{\"type\":\"choropleth\",\"colorbar\":{\"outlinewidth\":0,\"ticks\":\"\"}}],\"histogram2d\":[{\"type\":\"histogram2d\",\"colorbar\":{\"outlinewidth\":0,\"ticks\":\"\"},\"colorscale\":[[0.0,\"#0d0887\"],[0.1111111111111111,\"#46039f\"],[0.2222222222222222,\"#7201a8\"],[0.3333333333333333,\"#9c179e\"],[0.4444444444444444,\"#bd3786\"],[0.5555555555555556,\"#d8576b\"],[0.6666666666666666,\"#ed7953\"],[0.7777777777777778,\"#fb9f3a\"],[0.8888888888888888,\"#fdca26\"],[1.0,\"#f0f921\"]]}],\"heatmap\":[{\"type\":\"heatmap\",\"colorbar\":{\"outlinewidth\":0,\"ticks\":\"\"},\"colorscale\":[[0.0,\"#0d0887\"],[0.1111111111111111,\"#46039f\"],[0.2222222222222222,\"#7201a8\"],[0.3333333333333333,\"#9c179e\"],[0.4444444444444444,\"#bd3786\"],[0.5555555555555556,\"#d8576b\"],[0.6666666666666666,\"#ed7953\"],[0.7777777777777778,\"#fb9f3a\"],[0.8888888888888888,\"#fdca26\"],[1.0,\"#f0f921\"]]}],\"heatmapgl\":[{\"type\":\"heatmapgl\",\"colorbar\":{\"outlinewidth\":0,\"ticks\":\"\"},\"colorscale\":[[0.0,\"#0d0887\"],[0.1111111111111111,\"#46039f\"],[0.2222222222222222,\"#7201a8\"],[0.3333333333333333,\"#9c179e\"],[0.4444444444444444,\"#bd3786\"],[0.5555555555555556,\"#d8576b\"],[0.6666666666666666,\"#ed7953\"],[0.7777777777777778,\"#fb9f3a\"],[0.8888888888888888,\"#fdca26\"],[1.0,\"#f0f921\"]]}],\"contourcarpet\":[{\"type\":\"contourcarpet\",\"colorbar\":{\"outlinewidth\":0,\"ticks\":\"\"}}],\"contour\":[{\"type\":\"contour\",\"colorbar\":{\"outlinewidth\":0,\"ticks\":\"\"},\"colorscale\":[[0.0,\"#0d0887\"],[0.1111111111111111,\"#46039f\"],[0.2222222222222222,\"#7201a8\"],[0.3333333333333333,\"#9c179e\"],[0.4444444444444444,\"#bd3786\"],[0.5555555555555556,\"#d8576b\"],[0.6666666666666666,\"#ed7953\"],[0.7777777777777778,\"#fb9f3a\"],[0.8888888888888888,\"#fdca26\"],[1.0,\"#f0f921\"]]}],\"surface\":[{\"type\":\"surface\",\"colorbar\":{\"outlinewidth\":0,\"ticks\":\"\"},\"colorscale\":[[0.0,\"#0d0887\"],[0.1111111111111111,\"#46039f\"],[0.2222222222222222,\"#7201a8\"],[0.3333333333333333,\"#9c179e\"],[0.4444444444444444,\"#bd3786\"],[0.5555555555555556,\"#d8576b\"],[0.6666666666666666,\"#ed7953\"],[0.7777777777777778,\"#fb9f3a\"],[0.8888888888888888,\"#fdca26\"],[1.0,\"#f0f921\"]]}],\"mesh3d\":[{\"type\":\"mesh3d\",\"colorbar\":{\"outlinewidth\":0,\"ticks\":\"\"}}],\"scatter\":[{\"fillpattern\":{\"fillmode\":\"overlay\",\"size\":10,\"solidity\":0.2},\"type\":\"scatter\"}],\"parcoords\":[{\"type\":\"parcoords\",\"line\":{\"colorbar\":{\"outlinewidth\":0,\"ticks\":\"\"}}}],\"scatterpolargl\":[{\"type\":\"scatterpolargl\",\"marker\":{\"colorbar\":{\"outlinewidth\":0,\"ticks\":\"\"}}}],\"bar\":[{\"error_x\":{\"color\":\"#2a3f5f\"},\"error_y\":{\"color\":\"#2a3f5f\"},\"marker\":{\"line\":{\"color\":\"#E5ECF6\",\"width\":0.5},\"pattern\":{\"fillmode\":\"overlay\",\"size\":10,\"solidity\":0.2}},\"type\":\"bar\"}],\"scattergeo\":[{\"type\":\"scattergeo\",\"marker\":{\"colorbar\":{\"outlinewidth\":0,\"ticks\":\"\"}}}],\"scatterpolar\":[{\"type\":\"scatterpolar\",\"marker\":{\"colorbar\":{\"outlinewidth\":0,\"ticks\":\"\"}}}],\"histogram\":[{\"marker\":{\"pattern\":{\"fillmode\":\"overlay\",\"size\":10,\"solidity\":0.2}},\"type\":\"histogram\"}],\"scattergl\":[{\"type\":\"scattergl\",\"marker\":{\"colorbar\":{\"outlinewidth\":0,\"ticks\":\"\"}}}],\"scatter3d\":[{\"type\":\"scatter3d\",\"line\":{\"colorbar\":{\"outlinewidth\":0,\"ticks\":\"\"}},\"marker\":{\"colorbar\":{\"outlinewidth\":0,\"ticks\":\"\"}}}],\"scattermapbox\":[{\"type\":\"scattermapbox\",\"marker\":{\"colorbar\":{\"outlinewidth\":0,\"ticks\":\"\"}}}],\"scatterternary\":[{\"type\":\"scatterternary\",\"marker\":{\"colorbar\":{\"outlinewidth\":0,\"ticks\":\"\"}}}],\"scattercarpet\":[{\"type\":\"scattercarpet\",\"marker\":{\"colorbar\":{\"outlinewidth\":0,\"ticks\":\"\"}}}],\"carpet\":[{\"aaxis\":{\"endlinecolor\":\"#2a3f5f\",\"gridcolor\":\"white\",\"linecolor\":\"white\",\"minorgridcolor\":\"white\",\"startlinecolor\":\"#2a3f5f\"},\"baxis\":{\"endlinecolor\":\"#2a3f5f\",\"gridcolor\":\"white\",\"linecolor\":\"white\",\"minorgridcolor\":\"white\",\"startlinecolor\":\"#2a3f5f\"},\"type\":\"carpet\"}],\"table\":[{\"cells\":{\"fill\":{\"color\":\"#EBF0F8\"},\"line\":{\"color\":\"white\"}},\"header\":{\"fill\":{\"color\":\"#C8D4E3\"},\"line\":{\"color\":\"white\"}},\"type\":\"table\"}],\"barpolar\":[{\"marker\":{\"line\":{\"color\":\"#E5ECF6\",\"width\":0.5},\"pattern\":{\"fillmode\":\"overlay\",\"size\":10,\"solidity\":0.2}},\"type\":\"barpolar\"}],\"pie\":[{\"automargin\":true,\"type\":\"pie\"}]},\"layout\":{\"autotypenumbers\":\"strict\",\"colorway\":[\"#636efa\",\"#EF553B\",\"#00cc96\",\"#ab63fa\",\"#FFA15A\",\"#19d3f3\",\"#FF6692\",\"#B6E880\",\"#FF97FF\",\"#FECB52\"],\"font\":{\"color\":\"#2a3f5f\"},\"hovermode\":\"closest\",\"hoverlabel\":{\"align\":\"left\"},\"paper_bgcolor\":\"white\",\"plot_bgcolor\":\"#E5ECF6\",\"polar\":{\"bgcolor\":\"#E5ECF6\",\"angularaxis\":{\"gridcolor\":\"white\",\"linecolor\":\"white\",\"ticks\":\"\"},\"radialaxis\":{\"gridcolor\":\"white\",\"linecolor\":\"white\",\"ticks\":\"\"}},\"ternary\":{\"bgcolor\":\"#E5ECF6\",\"aaxis\":{\"gridcolor\":\"white\",\"linecolor\":\"white\",\"ticks\":\"\"},\"baxis\":{\"gridcolor\":\"white\",\"linecolor\":\"white\",\"ticks\":\"\"},\"caxis\":{\"gridcolor\":\"white\",\"linecolor\":\"white\",\"ticks\":\"\"}},\"coloraxis\":{\"colorbar\":{\"outlinewidth\":0,\"ticks\":\"\"}},\"colorscale\":{\"sequential\":[[0.0,\"#0d0887\"],[0.1111111111111111,\"#46039f\"],[0.2222222222222222,\"#7201a8\"],[0.3333333333333333,\"#9c179e\"],[0.4444444444444444,\"#bd3786\"],[0.5555555555555556,\"#d8576b\"],[0.6666666666666666,\"#ed7953\"],[0.7777777777777778,\"#fb9f3a\"],[0.8888888888888888,\"#fdca26\"],[1.0,\"#f0f921\"]],\"sequentialminus\":[[0.0,\"#0d0887\"],[0.1111111111111111,\"#46039f\"],[0.2222222222222222,\"#7201a8\"],[0.3333333333333333,\"#9c179e\"],[0.4444444444444444,\"#bd3786\"],[0.5555555555555556,\"#d8576b\"],[0.6666666666666666,\"#ed7953\"],[0.7777777777777778,\"#fb9f3a\"],[0.8888888888888888,\"#fdca26\"],[1.0,\"#f0f921\"]],\"diverging\":[[0,\"#8e0152\"],[0.1,\"#c51b7d\"],[0.2,\"#de77ae\"],[0.3,\"#f1b6da\"],[0.4,\"#fde0ef\"],[0.5,\"#f7f7f7\"],[0.6,\"#e6f5d0\"],[0.7,\"#b8e186\"],[0.8,\"#7fbc41\"],[0.9,\"#4d9221\"],[1,\"#276419\"]]},\"xaxis\":{\"gridcolor\":\"white\",\"linecolor\":\"white\",\"ticks\":\"\",\"title\":{\"standoff\":15},\"zerolinecolor\":\"white\",\"automargin\":true,\"zerolinewidth\":2},\"yaxis\":{\"gridcolor\":\"white\",\"linecolor\":\"white\",\"ticks\":\"\",\"title\":{\"standoff\":15},\"zerolinecolor\":\"white\",\"automargin\":true,\"zerolinewidth\":2},\"scene\":{\"xaxis\":{\"backgroundcolor\":\"#E5ECF6\",\"gridcolor\":\"white\",\"linecolor\":\"white\",\"showbackground\":true,\"ticks\":\"\",\"zerolinecolor\":\"white\",\"gridwidth\":2},\"yaxis\":{\"backgroundcolor\":\"#E5ECF6\",\"gridcolor\":\"white\",\"linecolor\":\"white\",\"showbackground\":true,\"ticks\":\"\",\"zerolinecolor\":\"white\",\"gridwidth\":2},\"zaxis\":{\"backgroundcolor\":\"#E5ECF6\",\"gridcolor\":\"white\",\"linecolor\":\"white\",\"showbackground\":true,\"ticks\":\"\",\"zerolinecolor\":\"white\",\"gridwidth\":2}},\"shapedefaults\":{\"line\":{\"color\":\"#2a3f5f\"}},\"annotationdefaults\":{\"arrowcolor\":\"#2a3f5f\",\"arrowhead\":0,\"arrowwidth\":1},\"geo\":{\"bgcolor\":\"white\",\"landcolor\":\"#E5ECF6\",\"subunitcolor\":\"white\",\"showland\":true,\"showlakes\":true,\"lakecolor\":\"white\"},\"title\":{\"x\":0.05},\"mapbox\":{\"style\":\"light\"}}},\"xaxis\":{\"anchor\":\"y\",\"domain\":[0.0,1.0],\"title\":{\"text\":\"type\"},\"categoryorder\":\"array\",\"categoryarray\":[\"Movie\",\"TV Show\"]},\"yaxis\":{\"anchor\":\"x\",\"domain\":[0.0,1.0],\"title\":{\"text\":\"Frequency\"}},\"legend\":{\"title\":{\"text\":\"type\"},\"tracegroupgap\":0},\"title\":{\"text\":\"Frequency of Show Type\"},\"barmode\":\"relative\"},                        {\"responsive\": true}                    ).then(function(){\n",
       "                            \n",
       "var gd = document.getElementById('a6fdadf4-fdfb-463b-99ae-0fe45d900ffb');\n",
       "var x = new MutationObserver(function (mutations, observer) {{\n",
       "        var display = window.getComputedStyle(gd).display;\n",
       "        if (!display || display === 'none') {{\n",
       "            console.log([gd, 'removed!']);\n",
       "            Plotly.purge(gd);\n",
       "            observer.disconnect();\n",
       "        }}\n",
       "}});\n",
       "\n",
       "// Listen for the removal of the full notebook cells\n",
       "var notebookContainer = gd.closest('#notebook-container');\n",
       "if (notebookContainer) {{\n",
       "    x.observe(notebookContainer, {childList: true});\n",
       "}}\n",
       "\n",
       "// Listen for the clearing of the current output cell\n",
       "var outputEl = gd.closest('.output');\n",
       "if (outputEl) {{\n",
       "    x.observe(outputEl, {childList: true});\n",
       "}}\n",
       "\n",
       "                        })                };                            </script>        </div>\n",
       "</body>\n",
       "</html>"
      ]
     },
     "metadata": {},
     "output_type": "display_data"
    }
   ],
   "source": [
    "# Draw a Frequency Table of Type Column: \n",
    "\n",
    "type_of_shows = netflix['type'].value_counts() \n",
    "\n",
    "fig = px.bar(data_frame = type_of_shows, \n",
    "             x = type_of_shows.index, \n",
    "             y = type_of_shows, \n",
    "             color = type_of_shows.index, \n",
    "             color_discrete_sequence = ['#222', '#E50914'], \n",
    "             text_auto = True, \n",
    "             title = 'Frequency of Show Type', \n",
    "             labels = {'index': 'Type', \n",
    "                      'y': 'Frequency'\n",
    "                     }) \n",
    "\n",
    "fig.update_traces(insidetextfont = {\n",
    "                                    'family' : 'consolas',\n",
    "                                    'size': 20 \n",
    "})\n",
    "\n",
    "fig"
   ]
  },
  {
   "cell_type": "markdown",
   "id": "60bc872d",
   "metadata": {
    "papermill": {
     "duration": 0.010046,
     "end_time": "2025-03-13T08:59:38.850907",
     "exception": false,
     "start_time": "2025-03-13T08:59:38.840861",
     "status": "completed"
    },
    "tags": []
   },
   "source": [
    "# 🌃 3.  country column"
   ]
  },
  {
   "cell_type": "code",
   "execution_count": 13,
   "id": "f85b735a",
   "metadata": {
    "execution": {
     "iopub.execute_input": "2025-03-13T08:59:38.870606Z",
     "iopub.status.busy": "2025-03-13T08:59:38.870255Z",
     "iopub.status.idle": "2025-03-13T08:59:38.879841Z",
     "shell.execute_reply": "2025-03-13T08:59:38.878633Z"
    },
    "papermill": {
     "duration": 0.020711,
     "end_time": "2025-03-13T08:59:38.881823",
     "exception": false,
     "start_time": "2025-03-13T08:59:38.861112",
     "status": "completed"
    },
    "tags": []
   },
   "outputs": [
    {
     "data": {
      "text/plain": [
       "count              8790\n",
       "unique               86\n",
       "top       United States\n",
       "freq               3240\n",
       "Name: country, dtype: object"
      ]
     },
     "execution_count": 13,
     "metadata": {},
     "output_type": "execute_result"
    }
   ],
   "source": [
    "netflix['country'].describe()"
   ]
  },
  {
   "cell_type": "code",
   "execution_count": 14,
   "id": "e0ee17b9",
   "metadata": {
    "execution": {
     "iopub.execute_input": "2025-03-13T08:59:38.900163Z",
     "iopub.status.busy": "2025-03-13T08:59:38.899752Z",
     "iopub.status.idle": "2025-03-13T08:59:38.909022Z",
     "shell.execute_reply": "2025-03-13T08:59:38.907997Z"
    },
    "papermill": {
     "duration": 0.020919,
     "end_time": "2025-03-13T08:59:38.910822",
     "exception": false,
     "start_time": "2025-03-13T08:59:38.889903",
     "status": "completed"
    },
    "tags": []
   },
   "outputs": [
    {
     "data": {
      "text/plain": [
       "country\n",
       "United States     3240\n",
       "India             1057\n",
       "United Kingdom     638\n",
       "Pakistan           421\n",
       "Not Given          287\n",
       "                  ... \n",
       "Iran                 1\n",
       "West Germany         1\n",
       "Greece               1\n",
       "Zimbabwe             1\n",
       "Soviet Union         1\n",
       "Name: count, Length: 86, dtype: int64"
      ]
     },
     "execution_count": 14,
     "metadata": {},
     "output_type": "execute_result"
    }
   ],
   "source": [
    "# Value Counts of Country Column: \n",
    "\n",
    "netflix['country'].value_counts()  "
   ]
  },
  {
   "cell_type": "markdown",
   "id": "38f7befb",
   "metadata": {
    "papermill": {
     "duration": 0.007574,
     "end_time": "2025-03-13T08:59:38.926563",
     "exception": false,
     "start_time": "2025-03-13T08:59:38.918989",
     "status": "completed"
    },
    "tags": []
   },
   "source": [
    "# 4.date_added column "
   ]
  },
  {
   "cell_type": "code",
   "execution_count": 15,
   "id": "44de3c4e",
   "metadata": {
    "execution": {
     "iopub.execute_input": "2025-03-13T08:59:38.953320Z",
     "iopub.status.busy": "2025-03-13T08:59:38.952041Z",
     "iopub.status.idle": "2025-03-13T08:59:38.960528Z",
     "shell.execute_reply": "2025-03-13T08:59:38.959750Z"
    },
    "papermill": {
     "duration": 0.027688,
     "end_time": "2025-03-13T08:59:38.962395",
     "exception": false,
     "start_time": "2025-03-13T08:59:38.934707",
     "status": "completed"
    },
    "tags": []
   },
   "outputs": [
    {
     "data": {
      "text/plain": [
       "dtype('O')"
      ]
     },
     "execution_count": 15,
     "metadata": {},
     "output_type": "execute_result"
    }
   ],
   "source": [
    "netflix['date_added'].dtype"
   ]
  },
  {
   "cell_type": "code",
   "execution_count": 16,
   "id": "6fe9f61b",
   "metadata": {
    "execution": {
     "iopub.execute_input": "2025-03-13T08:59:38.990769Z",
     "iopub.status.busy": "2025-03-13T08:59:38.990232Z",
     "iopub.status.idle": "2025-03-13T08:59:39.015205Z",
     "shell.execute_reply": "2025-03-13T08:59:39.013377Z"
    },
    "papermill": {
     "duration": 0.04659,
     "end_time": "2025-03-13T08:59:39.017805",
     "exception": false,
     "start_time": "2025-03-13T08:59:38.971215",
     "status": "completed"
    },
    "tags": []
   },
   "outputs": [
    {
     "data": {
      "text/plain": [
       "0      2021-09-25\n",
       "1      2021-09-24\n",
       "2      2021-09-24\n",
       "3      2021-09-22\n",
       "4      2021-09-24\n",
       "          ...    \n",
       "8785   2017-01-17\n",
       "8786   2018-09-13\n",
       "8787   2016-12-15\n",
       "8788   2018-06-23\n",
       "8789   2018-06-07\n",
       "Name: date_added, Length: 8790, dtype: datetime64[ns]"
      ]
     },
     "execution_count": 16,
     "metadata": {},
     "output_type": "execute_result"
    }
   ],
   "source": [
    "# Converting The Data Type From String Into DateTime: \n",
    "\n",
    "netflix['date_added']= pd.to_datetime(netflix['date_added']) \n",
    "netflix['date_added']"
   ]
  },
  {
   "cell_type": "code",
   "execution_count": 17,
   "id": "cc8204c1",
   "metadata": {
    "execution": {
     "iopub.execute_input": "2025-03-13T08:59:39.044857Z",
     "iopub.status.busy": "2025-03-13T08:59:39.044384Z",
     "iopub.status.idle": "2025-03-13T08:59:39.051948Z",
     "shell.execute_reply": "2025-03-13T08:59:39.050531Z"
    },
    "papermill": {
     "duration": 0.021914,
     "end_time": "2025-03-13T08:59:39.053890",
     "exception": false,
     "start_time": "2025-03-13T08:59:39.031976",
     "status": "completed"
    },
    "tags": []
   },
   "outputs": [
    {
     "name": "stdout",
     "output_type": "stream",
     "text": [
      "The oldest added date: 2008-01-01 00:00:00\n",
      "The newest added date: 2021-09-25 00:00:00\n"
     ]
    }
   ],
   "source": [
    "# Check the oldest added_date and newest added_date: \n",
    "\n",
    "print(f\"The oldest added date: {netflix['date_added'].min()}\") \n",
    "print(f\"The newest added date: {netflix['date_added'].max()}\")"
   ]
  },
  {
   "cell_type": "markdown",
   "id": "1b3a95fb",
   "metadata": {
    "papermill": {
     "duration": 0.012422,
     "end_time": "2025-03-13T08:59:39.076909",
     "exception": false,
     "start_time": "2025-03-13T08:59:39.064487",
     "status": "completed"
    },
    "tags": []
   },
   "source": [
    "# 5. release_year column "
   ]
  },
  {
   "cell_type": "code",
   "execution_count": 18,
   "id": "8bab9539",
   "metadata": {
    "execution": {
     "iopub.execute_input": "2025-03-13T08:59:39.099633Z",
     "iopub.status.busy": "2025-03-13T08:59:39.099084Z",
     "iopub.status.idle": "2025-03-13T08:59:39.110903Z",
     "shell.execute_reply": "2025-03-13T08:59:39.109799Z"
    },
    "papermill": {
     "duration": 0.027273,
     "end_time": "2025-03-13T08:59:39.112816",
     "exception": false,
     "start_time": "2025-03-13T08:59:39.085543",
     "status": "completed"
    },
    "tags": []
   },
   "outputs": [
    {
     "data": {
      "text/plain": [
       "release_year\n",
       "2018    1146\n",
       "2017    1030\n",
       "2019    1030\n",
       "2020     953\n",
       "2016     901\n",
       "        ... \n",
       "1966       1\n",
       "1959       1\n",
       "1925       1\n",
       "1947       1\n",
       "1961       1\n",
       "Name: count, Length: 74, dtype: int64"
      ]
     },
     "execution_count": 18,
     "metadata": {},
     "output_type": "execute_result"
    }
   ],
   "source": [
    "# Counts the value: \n",
    "\n",
    "released_year = netflix['release_year'].value_counts() \n",
    "released_year"
   ]
  },
  {
   "cell_type": "code",
   "execution_count": 19,
   "id": "8f6b1029",
   "metadata": {
    "execution": {
     "iopub.execute_input": "2025-03-13T08:59:39.134030Z",
     "iopub.status.busy": "2025-03-13T08:59:39.133663Z",
     "iopub.status.idle": "2025-03-13T08:59:39.228892Z",
     "shell.execute_reply": "2025-03-13T08:59:39.227913Z"
    },
    "papermill": {
     "duration": 0.108815,
     "end_time": "2025-03-13T08:59:39.230906",
     "exception": false,
     "start_time": "2025-03-13T08:59:39.122091",
     "status": "completed"
    },
    "tags": []
   },
   "outputs": [
    {
     "data": {
      "text/html": [
       "<html>\n",
       "<head><meta charset=\"utf-8\" /></head>\n",
       "<body>\n",
       "    <div>            <script src=\"https://cdnjs.cloudflare.com/ajax/libs/mathjax/2.7.5/MathJax.js?config=TeX-AMS-MML_SVG\"></script><script type=\"text/javascript\">if (window.MathJax && window.MathJax.Hub && window.MathJax.Hub.Config) {window.MathJax.Hub.Config({SVG: {font: \"STIX-Web\"}});}</script>                <script type=\"text/javascript\">window.PlotlyConfig = {MathJaxConfig: 'local'};</script>\n",
       "        <script charset=\"utf-8\" src=\"https://cdn.plot.ly/plotly-2.35.2.min.js\"></script>                <div id=\"7dc7bf22-a79d-4a26-9b6e-5e5ebd14b963\" class=\"plotly-graph-div\" style=\"height:525px; width:100%;\"></div>            <script type=\"text/javascript\">                                    window.PLOTLYENV=window.PLOTLYENV || {};                                    if (document.getElementById(\"7dc7bf22-a79d-4a26-9b6e-5e5ebd14b963\")) {                    Plotly.newPlot(                        \"7dc7bf22-a79d-4a26-9b6e-5e5ebd14b963\",                        [{\"fillpattern\":{\"shape\":\"\"},\"hovertemplate\":\"release_year=%{x}\\u003cbr\\u003ey=%{y}\\u003cextra\\u003e\\u003c\\u002fextra\\u003e\",\"legendgroup\":\"\",\"line\":{\"color\":\"#636efa\"},\"marker\":{\"symbol\":\"circle\"},\"mode\":\"lines\",\"name\":\"\",\"orientation\":\"v\",\"showlegend\":false,\"stackgroup\":\"1\",\"x\":[2018,2017,2019,2020,2016,2021,2015,2014,2013,2012,2010,2011,2009,2008,2006,2007,2005,2004,2003,2002,2001,1999,1997,2000,1998,1993,1995,1996,1992,1994,1990,1988,1982,1991,1989,1981,1986,1984,1979,1980,1983,1985,1973,1976,1987,1978,1974,1977,1975,1967,1971,1972,1960,1945,1968,1962,1955,1944,1943,1958,1970,1963,1969,1956,1954,1965,1964,1946,1942,1966,1959,1925,1947,1961],\"xaxis\":\"x\",\"y\":[1146,1030,1030,953,901,592,555,352,286,236,192,185,152,135,96,88,80,64,59,51,45,39,38,37,36,28,25,24,23,22,22,18,17,17,16,13,13,12,11,11,11,10,10,9,8,7,7,7,7,5,5,5,4,4,3,3,3,3,3,3,2,2,2,2,2,2,2,2,2,1,1,1,1,1],\"yaxis\":\"y\",\"type\":\"scatter\"}],                        {\"template\":{\"data\":{\"histogram2dcontour\":[{\"type\":\"histogram2dcontour\",\"colorbar\":{\"outlinewidth\":0,\"ticks\":\"\"},\"colorscale\":[[0.0,\"#0d0887\"],[0.1111111111111111,\"#46039f\"],[0.2222222222222222,\"#7201a8\"],[0.3333333333333333,\"#9c179e\"],[0.4444444444444444,\"#bd3786\"],[0.5555555555555556,\"#d8576b\"],[0.6666666666666666,\"#ed7953\"],[0.7777777777777778,\"#fb9f3a\"],[0.8888888888888888,\"#fdca26\"],[1.0,\"#f0f921\"]]}],\"choropleth\":[{\"type\":\"choropleth\",\"colorbar\":{\"outlinewidth\":0,\"ticks\":\"\"}}],\"histogram2d\":[{\"type\":\"histogram2d\",\"colorbar\":{\"outlinewidth\":0,\"ticks\":\"\"},\"colorscale\":[[0.0,\"#0d0887\"],[0.1111111111111111,\"#46039f\"],[0.2222222222222222,\"#7201a8\"],[0.3333333333333333,\"#9c179e\"],[0.4444444444444444,\"#bd3786\"],[0.5555555555555556,\"#d8576b\"],[0.6666666666666666,\"#ed7953\"],[0.7777777777777778,\"#fb9f3a\"],[0.8888888888888888,\"#fdca26\"],[1.0,\"#f0f921\"]]}],\"heatmap\":[{\"type\":\"heatmap\",\"colorbar\":{\"outlinewidth\":0,\"ticks\":\"\"},\"colorscale\":[[0.0,\"#0d0887\"],[0.1111111111111111,\"#46039f\"],[0.2222222222222222,\"#7201a8\"],[0.3333333333333333,\"#9c179e\"],[0.4444444444444444,\"#bd3786\"],[0.5555555555555556,\"#d8576b\"],[0.6666666666666666,\"#ed7953\"],[0.7777777777777778,\"#fb9f3a\"],[0.8888888888888888,\"#fdca26\"],[1.0,\"#f0f921\"]]}],\"heatmapgl\":[{\"type\":\"heatmapgl\",\"colorbar\":{\"outlinewidth\":0,\"ticks\":\"\"},\"colorscale\":[[0.0,\"#0d0887\"],[0.1111111111111111,\"#46039f\"],[0.2222222222222222,\"#7201a8\"],[0.3333333333333333,\"#9c179e\"],[0.4444444444444444,\"#bd3786\"],[0.5555555555555556,\"#d8576b\"],[0.6666666666666666,\"#ed7953\"],[0.7777777777777778,\"#fb9f3a\"],[0.8888888888888888,\"#fdca26\"],[1.0,\"#f0f921\"]]}],\"contourcarpet\":[{\"type\":\"contourcarpet\",\"colorbar\":{\"outlinewidth\":0,\"ticks\":\"\"}}],\"contour\":[{\"type\":\"contour\",\"colorbar\":{\"outlinewidth\":0,\"ticks\":\"\"},\"colorscale\":[[0.0,\"#0d0887\"],[0.1111111111111111,\"#46039f\"],[0.2222222222222222,\"#7201a8\"],[0.3333333333333333,\"#9c179e\"],[0.4444444444444444,\"#bd3786\"],[0.5555555555555556,\"#d8576b\"],[0.6666666666666666,\"#ed7953\"],[0.7777777777777778,\"#fb9f3a\"],[0.8888888888888888,\"#fdca26\"],[1.0,\"#f0f921\"]]}],\"surface\":[{\"type\":\"surface\",\"colorbar\":{\"outlinewidth\":0,\"ticks\":\"\"},\"colorscale\":[[0.0,\"#0d0887\"],[0.1111111111111111,\"#46039f\"],[0.2222222222222222,\"#7201a8\"],[0.3333333333333333,\"#9c179e\"],[0.4444444444444444,\"#bd3786\"],[0.5555555555555556,\"#d8576b\"],[0.6666666666666666,\"#ed7953\"],[0.7777777777777778,\"#fb9f3a\"],[0.8888888888888888,\"#fdca26\"],[1.0,\"#f0f921\"]]}],\"mesh3d\":[{\"type\":\"mesh3d\",\"colorbar\":{\"outlinewidth\":0,\"ticks\":\"\"}}],\"scatter\":[{\"fillpattern\":{\"fillmode\":\"overlay\",\"size\":10,\"solidity\":0.2},\"type\":\"scatter\"}],\"parcoords\":[{\"type\":\"parcoords\",\"line\":{\"colorbar\":{\"outlinewidth\":0,\"ticks\":\"\"}}}],\"scatterpolargl\":[{\"type\":\"scatterpolargl\",\"marker\":{\"colorbar\":{\"outlinewidth\":0,\"ticks\":\"\"}}}],\"bar\":[{\"error_x\":{\"color\":\"#2a3f5f\"},\"error_y\":{\"color\":\"#2a3f5f\"},\"marker\":{\"line\":{\"color\":\"#E5ECF6\",\"width\":0.5},\"pattern\":{\"fillmode\":\"overlay\",\"size\":10,\"solidity\":0.2}},\"type\":\"bar\"}],\"scattergeo\":[{\"type\":\"scattergeo\",\"marker\":{\"colorbar\":{\"outlinewidth\":0,\"ticks\":\"\"}}}],\"scatterpolar\":[{\"type\":\"scatterpolar\",\"marker\":{\"colorbar\":{\"outlinewidth\":0,\"ticks\":\"\"}}}],\"histogram\":[{\"marker\":{\"pattern\":{\"fillmode\":\"overlay\",\"size\":10,\"solidity\":0.2}},\"type\":\"histogram\"}],\"scattergl\":[{\"type\":\"scattergl\",\"marker\":{\"colorbar\":{\"outlinewidth\":0,\"ticks\":\"\"}}}],\"scatter3d\":[{\"type\":\"scatter3d\",\"line\":{\"colorbar\":{\"outlinewidth\":0,\"ticks\":\"\"}},\"marker\":{\"colorbar\":{\"outlinewidth\":0,\"ticks\":\"\"}}}],\"scattermapbox\":[{\"type\":\"scattermapbox\",\"marker\":{\"colorbar\":{\"outlinewidth\":0,\"ticks\":\"\"}}}],\"scatterternary\":[{\"type\":\"scatterternary\",\"marker\":{\"colorbar\":{\"outlinewidth\":0,\"ticks\":\"\"}}}],\"scattercarpet\":[{\"type\":\"scattercarpet\",\"marker\":{\"colorbar\":{\"outlinewidth\":0,\"ticks\":\"\"}}}],\"carpet\":[{\"aaxis\":{\"endlinecolor\":\"#2a3f5f\",\"gridcolor\":\"white\",\"linecolor\":\"white\",\"minorgridcolor\":\"white\",\"startlinecolor\":\"#2a3f5f\"},\"baxis\":{\"endlinecolor\":\"#2a3f5f\",\"gridcolor\":\"white\",\"linecolor\":\"white\",\"minorgridcolor\":\"white\",\"startlinecolor\":\"#2a3f5f\"},\"type\":\"carpet\"}],\"table\":[{\"cells\":{\"fill\":{\"color\":\"#EBF0F8\"},\"line\":{\"color\":\"white\"}},\"header\":{\"fill\":{\"color\":\"#C8D4E3\"},\"line\":{\"color\":\"white\"}},\"type\":\"table\"}],\"barpolar\":[{\"marker\":{\"line\":{\"color\":\"#E5ECF6\",\"width\":0.5},\"pattern\":{\"fillmode\":\"overlay\",\"size\":10,\"solidity\":0.2}},\"type\":\"barpolar\"}],\"pie\":[{\"automargin\":true,\"type\":\"pie\"}]},\"layout\":{\"autotypenumbers\":\"strict\",\"colorway\":[\"#636efa\",\"#EF553B\",\"#00cc96\",\"#ab63fa\",\"#FFA15A\",\"#19d3f3\",\"#FF6692\",\"#B6E880\",\"#FF97FF\",\"#FECB52\"],\"font\":{\"color\":\"#2a3f5f\"},\"hovermode\":\"closest\",\"hoverlabel\":{\"align\":\"left\"},\"paper_bgcolor\":\"white\",\"plot_bgcolor\":\"#E5ECF6\",\"polar\":{\"bgcolor\":\"#E5ECF6\",\"angularaxis\":{\"gridcolor\":\"white\",\"linecolor\":\"white\",\"ticks\":\"\"},\"radialaxis\":{\"gridcolor\":\"white\",\"linecolor\":\"white\",\"ticks\":\"\"}},\"ternary\":{\"bgcolor\":\"#E5ECF6\",\"aaxis\":{\"gridcolor\":\"white\",\"linecolor\":\"white\",\"ticks\":\"\"},\"baxis\":{\"gridcolor\":\"white\",\"linecolor\":\"white\",\"ticks\":\"\"},\"caxis\":{\"gridcolor\":\"white\",\"linecolor\":\"white\",\"ticks\":\"\"}},\"coloraxis\":{\"colorbar\":{\"outlinewidth\":0,\"ticks\":\"\"}},\"colorscale\":{\"sequential\":[[0.0,\"#0d0887\"],[0.1111111111111111,\"#46039f\"],[0.2222222222222222,\"#7201a8\"],[0.3333333333333333,\"#9c179e\"],[0.4444444444444444,\"#bd3786\"],[0.5555555555555556,\"#d8576b\"],[0.6666666666666666,\"#ed7953\"],[0.7777777777777778,\"#fb9f3a\"],[0.8888888888888888,\"#fdca26\"],[1.0,\"#f0f921\"]],\"sequentialminus\":[[0.0,\"#0d0887\"],[0.1111111111111111,\"#46039f\"],[0.2222222222222222,\"#7201a8\"],[0.3333333333333333,\"#9c179e\"],[0.4444444444444444,\"#bd3786\"],[0.5555555555555556,\"#d8576b\"],[0.6666666666666666,\"#ed7953\"],[0.7777777777777778,\"#fb9f3a\"],[0.8888888888888888,\"#fdca26\"],[1.0,\"#f0f921\"]],\"diverging\":[[0,\"#8e0152\"],[0.1,\"#c51b7d\"],[0.2,\"#de77ae\"],[0.3,\"#f1b6da\"],[0.4,\"#fde0ef\"],[0.5,\"#f7f7f7\"],[0.6,\"#e6f5d0\"],[0.7,\"#b8e186\"],[0.8,\"#7fbc41\"],[0.9,\"#4d9221\"],[1,\"#276419\"]]},\"xaxis\":{\"gridcolor\":\"white\",\"linecolor\":\"white\",\"ticks\":\"\",\"title\":{\"standoff\":15},\"zerolinecolor\":\"white\",\"automargin\":true,\"zerolinewidth\":2},\"yaxis\":{\"gridcolor\":\"white\",\"linecolor\":\"white\",\"ticks\":\"\",\"title\":{\"standoff\":15},\"zerolinecolor\":\"white\",\"automargin\":true,\"zerolinewidth\":2},\"scene\":{\"xaxis\":{\"backgroundcolor\":\"#E5ECF6\",\"gridcolor\":\"white\",\"linecolor\":\"white\",\"showbackground\":true,\"ticks\":\"\",\"zerolinecolor\":\"white\",\"gridwidth\":2},\"yaxis\":{\"backgroundcolor\":\"#E5ECF6\",\"gridcolor\":\"white\",\"linecolor\":\"white\",\"showbackground\":true,\"ticks\":\"\",\"zerolinecolor\":\"white\",\"gridwidth\":2},\"zaxis\":{\"backgroundcolor\":\"#E5ECF6\",\"gridcolor\":\"white\",\"linecolor\":\"white\",\"showbackground\":true,\"ticks\":\"\",\"zerolinecolor\":\"white\",\"gridwidth\":2}},\"shapedefaults\":{\"line\":{\"color\":\"#2a3f5f\"}},\"annotationdefaults\":{\"arrowcolor\":\"#2a3f5f\",\"arrowhead\":0,\"arrowwidth\":1},\"geo\":{\"bgcolor\":\"white\",\"landcolor\":\"#E5ECF6\",\"subunitcolor\":\"white\",\"showland\":true,\"showlakes\":true,\"lakecolor\":\"white\"},\"title\":{\"x\":0.05},\"mapbox\":{\"style\":\"light\"}}},\"xaxis\":{\"anchor\":\"y\",\"domain\":[0.0,1.0],\"title\":{\"text\":\"release_year\"}},\"yaxis\":{\"anchor\":\"x\",\"domain\":[0.0,1.0],\"title\":{\"text\":\"y\"}},\"legend\":{\"tracegroupgap\":0},\"margin\":{\"t\":60}},                        {\"responsive\": true}                    ).then(function(){\n",
       "                            \n",
       "var gd = document.getElementById('7dc7bf22-a79d-4a26-9b6e-5e5ebd14b963');\n",
       "var x = new MutationObserver(function (mutations, observer) {{\n",
       "        var display = window.getComputedStyle(gd).display;\n",
       "        if (!display || display === 'none') {{\n",
       "            console.log([gd, 'removed!']);\n",
       "            Plotly.purge(gd);\n",
       "            observer.disconnect();\n",
       "        }}\n",
       "}});\n",
       "\n",
       "// Listen for the removal of the full notebook cells\n",
       "var notebookContainer = gd.closest('#notebook-container');\n",
       "if (notebookContainer) {{\n",
       "    x.observe(notebookContainer, {childList: true});\n",
       "}}\n",
       "\n",
       "// Listen for the clearing of the current output cell\n",
       "var outputEl = gd.closest('.output');\n",
       "if (outputEl) {{\n",
       "    x.observe(outputEl, {childList: true});\n",
       "}}\n",
       "\n",
       "                        })                };                            </script>        </div>\n",
       "</body>\n",
       "</html>"
      ]
     },
     "metadata": {},
     "output_type": "display_data"
    }
   ],
   "source": [
    "# Draw an area plot to see how value changes over time: \n",
    "\n",
    "fig = px.area(released_year, x = released_year.index, y = released_year) \n",
    "\n",
    "fig"
   ]
  },
  {
   "cell_type": "markdown",
   "id": "0fe61779",
   "metadata": {
    "papermill": {
     "duration": 0.008852,
     "end_time": "2025-03-13T08:59:39.249012",
     "exception": false,
     "start_time": "2025-03-13T08:59:39.240160",
     "status": "completed"
    },
    "tags": []
   },
   "source": [
    "#  6. rating column"
   ]
  },
  {
   "cell_type": "code",
   "execution_count": 20,
   "id": "bca1c70d",
   "metadata": {
    "execution": {
     "iopub.execute_input": "2025-03-13T08:59:39.267323Z",
     "iopub.status.busy": "2025-03-13T08:59:39.266930Z",
     "iopub.status.idle": "2025-03-13T08:59:39.275254Z",
     "shell.execute_reply": "2025-03-13T08:59:39.274209Z"
    },
    "papermill": {
     "duration": 0.019297,
     "end_time": "2025-03-13T08:59:39.276918",
     "exception": false,
     "start_time": "2025-03-13T08:59:39.257621",
     "status": "completed"
    },
    "tags": []
   },
   "outputs": [
    {
     "data": {
      "text/plain": [
       "rating\n",
       "TV-MA       3205\n",
       "TV-14       2157\n",
       "TV-PG        861\n",
       "R            799\n",
       "PG-13        490\n",
       "TV-Y7        333\n",
       "TV-Y         306\n",
       "PG           287\n",
       "TV-G         220\n",
       "NR            79\n",
       "G             41\n",
       "TV-Y7-FV       6\n",
       "NC-17          3\n",
       "UR             3\n",
       "Name: count, dtype: int64"
      ]
     },
     "execution_count": 20,
     "metadata": {},
     "output_type": "execute_result"
    }
   ],
   "source": [
    "rating = netflix['rating'].value_counts() \n",
    "rating"
   ]
  },
  {
   "cell_type": "code",
   "execution_count": 21,
   "id": "96d6203b",
   "metadata": {
    "execution": {
     "iopub.execute_input": "2025-03-13T08:59:39.295810Z",
     "iopub.status.busy": "2025-03-13T08:59:39.295458Z",
     "iopub.status.idle": "2025-03-13T08:59:39.418459Z",
     "shell.execute_reply": "2025-03-13T08:59:39.417335Z"
    },
    "papermill": {
     "duration": 0.13502,
     "end_time": "2025-03-13T08:59:39.420738",
     "exception": false,
     "start_time": "2025-03-13T08:59:39.285718",
     "status": "completed"
    },
    "tags": []
   },
   "outputs": [
    {
     "data": {
      "text/html": [
       "<html>\n",
       "<head><meta charset=\"utf-8\" /></head>\n",
       "<body>\n",
       "    <div>            <script src=\"https://cdnjs.cloudflare.com/ajax/libs/mathjax/2.7.5/MathJax.js?config=TeX-AMS-MML_SVG\"></script><script type=\"text/javascript\">if (window.MathJax && window.MathJax.Hub && window.MathJax.Hub.Config) {window.MathJax.Hub.Config({SVG: {font: \"STIX-Web\"}});}</script>                <script type=\"text/javascript\">window.PlotlyConfig = {MathJaxConfig: 'local'};</script>\n",
       "        <script charset=\"utf-8\" src=\"https://cdn.plot.ly/plotly-2.35.2.min.js\"></script>                <div id=\"651603cc-6ebb-4491-b434-7b4d0b68ee73\" class=\"plotly-graph-div\" style=\"height:500px; width:100%;\"></div>            <script type=\"text/javascript\">                                    window.PLOTLYENV=window.PLOTLYENV || {};                                    if (document.getElementById(\"651603cc-6ebb-4491-b434-7b4d0b68ee73\")) {                    Plotly.newPlot(                        \"651603cc-6ebb-4491-b434-7b4d0b68ee73\",                        [{\"alignmentgroup\":\"True\",\"hovertemplate\":\"rating=%{y}\\u003cbr\\u003eFrequency=%{x}\\u003cextra\\u003e\\u003c\\u002fextra\\u003e\",\"legendgroup\":\"TV-MA\",\"marker\":{\"color\":\"#636efa\",\"pattern\":{\"shape\":\"\"}},\"name\":\"TV-MA\",\"offsetgroup\":\"TV-MA\",\"orientation\":\"h\",\"showlegend\":true,\"textposition\":\"outside\",\"texttemplate\":\"%{x}\",\"x\":[3205],\"xaxis\":\"x\",\"y\":[\"TV-MA\"],\"yaxis\":\"y\",\"type\":\"bar\",\"insidetextfont\":{\"family\":\"consolas\",\"size\":15}},{\"alignmentgroup\":\"True\",\"hovertemplate\":\"rating=%{y}\\u003cbr\\u003eFrequency=%{x}\\u003cextra\\u003e\\u003c\\u002fextra\\u003e\",\"legendgroup\":\"TV-14\",\"marker\":{\"color\":\"#EF553B\",\"pattern\":{\"shape\":\"\"}},\"name\":\"TV-14\",\"offsetgroup\":\"TV-14\",\"orientation\":\"h\",\"showlegend\":true,\"textposition\":\"outside\",\"texttemplate\":\"%{x}\",\"x\":[2157],\"xaxis\":\"x\",\"y\":[\"TV-14\"],\"yaxis\":\"y\",\"type\":\"bar\",\"insidetextfont\":{\"family\":\"consolas\",\"size\":15}},{\"alignmentgroup\":\"True\",\"hovertemplate\":\"rating=%{y}\\u003cbr\\u003eFrequency=%{x}\\u003cextra\\u003e\\u003c\\u002fextra\\u003e\",\"legendgroup\":\"TV-PG\",\"marker\":{\"color\":\"#00cc96\",\"pattern\":{\"shape\":\"\"}},\"name\":\"TV-PG\",\"offsetgroup\":\"TV-PG\",\"orientation\":\"h\",\"showlegend\":true,\"textposition\":\"outside\",\"texttemplate\":\"%{x}\",\"x\":[861],\"xaxis\":\"x\",\"y\":[\"TV-PG\"],\"yaxis\":\"y\",\"type\":\"bar\",\"insidetextfont\":{\"family\":\"consolas\",\"size\":15}},{\"alignmentgroup\":\"True\",\"hovertemplate\":\"rating=%{y}\\u003cbr\\u003eFrequency=%{x}\\u003cextra\\u003e\\u003c\\u002fextra\\u003e\",\"legendgroup\":\"R\",\"marker\":{\"color\":\"#ab63fa\",\"pattern\":{\"shape\":\"\"}},\"name\":\"R\",\"offsetgroup\":\"R\",\"orientation\":\"h\",\"showlegend\":true,\"textposition\":\"outside\",\"texttemplate\":\"%{x}\",\"x\":[799],\"xaxis\":\"x\",\"y\":[\"R\"],\"yaxis\":\"y\",\"type\":\"bar\",\"insidetextfont\":{\"family\":\"consolas\",\"size\":15}},{\"alignmentgroup\":\"True\",\"hovertemplate\":\"rating=%{y}\\u003cbr\\u003eFrequency=%{x}\\u003cextra\\u003e\\u003c\\u002fextra\\u003e\",\"legendgroup\":\"PG-13\",\"marker\":{\"color\":\"#FFA15A\",\"pattern\":{\"shape\":\"\"}},\"name\":\"PG-13\",\"offsetgroup\":\"PG-13\",\"orientation\":\"h\",\"showlegend\":true,\"textposition\":\"outside\",\"texttemplate\":\"%{x}\",\"x\":[490],\"xaxis\":\"x\",\"y\":[\"PG-13\"],\"yaxis\":\"y\",\"type\":\"bar\",\"insidetextfont\":{\"family\":\"consolas\",\"size\":15}},{\"alignmentgroup\":\"True\",\"hovertemplate\":\"rating=%{y}\\u003cbr\\u003eFrequency=%{x}\\u003cextra\\u003e\\u003c\\u002fextra\\u003e\",\"legendgroup\":\"TV-Y7\",\"marker\":{\"color\":\"#19d3f3\",\"pattern\":{\"shape\":\"\"}},\"name\":\"TV-Y7\",\"offsetgroup\":\"TV-Y7\",\"orientation\":\"h\",\"showlegend\":true,\"textposition\":\"outside\",\"texttemplate\":\"%{x}\",\"x\":[333],\"xaxis\":\"x\",\"y\":[\"TV-Y7\"],\"yaxis\":\"y\",\"type\":\"bar\",\"insidetextfont\":{\"family\":\"consolas\",\"size\":15}},{\"alignmentgroup\":\"True\",\"hovertemplate\":\"rating=%{y}\\u003cbr\\u003eFrequency=%{x}\\u003cextra\\u003e\\u003c\\u002fextra\\u003e\",\"legendgroup\":\"TV-Y\",\"marker\":{\"color\":\"#FF6692\",\"pattern\":{\"shape\":\"\"}},\"name\":\"TV-Y\",\"offsetgroup\":\"TV-Y\",\"orientation\":\"h\",\"showlegend\":true,\"textposition\":\"outside\",\"texttemplate\":\"%{x}\",\"x\":[306],\"xaxis\":\"x\",\"y\":[\"TV-Y\"],\"yaxis\":\"y\",\"type\":\"bar\",\"insidetextfont\":{\"family\":\"consolas\",\"size\":15}},{\"alignmentgroup\":\"True\",\"hovertemplate\":\"rating=%{y}\\u003cbr\\u003eFrequency=%{x}\\u003cextra\\u003e\\u003c\\u002fextra\\u003e\",\"legendgroup\":\"PG\",\"marker\":{\"color\":\"#B6E880\",\"pattern\":{\"shape\":\"\"}},\"name\":\"PG\",\"offsetgroup\":\"PG\",\"orientation\":\"h\",\"showlegend\":true,\"textposition\":\"outside\",\"texttemplate\":\"%{x}\",\"x\":[287],\"xaxis\":\"x\",\"y\":[\"PG\"],\"yaxis\":\"y\",\"type\":\"bar\",\"insidetextfont\":{\"family\":\"consolas\",\"size\":15}},{\"alignmentgroup\":\"True\",\"hovertemplate\":\"rating=%{y}\\u003cbr\\u003eFrequency=%{x}\\u003cextra\\u003e\\u003c\\u002fextra\\u003e\",\"legendgroup\":\"TV-G\",\"marker\":{\"color\":\"#FF97FF\",\"pattern\":{\"shape\":\"\"}},\"name\":\"TV-G\",\"offsetgroup\":\"TV-G\",\"orientation\":\"h\",\"showlegend\":true,\"textposition\":\"outside\",\"texttemplate\":\"%{x}\",\"x\":[220],\"xaxis\":\"x\",\"y\":[\"TV-G\"],\"yaxis\":\"y\",\"type\":\"bar\",\"insidetextfont\":{\"family\":\"consolas\",\"size\":15}},{\"alignmentgroup\":\"True\",\"hovertemplate\":\"rating=%{y}\\u003cbr\\u003eFrequency=%{x}\\u003cextra\\u003e\\u003c\\u002fextra\\u003e\",\"legendgroup\":\"NR\",\"marker\":{\"color\":\"#FECB52\",\"pattern\":{\"shape\":\"\"}},\"name\":\"NR\",\"offsetgroup\":\"NR\",\"orientation\":\"h\",\"showlegend\":true,\"textposition\":\"outside\",\"texttemplate\":\"%{x}\",\"x\":[79],\"xaxis\":\"x\",\"y\":[\"NR\"],\"yaxis\":\"y\",\"type\":\"bar\",\"insidetextfont\":{\"family\":\"consolas\",\"size\":15}},{\"alignmentgroup\":\"True\",\"hovertemplate\":\"rating=%{y}\\u003cbr\\u003eFrequency=%{x}\\u003cextra\\u003e\\u003c\\u002fextra\\u003e\",\"legendgroup\":\"G\",\"marker\":{\"color\":\"#636efa\",\"pattern\":{\"shape\":\"\"}},\"name\":\"G\",\"offsetgroup\":\"G\",\"orientation\":\"h\",\"showlegend\":true,\"textposition\":\"outside\",\"texttemplate\":\"%{x}\",\"x\":[41],\"xaxis\":\"x\",\"y\":[\"G\"],\"yaxis\":\"y\",\"type\":\"bar\",\"insidetextfont\":{\"family\":\"consolas\",\"size\":15}},{\"alignmentgroup\":\"True\",\"hovertemplate\":\"rating=%{y}\\u003cbr\\u003eFrequency=%{x}\\u003cextra\\u003e\\u003c\\u002fextra\\u003e\",\"legendgroup\":\"TV-Y7-FV\",\"marker\":{\"color\":\"#EF553B\",\"pattern\":{\"shape\":\"\"}},\"name\":\"TV-Y7-FV\",\"offsetgroup\":\"TV-Y7-FV\",\"orientation\":\"h\",\"showlegend\":true,\"textposition\":\"outside\",\"texttemplate\":\"%{x}\",\"x\":[6],\"xaxis\":\"x\",\"y\":[\"TV-Y7-FV\"],\"yaxis\":\"y\",\"type\":\"bar\",\"insidetextfont\":{\"family\":\"consolas\",\"size\":15}},{\"alignmentgroup\":\"True\",\"hovertemplate\":\"rating=%{y}\\u003cbr\\u003eFrequency=%{x}\\u003cextra\\u003e\\u003c\\u002fextra\\u003e\",\"legendgroup\":\"NC-17\",\"marker\":{\"color\":\"#00cc96\",\"pattern\":{\"shape\":\"\"}},\"name\":\"NC-17\",\"offsetgroup\":\"NC-17\",\"orientation\":\"h\",\"showlegend\":true,\"textposition\":\"outside\",\"texttemplate\":\"%{x}\",\"x\":[3],\"xaxis\":\"x\",\"y\":[\"NC-17\"],\"yaxis\":\"y\",\"type\":\"bar\",\"insidetextfont\":{\"family\":\"consolas\",\"size\":15}},{\"alignmentgroup\":\"True\",\"hovertemplate\":\"rating=%{y}\\u003cbr\\u003eFrequency=%{x}\\u003cextra\\u003e\\u003c\\u002fextra\\u003e\",\"legendgroup\":\"UR\",\"marker\":{\"color\":\"#ab63fa\",\"pattern\":{\"shape\":\"\"}},\"name\":\"UR\",\"offsetgroup\":\"UR\",\"orientation\":\"h\",\"showlegend\":true,\"textposition\":\"outside\",\"texttemplate\":\"%{x}\",\"x\":[3],\"xaxis\":\"x\",\"y\":[\"UR\"],\"yaxis\":\"y\",\"type\":\"bar\",\"insidetextfont\":{\"family\":\"consolas\",\"size\":15}}],                        {\"template\":{\"data\":{\"histogram2dcontour\":[{\"type\":\"histogram2dcontour\",\"colorbar\":{\"outlinewidth\":0,\"ticks\":\"\"},\"colorscale\":[[0.0,\"#0d0887\"],[0.1111111111111111,\"#46039f\"],[0.2222222222222222,\"#7201a8\"],[0.3333333333333333,\"#9c179e\"],[0.4444444444444444,\"#bd3786\"],[0.5555555555555556,\"#d8576b\"],[0.6666666666666666,\"#ed7953\"],[0.7777777777777778,\"#fb9f3a\"],[0.8888888888888888,\"#fdca26\"],[1.0,\"#f0f921\"]]}],\"choropleth\":[{\"type\":\"choropleth\",\"colorbar\":{\"outlinewidth\":0,\"ticks\":\"\"}}],\"histogram2d\":[{\"type\":\"histogram2d\",\"colorbar\":{\"outlinewidth\":0,\"ticks\":\"\"},\"colorscale\":[[0.0,\"#0d0887\"],[0.1111111111111111,\"#46039f\"],[0.2222222222222222,\"#7201a8\"],[0.3333333333333333,\"#9c179e\"],[0.4444444444444444,\"#bd3786\"],[0.5555555555555556,\"#d8576b\"],[0.6666666666666666,\"#ed7953\"],[0.7777777777777778,\"#fb9f3a\"],[0.8888888888888888,\"#fdca26\"],[1.0,\"#f0f921\"]]}],\"heatmap\":[{\"type\":\"heatmap\",\"colorbar\":{\"outlinewidth\":0,\"ticks\":\"\"},\"colorscale\":[[0.0,\"#0d0887\"],[0.1111111111111111,\"#46039f\"],[0.2222222222222222,\"#7201a8\"],[0.3333333333333333,\"#9c179e\"],[0.4444444444444444,\"#bd3786\"],[0.5555555555555556,\"#d8576b\"],[0.6666666666666666,\"#ed7953\"],[0.7777777777777778,\"#fb9f3a\"],[0.8888888888888888,\"#fdca26\"],[1.0,\"#f0f921\"]]}],\"heatmapgl\":[{\"type\":\"heatmapgl\",\"colorbar\":{\"outlinewidth\":0,\"ticks\":\"\"},\"colorscale\":[[0.0,\"#0d0887\"],[0.1111111111111111,\"#46039f\"],[0.2222222222222222,\"#7201a8\"],[0.3333333333333333,\"#9c179e\"],[0.4444444444444444,\"#bd3786\"],[0.5555555555555556,\"#d8576b\"],[0.6666666666666666,\"#ed7953\"],[0.7777777777777778,\"#fb9f3a\"],[0.8888888888888888,\"#fdca26\"],[1.0,\"#f0f921\"]]}],\"contourcarpet\":[{\"type\":\"contourcarpet\",\"colorbar\":{\"outlinewidth\":0,\"ticks\":\"\"}}],\"contour\":[{\"type\":\"contour\",\"colorbar\":{\"outlinewidth\":0,\"ticks\":\"\"},\"colorscale\":[[0.0,\"#0d0887\"],[0.1111111111111111,\"#46039f\"],[0.2222222222222222,\"#7201a8\"],[0.3333333333333333,\"#9c179e\"],[0.4444444444444444,\"#bd3786\"],[0.5555555555555556,\"#d8576b\"],[0.6666666666666666,\"#ed7953\"],[0.7777777777777778,\"#fb9f3a\"],[0.8888888888888888,\"#fdca26\"],[1.0,\"#f0f921\"]]}],\"surface\":[{\"type\":\"surface\",\"colorbar\":{\"outlinewidth\":0,\"ticks\":\"\"},\"colorscale\":[[0.0,\"#0d0887\"],[0.1111111111111111,\"#46039f\"],[0.2222222222222222,\"#7201a8\"],[0.3333333333333333,\"#9c179e\"],[0.4444444444444444,\"#bd3786\"],[0.5555555555555556,\"#d8576b\"],[0.6666666666666666,\"#ed7953\"],[0.7777777777777778,\"#fb9f3a\"],[0.8888888888888888,\"#fdca26\"],[1.0,\"#f0f921\"]]}],\"mesh3d\":[{\"type\":\"mesh3d\",\"colorbar\":{\"outlinewidth\":0,\"ticks\":\"\"}}],\"scatter\":[{\"fillpattern\":{\"fillmode\":\"overlay\",\"size\":10,\"solidity\":0.2},\"type\":\"scatter\"}],\"parcoords\":[{\"type\":\"parcoords\",\"line\":{\"colorbar\":{\"outlinewidth\":0,\"ticks\":\"\"}}}],\"scatterpolargl\":[{\"type\":\"scatterpolargl\",\"marker\":{\"colorbar\":{\"outlinewidth\":0,\"ticks\":\"\"}}}],\"bar\":[{\"error_x\":{\"color\":\"#2a3f5f\"},\"error_y\":{\"color\":\"#2a3f5f\"},\"marker\":{\"line\":{\"color\":\"#E5ECF6\",\"width\":0.5},\"pattern\":{\"fillmode\":\"overlay\",\"size\":10,\"solidity\":0.2}},\"type\":\"bar\"}],\"scattergeo\":[{\"type\":\"scattergeo\",\"marker\":{\"colorbar\":{\"outlinewidth\":0,\"ticks\":\"\"}}}],\"scatterpolar\":[{\"type\":\"scatterpolar\",\"marker\":{\"colorbar\":{\"outlinewidth\":0,\"ticks\":\"\"}}}],\"histogram\":[{\"marker\":{\"pattern\":{\"fillmode\":\"overlay\",\"size\":10,\"solidity\":0.2}},\"type\":\"histogram\"}],\"scattergl\":[{\"type\":\"scattergl\",\"marker\":{\"colorbar\":{\"outlinewidth\":0,\"ticks\":\"\"}}}],\"scatter3d\":[{\"type\":\"scatter3d\",\"line\":{\"colorbar\":{\"outlinewidth\":0,\"ticks\":\"\"}},\"marker\":{\"colorbar\":{\"outlinewidth\":0,\"ticks\":\"\"}}}],\"scattermapbox\":[{\"type\":\"scattermapbox\",\"marker\":{\"colorbar\":{\"outlinewidth\":0,\"ticks\":\"\"}}}],\"scatterternary\":[{\"type\":\"scatterternary\",\"marker\":{\"colorbar\":{\"outlinewidth\":0,\"ticks\":\"\"}}}],\"scattercarpet\":[{\"type\":\"scattercarpet\",\"marker\":{\"colorbar\":{\"outlinewidth\":0,\"ticks\":\"\"}}}],\"carpet\":[{\"aaxis\":{\"endlinecolor\":\"#2a3f5f\",\"gridcolor\":\"white\",\"linecolor\":\"white\",\"minorgridcolor\":\"white\",\"startlinecolor\":\"#2a3f5f\"},\"baxis\":{\"endlinecolor\":\"#2a3f5f\",\"gridcolor\":\"white\",\"linecolor\":\"white\",\"minorgridcolor\":\"white\",\"startlinecolor\":\"#2a3f5f\"},\"type\":\"carpet\"}],\"table\":[{\"cells\":{\"fill\":{\"color\":\"#EBF0F8\"},\"line\":{\"color\":\"white\"}},\"header\":{\"fill\":{\"color\":\"#C8D4E3\"},\"line\":{\"color\":\"white\"}},\"type\":\"table\"}],\"barpolar\":[{\"marker\":{\"line\":{\"color\":\"#E5ECF6\",\"width\":0.5},\"pattern\":{\"fillmode\":\"overlay\",\"size\":10,\"solidity\":0.2}},\"type\":\"barpolar\"}],\"pie\":[{\"automargin\":true,\"type\":\"pie\"}]},\"layout\":{\"autotypenumbers\":\"strict\",\"colorway\":[\"#636efa\",\"#EF553B\",\"#00cc96\",\"#ab63fa\",\"#FFA15A\",\"#19d3f3\",\"#FF6692\",\"#B6E880\",\"#FF97FF\",\"#FECB52\"],\"font\":{\"color\":\"#2a3f5f\"},\"hovermode\":\"closest\",\"hoverlabel\":{\"align\":\"left\"},\"paper_bgcolor\":\"white\",\"plot_bgcolor\":\"#E5ECF6\",\"polar\":{\"bgcolor\":\"#E5ECF6\",\"angularaxis\":{\"gridcolor\":\"white\",\"linecolor\":\"white\",\"ticks\":\"\"},\"radialaxis\":{\"gridcolor\":\"white\",\"linecolor\":\"white\",\"ticks\":\"\"}},\"ternary\":{\"bgcolor\":\"#E5ECF6\",\"aaxis\":{\"gridcolor\":\"white\",\"linecolor\":\"white\",\"ticks\":\"\"},\"baxis\":{\"gridcolor\":\"white\",\"linecolor\":\"white\",\"ticks\":\"\"},\"caxis\":{\"gridcolor\":\"white\",\"linecolor\":\"white\",\"ticks\":\"\"}},\"coloraxis\":{\"colorbar\":{\"outlinewidth\":0,\"ticks\":\"\"}},\"colorscale\":{\"sequential\":[[0.0,\"#0d0887\"],[0.1111111111111111,\"#46039f\"],[0.2222222222222222,\"#7201a8\"],[0.3333333333333333,\"#9c179e\"],[0.4444444444444444,\"#bd3786\"],[0.5555555555555556,\"#d8576b\"],[0.6666666666666666,\"#ed7953\"],[0.7777777777777778,\"#fb9f3a\"],[0.8888888888888888,\"#fdca26\"],[1.0,\"#f0f921\"]],\"sequentialminus\":[[0.0,\"#0d0887\"],[0.1111111111111111,\"#46039f\"],[0.2222222222222222,\"#7201a8\"],[0.3333333333333333,\"#9c179e\"],[0.4444444444444444,\"#bd3786\"],[0.5555555555555556,\"#d8576b\"],[0.6666666666666666,\"#ed7953\"],[0.7777777777777778,\"#fb9f3a\"],[0.8888888888888888,\"#fdca26\"],[1.0,\"#f0f921\"]],\"diverging\":[[0,\"#8e0152\"],[0.1,\"#c51b7d\"],[0.2,\"#de77ae\"],[0.3,\"#f1b6da\"],[0.4,\"#fde0ef\"],[0.5,\"#f7f7f7\"],[0.6,\"#e6f5d0\"],[0.7,\"#b8e186\"],[0.8,\"#7fbc41\"],[0.9,\"#4d9221\"],[1,\"#276419\"]]},\"xaxis\":{\"gridcolor\":\"white\",\"linecolor\":\"white\",\"ticks\":\"\",\"title\":{\"standoff\":15},\"zerolinecolor\":\"white\",\"automargin\":true,\"zerolinewidth\":2},\"yaxis\":{\"gridcolor\":\"white\",\"linecolor\":\"white\",\"ticks\":\"\",\"title\":{\"standoff\":15},\"zerolinecolor\":\"white\",\"automargin\":true,\"zerolinewidth\":2},\"scene\":{\"xaxis\":{\"backgroundcolor\":\"#E5ECF6\",\"gridcolor\":\"white\",\"linecolor\":\"white\",\"showbackground\":true,\"ticks\":\"\",\"zerolinecolor\":\"white\",\"gridwidth\":2},\"yaxis\":{\"backgroundcolor\":\"#E5ECF6\",\"gridcolor\":\"white\",\"linecolor\":\"white\",\"showbackground\":true,\"ticks\":\"\",\"zerolinecolor\":\"white\",\"gridwidth\":2},\"zaxis\":{\"backgroundcolor\":\"#E5ECF6\",\"gridcolor\":\"white\",\"linecolor\":\"white\",\"showbackground\":true,\"ticks\":\"\",\"zerolinecolor\":\"white\",\"gridwidth\":2}},\"shapedefaults\":{\"line\":{\"color\":\"#2a3f5f\"}},\"annotationdefaults\":{\"arrowcolor\":\"#2a3f5f\",\"arrowhead\":0,\"arrowwidth\":1},\"geo\":{\"bgcolor\":\"white\",\"landcolor\":\"#E5ECF6\",\"subunitcolor\":\"white\",\"showland\":true,\"showlakes\":true,\"lakecolor\":\"white\"},\"title\":{\"x\":0.05},\"mapbox\":{\"style\":\"light\"}}},\"xaxis\":{\"anchor\":\"y\",\"domain\":[0.0,1.0],\"title\":{\"text\":\"Frequency\"}},\"yaxis\":{\"anchor\":\"x\",\"domain\":[0.0,1.0],\"title\":{\"text\":\"rating\"},\"categoryorder\":\"array\",\"categoryarray\":[\"UR\",\"NC-17\",\"TV-Y7-FV\",\"G\",\"NR\",\"TV-G\",\"PG\",\"TV-Y\",\"TV-Y7\",\"PG-13\",\"R\",\"TV-PG\",\"TV-14\",\"TV-MA\"]},\"legend\":{\"title\":{\"text\":\"rating\"},\"tracegroupgap\":0},\"title\":{\"text\":\"Popularity of Rating\"},\"barmode\":\"relative\",\"height\":500},                        {\"responsive\": true}                    ).then(function(){\n",
       "                            \n",
       "var gd = document.getElementById('651603cc-6ebb-4491-b434-7b4d0b68ee73');\n",
       "var x = new MutationObserver(function (mutations, observer) {{\n",
       "        var display = window.getComputedStyle(gd).display;\n",
       "        if (!display || display === 'none') {{\n",
       "            console.log([gd, 'removed!']);\n",
       "            Plotly.purge(gd);\n",
       "            observer.disconnect();\n",
       "        }}\n",
       "}});\n",
       "\n",
       "// Listen for the removal of the full notebook cells\n",
       "var notebookContainer = gd.closest('#notebook-container');\n",
       "if (notebookContainer) {{\n",
       "    x.observe(notebookContainer, {childList: true});\n",
       "}}\n",
       "\n",
       "// Listen for the clearing of the current output cell\n",
       "var outputEl = gd.closest('.output');\n",
       "if (outputEl) {{\n",
       "    x.observe(outputEl, {childList: true});\n",
       "}}\n",
       "\n",
       "                        })                };                            </script>        </div>\n",
       "</body>\n",
       "</html>"
      ]
     },
     "metadata": {},
     "output_type": "display_data"
    }
   ],
   "source": [
    "# Draw a bar about the Popularity of Rating: \n",
    "\n",
    "fig = px.bar(data_frame = rating, \n",
    "             x = rating, \n",
    "             y = rating.index, \n",
    "             color = rating.index,\n",
    "             text_auto = True, \n",
    "             orientation = 'h', \n",
    "             title = 'Popularity of Rating', \n",
    "             labels = {'x' : 'Frequency',\n",
    "                       'y' : 'Type of Rating'},\n",
    "            height = 500) \n",
    "\n",
    "fig.update_traces(textposition = 'outside', \n",
    "                  insidetextfont = {\"family\":\"consolas\", \n",
    "                                    \"size\":15})   \n",
    "fig"
   ]
  },
  {
   "cell_type": "markdown",
   "id": "f8eedc51",
   "metadata": {
    "papermill": {
     "duration": 0.008712,
     "end_time": "2025-03-13T08:59:39.438962",
     "exception": false,
     "start_time": "2025-03-13T08:59:39.430250",
     "status": "completed"
    },
    "tags": []
   },
   "source": [
    "# 📆 7. duration column"
   ]
  },
  {
   "cell_type": "code",
   "execution_count": 22,
   "id": "95bd3dbb",
   "metadata": {
    "execution": {
     "iopub.execute_input": "2025-03-13T08:59:39.458334Z",
     "iopub.status.busy": "2025-03-13T08:59:39.457970Z",
     "iopub.status.idle": "2025-03-13T08:59:39.466679Z",
     "shell.execute_reply": "2025-03-13T08:59:39.465452Z"
    },
    "papermill": {
     "duration": 0.020611,
     "end_time": "2025-03-13T08:59:39.468532",
     "exception": false,
     "start_time": "2025-03-13T08:59:39.447921",
     "status": "completed"
    },
    "tags": []
   },
   "outputs": [
    {
     "data": {
      "text/plain": [
       "duration\n",
       "1 Season      1791\n",
       "2 Seasons      421\n",
       "3 Seasons      198\n",
       "90 min         152\n",
       "97 min         146\n",
       "              ... \n",
       "5 min            1\n",
       "16 min           1\n",
       "186 min          1\n",
       "193 min          1\n",
       "11 Seasons       1\n",
       "Name: count, Length: 220, dtype: int64"
      ]
     },
     "execution_count": 22,
     "metadata": {},
     "output_type": "execute_result"
    }
   ],
   "source": [
    "netflix['duration'].value_counts() "
   ]
  },
  {
   "cell_type": "markdown",
   "id": "742a42c1",
   "metadata": {
    "papermill": {
     "duration": 0.008846,
     "end_time": "2025-03-13T08:59:39.486851",
     "exception": false,
     "start_time": "2025-03-13T08:59:39.478005",
     "status": "completed"
    },
    "tags": []
   },
   "source": [
    "# Q1. The Most Common Rating for Each Type of Shows"
   ]
  },
  {
   "cell_type": "markdown",
   "id": "3ee8b6e2",
   "metadata": {
    "papermill": {
     "duration": 0.00887,
     "end_time": "2025-03-13T08:59:39.504875",
     "exception": false,
     "start_time": "2025-03-13T08:59:39.496005",
     "status": "completed"
    },
    "tags": []
   },
   "source": [
    "# *Digital View* "
   ]
  },
  {
   "cell_type": "code",
   "execution_count": 23,
   "id": "cb9528cb",
   "metadata": {
    "execution": {
     "iopub.execute_input": "2025-03-13T08:59:39.524315Z",
     "iopub.status.busy": "2025-03-13T08:59:39.523945Z",
     "iopub.status.idle": "2025-03-13T08:59:39.536763Z",
     "shell.execute_reply": "2025-03-13T08:59:39.535644Z"
    },
    "papermill": {
     "duration": 0.024754,
     "end_time": "2025-03-13T08:59:39.538679",
     "exception": false,
     "start_time": "2025-03-13T08:59:39.513925",
     "status": "completed"
    },
    "tags": []
   },
   "outputs": [
    {
     "name": "stdout",
     "output_type": "stream",
     "text": [
      "movie\n"
     ]
    },
    {
     "data": {
      "text/plain": [
       "rating\n",
       "TV-MA    2062\n",
       "Name: count, dtype: int64"
      ]
     },
     "execution_count": 23,
     "metadata": {},
     "output_type": "execute_result"
    }
   ],
   "source": [
    "print('movie') \n",
    "\n",
    "netflix.loc[netflix['type'] == 'Movie', 'rating'].value_counts().nlargest(1) "
   ]
  },
  {
   "cell_type": "code",
   "execution_count": 24,
   "id": "07f90685",
   "metadata": {
    "execution": {
     "iopub.execute_input": "2025-03-13T08:59:39.559072Z",
     "iopub.status.busy": "2025-03-13T08:59:39.558719Z",
     "iopub.status.idle": "2025-03-13T08:59:39.571540Z",
     "shell.execute_reply": "2025-03-13T08:59:39.570349Z"
    },
    "papermill": {
     "duration": 0.024937,
     "end_time": "2025-03-13T08:59:39.573319",
     "exception": false,
     "start_time": "2025-03-13T08:59:39.548382",
     "status": "completed"
    },
    "tags": []
   },
   "outputs": [
    {
     "name": "stdout",
     "output_type": "stream",
     "text": [
      "TV Show\n"
     ]
    },
    {
     "data": {
      "text/plain": [
       "rating\n",
       "TV-MA    1143\n",
       "Name: count, dtype: int64"
      ]
     },
     "execution_count": 24,
     "metadata": {},
     "output_type": "execute_result"
    }
   ],
   "source": [
    "print('TV Show') \n",
    "\n",
    "netflix.loc[netflix['type'] == 'TV Show', 'rating'].value_counts().nlargest(1) "
   ]
  },
  {
   "cell_type": "markdown",
   "id": "1ea0bf42",
   "metadata": {
    "papermill": {
     "duration": 0.009539,
     "end_time": "2025-03-13T08:59:39.592415",
     "exception": false,
     "start_time": "2025-03-13T08:59:39.582876",
     "status": "completed"
    },
    "tags": []
   },
   "source": [
    "# *Graphical View*"
   ]
  }
 ],
 "metadata": {
  "kaggle": {
   "accelerator": "none",
   "dataSources": [
    {
     "datasetId": 6833044,
     "sourceId": 10980115,
     "sourceType": "datasetVersion"
    }
   ],
   "dockerImageVersionId": 30918,
   "isGpuEnabled": false,
   "isInternetEnabled": true,
   "language": "python",
   "sourceType": "notebook"
  },
  "kernelspec": {
   "display_name": "Python 3",
   "language": "python",
   "name": "python3"
  },
  "language_info": {
   "codemirror_mode": {
    "name": "ipython",
    "version": 3
   },
   "file_extension": ".py",
   "mimetype": "text/x-python",
   "name": "python",
   "nbconvert_exporter": "python",
   "pygments_lexer": "ipython3",
   "version": "3.10.12"
  },
  "papermill": {
   "default_parameters": {},
   "duration": 8.980798,
   "end_time": "2025-03-13T08:59:40.321882",
   "environment_variables": {},
   "exception": null,
   "input_path": "__notebook__.ipynb",
   "output_path": "__notebook__.ipynb",
   "parameters": {},
   "start_time": "2025-03-13T08:59:31.341084",
   "version": "2.6.0"
  }
 },
 "nbformat": 4,
 "nbformat_minor": 5
}
