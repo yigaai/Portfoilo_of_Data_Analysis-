{
 "cells": [
  {
   "cell_type": "code",
   "execution_count": 1,
   "id": "7caa168e",
   "metadata": {
    "execution": {
     "iopub.execute_input": "2025-03-13T10:25:49.708231Z",
     "iopub.status.busy": "2025-03-13T10:25:49.707741Z",
     "iopub.status.idle": "2025-03-13T10:25:52.003858Z",
     "shell.execute_reply": "2025-03-13T10:25:52.001952Z"
    },
    "papermill": {
     "duration": 2.307371,
     "end_time": "2025-03-13T10:25:52.005939",
     "exception": false,
     "start_time": "2025-03-13T10:25:49.698568",
     "status": "completed"
    },
    "tags": []
   },
   "outputs": [],
   "source": [
    "import os \n",
    "import pandas as pd\n",
    "import numpy as np\n",
    "import matplotlib.pyplot as plt\n",
    "import plotly.express as px\n",
    "from plotly.offline import iplot, plot\n",
    "import plotly.graph_objects as go\n",
    "from plotly.subplots import make_subplots\n",
    "\n",
    "\n",
    "\n",
    "from collections import Counter\n"
   ]
  },
  {
   "cell_type": "code",
   "execution_count": 2,
   "id": "29441e32",
   "metadata": {
    "execution": {
     "iopub.execute_input": "2025-03-13T10:25:52.022147Z",
     "iopub.status.busy": "2025-03-13T10:25:52.021559Z",
     "iopub.status.idle": "2025-03-13T10:25:52.033963Z",
     "shell.execute_reply": "2025-03-13T10:25:52.032969Z"
    },
    "papermill": {
     "duration": 0.022076,
     "end_time": "2025-03-13T10:25:52.035633",
     "exception": false,
     "start_time": "2025-03-13T10:25:52.013557",
     "status": "completed"
    },
    "tags": []
   },
   "outputs": [
    {
     "data": {
      "text/plain": [
       "['netflix1.csv']"
      ]
     },
     "execution_count": 2,
     "metadata": {},
     "output_type": "execute_result"
    }
   ],
   "source": [
    "os.listdir('/kaggle/input/netflix-dataset') "
   ]
  },
  {
   "cell_type": "markdown",
   "id": "ebcaa2e5",
   "metadata": {
    "papermill": {
     "duration": 0.006618,
     "end_time": "2025-03-13T10:25:52.049818",
     "exception": false,
     "start_time": "2025-03-13T10:25:52.043200",
     "status": "completed"
    },
    "tags": []
   },
   "source": [
    "# Read Data "
   ]
  },
  {
   "cell_type": "code",
   "execution_count": 3,
   "id": "40082181",
   "metadata": {
    "execution": {
     "iopub.execute_input": "2025-03-13T10:25:52.065629Z",
     "iopub.status.busy": "2025-03-13T10:25:52.065300Z",
     "iopub.status.idle": "2025-03-13T10:25:52.132602Z",
     "shell.execute_reply": "2025-03-13T10:25:52.131355Z"
    },
    "papermill": {
     "duration": 0.07732,
     "end_time": "2025-03-13T10:25:52.134569",
     "exception": false,
     "start_time": "2025-03-13T10:25:52.057249",
     "status": "completed"
    },
    "tags": []
   },
   "outputs": [],
   "source": [
    "netflix = pd.read_csv('/kaggle/input/netflix-dataset/netflix1.csv') "
   ]
  },
  {
   "cell_type": "markdown",
   "id": "0cd72ea6",
   "metadata": {
    "papermill": {
     "duration": 0.006721,
     "end_time": "2025-03-13T10:25:52.148727",
     "exception": false,
     "start_time": "2025-03-13T10:25:52.142006",
     "status": "completed"
    },
    "tags": []
   },
   "source": [
    "# Check Basic Information  "
   ]
  },
  {
   "cell_type": "code",
   "execution_count": 4,
   "id": "f79d66af",
   "metadata": {
    "execution": {
     "iopub.execute_input": "2025-03-13T10:25:52.164801Z",
     "iopub.status.busy": "2025-03-13T10:25:52.164345Z",
     "iopub.status.idle": "2025-03-13T10:25:52.170459Z",
     "shell.execute_reply": "2025-03-13T10:25:52.169349Z"
    },
    "papermill": {
     "duration": 0.016259,
     "end_time": "2025-03-13T10:25:52.172020",
     "exception": false,
     "start_time": "2025-03-13T10:25:52.155761",
     "status": "completed"
    },
    "tags": []
   },
   "outputs": [
    {
     "data": {
      "text/plain": [
       "(8790, 10)"
      ]
     },
     "execution_count": 4,
     "metadata": {},
     "output_type": "execute_result"
    }
   ],
   "source": [
    "netflix.shape"
   ]
  },
  {
   "cell_type": "code",
   "execution_count": 5,
   "id": "969d7ab8",
   "metadata": {
    "execution": {
     "iopub.execute_input": "2025-03-13T10:25:52.188420Z",
     "iopub.status.busy": "2025-03-13T10:25:52.187947Z",
     "iopub.status.idle": "2025-03-13T10:25:52.200644Z",
     "shell.execute_reply": "2025-03-13T10:25:52.199610Z"
    },
    "papermill": {
     "duration": 0.022611,
     "end_time": "2025-03-13T10:25:52.202433",
     "exception": false,
     "start_time": "2025-03-13T10:25:52.179822",
     "status": "completed"
    },
    "tags": []
   },
   "outputs": [
    {
     "data": {
      "text/plain": [
       "show_id         object\n",
       "type            object\n",
       "title           object\n",
       "director        object\n",
       "country         object\n",
       "date_added      object\n",
       "release_year     int64\n",
       "rating          object\n",
       "duration        object\n",
       "listed_in       object\n",
       "dtype: object"
      ]
     },
     "execution_count": 5,
     "metadata": {},
     "output_type": "execute_result"
    }
   ],
   "source": [
    "netflix.dtypes"
   ]
  },
  {
   "cell_type": "code",
   "execution_count": 6,
   "id": "fac44a48",
   "metadata": {
    "execution": {
     "iopub.execute_input": "2025-03-13T10:25:52.218389Z",
     "iopub.status.busy": "2025-03-13T10:25:52.217919Z",
     "iopub.status.idle": "2025-03-13T10:25:52.257633Z",
     "shell.execute_reply": "2025-03-13T10:25:52.256323Z"
    },
    "papermill": {
     "duration": 0.049984,
     "end_time": "2025-03-13T10:25:52.259836",
     "exception": false,
     "start_time": "2025-03-13T10:25:52.209852",
     "status": "completed"
    },
    "tags": []
   },
   "outputs": [
    {
     "name": "stdout",
     "output_type": "stream",
     "text": [
      "<class 'pandas.core.frame.DataFrame'>\n",
      "RangeIndex: 8790 entries, 0 to 8789\n",
      "Data columns (total 10 columns):\n",
      " #   Column        Non-Null Count  Dtype \n",
      "---  ------        --------------  ----- \n",
      " 0   show_id       8790 non-null   object\n",
      " 1   type          8790 non-null   object\n",
      " 2   title         8790 non-null   object\n",
      " 3   director      8790 non-null   object\n",
      " 4   country       8790 non-null   object\n",
      " 5   date_added    8790 non-null   object\n",
      " 6   release_year  8790 non-null   int64 \n",
      " 7   rating        8790 non-null   object\n",
      " 8   duration      8790 non-null   object\n",
      " 9   listed_in     8790 non-null   object\n",
      "dtypes: int64(1), object(9)\n",
      "memory usage: 686.8+ KB\n"
     ]
    }
   ],
   "source": [
    "netflix.info()"
   ]
  },
  {
   "cell_type": "code",
   "execution_count": 7,
   "id": "7e6b7109",
   "metadata": {
    "execution": {
     "iopub.execute_input": "2025-03-13T10:25:52.276714Z",
     "iopub.status.busy": "2025-03-13T10:25:52.276291Z",
     "iopub.status.idle": "2025-03-13T10:25:52.303025Z",
     "shell.execute_reply": "2025-03-13T10:25:52.301782Z"
    },
    "papermill": {
     "duration": 0.036965,
     "end_time": "2025-03-13T10:25:52.304752",
     "exception": false,
     "start_time": "2025-03-13T10:25:52.267787",
     "status": "completed"
    },
    "tags": []
   },
   "outputs": [
    {
     "data": {
      "text/html": [
       "<div>\n",
       "<style scoped>\n",
       "    .dataframe tbody tr th:only-of-type {\n",
       "        vertical-align: middle;\n",
       "    }\n",
       "\n",
       "    .dataframe tbody tr th {\n",
       "        vertical-align: top;\n",
       "    }\n",
       "\n",
       "    .dataframe thead th {\n",
       "        text-align: right;\n",
       "    }\n",
       "</style>\n",
       "<table border=\"1\" class=\"dataframe\">\n",
       "  <thead>\n",
       "    <tr style=\"text-align: right;\">\n",
       "      <th></th>\n",
       "      <th>show_id</th>\n",
       "      <th>type</th>\n",
       "      <th>title</th>\n",
       "      <th>director</th>\n",
       "      <th>country</th>\n",
       "      <th>date_added</th>\n",
       "      <th>release_year</th>\n",
       "      <th>rating</th>\n",
       "      <th>duration</th>\n",
       "      <th>listed_in</th>\n",
       "    </tr>\n",
       "  </thead>\n",
       "  <tbody>\n",
       "    <tr>\n",
       "      <th>0</th>\n",
       "      <td>s1</td>\n",
       "      <td>Movie</td>\n",
       "      <td>Dick Johnson Is Dead</td>\n",
       "      <td>Kirsten Johnson</td>\n",
       "      <td>United States</td>\n",
       "      <td>9/25/2021</td>\n",
       "      <td>2020</td>\n",
       "      <td>PG-13</td>\n",
       "      <td>90 min</td>\n",
       "      <td>Documentaries</td>\n",
       "    </tr>\n",
       "    <tr>\n",
       "      <th>1</th>\n",
       "      <td>s3</td>\n",
       "      <td>TV Show</td>\n",
       "      <td>Ganglands</td>\n",
       "      <td>Julien Leclercq</td>\n",
       "      <td>France</td>\n",
       "      <td>9/24/2021</td>\n",
       "      <td>2021</td>\n",
       "      <td>TV-MA</td>\n",
       "      <td>1 Season</td>\n",
       "      <td>Crime TV Shows, International TV Shows, TV Act...</td>\n",
       "    </tr>\n",
       "    <tr>\n",
       "      <th>2</th>\n",
       "      <td>s6</td>\n",
       "      <td>TV Show</td>\n",
       "      <td>Midnight Mass</td>\n",
       "      <td>Mike Flanagan</td>\n",
       "      <td>United States</td>\n",
       "      <td>9/24/2021</td>\n",
       "      <td>2021</td>\n",
       "      <td>TV-MA</td>\n",
       "      <td>1 Season</td>\n",
       "      <td>TV Dramas, TV Horror, TV Mysteries</td>\n",
       "    </tr>\n",
       "    <tr>\n",
       "      <th>3</th>\n",
       "      <td>s14</td>\n",
       "      <td>Movie</td>\n",
       "      <td>Confessions of an Invisible Girl</td>\n",
       "      <td>Bruno Garotti</td>\n",
       "      <td>Brazil</td>\n",
       "      <td>9/22/2021</td>\n",
       "      <td>2021</td>\n",
       "      <td>TV-PG</td>\n",
       "      <td>91 min</td>\n",
       "      <td>Children &amp; Family Movies, Comedies</td>\n",
       "    </tr>\n",
       "    <tr>\n",
       "      <th>4</th>\n",
       "      <td>s8</td>\n",
       "      <td>Movie</td>\n",
       "      <td>Sankofa</td>\n",
       "      <td>Haile Gerima</td>\n",
       "      <td>United States</td>\n",
       "      <td>9/24/2021</td>\n",
       "      <td>1993</td>\n",
       "      <td>TV-MA</td>\n",
       "      <td>125 min</td>\n",
       "      <td>Dramas, Independent Movies, International Movies</td>\n",
       "    </tr>\n",
       "    <tr>\n",
       "      <th>5</th>\n",
       "      <td>s9</td>\n",
       "      <td>TV Show</td>\n",
       "      <td>The Great British Baking Show</td>\n",
       "      <td>Andy Devonshire</td>\n",
       "      <td>United Kingdom</td>\n",
       "      <td>9/24/2021</td>\n",
       "      <td>2021</td>\n",
       "      <td>TV-14</td>\n",
       "      <td>9 Seasons</td>\n",
       "      <td>British TV Shows, Reality TV</td>\n",
       "    </tr>\n",
       "    <tr>\n",
       "      <th>6</th>\n",
       "      <td>s10</td>\n",
       "      <td>Movie</td>\n",
       "      <td>The Starling</td>\n",
       "      <td>Theodore Melfi</td>\n",
       "      <td>United States</td>\n",
       "      <td>9/24/2021</td>\n",
       "      <td>2021</td>\n",
       "      <td>PG-13</td>\n",
       "      <td>104 min</td>\n",
       "      <td>Comedies, Dramas</td>\n",
       "    </tr>\n",
       "    <tr>\n",
       "      <th>7</th>\n",
       "      <td>s939</td>\n",
       "      <td>Movie</td>\n",
       "      <td>Motu Patlu in the Game of Zones</td>\n",
       "      <td>Suhas Kadav</td>\n",
       "      <td>India</td>\n",
       "      <td>5/1/2021</td>\n",
       "      <td>2019</td>\n",
       "      <td>TV-Y7</td>\n",
       "      <td>87 min</td>\n",
       "      <td>Children &amp; Family Movies, Comedies, Music &amp; Mu...</td>\n",
       "    </tr>\n",
       "    <tr>\n",
       "      <th>8</th>\n",
       "      <td>s13</td>\n",
       "      <td>Movie</td>\n",
       "      <td>Je Suis Karl</td>\n",
       "      <td>Christian Schwochow</td>\n",
       "      <td>Germany</td>\n",
       "      <td>9/23/2021</td>\n",
       "      <td>2021</td>\n",
       "      <td>TV-MA</td>\n",
       "      <td>127 min</td>\n",
       "      <td>Dramas, International Movies</td>\n",
       "    </tr>\n",
       "    <tr>\n",
       "      <th>9</th>\n",
       "      <td>s940</td>\n",
       "      <td>Movie</td>\n",
       "      <td>Motu Patlu in Wonderland</td>\n",
       "      <td>Suhas Kadav</td>\n",
       "      <td>India</td>\n",
       "      <td>5/1/2021</td>\n",
       "      <td>2013</td>\n",
       "      <td>TV-Y7</td>\n",
       "      <td>76 min</td>\n",
       "      <td>Children &amp; Family Movies, Music &amp; Musicals</td>\n",
       "    </tr>\n",
       "  </tbody>\n",
       "</table>\n",
       "</div>"
      ],
      "text/plain": [
       "  show_id     type                             title             director  \\\n",
       "0      s1    Movie              Dick Johnson Is Dead      Kirsten Johnson   \n",
       "1      s3  TV Show                         Ganglands      Julien Leclercq   \n",
       "2      s6  TV Show                     Midnight Mass        Mike Flanagan   \n",
       "3     s14    Movie  Confessions of an Invisible Girl        Bruno Garotti   \n",
       "4      s8    Movie                           Sankofa         Haile Gerima   \n",
       "5      s9  TV Show     The Great British Baking Show      Andy Devonshire   \n",
       "6     s10    Movie                      The Starling       Theodore Melfi   \n",
       "7    s939    Movie   Motu Patlu in the Game of Zones          Suhas Kadav   \n",
       "8     s13    Movie                      Je Suis Karl  Christian Schwochow   \n",
       "9    s940    Movie          Motu Patlu in Wonderland          Suhas Kadav   \n",
       "\n",
       "          country date_added  release_year rating   duration  \\\n",
       "0   United States  9/25/2021          2020  PG-13     90 min   \n",
       "1          France  9/24/2021          2021  TV-MA   1 Season   \n",
       "2   United States  9/24/2021          2021  TV-MA   1 Season   \n",
       "3          Brazil  9/22/2021          2021  TV-PG     91 min   \n",
       "4   United States  9/24/2021          1993  TV-MA    125 min   \n",
       "5  United Kingdom  9/24/2021          2021  TV-14  9 Seasons   \n",
       "6   United States  9/24/2021          2021  PG-13    104 min   \n",
       "7           India   5/1/2021          2019  TV-Y7     87 min   \n",
       "8         Germany  9/23/2021          2021  TV-MA    127 min   \n",
       "9           India   5/1/2021          2013  TV-Y7     76 min   \n",
       "\n",
       "                                           listed_in  \n",
       "0                                      Documentaries  \n",
       "1  Crime TV Shows, International TV Shows, TV Act...  \n",
       "2                 TV Dramas, TV Horror, TV Mysteries  \n",
       "3                 Children & Family Movies, Comedies  \n",
       "4   Dramas, Independent Movies, International Movies  \n",
       "5                       British TV Shows, Reality TV  \n",
       "6                                   Comedies, Dramas  \n",
       "7  Children & Family Movies, Comedies, Music & Mu...  \n",
       "8                       Dramas, International Movies  \n",
       "9         Children & Family Movies, Music & Musicals  "
      ]
     },
     "execution_count": 7,
     "metadata": {},
     "output_type": "execute_result"
    }
   ],
   "source": [
    "netflix.head(10)"
   ]
  },
  {
   "cell_type": "markdown",
   "id": "63dca0ac",
   "metadata": {
    "papermill": {
     "duration": 0.00777,
     "end_time": "2025-03-13T10:25:52.320777",
     "exception": false,
     "start_time": "2025-03-13T10:25:52.313007",
     "status": "completed"
    },
    "tags": []
   },
   "source": [
    " # **Data Cleaning & Exploration** "
   ]
  },
  {
   "cell_type": "markdown",
   "id": "23395a8a",
   "metadata": {
    "papermill": {
     "duration": 0.007144,
     "end_time": "2025-03-13T10:25:52.335407",
     "exception": false,
     "start_time": "2025-03-13T10:25:52.328263",
     "status": "completed"
    },
    "tags": []
   },
   "source": [
    "# 1. show_id column "
   ]
  },
  {
   "cell_type": "code",
   "execution_count": 8,
   "id": "aad9c454",
   "metadata": {
    "execution": {
     "iopub.execute_input": "2025-03-13T10:25:52.352074Z",
     "iopub.status.busy": "2025-03-13T10:25:52.351626Z",
     "iopub.status.idle": "2025-03-13T10:25:52.359058Z",
     "shell.execute_reply": "2025-03-13T10:25:52.357783Z"
    },
    "papermill": {
     "duration": 0.017928,
     "end_time": "2025-03-13T10:25:52.360905",
     "exception": false,
     "start_time": "2025-03-13T10:25:52.342977",
     "status": "completed"
    },
    "tags": []
   },
   "outputs": [
    {
     "data": {
      "text/plain": [
       "0"
      ]
     },
     "execution_count": 8,
     "metadata": {},
     "output_type": "execute_result"
    }
   ],
   "source": [
    "# Check Duplicated ID:   \n",
    "\n",
    "netflix['show_id'].duplicated().sum() "
   ]
  },
  {
   "cell_type": "code",
   "execution_count": 9,
   "id": "7c46e29d",
   "metadata": {
    "execution": {
     "iopub.execute_input": "2025-03-13T10:25:52.377570Z",
     "iopub.status.busy": "2025-03-13T10:25:52.377196Z",
     "iopub.status.idle": "2025-03-13T10:25:52.387092Z",
     "shell.execute_reply": "2025-03-13T10:25:52.385692Z"
    },
    "papermill": {
     "duration": 0.020136,
     "end_time": "2025-03-13T10:25:52.388868",
     "exception": false,
     "start_time": "2025-03-13T10:25:52.368732",
     "status": "completed"
    },
    "tags": []
   },
   "outputs": [],
   "source": [
    "# Delete show_id column:  \n",
    "\n",
    "netflix = netflix.drop(['show_id'], axis = 1) "
   ]
  },
  {
   "cell_type": "markdown",
   "id": "d2e40200",
   "metadata": {
    "papermill": {
     "duration": 0.007221,
     "end_time": "2025-03-13T10:25:52.404034",
     "exception": false,
     "start_time": "2025-03-13T10:25:52.396813",
     "status": "completed"
    },
    "tags": []
   },
   "source": [
    "# 2. type column"
   ]
  },
  {
   "cell_type": "code",
   "execution_count": 10,
   "id": "c36d1590",
   "metadata": {
    "execution": {
     "iopub.execute_input": "2025-03-13T10:25:52.420876Z",
     "iopub.status.busy": "2025-03-13T10:25:52.420470Z",
     "iopub.status.idle": "2025-03-13T10:25:52.429237Z",
     "shell.execute_reply": "2025-03-13T10:25:52.428023Z"
    },
    "papermill": {
     "duration": 0.019298,
     "end_time": "2025-03-13T10:25:52.431150",
     "exception": false,
     "start_time": "2025-03-13T10:25:52.411852",
     "status": "completed"
    },
    "tags": []
   },
   "outputs": [
    {
     "data": {
      "text/plain": [
       "type\n",
       "Movie      6126\n",
       "TV Show    2664\n",
       "Name: count, dtype: int64"
      ]
     },
     "execution_count": 10,
     "metadata": {},
     "output_type": "execute_result"
    }
   ],
   "source": [
    "# Count the Value of Each Type: \n",
    "\n",
    "netflix['type'].value_counts() "
   ]
  },
  {
   "cell_type": "code",
   "execution_count": 11,
   "id": "d708c03f",
   "metadata": {
    "execution": {
     "iopub.execute_input": "2025-03-13T10:25:52.449126Z",
     "iopub.status.busy": "2025-03-13T10:25:52.448753Z",
     "iopub.status.idle": "2025-03-13T10:25:52.457788Z",
     "shell.execute_reply": "2025-03-13T10:25:52.456474Z"
    },
    "papermill": {
     "duration": 0.020533,
     "end_time": "2025-03-13T10:25:52.459699",
     "exception": false,
     "start_time": "2025-03-13T10:25:52.439166",
     "status": "completed"
    },
    "tags": []
   },
   "outputs": [
    {
     "data": {
      "text/plain": [
       "type\n",
       "Movie      0.696928\n",
       "TV Show    0.303072\n",
       "Name: proportion, dtype: float64"
      ]
     },
     "execution_count": 11,
     "metadata": {},
     "output_type": "execute_result"
    }
   ],
   "source": [
    "# The proportion of each unique value relative to the total number of values: \n",
    "\n",
    "netflix['type'].value_counts(normalize = 1) "
   ]
  },
  {
   "cell_type": "code",
   "execution_count": 12,
   "id": "3f31d2d7",
   "metadata": {
    "execution": {
     "iopub.execute_input": "2025-03-13T10:25:52.477450Z",
     "iopub.status.busy": "2025-03-13T10:25:52.477009Z",
     "iopub.status.idle": "2025-03-13T10:25:54.887311Z",
     "shell.execute_reply": "2025-03-13T10:25:54.886255Z"
    },
    "papermill": {
     "duration": 2.421416,
     "end_time": "2025-03-13T10:25:54.889690",
     "exception": false,
     "start_time": "2025-03-13T10:25:52.468274",
     "status": "completed"
    },
    "tags": []
   },
   "outputs": [
    {
     "data": {
      "text/html": [
       "<html>\n",
       "<head><meta charset=\"utf-8\" /></head>\n",
       "<body>\n",
       "    <div>            <script src=\"https://cdnjs.cloudflare.com/ajax/libs/mathjax/2.7.5/MathJax.js?config=TeX-AMS-MML_SVG\"></script><script type=\"text/javascript\">if (window.MathJax && window.MathJax.Hub && window.MathJax.Hub.Config) {window.MathJax.Hub.Config({SVG: {font: \"STIX-Web\"}});}</script>                <script type=\"text/javascript\">window.PlotlyConfig = {MathJaxConfig: 'local'};</script>\n",
       "        <script charset=\"utf-8\" src=\"https://cdn.plot.ly/plotly-2.35.2.min.js\"></script>                <div id=\"3279b388-0a99-405e-ae69-266490855637\" class=\"plotly-graph-div\" style=\"height:525px; width:100%;\"></div>            <script type=\"text/javascript\">                                    window.PLOTLYENV=window.PLOTLYENV || {};                                    if (document.getElementById(\"3279b388-0a99-405e-ae69-266490855637\")) {                    Plotly.newPlot(                        \"3279b388-0a99-405e-ae69-266490855637\",                        [{\"alignmentgroup\":\"True\",\"hovertemplate\":\"type=%{x}\\u003cbr\\u003eFrequency=%{y}\\u003cextra\\u003e\\u003c\\u002fextra\\u003e\",\"legendgroup\":\"Movie\",\"marker\":{\"color\":\"#222\",\"pattern\":{\"shape\":\"\"}},\"name\":\"Movie\",\"offsetgroup\":\"Movie\",\"orientation\":\"v\",\"showlegend\":true,\"textposition\":\"auto\",\"texttemplate\":\"%{y}\",\"x\":[\"Movie\"],\"xaxis\":\"x\",\"y\":[6126],\"yaxis\":\"y\",\"type\":\"bar\",\"insidetextfont\":{\"family\":\"consolas\",\"size\":20}},{\"alignmentgroup\":\"True\",\"hovertemplate\":\"type=%{x}\\u003cbr\\u003eFrequency=%{y}\\u003cextra\\u003e\\u003c\\u002fextra\\u003e\",\"legendgroup\":\"TV Show\",\"marker\":{\"color\":\"#E50914\",\"pattern\":{\"shape\":\"\"}},\"name\":\"TV Show\",\"offsetgroup\":\"TV Show\",\"orientation\":\"v\",\"showlegend\":true,\"textposition\":\"auto\",\"texttemplate\":\"%{y}\",\"x\":[\"TV Show\"],\"xaxis\":\"x\",\"y\":[2664],\"yaxis\":\"y\",\"type\":\"bar\",\"insidetextfont\":{\"family\":\"consolas\",\"size\":20}}],                        {\"template\":{\"data\":{\"histogram2dcontour\":[{\"type\":\"histogram2dcontour\",\"colorbar\":{\"outlinewidth\":0,\"ticks\":\"\"},\"colorscale\":[[0.0,\"#0d0887\"],[0.1111111111111111,\"#46039f\"],[0.2222222222222222,\"#7201a8\"],[0.3333333333333333,\"#9c179e\"],[0.4444444444444444,\"#bd3786\"],[0.5555555555555556,\"#d8576b\"],[0.6666666666666666,\"#ed7953\"],[0.7777777777777778,\"#fb9f3a\"],[0.8888888888888888,\"#fdca26\"],[1.0,\"#f0f921\"]]}],\"choropleth\":[{\"type\":\"choropleth\",\"colorbar\":{\"outlinewidth\":0,\"ticks\":\"\"}}],\"histogram2d\":[{\"type\":\"histogram2d\",\"colorbar\":{\"outlinewidth\":0,\"ticks\":\"\"},\"colorscale\":[[0.0,\"#0d0887\"],[0.1111111111111111,\"#46039f\"],[0.2222222222222222,\"#7201a8\"],[0.3333333333333333,\"#9c179e\"],[0.4444444444444444,\"#bd3786\"],[0.5555555555555556,\"#d8576b\"],[0.6666666666666666,\"#ed7953\"],[0.7777777777777778,\"#fb9f3a\"],[0.8888888888888888,\"#fdca26\"],[1.0,\"#f0f921\"]]}],\"heatmap\":[{\"type\":\"heatmap\",\"colorbar\":{\"outlinewidth\":0,\"ticks\":\"\"},\"colorscale\":[[0.0,\"#0d0887\"],[0.1111111111111111,\"#46039f\"],[0.2222222222222222,\"#7201a8\"],[0.3333333333333333,\"#9c179e\"],[0.4444444444444444,\"#bd3786\"],[0.5555555555555556,\"#d8576b\"],[0.6666666666666666,\"#ed7953\"],[0.7777777777777778,\"#fb9f3a\"],[0.8888888888888888,\"#fdca26\"],[1.0,\"#f0f921\"]]}],\"heatmapgl\":[{\"type\":\"heatmapgl\",\"colorbar\":{\"outlinewidth\":0,\"ticks\":\"\"},\"colorscale\":[[0.0,\"#0d0887\"],[0.1111111111111111,\"#46039f\"],[0.2222222222222222,\"#7201a8\"],[0.3333333333333333,\"#9c179e\"],[0.4444444444444444,\"#bd3786\"],[0.5555555555555556,\"#d8576b\"],[0.6666666666666666,\"#ed7953\"],[0.7777777777777778,\"#fb9f3a\"],[0.8888888888888888,\"#fdca26\"],[1.0,\"#f0f921\"]]}],\"contourcarpet\":[{\"type\":\"contourcarpet\",\"colorbar\":{\"outlinewidth\":0,\"ticks\":\"\"}}],\"contour\":[{\"type\":\"contour\",\"colorbar\":{\"outlinewidth\":0,\"ticks\":\"\"},\"colorscale\":[[0.0,\"#0d0887\"],[0.1111111111111111,\"#46039f\"],[0.2222222222222222,\"#7201a8\"],[0.3333333333333333,\"#9c179e\"],[0.4444444444444444,\"#bd3786\"],[0.5555555555555556,\"#d8576b\"],[0.6666666666666666,\"#ed7953\"],[0.7777777777777778,\"#fb9f3a\"],[0.8888888888888888,\"#fdca26\"],[1.0,\"#f0f921\"]]}],\"surface\":[{\"type\":\"surface\",\"colorbar\":{\"outlinewidth\":0,\"ticks\":\"\"},\"colorscale\":[[0.0,\"#0d0887\"],[0.1111111111111111,\"#46039f\"],[0.2222222222222222,\"#7201a8\"],[0.3333333333333333,\"#9c179e\"],[0.4444444444444444,\"#bd3786\"],[0.5555555555555556,\"#d8576b\"],[0.6666666666666666,\"#ed7953\"],[0.7777777777777778,\"#fb9f3a\"],[0.8888888888888888,\"#fdca26\"],[1.0,\"#f0f921\"]]}],\"mesh3d\":[{\"type\":\"mesh3d\",\"colorbar\":{\"outlinewidth\":0,\"ticks\":\"\"}}],\"scatter\":[{\"fillpattern\":{\"fillmode\":\"overlay\",\"size\":10,\"solidity\":0.2},\"type\":\"scatter\"}],\"parcoords\":[{\"type\":\"parcoords\",\"line\":{\"colorbar\":{\"outlinewidth\":0,\"ticks\":\"\"}}}],\"scatterpolargl\":[{\"type\":\"scatterpolargl\",\"marker\":{\"colorbar\":{\"outlinewidth\":0,\"ticks\":\"\"}}}],\"bar\":[{\"error_x\":{\"color\":\"#2a3f5f\"},\"error_y\":{\"color\":\"#2a3f5f\"},\"marker\":{\"line\":{\"color\":\"#E5ECF6\",\"width\":0.5},\"pattern\":{\"fillmode\":\"overlay\",\"size\":10,\"solidity\":0.2}},\"type\":\"bar\"}],\"scattergeo\":[{\"type\":\"scattergeo\",\"marker\":{\"colorbar\":{\"outlinewidth\":0,\"ticks\":\"\"}}}],\"scatterpolar\":[{\"type\":\"scatterpolar\",\"marker\":{\"colorbar\":{\"outlinewidth\":0,\"ticks\":\"\"}}}],\"histogram\":[{\"marker\":{\"pattern\":{\"fillmode\":\"overlay\",\"size\":10,\"solidity\":0.2}},\"type\":\"histogram\"}],\"scattergl\":[{\"type\":\"scattergl\",\"marker\":{\"colorbar\":{\"outlinewidth\":0,\"ticks\":\"\"}}}],\"scatter3d\":[{\"type\":\"scatter3d\",\"line\":{\"colorbar\":{\"outlinewidth\":0,\"ticks\":\"\"}},\"marker\":{\"colorbar\":{\"outlinewidth\":0,\"ticks\":\"\"}}}],\"scattermapbox\":[{\"type\":\"scattermapbox\",\"marker\":{\"colorbar\":{\"outlinewidth\":0,\"ticks\":\"\"}}}],\"scatterternary\":[{\"type\":\"scatterternary\",\"marker\":{\"colorbar\":{\"outlinewidth\":0,\"ticks\":\"\"}}}],\"scattercarpet\":[{\"type\":\"scattercarpet\",\"marker\":{\"colorbar\":{\"outlinewidth\":0,\"ticks\":\"\"}}}],\"carpet\":[{\"aaxis\":{\"endlinecolor\":\"#2a3f5f\",\"gridcolor\":\"white\",\"linecolor\":\"white\",\"minorgridcolor\":\"white\",\"startlinecolor\":\"#2a3f5f\"},\"baxis\":{\"endlinecolor\":\"#2a3f5f\",\"gridcolor\":\"white\",\"linecolor\":\"white\",\"minorgridcolor\":\"white\",\"startlinecolor\":\"#2a3f5f\"},\"type\":\"carpet\"}],\"table\":[{\"cells\":{\"fill\":{\"color\":\"#EBF0F8\"},\"line\":{\"color\":\"white\"}},\"header\":{\"fill\":{\"color\":\"#C8D4E3\"},\"line\":{\"color\":\"white\"}},\"type\":\"table\"}],\"barpolar\":[{\"marker\":{\"line\":{\"color\":\"#E5ECF6\",\"width\":0.5},\"pattern\":{\"fillmode\":\"overlay\",\"size\":10,\"solidity\":0.2}},\"type\":\"barpolar\"}],\"pie\":[{\"automargin\":true,\"type\":\"pie\"}]},\"layout\":{\"autotypenumbers\":\"strict\",\"colorway\":[\"#636efa\",\"#EF553B\",\"#00cc96\",\"#ab63fa\",\"#FFA15A\",\"#19d3f3\",\"#FF6692\",\"#B6E880\",\"#FF97FF\",\"#FECB52\"],\"font\":{\"color\":\"#2a3f5f\"},\"hovermode\":\"closest\",\"hoverlabel\":{\"align\":\"left\"},\"paper_bgcolor\":\"white\",\"plot_bgcolor\":\"#E5ECF6\",\"polar\":{\"bgcolor\":\"#E5ECF6\",\"angularaxis\":{\"gridcolor\":\"white\",\"linecolor\":\"white\",\"ticks\":\"\"},\"radialaxis\":{\"gridcolor\":\"white\",\"linecolor\":\"white\",\"ticks\":\"\"}},\"ternary\":{\"bgcolor\":\"#E5ECF6\",\"aaxis\":{\"gridcolor\":\"white\",\"linecolor\":\"white\",\"ticks\":\"\"},\"baxis\":{\"gridcolor\":\"white\",\"linecolor\":\"white\",\"ticks\":\"\"},\"caxis\":{\"gridcolor\":\"white\",\"linecolor\":\"white\",\"ticks\":\"\"}},\"coloraxis\":{\"colorbar\":{\"outlinewidth\":0,\"ticks\":\"\"}},\"colorscale\":{\"sequential\":[[0.0,\"#0d0887\"],[0.1111111111111111,\"#46039f\"],[0.2222222222222222,\"#7201a8\"],[0.3333333333333333,\"#9c179e\"],[0.4444444444444444,\"#bd3786\"],[0.5555555555555556,\"#d8576b\"],[0.6666666666666666,\"#ed7953\"],[0.7777777777777778,\"#fb9f3a\"],[0.8888888888888888,\"#fdca26\"],[1.0,\"#f0f921\"]],\"sequentialminus\":[[0.0,\"#0d0887\"],[0.1111111111111111,\"#46039f\"],[0.2222222222222222,\"#7201a8\"],[0.3333333333333333,\"#9c179e\"],[0.4444444444444444,\"#bd3786\"],[0.5555555555555556,\"#d8576b\"],[0.6666666666666666,\"#ed7953\"],[0.7777777777777778,\"#fb9f3a\"],[0.8888888888888888,\"#fdca26\"],[1.0,\"#f0f921\"]],\"diverging\":[[0,\"#8e0152\"],[0.1,\"#c51b7d\"],[0.2,\"#de77ae\"],[0.3,\"#f1b6da\"],[0.4,\"#fde0ef\"],[0.5,\"#f7f7f7\"],[0.6,\"#e6f5d0\"],[0.7,\"#b8e186\"],[0.8,\"#7fbc41\"],[0.9,\"#4d9221\"],[1,\"#276419\"]]},\"xaxis\":{\"gridcolor\":\"white\",\"linecolor\":\"white\",\"ticks\":\"\",\"title\":{\"standoff\":15},\"zerolinecolor\":\"white\",\"automargin\":true,\"zerolinewidth\":2},\"yaxis\":{\"gridcolor\":\"white\",\"linecolor\":\"white\",\"ticks\":\"\",\"title\":{\"standoff\":15},\"zerolinecolor\":\"white\",\"automargin\":true,\"zerolinewidth\":2},\"scene\":{\"xaxis\":{\"backgroundcolor\":\"#E5ECF6\",\"gridcolor\":\"white\",\"linecolor\":\"white\",\"showbackground\":true,\"ticks\":\"\",\"zerolinecolor\":\"white\",\"gridwidth\":2},\"yaxis\":{\"backgroundcolor\":\"#E5ECF6\",\"gridcolor\":\"white\",\"linecolor\":\"white\",\"showbackground\":true,\"ticks\":\"\",\"zerolinecolor\":\"white\",\"gridwidth\":2},\"zaxis\":{\"backgroundcolor\":\"#E5ECF6\",\"gridcolor\":\"white\",\"linecolor\":\"white\",\"showbackground\":true,\"ticks\":\"\",\"zerolinecolor\":\"white\",\"gridwidth\":2}},\"shapedefaults\":{\"line\":{\"color\":\"#2a3f5f\"}},\"annotationdefaults\":{\"arrowcolor\":\"#2a3f5f\",\"arrowhead\":0,\"arrowwidth\":1},\"geo\":{\"bgcolor\":\"white\",\"landcolor\":\"#E5ECF6\",\"subunitcolor\":\"white\",\"showland\":true,\"showlakes\":true,\"lakecolor\":\"white\"},\"title\":{\"x\":0.05},\"mapbox\":{\"style\":\"light\"}}},\"xaxis\":{\"anchor\":\"y\",\"domain\":[0.0,1.0],\"title\":{\"text\":\"type\"},\"categoryorder\":\"array\",\"categoryarray\":[\"Movie\",\"TV Show\"]},\"yaxis\":{\"anchor\":\"x\",\"domain\":[0.0,1.0],\"title\":{\"text\":\"Frequency\"}},\"legend\":{\"title\":{\"text\":\"type\"},\"tracegroupgap\":0},\"title\":{\"text\":\"Frequency of Show Type\"},\"barmode\":\"relative\"},                        {\"responsive\": true}                    ).then(function(){\n",
       "                            \n",
       "var gd = document.getElementById('3279b388-0a99-405e-ae69-266490855637');\n",
       "var x = new MutationObserver(function (mutations, observer) {{\n",
       "        var display = window.getComputedStyle(gd).display;\n",
       "        if (!display || display === 'none') {{\n",
       "            console.log([gd, 'removed!']);\n",
       "            Plotly.purge(gd);\n",
       "            observer.disconnect();\n",
       "        }}\n",
       "}});\n",
       "\n",
       "// Listen for the removal of the full notebook cells\n",
       "var notebookContainer = gd.closest('#notebook-container');\n",
       "if (notebookContainer) {{\n",
       "    x.observe(notebookContainer, {childList: true});\n",
       "}}\n",
       "\n",
       "// Listen for the clearing of the current output cell\n",
       "var outputEl = gd.closest('.output');\n",
       "if (outputEl) {{\n",
       "    x.observe(outputEl, {childList: true});\n",
       "}}\n",
       "\n",
       "                        })                };                            </script>        </div>\n",
       "</body>\n",
       "</html>"
      ]
     },
     "metadata": {},
     "output_type": "display_data"
    }
   ],
   "source": [
    "# Draw a Frequency Table of Type Column: \n",
    "\n",
    "type_of_shows = netflix['type'].value_counts() \n",
    "\n",
    "fig = px.bar(data_frame = type_of_shows, \n",
    "             x = type_of_shows.index, \n",
    "             y = type_of_shows, \n",
    "             color = type_of_shows.index, \n",
    "             color_discrete_sequence = ['#222', '#E50914'], \n",
    "             text_auto = True, \n",
    "             title = 'Frequency of Show Type', \n",
    "             labels = {'index': 'Type', \n",
    "                      'y': 'Frequency'\n",
    "                     }) \n",
    "\n",
    "fig.update_traces(insidetextfont = {\n",
    "                                    'family' : 'consolas',\n",
    "                                    'size': 20 \n",
    "})\n",
    "\n",
    "fig"
   ]
  },
  {
   "cell_type": "markdown",
   "id": "1ff2fff9",
   "metadata": {
    "papermill": {
     "duration": 0.008147,
     "end_time": "2025-03-13T10:25:54.906461",
     "exception": false,
     "start_time": "2025-03-13T10:25:54.898314",
     "status": "completed"
    },
    "tags": []
   },
   "source": [
    "# 🌃 3.  country column"
   ]
  },
  {
   "cell_type": "code",
   "execution_count": 13,
   "id": "01e4052f",
   "metadata": {
    "execution": {
     "iopub.execute_input": "2025-03-13T10:25:54.924068Z",
     "iopub.status.busy": "2025-03-13T10:25:54.923634Z",
     "iopub.status.idle": "2025-03-13T10:25:54.934902Z",
     "shell.execute_reply": "2025-03-13T10:25:54.933778Z"
    },
    "papermill": {
     "duration": 0.022344,
     "end_time": "2025-03-13T10:25:54.936742",
     "exception": false,
     "start_time": "2025-03-13T10:25:54.914398",
     "status": "completed"
    },
    "tags": []
   },
   "outputs": [
    {
     "data": {
      "text/plain": [
       "count              8790\n",
       "unique               86\n",
       "top       United States\n",
       "freq               3240\n",
       "Name: country, dtype: object"
      ]
     },
     "execution_count": 13,
     "metadata": {},
     "output_type": "execute_result"
    }
   ],
   "source": [
    "netflix['country'].describe()"
   ]
  },
  {
   "cell_type": "code",
   "execution_count": 14,
   "id": "0b611ccb",
   "metadata": {
    "execution": {
     "iopub.execute_input": "2025-03-13T10:25:54.954855Z",
     "iopub.status.busy": "2025-03-13T10:25:54.954475Z",
     "iopub.status.idle": "2025-03-13T10:25:54.963883Z",
     "shell.execute_reply": "2025-03-13T10:25:54.962597Z"
    },
    "papermill": {
     "duration": 0.020427,
     "end_time": "2025-03-13T10:25:54.965724",
     "exception": false,
     "start_time": "2025-03-13T10:25:54.945297",
     "status": "completed"
    },
    "tags": []
   },
   "outputs": [
    {
     "data": {
      "text/plain": [
       "country\n",
       "United States     3240\n",
       "India             1057\n",
       "United Kingdom     638\n",
       "Pakistan           421\n",
       "Not Given          287\n",
       "                  ... \n",
       "Iran                 1\n",
       "West Germany         1\n",
       "Greece               1\n",
       "Zimbabwe             1\n",
       "Soviet Union         1\n",
       "Name: count, Length: 86, dtype: int64"
      ]
     },
     "execution_count": 14,
     "metadata": {},
     "output_type": "execute_result"
    }
   ],
   "source": [
    "# Value Counts of Country Column: \n",
    "\n",
    "netflix['country'].value_counts()  "
   ]
  },
  {
   "cell_type": "markdown",
   "id": "3166e1d3",
   "metadata": {
    "papermill": {
     "duration": 0.009617,
     "end_time": "2025-03-13T10:25:54.990104",
     "exception": false,
     "start_time": "2025-03-13T10:25:54.980487",
     "status": "completed"
    },
    "tags": []
   },
   "source": [
    "# 4.date_added column "
   ]
  },
  {
   "cell_type": "code",
   "execution_count": 15,
   "id": "43123161",
   "metadata": {
    "execution": {
     "iopub.execute_input": "2025-03-13T10:25:55.015681Z",
     "iopub.status.busy": "2025-03-13T10:25:55.015139Z",
     "iopub.status.idle": "2025-03-13T10:25:55.023710Z",
     "shell.execute_reply": "2025-03-13T10:25:55.022153Z"
    },
    "papermill": {
     "duration": 0.022992,
     "end_time": "2025-03-13T10:25:55.025960",
     "exception": false,
     "start_time": "2025-03-13T10:25:55.002968",
     "status": "completed"
    },
    "tags": []
   },
   "outputs": [
    {
     "data": {
      "text/plain": [
       "dtype('O')"
      ]
     },
     "execution_count": 15,
     "metadata": {},
     "output_type": "execute_result"
    }
   ],
   "source": [
    "netflix['date_added'].dtype"
   ]
  },
  {
   "cell_type": "code",
   "execution_count": 16,
   "id": "4d8d99d0",
   "metadata": {
    "execution": {
     "iopub.execute_input": "2025-03-13T10:25:55.045737Z",
     "iopub.status.busy": "2025-03-13T10:25:55.045316Z",
     "iopub.status.idle": "2025-03-13T10:25:55.065232Z",
     "shell.execute_reply": "2025-03-13T10:25:55.063997Z"
    },
    "papermill": {
     "duration": 0.031271,
     "end_time": "2025-03-13T10:25:55.067074",
     "exception": false,
     "start_time": "2025-03-13T10:25:55.035803",
     "status": "completed"
    },
    "tags": []
   },
   "outputs": [
    {
     "data": {
      "text/plain": [
       "0      2021-09-25\n",
       "1      2021-09-24\n",
       "2      2021-09-24\n",
       "3      2021-09-22\n",
       "4      2021-09-24\n",
       "          ...    \n",
       "8785   2017-01-17\n",
       "8786   2018-09-13\n",
       "8787   2016-12-15\n",
       "8788   2018-06-23\n",
       "8789   2018-06-07\n",
       "Name: date_added, Length: 8790, dtype: datetime64[ns]"
      ]
     },
     "execution_count": 16,
     "metadata": {},
     "output_type": "execute_result"
    }
   ],
   "source": [
    "# Converting The Data Type From String Into DateTime: \n",
    "\n",
    "\n",
    "netflix['date_added'] = pd.to_datetime(netflix['date_added'])\n",
    "netflix['date_added']"
   ]
  },
  {
   "cell_type": "code",
   "execution_count": 17,
   "id": "71d0b10c",
   "metadata": {
    "execution": {
     "iopub.execute_input": "2025-03-13T10:25:55.091950Z",
     "iopub.status.busy": "2025-03-13T10:25:55.091427Z",
     "iopub.status.idle": "2025-03-13T10:25:55.100016Z",
     "shell.execute_reply": "2025-03-13T10:25:55.098633Z"
    },
    "papermill": {
     "duration": 0.026763,
     "end_time": "2025-03-13T10:25:55.102301",
     "exception": false,
     "start_time": "2025-03-13T10:25:55.075538",
     "status": "completed"
    },
    "tags": []
   },
   "outputs": [
    {
     "name": "stdout",
     "output_type": "stream",
     "text": [
      "The oldest added date: 2008-01-01 00:00:00\n",
      "The newest added date: 2021-09-25 00:00:00\n"
     ]
    }
   ],
   "source": [
    "# Check the oldest added_date and newest added_date: \n",
    "\n",
    "print(f\"The oldest added date: {netflix['date_added'].min()}\") \n",
    "print(f\"The newest added date: {netflix['date_added'].max()}\")"
   ]
  },
  {
   "cell_type": "markdown",
   "id": "6b9331da",
   "metadata": {
    "papermill": {
     "duration": 0.012229,
     "end_time": "2025-03-13T10:25:55.130617",
     "exception": false,
     "start_time": "2025-03-13T10:25:55.118388",
     "status": "completed"
    },
    "tags": []
   },
   "source": [
    "# 5. release_year column "
   ]
  },
  {
   "cell_type": "code",
   "execution_count": 18,
   "id": "a5762d83",
   "metadata": {
    "execution": {
     "iopub.execute_input": "2025-03-13T10:25:55.156515Z",
     "iopub.status.busy": "2025-03-13T10:25:55.155979Z",
     "iopub.status.idle": "2025-03-13T10:25:55.169735Z",
     "shell.execute_reply": "2025-03-13T10:25:55.168282Z"
    },
    "papermill": {
     "duration": 0.028089,
     "end_time": "2025-03-13T10:25:55.171701",
     "exception": false,
     "start_time": "2025-03-13T10:25:55.143612",
     "status": "completed"
    },
    "tags": []
   },
   "outputs": [
    {
     "data": {
      "text/plain": [
       "release_year\n",
       "2018    1146\n",
       "2017    1030\n",
       "2019    1030\n",
       "2020     953\n",
       "2016     901\n",
       "        ... \n",
       "1966       1\n",
       "1959       1\n",
       "1925       1\n",
       "1947       1\n",
       "1961       1\n",
       "Name: count, Length: 74, dtype: int64"
      ]
     },
     "execution_count": 18,
     "metadata": {},
     "output_type": "execute_result"
    }
   ],
   "source": [
    "# Counts the value: \n",
    "\n",
    "released_year = netflix['release_year'].value_counts() \n",
    "released_year"
   ]
  },
  {
   "cell_type": "code",
   "execution_count": 19,
   "id": "0e0b92ec",
   "metadata": {
    "execution": {
     "iopub.execute_input": "2025-03-13T10:25:55.190676Z",
     "iopub.status.busy": "2025-03-13T10:25:55.190245Z",
     "iopub.status.idle": "2025-03-13T10:25:55.296766Z",
     "shell.execute_reply": "2025-03-13T10:25:55.295750Z"
    },
    "papermill": {
     "duration": 0.117687,
     "end_time": "2025-03-13T10:25:55.298439",
     "exception": false,
     "start_time": "2025-03-13T10:25:55.180752",
     "status": "completed"
    },
    "tags": []
   },
   "outputs": [
    {
     "data": {
      "text/html": [
       "<html>\n",
       "<head><meta charset=\"utf-8\" /></head>\n",
       "<body>\n",
       "    <div>            <script src=\"https://cdnjs.cloudflare.com/ajax/libs/mathjax/2.7.5/MathJax.js?config=TeX-AMS-MML_SVG\"></script><script type=\"text/javascript\">if (window.MathJax && window.MathJax.Hub && window.MathJax.Hub.Config) {window.MathJax.Hub.Config({SVG: {font: \"STIX-Web\"}});}</script>                <script type=\"text/javascript\">window.PlotlyConfig = {MathJaxConfig: 'local'};</script>\n",
       "        <script charset=\"utf-8\" src=\"https://cdn.plot.ly/plotly-2.35.2.min.js\"></script>                <div id=\"8b316812-7319-4d78-ad40-3489a040e1a1\" class=\"plotly-graph-div\" style=\"height:525px; width:100%;\"></div>            <script type=\"text/javascript\">                                    window.PLOTLYENV=window.PLOTLYENV || {};                                    if (document.getElementById(\"8b316812-7319-4d78-ad40-3489a040e1a1\")) {                    Plotly.newPlot(                        \"8b316812-7319-4d78-ad40-3489a040e1a1\",                        [{\"fillpattern\":{\"shape\":\"\"},\"hovertemplate\":\"release_year=%{x}\\u003cbr\\u003ey=%{y}\\u003cextra\\u003e\\u003c\\u002fextra\\u003e\",\"legendgroup\":\"\",\"line\":{\"color\":\"#636efa\"},\"marker\":{\"symbol\":\"circle\"},\"mode\":\"lines\",\"name\":\"\",\"orientation\":\"v\",\"showlegend\":false,\"stackgroup\":\"1\",\"x\":[2018,2017,2019,2020,2016,2021,2015,2014,2013,2012,2010,2011,2009,2008,2006,2007,2005,2004,2003,2002,2001,1999,1997,2000,1998,1993,1995,1996,1992,1994,1990,1988,1982,1991,1989,1981,1986,1984,1979,1980,1983,1985,1973,1976,1987,1978,1974,1977,1975,1967,1971,1972,1960,1945,1968,1962,1955,1944,1943,1958,1970,1963,1969,1956,1954,1965,1964,1946,1942,1966,1959,1925,1947,1961],\"xaxis\":\"x\",\"y\":[1146,1030,1030,953,901,592,555,352,286,236,192,185,152,135,96,88,80,64,59,51,45,39,38,37,36,28,25,24,23,22,22,18,17,17,16,13,13,12,11,11,11,10,10,9,8,7,7,7,7,5,5,5,4,4,3,3,3,3,3,3,2,2,2,2,2,2,2,2,2,1,1,1,1,1],\"yaxis\":\"y\",\"type\":\"scatter\"}],                        {\"template\":{\"data\":{\"histogram2dcontour\":[{\"type\":\"histogram2dcontour\",\"colorbar\":{\"outlinewidth\":0,\"ticks\":\"\"},\"colorscale\":[[0.0,\"#0d0887\"],[0.1111111111111111,\"#46039f\"],[0.2222222222222222,\"#7201a8\"],[0.3333333333333333,\"#9c179e\"],[0.4444444444444444,\"#bd3786\"],[0.5555555555555556,\"#d8576b\"],[0.6666666666666666,\"#ed7953\"],[0.7777777777777778,\"#fb9f3a\"],[0.8888888888888888,\"#fdca26\"],[1.0,\"#f0f921\"]]}],\"choropleth\":[{\"type\":\"choropleth\",\"colorbar\":{\"outlinewidth\":0,\"ticks\":\"\"}}],\"histogram2d\":[{\"type\":\"histogram2d\",\"colorbar\":{\"outlinewidth\":0,\"ticks\":\"\"},\"colorscale\":[[0.0,\"#0d0887\"],[0.1111111111111111,\"#46039f\"],[0.2222222222222222,\"#7201a8\"],[0.3333333333333333,\"#9c179e\"],[0.4444444444444444,\"#bd3786\"],[0.5555555555555556,\"#d8576b\"],[0.6666666666666666,\"#ed7953\"],[0.7777777777777778,\"#fb9f3a\"],[0.8888888888888888,\"#fdca26\"],[1.0,\"#f0f921\"]]}],\"heatmap\":[{\"type\":\"heatmap\",\"colorbar\":{\"outlinewidth\":0,\"ticks\":\"\"},\"colorscale\":[[0.0,\"#0d0887\"],[0.1111111111111111,\"#46039f\"],[0.2222222222222222,\"#7201a8\"],[0.3333333333333333,\"#9c179e\"],[0.4444444444444444,\"#bd3786\"],[0.5555555555555556,\"#d8576b\"],[0.6666666666666666,\"#ed7953\"],[0.7777777777777778,\"#fb9f3a\"],[0.8888888888888888,\"#fdca26\"],[1.0,\"#f0f921\"]]}],\"heatmapgl\":[{\"type\":\"heatmapgl\",\"colorbar\":{\"outlinewidth\":0,\"ticks\":\"\"},\"colorscale\":[[0.0,\"#0d0887\"],[0.1111111111111111,\"#46039f\"],[0.2222222222222222,\"#7201a8\"],[0.3333333333333333,\"#9c179e\"],[0.4444444444444444,\"#bd3786\"],[0.5555555555555556,\"#d8576b\"],[0.6666666666666666,\"#ed7953\"],[0.7777777777777778,\"#fb9f3a\"],[0.8888888888888888,\"#fdca26\"],[1.0,\"#f0f921\"]]}],\"contourcarpet\":[{\"type\":\"contourcarpet\",\"colorbar\":{\"outlinewidth\":0,\"ticks\":\"\"}}],\"contour\":[{\"type\":\"contour\",\"colorbar\":{\"outlinewidth\":0,\"ticks\":\"\"},\"colorscale\":[[0.0,\"#0d0887\"],[0.1111111111111111,\"#46039f\"],[0.2222222222222222,\"#7201a8\"],[0.3333333333333333,\"#9c179e\"],[0.4444444444444444,\"#bd3786\"],[0.5555555555555556,\"#d8576b\"],[0.6666666666666666,\"#ed7953\"],[0.7777777777777778,\"#fb9f3a\"],[0.8888888888888888,\"#fdca26\"],[1.0,\"#f0f921\"]]}],\"surface\":[{\"type\":\"surface\",\"colorbar\":{\"outlinewidth\":0,\"ticks\":\"\"},\"colorscale\":[[0.0,\"#0d0887\"],[0.1111111111111111,\"#46039f\"],[0.2222222222222222,\"#7201a8\"],[0.3333333333333333,\"#9c179e\"],[0.4444444444444444,\"#bd3786\"],[0.5555555555555556,\"#d8576b\"],[0.6666666666666666,\"#ed7953\"],[0.7777777777777778,\"#fb9f3a\"],[0.8888888888888888,\"#fdca26\"],[1.0,\"#f0f921\"]]}],\"mesh3d\":[{\"type\":\"mesh3d\",\"colorbar\":{\"outlinewidth\":0,\"ticks\":\"\"}}],\"scatter\":[{\"fillpattern\":{\"fillmode\":\"overlay\",\"size\":10,\"solidity\":0.2},\"type\":\"scatter\"}],\"parcoords\":[{\"type\":\"parcoords\",\"line\":{\"colorbar\":{\"outlinewidth\":0,\"ticks\":\"\"}}}],\"scatterpolargl\":[{\"type\":\"scatterpolargl\",\"marker\":{\"colorbar\":{\"outlinewidth\":0,\"ticks\":\"\"}}}],\"bar\":[{\"error_x\":{\"color\":\"#2a3f5f\"},\"error_y\":{\"color\":\"#2a3f5f\"},\"marker\":{\"line\":{\"color\":\"#E5ECF6\",\"width\":0.5},\"pattern\":{\"fillmode\":\"overlay\",\"size\":10,\"solidity\":0.2}},\"type\":\"bar\"}],\"scattergeo\":[{\"type\":\"scattergeo\",\"marker\":{\"colorbar\":{\"outlinewidth\":0,\"ticks\":\"\"}}}],\"scatterpolar\":[{\"type\":\"scatterpolar\",\"marker\":{\"colorbar\":{\"outlinewidth\":0,\"ticks\":\"\"}}}],\"histogram\":[{\"marker\":{\"pattern\":{\"fillmode\":\"overlay\",\"size\":10,\"solidity\":0.2}},\"type\":\"histogram\"}],\"scattergl\":[{\"type\":\"scattergl\",\"marker\":{\"colorbar\":{\"outlinewidth\":0,\"ticks\":\"\"}}}],\"scatter3d\":[{\"type\":\"scatter3d\",\"line\":{\"colorbar\":{\"outlinewidth\":0,\"ticks\":\"\"}},\"marker\":{\"colorbar\":{\"outlinewidth\":0,\"ticks\":\"\"}}}],\"scattermapbox\":[{\"type\":\"scattermapbox\",\"marker\":{\"colorbar\":{\"outlinewidth\":0,\"ticks\":\"\"}}}],\"scatterternary\":[{\"type\":\"scatterternary\",\"marker\":{\"colorbar\":{\"outlinewidth\":0,\"ticks\":\"\"}}}],\"scattercarpet\":[{\"type\":\"scattercarpet\",\"marker\":{\"colorbar\":{\"outlinewidth\":0,\"ticks\":\"\"}}}],\"carpet\":[{\"aaxis\":{\"endlinecolor\":\"#2a3f5f\",\"gridcolor\":\"white\",\"linecolor\":\"white\",\"minorgridcolor\":\"white\",\"startlinecolor\":\"#2a3f5f\"},\"baxis\":{\"endlinecolor\":\"#2a3f5f\",\"gridcolor\":\"white\",\"linecolor\":\"white\",\"minorgridcolor\":\"white\",\"startlinecolor\":\"#2a3f5f\"},\"type\":\"carpet\"}],\"table\":[{\"cells\":{\"fill\":{\"color\":\"#EBF0F8\"},\"line\":{\"color\":\"white\"}},\"header\":{\"fill\":{\"color\":\"#C8D4E3\"},\"line\":{\"color\":\"white\"}},\"type\":\"table\"}],\"barpolar\":[{\"marker\":{\"line\":{\"color\":\"#E5ECF6\",\"width\":0.5},\"pattern\":{\"fillmode\":\"overlay\",\"size\":10,\"solidity\":0.2}},\"type\":\"barpolar\"}],\"pie\":[{\"automargin\":true,\"type\":\"pie\"}]},\"layout\":{\"autotypenumbers\":\"strict\",\"colorway\":[\"#636efa\",\"#EF553B\",\"#00cc96\",\"#ab63fa\",\"#FFA15A\",\"#19d3f3\",\"#FF6692\",\"#B6E880\",\"#FF97FF\",\"#FECB52\"],\"font\":{\"color\":\"#2a3f5f\"},\"hovermode\":\"closest\",\"hoverlabel\":{\"align\":\"left\"},\"paper_bgcolor\":\"white\",\"plot_bgcolor\":\"#E5ECF6\",\"polar\":{\"bgcolor\":\"#E5ECF6\",\"angularaxis\":{\"gridcolor\":\"white\",\"linecolor\":\"white\",\"ticks\":\"\"},\"radialaxis\":{\"gridcolor\":\"white\",\"linecolor\":\"white\",\"ticks\":\"\"}},\"ternary\":{\"bgcolor\":\"#E5ECF6\",\"aaxis\":{\"gridcolor\":\"white\",\"linecolor\":\"white\",\"ticks\":\"\"},\"baxis\":{\"gridcolor\":\"white\",\"linecolor\":\"white\",\"ticks\":\"\"},\"caxis\":{\"gridcolor\":\"white\",\"linecolor\":\"white\",\"ticks\":\"\"}},\"coloraxis\":{\"colorbar\":{\"outlinewidth\":0,\"ticks\":\"\"}},\"colorscale\":{\"sequential\":[[0.0,\"#0d0887\"],[0.1111111111111111,\"#46039f\"],[0.2222222222222222,\"#7201a8\"],[0.3333333333333333,\"#9c179e\"],[0.4444444444444444,\"#bd3786\"],[0.5555555555555556,\"#d8576b\"],[0.6666666666666666,\"#ed7953\"],[0.7777777777777778,\"#fb9f3a\"],[0.8888888888888888,\"#fdca26\"],[1.0,\"#f0f921\"]],\"sequentialminus\":[[0.0,\"#0d0887\"],[0.1111111111111111,\"#46039f\"],[0.2222222222222222,\"#7201a8\"],[0.3333333333333333,\"#9c179e\"],[0.4444444444444444,\"#bd3786\"],[0.5555555555555556,\"#d8576b\"],[0.6666666666666666,\"#ed7953\"],[0.7777777777777778,\"#fb9f3a\"],[0.8888888888888888,\"#fdca26\"],[1.0,\"#f0f921\"]],\"diverging\":[[0,\"#8e0152\"],[0.1,\"#c51b7d\"],[0.2,\"#de77ae\"],[0.3,\"#f1b6da\"],[0.4,\"#fde0ef\"],[0.5,\"#f7f7f7\"],[0.6,\"#e6f5d0\"],[0.7,\"#b8e186\"],[0.8,\"#7fbc41\"],[0.9,\"#4d9221\"],[1,\"#276419\"]]},\"xaxis\":{\"gridcolor\":\"white\",\"linecolor\":\"white\",\"ticks\":\"\",\"title\":{\"standoff\":15},\"zerolinecolor\":\"white\",\"automargin\":true,\"zerolinewidth\":2},\"yaxis\":{\"gridcolor\":\"white\",\"linecolor\":\"white\",\"ticks\":\"\",\"title\":{\"standoff\":15},\"zerolinecolor\":\"white\",\"automargin\":true,\"zerolinewidth\":2},\"scene\":{\"xaxis\":{\"backgroundcolor\":\"#E5ECF6\",\"gridcolor\":\"white\",\"linecolor\":\"white\",\"showbackground\":true,\"ticks\":\"\",\"zerolinecolor\":\"white\",\"gridwidth\":2},\"yaxis\":{\"backgroundcolor\":\"#E5ECF6\",\"gridcolor\":\"white\",\"linecolor\":\"white\",\"showbackground\":true,\"ticks\":\"\",\"zerolinecolor\":\"white\",\"gridwidth\":2},\"zaxis\":{\"backgroundcolor\":\"#E5ECF6\",\"gridcolor\":\"white\",\"linecolor\":\"white\",\"showbackground\":true,\"ticks\":\"\",\"zerolinecolor\":\"white\",\"gridwidth\":2}},\"shapedefaults\":{\"line\":{\"color\":\"#2a3f5f\"}},\"annotationdefaults\":{\"arrowcolor\":\"#2a3f5f\",\"arrowhead\":0,\"arrowwidth\":1},\"geo\":{\"bgcolor\":\"white\",\"landcolor\":\"#E5ECF6\",\"subunitcolor\":\"white\",\"showland\":true,\"showlakes\":true,\"lakecolor\":\"white\"},\"title\":{\"x\":0.05},\"mapbox\":{\"style\":\"light\"}}},\"xaxis\":{\"anchor\":\"y\",\"domain\":[0.0,1.0],\"title\":{\"text\":\"release_year\"}},\"yaxis\":{\"anchor\":\"x\",\"domain\":[0.0,1.0],\"title\":{\"text\":\"y\"}},\"legend\":{\"tracegroupgap\":0},\"margin\":{\"t\":60}},                        {\"responsive\": true}                    ).then(function(){\n",
       "                            \n",
       "var gd = document.getElementById('8b316812-7319-4d78-ad40-3489a040e1a1');\n",
       "var x = new MutationObserver(function (mutations, observer) {{\n",
       "        var display = window.getComputedStyle(gd).display;\n",
       "        if (!display || display === 'none') {{\n",
       "            console.log([gd, 'removed!']);\n",
       "            Plotly.purge(gd);\n",
       "            observer.disconnect();\n",
       "        }}\n",
       "}});\n",
       "\n",
       "// Listen for the removal of the full notebook cells\n",
       "var notebookContainer = gd.closest('#notebook-container');\n",
       "if (notebookContainer) {{\n",
       "    x.observe(notebookContainer, {childList: true});\n",
       "}}\n",
       "\n",
       "// Listen for the clearing of the current output cell\n",
       "var outputEl = gd.closest('.output');\n",
       "if (outputEl) {{\n",
       "    x.observe(outputEl, {childList: true});\n",
       "}}\n",
       "\n",
       "                        })                };                            </script>        </div>\n",
       "</body>\n",
       "</html>"
      ]
     },
     "metadata": {},
     "output_type": "display_data"
    }
   ],
   "source": [
    "# Draw an area plot to see how value changes over time: \n",
    "\n",
    "fig = px.area(released_year, x = released_year.index, y = released_year) \n",
    "\n",
    "fig"
   ]
  },
  {
   "cell_type": "markdown",
   "id": "70d61b5b",
   "metadata": {
    "papermill": {
     "duration": 0.009189,
     "end_time": "2025-03-13T10:25:55.317350",
     "exception": false,
     "start_time": "2025-03-13T10:25:55.308161",
     "status": "completed"
    },
    "tags": []
   },
   "source": [
    "#  6. rating column"
   ]
  },
  {
   "cell_type": "code",
   "execution_count": 20,
   "id": "25abd329",
   "metadata": {
    "execution": {
     "iopub.execute_input": "2025-03-13T10:25:55.337260Z",
     "iopub.status.busy": "2025-03-13T10:25:55.336919Z",
     "iopub.status.idle": "2025-03-13T10:25:55.345213Z",
     "shell.execute_reply": "2025-03-13T10:25:55.344179Z"
    },
    "papermill": {
     "duration": 0.02047,
     "end_time": "2025-03-13T10:25:55.346995",
     "exception": false,
     "start_time": "2025-03-13T10:25:55.326525",
     "status": "completed"
    },
    "tags": []
   },
   "outputs": [
    {
     "data": {
      "text/plain": [
       "rating\n",
       "TV-MA       3205\n",
       "TV-14       2157\n",
       "TV-PG        861\n",
       "R            799\n",
       "PG-13        490\n",
       "TV-Y7        333\n",
       "TV-Y         306\n",
       "PG           287\n",
       "TV-G         220\n",
       "NR            79\n",
       "G             41\n",
       "TV-Y7-FV       6\n",
       "NC-17          3\n",
       "UR             3\n",
       "Name: count, dtype: int64"
      ]
     },
     "execution_count": 20,
     "metadata": {},
     "output_type": "execute_result"
    }
   ],
   "source": [
    "rating = netflix['rating'].value_counts() \n",
    "rating"
   ]
  },
  {
   "cell_type": "code",
   "execution_count": 21,
   "id": "ab2e7def",
   "metadata": {
    "execution": {
     "iopub.execute_input": "2025-03-13T10:25:55.370588Z",
     "iopub.status.busy": "2025-03-13T10:25:55.370005Z",
     "iopub.status.idle": "2025-03-13T10:25:55.507692Z",
     "shell.execute_reply": "2025-03-13T10:25:55.506506Z"
    },
    "papermill": {
     "duration": 0.153435,
     "end_time": "2025-03-13T10:25:55.509597",
     "exception": false,
     "start_time": "2025-03-13T10:25:55.356162",
     "status": "completed"
    },
    "tags": []
   },
   "outputs": [
    {
     "data": {
      "text/html": [
       "<html>\n",
       "<head><meta charset=\"utf-8\" /></head>\n",
       "<body>\n",
       "    <div>            <script src=\"https://cdnjs.cloudflare.com/ajax/libs/mathjax/2.7.5/MathJax.js?config=TeX-AMS-MML_SVG\"></script><script type=\"text/javascript\">if (window.MathJax && window.MathJax.Hub && window.MathJax.Hub.Config) {window.MathJax.Hub.Config({SVG: {font: \"STIX-Web\"}});}</script>                <script type=\"text/javascript\">window.PlotlyConfig = {MathJaxConfig: 'local'};</script>\n",
       "        <script charset=\"utf-8\" src=\"https://cdn.plot.ly/plotly-2.35.2.min.js\"></script>                <div id=\"cf7fd4c3-8a96-4553-8573-2ee5b4e57b79\" class=\"plotly-graph-div\" style=\"height:500px; width:100%;\"></div>            <script type=\"text/javascript\">                                    window.PLOTLYENV=window.PLOTLYENV || {};                                    if (document.getElementById(\"cf7fd4c3-8a96-4553-8573-2ee5b4e57b79\")) {                    Plotly.newPlot(                        \"cf7fd4c3-8a96-4553-8573-2ee5b4e57b79\",                        [{\"alignmentgroup\":\"True\",\"hovertemplate\":\"rating=%{y}\\u003cbr\\u003eFrequency=%{x}\\u003cextra\\u003e\\u003c\\u002fextra\\u003e\",\"legendgroup\":\"TV-MA\",\"marker\":{\"color\":\"#636efa\",\"pattern\":{\"shape\":\"\"}},\"name\":\"TV-MA\",\"offsetgroup\":\"TV-MA\",\"orientation\":\"h\",\"showlegend\":true,\"textposition\":\"outside\",\"texttemplate\":\"%{x}\",\"x\":[3205],\"xaxis\":\"x\",\"y\":[\"TV-MA\"],\"yaxis\":\"y\",\"type\":\"bar\",\"insidetextfont\":{\"family\":\"consolas\",\"size\":15}},{\"alignmentgroup\":\"True\",\"hovertemplate\":\"rating=%{y}\\u003cbr\\u003eFrequency=%{x}\\u003cextra\\u003e\\u003c\\u002fextra\\u003e\",\"legendgroup\":\"TV-14\",\"marker\":{\"color\":\"#EF553B\",\"pattern\":{\"shape\":\"\"}},\"name\":\"TV-14\",\"offsetgroup\":\"TV-14\",\"orientation\":\"h\",\"showlegend\":true,\"textposition\":\"outside\",\"texttemplate\":\"%{x}\",\"x\":[2157],\"xaxis\":\"x\",\"y\":[\"TV-14\"],\"yaxis\":\"y\",\"type\":\"bar\",\"insidetextfont\":{\"family\":\"consolas\",\"size\":15}},{\"alignmentgroup\":\"True\",\"hovertemplate\":\"rating=%{y}\\u003cbr\\u003eFrequency=%{x}\\u003cextra\\u003e\\u003c\\u002fextra\\u003e\",\"legendgroup\":\"TV-PG\",\"marker\":{\"color\":\"#00cc96\",\"pattern\":{\"shape\":\"\"}},\"name\":\"TV-PG\",\"offsetgroup\":\"TV-PG\",\"orientation\":\"h\",\"showlegend\":true,\"textposition\":\"outside\",\"texttemplate\":\"%{x}\",\"x\":[861],\"xaxis\":\"x\",\"y\":[\"TV-PG\"],\"yaxis\":\"y\",\"type\":\"bar\",\"insidetextfont\":{\"family\":\"consolas\",\"size\":15}},{\"alignmentgroup\":\"True\",\"hovertemplate\":\"rating=%{y}\\u003cbr\\u003eFrequency=%{x}\\u003cextra\\u003e\\u003c\\u002fextra\\u003e\",\"legendgroup\":\"R\",\"marker\":{\"color\":\"#ab63fa\",\"pattern\":{\"shape\":\"\"}},\"name\":\"R\",\"offsetgroup\":\"R\",\"orientation\":\"h\",\"showlegend\":true,\"textposition\":\"outside\",\"texttemplate\":\"%{x}\",\"x\":[799],\"xaxis\":\"x\",\"y\":[\"R\"],\"yaxis\":\"y\",\"type\":\"bar\",\"insidetextfont\":{\"family\":\"consolas\",\"size\":15}},{\"alignmentgroup\":\"True\",\"hovertemplate\":\"rating=%{y}\\u003cbr\\u003eFrequency=%{x}\\u003cextra\\u003e\\u003c\\u002fextra\\u003e\",\"legendgroup\":\"PG-13\",\"marker\":{\"color\":\"#FFA15A\",\"pattern\":{\"shape\":\"\"}},\"name\":\"PG-13\",\"offsetgroup\":\"PG-13\",\"orientation\":\"h\",\"showlegend\":true,\"textposition\":\"outside\",\"texttemplate\":\"%{x}\",\"x\":[490],\"xaxis\":\"x\",\"y\":[\"PG-13\"],\"yaxis\":\"y\",\"type\":\"bar\",\"insidetextfont\":{\"family\":\"consolas\",\"size\":15}},{\"alignmentgroup\":\"True\",\"hovertemplate\":\"rating=%{y}\\u003cbr\\u003eFrequency=%{x}\\u003cextra\\u003e\\u003c\\u002fextra\\u003e\",\"legendgroup\":\"TV-Y7\",\"marker\":{\"color\":\"#19d3f3\",\"pattern\":{\"shape\":\"\"}},\"name\":\"TV-Y7\",\"offsetgroup\":\"TV-Y7\",\"orientation\":\"h\",\"showlegend\":true,\"textposition\":\"outside\",\"texttemplate\":\"%{x}\",\"x\":[333],\"xaxis\":\"x\",\"y\":[\"TV-Y7\"],\"yaxis\":\"y\",\"type\":\"bar\",\"insidetextfont\":{\"family\":\"consolas\",\"size\":15}},{\"alignmentgroup\":\"True\",\"hovertemplate\":\"rating=%{y}\\u003cbr\\u003eFrequency=%{x}\\u003cextra\\u003e\\u003c\\u002fextra\\u003e\",\"legendgroup\":\"TV-Y\",\"marker\":{\"color\":\"#FF6692\",\"pattern\":{\"shape\":\"\"}},\"name\":\"TV-Y\",\"offsetgroup\":\"TV-Y\",\"orientation\":\"h\",\"showlegend\":true,\"textposition\":\"outside\",\"texttemplate\":\"%{x}\",\"x\":[306],\"xaxis\":\"x\",\"y\":[\"TV-Y\"],\"yaxis\":\"y\",\"type\":\"bar\",\"insidetextfont\":{\"family\":\"consolas\",\"size\":15}},{\"alignmentgroup\":\"True\",\"hovertemplate\":\"rating=%{y}\\u003cbr\\u003eFrequency=%{x}\\u003cextra\\u003e\\u003c\\u002fextra\\u003e\",\"legendgroup\":\"PG\",\"marker\":{\"color\":\"#B6E880\",\"pattern\":{\"shape\":\"\"}},\"name\":\"PG\",\"offsetgroup\":\"PG\",\"orientation\":\"h\",\"showlegend\":true,\"textposition\":\"outside\",\"texttemplate\":\"%{x}\",\"x\":[287],\"xaxis\":\"x\",\"y\":[\"PG\"],\"yaxis\":\"y\",\"type\":\"bar\",\"insidetextfont\":{\"family\":\"consolas\",\"size\":15}},{\"alignmentgroup\":\"True\",\"hovertemplate\":\"rating=%{y}\\u003cbr\\u003eFrequency=%{x}\\u003cextra\\u003e\\u003c\\u002fextra\\u003e\",\"legendgroup\":\"TV-G\",\"marker\":{\"color\":\"#FF97FF\",\"pattern\":{\"shape\":\"\"}},\"name\":\"TV-G\",\"offsetgroup\":\"TV-G\",\"orientation\":\"h\",\"showlegend\":true,\"textposition\":\"outside\",\"texttemplate\":\"%{x}\",\"x\":[220],\"xaxis\":\"x\",\"y\":[\"TV-G\"],\"yaxis\":\"y\",\"type\":\"bar\",\"insidetextfont\":{\"family\":\"consolas\",\"size\":15}},{\"alignmentgroup\":\"True\",\"hovertemplate\":\"rating=%{y}\\u003cbr\\u003eFrequency=%{x}\\u003cextra\\u003e\\u003c\\u002fextra\\u003e\",\"legendgroup\":\"NR\",\"marker\":{\"color\":\"#FECB52\",\"pattern\":{\"shape\":\"\"}},\"name\":\"NR\",\"offsetgroup\":\"NR\",\"orientation\":\"h\",\"showlegend\":true,\"textposition\":\"outside\",\"texttemplate\":\"%{x}\",\"x\":[79],\"xaxis\":\"x\",\"y\":[\"NR\"],\"yaxis\":\"y\",\"type\":\"bar\",\"insidetextfont\":{\"family\":\"consolas\",\"size\":15}},{\"alignmentgroup\":\"True\",\"hovertemplate\":\"rating=%{y}\\u003cbr\\u003eFrequency=%{x}\\u003cextra\\u003e\\u003c\\u002fextra\\u003e\",\"legendgroup\":\"G\",\"marker\":{\"color\":\"#636efa\",\"pattern\":{\"shape\":\"\"}},\"name\":\"G\",\"offsetgroup\":\"G\",\"orientation\":\"h\",\"showlegend\":true,\"textposition\":\"outside\",\"texttemplate\":\"%{x}\",\"x\":[41],\"xaxis\":\"x\",\"y\":[\"G\"],\"yaxis\":\"y\",\"type\":\"bar\",\"insidetextfont\":{\"family\":\"consolas\",\"size\":15}},{\"alignmentgroup\":\"True\",\"hovertemplate\":\"rating=%{y}\\u003cbr\\u003eFrequency=%{x}\\u003cextra\\u003e\\u003c\\u002fextra\\u003e\",\"legendgroup\":\"TV-Y7-FV\",\"marker\":{\"color\":\"#EF553B\",\"pattern\":{\"shape\":\"\"}},\"name\":\"TV-Y7-FV\",\"offsetgroup\":\"TV-Y7-FV\",\"orientation\":\"h\",\"showlegend\":true,\"textposition\":\"outside\",\"texttemplate\":\"%{x}\",\"x\":[6],\"xaxis\":\"x\",\"y\":[\"TV-Y7-FV\"],\"yaxis\":\"y\",\"type\":\"bar\",\"insidetextfont\":{\"family\":\"consolas\",\"size\":15}},{\"alignmentgroup\":\"True\",\"hovertemplate\":\"rating=%{y}\\u003cbr\\u003eFrequency=%{x}\\u003cextra\\u003e\\u003c\\u002fextra\\u003e\",\"legendgroup\":\"NC-17\",\"marker\":{\"color\":\"#00cc96\",\"pattern\":{\"shape\":\"\"}},\"name\":\"NC-17\",\"offsetgroup\":\"NC-17\",\"orientation\":\"h\",\"showlegend\":true,\"textposition\":\"outside\",\"texttemplate\":\"%{x}\",\"x\":[3],\"xaxis\":\"x\",\"y\":[\"NC-17\"],\"yaxis\":\"y\",\"type\":\"bar\",\"insidetextfont\":{\"family\":\"consolas\",\"size\":15}},{\"alignmentgroup\":\"True\",\"hovertemplate\":\"rating=%{y}\\u003cbr\\u003eFrequency=%{x}\\u003cextra\\u003e\\u003c\\u002fextra\\u003e\",\"legendgroup\":\"UR\",\"marker\":{\"color\":\"#ab63fa\",\"pattern\":{\"shape\":\"\"}},\"name\":\"UR\",\"offsetgroup\":\"UR\",\"orientation\":\"h\",\"showlegend\":true,\"textposition\":\"outside\",\"texttemplate\":\"%{x}\",\"x\":[3],\"xaxis\":\"x\",\"y\":[\"UR\"],\"yaxis\":\"y\",\"type\":\"bar\",\"insidetextfont\":{\"family\":\"consolas\",\"size\":15}}],                        {\"template\":{\"data\":{\"histogram2dcontour\":[{\"type\":\"histogram2dcontour\",\"colorbar\":{\"outlinewidth\":0,\"ticks\":\"\"},\"colorscale\":[[0.0,\"#0d0887\"],[0.1111111111111111,\"#46039f\"],[0.2222222222222222,\"#7201a8\"],[0.3333333333333333,\"#9c179e\"],[0.4444444444444444,\"#bd3786\"],[0.5555555555555556,\"#d8576b\"],[0.6666666666666666,\"#ed7953\"],[0.7777777777777778,\"#fb9f3a\"],[0.8888888888888888,\"#fdca26\"],[1.0,\"#f0f921\"]]}],\"choropleth\":[{\"type\":\"choropleth\",\"colorbar\":{\"outlinewidth\":0,\"ticks\":\"\"}}],\"histogram2d\":[{\"type\":\"histogram2d\",\"colorbar\":{\"outlinewidth\":0,\"ticks\":\"\"},\"colorscale\":[[0.0,\"#0d0887\"],[0.1111111111111111,\"#46039f\"],[0.2222222222222222,\"#7201a8\"],[0.3333333333333333,\"#9c179e\"],[0.4444444444444444,\"#bd3786\"],[0.5555555555555556,\"#d8576b\"],[0.6666666666666666,\"#ed7953\"],[0.7777777777777778,\"#fb9f3a\"],[0.8888888888888888,\"#fdca26\"],[1.0,\"#f0f921\"]]}],\"heatmap\":[{\"type\":\"heatmap\",\"colorbar\":{\"outlinewidth\":0,\"ticks\":\"\"},\"colorscale\":[[0.0,\"#0d0887\"],[0.1111111111111111,\"#46039f\"],[0.2222222222222222,\"#7201a8\"],[0.3333333333333333,\"#9c179e\"],[0.4444444444444444,\"#bd3786\"],[0.5555555555555556,\"#d8576b\"],[0.6666666666666666,\"#ed7953\"],[0.7777777777777778,\"#fb9f3a\"],[0.8888888888888888,\"#fdca26\"],[1.0,\"#f0f921\"]]}],\"heatmapgl\":[{\"type\":\"heatmapgl\",\"colorbar\":{\"outlinewidth\":0,\"ticks\":\"\"},\"colorscale\":[[0.0,\"#0d0887\"],[0.1111111111111111,\"#46039f\"],[0.2222222222222222,\"#7201a8\"],[0.3333333333333333,\"#9c179e\"],[0.4444444444444444,\"#bd3786\"],[0.5555555555555556,\"#d8576b\"],[0.6666666666666666,\"#ed7953\"],[0.7777777777777778,\"#fb9f3a\"],[0.8888888888888888,\"#fdca26\"],[1.0,\"#f0f921\"]]}],\"contourcarpet\":[{\"type\":\"contourcarpet\",\"colorbar\":{\"outlinewidth\":0,\"ticks\":\"\"}}],\"contour\":[{\"type\":\"contour\",\"colorbar\":{\"outlinewidth\":0,\"ticks\":\"\"},\"colorscale\":[[0.0,\"#0d0887\"],[0.1111111111111111,\"#46039f\"],[0.2222222222222222,\"#7201a8\"],[0.3333333333333333,\"#9c179e\"],[0.4444444444444444,\"#bd3786\"],[0.5555555555555556,\"#d8576b\"],[0.6666666666666666,\"#ed7953\"],[0.7777777777777778,\"#fb9f3a\"],[0.8888888888888888,\"#fdca26\"],[1.0,\"#f0f921\"]]}],\"surface\":[{\"type\":\"surface\",\"colorbar\":{\"outlinewidth\":0,\"ticks\":\"\"},\"colorscale\":[[0.0,\"#0d0887\"],[0.1111111111111111,\"#46039f\"],[0.2222222222222222,\"#7201a8\"],[0.3333333333333333,\"#9c179e\"],[0.4444444444444444,\"#bd3786\"],[0.5555555555555556,\"#d8576b\"],[0.6666666666666666,\"#ed7953\"],[0.7777777777777778,\"#fb9f3a\"],[0.8888888888888888,\"#fdca26\"],[1.0,\"#f0f921\"]]}],\"mesh3d\":[{\"type\":\"mesh3d\",\"colorbar\":{\"outlinewidth\":0,\"ticks\":\"\"}}],\"scatter\":[{\"fillpattern\":{\"fillmode\":\"overlay\",\"size\":10,\"solidity\":0.2},\"type\":\"scatter\"}],\"parcoords\":[{\"type\":\"parcoords\",\"line\":{\"colorbar\":{\"outlinewidth\":0,\"ticks\":\"\"}}}],\"scatterpolargl\":[{\"type\":\"scatterpolargl\",\"marker\":{\"colorbar\":{\"outlinewidth\":0,\"ticks\":\"\"}}}],\"bar\":[{\"error_x\":{\"color\":\"#2a3f5f\"},\"error_y\":{\"color\":\"#2a3f5f\"},\"marker\":{\"line\":{\"color\":\"#E5ECF6\",\"width\":0.5},\"pattern\":{\"fillmode\":\"overlay\",\"size\":10,\"solidity\":0.2}},\"type\":\"bar\"}],\"scattergeo\":[{\"type\":\"scattergeo\",\"marker\":{\"colorbar\":{\"outlinewidth\":0,\"ticks\":\"\"}}}],\"scatterpolar\":[{\"type\":\"scatterpolar\",\"marker\":{\"colorbar\":{\"outlinewidth\":0,\"ticks\":\"\"}}}],\"histogram\":[{\"marker\":{\"pattern\":{\"fillmode\":\"overlay\",\"size\":10,\"solidity\":0.2}},\"type\":\"histogram\"}],\"scattergl\":[{\"type\":\"scattergl\",\"marker\":{\"colorbar\":{\"outlinewidth\":0,\"ticks\":\"\"}}}],\"scatter3d\":[{\"type\":\"scatter3d\",\"line\":{\"colorbar\":{\"outlinewidth\":0,\"ticks\":\"\"}},\"marker\":{\"colorbar\":{\"outlinewidth\":0,\"ticks\":\"\"}}}],\"scattermapbox\":[{\"type\":\"scattermapbox\",\"marker\":{\"colorbar\":{\"outlinewidth\":0,\"ticks\":\"\"}}}],\"scatterternary\":[{\"type\":\"scatterternary\",\"marker\":{\"colorbar\":{\"outlinewidth\":0,\"ticks\":\"\"}}}],\"scattercarpet\":[{\"type\":\"scattercarpet\",\"marker\":{\"colorbar\":{\"outlinewidth\":0,\"ticks\":\"\"}}}],\"carpet\":[{\"aaxis\":{\"endlinecolor\":\"#2a3f5f\",\"gridcolor\":\"white\",\"linecolor\":\"white\",\"minorgridcolor\":\"white\",\"startlinecolor\":\"#2a3f5f\"},\"baxis\":{\"endlinecolor\":\"#2a3f5f\",\"gridcolor\":\"white\",\"linecolor\":\"white\",\"minorgridcolor\":\"white\",\"startlinecolor\":\"#2a3f5f\"},\"type\":\"carpet\"}],\"table\":[{\"cells\":{\"fill\":{\"color\":\"#EBF0F8\"},\"line\":{\"color\":\"white\"}},\"header\":{\"fill\":{\"color\":\"#C8D4E3\"},\"line\":{\"color\":\"white\"}},\"type\":\"table\"}],\"barpolar\":[{\"marker\":{\"line\":{\"color\":\"#E5ECF6\",\"width\":0.5},\"pattern\":{\"fillmode\":\"overlay\",\"size\":10,\"solidity\":0.2}},\"type\":\"barpolar\"}],\"pie\":[{\"automargin\":true,\"type\":\"pie\"}]},\"layout\":{\"autotypenumbers\":\"strict\",\"colorway\":[\"#636efa\",\"#EF553B\",\"#00cc96\",\"#ab63fa\",\"#FFA15A\",\"#19d3f3\",\"#FF6692\",\"#B6E880\",\"#FF97FF\",\"#FECB52\"],\"font\":{\"color\":\"#2a3f5f\"},\"hovermode\":\"closest\",\"hoverlabel\":{\"align\":\"left\"},\"paper_bgcolor\":\"white\",\"plot_bgcolor\":\"#E5ECF6\",\"polar\":{\"bgcolor\":\"#E5ECF6\",\"angularaxis\":{\"gridcolor\":\"white\",\"linecolor\":\"white\",\"ticks\":\"\"},\"radialaxis\":{\"gridcolor\":\"white\",\"linecolor\":\"white\",\"ticks\":\"\"}},\"ternary\":{\"bgcolor\":\"#E5ECF6\",\"aaxis\":{\"gridcolor\":\"white\",\"linecolor\":\"white\",\"ticks\":\"\"},\"baxis\":{\"gridcolor\":\"white\",\"linecolor\":\"white\",\"ticks\":\"\"},\"caxis\":{\"gridcolor\":\"white\",\"linecolor\":\"white\",\"ticks\":\"\"}},\"coloraxis\":{\"colorbar\":{\"outlinewidth\":0,\"ticks\":\"\"}},\"colorscale\":{\"sequential\":[[0.0,\"#0d0887\"],[0.1111111111111111,\"#46039f\"],[0.2222222222222222,\"#7201a8\"],[0.3333333333333333,\"#9c179e\"],[0.4444444444444444,\"#bd3786\"],[0.5555555555555556,\"#d8576b\"],[0.6666666666666666,\"#ed7953\"],[0.7777777777777778,\"#fb9f3a\"],[0.8888888888888888,\"#fdca26\"],[1.0,\"#f0f921\"]],\"sequentialminus\":[[0.0,\"#0d0887\"],[0.1111111111111111,\"#46039f\"],[0.2222222222222222,\"#7201a8\"],[0.3333333333333333,\"#9c179e\"],[0.4444444444444444,\"#bd3786\"],[0.5555555555555556,\"#d8576b\"],[0.6666666666666666,\"#ed7953\"],[0.7777777777777778,\"#fb9f3a\"],[0.8888888888888888,\"#fdca26\"],[1.0,\"#f0f921\"]],\"diverging\":[[0,\"#8e0152\"],[0.1,\"#c51b7d\"],[0.2,\"#de77ae\"],[0.3,\"#f1b6da\"],[0.4,\"#fde0ef\"],[0.5,\"#f7f7f7\"],[0.6,\"#e6f5d0\"],[0.7,\"#b8e186\"],[0.8,\"#7fbc41\"],[0.9,\"#4d9221\"],[1,\"#276419\"]]},\"xaxis\":{\"gridcolor\":\"white\",\"linecolor\":\"white\",\"ticks\":\"\",\"title\":{\"standoff\":15},\"zerolinecolor\":\"white\",\"automargin\":true,\"zerolinewidth\":2},\"yaxis\":{\"gridcolor\":\"white\",\"linecolor\":\"white\",\"ticks\":\"\",\"title\":{\"standoff\":15},\"zerolinecolor\":\"white\",\"automargin\":true,\"zerolinewidth\":2},\"scene\":{\"xaxis\":{\"backgroundcolor\":\"#E5ECF6\",\"gridcolor\":\"white\",\"linecolor\":\"white\",\"showbackground\":true,\"ticks\":\"\",\"zerolinecolor\":\"white\",\"gridwidth\":2},\"yaxis\":{\"backgroundcolor\":\"#E5ECF6\",\"gridcolor\":\"white\",\"linecolor\":\"white\",\"showbackground\":true,\"ticks\":\"\",\"zerolinecolor\":\"white\",\"gridwidth\":2},\"zaxis\":{\"backgroundcolor\":\"#E5ECF6\",\"gridcolor\":\"white\",\"linecolor\":\"white\",\"showbackground\":true,\"ticks\":\"\",\"zerolinecolor\":\"white\",\"gridwidth\":2}},\"shapedefaults\":{\"line\":{\"color\":\"#2a3f5f\"}},\"annotationdefaults\":{\"arrowcolor\":\"#2a3f5f\",\"arrowhead\":0,\"arrowwidth\":1},\"geo\":{\"bgcolor\":\"white\",\"landcolor\":\"#E5ECF6\",\"subunitcolor\":\"white\",\"showland\":true,\"showlakes\":true,\"lakecolor\":\"white\"},\"title\":{\"x\":0.05},\"mapbox\":{\"style\":\"light\"}}},\"xaxis\":{\"anchor\":\"y\",\"domain\":[0.0,1.0],\"title\":{\"text\":\"Frequency\"}},\"yaxis\":{\"anchor\":\"x\",\"domain\":[0.0,1.0],\"title\":{\"text\":\"rating\"},\"categoryorder\":\"array\",\"categoryarray\":[\"UR\",\"NC-17\",\"TV-Y7-FV\",\"G\",\"NR\",\"TV-G\",\"PG\",\"TV-Y\",\"TV-Y7\",\"PG-13\",\"R\",\"TV-PG\",\"TV-14\",\"TV-MA\"]},\"legend\":{\"title\":{\"text\":\"rating\"},\"tracegroupgap\":0},\"title\":{\"text\":\"Popularity of Rating\"},\"barmode\":\"relative\",\"height\":500},                        {\"responsive\": true}                    ).then(function(){\n",
       "                            \n",
       "var gd = document.getElementById('cf7fd4c3-8a96-4553-8573-2ee5b4e57b79');\n",
       "var x = new MutationObserver(function (mutations, observer) {{\n",
       "        var display = window.getComputedStyle(gd).display;\n",
       "        if (!display || display === 'none') {{\n",
       "            console.log([gd, 'removed!']);\n",
       "            Plotly.purge(gd);\n",
       "            observer.disconnect();\n",
       "        }}\n",
       "}});\n",
       "\n",
       "// Listen for the removal of the full notebook cells\n",
       "var notebookContainer = gd.closest('#notebook-container');\n",
       "if (notebookContainer) {{\n",
       "    x.observe(notebookContainer, {childList: true});\n",
       "}}\n",
       "\n",
       "// Listen for the clearing of the current output cell\n",
       "var outputEl = gd.closest('.output');\n",
       "if (outputEl) {{\n",
       "    x.observe(outputEl, {childList: true});\n",
       "}}\n",
       "\n",
       "                        })                };                            </script>        </div>\n",
       "</body>\n",
       "</html>"
      ]
     },
     "metadata": {},
     "output_type": "display_data"
    }
   ],
   "source": [
    "# Draw a bar about the Popularity of Rating: \n",
    "\n",
    "fig = px.bar(data_frame = rating, \n",
    "             x = rating, \n",
    "             y = rating.index, \n",
    "             color = rating.index,\n",
    "             text_auto = True, \n",
    "             orientation = 'h', \n",
    "             title = 'Popularity of Rating', \n",
    "             labels = {'x' : 'Frequency',\n",
    "                       'y' : 'Type of Rating'},\n",
    "            height = 500) \n",
    "\n",
    "fig.update_traces(textposition = 'outside', \n",
    "                  insidetextfont = {\"family\":\"consolas\", \n",
    "                                    \"size\":15})   \n",
    "fig"
   ]
  },
  {
   "cell_type": "markdown",
   "id": "94e4b964",
   "metadata": {
    "papermill": {
     "duration": 0.00926,
     "end_time": "2025-03-13T10:25:55.528593",
     "exception": false,
     "start_time": "2025-03-13T10:25:55.519333",
     "status": "completed"
    },
    "tags": []
   },
   "source": [
    "# 📆 7. duration column"
   ]
  },
  {
   "cell_type": "code",
   "execution_count": 22,
   "id": "8beab665",
   "metadata": {
    "execution": {
     "iopub.execute_input": "2025-03-13T10:25:55.549010Z",
     "iopub.status.busy": "2025-03-13T10:25:55.548602Z",
     "iopub.status.idle": "2025-03-13T10:25:55.557714Z",
     "shell.execute_reply": "2025-03-13T10:25:55.556605Z"
    },
    "papermill": {
     "duration": 0.021663,
     "end_time": "2025-03-13T10:25:55.559632",
     "exception": false,
     "start_time": "2025-03-13T10:25:55.537969",
     "status": "completed"
    },
    "tags": []
   },
   "outputs": [
    {
     "data": {
      "text/plain": [
       "duration\n",
       "1 Season      1791\n",
       "2 Seasons      421\n",
       "3 Seasons      198\n",
       "90 min         152\n",
       "97 min         146\n",
       "              ... \n",
       "5 min            1\n",
       "16 min           1\n",
       "186 min          1\n",
       "193 min          1\n",
       "11 Seasons       1\n",
       "Name: count, Length: 220, dtype: int64"
      ]
     },
     "execution_count": 22,
     "metadata": {},
     "output_type": "execute_result"
    }
   ],
   "source": [
    "netflix['duration'].value_counts() "
   ]
  },
  {
   "cell_type": "markdown",
   "id": "b8d4306f",
   "metadata": {
    "papermill": {
     "duration": 0.009488,
     "end_time": "2025-03-13T10:25:55.579941",
     "exception": false,
     "start_time": "2025-03-13T10:25:55.570453",
     "status": "completed"
    },
    "tags": []
   },
   "source": [
    "# Q1. The Most Common Rating for Each Type of Shows"
   ]
  },
  {
   "cell_type": "markdown",
   "id": "fd2dfda0",
   "metadata": {
    "papermill": {
     "duration": 0.00926,
     "end_time": "2025-03-13T10:25:55.600021",
     "exception": false,
     "start_time": "2025-03-13T10:25:55.590761",
     "status": "completed"
    },
    "tags": []
   },
   "source": [
    "# *Digital View* "
   ]
  },
  {
   "cell_type": "code",
   "execution_count": 23,
   "id": "aab0c904",
   "metadata": {
    "execution": {
     "iopub.execute_input": "2025-03-13T10:25:55.621014Z",
     "iopub.status.busy": "2025-03-13T10:25:55.620602Z",
     "iopub.status.idle": "2025-03-13T10:25:55.634906Z",
     "shell.execute_reply": "2025-03-13T10:25:55.632751Z"
    },
    "papermill": {
     "duration": 0.027648,
     "end_time": "2025-03-13T10:25:55.637425",
     "exception": false,
     "start_time": "2025-03-13T10:25:55.609777",
     "status": "completed"
    },
    "tags": []
   },
   "outputs": [
    {
     "name": "stdout",
     "output_type": "stream",
     "text": [
      "Movie\n"
     ]
    },
    {
     "data": {
      "text/plain": [
       "rating\n",
       "TV-MA    2062\n",
       "Name: count, dtype: int64"
      ]
     },
     "execution_count": 23,
     "metadata": {},
     "output_type": "execute_result"
    }
   ],
   "source": [
    "print('Movie')\n",
    "\n",
    "netflix.loc[netflix['type'] == 'Movie', 'rating'].value_counts().nlargest(1) \n"
   ]
  },
  {
   "cell_type": "code",
   "execution_count": 24,
   "id": "1bcac09e",
   "metadata": {
    "execution": {
     "iopub.execute_input": "2025-03-13T10:25:55.658962Z",
     "iopub.status.busy": "2025-03-13T10:25:55.658542Z",
     "iopub.status.idle": "2025-03-13T10:25:55.671192Z",
     "shell.execute_reply": "2025-03-13T10:25:55.670134Z"
    },
    "papermill": {
     "duration": 0.025356,
     "end_time": "2025-03-13T10:25:55.673083",
     "exception": false,
     "start_time": "2025-03-13T10:25:55.647727",
     "status": "completed"
    },
    "tags": []
   },
   "outputs": [
    {
     "name": "stdout",
     "output_type": "stream",
     "text": [
      "TV Show\n"
     ]
    },
    {
     "data": {
      "text/plain": [
       "rating\n",
       "TV-MA    1143\n",
       "Name: count, dtype: int64"
      ]
     },
     "execution_count": 24,
     "metadata": {},
     "output_type": "execute_result"
    }
   ],
   "source": [
    "print('TV Show') \n",
    "\n",
    "netflix.loc[netflix['type'] == 'TV Show', 'rating'].value_counts().nlargest(1) "
   ]
  },
  {
   "cell_type": "markdown",
   "id": "4077330f",
   "metadata": {
    "papermill": {
     "duration": 0.009854,
     "end_time": "2025-03-13T10:25:55.694784",
     "exception": false,
     "start_time": "2025-03-13T10:25:55.684930",
     "status": "completed"
    },
    "tags": []
   },
   "source": [
    "# *Graphical View*"
   ]
  },
  {
   "cell_type": "code",
   "execution_count": 25,
   "id": "73590ae3",
   "metadata": {
    "execution": {
     "iopub.execute_input": "2025-03-13T10:25:55.717862Z",
     "iopub.status.busy": "2025-03-13T10:25:55.717447Z",
     "iopub.status.idle": "2025-03-13T10:25:55.763189Z",
     "shell.execute_reply": "2025-03-13T10:25:55.761849Z"
    },
    "papermill": {
     "duration": 0.061133,
     "end_time": "2025-03-13T10:25:55.765981",
     "exception": false,
     "start_time": "2025-03-13T10:25:55.704848",
     "status": "completed"
    },
    "tags": []
   },
   "outputs": [
    {
     "data": {
      "text/html": [
       "<html>\n",
       "<head><meta charset=\"utf-8\" /></head>\n",
       "<body>\n",
       "    <div>            <script src=\"https://cdnjs.cloudflare.com/ajax/libs/mathjax/2.7.5/MathJax.js?config=TeX-AMS-MML_SVG\"></script><script type=\"text/javascript\">if (window.MathJax && window.MathJax.Hub && window.MathJax.Hub.Config) {window.MathJax.Hub.Config({SVG: {font: \"STIX-Web\"}});}</script>                <script type=\"text/javascript\">window.PlotlyConfig = {MathJaxConfig: 'local'};</script>\n",
       "        <script charset=\"utf-8\" src=\"https://cdn.plot.ly/plotly-2.35.2.min.js\"></script>                <div id=\"4fe60b67-98c8-4b6d-89e9-1d7f3da2b6c6\" class=\"plotly-graph-div\" style=\"height:500px; width:700px;\"></div>            <script type=\"text/javascript\">                                    window.PLOTLYENV=window.PLOTLYENV || {};                                    if (document.getElementById(\"4fe60b67-98c8-4b6d-89e9-1d7f3da2b6c6\")) {                    Plotly.newPlot(                        \"4fe60b67-98c8-4b6d-89e9-1d7f3da2b6c6\",                        [{\"name\":\"Movie\",\"x\":[\"TV-MA\",\"TV-14\",\"R\",\"TV-PG\",\"PG-13\",\"PG\",\"TV-Y7\",\"TV-Y\",\"TV-G\",\"NR\",\"G\",\"TV-Y7-FV\",\"NC-17\",\"UR\"],\"y\":[2062,1427,797,540,490,287,139,131,126,75,41,5,3,3],\"type\":\"bar\",\"xaxis\":\"x\",\"yaxis\":\"y\"},{\"name\":\"TV_Show\",\"x\":[\"TV-MA\",\"TV-14\",\"TV-PG\",\"TV-Y7\",\"TV-Y\",\"TV-G\",\"NR\",\"R\",\"TV-Y7-FV\"],\"y\":[1143,730,321,194,175,94,4,2,1],\"type\":\"bar\",\"xaxis\":\"x2\",\"yaxis\":\"y2\"}],                        {\"template\":{\"data\":{\"histogram2dcontour\":[{\"type\":\"histogram2dcontour\",\"colorbar\":{\"outlinewidth\":0,\"ticks\":\"\"},\"colorscale\":[[0.0,\"#0d0887\"],[0.1111111111111111,\"#46039f\"],[0.2222222222222222,\"#7201a8\"],[0.3333333333333333,\"#9c179e\"],[0.4444444444444444,\"#bd3786\"],[0.5555555555555556,\"#d8576b\"],[0.6666666666666666,\"#ed7953\"],[0.7777777777777778,\"#fb9f3a\"],[0.8888888888888888,\"#fdca26\"],[1.0,\"#f0f921\"]]}],\"choropleth\":[{\"type\":\"choropleth\",\"colorbar\":{\"outlinewidth\":0,\"ticks\":\"\"}}],\"histogram2d\":[{\"type\":\"histogram2d\",\"colorbar\":{\"outlinewidth\":0,\"ticks\":\"\"},\"colorscale\":[[0.0,\"#0d0887\"],[0.1111111111111111,\"#46039f\"],[0.2222222222222222,\"#7201a8\"],[0.3333333333333333,\"#9c179e\"],[0.4444444444444444,\"#bd3786\"],[0.5555555555555556,\"#d8576b\"],[0.6666666666666666,\"#ed7953\"],[0.7777777777777778,\"#fb9f3a\"],[0.8888888888888888,\"#fdca26\"],[1.0,\"#f0f921\"]]}],\"heatmap\":[{\"type\":\"heatmap\",\"colorbar\":{\"outlinewidth\":0,\"ticks\":\"\"},\"colorscale\":[[0.0,\"#0d0887\"],[0.1111111111111111,\"#46039f\"],[0.2222222222222222,\"#7201a8\"],[0.3333333333333333,\"#9c179e\"],[0.4444444444444444,\"#bd3786\"],[0.5555555555555556,\"#d8576b\"],[0.6666666666666666,\"#ed7953\"],[0.7777777777777778,\"#fb9f3a\"],[0.8888888888888888,\"#fdca26\"],[1.0,\"#f0f921\"]]}],\"heatmapgl\":[{\"type\":\"heatmapgl\",\"colorbar\":{\"outlinewidth\":0,\"ticks\":\"\"},\"colorscale\":[[0.0,\"#0d0887\"],[0.1111111111111111,\"#46039f\"],[0.2222222222222222,\"#7201a8\"],[0.3333333333333333,\"#9c179e\"],[0.4444444444444444,\"#bd3786\"],[0.5555555555555556,\"#d8576b\"],[0.6666666666666666,\"#ed7953\"],[0.7777777777777778,\"#fb9f3a\"],[0.8888888888888888,\"#fdca26\"],[1.0,\"#f0f921\"]]}],\"contourcarpet\":[{\"type\":\"contourcarpet\",\"colorbar\":{\"outlinewidth\":0,\"ticks\":\"\"}}],\"contour\":[{\"type\":\"contour\",\"colorbar\":{\"outlinewidth\":0,\"ticks\":\"\"},\"colorscale\":[[0.0,\"#0d0887\"],[0.1111111111111111,\"#46039f\"],[0.2222222222222222,\"#7201a8\"],[0.3333333333333333,\"#9c179e\"],[0.4444444444444444,\"#bd3786\"],[0.5555555555555556,\"#d8576b\"],[0.6666666666666666,\"#ed7953\"],[0.7777777777777778,\"#fb9f3a\"],[0.8888888888888888,\"#fdca26\"],[1.0,\"#f0f921\"]]}],\"surface\":[{\"type\":\"surface\",\"colorbar\":{\"outlinewidth\":0,\"ticks\":\"\"},\"colorscale\":[[0.0,\"#0d0887\"],[0.1111111111111111,\"#46039f\"],[0.2222222222222222,\"#7201a8\"],[0.3333333333333333,\"#9c179e\"],[0.4444444444444444,\"#bd3786\"],[0.5555555555555556,\"#d8576b\"],[0.6666666666666666,\"#ed7953\"],[0.7777777777777778,\"#fb9f3a\"],[0.8888888888888888,\"#fdca26\"],[1.0,\"#f0f921\"]]}],\"mesh3d\":[{\"type\":\"mesh3d\",\"colorbar\":{\"outlinewidth\":0,\"ticks\":\"\"}}],\"scatter\":[{\"fillpattern\":{\"fillmode\":\"overlay\",\"size\":10,\"solidity\":0.2},\"type\":\"scatter\"}],\"parcoords\":[{\"type\":\"parcoords\",\"line\":{\"colorbar\":{\"outlinewidth\":0,\"ticks\":\"\"}}}],\"scatterpolargl\":[{\"type\":\"scatterpolargl\",\"marker\":{\"colorbar\":{\"outlinewidth\":0,\"ticks\":\"\"}}}],\"bar\":[{\"error_x\":{\"color\":\"#2a3f5f\"},\"error_y\":{\"color\":\"#2a3f5f\"},\"marker\":{\"line\":{\"color\":\"#E5ECF6\",\"width\":0.5},\"pattern\":{\"fillmode\":\"overlay\",\"size\":10,\"solidity\":0.2}},\"type\":\"bar\"}],\"scattergeo\":[{\"type\":\"scattergeo\",\"marker\":{\"colorbar\":{\"outlinewidth\":0,\"ticks\":\"\"}}}],\"scatterpolar\":[{\"type\":\"scatterpolar\",\"marker\":{\"colorbar\":{\"outlinewidth\":0,\"ticks\":\"\"}}}],\"histogram\":[{\"marker\":{\"pattern\":{\"fillmode\":\"overlay\",\"size\":10,\"solidity\":0.2}},\"type\":\"histogram\"}],\"scattergl\":[{\"type\":\"scattergl\",\"marker\":{\"colorbar\":{\"outlinewidth\":0,\"ticks\":\"\"}}}],\"scatter3d\":[{\"type\":\"scatter3d\",\"line\":{\"colorbar\":{\"outlinewidth\":0,\"ticks\":\"\"}},\"marker\":{\"colorbar\":{\"outlinewidth\":0,\"ticks\":\"\"}}}],\"scattermapbox\":[{\"type\":\"scattermapbox\",\"marker\":{\"colorbar\":{\"outlinewidth\":0,\"ticks\":\"\"}}}],\"scatterternary\":[{\"type\":\"scatterternary\",\"marker\":{\"colorbar\":{\"outlinewidth\":0,\"ticks\":\"\"}}}],\"scattercarpet\":[{\"type\":\"scattercarpet\",\"marker\":{\"colorbar\":{\"outlinewidth\":0,\"ticks\":\"\"}}}],\"carpet\":[{\"aaxis\":{\"endlinecolor\":\"#2a3f5f\",\"gridcolor\":\"white\",\"linecolor\":\"white\",\"minorgridcolor\":\"white\",\"startlinecolor\":\"#2a3f5f\"},\"baxis\":{\"endlinecolor\":\"#2a3f5f\",\"gridcolor\":\"white\",\"linecolor\":\"white\",\"minorgridcolor\":\"white\",\"startlinecolor\":\"#2a3f5f\"},\"type\":\"carpet\"}],\"table\":[{\"cells\":{\"fill\":{\"color\":\"#EBF0F8\"},\"line\":{\"color\":\"white\"}},\"header\":{\"fill\":{\"color\":\"#C8D4E3\"},\"line\":{\"color\":\"white\"}},\"type\":\"table\"}],\"barpolar\":[{\"marker\":{\"line\":{\"color\":\"#E5ECF6\",\"width\":0.5},\"pattern\":{\"fillmode\":\"overlay\",\"size\":10,\"solidity\":0.2}},\"type\":\"barpolar\"}],\"pie\":[{\"automargin\":true,\"type\":\"pie\"}]},\"layout\":{\"autotypenumbers\":\"strict\",\"colorway\":[\"#636efa\",\"#EF553B\",\"#00cc96\",\"#ab63fa\",\"#FFA15A\",\"#19d3f3\",\"#FF6692\",\"#B6E880\",\"#FF97FF\",\"#FECB52\"],\"font\":{\"color\":\"#2a3f5f\"},\"hovermode\":\"closest\",\"hoverlabel\":{\"align\":\"left\"},\"paper_bgcolor\":\"white\",\"plot_bgcolor\":\"#E5ECF6\",\"polar\":{\"bgcolor\":\"#E5ECF6\",\"angularaxis\":{\"gridcolor\":\"white\",\"linecolor\":\"white\",\"ticks\":\"\"},\"radialaxis\":{\"gridcolor\":\"white\",\"linecolor\":\"white\",\"ticks\":\"\"}},\"ternary\":{\"bgcolor\":\"#E5ECF6\",\"aaxis\":{\"gridcolor\":\"white\",\"linecolor\":\"white\",\"ticks\":\"\"},\"baxis\":{\"gridcolor\":\"white\",\"linecolor\":\"white\",\"ticks\":\"\"},\"caxis\":{\"gridcolor\":\"white\",\"linecolor\":\"white\",\"ticks\":\"\"}},\"coloraxis\":{\"colorbar\":{\"outlinewidth\":0,\"ticks\":\"\"}},\"colorscale\":{\"sequential\":[[0.0,\"#0d0887\"],[0.1111111111111111,\"#46039f\"],[0.2222222222222222,\"#7201a8\"],[0.3333333333333333,\"#9c179e\"],[0.4444444444444444,\"#bd3786\"],[0.5555555555555556,\"#d8576b\"],[0.6666666666666666,\"#ed7953\"],[0.7777777777777778,\"#fb9f3a\"],[0.8888888888888888,\"#fdca26\"],[1.0,\"#f0f921\"]],\"sequentialminus\":[[0.0,\"#0d0887\"],[0.1111111111111111,\"#46039f\"],[0.2222222222222222,\"#7201a8\"],[0.3333333333333333,\"#9c179e\"],[0.4444444444444444,\"#bd3786\"],[0.5555555555555556,\"#d8576b\"],[0.6666666666666666,\"#ed7953\"],[0.7777777777777778,\"#fb9f3a\"],[0.8888888888888888,\"#fdca26\"],[1.0,\"#f0f921\"]],\"diverging\":[[0,\"#8e0152\"],[0.1,\"#c51b7d\"],[0.2,\"#de77ae\"],[0.3,\"#f1b6da\"],[0.4,\"#fde0ef\"],[0.5,\"#f7f7f7\"],[0.6,\"#e6f5d0\"],[0.7,\"#b8e186\"],[0.8,\"#7fbc41\"],[0.9,\"#4d9221\"],[1,\"#276419\"]]},\"xaxis\":{\"gridcolor\":\"white\",\"linecolor\":\"white\",\"ticks\":\"\",\"title\":{\"standoff\":15},\"zerolinecolor\":\"white\",\"automargin\":true,\"zerolinewidth\":2},\"yaxis\":{\"gridcolor\":\"white\",\"linecolor\":\"white\",\"ticks\":\"\",\"title\":{\"standoff\":15},\"zerolinecolor\":\"white\",\"automargin\":true,\"zerolinewidth\":2},\"scene\":{\"xaxis\":{\"backgroundcolor\":\"#E5ECF6\",\"gridcolor\":\"white\",\"linecolor\":\"white\",\"showbackground\":true,\"ticks\":\"\",\"zerolinecolor\":\"white\",\"gridwidth\":2},\"yaxis\":{\"backgroundcolor\":\"#E5ECF6\",\"gridcolor\":\"white\",\"linecolor\":\"white\",\"showbackground\":true,\"ticks\":\"\",\"zerolinecolor\":\"white\",\"gridwidth\":2},\"zaxis\":{\"backgroundcolor\":\"#E5ECF6\",\"gridcolor\":\"white\",\"linecolor\":\"white\",\"showbackground\":true,\"ticks\":\"\",\"zerolinecolor\":\"white\",\"gridwidth\":2}},\"shapedefaults\":{\"line\":{\"color\":\"#2a3f5f\"}},\"annotationdefaults\":{\"arrowcolor\":\"#2a3f5f\",\"arrowhead\":0,\"arrowwidth\":1},\"geo\":{\"bgcolor\":\"white\",\"landcolor\":\"#E5ECF6\",\"subunitcolor\":\"white\",\"showland\":true,\"showlakes\":true,\"lakecolor\":\"white\"},\"title\":{\"x\":0.05},\"mapbox\":{\"style\":\"light\"}}},\"xaxis\":{\"anchor\":\"y\",\"domain\":[0.0,0.45],\"tickangle\":90},\"yaxis\":{\"anchor\":\"x\",\"domain\":[0.0,1.0]},\"xaxis2\":{\"anchor\":\"y2\",\"domain\":[0.55,1.0],\"tickangle\":90},\"yaxis2\":{\"anchor\":\"x2\",\"domain\":[0.0,1.0]},\"title\":{\"text\":\"Ratigin Per Each Show Type\"},\"height\":500,\"width\":700},                        {\"responsive\": true}                    ).then(function(){\n",
       "                            \n",
       "var gd = document.getElementById('4fe60b67-98c8-4b6d-89e9-1d7f3da2b6c6');\n",
       "var x = new MutationObserver(function (mutations, observer) {{\n",
       "        var display = window.getComputedStyle(gd).display;\n",
       "        if (!display || display === 'none') {{\n",
       "            console.log([gd, 'removed!']);\n",
       "            Plotly.purge(gd);\n",
       "            observer.disconnect();\n",
       "        }}\n",
       "}});\n",
       "\n",
       "// Listen for the removal of the full notebook cells\n",
       "var notebookContainer = gd.closest('#notebook-container');\n",
       "if (notebookContainer) {{\n",
       "    x.observe(notebookContainer, {childList: true});\n",
       "}}\n",
       "\n",
       "// Listen for the clearing of the current output cell\n",
       "var outputEl = gd.closest('.output');\n",
       "if (outputEl) {{\n",
       "    x.observe(outputEl, {childList: true});\n",
       "}}\n",
       "\n",
       "                        })                };                            </script>        </div>\n",
       "</body>\n",
       "</html>"
      ]
     },
     "metadata": {},
     "output_type": "display_data"
    }
   ],
   "source": [
    "movies = netflix.loc[netflix['type']=='Movie', 'rating'].value_counts() \n",
    "tv_show = netflix.loc[netflix['type']=='TV Show', 'rating'].value_counts() \n",
    "\n",
    "movie_bar = go.Bar(x = movies.index, y = movies, name = 'Movie')\n",
    "tv_show_bar = go.Bar(x = tv_show.index, y = tv_show, name = 'TV_Show') \n",
    "\n",
    "fig = make_subplots(rows=1, cols=2, shared_yaxes = False)  \n",
    "\n",
    "fig.add_trace(movie_bar, row=1, col=1)  \n",
    "fig.add_trace(tv_show_bar, row=1, col=2) \n",
    "\n",
    "fig.update_layout(height = 500, width = 700, title_text = 'Ratigin Per Each Show Type')\n",
    "fig.update_xaxes(tickangle = 90)\n",
    "\n",
    "fig"
   ]
  },
  {
   "cell_type": "code",
   "execution_count": null,
   "id": "e6ec3ed8",
   "metadata": {
    "papermill": {
     "duration": 0.013514,
     "end_time": "2025-03-13T10:25:55.795199",
     "exception": false,
     "start_time": "2025-03-13T10:25:55.781685",
     "status": "completed"
    },
    "tags": []
   },
   "outputs": [],
   "source": []
  }
 ],
 "metadata": {
  "kaggle": {
   "accelerator": "none",
   "dataSources": [
    {
     "datasetId": 6833044,
     "sourceId": 10980115,
     "sourceType": "datasetVersion"
    }
   ],
   "dockerImageVersionId": 30918,
   "isGpuEnabled": false,
   "isInternetEnabled": true,
   "language": "python",
   "sourceType": "notebook"
  },
  "kernelspec": {
   "display_name": "Python 3",
   "language": "python",
   "name": "python3"
  },
  "language_info": {
   "codemirror_mode": {
    "name": "ipython",
    "version": 3
   },
   "file_extension": ".py",
   "mimetype": "text/x-python",
   "name": "python",
   "nbconvert_exporter": "python",
   "pygments_lexer": "ipython3",
   "version": "3.10.12"
  },
  "papermill": {
   "default_parameters": {},
   "duration": 9.848371,
   "end_time": "2025-03-13T10:25:56.527450",
   "environment_variables": {},
   "exception": null,
   "input_path": "__notebook__.ipynb",
   "output_path": "__notebook__.ipynb",
   "parameters": {},
   "start_time": "2025-03-13T10:25:46.679079",
   "version": "2.6.0"
  }
 },
 "nbformat": 4,
 "nbformat_minor": 5
}
